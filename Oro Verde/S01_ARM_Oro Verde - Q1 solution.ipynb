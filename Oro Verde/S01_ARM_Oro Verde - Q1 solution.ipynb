{
 "cells": [
  {
   "cell_type": "markdown",
   "metadata": {},
   "source": [
    "## \"Oro Verde\" Carbon Offset Project\n",
    "This notebook implements a solution to Q1 for the Oro Verde mini-case. The notebook assumes that you are familiar with the Oro Verde case and have understood the basic questions."
   ]
  },
  {
   "cell_type": "markdown",
   "metadata": {},
   "source": [
    "### Import any relevant Python packages"
   ]
  },
  {
   "cell_type": "code",
   "execution_count": 1,
   "metadata": {},
   "outputs": [],
   "source": [
    "# import the pandas package for reading data files\n",
    "import pandas as pd"
   ]
  },
  {
   "cell_type": "markdown",
   "metadata": {},
   "source": [
    "### Read & store the problem parameters / data"
   ]
  },
  {
   "cell_type": "code",
   "execution_count": 2,
   "metadata": {
    "scrolled": false
   },
   "outputs": [
    {
     "data": {
      "text/html": [
       "<div>\n",
       "<style scoped>\n",
       "    .dataframe tbody tr th:only-of-type {\n",
       "        vertical-align: middle;\n",
       "    }\n",
       "\n",
       "    .dataframe tbody tr th {\n",
       "        vertical-align: top;\n",
       "    }\n",
       "\n",
       "    .dataframe thead th {\n",
       "        text-align: right;\n",
       "    }\n",
       "</style>\n",
       "<table border=\"1\" class=\"dataframe\">\n",
       "  <thead>\n",
       "    <tr style=\"text-align: right;\">\n",
       "      <th></th>\n",
       "      <th>SequestrationRate</th>\n",
       "      <th>WaterRequirement</th>\n",
       "      <th>Width</th>\n",
       "      <th>SurvivalRate</th>\n",
       "      <th>SeedlingCost</th>\n",
       "      <th>SeedlingsAvailable</th>\n",
       "    </tr>\n",
       "    <tr>\n",
       "      <th>TreeType</th>\n",
       "      <th></th>\n",
       "      <th></th>\n",
       "      <th></th>\n",
       "      <th></th>\n",
       "      <th></th>\n",
       "      <th></th>\n",
       "    </tr>\n",
       "  </thead>\n",
       "  <tbody>\n",
       "    <tr>\n",
       "      <td>Maple</td>\n",
       "      <td>4.3</td>\n",
       "      <td>76</td>\n",
       "      <td>130</td>\n",
       "      <td>0.7</td>\n",
       "      <td>5.4</td>\n",
       "      <td>1000</td>\n",
       "    </tr>\n",
       "    <tr>\n",
       "      <td>Elm</td>\n",
       "      <td>3.7</td>\n",
       "      <td>48</td>\n",
       "      <td>3600</td>\n",
       "      <td>0.6</td>\n",
       "      <td>3.2</td>\n",
       "      <td>500</td>\n",
       "    </tr>\n",
       "    <tr>\n",
       "      <td>Spruce</td>\n",
       "      <td>2.8</td>\n",
       "      <td>34</td>\n",
       "      <td>400</td>\n",
       "      <td>0.8</td>\n",
       "      <td>4.5</td>\n",
       "      <td>1500</td>\n",
       "    </tr>\n",
       "  </tbody>\n",
       "</table>\n",
       "</div>"
      ],
      "text/plain": [
       "          SequestrationRate  WaterRequirement  Width  SurvivalRate  \\\n",
       "TreeType                                                             \n",
       "Maple                   4.3                76    130           0.7   \n",
       "Elm                     3.7                48   3600           0.6   \n",
       "Spruce                  2.8                34    400           0.8   \n",
       "\n",
       "          SeedlingCost  SeedlingsAvailable  \n",
       "TreeType                                    \n",
       "Maple              5.4                1000  \n",
       "Elm                3.2                 500  \n",
       "Spruce             4.5                1500  "
      ]
     },
     "execution_count": 2,
     "metadata": {},
     "output_type": "execute_result"
    }
   ],
   "source": [
    "land_avail = 150000              # available land area (in square feet)\n",
    "water_avail = 50000              # available water (in gallons)\n",
    "annual_seq_commit = 1800              # annual sequestration commitment\n",
    "min_elms = 15   # minimum requirement on elm trees\n",
    "\n",
    "# Use the _pandas_ module to create a data frame called \"mydata\" by reading the sheet called \"Data\" from an Excel file\n",
    "mydata = pd.read_excel(\"S01_ARM_Oro_Verde_data.xlsx\", sheet_name = \"Data\", index_col = 0) \n",
    "\n",
    "# print out the data frame to have a quick look\n",
    "mydata"
   ]
  },
  {
   "cell_type": "markdown",
   "metadata": {},
   "source": [
    "#### The proper way to use the Pandas data-frame is to use two indices: the first for the column, and the second for the row"
   ]
  },
  {
   "cell_type": "code",
   "execution_count": 3,
   "metadata": {
    "scrolled": true
   },
   "outputs": [
    {
     "data": {
      "text/plain": [
       "3.7"
      ]
     },
     "execution_count": 3,
     "metadata": {},
     "output_type": "execute_result"
    }
   ],
   "source": [
    "# For instance, to obtain access to the sequestration rate for Elm\n",
    "mydata[\"SequestrationRate\"][\"Elm\"]"
   ]
  },
  {
   "cell_type": "code",
   "execution_count": 4,
   "metadata": {
    "scrolled": true
   },
   "outputs": [
    {
     "name": "stdout",
     "output_type": "stream",
     "text": [
      "['Maple', 'Elm', 'Spruce']\n"
     ]
    }
   ],
   "source": [
    "# create a list with all the types of trees (this will be very useful for creating our decision variables)\n",
    "tree_types = list(mydata.index)\n",
    "\n",
    "print(tree_types)"
   ]
  },
  {
   "cell_type": "code",
   "execution_count": 5,
   "metadata": {},
   "outputs": [
    {
     "name": "stdout",
     "output_type": "stream",
     "text": [
      "{'Maple': 500, 'Elm': 500, 'Spruce': 500}\n"
     ]
    }
   ],
   "source": [
    "# create a dictionary that store how many trees of each type are planted\n",
    "trees_to_plant = {}\n",
    "for t in tree_types:\n",
    "    trees_to_plant[t] = 500   # in Q1, we are planting 500 of each type\n",
    "    \n",
    "\n",
    "# print this dictionary to visualize it    \n",
    "print(trees_to_plant)"
   ]
  },
  {
   "cell_type": "markdown",
   "metadata": {},
   "source": [
    "# Calculate the relevant quantities\n",
    "\n",
    "### Total Cost"
   ]
  },
  {
   "cell_type": "code",
   "execution_count": 6,
   "metadata": {
    "scrolled": true
   },
   "outputs": [
    {
     "name": "stdout",
     "output_type": "stream",
     "text": [
      "Total cost: 6550.00 ($)\n"
     ]
    }
   ],
   "source": [
    "cost = sum(trees_to_plant[t] * mydata[\"SeedlingCost\"][t] for t in tree_types)\n",
    "\n",
    "print(\"Total cost: %.2f ($)\" %cost)"
   ]
  },
  {
   "cell_type": "markdown",
   "metadata": {},
   "source": [
    "### Total Water Required"
   ]
  },
  {
   "cell_type": "code",
   "execution_count": 7,
   "metadata": {},
   "outputs": [
    {
     "name": "stdout",
     "output_type": "stream",
     "text": [
      "Water required: 79000.00 (gallons)\n"
     ]
    }
   ],
   "source": [
    "water_req = sum(trees_to_plant[t] * mydata[\"WaterRequirement\"][t] for t in tree_types)\n",
    "\n",
    "print(\"Water required: %.2f (gallons)\" % water_req)"
   ]
  },
  {
   "cell_type": "markdown",
   "metadata": {},
   "source": [
    "### Total Land Required"
   ]
  },
  {
   "cell_type": "code",
   "execution_count": 8,
   "metadata": {},
   "outputs": [
    {
     "name": "stdout",
     "output_type": "stream",
     "text": [
      "Land required: 2065000.00 (square feet)\n"
     ]
    }
   ],
   "source": [
    "land_req = sum(trees_to_plant[t] * mydata[\"Width\"][t] for t in tree_types)\n",
    "\n",
    "print(\"Land required: %.2f (square feet)\" %land_req)"
   ]
  },
  {
   "cell_type": "markdown",
   "metadata": {},
   "source": [
    "### Total Carbon Sequestration in 10 Years"
   ]
  },
  {
   "cell_type": "code",
   "execution_count": 9,
   "metadata": {},
   "outputs": [
    {
     "name": "stdout",
     "output_type": "stream",
     "text": [
      "Total Sequestration: 3735.00 (pounds CO2)\n"
     ]
    }
   ],
   "source": [
    "total_seq = sum(trees_to_plant[t] * mydata[\"SurvivalRate\"][t] * mydata[\"SequestrationRate\"][t] for t in tree_types)\n",
    "\n",
    "print(\"Total Sequestration: %.2f (pounds CO2)\" %total_seq)"
   ]
  },
  {
   "cell_type": "code",
   "execution_count": null,
   "metadata": {},
   "outputs": [],
   "source": []
  }
 ],
 "metadata": {
  "kernelspec": {
   "display_name": "Python 3",
   "language": "python",
   "name": "python3"
  },
  "language_info": {
   "codemirror_mode": {
    "name": "ipython",
    "version": 3
   },
   "file_extension": ".py",
   "mimetype": "text/x-python",
   "name": "python",
   "nbconvert_exporter": "python",
   "pygments_lexer": "ipython3",
   "version": "3.7.4"
  }
 },
 "nbformat": 4,
 "nbformat_minor": 2
}
