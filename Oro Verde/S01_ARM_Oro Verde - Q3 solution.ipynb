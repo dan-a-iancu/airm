{
 "cells": [
  {
   "cell_type": "markdown",
   "metadata": {},
   "source": [
    "## \"Oro Verde\" Carbon Offset Project\n",
    "This notebook implements a compact solution to Q3 for the Oro Verde mini-case. The notebook assumes that you are  familiar with the Oro Verde case and have understood the basic optimization model."
   ]
  },
  {
   "cell_type": "markdown",
   "metadata": {},
   "source": [
    "### Import any relevant Python packages"
   ]
  },
  {
   "cell_type": "code",
   "execution_count": 1,
   "metadata": {},
   "outputs": [],
   "source": [
    "# import the entire Gurobi package (used for linear optimization)\n",
    "from gurobipy import *\n",
    "\n",
    "# import the pandas package for reading data files\n",
    "import pandas as pd"
   ]
  },
  {
   "cell_type": "markdown",
   "metadata": {},
   "source": [
    "### Read & store the problem parameters / data"
   ]
  },
  {
   "cell_type": "code",
   "execution_count": 2,
   "metadata": {
    "scrolled": true
   },
   "outputs": [
    {
     "data": {
      "text/html": [
       "<div>\n",
       "<style scoped>\n",
       "    .dataframe tbody tr th:only-of-type {\n",
       "        vertical-align: middle;\n",
       "    }\n",
       "\n",
       "    .dataframe tbody tr th {\n",
       "        vertical-align: top;\n",
       "    }\n",
       "\n",
       "    .dataframe thead th {\n",
       "        text-align: right;\n",
       "    }\n",
       "</style>\n",
       "<table border=\"1\" class=\"dataframe\">\n",
       "  <thead>\n",
       "    <tr style=\"text-align: right;\">\n",
       "      <th></th>\n",
       "      <th>SequestrationRate</th>\n",
       "      <th>WaterRequirement</th>\n",
       "      <th>Width</th>\n",
       "      <th>SurvivalRate</th>\n",
       "      <th>SeedlingCost</th>\n",
       "      <th>SeedlingsAvailable</th>\n",
       "    </tr>\n",
       "    <tr>\n",
       "      <th>TreeType</th>\n",
       "      <th></th>\n",
       "      <th></th>\n",
       "      <th></th>\n",
       "      <th></th>\n",
       "      <th></th>\n",
       "      <th></th>\n",
       "    </tr>\n",
       "  </thead>\n",
       "  <tbody>\n",
       "    <tr>\n",
       "      <td>Maple</td>\n",
       "      <td>4.3</td>\n",
       "      <td>76</td>\n",
       "      <td>130</td>\n",
       "      <td>0.7</td>\n",
       "      <td>5.4</td>\n",
       "      <td>1000</td>\n",
       "    </tr>\n",
       "    <tr>\n",
       "      <td>Elm</td>\n",
       "      <td>3.7</td>\n",
       "      <td>48</td>\n",
       "      <td>3600</td>\n",
       "      <td>0.6</td>\n",
       "      <td>3.2</td>\n",
       "      <td>500</td>\n",
       "    </tr>\n",
       "    <tr>\n",
       "      <td>Spruce</td>\n",
       "      <td>2.8</td>\n",
       "      <td>34</td>\n",
       "      <td>400</td>\n",
       "      <td>0.8</td>\n",
       "      <td>4.5</td>\n",
       "      <td>1500</td>\n",
       "    </tr>\n",
       "  </tbody>\n",
       "</table>\n",
       "</div>"
      ],
      "text/plain": [
       "          SequestrationRate  WaterRequirement  Width  SurvivalRate  \\\n",
       "TreeType                                                             \n",
       "Maple                   4.3                76    130           0.7   \n",
       "Elm                     3.7                48   3600           0.6   \n",
       "Spruce                  2.8                34    400           0.8   \n",
       "\n",
       "          SeedlingCost  SeedlingsAvailable  \n",
       "TreeType                                    \n",
       "Maple              5.4                1000  \n",
       "Elm                3.2                 500  \n",
       "Spruce             4.5                1500  "
      ]
     },
     "execution_count": 2,
     "metadata": {},
     "output_type": "execute_result"
    }
   ],
   "source": [
    "land_avail = 150000              # available land area (in square feet)\n",
    "water_avail = 50000              # available water (in gallons)\n",
    "annual_seq_commit = 1800              # annual sequestration commitment\n",
    "min_elms = 15   # minimum requirement on elm trees\n",
    "\n",
    "# Use the _pandas_ module to create a data frame called \"mydata\" by reading the sheet called \"Data\" from an Excel file\n",
    "mydata = pd.read_excel(\"S01_ARM_Oro_Verde_data.xlsx\", sheet_name = \"Data\", index_col = 0) \n",
    "\n",
    "# print out the data frame to have a quick look\n",
    "mydata"
   ]
  },
  {
   "cell_type": "code",
   "execution_count": 3,
   "metadata": {},
   "outputs": [
    {
     "name": "stdout",
     "output_type": "stream",
     "text": [
      "['Maple', 'Elm', 'Spruce']\n"
     ]
    }
   ],
   "source": [
    "# create a list with all the types of trees (this will be very useful for creating our decision variables)\n",
    "tree_types = list(mydata.index)\n",
    "\n",
    "print(tree_types)"
   ]
  },
  {
   "cell_type": "markdown",
   "metadata": {},
   "source": [
    "# Set up the Optimization Model\n",
    "### Create empty Gurobi model"
   ]
  },
  {
   "cell_type": "code",
   "execution_count": 4,
   "metadata": {
    "scrolled": true
   },
   "outputs": [
    {
     "name": "stdout",
     "output_type": "stream",
     "text": [
      "Using license file /Users/daniancu/gurobi.lic\n",
      "Academic license - for non-commercial use only\n"
     ]
    }
   ],
   "source": [
    "mymodel = Model(\"Oro Verde Tree Planting Model\")"
   ]
  },
  {
   "cell_type": "markdown",
   "metadata": {},
   "source": [
    "### Create and add decision variables into the model"
   ]
  },
  {
   "cell_type": "code",
   "execution_count": 5,
   "metadata": {},
   "outputs": [],
   "source": [
    "trees_to_plant = mymodel.addVars(tree_types)"
   ]
  },
  {
   "cell_type": "markdown",
   "metadata": {},
   "source": [
    "### Formulate and add the objective to the model"
   ]
  },
  {
   "cell_type": "code",
   "execution_count": 6,
   "metadata": {},
   "outputs": [],
   "source": [
    "# set the objective in the Gurobi model\n",
    "mymodel.setObjective( quicksum( trees_to_plant[t] * mydata[\"SeedlingCost\"][t] for t in tree_types), GRB.MINIMIZE)"
   ]
  },
  {
   "cell_type": "markdown",
   "metadata": {},
   "source": [
    "### Formulate and add the constraints"
   ]
  },
  {
   "cell_type": "code",
   "execution_count": 7,
   "metadata": {},
   "outputs": [],
   "source": [
    "# water availability\n",
    "mymodel.addConstr( quicksum( trees_to_plant[t] * mydata[\"WaterRequirement\"][t] for t in tree_types) <= water_avail )\n",
    "\n",
    "# land availability\n",
    "mymodel.addConstr( quicksum( trees_to_plant[t] * mydata[\"Width\"][t] for t in tree_types) <= land_avail )\n",
    "\n",
    "# carbon sequestration commitment\n",
    "mymodel.addConstr( quicksum( trees_to_plant[t] * mydata[\"SurvivalRate\"][t] * mydata[\"SequestrationRate\"][t] \\\n",
    "             for t in tree_types ) >= annual_seq_commit )\n",
    "\n",
    "# minimum elm trees\n",
    "mymodel.addConstr( trees_to_plant[\"Elm\"] >= min_elms )\n",
    "\n",
    "# seedling availability for each tree type\n",
    "for t in tree_types :\n",
    "    mymodel.addConstr( trees_to_plant[t] <= mydata[\"SeedlingsAvailable\"][t] )"
   ]
  },
  {
   "cell_type": "markdown",
   "metadata": {},
   "source": [
    "### Solve/optimize the model"
   ]
  },
  {
   "cell_type": "code",
   "execution_count": 8,
   "metadata": {},
   "outputs": [
    {
     "name": "stdout",
     "output_type": "stream",
     "text": [
      "Gurobi Optimizer version 9.0.1 build v9.0.1rc0 (mac64)\n",
      "Optimize a model with 7 rows, 3 columns and 13 nonzeros\n",
      "Model fingerprint: 0xd6e51bd9\n",
      "Coefficient statistics:\n",
      "  Matrix range     [1e+00, 4e+03]\n",
      "  Objective range  [3e+00, 5e+00]\n",
      "  Bounds range     [0e+00, 0e+00]\n",
      "  RHS range        [2e+01, 2e+05]\n",
      "Presolve removed 4 rows and 0 columns\n",
      "Presolve time: 0.01s\n",
      "Presolved: 3 rows, 3 columns, 9 nonzeros\n",
      "\n",
      "Iteration    Objective       Primal Inf.    Dual Inf.      Time\n",
      "       0    3.1965890e+03   1.154615e+03   0.000000e+00      0s\n",
      "       1    3.2130952e+03   0.000000e+00   0.000000e+00      0s\n",
      "\n",
      "Solved in 1 iterations and 0.01 seconds\n",
      "Optimal objective  3.213095170e+03\n"
     ]
    }
   ],
   "source": [
    "mymodel.optimize()"
   ]
  },
  {
   "cell_type": "markdown",
   "metadata": {},
   "source": [
    "# Extract the optimized results"
   ]
  },
  {
   "cell_type": "code",
   "execution_count": 9,
   "metadata": {},
   "outputs": [
    {
     "name": "stdout",
     "output_type": "stream",
     "text": [
      "Optimal cost is: 3213.095\n"
     ]
    }
   ],
   "source": [
    "# print the value of the objective\n",
    "print(\"Optimal cost is: %.3f\"  % mymodel.objVal)"
   ]
  },
  {
   "cell_type": "code",
   "execution_count": 10,
   "metadata": {},
   "outputs": [
    {
     "name": "stdout",
     "output_type": "stream",
     "text": [
      "Optimal solution is to plant:\n",
      "     Maple : 582.798\n",
      "       Elm : 20.621\n",
      "    Spruce : 0.000\n"
     ]
    }
   ],
   "source": [
    "# print solution with a for loop\n",
    "print(\"Optimal solution is to plant:\")\n",
    "for t in tree_types :\n",
    "    print( \"%10s : %5.3f\" % ( t, trees_to_plant[t].X ) )"
   ]
  }
 ],
 "metadata": {
  "kernelspec": {
   "display_name": "Python 3",
   "language": "python",
   "name": "python3"
  },
  "language_info": {
   "codemirror_mode": {
    "name": "ipython",
    "version": 3
   },
   "file_extension": ".py",
   "mimetype": "text/x-python",
   "name": "python",
   "nbconvert_exporter": "python",
   "pygments_lexer": "ipython3",
   "version": "3.7.4"
  }
 },
 "nbformat": 4,
 "nbformat_minor": 2
}
