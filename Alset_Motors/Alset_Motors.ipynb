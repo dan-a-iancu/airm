{
  "nbformat": 4,
  "nbformat_minor": 0,
  "metadata": {
    "kernelspec": {
      "display_name": "Python 3",
      "language": "python",
      "name": "python3"
    },
    "language_info": {
      "codemirror_mode": {
        "name": "ipython",
        "version": 3
      },
      "file_extension": ".py",
      "mimetype": "text/x-python",
      "name": "python",
      "nbconvert_exporter": "python",
      "pygments_lexer": "ipython3",
      "version": "3.6.5"
    },
    "colab": {
      "name": "Alset Motors.ipynb",
      "provenance": [],
      "collapsed_sections": [
        "vb4A3Z6sy5J_",
        "8yhR3xIVyJ13",
        "z1Fz9Viqj3Oz",
        "QbmO9_Taj3PH",
        "Q2T_Zf2nj3PI",
        "dMLkUyKMj3PV",
        "z9kO1tqvj3Pc",
        "IjtI8X9dj3Pl",
        "3UvnyEhh5yN_",
        "qu1eJhBgB7aM",
        "4TE_yA_h6WVj",
        "UETm_Y0UXHOu",
        "brQMsNVQI1UL",
        "K54B1RCKJGgg",
        "iQb5--TYPjQb",
        "Az_LaNS0OB5M",
        "GFjmgL2USxFZ",
        "COr-JnadUSNd",
        "qNjGwuecYk6X",
        "ESrQ0be6pb83"
      ],
      "include_colab_link": true
    }
  },
  "cells": [
    {
      "cell_type": "markdown",
      "metadata": {
        "id": "view-in-github",
        "colab_type": "text"
      },
      "source": [
        "<a href=\"https://colab.research.google.com/github/dan-a-iancu/airm/blob/master/Alset_Motors/Alset_Motors.ipynb\" target=\"_parent\"><img src=\"https://colab.research.google.com/assets/colab-badge.svg\" alt=\"Open In Colab\"/></a>"
      ]
    },
    {
      "cell_type": "markdown",
      "metadata": {
        "id": "7VtkH-sn3oBT"
      },
      "source": [
        "This notebook implements the solution to the **Alset Motors** mini-case. It assumes you are familiar with the case and the model."
      ]
    },
    {
      "cell_type": "markdown",
      "metadata": {
        "id": "vb4A3Z6sy5J_"
      },
      "source": [
        "____\r\n",
        "# Basic Setup\r\n",
        "\r\n",
        "Import useful modules, read the data and store it in data frames, and set up some useful Python lists. You may want to expand this section and make sure you understand how the data is organized, and also read the last part where the Python lists are created, as these may be very useful when you build your model."
      ]
    },
    {
      "cell_type": "code",
      "metadata": {
        "colab": {
          "base_uri": "https://localhost:8080/"
        },
        "id": "WcFPypqhXbcv",
        "cellView": "form",
        "outputId": "a273b11e-4b2b-481b-885c-f06da49a6d7b"
      },
      "source": [
        "#@markdown We first import some useful modules. \n",
        "\n",
        "# Python ≥3.5 is required\n",
        "import sys\n",
        "assert sys.version_info >= (3, 5)\n",
        "\n",
        "# import numpy\n",
        "import numpy as np\n",
        "import urllib.request  # for file downloading\n",
        "\n",
        "# Import pandas for data-frames\n",
        "import pandas as pd\n",
        "pd.options.display.max_rows = 15\n",
        "pd.options.display.float_format = \"{:,.2f}\".format\n",
        "\n",
        "from IPython.display import display\n",
        "\n",
        "# Make sure Matplotlib runs inline, for nice figures\n",
        "%matplotlib inline\n",
        "import matplotlib as mpl\n",
        "import matplotlib.pyplot as plt\n",
        "mpl.rc('axes', labelsize=14)\n",
        "mpl.rc('xtick', labelsize=12)\n",
        "mpl.rc('ytick', labelsize=12)\n",
        "import matplotlib.ticker as ticker \n",
        "\n",
        "# install Gurobi (our linear optimization solver)\n",
        "!pip install -i https://pypi.gurobi.com gurobipy\n",
        "from gurobipy import *\n",
        "\n",
        "# some modules to create local directories for CBC (to avoid issues with solving multiple models)\n",
        "import os\n",
        "def new_local_directory(name):\n",
        "    full_path = os.path.join(\".\", name)\n",
        "    os.makedirs(full_path, exist_ok=True)\n",
        "    return full_path\n",
        "\n",
        "# install the latest version of seaborn for nicer graphics\n",
        "#!pip install --prefix {sys.prefix} seaborn==0.11.0  &> /dev/null\n",
        "import seaborn as sns\n",
        "\n",
        "# Ignore useless some warnings\n",
        "import warnings\n",
        "warnings.simplefilter(action=\"ignore\")\n",
        "\n",
        "print(\"Completed successfully!\")"
      ],
      "execution_count": null,
      "outputs": [
        {
          "output_type": "stream",
          "text": [
            "Looking in indexes: https://pypi.gurobi.com\n",
            "Requirement already satisfied: gurobipy in /usr/local/lib/python3.7/dist-packages (9.1.1)\n",
            "Completed successfully!\n"
          ],
          "name": "stdout"
        }
      ]
    },
    {
      "cell_type": "markdown",
      "metadata": {
        "id": "Aqf-EBXAAgn1"
      },
      "source": [
        "## Load the case data into Pandas data frames"
      ]
    },
    {
      "cell_type": "markdown",
      "metadata": {
        "id": "17bUiOG3EYfu"
      },
      "source": [
        "We first download an Excel file with all the data from Github."
      ]
    },
    {
      "cell_type": "code",
      "metadata": {
        "colab": {
          "base_uri": "https://localhost:8080/"
        },
        "id": "oO9JJFpMEX8K",
        "cellView": "form",
        "outputId": "d0fe3c24-01c5-44a5-f913-897711bbcccf"
      },
      "source": [
        "#@markdown Download the entire data as an Excel file from Github\n",
        "\n",
        "url_Excel = 'https://raw.githubusercontent.com/dan-a-iancu/airm/master/Alset_Motors/Alset_Motors_Data.xlsx?raw=true'\n",
        "local_file = \"Alset_Motors_Data.xlsx\"   # name of local file where you want to store the downloaded file\n",
        "urllib.request.urlretrieve(url_Excel, local_file)    # download from website and save it locally"
      ],
      "execution_count": null,
      "outputs": [
        {
          "output_type": "execute_result",
          "data": {
            "text/plain": [
              "('Alset_Motors_Data.xlsx', <http.client.HTTPMessage at 0x7f6e88dd3dd0>)"
            ]
          },
          "metadata": {
            "tags": []
          },
          "execution_count": 2
        }
      ]
    },
    {
      "cell_type": "markdown",
      "metadata": {
        "id": "nb7NvPyuyoGh"
      },
      "source": [
        "Read in and store the data in suitable dataframes."
      ]
    },
    {
      "cell_type": "code",
      "metadata": {
        "colab": {
          "base_uri": "https://localhost:8080/",
          "height": 621
        },
        "cellView": "form",
        "id": "EUxSwrdEyJDs",
        "outputId": "33febf17-d759-483b-edb9-3be02eeebad6"
      },
      "source": [
        "#@markdown Create dataframes based on the Excel file\r\n",
        "\r\n",
        "# data on factories (Table 1); \"index_col=0\" just assigns the first column as the row names of the data frame\r\n",
        "factoriesDF = pd.read_excel(\"Alset_Motors_Data.xlsx\", sheet_name = \"Factories\", index_col=0)\r\n",
        "display(factoriesDF)\r\n",
        "\r\n",
        "# costs from factories to customization centers (Table 2)\r\n",
        "costsFactoriesToCentersDF = pd.read_excel(\"Alset_Motors_Data.xlsx\", \\\r\n",
        "                                    sheet_name = \"Factories_to_Centers\", index_col=0) \r\n",
        "display(costsFactoriesToCentersDF)\r\n",
        "\r\n",
        "# customization center data (Table 3)\r\n",
        "customizationCentersDF = pd.read_excel(\"Alset_Motors_Data.xlsx\", sheet_name = \"Customization_Centers\", index_col=0)\r\n",
        "display(customizationCentersDF)\r\n",
        "\r\n",
        "# customer pre-order data (Table 4)\r\n",
        "retailersDF = pd.read_excel(\"Alset_Motors_Data.xlsx\", sheet_name = \"Retailer_Preorders\", index_col=0)\r\n",
        "display(retailersDF)\r\n",
        "\r\n",
        "# costs from customization centers to clients (Table 5)\r\n",
        "costsCentersToRetailersDF = pd.read_excel(\"Alset_Motors_Data.xlsx\", \\\r\n",
        "                              sheet_name = \"Centers_to_Retailers\", index_col=0)\r\n",
        "display(costsCentersToRetailersDF)"
      ],
      "execution_count": null,
      "outputs": [
        {
          "output_type": "display_data",
          "data": {
            "text/html": [
              "<div>\n",
              "<style scoped>\n",
              "    .dataframe tbody tr th:only-of-type {\n",
              "        vertical-align: middle;\n",
              "    }\n",
              "\n",
              "    .dataframe tbody tr th {\n",
              "        vertical-align: top;\n",
              "    }\n",
              "\n",
              "    .dataframe thead th {\n",
              "        text-align: right;\n",
              "    }\n",
              "</style>\n",
              "<table border=\"1\" class=\"dataframe\">\n",
              "  <thead>\n",
              "    <tr style=\"text-align: right;\">\n",
              "      <th></th>\n",
              "      <th>Cost</th>\n",
              "      <th>Capacity</th>\n",
              "    </tr>\n",
              "    <tr>\n",
              "      <th>Factory</th>\n",
              "      <th></th>\n",
              "      <th></th>\n",
              "    </tr>\n",
              "  </thead>\n",
              "  <tbody>\n",
              "    <tr>\n",
              "      <th>Zuffe</th>\n",
              "      <td>54000</td>\n",
              "      <td>5000</td>\n",
              "    </tr>\n",
              "    <tr>\n",
              "      <th>Leip</th>\n",
              "      <td>58500</td>\n",
              "      <td>2000</td>\n",
              "    </tr>\n",
              "  </tbody>\n",
              "</table>\n",
              "</div>"
            ],
            "text/plain": [
              "          Cost  Capacity\n",
              "Factory                 \n",
              "Zuffe    54000      5000\n",
              "Leip     58500      2000"
            ]
          },
          "metadata": {
            "tags": []
          }
        },
        {
          "output_type": "display_data",
          "data": {
            "text/html": [
              "<div>\n",
              "<style scoped>\n",
              "    .dataframe tbody tr th:only-of-type {\n",
              "        vertical-align: middle;\n",
              "    }\n",
              "\n",
              "    .dataframe tbody tr th {\n",
              "        vertical-align: top;\n",
              "    }\n",
              "\n",
              "    .dataframe thead th {\n",
              "        text-align: right;\n",
              "    }\n",
              "</style>\n",
              "<table border=\"1\" class=\"dataframe\">\n",
              "  <thead>\n",
              "    <tr style=\"text-align: right;\">\n",
              "      <th></th>\n",
              "      <th>C1</th>\n",
              "      <th>C2</th>\n",
              "      <th>C3</th>\n",
              "    </tr>\n",
              "  </thead>\n",
              "  <tbody>\n",
              "    <tr>\n",
              "      <th>Zuffe</th>\n",
              "      <td>1000</td>\n",
              "      <td>2500</td>\n",
              "      <td>2000</td>\n",
              "    </tr>\n",
              "    <tr>\n",
              "      <th>Leip</th>\n",
              "      <td>2000</td>\n",
              "      <td>1500</td>\n",
              "      <td>1800</td>\n",
              "    </tr>\n",
              "  </tbody>\n",
              "</table>\n",
              "</div>"
            ],
            "text/plain": [
              "         C1    C2    C3\n",
              "Zuffe  1000  2500  2000\n",
              "Leip   2000  1500  1800"
            ]
          },
          "metadata": {
            "tags": []
          }
        },
        {
          "output_type": "display_data",
          "data": {
            "text/html": [
              "<div>\n",
              "<style scoped>\n",
              "    .dataframe tbody tr th:only-of-type {\n",
              "        vertical-align: middle;\n",
              "    }\n",
              "\n",
              "    .dataframe tbody tr th {\n",
              "        vertical-align: top;\n",
              "    }\n",
              "\n",
              "    .dataframe thead th {\n",
              "        text-align: right;\n",
              "    }\n",
              "</style>\n",
              "<table border=\"1\" class=\"dataframe\">\n",
              "  <thead>\n",
              "    <tr style=\"text-align: right;\">\n",
              "      <th></th>\n",
              "      <th>Staffing_Cost</th>\n",
              "      <th>Capacity</th>\n",
              "    </tr>\n",
              "  </thead>\n",
              "  <tbody>\n",
              "    <tr>\n",
              "      <th>C1</th>\n",
              "      <td>3000</td>\n",
              "      <td>2000</td>\n",
              "    </tr>\n",
              "    <tr>\n",
              "      <th>C2</th>\n",
              "      <td>6000</td>\n",
              "      <td>2200</td>\n",
              "    </tr>\n",
              "    <tr>\n",
              "      <th>C3</th>\n",
              "      <td>7500</td>\n",
              "      <td>3300</td>\n",
              "    </tr>\n",
              "  </tbody>\n",
              "</table>\n",
              "</div>"
            ],
            "text/plain": [
              "    Staffing_Cost  Capacity\n",
              "C1           3000      2000\n",
              "C2           6000      2200\n",
              "C3           7500      3300"
            ]
          },
          "metadata": {
            "tags": []
          }
        },
        {
          "output_type": "display_data",
          "data": {
            "text/html": [
              "<div>\n",
              "<style scoped>\n",
              "    .dataframe tbody tr th:only-of-type {\n",
              "        vertical-align: middle;\n",
              "    }\n",
              "\n",
              "    .dataframe tbody tr th {\n",
              "        vertical-align: top;\n",
              "    }\n",
              "\n",
              "    .dataframe thead th {\n",
              "        text-align: right;\n",
              "    }\n",
              "</style>\n",
              "<table border=\"1\" class=\"dataframe\">\n",
              "  <thead>\n",
              "    <tr style=\"text-align: right;\">\n",
              "      <th></th>\n",
              "      <th>Pre-orders</th>\n",
              "      <th>Price</th>\n",
              "    </tr>\n",
              "  </thead>\n",
              "  <tbody>\n",
              "    <tr>\n",
              "      <th>OO</th>\n",
              "      <td>5000</td>\n",
              "      <td>71000</td>\n",
              "    </tr>\n",
              "    <tr>\n",
              "      <th>FL</th>\n",
              "      <td>2500</td>\n",
              "      <td>74000</td>\n",
              "    </tr>\n",
              "    <tr>\n",
              "      <th>SH</th>\n",
              "      <td>1600</td>\n",
              "      <td>69000</td>\n",
              "    </tr>\n",
              "    <tr>\n",
              "      <th>WW</th>\n",
              "      <td>550</td>\n",
              "      <td>71000</td>\n",
              "    </tr>\n",
              "  </tbody>\n",
              "</table>\n",
              "</div>"
            ],
            "text/plain": [
              "    Pre-orders  Price\n",
              "OO        5000  71000\n",
              "FL        2500  74000\n",
              "SH        1600  69000\n",
              "WW         550  71000"
            ]
          },
          "metadata": {
            "tags": []
          }
        },
        {
          "output_type": "display_data",
          "data": {
            "text/html": [
              "<div>\n",
              "<style scoped>\n",
              "    .dataframe tbody tr th:only-of-type {\n",
              "        vertical-align: middle;\n",
              "    }\n",
              "\n",
              "    .dataframe tbody tr th {\n",
              "        vertical-align: top;\n",
              "    }\n",
              "\n",
              "    .dataframe thead th {\n",
              "        text-align: right;\n",
              "    }\n",
              "</style>\n",
              "<table border=\"1\" class=\"dataframe\">\n",
              "  <thead>\n",
              "    <tr style=\"text-align: right;\">\n",
              "      <th></th>\n",
              "      <th>OO</th>\n",
              "      <th>FL</th>\n",
              "      <th>SH</th>\n",
              "      <th>WW</th>\n",
              "    </tr>\n",
              "  </thead>\n",
              "  <tbody>\n",
              "    <tr>\n",
              "      <th>C1</th>\n",
              "      <td>4000</td>\n",
              "      <td>6000</td>\n",
              "      <td>3000</td>\n",
              "      <td>5000</td>\n",
              "    </tr>\n",
              "    <tr>\n",
              "      <th>C2</th>\n",
              "      <td>6000</td>\n",
              "      <td>6000</td>\n",
              "      <td>2000</td>\n",
              "      <td>4500</td>\n",
              "    </tr>\n",
              "    <tr>\n",
              "      <th>C3</th>\n",
              "      <td>4500</td>\n",
              "      <td>7000</td>\n",
              "      <td>6000</td>\n",
              "      <td>3000</td>\n",
              "    </tr>\n",
              "  </tbody>\n",
              "</table>\n",
              "</div>"
            ],
            "text/plain": [
              "      OO    FL    SH    WW\n",
              "C1  4000  6000  3000  5000\n",
              "C2  6000  6000  2000  4500\n",
              "C3  4500  7000  6000  3000"
            ]
          },
          "metadata": {
            "tags": []
          }
        }
      ]
    },
    {
      "cell_type": "markdown",
      "metadata": {
        "id": "8yhR3xIVyJ13"
      },
      "source": [
        "## Create Python lists based on the data-frames\r\n",
        "\r\n",
        "__NOTE__: Make sure you understand what the __lists__ created here are! These will be very helpful when creating the model."
      ]
    },
    {
      "cell_type": "code",
      "metadata": {
        "id": "oi5sktA8j3PF",
        "colab": {
          "base_uri": "https://localhost:8080/"
        },
        "cellView": "form",
        "outputId": "4c9508aa-6fdd-4f4c-c6a2-92593ca4ba07"
      },
      "source": [
        "#@markdown Create useful lists with the factories, centers, clients\n",
        "# Calculate some useful lists: the factories, the customization centers, the clients\n",
        "factories = list( factoriesDF.index )              # the list of factories\n",
        "centers = list( customizationCentersDF.index )     # the list of customization centers\n",
        "retailers = list( retailersDF.index )              # the list of retailers\n",
        "\n",
        "# Take a look at the lists\n",
        "print(\"The list of factories:\")\n",
        "print(factories)\n",
        "\n",
        "print(\"The list of centers:\")\n",
        "print(centers)\n",
        "\n",
        "print(\"The list of retail clients:\")\n",
        "print(retailers)"
      ],
      "execution_count": null,
      "outputs": [
        {
          "output_type": "stream",
          "text": [
            "The list of factories:\n",
            "['Zuffe', 'Leip']\n",
            "The list of centers:\n",
            "['C1', 'C2', 'C3']\n",
            "The list of retail clients:\n",
            "['OO', 'FL', 'SH', 'WW']\n"
          ],
          "name": "stdout"
        }
      ]
    },
    {
      "cell_type": "markdown",
      "metadata": {
        "id": "JWIygWXt2SNi"
      },
      "source": [
        "<font color=red>**IMPORTANT HINT.**</font> When defining your **decision variables** in this model, you may want to consider *matrices* (or grids) of decision variables instead of a simple list like we've created before. Specifically, you may want to add a decision variable for every pair of elements where the first element is from one list and the second element is from another list. \r\n",
        "\r\n",
        "When the decision variables are organized in a grid, it's significantly easier to use the ``addVars`` function to add all of the decision variables to the model at once. The function ``addVars`` can take as arguments several lists, e.g., `addVars(list1, list2, list3,...)`, in which case it will return one decision variable for every possible tuple of values. These decision variables will be stored as a dictionary, with the dictionary keys corresponding to the tuple of values. \r\n",
        "\r\n",
        "For instance, suppose `list1 = [\"Paris\", \"Budapest\", \"Beijing\"]` and `list2= [1,2]`. Then `myDecisions = addVars(list1,list2)` would return a dictionary containing one decision for every pair, i.e., (\"Paris\",1), (\"Paris\",2), (\"Budapest\",1), (\"Budapest\",2), etc. To access the decision corresponding to the pair (\"Paris\",1), we can simply use `myDecisions[(\"Paris\",1)]` or `myDecisions[\"Paris\",1]`."
      ]
    },
    {
      "cell_type": "markdown",
      "metadata": {
        "id": "z1Fz9Viqj3Oz"
      },
      "source": [
        "_____\n",
        "# **Q1**"
      ]
    },
    {
      "cell_type": "markdown",
      "metadata": {
        "id": "QbmO9_Taj3PH"
      },
      "source": [
        "##  Create an empty model"
      ]
    },
    {
      "cell_type": "code",
      "metadata": {
        "scrolled": true,
        "id": "PuwdY_79j3PI",
        "colab": {
          "base_uri": "https://localhost:8080/"
        },
        "outputId": "b13d86a7-eb06-48ff-fee5-ac208649713b"
      },
      "source": [
        "# Gurobi model\n",
        "AlsetModel = Model(\"Alset Motors Supply Chain Model\")"
      ],
      "execution_count": null,
      "outputs": [
        {
          "output_type": "stream",
          "text": [
            "Restricted license - for non-production use only - expires 2022-01-13\n"
          ],
          "name": "stdout"
        }
      ]
    },
    {
      "cell_type": "markdown",
      "metadata": {
        "id": "Q2T_Zf2nj3PI"
      },
      "source": [
        "## Define the Decision Variables\n",
        "In this problem, we would like to create a decision variable for every pair of (factory,center), and also for every pair of (center,client). This is done easily using Gurobi's ``addVars`` method."
      ]
    },
    {
      "cell_type": "code",
      "metadata": {
        "id": "BU14XQ9zj3PL",
        "colab": {
          "base_uri": "https://localhost:8080/"
        },
        "outputId": "b93d9639-8d39-4efb-dac8-35bec62d3409"
      },
      "source": [
        "# decision variables for how much to ship from each factory to each customization center\n",
        "factoriesToCenters = AlsetModel.addVars( factories, centers , name = \"Ship\")\n",
        "\n",
        "print(factoriesToCenters)\n",
        "\n",
        "# decision variables for how much to ship from each customization center to each client\n",
        "centersToRetailers = AlsetModel.addVars( centers, retailers , name=\"Ship\")\n",
        "\n",
        "print(centersToRetailers)"
      ],
      "execution_count": null,
      "outputs": [
        {
          "output_type": "stream",
          "text": [
            "{('Zuffe', 'C1'): <gurobi.Var *Awaiting Model Update*>, ('Zuffe', 'C2'): <gurobi.Var *Awaiting Model Update*>, ('Zuffe', 'C3'): <gurobi.Var *Awaiting Model Update*>, ('Leip', 'C1'): <gurobi.Var *Awaiting Model Update*>, ('Leip', 'C2'): <gurobi.Var *Awaiting Model Update*>, ('Leip', 'C3'): <gurobi.Var *Awaiting Model Update*>}\n",
            "{('C1', 'OO'): <gurobi.Var *Awaiting Model Update*>, ('C1', 'FL'): <gurobi.Var *Awaiting Model Update*>, ('C1', 'SH'): <gurobi.Var *Awaiting Model Update*>, ('C1', 'WW'): <gurobi.Var *Awaiting Model Update*>, ('C2', 'OO'): <gurobi.Var *Awaiting Model Update*>, ('C2', 'FL'): <gurobi.Var *Awaiting Model Update*>, ('C2', 'SH'): <gurobi.Var *Awaiting Model Update*>, ('C2', 'WW'): <gurobi.Var *Awaiting Model Update*>, ('C3', 'OO'): <gurobi.Var *Awaiting Model Update*>, ('C3', 'FL'): <gurobi.Var *Awaiting Model Update*>, ('C3', 'SH'): <gurobi.Var *Awaiting Model Update*>, ('C3', 'WW'): <gurobi.Var *Awaiting Model Update*>}\n"
          ],
          "name": "stdout"
        }
      ]
    },
    {
      "cell_type": "markdown",
      "metadata": {
        "id": "dMLkUyKMj3PV"
      },
      "source": [
        "## Calculate and add the objective function"
      ]
    },
    {
      "cell_type": "code",
      "metadata": {
        "id": "JmgtMKfaj3PW",
        "cellView": "form"
      },
      "source": [
        "#@markdown Calculate the revenues\n",
        "revenue = quicksum( centersToRetailers[c,r] * retailersDF[\"Price\"][r] for c in centers for r in retailers )\n",
        "\n",
        "#@markdown Calculate the costs\n",
        "# there are four terms: \n",
        "# - production costs (at factories)\n",
        "prodCost = quicksum( factoriesToCenters[f,c] * factoriesDF[\"Cost\"][f] for f in factories for c in centers )\n",
        "\n",
        "# - handling & transportation costs factories to customization centers\n",
        "transCost_FC = quicksum( factoriesToCenters[f,c] * costsFactoriesToCentersDF[c][f] for f in factories for c in centers )\n",
        "\n",
        "# - customization cost (incurred at the customization centers)\n",
        "customizationCost = quicksum( centersToRetailers[c,r] * customizationCentersDF[\"Staffing_Cost\"][c] \\\n",
        "                             for c in centers for r in retailers )\n",
        "\n",
        "# - transportation costs customization centers to retail stores\n",
        "transCost_CR = quicksum( centersToRetailers[c,r] * costsCentersToRetailersDF[r][c] for c in centers for r in retailers )\n",
        "\n",
        "# total\n",
        "totalCost =  prodCost + transCost_FC + customizationCost + transCost_CR     # total cost is the sum"
      ],
      "execution_count": null,
      "outputs": []
    },
    {
      "cell_type": "code",
      "metadata": {
        "id": "eFfHec5xj3Pa"
      },
      "source": [
        "# objective: minimize the gross profit = revenue - cost\n",
        "AlsetModel.setObjective(revenue - totalCost, GRB.MAXIMIZE)"
      ],
      "execution_count": null,
      "outputs": []
    },
    {
      "cell_type": "markdown",
      "metadata": {
        "id": "z9kO1tqvj3Pc"
      },
      "source": [
        "## Add All Constraints"
      ]
    },
    {
      "cell_type": "code",
      "metadata": {
        "id": "NMVLe80qj3Pd"
      },
      "source": [
        "# capacity constraints due to production at each factory\n",
        "for f in factories :\n",
        "    AlsetModel.addConstr( quicksum(factoriesToCenters[f,c] for c in centers) <= factoriesDF[\"Capacity\"][f] )\n",
        "\n",
        "# capacity constraints at customization centers\n",
        "for c in centers :\n",
        "    AlsetModel.addConstr( quicksum(centersToRetailers[c,r] for r in retailers) <= customizationCentersDF[\"Capacity\"][c] )\n",
        "\n",
        "# flow conservation at each customization center: cars going in = cars going out\n",
        "for c in centers :\n",
        "    AlsetModel.addConstr( quicksum(factoriesToCenters[f,c] for f in factories) == \\\n",
        "                         quicksum(centersToRetailers[c,r] for r in retailers) )\n",
        "    \n",
        "# cannot ship more than demand at each store\n",
        "for r in retailers :\n",
        "    AlsetModel.addConstr( quicksum(centersToRetailers[c,r] for c in centers) <= retailersDF[\"Pre-orders\"][r])"
      ],
      "execution_count": null,
      "outputs": []
    },
    {
      "cell_type": "markdown",
      "metadata": {
        "id": "IjtI8X9dj3Pl"
      },
      "source": [
        "## Solve the model"
      ]
    },
    {
      "cell_type": "code",
      "metadata": {
        "scrolled": true,
        "id": "OqPDbVEFj3Pm",
        "colab": {
          "base_uri": "https://localhost:8080/"
        },
        "cellView": "form",
        "outputId": "e150dc20-c948-459b-9212-b645ebc6fc6b"
      },
      "source": [
        "#@markdown Select whether to run the [Gurobi](https://www.gurobi.com/) optimization algorithms silently (no output details)\n",
        "run_silently = False #@param {type:\"boolean\"}\n",
        "\n",
        "if run_silently:\n",
        "    AlsetModel.setParam('OutputFlag',0)\n",
        "else:\n",
        "    AlsetModel.setParam('OutputFlag',1)\n",
        "\n",
        "AlsetModel.optimize()\n",
        "print('\\nSolved the optimization problem...')"
      ],
      "execution_count": null,
      "outputs": [
        {
          "output_type": "stream",
          "text": [
            "Parameter OutputFlag unchanged\n",
            "   Value: 1  Min: 0  Max: 1  Default: 1\n",
            "Gurobi Optimizer version 9.1.1 build v9.1.1rc0 (linux64)\n",
            "Thread count: 1 physical cores, 2 logical processors, using up to 2 threads\n",
            "Optimize a model with 12 rows, 18 columns and 48 nonzeros\n",
            "Model fingerprint: 0x308fcab1\n",
            "Coefficient statistics:\n",
            "  Matrix range     [1e+00, 1e+00]\n",
            "  Objective range  [6e+04, 6e+04]\n",
            "  Bounds range     [0e+00, 0e+00]\n",
            "  RHS range        [6e+02, 5e+03]\n",
            "Presolve time: 0.01s\n",
            "Presolved: 12 rows, 18 columns, 48 nonzeros\n",
            "\n",
            "Iteration    Objective       Primal Inf.    Dual Inf.      Time\n",
            "       0    7.3200000e+35   3.600000e+31   7.320000e+05      0s\n",
            "      10    3.3625000e+07   0.000000e+00   0.000000e+00      0s\n",
            "\n",
            "Solved in 10 iterations and 0.01 seconds\n",
            "Optimal objective  3.362500000e+07\n",
            "\n",
            "Solved the optimization problem...\n"
          ],
          "name": "stdout"
        }
      ]
    },
    {
      "cell_type": "markdown",
      "metadata": {
        "id": "3UvnyEhh5yN_"
      },
      "source": [
        "## Print the optimal profit and optimal plan"
      ]
    },
    {
      "cell_type": "code",
      "metadata": {
        "scrolled": false,
        "id": "z0ONlW2Aj3Pp",
        "colab": {
          "base_uri": "https://localhost:8080/"
        },
        "cellView": "form",
        "outputId": "54fb8b5f-aae2-4f73-ef91-168a7742d547"
      },
      "source": [
        "#@markdown The optimal KPIs\n",
        "print(\"Optimal gross profit: {:,.0f}\".format(AlsetModel.objval))\n",
        "\n",
        "# also print the revenues and costs separately\n",
        "print(\"Total revenue: {:,.0f}\".format(revenue.getValue()))\n",
        "print(\"Total production costs: {:,.0f}\".format(prodCost.getValue()))\n",
        "print(\"Total transportation costs factories-centers: {:,.0f}\".format(transCost_FC.getValue()))\n",
        "print(\"Total costs at customization centers: {:,.0f}\".format(customizationCost.getValue()))\n",
        "print(\"Total transportation costs centers-retailers: {:,.0f}\".format(transCost_CR.getValue()))"
      ],
      "execution_count": null,
      "outputs": [
        {
          "output_type": "stream",
          "text": [
            "Optimal gross profit: 33,625,000\n",
            "Total revenue: 362,500,000\n",
            "Total production costs: 270,000,000\n",
            "Total transportation costs factories-centers: 9,100,000\n",
            "Total costs at customization centers: 25,200,000\n",
            "Total transportation costs centers-retailers: 24,575,000\n"
          ],
          "name": "stdout"
        }
      ]
    },
    {
      "cell_type": "code",
      "metadata": {
        "scrolled": false,
        "id": "oc7GHRAuj3Ps",
        "colab": {
          "base_uri": "https://localhost:8080/"
        },
        "cellView": "form",
        "outputId": "141838eb-28ad-4db3-8076-8fde98e57590"
      },
      "source": [
        "#@markdown The optimal production plan\n",
        "# production at factories\n",
        "print('{:<50}\\nProduction at factories:'.format(\"=\"*50))\n",
        "\n",
        "for f in factories:\n",
        "    print(\"   {:<6} : {:,.2f}\".format(f, sum(factoriesToCenters[f,c].X for c in centers)) )\n",
        "\n",
        "# shipping factories to centers\n",
        "print(\"{:<50s}\\nShipping from factories to customization centers:\".format(\"=\"*50))\n",
        "for f in factories :\n",
        "    for c in centers :\n",
        "        print(\"   {:<6s} to {:<3s} : {:,.2f}\".format(f,c,factoriesToCenters[f,c].X))\n",
        "\n",
        "# processing at customization centers\n",
        "print(\"{:<50s}\\nProcessing at customization centers:\".format(\"=\"*50))\n",
        "for c in centers:\n",
        "    print(\"   {:<2s} : {:,.2f} \".format(c,sum( centersToRetailers[c,r].X for r in retailers)) )\n",
        "    \n",
        "# shipping from centers to retailers\n",
        "print(\"{:<50s}\\nShipping from customization centers:\".format(\"=\"*50))\n",
        "for c in centers :\n",
        "    for r in retailers :\n",
        "        print(\"   {:<2s} to {:<2s} : {:,.2f}\".format(c,r,centersToRetailers[c,r].X))\n",
        "        \n",
        "# pre-orders fulfilled at each retailer\n",
        "print(\"{:<50}\\nPre-orders filled at retailers/clients:\".format(\"=\"*50))\n",
        "for r in retailers:\n",
        "    print(\"   {:<2s} : {:<,.2f} \".format(r,sum( centersToRetailers[c,r].X for c in centers)) )"
      ],
      "execution_count": null,
      "outputs": [
        {
          "output_type": "stream",
          "text": [
            "==================================================\n",
            "Production at factories:\n",
            "   Zuffe  : 5,000.00\n",
            "   Leip   : 0.00\n",
            "==================================================\n",
            "Shipping from factories to customization centers:\n",
            "   Zuffe  to C1  : 2,000.00\n",
            "   Zuffe  to C2  : 2,200.00\n",
            "   Zuffe  to C3  : 800.00\n",
            "   Leip   to C1  : 0.00\n",
            "   Leip   to C2  : 0.00\n",
            "   Leip   to C3  : 0.00\n",
            "==================================================\n",
            "Processing at customization centers:\n",
            "   C1 : 2,000.00 \n",
            "   C2 : 2,200.00 \n",
            "   C3 : 800.00 \n",
            "==================================================\n",
            "Shipping from customization centers:\n",
            "   C1 to OO : 1,700.00\n",
            "   C1 to FL : 300.00\n",
            "   C1 to SH : 0.00\n",
            "   C1 to WW : 0.00\n",
            "   C2 to OO : 0.00\n",
            "   C2 to FL : 2,200.00\n",
            "   C2 to SH : 0.00\n",
            "   C2 to WW : 0.00\n",
            "   C3 to OO : 250.00\n",
            "   C3 to FL : 0.00\n",
            "   C3 to SH : 0.00\n",
            "   C3 to WW : 550.00\n",
            "==================================================\n",
            "Pre-orders filled at retailers/clients:\n",
            "   OO : 1,950.00 \n",
            "   FL : 2,500.00 \n",
            "   SH : 0.00 \n",
            "   WW : 550.00 \n"
          ],
          "name": "stdout"
        }
      ]
    },
    {
      "cell_type": "markdown",
      "metadata": {
        "id": "JB6siv6V6fjE"
      },
      "source": [
        "Store the optimal profit obtained in **Q1**."
      ]
    },
    {
      "cell_type": "code",
      "metadata": {
        "id": "em3DFFjU6c-u"
      },
      "source": [
        "gross_profit_Q1 = AlsetModel.objVal  # optimal profit Q1"
      ],
      "execution_count": null,
      "outputs": []
    },
    {
      "cell_type": "markdown",
      "metadata": {
        "id": "qu1eJhBgB7aM"
      },
      "source": [
        "## Create a few utility functions that will help subsequently\r\n",
        "\r\n",
        "To help with subsequent parts of the problem, we also add all the steps above inside a **function** that returns a generic model like the one we created in **Q1**, together with all the decision variables."
      ]
    },
    {
      "cell_type": "code",
      "metadata": {
        "id": "FR_fXXdaCmob",
        "cellView": "form"
      },
      "source": [
        "#@title A function that generates a model like the one in **Q1**\r\n",
        "def create_model_like_in_Q1():\r\n",
        "    # empty Gurobi model\r\n",
        "    AlsetModel = Model(\"Alset Motors Supply Chain Model\")\r\n",
        "\r\n",
        "    #@markdown Decision variables\r\n",
        "    # decision variables for how much to ship from each factory to each customization center\r\n",
        "    factoriesToCenters = AlsetModel.addVars( factories, centers , name = \"Ship\")\r\n",
        "\r\n",
        "    # decision variables for how much to ship from each customization center to each client\r\n",
        "    centersToRetailers = AlsetModel.addVars( centers, retailers , name=\"Ship\")\r\n",
        "\r\n",
        "    #@markdown Objective\r\n",
        "    # revenues\r\n",
        "    revenues = quicksum( centersToRetailers[c,r] * retailersDF[\"Price\"][r] for c in centers for r in retailers )\r\n",
        "\r\n",
        "    # costs\r\n",
        "    # there are four terms: \r\n",
        "    # - production costs (at factories)\r\n",
        "    prodCost = quicksum( factoriesToCenters[f,c] * factoriesDF[\"Cost\"][f] for f in factories for c in centers )\r\n",
        "\r\n",
        "    # - handling & transportation costs factories to customization centers\r\n",
        "    transCost_FC = quicksum( factoriesToCenters[f,c] * costsFactoriesToCentersDF[c][f] for f in factories for c in centers )\r\n",
        "\r\n",
        "    # - customization cost (incurred at the customization centers)\r\n",
        "    customizationCost = quicksum( centersToRetailers[c,r] * customizationCentersDF[\"Staffing_Cost\"][c] \\\r\n",
        "                                for c in centers for r in retailers )\r\n",
        "\r\n",
        "    # - transportation costs customization centers to retail stores\r\n",
        "    transCost_CR = quicksum( centersToRetailers[c,r] * costsCentersToRetailersDF[r][c] for c in centers for r in retailers )\r\n",
        "\r\n",
        "    # total costs\r\n",
        "    totalCost =  prodCost + transCost_FC + customizationCost + transCost_CR     # total cost is the sum\r\n",
        "\r\n",
        "    # gross profit\r\n",
        "    gross_profit = revenues - totalCost\r\n",
        "\r\n",
        "    # set the objective: maximize gross profit\r\n",
        "    AlsetModel.setObjective( gross_profit, GRB.MAXIMIZE )\r\n",
        "\r\n",
        "    #@markdown Constraints\r\n",
        "    constraints = {}  # will store all the constraints\r\n",
        "\r\n",
        "    # capacity constraints due to production at each factory\r\n",
        "    constraints[\"factory_cap\"] = {}\r\n",
        "    for f in factories :\r\n",
        "        constraints[\"factory_cap\"][f] = \\\r\n",
        "        AlsetModel.addConstr( quicksum(factoriesToCenters[f,c] for c in centers) <= factoriesDF[\"Capacity\"][f],\\\r\n",
        "                             name = \"Cap_\" + f)\r\n",
        "\r\n",
        "    # capacity constraints at customization centers\r\n",
        "    constraints[\"center_cap\"] = {}\r\n",
        "    for c in centers :\r\n",
        "        constraints[\"center_cap\"][c] = \\\r\n",
        "        AlsetModel.addConstr( quicksum(centersToRetailers[c,r] for r in retailers) <= customizationCentersDF[\"Capacity\"][c], \\\r\n",
        "                             name = \"Cap_\" + c)\r\n",
        "\r\n",
        "    # flow conservation at each customization center: cars going in = cars going out\r\n",
        "    for c in centers :\r\n",
        "        AlsetModel.addConstr( quicksum(factoriesToCenters[f,c] for f in factories) == \\\r\n",
        "                            quicksum(centersToRetailers[c,r] for r in retailers) )\r\n",
        "        \r\n",
        "    # cannot ship more than pre-orders at each store\r\n",
        "    constraints[\"preorder_cap\"] = {}\r\n",
        "    for r in retailers :\r\n",
        "        constraints[\"preorder_cap\"][r] = \\\r\n",
        "        AlsetModel.addConstr( quicksum(centersToRetailers[c,r] for c in centers) <= retailersDF[\"Pre-orders\"][r], \\\r\n",
        "                             name = \"Preorder_\" + r)\r\n",
        "\r\n",
        "    # return the model, the decision variables and the formula for the objective\r\n",
        "    return AlsetModel,  factoriesToCenters, centersToRetailers,  gross_profit,\\\r\n",
        "    constraints"
      ],
      "execution_count": null,
      "outputs": []
    },
    {
      "cell_type": "code",
      "metadata": {
        "cellView": "form",
        "id": "SLcdwNtZXpqN"
      },
      "source": [
        "#@title A function to print the performance in a model compared to **Q1**\r\n",
        "def print_and_compare_Q1(model, centersToRetailers_decisions):\r\n",
        "    print(\"=\"*60)\r\n",
        "    print(\"{:<50s} : {:,.2f}\".\\\r\n",
        "          format(\"The gross profit with these considerations\",model.objVal))\r\n",
        "    print(\"{:<50s} : {:,.2f}\".\\\r\n",
        "          format(\"Profit difference compared to Q1:\",model.objVal-gross_profit_Q1))\r\n",
        "    print(\"{:<50s} : {:,.2f}\".\\\r\n",
        "          format(\"Profit loss (%):\",(model.objVal/gross_profit_Q1-1.0)*100))\r\n",
        "\r\n",
        "    #@markdown Print the number of orders and the fill rate achieved at each customer\r\n",
        "    print(\"{:<60s}\\nThe number of orders and the fill rate at each retailer:\\n\".format(\"=\"*60))\r\n",
        "    print(\"   {:<6s} \\t {:<3s} \\t {:<5s}\".format(\"Retailer\",\"Orders\",\"Fill rate\"))\r\n",
        "    for r in retailers:\r\n",
        "        orders = sum(centersToRetailers_decisions[c,r].X for c in centers)\r\n",
        "        print(\"   {:<6s} \\t {:<.0f} \\t\\t {:<,.2f}%\".\\\r\n",
        "              format(r,orders, orders/retailersDF[\"Pre-orders\"][r]*100))"
      ],
      "execution_count": null,
      "outputs": []
    },
    {
      "cell_type": "markdown",
      "metadata": {
        "id": "4TE_yA_h6WVj"
      },
      "source": [
        "______\r\n",
        "# **Q2**\r\n",
        "Before running this section, make sure you have run all the previous sections of the Colab file."
      ]
    },
    {
      "cell_type": "code",
      "metadata": {
        "id": "v7oJ1c_0Ivl0"
      },
      "source": [
        "# set up a variable for the retailer we are focusing on\r\n",
        "retailer_to_focus = \"OO\""
      ],
      "execution_count": null,
      "outputs": []
    },
    {
      "cell_type": "markdown",
      "metadata": {
        "id": "8CbzVStt7ykl"
      },
      "source": [
        "Re-recreate an identical model to the one from **Q1** and store the expression for model, the decision variables and the objective."
      ]
    },
    {
      "cell_type": "code",
      "metadata": {
        "id": "BKvDyjWbFmyA"
      },
      "source": [
        "# create a model like the one in Q1 using the function \r\n",
        "AlsetModel_Q2, factoriesToCenters_Q2, centersToRetailers_Q2, gross_profit_Q2, constr_Q2 = \\\r\n",
        "       create_model_like_in_Q1()"
      ],
      "execution_count": null,
      "outputs": []
    },
    {
      "cell_type": "markdown",
      "metadata": {
        "id": "nLrrRn3WFsvB"
      },
      "source": [
        "Add a constraint that the gross profit in Q2 should be at least as large as the profit in Q1 (we could set this either as an inequality or with equality, since the profit obtained in Q1 is the largest possible profit anyway)."
      ]
    },
    {
      "cell_type": "code",
      "metadata": {
        "colab": {
          "base_uri": "https://localhost:8080/"
        },
        "id": "Pcxu8ojc6X8Y",
        "outputId": "e923c365-5622-4f6e-a0ac-90a1872019f8"
      },
      "source": [
        "#@markdown Constraint on profit compared to Q1\r\n",
        "AlsetModel_Q2.addConstr( gross_profit_Q2 >= gross_profit_Q1 )"
      ],
      "execution_count": null,
      "outputs": [
        {
          "output_type": "execute_result",
          "data": {
            "text/plain": [
              "<gurobi.Constr *Awaiting Model Update*>"
            ]
          },
          "metadata": {
            "tags": []
          },
          "execution_count": 18
        }
      ]
    },
    {
      "cell_type": "markdown",
      "metadata": {
        "id": "54vtBd9eGAA-"
      },
      "source": [
        "Set the objective in the new model to maximize the total orders received by OO, and solve the new model."
      ]
    },
    {
      "cell_type": "code",
      "metadata": {
        "colab": {
          "base_uri": "https://localhost:8080/"
        },
        "cellView": "form",
        "id": "v-yNNowxAALx",
        "outputId": "a06c0166-944c-416b-a663-da0b0569ffd8"
      },
      "source": [
        "#@title Update objective to maximize OO orders\r\n",
        "AlsetModel_Q2.setObjective( quicksum( centersToRetailers_Q2[c,retailer_to_focus] for c in centers ), GRB.MAXIMIZE )\r\n",
        "\r\n",
        "#@markdown Select whether to run the [Gurobi](https://www.gurobi.com/) optimization algorithms silently (no output details)\r\n",
        "run_silently = True #@param {type:\"boolean\"}\r\n",
        "\r\n",
        "if run_silently:\r\n",
        "    AlsetModel_Q2.setParam('OutputFlag',0)\r\n",
        "else:\r\n",
        "    AlsetModel_Q2.setParam('OutputFlag',1)\r\n",
        "\r\n",
        "AlsetModel_Q2.optimize()\r\n",
        "print('\\nSolved the optimization problem...')\r\n",
        "\r\n",
        "#@markdown Print the max number of orders\r\n",
        "print(\"The maximum number of orders that can be filled at {} while achieving maximum profit is: {:,.0f}\".\\\r\n",
        "      format(retailer_to_focus,AlsetModel_Q2.objVal))"
      ],
      "execution_count": null,
      "outputs": [
        {
          "output_type": "stream",
          "text": [
            "\n",
            "Solved the optimization problem...\n",
            "The maximum number of orders that can be filled at OO while achieving maximum profit is: 1,950\n"
          ],
          "name": "stdout"
        }
      ]
    },
    {
      "cell_type": "markdown",
      "metadata": {
        "id": "IE1UrKQ1GfON"
      },
      "source": [
        "Now repeat the same steps but for the problem of minimizing the number of orders."
      ]
    },
    {
      "cell_type": "code",
      "metadata": {
        "colab": {
          "base_uri": "https://localhost:8080/"
        },
        "cellView": "form",
        "id": "iEDZl3c2Gglz",
        "outputId": "74340310-e45c-4cc5-d56a-4137ea5972c3"
      },
      "source": [
        "#@title Update objective to minimize OO orders\r\n",
        "AlsetModel_Q2.setObjective( quicksum( centersToRetailers_Q2[c,retailer_to_focus] for c in centers ), GRB.MINIMIZE )\r\n",
        "\r\n",
        "#@markdown Select whether to run the [Gurobi](https://www.gurobi.com/) optimization algorithms silently (no output details)\r\n",
        "run_silently = True #@param {type:\"boolean\"}\r\n",
        "\r\n",
        "if run_silently:\r\n",
        "    AlsetModel_Q2.setParam('OutputFlag',0)\r\n",
        "else:\r\n",
        "    AlsetModel_Q2.setParam('OutputFlag',1)\r\n",
        "\r\n",
        "AlsetModel_Q2.optimize()\r\n",
        "print('\\nSolved the optimization problem...')\r\n",
        "\r\n",
        "#@markdown Print the max number of orders\r\n",
        "print(\"The maximum number of orders that can be filled at {} while achieving maximum profit is: {:,.0f}\".\\\r\n",
        "      format(retailer_to_focus,AlsetModel_Q2.objVal))"
      ],
      "execution_count": null,
      "outputs": [
        {
          "output_type": "stream",
          "text": [
            "\n",
            "Solved the optimization problem...\n",
            "The maximum number of orders that can be filled at OO while achieving maximum profit is: 350\n"
          ],
          "name": "stdout"
        }
      ]
    },
    {
      "cell_type": "markdown",
      "metadata": {
        "id": "UETm_Y0UXHOu"
      },
      "source": [
        "______\r\n",
        "# **Q3**\r\n",
        "Before running this section, make sure you have run all the previous sections of the Colab file."
      ]
    },
    {
      "cell_type": "markdown",
      "metadata": {
        "id": "x0-ZctW2XHPG"
      },
      "source": [
        "Re-recreate an identical model to the one from **Q1** and store the expression for model, the decision variables and the objective."
      ]
    },
    {
      "cell_type": "code",
      "metadata": {
        "id": "FzybX7lHXe1b"
      },
      "source": [
        "# the new parameter\r\n",
        "fraction_of_profit = 0.9"
      ],
      "execution_count": null,
      "outputs": []
    },
    {
      "cell_type": "code",
      "metadata": {
        "colab": {
          "base_uri": "https://localhost:8080/"
        },
        "cellView": "form",
        "id": "9J2t3iHrXHPG",
        "outputId": "0b60a189-5cb1-4b30-b4b3-e1b654f05735"
      },
      "source": [
        "#@title Re-create a model like in **Q1** and update it\r\n",
        "\r\n",
        "#@ markdown Create a model like the one in Q1\r\n",
        "AlsetModel, factoriesToCenters, centersToRetailers, gross_profit, constr = \\\r\n",
        "       create_model_like_in_Q1()\r\n",
        "\r\n",
        "#@markdown Add a constraint that the gross profit should be at least some fraction\r\n",
        "AlsetModel.addConstr( gross_profit >= fraction_of_profit * gross_profit_Q1 )\r\n",
        "\r\n",
        "#@markdown Update objective to maximize total filled orders\r\n",
        "AlsetModel.setObjective( quicksum( centersToRetailers[c,r] for c in centers for r in retailers ), GRB.MAXIMIZE )\r\n",
        "\r\n",
        "#@markdown Select whether to run the [Gurobi](https://www.gurobi.com/) optimization algorithms silently (no output details)\r\n",
        "run_silently = True #@param {type:\"boolean\"}\r\n",
        "\r\n",
        "if run_silently:\r\n",
        "    AlsetModel.setParam('OutputFlag',0)\r\n",
        "else:\r\n",
        "    AlsetModel.setParam('OutputFlag',1)\r\n",
        "\r\n",
        "AlsetModel.optimize()\r\n",
        "print('\\nSolved the optimization problem...')\r\n",
        "\r\n",
        "#@markdown Print the max number of orders\r\n",
        "print(\"\\nThe maximum number of orders that can be filled while achieving at least {:.2f}% of the maximum profit is: {:,.0f}\".\\\r\n",
        "      format(fraction_of_profit*100, AlsetModel.objVal))\r\n",
        "\r\n",
        "#@markdown Print details in terms of fill rates\r\n",
        "print(\"{:<60s}\\nThe number of orders and the fill rate at each retailer:\\n\".format(\"=\"*60))\r\n",
        "print(\"   {:<6s} \\t {:<3s} \\t {:<5s}\".format(\"Retailer\",\"Orders\",\"Fill rate\"))\r\n",
        "for r in retailers:\r\n",
        "    orders = sum(centersToRetailers[c,r].X for c in centers)\r\n",
        "    print(\"   {:<6s} \\t {:<.0f} \\t\\t {:<,.2f}%\".\\\r\n",
        "          format(r,orders, orders/retailersDF[\"Pre-orders\"][r]*100))"
      ],
      "execution_count": null,
      "outputs": [
        {
          "output_type": "stream",
          "text": [
            "\n",
            "Solved the optimization problem...\n",
            "\n",
            "The maximum number of orders that can be filled while achieving at least 90.00% of the maximum profit is: 7,000\n",
            "============================================================\n",
            "The number of orders and the fill rate at each retailer:\n",
            "\n",
            "   Retailer \t Orders \t Fill rate\n",
            "   OO     \t 3950 \t\t 79.00%\n",
            "   FL     \t 2500 \t\t 100.00%\n",
            "   SH     \t 0 \t\t 0.00%\n",
            "   WW     \t 550 \t\t 100.00%\n"
          ],
          "name": "stdout"
        }
      ]
    },
    {
      "cell_type": "markdown",
      "metadata": {
        "id": "brQMsNVQI1UL"
      },
      "source": [
        "______\r\n",
        "# **Q4**\r\n",
        "Before running this section, make sure you have run all the previous sections of the Colab file."
      ]
    },
    {
      "cell_type": "code",
      "metadata": {
        "id": "VlrmARUJI1UM"
      },
      "source": [
        "retailer_to_focus = \"OO\""
      ],
      "execution_count": null,
      "outputs": []
    },
    {
      "cell_type": "markdown",
      "metadata": {
        "id": "K54B1RCKJGgg"
      },
      "source": [
        "### **Option 1.** Require that OO has at least as many pre-orders filled\r\n",
        "Here, we add constraints that the total pre-orders sent to OO should exceed the total pre-orders sent to any other retailer. \r\n"
      ]
    },
    {
      "cell_type": "markdown",
      "metadata": {
        "id": "Muu9HiFYI1UN"
      },
      "source": [
        "\r\n",
        "\r\n",
        "Mathematically, if $X[c,r]$ denote the shipments sent from center $c$ to retailer $r$, we impose the constraints:<br>\r\n",
        "> $ \\sum_{c \\in \\mbox{C1,C2,C3}} X[c,\\mbox{OO}] \\geq \\sum_{c \\in \\mbox{C1,C2,C3}} X[c,r]$, for every retailer $r \\in \\{\\mbox{FL,SH,WW}\\}$."
      ]
    },
    {
      "cell_type": "code",
      "metadata": {
        "colab": {
          "base_uri": "https://localhost:8080/"
        },
        "id": "ypT6gB3pI1UO",
        "outputId": "8b6e6b0a-329d-4651-b6d2-e7e1f1b763d8"
      },
      "source": [
        "# create a model like the one in Q1\r\n",
        "AlsetModel, factoriesToCenters, centersToRetailers, gross_profit, constr = \\\r\n",
        "       create_model_like_in_Q1()\r\n",
        "\r\n",
        "#@markdown Constrain the orders as described above\r\n",
        "for r in retailers:\r\n",
        "    if r!= retailer_to_focus:\r\n",
        "        AlsetModel.addConstr( \r\n",
        "            quicksum( centersToRetailers[c,retailer_to_focus] for c in centers ) >= \\\r\n",
        "            quicksum( centersToRetailers[c,r] for c in centers ) )\r\n",
        "        \r\n",
        "#@markdown Solve the new model\r\n",
        "#@markdown - select whether to run the [Gurobi](https://www.gurobi.com/) optimization algorithms silently (no output details)\r\n",
        "run_silently = True #@param {type:\"boolean\"}\r\n",
        "\r\n",
        "if run_silently:\r\n",
        "    AlsetModel.setParam('OutputFlag',0)\r\n",
        "else:\r\n",
        "    AlsetModel.setParam('OutputFlag',1)\r\n",
        "\r\n",
        "AlsetModel.optimize()\r\n",
        "print('\\nSolved the optimization problem...\\n')\r\n",
        "\r\n",
        "#@markdown Print the gross profit and the difference from Q1\r\n",
        "print_and_compare_Q1(AlsetModel, centersToRetailers)"
      ],
      "execution_count": null,
      "outputs": [
        {
          "output_type": "stream",
          "text": [
            "\n",
            "Solved the optimization problem...\n",
            "\n",
            "============================================================\n",
            "The gross profit with these considerations         : 33,350,000.00\n",
            "Profit difference compared to Q1:                  : -275,000.00\n",
            "Profit loss (%):                                   : -0.82\n",
            "============================================================\n",
            "The number of orders and the fill rate at each retailer:\n",
            "\n",
            "   Retailer \t Orders \t Fill rate\n",
            "   OO     \t 2225 \t\t 44.50%\n",
            "   FL     \t 2225 \t\t 89.00%\n",
            "   SH     \t 0 \t\t 0.00%\n",
            "   WW     \t 550 \t\t 100.00%\n"
          ],
          "name": "stdout"
        }
      ]
    },
    {
      "cell_type": "markdown",
      "metadata": {
        "id": "iQb5--TYPjQb"
      },
      "source": [
        "### **Option 2.** Require the OO's fill rate is at least as large\r\n",
        "Here, we add a constraint that the fill rate at OO should exceed the fill rate for any other retailer. \r\n"
      ]
    },
    {
      "cell_type": "markdown",
      "metadata": {
        "id": "HMxAJHXKPjQb"
      },
      "source": [
        "Mathematically, if $X[c,r]$ denote the shipments from center $c$ to retailer $r$ and $P[r]$ are the pre-orders of $r$, we are imposing the constraints:<br>\r\n",
        "> $ \\frac{\\sum_{c \\in \\text{C1,C2,C3}} X[c,\\text{OO}]}{P[\\text{OO}]} \\geq \\frac{\\sum_{c \\in \\text{C1,C2,C3}} X[c,r]}{P[r]}$, for every retailer $r \\in \\{\\mbox{FL,SH,WW}\\}$."
      ]
    },
    {
      "cell_type": "code",
      "metadata": {
        "colab": {
          "base_uri": "https://localhost:8080/"
        },
        "cellView": "form",
        "id": "ZK4mVoDKPjQc",
        "outputId": "bcc6f249-c048-4a0e-c269-343199ff1cb3"
      },
      "source": [
        "# create a model like the one in Q1\r\n",
        "AlsetModel, factoriesToCenters, centersToRetailers, gross_profit, constr = \\\r\n",
        "       create_model_like_in_Q1()\r\n",
        "\r\n",
        "#@markdown Constrain the orders as described above\r\n",
        "for r in retailers:\r\n",
        "    if r!= retailer_to_focus:\r\n",
        "        AlsetModel.addConstr( \r\n",
        "            quicksum( centersToRetailers[c,retailer_to_focus] for c in centers )/retailersDF[\"Pre-orders\"][retailer_to_focus] >= \\\r\n",
        "            quicksum( centersToRetailers[c,r] for c in centers )/retailersDF[\"Pre-orders\"][r] )\r\n",
        "        \r\n",
        "#@markdown Solve the new model\r\n",
        "#@markdown - select whether to run the [Gurobi](https://www.gurobi.com/) optimization algorithms silently (no output details)\r\n",
        "run_silently = True #@param {type:\"boolean\"}\r\n",
        "\r\n",
        "if run_silently:\r\n",
        "    AlsetModel.setParam('OutputFlag',0)\r\n",
        "else:\r\n",
        "    AlsetModel.setParam('OutputFlag',1)\r\n",
        "\r\n",
        "AlsetModel.optimize()\r\n",
        "print('\\nSolved the optimization problem...\\n')\r\n",
        "\r\n",
        "#@markdown Print the gross profit and the difference from Q1\r\n",
        "print_and_compare_Q1(AlsetModel, centersToRetailers)"
      ],
      "execution_count": null,
      "outputs": [
        {
          "output_type": "stream",
          "text": [
            "\n",
            "Solved the optimization problem...\n",
            "\n",
            "============================================================\n",
            "The gross profit with these considerations         : 32,175,675.68\n",
            "Profit difference compared to Q1:                  : -1,449,324.32\n",
            "Profit loss (%):                                   : -4.31\n",
            "============================================================\n",
            "The number of orders and the fill rate at each retailer:\n",
            "\n",
            "   Retailer \t Orders \t Fill rate\n",
            "   OO     \t 4324 \t\t 86.49%\n",
            "   FL     \t 2162 \t\t 86.49%\n",
            "   SH     \t 38 \t\t 2.36%\n",
            "   WW     \t 476 \t\t 86.49%\n"
          ],
          "name": "stdout"
        }
      ]
    },
    {
      "cell_type": "markdown",
      "metadata": {
        "id": "Az_LaNS0OB5M"
      },
      "source": [
        "### **Option 3.** Have a lower bound on the fill rate to OO.\r\n",
        "Here, we add a constraint that the fill rate at OO should exceed some pre-specified lower bound.\r\n"
      ]
    },
    {
      "cell_type": "markdown",
      "metadata": {
        "id": "o--CiXEWOB5j"
      },
      "source": [
        "Mathematically, if $X[c,r]$ denote the shipments from center $c$ to retailer $r$ and $P[r]$ are the pre-orders of $r$, we are imposing the constraint:<br>\r\n",
        "> $ \\frac{\\sum_{c \\in \\text{C1,C2,C3}} X[c,\\text{OO}]}{P[\\text{OO}]} \\geq f$\r\n",
        "\r\n",
        "for some pre-specified value $f$."
      ]
    },
    {
      "cell_type": "code",
      "metadata": {
        "colab": {
          "base_uri": "https://localhost:8080/"
        },
        "cellView": "form",
        "id": "IjS1LCAPOB5k",
        "outputId": "5e90f293-d69b-4537-d7b2-6001c59182c5"
      },
      "source": [
        "#@markdown Select the desired minimum fill rate for OO (as a percentage)\r\n",
        "min_fill_rate = 20 #@param {type:\"number\"}\r\n",
        "min_fill_rate = min_fill_rate/100\r\n",
        "\r\n",
        "#markdown Create a model like the one in Q1\r\n",
        "AlsetModel, factoriesToCenters, centersToRetailers, gross_profit, constr = \\\r\n",
        "       create_model_like_in_Q1()\r\n",
        "\r\n",
        "\r\n",
        "#@markdown Constrain the orders filled for OO\r\n",
        "AlsetModel.addConstr( \r\n",
        "    quicksum( centersToRetailers[c,retailer_to_focus] for c in centers )/retailersDF[\"Pre-orders\"][retailer_to_focus] >= \\\r\n",
        "    min_fill_rate )\r\n",
        "        \r\n",
        "#@markdown Solve the new model\r\n",
        "#@markdown - select whether to run the [Gurobi](https://www.gurobi.com/) optimization algorithms silently (no output details)\r\n",
        "run_silently = True #@param {type:\"boolean\"}\r\n",
        "\r\n",
        "if run_silently:\r\n",
        "    AlsetModel.setParam('OutputFlag',0)\r\n",
        "else:\r\n",
        "    AlsetModel.setParam('OutputFlag',1)\r\n",
        "\r\n",
        "AlsetModel.optimize()\r\n",
        "print('\\nSolved the optimization problem...\\n')\r\n",
        "\r\n",
        "if AlsetModel.status in [GRB.INFEASIBLE, GRB.INF_OR_UNBD]:\r\n",
        "    # the model is infeasible\r\n",
        "    print(\"It is infeasible to achieve this fill rate at {}.\".format(retailer_to_focus))\r\n",
        "\r\n",
        "elif AlsetModel.status==GRB.OPTIMAL:\r\n",
        "    # the model was solved to optimality\r\n",
        "    #@markdown Print the gross profit and the difference from Q1\r\n",
        "\r\n",
        "    print(\"=\"*60)\r\n",
        "    print(\"{:<40s} : {:,.2f}\".\\\r\n",
        "          format(\"The gross profit with these constraints\",AlsetModel.objVal))\r\n",
        "    print(\"{:<40s} : {:,.2f}\".\\\r\n",
        "          format(\"Profit difference compared to Q1:\",AlsetModel.objVal-gross_profit_Q1))\r\n",
        "\r\n",
        "    #@markdown Print the number of orders and the fill rate achieved at each customer\r\n",
        "    print(\"{:<60s}\\nThe number of orders and the fill rate at each retailer:\\n\".format(\"=\"*60))\r\n",
        "    print(\"   {:<6s} \\t {:<3s} \\t {:<5s}\".format(\"Retailer\",\"Orders\",\"Fill rate\"))\r\n",
        "    for r in retailers:\r\n",
        "        orders = sum(centersToRetailers[c,r].X for c in centers)\r\n",
        "        print(\"   {:<6s} \\t {:<.0f} \\t\\t {:<,.2f}%\".\\\r\n",
        "              format(r,orders, orders/retailersDF[\"Pre-orders\"][r]*100))"
      ],
      "execution_count": null,
      "outputs": [
        {
          "output_type": "stream",
          "text": [
            "\n",
            "Solved the optimization problem...\n",
            "\n",
            "============================================================\n",
            "The gross profit with these constraints  : 33,625,000.00\n",
            "Profit difference compared to Q1:        : 0.00\n",
            "============================================================\n",
            "The number of orders and the fill rate at each retailer:\n",
            "\n",
            "   Retailer \t Orders \t Fill rate\n",
            "   OO     \t 1950 \t\t 39.00%\n",
            "   FL     \t 2500 \t\t 100.00%\n",
            "   SH     \t 0 \t\t 0.00%\n",
            "   WW     \t 550 \t\t 100.00%\n"
          ],
          "name": "stdout"
        }
      ]
    },
    {
      "cell_type": "markdown",
      "metadata": {
        "id": "GFjmgL2USxFZ"
      },
      "source": [
        "______\r\n",
        "# **Q5**\r\n",
        "Before running this section, make sure you have run all the previous sections of the Colab file."
      ]
    },
    {
      "cell_type": "markdown",
      "metadata": {
        "id": "COr-JnadUSNd"
      },
      "source": [
        "### **Option 1.** Require that fill rates at distinct retailers do not differ too much"
      ]
    },
    {
      "cell_type": "markdown",
      "metadata": {
        "id": "UbEeb8y2USNe"
      },
      "source": [
        "Mathematically, if $X[c,r]$ denote the shipments from center $c$ to retailer $r$ and $P[r]$ are the pre-orders of $r$, we are imposing the constraints:<br>\r\n",
        "> $ \\frac{\\sum_{c \\in \\text{C1,C2,C3}} X[c,r_1]}{P[r_1]} - \\frac{\\sum_{c \\in \\text{C1,C2,C3}} X[c,r_2]}{P[r_2]} \\leq \\Delta$, for every pair of retailers $r_1,r_2$, \r\n",
        "\r\n",
        "where $\\Delta$ is some pre-specified value for the maximum allowed difference."
      ]
    },
    {
      "cell_type": "code",
      "metadata": {
        "colab": {
          "base_uri": "https://localhost:8080/"
        },
        "cellView": "form",
        "id": "j9dxCI8wUSNe",
        "outputId": "b153e912-41d5-4923-87ca-40d8a5b5535f"
      },
      "source": [
        "#@markdown Select the maximum allowed difference in fill rates (as a percentage)\r\n",
        "max_difference_fill_rates = 20 #@param {type:\"number\"}\r\n",
        "max_difference_fill_rates = max_difference_fill_rates/100\r\n",
        "\r\n",
        "#markdown Create a model like the one in Q1\r\n",
        "AlsetModel, factoriesToCenters, centersToRetailers, gross_profit, constr = \\\r\n",
        "       create_model_like_in_Q1()\r\n",
        "\r\n",
        "#@markdown Constrain the fill rate at each retailer\r\n",
        "for r1 in retailers:\r\n",
        "   for r2 in retailers:\r\n",
        "      AlsetModel.addConstr( \r\n",
        "          quicksum( centersToRetailers[c,r1] for c in centers )/retailersDF[\"Pre-orders\"][r1] - \\\r\n",
        "          quicksum( centersToRetailers[c,r2] for c in centers )/retailersDF[\"Pre-orders\"][r2] <= \\\r\n",
        "          max_difference_fill_rates )\r\n",
        "        \r\n",
        "#@markdown Solve the new model\r\n",
        "#@markdown - select whether to run the [Gurobi](https://www.gurobi.com/) optimization algorithms silently (no output details)\r\n",
        "run_silently = True #@param {type:\"boolean\"}\r\n",
        "\r\n",
        "if run_silently:\r\n",
        "    AlsetModel.setParam('OutputFlag',0)\r\n",
        "else:\r\n",
        "    AlsetModel.setParam('OutputFlag',1)\r\n",
        "\r\n",
        "AlsetModel.optimize()\r\n",
        "print('\\nSolved the optimization problem...\\n')\r\n",
        "\r\n",
        "if AlsetModel.status in [GRB.INFEASIBLE, GRB.INF_OR_UNBD]:\r\n",
        "    # the model is infeasible\r\n",
        "    print(\"It is infeasible to achieve this fill rate at all retailers.\")\r\n",
        "\r\n",
        "elif AlsetModel.status==GRB.OPTIMAL:\r\n",
        "    # the model was solved to optimality\r\n",
        "    #@markdown Print the gross profit and the difference from Q1\r\n",
        "    print_and_compare_Q1(AlsetModel, centersToRetailers)"
      ],
      "execution_count": null,
      "outputs": [
        {
          "output_type": "stream",
          "text": [
            "\n",
            "Solved the optimization problem...\n",
            "\n",
            "============================================================\n",
            "The gross profit with these considerations         : 32,477,616.58\n",
            "Profit difference compared to Q1:                  : -1,147,383.42\n",
            "Profit loss (%):                                   : -3.41\n",
            "============================================================\n",
            "The number of orders and the fill rate at each retailer:\n",
            "\n",
            "   Retailer \t Orders \t Fill rate\n",
            "   OO     \t 2275 \t\t 45.49%\n",
            "   FL     \t 1637 \t\t 65.49%\n",
            "   SH     \t 728 \t\t 45.49%\n",
            "   WW     \t 360 \t\t 65.49%\n"
          ],
          "name": "stdout"
        }
      ]
    },
    {
      "cell_type": "code",
      "metadata": {
        "colab": {
          "base_uri": "https://localhost:8080/"
        },
        "cellView": "form",
        "id": "OGhPhuYCfyw0",
        "outputId": "412de378-718f-4567-a53a-ec3b1deefe1a"
      },
      "source": [
        "#@title Examine how the gross profit (losses) depend on the allowed difference\r\n",
        "delta_vals = list(np.arange(0,1,0.05))      # set up values for the fill rate (in percentage terms)\r\n",
        "\r\n",
        "# the objective values and the loss compared to Q1\r\n",
        "objValues = [0]*len(delta_vals)\r\n",
        "loss_Q1 = [0]*len(delta_vals)\r\n",
        "\r\n",
        "# a dictionary with a list for each customer, that stores the realized fill rate at that customer\r\n",
        "individual_fillrates = {}   \r\n",
        "for r in retailers:\r\n",
        "    individual_fillrates[r] = [0]*len(delta_vals)\r\n",
        "\r\n",
        "for i in range(len(delta_vals)):\r\n",
        "\r\n",
        "    # create new model from scratch\r\n",
        "    AlsetModel, factoriesToCenters, centersToRetailers, gross_profit, constr = \\\r\n",
        "          create_model_like_in_Q1()\r\n",
        "\r\n",
        "    AlsetModel.setParam('OutputFlag',0)\r\n",
        "\r\n",
        "    # change the fill rate constraint \r\n",
        "    for r1 in retailers:\r\n",
        "      for r2 in retailers:\r\n",
        "          AlsetModel.addConstr( \r\n",
        "              quicksum( centersToRetailers[c,r1] for c in centers )/retailersDF[\"Pre-orders\"][r1] - \\\r\n",
        "              quicksum( centersToRetailers[c,r2] for c in centers )/retailersDF[\"Pre-orders\"][r2] <= \\\r\n",
        "              delta_vals[i] )\r\n",
        "    \r\n",
        "    AlsetModel.optimize()   \r\n",
        "    objValues[i] = AlsetModel.objVal\r\n",
        "    loss_Q1[i] = (1.0 - objValues[i]/gross_profit_Q1)*100\r\n",
        "    for r in retailers:\r\n",
        "        individual_fillrates[r][i] = (sum(centersToRetailers[c,r].X for c in centers) / retailersDF[\"Pre-orders\"][r])*100  \r\n",
        "\r\n",
        "#@markdown Do a single plot for everything\r\n",
        "fontsize = 15\r\n",
        "fig, ax1 = plt.subplots(figsize=(15,8))\r\n",
        "color1 = 'black'\r\n",
        "\r\n",
        "for r in retailers:\r\n",
        "    plt.plot(delta_vals, individual_fillrates[r], linestyle='solid', linewidth=3 )\r\n",
        "\r\n",
        "plt.xlabel(\"Delta value\", fontsize=fontsize)\r\n",
        "plt.ylabel(\"Fill rates (%)\", color=color1, fontsize=fontsize)\r\n",
        "ax1.tick_params(axis='y', labelcolor=color1)\r\n",
        "plt.yticks(fontsize=fontsize)\r\n",
        "plt.xticks(fontsize=fontsize)\r\n",
        "ax1.legend(retailers, fontsize=fontsize)\r\n",
        "\r\n",
        "ax2 = ax1.twinx()  # instantiate a second axes that shares the same x-axis\r\n",
        "color2 = 'magenta'\r\n",
        "ax2.set_ylabel('Profit loss from Q1 (%)', color=color2, fontsize=fontsize)  # we already handled the x-label with ax1\r\n",
        "ax2.plot(delta_vals, loss_Q1, color='magenta', linestyle='--', linewidth=3)\r\n",
        "ax2.tick_params(axis='y', labelcolor=color2)\r\n",
        "plt.yticks(fontsize=fontsize)\r\n",
        "plt.xticks(fontsize=fontsize)\r\n",
        "\r\n",
        "plt.tight_layout()\r\n",
        "plt.show()"
      ],
      "execution_count": null,
      "outputs": [
        {
          "output_type": "display_data",
          "data": {
            "image/png": "[encoded data removed]",
            "text/plain": [
              "<Figure size 1080x576 with 2 Axes>"
            ]
          },
          "metadata": {
            "tags": [],
            "needs_background": "light"
          }
        }
      ]
    },
    {
      "cell_type": "markdown",
      "metadata": {
        "id": "qNjGwuecYk6X"
      },
      "source": [
        "______\r\n",
        "# **Q6**\r\n",
        "Before running this section, make sure you have run all the previous sections of the Colab file."
      ]
    },
    {
      "cell_type": "markdown",
      "metadata": {
        "id": "Dyv6NOcxYk6w"
      },
      "source": [
        "Here, we require that the fill rate for each retailer is at least as large as some pre-specified lower bound. Mathematically, if $X[c,r]$ denote the shipments from center $c$ to retailer $r$ and $P[r]$ are the pre-orders of $r$, we are imposing the constraint:<br>\r\n",
        "> $ \\frac{\\sum_{c \\in \\text{C1,C2,C3}} X[c,r]}{P[r]} \\geq f$\r\n",
        "\r\n",
        "for some pre-specified value $f$."
      ]
    },
    {
      "cell_type": "code",
      "metadata": {
        "colab": {
          "base_uri": "https://localhost:8080/"
        },
        "cellView": "form",
        "id": "xAwdwaCzYk6x",
        "outputId": "0dcb7a09-595d-441b-f9f1-fd2df0a442cd"
      },
      "source": [
        "#@title Solve a single problem instance with a minimum fill rate requirement\r\n",
        "#@markdown Select the desired minimum fill rate (as a percentage)\r\n",
        "min_fill_rate = 29.6 #@param {type:\"number\"}\r\n",
        "min_fill_rate = min_fill_rate/100\r\n",
        "\r\n",
        "#markdown Create a model like the one in Q1\r\n",
        "AlsetModel, factoriesToCenters, centersToRetailers, gross_profit, constr = \\\r\n",
        "       create_model_like_in_Q1()\r\n",
        "\r\n",
        "#@markdown Constrain the fill rate at each retailer\r\n",
        "fill_rate_constraint = {}  # store the fill rate constraints in a dictionary, to make it easy to recall them\r\n",
        "for r in retailers :\r\n",
        "    fill_rate_constraint[r] = \\\r\n",
        "    AlsetModel.addConstr( quicksum(centersToRetailers[c,r] for c in centers) / retailersDF[\"Pre-orders\"][r] >= min_fill_rate)\r\n",
        "        \r\n",
        "#@markdown Solve the new model\r\n",
        "#@markdown - select whether to run the [Gurobi](https://www.gurobi.com/) optimization algorithms silently (no output details)\r\n",
        "run_silently = True #@param {type:\"boolean\"}\r\n",
        "\r\n",
        "if run_silently:\r\n",
        "    AlsetModel.setParam('OutputFlag',0)\r\n",
        "else:\r\n",
        "    AlsetModel.setParam('OutputFlag',1)\r\n",
        "\r\n",
        "AlsetModel.optimize()\r\n",
        "print('\\nSolved the optimization problem...\\n')\r\n",
        "\r\n",
        "if AlsetModel.status in [GRB.INFEASIBLE, GRB.INF_OR_UNBD]:\r\n",
        "    # the model is infeasible\r\n",
        "    print(\"It is infeasible to achieve this fill rate at all retailers.\")\r\n",
        "\r\n",
        "elif AlsetModel.status==GRB.OPTIMAL:\r\n",
        "    # the model was solved to optimality\r\n",
        "    #@markdown Print the gross profit and the difference from Q1\r\n",
        "    print_and_compare_Q1(AlsetModel, centersToRetailers)"
      ],
      "execution_count": null,
      "outputs": [
        {
          "output_type": "stream",
          "text": [
            "\n",
            "Solved the optimization problem...\n",
            "\n",
            "============================================================\n",
            "The gross profit with these considerations         : 33,623,200.00\n",
            "Profit difference compared to Q1:                  : -1,800.00\n",
            "Profit loss (%):                                   : -0.01\n",
            "============================================================\n",
            "The number of orders and the fill rate at each retailer:\n",
            "\n",
            "   Retailer \t Orders \t Fill rate\n",
            "   OO     \t 1480 \t\t 29.60%\n",
            "   FL     \t 2500 \t\t 100.00%\n",
            "   SH     \t 474 \t\t 29.60%\n",
            "   WW     \t 550 \t\t 100.00%\n"
          ],
          "name": "stdout"
        }
      ]
    },
    {
      "cell_type": "code",
      "metadata": {
        "colab": {
          "base_uri": "https://localhost:8080/"
        },
        "cellView": "form",
        "id": "7BYM7llCaJfD",
        "outputId": "2253a3f8-6d16-47a6-d02a-737f81034c4d"
      },
      "source": [
        "#@title Examine how the gross profit (losses) depend on the minimum fill rate requirement\r\n",
        "fill_rate_vals = list(np.arange(0,72.6,0.1))      # set up values for the fill rate (in percentage terms)\r\n",
        "\r\n",
        "# the objective values and the loss compared to Q1\r\n",
        "objValues = [0]*len(fill_rate_vals)\r\n",
        "loss_Q1 = [0]*len(fill_rate_vals)\r\n",
        "\r\n",
        "# a dictionary with a list for each customer, that stores the realized fill rate at that customer\r\n",
        "individual_fillrates = {}   \r\n",
        "for r in retailers:\r\n",
        "    individual_fillrates[r] = [0]*len(fill_rate_vals)\r\n",
        "\r\n",
        "for i in range(len(fill_rate_vals)):\r\n",
        "    # change the fill rate constraint \r\n",
        "    for r in retailers :\r\n",
        "        fill_rate_constraint[r].setAttr('rhs', fill_rate_vals[i]/100)\r\n",
        "    \r\n",
        "    AlsetModel.optimize()   \r\n",
        "    objValues[i] = AlsetModel.objVal\r\n",
        "    loss_Q1[i] = (1.0 - objValues[i]/gross_profit_Q1)*100\r\n",
        "    for r in retailers:\r\n",
        "        individual_fillrates[r][i] = (sum(centersToRetailers[c,r].X for c in centers) / retailersDF[\"Pre-orders\"][r])*100  \r\n",
        "\r\n",
        "#@markdown Do a single plot for everything\r\n",
        "fontsize = 15\r\n",
        "fig, ax1 = plt.subplots(figsize=(15,8))\r\n",
        "color1 = 'black'\r\n",
        "\r\n",
        "for r in retailers:\r\n",
        "    plt.plot(fill_rate_vals, individual_fillrates[r], linestyle='solid', linewidth=3 )\r\n",
        "\r\n",
        "plt.xlabel(\"Minimum required fill-rate (%)\", fontsize=fontsize)\r\n",
        "plt.ylabel(\"Fill rates (%)\", color=color1, fontsize=fontsize)\r\n",
        "ax1.tick_params(axis='y', labelcolor=color1)\r\n",
        "plt.yticks(fontsize=fontsize)\r\n",
        "plt.xticks(fontsize=fontsize)\r\n",
        "plt.legend(retailers, fontsize=fontsize)\r\n",
        "\r\n",
        "ax2 = ax1.twinx()  # instantiate a second axes that shares the same x-axis\r\n",
        "color2 = 'magenta'\r\n",
        "ax2.set_ylabel('Profit loss from Q1 (%)', color=color2, fontsize=fontsize)  # we already handled the x-label with ax1\r\n",
        "ax2.plot(fill_rate_vals, loss_Q1, color='magenta', linestyle='--', linewidth=3)\r\n",
        "ax2.tick_params(axis='y', labelcolor=color2)\r\n",
        "plt.yticks(fontsize=fontsize)\r\n",
        "plt.xticks(fontsize=fontsize)\r\n",
        "\r\n",
        "plt.tight_layout()\r\n",
        "plt.show()"
      ],
      "execution_count": null,
      "outputs": [
        {
          "output_type": "display_data",
          "data": {
            "image/png": "[encoded data removed]",
            "text/plain": [
              "<Figure size 1080x576 with 2 Axes>"
            ]
          },
          "metadata": {
            "tags": [],
            "needs_background": "light"
          }
        }
      ]
    },
    {
      "cell_type": "markdown",
      "metadata": {
        "id": "ESrQ0be6pb83"
      },
      "source": [
        "______\r\n",
        "# **Q7**\r\n",
        "Before running this section, make sure you have run all the previous sections of the Colab file."
      ]
    },
    {
      "cell_type": "markdown",
      "metadata": {
        "id": "EKH9fwZqpb9K"
      },
      "source": [
        "Here, we change the capacity in each facility (one at a time), resolve the problem, and record the difference in gross profits compared to **Q1**."
      ]
    },
    {
      "cell_type": "code",
      "metadata": {
        "colab": {
          "base_uri": "https://localhost:8080/"
        },
        "cellView": "form",
        "id": "1VdV-o7lxQb8",
        "outputId": "e5aa7aa5-1317-4072-fbae-ca03c278f529"
      },
      "source": [
        "#@title Select by how much to increase the capacity:\r\n",
        "\r\n",
        "capacity_increase = 1 #@param {type:\"number\"}\r\n",
        "\r\n",
        "for facility in [\"Zuffe\", \"Leip\", \"C1\", \"C2\", \"C3\"]:\r\n",
        "    #markdown Create a model like the one in Q1\r\n",
        "    AlsetModel, factoriesToCenters, centersToRetailers, gross_profit, constr = \\\r\n",
        "          create_model_like_in_Q1()\r\n",
        "\r\n",
        "    if facility in factories:\r\n",
        "        constr[\"factory_cap\"][facility].setAttr('rhs', factoriesDF[\"Capacity\"][facility] + capacity_increase)\r\n",
        "\r\n",
        "    elif facility in centers:\r\n",
        "        constr[\"center_cap\"][facility].setAttr('rhs', customizationCentersDF[\"Capacity\"][facility] + capacity_increase)\r\n",
        "\r\n",
        "    # run Gurobi silently\r\n",
        "    AlsetModel.setParam('OutputFlag',0)\r\n",
        "    AlsetModel.optimize()\r\n",
        "\r\n",
        "    if AlsetModel.status in [GRB.INFEASIBLE, GRB.INF_OR_UNBD]:\r\n",
        "        # the model is infeasible\r\n",
        "        print(\"The model is infeasible.\")\r\n",
        "\r\n",
        "    elif AlsetModel.status==GRB.OPTIMAL:\r\n",
        "        # the model was solved to optimality\r\n",
        "        print(\"By increasing the capacity at {} by {} unit(s), the profit difference compared to Q1 is: {:,.2f}\".\\\r\n",
        "              format(facility, capacity_increase, AlsetModel.objVal - gross_profit_Q1))"
      ],
      "execution_count": null,
      "outputs": [
        {
          "output_type": "stream",
          "text": [
            "By increasing the capacity at Zuffe by 1 unit(s), the profit difference compared to Q1 is: 3,000.00\n",
            "By increasing the capacity at Leip by 1 unit(s), the profit difference compared to Q1 is: 0.00\n",
            "By increasing the capacity at C1 by 1 unit(s), the profit difference compared to Q1 is: 6,000.00\n",
            "By increasing the capacity at C2 by 1 unit(s), the profit difference compared to Q1 is: 1,500.00\n",
            "By increasing the capacity at C3 by 1 unit(s), the profit difference compared to Q1 is: 0.00\n"
          ],
          "name": "stdout"
        }
      ]
    },
    {
      "cell_type": "code",
      "metadata": {
        "colab": {
          "base_uri": "https://localhost:8080/"
        },
        "cellView": "form",
        "id": "DnAl3_nPpb9L",
        "outputId": "e28a0b2e-9092-43b1-b7f3-0708bca77e3b"
      },
      "source": [
        "#@title The code below allows you to visualize how the profit changes as a function of the capacity increase\r\n",
        "\r\n",
        "#@markdown Select one of the facilities\r\n",
        "facility = 'C1' #@param [\"Zuffe\", \"Leip\", \"C1\", \"C2\", \"C3\"] {allow-input: false}\r\n",
        "\r\n",
        "#@markdown Select by how much to increase the capacity at the facility\r\n",
        "capacity_increase = 1 #@param {type:\"number\"}\r\n",
        "\r\n",
        "#markdown Create a model like the one in Q1\r\n",
        "AlsetModel, factoriesToCenters, centersToRetailers, gross_profit, constr = \\\r\n",
        "       create_model_like_in_Q1()\r\n",
        "\r\n",
        "if facility in factories:\r\n",
        "    constr[\"factory_cap\"][facility].setAttr('rhs', factoriesDF[\"Capacity\"][facility] + capacity_increase)\r\n",
        "\r\n",
        "elif facility in centers:\r\n",
        "    constr[\"center_cap\"][facility].setAttr('rhs', customizationCentersDF[\"Capacity\"][facility] + capacity_increase)\r\n",
        "\r\n",
        "#@markdown Solve the new model\r\n",
        "#@markdown - select whether to run the [Gurobi](https://www.gurobi.com/) optimization algorithms silently (no output details)\r\n",
        "run_silently = True #@param {type:\"boolean\"}\r\n",
        "\r\n",
        "if run_silently:\r\n",
        "    AlsetModel.setParam('OutputFlag',0)\r\n",
        "else:\r\n",
        "    AlsetModel.setParam('OutputFlag',1)\r\n",
        "\r\n",
        "AlsetModel.optimize()\r\n",
        "print('\\nSolved the new optimization problem...\\n')\r\n",
        "\r\n",
        "if AlsetModel.status in [GRB.INFEASIBLE, GRB.INF_OR_UNBD]:\r\n",
        "    # the model is infeasible\r\n",
        "    print(\"The model is infeasible.\")\r\n",
        "\r\n",
        "elif AlsetModel.status==GRB.OPTIMAL:\r\n",
        "    # the model was solved to optimality\r\n",
        "    print(\"The profit difference compared to Q1: {:,.2f}\".\\\r\n",
        "          format(AlsetModel.objVal - gross_profit_Q1))"
      ],
      "execution_count": null,
      "outputs": [
        {
          "output_type": "stream",
          "text": [
            "\n",
            "Solved the new optimization problem...\n",
            "\n",
            "The profit difference compared to Q1: 6,000.00\n"
          ],
          "name": "stdout"
        }
      ]
    },
    {
      "cell_type": "code",
      "metadata": {
        "colab": {
          "base_uri": "https://localhost:8080/",
          "height": 941
        },
        "cellView": "form",
        "collapsed": true,
        "id": "LyXK-JMwyjZo",
        "outputId": "a4772cd5-21b9-4da8-ab2b-2519cba665f6"
      },
      "source": [
        "#@title The code below allows you to visualize how the profit changes as a function of the capacity increase\r\n",
        "\r\n",
        "#@markdown Select one of the facilities\r\n",
        "facility = 'C2' #@param [\"Zuffe\", \"Leip\", \"C1\", \"C2\", \"C3\"] {allow-input: false}\r\n",
        "\r\n",
        "# set up values for the capacity increase \r\n",
        "cap_increase = list(np.arange(0,5600,100))\r\n",
        "\r\n",
        "# the objective values and the loss compared to Q1\r\n",
        "objValues = [0]*len(cap_increase)\r\n",
        "change_Q1 = [0]*len(cap_increase)\r\n",
        "\r\n",
        "# Create a model like the one in Q1\r\n",
        "AlsetModel, factoriesToCenters, centersToRetailers, gross_profit, constr = \\\r\n",
        "       create_model_like_in_Q1()\r\n",
        "\r\n",
        "AlsetModel.setParam('OutputFlag', 0)   # supress Gurobi's output\r\n",
        "\r\n",
        "for i in range(len(cap_increase)):\r\n",
        "    \r\n",
        "    # change capacity at the facility\r\n",
        "    if facility in factories:\r\n",
        "        constr[\"factory_cap\"][facility].setAttr('rhs', factoriesDF[\"Capacity\"][facility] + cap_increase[i])\r\n",
        "\r\n",
        "    elif facility in centers:\r\n",
        "        constr[\"center_cap\"][facility].setAttr('rhs', customizationCentersDF[\"Capacity\"][facility] + cap_increase[i])\r\n",
        "\r\n",
        "    # solve the model\r\n",
        "    AlsetModel.optimize()\r\n",
        "    \r\n",
        "    #print(\"{:10.2f} : {:10.2f} \".format(cap_increase[i],center_cap_constraints[\"C1\"].pi))\r\n",
        "\r\n",
        "    objValues[i] = AlsetModel.objVal\r\n",
        "    #change_Q1[i] = (objValues[i]/gross_profit_Q1 - 1.0)*100\r\n",
        "    change_Q1[i] = objValues[i] - gross_profit_Q1\r\n",
        "\r\n",
        "#@markdown Visualize the dependency\r\n",
        "fontsize = 20\r\n",
        "fig, ax1 = plt.subplots(figsize=(25,15))\r\n",
        "\r\n",
        "# plot the gross profits changes\r\n",
        "plt.plot(cap_increase, change_Q1, linestyle='solid', linewidth=3, color='blue' )\r\n",
        "\r\n",
        "plt.xlabel(\"Capacity increase in \" + facility, fontsize=fontsize)\r\n",
        "plt.ylabel(\"Gross profit change from Q1 (EUR)\", fontsize=fontsize)\r\n",
        "plt.yticks(fontsize=fontsize)\r\n",
        "\r\n",
        "plt.xticks(ticks=cap_increase, rotation=90)\r\n",
        "plt.xticks(fontsize=fontsize)\r\n",
        "\r\n",
        "# calculate the required payments\r\n",
        "#plt.legend((\"Gross profit change from Q1\",\"Payments for new capacity\"),fontsize=30,loc=\"lower center\")\r\n",
        "plt.show()"
      ],
      "execution_count": null,
      "outputs": [
        {
          "output_type": "display_data",
          "data": {
            "image/png": "[encoded data removed]",
            "text/plain": [
              "<Figure size 1800x1080 with 1 Axes>"
            ]
          },
          "metadata": {
            "tags": [],
            "needs_background": "light"
          }
        }
      ]
    }
  ]
}