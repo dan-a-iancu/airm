{
  "nbformat": 4,
  "nbformat_minor": 0,
  "metadata": {
    "kernelspec": {
      "display_name": "Python 3",
      "language": "python",
      "name": "python3"
    },
    "language_info": {
      "codemirror_mode": {
        "name": "ipython",
        "version": 3
      },
      "file_extension": ".py",
      "mimetype": "text/x-python",
      "name": "python",
      "nbconvert_exporter": "python",
      "pygments_lexer": "ipython3",
      "version": "3.6.5"
    },
    "colab": {
      "name": "Alset Motors.ipynb",
      "provenance": [],
      "collapsed_sections": [
        "vb4A3Z6sy5J_",
        "8yhR3xIVyJ13",
        "z1Fz9Viqj3Oz",
        "QbmO9_Taj3PH",
        "Q2T_Zf2nj3PI",
        "dMLkUyKMj3PV",
        "z9kO1tqvj3Pc",
        "IjtI8X9dj3Pl",
        "3UvnyEhh5yN_",
        "qu1eJhBgB7aM",
        "4TE_yA_h6WVj",
        "15oDqs2YPbU_",
        "UETm_Y0UXHOu",
        "GFjmgL2USxFZ",
        "qNjGwuecYk6X",
        "ESrQ0be6pb83"
      ],
      "toc_visible": true,
      "include_colab_link": true
    }
  },
  "cells": [
    {
      "cell_type": "markdown",
      "metadata": {
        "id": "view-in-github",
        "colab_type": "text"
      },
      "source": [
        "<a href=\"https://colab.research.google.com/github/dan-a-iancu/airm/blob/master/Alset_Motors/Alset_Motors.ipynb\" target=\"_parent\"><img src=\"https://colab.research.google.com/assets/colab-badge.svg\" alt=\"Open In Colab\"/></a>"
      ]
    },
    {
      "cell_type": "markdown",
      "metadata": {
        "id": "7VtkH-sn3oBT"
      },
      "source": [
        "This notebook implements the solution to the **Alset Motors** mini-case. It assumes you are familiar with the case and the model."
      ]
    },
    {
      "cell_type": "markdown",
      "metadata": {
        "id": "vb4A3Z6sy5J_"
      },
      "source": [
        "____\n",
        "# Basic Setup\n",
        "\n",
        "Import useful modules, read the data and store it in data frames, and set up some useful Python lists. You may want to expand this section and make sure you understand how the data is organized, and also read the last part where the Python lists are created, as these may be very useful when you build your model."
      ]
    },
    {
      "cell_type": "code",
      "metadata": {
        "colab": {
          "base_uri": "https://localhost:8080/"
        },
        "id": "WcFPypqhXbcv",
        "cellView": "form",
        "outputId": "bf36f2b1-43ba-4e34-e68e-b0911c650fa1"
      },
      "source": [
        "#@markdown We first import some useful modules. \n",
        "\n",
        "# Python ≥3.5 is required\n",
        "import sys\n",
        "assert sys.version_info >= (3, 5)\n",
        "\n",
        "# import numpy\n",
        "import numpy as np\n",
        "import urllib.request  # for file downloading\n",
        "\n",
        "# Import pandas for data-frames\n",
        "import pandas as pd\n",
        "pd.options.display.max_rows = 15\n",
        "pd.options.display.float_format = \"{:,.2f}\".format\n",
        "\n",
        "from IPython.display import display\n",
        "\n",
        "# Make sure Matplotlib runs inline, for nice figures\n",
        "%matplotlib inline\n",
        "import matplotlib as mpl\n",
        "import matplotlib.pyplot as plt\n",
        "mpl.rc('axes', labelsize=14)\n",
        "mpl.rc('xtick', labelsize=12)\n",
        "mpl.rc('ytick', labelsize=12)\n",
        "import matplotlib.ticker as ticker \n",
        "\n",
        "# install Gurobi (our linear optimization solver)\n",
        "!pip install -i https://pypi.gurobi.com gurobipy\n",
        "from gurobipy import *\n",
        "\n",
        "# some modules to create local directories for CBC (to avoid issues with solving multiple models)\n",
        "import os\n",
        "def new_local_directory(name):\n",
        "    full_path = os.path.join(\".\", name)\n",
        "    os.makedirs(full_path, exist_ok=True)\n",
        "    return full_path\n",
        "\n",
        "# install the latest version of seaborn for nicer graphics\n",
        "#!pip install --prefix {sys.prefix} seaborn==0.11.0  &> /dev/null\n",
        "import seaborn as sns\n",
        "\n",
        "# Ignore useless some warnings\n",
        "import warnings\n",
        "warnings.simplefilter(action=\"ignore\")\n",
        "\n",
        "print(\"Completed successfully!\")"
      ],
      "execution_count": 1,
      "outputs": [
        {
          "output_type": "stream",
          "name": "stdout",
          "text": [
            "Looking in indexes: https://pypi.gurobi.com\n",
            "Requirement already satisfied: gurobipy in /usr/local/lib/python3.7/dist-packages (9.5.1)\n",
            "Completed successfully!\n"
          ]
        }
      ]
    },
    {
      "cell_type": "markdown",
      "metadata": {
        "id": "Aqf-EBXAAgn1"
      },
      "source": [
        "## Load the case data into Pandas data frames"
      ]
    },
    {
      "cell_type": "markdown",
      "metadata": {
        "id": "17bUiOG3EYfu"
      },
      "source": [
        "We first download an Excel file with all the data from Github."
      ]
    },
    {
      "cell_type": "code",
      "metadata": {
        "colab": {
          "base_uri": "https://localhost:8080/"
        },
        "id": "oO9JJFpMEX8K",
        "cellView": "form",
        "outputId": "39eb65dc-aff6-4b15-c0db-de50cab9c778"
      },
      "source": [
        "#@markdown Download the entire data as an Excel file from Github\n",
        "\n",
        "url_Excel = 'https://raw.githubusercontent.com/dan-a-iancu/airm/master/Alset_Motors/Alset_Motors_Data.xlsx?raw=true'\n",
        "local_file = \"Alset_Motors_Data.xlsx\"   # name of local file where you want to store the downloaded file\n",
        "urllib.request.urlretrieve(url_Excel, local_file)    # download from website and save it locally"
      ],
      "execution_count": 2,
      "outputs": [
        {
          "output_type": "execute_result",
          "data": {
            "text/plain": [
              "('Alset_Motors_Data.xlsx', <http.client.HTTPMessage at 0x7fd515674a90>)"
            ]
          },
          "metadata": {},
          "execution_count": 2
        }
      ]
    },
    {
      "cell_type": "markdown",
      "metadata": {
        "id": "nb7NvPyuyoGh"
      },
      "source": [
        "Read in and store the data in suitable dataframes."
      ]
    },
    {
      "cell_type": "code",
      "metadata": {
        "colab": {
          "base_uri": "https://localhost:8080/",
          "height": 0
        },
        "cellView": "form",
        "id": "EUxSwrdEyJDs",
        "outputId": "c2ebb83d-9321-403a-a335-7177d2eb607a"
      },
      "source": [
        "#@markdown Create dataframes based on the Excel file\n",
        "\n",
        "# data on factories (Table 1); \"index_col=0\" just assigns the first column as the row names of the data frame\n",
        "factoriesDF = pd.read_excel(\"Alset_Motors_Data.xlsx\", sheet_name = \"Factories\", index_col=0)\n",
        "display(factoriesDF)\n",
        "\n",
        "# costs from factories to customization centers (Table 2)\n",
        "costsFactoriesToCentersDF = pd.read_excel(\"Alset_Motors_Data.xlsx\", \\\n",
        "                                    sheet_name = \"Factories_to_Centers\", index_col=0) \n",
        "display(costsFactoriesToCentersDF)\n",
        "\n",
        "# customization center data (Table 3)\n",
        "customizationCentersDF = pd.read_excel(\"Alset_Motors_Data.xlsx\", sheet_name = \"Customization_Centers\", index_col=0)\n",
        "display(customizationCentersDF)\n",
        "\n",
        "# customer pre-order data (Table 4)\n",
        "retailersDF = pd.read_excel(\"Alset_Motors_Data.xlsx\", sheet_name = \"Retailer_Preorders\", index_col=0)\n",
        "display(retailersDF)\n",
        "\n",
        "# costs from customization centers to clients (Table 5)\n",
        "costsCentersToRetailersDF = pd.read_excel(\"Alset_Motors_Data.xlsx\", \\\n",
        "                              sheet_name = \"Centers_to_Retailers\", index_col=0)\n",
        "display(costsCentersToRetailersDF)"
      ],
      "execution_count": 3,
      "outputs": [
        {
          "output_type": "display_data",
          "data": {
            "text/html": [
              "\n",
              "  <div id=\"df-8279a517-df0f-4c11-b087-00b2eb08c4cd\">\n",
              "    <div class=\"colab-df-container\">\n",
              "      <div>\n",
              "<style scoped>\n",
              "    .dataframe tbody tr th:only-of-type {\n",
              "        vertical-align: middle;\n",
              "    }\n",
              "\n",
              "    .dataframe tbody tr th {\n",
              "        vertical-align: top;\n",
              "    }\n",
              "\n",
              "    .dataframe thead th {\n",
              "        text-align: right;\n",
              "    }\n",
              "</style>\n",
              "<table border=\"1\" class=\"dataframe\">\n",
              "  <thead>\n",
              "    <tr style=\"text-align: right;\">\n",
              "      <th></th>\n",
              "      <th>Cost</th>\n",
              "      <th>Capacity</th>\n",
              "    </tr>\n",
              "    <tr>\n",
              "      <th>Factory</th>\n",
              "      <th></th>\n",
              "      <th></th>\n",
              "    </tr>\n",
              "  </thead>\n",
              "  <tbody>\n",
              "    <tr>\n",
              "      <th>Zuffe</th>\n",
              "      <td>54000</td>\n",
              "      <td>5000</td>\n",
              "    </tr>\n",
              "    <tr>\n",
              "      <th>Leip</th>\n",
              "      <td>58500</td>\n",
              "      <td>2000</td>\n",
              "    </tr>\n",
              "  </tbody>\n",
              "</table>\n",
              "</div>\n",
              "      <button class=\"colab-df-convert\" onclick=\"convertToInteractive('df-8279a517-df0f-4c11-b087-00b2eb08c4cd')\"\n",
              "              title=\"Convert this dataframe to an interactive table.\"\n",
              "              style=\"display:none;\">\n",
              "        \n",
              "  <svg xmlns=\"http://www.w3.org/2000/svg\" height=\"24px\"viewBox=\"0 0 24 24\"\n",
              "       width=\"24px\">\n",
              "    <path d=\"M0 0h24v24H0V0z\" fill=\"none\"/>\n",
              "    <path d=\"M18.56 5.44l.94 2.06.94-2.06 2.06-.94-2.06-.94-.94-2.06-.94 2.06-2.06.94zm-11 1L8.5 8.5l.94-2.06 2.06-.94-2.06-.94L8.5 2.5l-.94 2.06-2.06.94zm10 10l.94 2.06.94-2.06 2.06-.94-2.06-.94-.94-2.06-.94 2.06-2.06.94z\"/><path d=\"M17.41 7.96l-1.37-1.37c-.4-.4-.92-.59-1.43-.59-.52 0-1.04.2-1.43.59L10.3 9.45l-7.72 7.72c-.78.78-.78 2.05 0 2.83L4 21.41c.39.39.9.59 1.41.59.51 0 1.02-.2 1.41-.59l7.78-7.78 2.81-2.81c.8-.78.8-2.07 0-2.86zM5.41 20L4 18.59l7.72-7.72 1.47 1.35L5.41 20z\"/>\n",
              "  </svg>\n",
              "      </button>\n",
              "      \n",
              "  <style>\n",
              "    .colab-df-container {\n",
              "      display:flex;\n",
              "      flex-wrap:wrap;\n",
              "      gap: 12px;\n",
              "    }\n",
              "\n",
              "    .colab-df-convert {\n",
              "      background-color: #E8F0FE;\n",
              "      border: none;\n",
              "      border-radius: 50%;\n",
              "      cursor: pointer;\n",
              "      display: none;\n",
              "      fill: #1967D2;\n",
              "      height: 32px;\n",
              "      padding: 0 0 0 0;\n",
              "      width: 32px;\n",
              "    }\n",
              "\n",
              "    .colab-df-convert:hover {\n",
              "      background-color: #E2EBFA;\n",
              "      box-shadow: 0px 1px 2px rgba(60, 64, 67, 0.3), 0px 1px 3px 1px rgba(60, 64, 67, 0.15);\n",
              "      fill: #174EA6;\n",
              "    }\n",
              "\n",
              "    [theme=dark] .colab-df-convert {\n",
              "      background-color: #3B4455;\n",
              "      fill: #D2E3FC;\n",
              "    }\n",
              "\n",
              "    [theme=dark] .colab-df-convert:hover {\n",
              "      background-color: #434B5C;\n",
              "      box-shadow: 0px 1px 3px 1px rgba(0, 0, 0, 0.15);\n",
              "      filter: drop-shadow(0px 1px 2px rgba(0, 0, 0, 0.3));\n",
              "      fill: #FFFFFF;\n",
              "    }\n",
              "  </style>\n",
              "\n",
              "      <script>\n",
              "        const buttonEl =\n",
              "          document.querySelector('#df-8279a517-df0f-4c11-b087-00b2eb08c4cd button.colab-df-convert');\n",
              "        buttonEl.style.display =\n",
              "          google.colab.kernel.accessAllowed ? 'block' : 'none';\n",
              "\n",
              "        async function convertToInteractive(key) {\n",
              "          const element = document.querySelector('#df-8279a517-df0f-4c11-b087-00b2eb08c4cd');\n",
              "          const dataTable =\n",
              "            await google.colab.kernel.invokeFunction('convertToInteractive',\n",
              "                                                     [key], {});\n",
              "          if (!dataTable) return;\n",
              "\n",
              "          const docLinkHtml = 'Like what you see? Visit the ' +\n",
              "            '<a target=\"_blank\" href=https://colab.research.google.com/notebooks/data_table.ipynb>data table notebook</a>'\n",
              "            + ' to learn more about interactive tables.';\n",
              "          element.innerHTML = '';\n",
              "          dataTable['output_type'] = 'display_data';\n",
              "          await google.colab.output.renderOutput(dataTable, element);\n",
              "          const docLink = document.createElement('div');\n",
              "          docLink.innerHTML = docLinkHtml;\n",
              "          element.appendChild(docLink);\n",
              "        }\n",
              "      </script>\n",
              "    </div>\n",
              "  </div>\n",
              "  "
            ],
            "text/plain": [
              "          Cost  Capacity\n",
              "Factory                 \n",
              "Zuffe    54000      5000\n",
              "Leip     58500      2000"
            ]
          },
          "metadata": {}
        },
        {
          "output_type": "display_data",
          "data": {
            "text/html": [
              "\n",
              "  <div id=\"df-a0e613f2-0be9-48ec-b2a1-bc3379eea536\">\n",
              "    <div class=\"colab-df-container\">\n",
              "      <div>\n",
              "<style scoped>\n",
              "    .dataframe tbody tr th:only-of-type {\n",
              "        vertical-align: middle;\n",
              "    }\n",
              "\n",
              "    .dataframe tbody tr th {\n",
              "        vertical-align: top;\n",
              "    }\n",
              "\n",
              "    .dataframe thead th {\n",
              "        text-align: right;\n",
              "    }\n",
              "</style>\n",
              "<table border=\"1\" class=\"dataframe\">\n",
              "  <thead>\n",
              "    <tr style=\"text-align: right;\">\n",
              "      <th></th>\n",
              "      <th>C1</th>\n",
              "      <th>C2</th>\n",
              "      <th>C3</th>\n",
              "    </tr>\n",
              "  </thead>\n",
              "  <tbody>\n",
              "    <tr>\n",
              "      <th>Zuffe</th>\n",
              "      <td>1000</td>\n",
              "      <td>2500</td>\n",
              "      <td>2000</td>\n",
              "    </tr>\n",
              "    <tr>\n",
              "      <th>Leip</th>\n",
              "      <td>2000</td>\n",
              "      <td>1500</td>\n",
              "      <td>1800</td>\n",
              "    </tr>\n",
              "  </tbody>\n",
              "</table>\n",
              "</div>\n",
              "      <button class=\"colab-df-convert\" onclick=\"convertToInteractive('df-a0e613f2-0be9-48ec-b2a1-bc3379eea536')\"\n",
              "              title=\"Convert this dataframe to an interactive table.\"\n",
              "              style=\"display:none;\">\n",
              "        \n",
              "  <svg xmlns=\"http://www.w3.org/2000/svg\" height=\"24px\"viewBox=\"0 0 24 24\"\n",
              "       width=\"24px\">\n",
              "    <path d=\"M0 0h24v24H0V0z\" fill=\"none\"/>\n",
              "    <path d=\"M18.56 5.44l.94 2.06.94-2.06 2.06-.94-2.06-.94-.94-2.06-.94 2.06-2.06.94zm-11 1L8.5 8.5l.94-2.06 2.06-.94-2.06-.94L8.5 2.5l-.94 2.06-2.06.94zm10 10l.94 2.06.94-2.06 2.06-.94-2.06-.94-.94-2.06-.94 2.06-2.06.94z\"/><path d=\"M17.41 7.96l-1.37-1.37c-.4-.4-.92-.59-1.43-.59-.52 0-1.04.2-1.43.59L10.3 9.45l-7.72 7.72c-.78.78-.78 2.05 0 2.83L4 21.41c.39.39.9.59 1.41.59.51 0 1.02-.2 1.41-.59l7.78-7.78 2.81-2.81c.8-.78.8-2.07 0-2.86zM5.41 20L4 18.59l7.72-7.72 1.47 1.35L5.41 20z\"/>\n",
              "  </svg>\n",
              "      </button>\n",
              "      \n",
              "  <style>\n",
              "    .colab-df-container {\n",
              "      display:flex;\n",
              "      flex-wrap:wrap;\n",
              "      gap: 12px;\n",
              "    }\n",
              "\n",
              "    .colab-df-convert {\n",
              "      background-color: #E8F0FE;\n",
              "      border: none;\n",
              "      border-radius: 50%;\n",
              "      cursor: pointer;\n",
              "      display: none;\n",
              "      fill: #1967D2;\n",
              "      height: 32px;\n",
              "      padding: 0 0 0 0;\n",
              "      width: 32px;\n",
              "    }\n",
              "\n",
              "    .colab-df-convert:hover {\n",
              "      background-color: #E2EBFA;\n",
              "      box-shadow: 0px 1px 2px rgba(60, 64, 67, 0.3), 0px 1px 3px 1px rgba(60, 64, 67, 0.15);\n",
              "      fill: #174EA6;\n",
              "    }\n",
              "\n",
              "    [theme=dark] .colab-df-convert {\n",
              "      background-color: #3B4455;\n",
              "      fill: #D2E3FC;\n",
              "    }\n",
              "\n",
              "    [theme=dark] .colab-df-convert:hover {\n",
              "      background-color: #434B5C;\n",
              "      box-shadow: 0px 1px 3px 1px rgba(0, 0, 0, 0.15);\n",
              "      filter: drop-shadow(0px 1px 2px rgba(0, 0, 0, 0.3));\n",
              "      fill: #FFFFFF;\n",
              "    }\n",
              "  </style>\n",
              "\n",
              "      <script>\n",
              "        const buttonEl =\n",
              "          document.querySelector('#df-a0e613f2-0be9-48ec-b2a1-bc3379eea536 button.colab-df-convert');\n",
              "        buttonEl.style.display =\n",
              "          google.colab.kernel.accessAllowed ? 'block' : 'none';\n",
              "\n",
              "        async function convertToInteractive(key) {\n",
              "          const element = document.querySelector('#df-a0e613f2-0be9-48ec-b2a1-bc3379eea536');\n",
              "          const dataTable =\n",
              "            await google.colab.kernel.invokeFunction('convertToInteractive',\n",
              "                                                     [key], {});\n",
              "          if (!dataTable) return;\n",
              "\n",
              "          const docLinkHtml = 'Like what you see? Visit the ' +\n",
              "            '<a target=\"_blank\" href=https://colab.research.google.com/notebooks/data_table.ipynb>data table notebook</a>'\n",
              "            + ' to learn more about interactive tables.';\n",
              "          element.innerHTML = '';\n",
              "          dataTable['output_type'] = 'display_data';\n",
              "          await google.colab.output.renderOutput(dataTable, element);\n",
              "          const docLink = document.createElement('div');\n",
              "          docLink.innerHTML = docLinkHtml;\n",
              "          element.appendChild(docLink);\n",
              "        }\n",
              "      </script>\n",
              "    </div>\n",
              "  </div>\n",
              "  "
            ],
            "text/plain": [
              "         C1    C2    C3\n",
              "Zuffe  1000  2500  2000\n",
              "Leip   2000  1500  1800"
            ]
          },
          "metadata": {}
        },
        {
          "output_type": "display_data",
          "data": {
            "text/html": [
              "\n",
              "  <div id=\"df-246bee26-0e3c-4b7d-9a19-32aca43336a0\">\n",
              "    <div class=\"colab-df-container\">\n",
              "      <div>\n",
              "<style scoped>\n",
              "    .dataframe tbody tr th:only-of-type {\n",
              "        vertical-align: middle;\n",
              "    }\n",
              "\n",
              "    .dataframe tbody tr th {\n",
              "        vertical-align: top;\n",
              "    }\n",
              "\n",
              "    .dataframe thead th {\n",
              "        text-align: right;\n",
              "    }\n",
              "</style>\n",
              "<table border=\"1\" class=\"dataframe\">\n",
              "  <thead>\n",
              "    <tr style=\"text-align: right;\">\n",
              "      <th></th>\n",
              "      <th>Staffing_Cost</th>\n",
              "      <th>Capacity</th>\n",
              "    </tr>\n",
              "  </thead>\n",
              "  <tbody>\n",
              "    <tr>\n",
              "      <th>C1</th>\n",
              "      <td>3000</td>\n",
              "      <td>2000</td>\n",
              "    </tr>\n",
              "    <tr>\n",
              "      <th>C2</th>\n",
              "      <td>6000</td>\n",
              "      <td>2200</td>\n",
              "    </tr>\n",
              "    <tr>\n",
              "      <th>C3</th>\n",
              "      <td>7500</td>\n",
              "      <td>3300</td>\n",
              "    </tr>\n",
              "  </tbody>\n",
              "</table>\n",
              "</div>\n",
              "      <button class=\"colab-df-convert\" onclick=\"convertToInteractive('df-246bee26-0e3c-4b7d-9a19-32aca43336a0')\"\n",
              "              title=\"Convert this dataframe to an interactive table.\"\n",
              "              style=\"display:none;\">\n",
              "        \n",
              "  <svg xmlns=\"http://www.w3.org/2000/svg\" height=\"24px\"viewBox=\"0 0 24 24\"\n",
              "       width=\"24px\">\n",
              "    <path d=\"M0 0h24v24H0V0z\" fill=\"none\"/>\n",
              "    <path d=\"M18.56 5.44l.94 2.06.94-2.06 2.06-.94-2.06-.94-.94-2.06-.94 2.06-2.06.94zm-11 1L8.5 8.5l.94-2.06 2.06-.94-2.06-.94L8.5 2.5l-.94 2.06-2.06.94zm10 10l.94 2.06.94-2.06 2.06-.94-2.06-.94-.94-2.06-.94 2.06-2.06.94z\"/><path d=\"M17.41 7.96l-1.37-1.37c-.4-.4-.92-.59-1.43-.59-.52 0-1.04.2-1.43.59L10.3 9.45l-7.72 7.72c-.78.78-.78 2.05 0 2.83L4 21.41c.39.39.9.59 1.41.59.51 0 1.02-.2 1.41-.59l7.78-7.78 2.81-2.81c.8-.78.8-2.07 0-2.86zM5.41 20L4 18.59l7.72-7.72 1.47 1.35L5.41 20z\"/>\n",
              "  </svg>\n",
              "      </button>\n",
              "      \n",
              "  <style>\n",
              "    .colab-df-container {\n",
              "      display:flex;\n",
              "      flex-wrap:wrap;\n",
              "      gap: 12px;\n",
              "    }\n",
              "\n",
              "    .colab-df-convert {\n",
              "      background-color: #E8F0FE;\n",
              "      border: none;\n",
              "      border-radius: 50%;\n",
              "      cursor: pointer;\n",
              "      display: none;\n",
              "      fill: #1967D2;\n",
              "      height: 32px;\n",
              "      padding: 0 0 0 0;\n",
              "      width: 32px;\n",
              "    }\n",
              "\n",
              "    .colab-df-convert:hover {\n",
              "      background-color: #E2EBFA;\n",
              "      box-shadow: 0px 1px 2px rgba(60, 64, 67, 0.3), 0px 1px 3px 1px rgba(60, 64, 67, 0.15);\n",
              "      fill: #174EA6;\n",
              "    }\n",
              "\n",
              "    [theme=dark] .colab-df-convert {\n",
              "      background-color: #3B4455;\n",
              "      fill: #D2E3FC;\n",
              "    }\n",
              "\n",
              "    [theme=dark] .colab-df-convert:hover {\n",
              "      background-color: #434B5C;\n",
              "      box-shadow: 0px 1px 3px 1px rgba(0, 0, 0, 0.15);\n",
              "      filter: drop-shadow(0px 1px 2px rgba(0, 0, 0, 0.3));\n",
              "      fill: #FFFFFF;\n",
              "    }\n",
              "  </style>\n",
              "\n",
              "      <script>\n",
              "        const buttonEl =\n",
              "          document.querySelector('#df-246bee26-0e3c-4b7d-9a19-32aca43336a0 button.colab-df-convert');\n",
              "        buttonEl.style.display =\n",
              "          google.colab.kernel.accessAllowed ? 'block' : 'none';\n",
              "\n",
              "        async function convertToInteractive(key) {\n",
              "          const element = document.querySelector('#df-246bee26-0e3c-4b7d-9a19-32aca43336a0');\n",
              "          const dataTable =\n",
              "            await google.colab.kernel.invokeFunction('convertToInteractive',\n",
              "                                                     [key], {});\n",
              "          if (!dataTable) return;\n",
              "\n",
              "          const docLinkHtml = 'Like what you see? Visit the ' +\n",
              "            '<a target=\"_blank\" href=https://colab.research.google.com/notebooks/data_table.ipynb>data table notebook</a>'\n",
              "            + ' to learn more about interactive tables.';\n",
              "          element.innerHTML = '';\n",
              "          dataTable['output_type'] = 'display_data';\n",
              "          await google.colab.output.renderOutput(dataTable, element);\n",
              "          const docLink = document.createElement('div');\n",
              "          docLink.innerHTML = docLinkHtml;\n",
              "          element.appendChild(docLink);\n",
              "        }\n",
              "      </script>\n",
              "    </div>\n",
              "  </div>\n",
              "  "
            ],
            "text/plain": [
              "    Staffing_Cost  Capacity\n",
              "C1           3000      2000\n",
              "C2           6000      2200\n",
              "C3           7500      3300"
            ]
          },
          "metadata": {}
        },
        {
          "output_type": "display_data",
          "data": {
            "text/html": [
              "\n",
              "  <div id=\"df-caca4abc-0221-44bc-bf79-e80662b03a94\">\n",
              "    <div class=\"colab-df-container\">\n",
              "      <div>\n",
              "<style scoped>\n",
              "    .dataframe tbody tr th:only-of-type {\n",
              "        vertical-align: middle;\n",
              "    }\n",
              "\n",
              "    .dataframe tbody tr th {\n",
              "        vertical-align: top;\n",
              "    }\n",
              "\n",
              "    .dataframe thead th {\n",
              "        text-align: right;\n",
              "    }\n",
              "</style>\n",
              "<table border=\"1\" class=\"dataframe\">\n",
              "  <thead>\n",
              "    <tr style=\"text-align: right;\">\n",
              "      <th></th>\n",
              "      <th>Pre-orders</th>\n",
              "      <th>Price</th>\n",
              "    </tr>\n",
              "  </thead>\n",
              "  <tbody>\n",
              "    <tr>\n",
              "      <th>OO</th>\n",
              "      <td>5000</td>\n",
              "      <td>71000</td>\n",
              "    </tr>\n",
              "    <tr>\n",
              "      <th>FL</th>\n",
              "      <td>2500</td>\n",
              "      <td>74000</td>\n",
              "    </tr>\n",
              "    <tr>\n",
              "      <th>SH</th>\n",
              "      <td>1600</td>\n",
              "      <td>69000</td>\n",
              "    </tr>\n",
              "    <tr>\n",
              "      <th>WW</th>\n",
              "      <td>550</td>\n",
              "      <td>71000</td>\n",
              "    </tr>\n",
              "  </tbody>\n",
              "</table>\n",
              "</div>\n",
              "      <button class=\"colab-df-convert\" onclick=\"convertToInteractive('df-caca4abc-0221-44bc-bf79-e80662b03a94')\"\n",
              "              title=\"Convert this dataframe to an interactive table.\"\n",
              "              style=\"display:none;\">\n",
              "        \n",
              "  <svg xmlns=\"http://www.w3.org/2000/svg\" height=\"24px\"viewBox=\"0 0 24 24\"\n",
              "       width=\"24px\">\n",
              "    <path d=\"M0 0h24v24H0V0z\" fill=\"none\"/>\n",
              "    <path d=\"M18.56 5.44l.94 2.06.94-2.06 2.06-.94-2.06-.94-.94-2.06-.94 2.06-2.06.94zm-11 1L8.5 8.5l.94-2.06 2.06-.94-2.06-.94L8.5 2.5l-.94 2.06-2.06.94zm10 10l.94 2.06.94-2.06 2.06-.94-2.06-.94-.94-2.06-.94 2.06-2.06.94z\"/><path d=\"M17.41 7.96l-1.37-1.37c-.4-.4-.92-.59-1.43-.59-.52 0-1.04.2-1.43.59L10.3 9.45l-7.72 7.72c-.78.78-.78 2.05 0 2.83L4 21.41c.39.39.9.59 1.41.59.51 0 1.02-.2 1.41-.59l7.78-7.78 2.81-2.81c.8-.78.8-2.07 0-2.86zM5.41 20L4 18.59l7.72-7.72 1.47 1.35L5.41 20z\"/>\n",
              "  </svg>\n",
              "      </button>\n",
              "      \n",
              "  <style>\n",
              "    .colab-df-container {\n",
              "      display:flex;\n",
              "      flex-wrap:wrap;\n",
              "      gap: 12px;\n",
              "    }\n",
              "\n",
              "    .colab-df-convert {\n",
              "      background-color: #E8F0FE;\n",
              "      border: none;\n",
              "      border-radius: 50%;\n",
              "      cursor: pointer;\n",
              "      display: none;\n",
              "      fill: #1967D2;\n",
              "      height: 32px;\n",
              "      padding: 0 0 0 0;\n",
              "      width: 32px;\n",
              "    }\n",
              "\n",
              "    .colab-df-convert:hover {\n",
              "      background-color: #E2EBFA;\n",
              "      box-shadow: 0px 1px 2px rgba(60, 64, 67, 0.3), 0px 1px 3px 1px rgba(60, 64, 67, 0.15);\n",
              "      fill: #174EA6;\n",
              "    }\n",
              "\n",
              "    [theme=dark] .colab-df-convert {\n",
              "      background-color: #3B4455;\n",
              "      fill: #D2E3FC;\n",
              "    }\n",
              "\n",
              "    [theme=dark] .colab-df-convert:hover {\n",
              "      background-color: #434B5C;\n",
              "      box-shadow: 0px 1px 3px 1px rgba(0, 0, 0, 0.15);\n",
              "      filter: drop-shadow(0px 1px 2px rgba(0, 0, 0, 0.3));\n",
              "      fill: #FFFFFF;\n",
              "    }\n",
              "  </style>\n",
              "\n",
              "      <script>\n",
              "        const buttonEl =\n",
              "          document.querySelector('#df-caca4abc-0221-44bc-bf79-e80662b03a94 button.colab-df-convert');\n",
              "        buttonEl.style.display =\n",
              "          google.colab.kernel.accessAllowed ? 'block' : 'none';\n",
              "\n",
              "        async function convertToInteractive(key) {\n",
              "          const element = document.querySelector('#df-caca4abc-0221-44bc-bf79-e80662b03a94');\n",
              "          const dataTable =\n",
              "            await google.colab.kernel.invokeFunction('convertToInteractive',\n",
              "                                                     [key], {});\n",
              "          if (!dataTable) return;\n",
              "\n",
              "          const docLinkHtml = 'Like what you see? Visit the ' +\n",
              "            '<a target=\"_blank\" href=https://colab.research.google.com/notebooks/data_table.ipynb>data table notebook</a>'\n",
              "            + ' to learn more about interactive tables.';\n",
              "          element.innerHTML = '';\n",
              "          dataTable['output_type'] = 'display_data';\n",
              "          await google.colab.output.renderOutput(dataTable, element);\n",
              "          const docLink = document.createElement('div');\n",
              "          docLink.innerHTML = docLinkHtml;\n",
              "          element.appendChild(docLink);\n",
              "        }\n",
              "      </script>\n",
              "    </div>\n",
              "  </div>\n",
              "  "
            ],
            "text/plain": [
              "    Pre-orders  Price\n",
              "OO        5000  71000\n",
              "FL        2500  74000\n",
              "SH        1600  69000\n",
              "WW         550  71000"
            ]
          },
          "metadata": {}
        },
        {
          "output_type": "display_data",
          "data": {
            "text/html": [
              "\n",
              "  <div id=\"df-96fbecf7-5e1c-47e2-b550-da4ebc1a0872\">\n",
              "    <div class=\"colab-df-container\">\n",
              "      <div>\n",
              "<style scoped>\n",
              "    .dataframe tbody tr th:only-of-type {\n",
              "        vertical-align: middle;\n",
              "    }\n",
              "\n",
              "    .dataframe tbody tr th {\n",
              "        vertical-align: top;\n",
              "    }\n",
              "\n",
              "    .dataframe thead th {\n",
              "        text-align: right;\n",
              "    }\n",
              "</style>\n",
              "<table border=\"1\" class=\"dataframe\">\n",
              "  <thead>\n",
              "    <tr style=\"text-align: right;\">\n",
              "      <th></th>\n",
              "      <th>OO</th>\n",
              "      <th>FL</th>\n",
              "      <th>SH</th>\n",
              "      <th>WW</th>\n",
              "    </tr>\n",
              "  </thead>\n",
              "  <tbody>\n",
              "    <tr>\n",
              "      <th>C1</th>\n",
              "      <td>4000</td>\n",
              "      <td>6000</td>\n",
              "      <td>3000</td>\n",
              "      <td>5000</td>\n",
              "    </tr>\n",
              "    <tr>\n",
              "      <th>C2</th>\n",
              "      <td>6000</td>\n",
              "      <td>6000</td>\n",
              "      <td>2000</td>\n",
              "      <td>4500</td>\n",
              "    </tr>\n",
              "    <tr>\n",
              "      <th>C3</th>\n",
              "      <td>4500</td>\n",
              "      <td>7000</td>\n",
              "      <td>6000</td>\n",
              "      <td>3000</td>\n",
              "    </tr>\n",
              "  </tbody>\n",
              "</table>\n",
              "</div>\n",
              "      <button class=\"colab-df-convert\" onclick=\"convertToInteractive('df-96fbecf7-5e1c-47e2-b550-da4ebc1a0872')\"\n",
              "              title=\"Convert this dataframe to an interactive table.\"\n",
              "              style=\"display:none;\">\n",
              "        \n",
              "  <svg xmlns=\"http://www.w3.org/2000/svg\" height=\"24px\"viewBox=\"0 0 24 24\"\n",
              "       width=\"24px\">\n",
              "    <path d=\"M0 0h24v24H0V0z\" fill=\"none\"/>\n",
              "    <path d=\"M18.56 5.44l.94 2.06.94-2.06 2.06-.94-2.06-.94-.94-2.06-.94 2.06-2.06.94zm-11 1L8.5 8.5l.94-2.06 2.06-.94-2.06-.94L8.5 2.5l-.94 2.06-2.06.94zm10 10l.94 2.06.94-2.06 2.06-.94-2.06-.94-.94-2.06-.94 2.06-2.06.94z\"/><path d=\"M17.41 7.96l-1.37-1.37c-.4-.4-.92-.59-1.43-.59-.52 0-1.04.2-1.43.59L10.3 9.45l-7.72 7.72c-.78.78-.78 2.05 0 2.83L4 21.41c.39.39.9.59 1.41.59.51 0 1.02-.2 1.41-.59l7.78-7.78 2.81-2.81c.8-.78.8-2.07 0-2.86zM5.41 20L4 18.59l7.72-7.72 1.47 1.35L5.41 20z\"/>\n",
              "  </svg>\n",
              "      </button>\n",
              "      \n",
              "  <style>\n",
              "    .colab-df-container {\n",
              "      display:flex;\n",
              "      flex-wrap:wrap;\n",
              "      gap: 12px;\n",
              "    }\n",
              "\n",
              "    .colab-df-convert {\n",
              "      background-color: #E8F0FE;\n",
              "      border: none;\n",
              "      border-radius: 50%;\n",
              "      cursor: pointer;\n",
              "      display: none;\n",
              "      fill: #1967D2;\n",
              "      height: 32px;\n",
              "      padding: 0 0 0 0;\n",
              "      width: 32px;\n",
              "    }\n",
              "\n",
              "    .colab-df-convert:hover {\n",
              "      background-color: #E2EBFA;\n",
              "      box-shadow: 0px 1px 2px rgba(60, 64, 67, 0.3), 0px 1px 3px 1px rgba(60, 64, 67, 0.15);\n",
              "      fill: #174EA6;\n",
              "    }\n",
              "\n",
              "    [theme=dark] .colab-df-convert {\n",
              "      background-color: #3B4455;\n",
              "      fill: #D2E3FC;\n",
              "    }\n",
              "\n",
              "    [theme=dark] .colab-df-convert:hover {\n",
              "      background-color: #434B5C;\n",
              "      box-shadow: 0px 1px 3px 1px rgba(0, 0, 0, 0.15);\n",
              "      filter: drop-shadow(0px 1px 2px rgba(0, 0, 0, 0.3));\n",
              "      fill: #FFFFFF;\n",
              "    }\n",
              "  </style>\n",
              "\n",
              "      <script>\n",
              "        const buttonEl =\n",
              "          document.querySelector('#df-96fbecf7-5e1c-47e2-b550-da4ebc1a0872 button.colab-df-convert');\n",
              "        buttonEl.style.display =\n",
              "          google.colab.kernel.accessAllowed ? 'block' : 'none';\n",
              "\n",
              "        async function convertToInteractive(key) {\n",
              "          const element = document.querySelector('#df-96fbecf7-5e1c-47e2-b550-da4ebc1a0872');\n",
              "          const dataTable =\n",
              "            await google.colab.kernel.invokeFunction('convertToInteractive',\n",
              "                                                     [key], {});\n",
              "          if (!dataTable) return;\n",
              "\n",
              "          const docLinkHtml = 'Like what you see? Visit the ' +\n",
              "            '<a target=\"_blank\" href=https://colab.research.google.com/notebooks/data_table.ipynb>data table notebook</a>'\n",
              "            + ' to learn more about interactive tables.';\n",
              "          element.innerHTML = '';\n",
              "          dataTable['output_type'] = 'display_data';\n",
              "          await google.colab.output.renderOutput(dataTable, element);\n",
              "          const docLink = document.createElement('div');\n",
              "          docLink.innerHTML = docLinkHtml;\n",
              "          element.appendChild(docLink);\n",
              "        }\n",
              "      </script>\n",
              "    </div>\n",
              "  </div>\n",
              "  "
            ],
            "text/plain": [
              "      OO    FL    SH    WW\n",
              "C1  4000  6000  3000  5000\n",
              "C2  6000  6000  2000  4500\n",
              "C3  4500  7000  6000  3000"
            ]
          },
          "metadata": {}
        }
      ]
    },
    {
      "cell_type": "markdown",
      "metadata": {
        "id": "8yhR3xIVyJ13"
      },
      "source": [
        "## Create Python lists based on the data-frames\n",
        "\n",
        "__NOTE__: Make sure you understand what the __lists__ created here are! These will be very helpful when creating the model."
      ]
    },
    {
      "cell_type": "code",
      "metadata": {
        "id": "oi5sktA8j3PF",
        "colab": {
          "base_uri": "https://localhost:8080/"
        },
        "cellView": "form",
        "outputId": "c62b4d83-e55a-45b1-da32-9531da1311e4"
      },
      "source": [
        "#@markdown Create useful lists with the factories, centers, clients\n",
        "# Calculate some useful lists: the factories, the customization centers, the clients\n",
        "factories = list( factoriesDF.index )              # the list of factories\n",
        "centers = list( customizationCentersDF.index )     # the list of customization centers\n",
        "retailers = list( retailersDF.index )              # the list of retailers\n",
        "\n",
        "# Take a look at the lists\n",
        "print(\"The list of factories:\")\n",
        "print(factories)\n",
        "\n",
        "print(\"The list of centers:\")\n",
        "print(centers)\n",
        "\n",
        "print(\"The list of retail clients:\")\n",
        "print(retailers)"
      ],
      "execution_count": 4,
      "outputs": [
        {
          "output_type": "stream",
          "name": "stdout",
          "text": [
            "The list of factories:\n",
            "['Zuffe', 'Leip']\n",
            "The list of centers:\n",
            "['C1', 'C2', 'C3']\n",
            "The list of retail clients:\n",
            "['OO', 'FL', 'SH', 'WW']\n"
          ]
        }
      ]
    },
    {
      "cell_type": "markdown",
      "metadata": {
        "id": "JWIygWXt2SNi"
      },
      "source": [
        "<font color=red>**IMPORTANT HINT.**</font> When defining your **decision variables** in this model, you may want to consider *matrices* (or grids) of decision variables instead of a simple list like we've created before. Specifically, you may want to add a decision variable for every pair of elements where the first element is from one list and the second element is from another list. \n",
        "\n",
        "When the decision variables are organized in a grid, it's significantly easier to use the ``addVars`` function to add all of the decision variables to the model at once. The function ``addVars`` can take as arguments several lists, e.g., `addVars(list1, list2, list3,...)`, in which case it will return one decision variable for every possible tuple of values. These decision variables will be stored as a dictionary, with the dictionary keys corresponding to the tuple of values. \n",
        "\n",
        "For instance, suppose `list1 = [\"Paris\", \"Budapest\", \"Beijing\"]` and `list2= [1,2]`. Then `myDecisions = addVars(list1,list2)` would return a dictionary containing one decision for every pair, i.e., (\"Paris\",1), (\"Paris\",2), (\"Budapest\",1), (\"Budapest\",2), etc. To access the decision corresponding to the pair (\"Paris\",1), we can simply use `myDecisions[(\"Paris\",1)]` or `myDecisions[\"Paris\",1]`."
      ]
    },
    {
      "cell_type": "markdown",
      "metadata": {
        "id": "z1Fz9Viqj3Oz"
      },
      "source": [
        "_____\n",
        "# **Q1**"
      ]
    },
    {
      "cell_type": "markdown",
      "metadata": {
        "id": "QbmO9_Taj3PH"
      },
      "source": [
        "##  Create an empty model"
      ]
    },
    {
      "cell_type": "code",
      "metadata": {
        "scrolled": true,
        "id": "PuwdY_79j3PI",
        "colab": {
          "base_uri": "https://localhost:8080/"
        },
        "outputId": "0310635e-b47e-48b3-ef4b-f3e25fe32560"
      },
      "source": [
        "# Gurobi model\n",
        "AlsetModel = Model(\"Alset Motors Supply Chain Model\")"
      ],
      "execution_count": 5,
      "outputs": [
        {
          "output_type": "stream",
          "name": "stdout",
          "text": [
            "Restricted license - for non-production use only - expires 2023-10-25\n"
          ]
        }
      ]
    },
    {
      "cell_type": "markdown",
      "metadata": {
        "id": "Q2T_Zf2nj3PI"
      },
      "source": [
        "## Define the Decision Variables\n",
        "In this problem, we would like to create a decision variable for every pair of (factory,center), and also for every pair of (center,client). This is done easily using Gurobi's ``addVars`` method."
      ]
    },
    {
      "cell_type": "code",
      "metadata": {
        "id": "BU14XQ9zj3PL",
        "colab": {
          "base_uri": "https://localhost:8080/"
        },
        "outputId": "bce36732-8f65-4472-cf17-c2de3608308c"
      },
      "source": [
        "# decision variables for how much to ship from each factory to each customization center\n",
        "factoriesToCenters = AlsetModel.addVars( factories, centers , name = \"Ship\")\n",
        "\n",
        "print(factoriesToCenters)\n",
        "\n",
        "# decision variables for how much to ship from each customization center to each client\n",
        "centersToRetailers = AlsetModel.addVars( centers, retailers , name=\"Ship\")\n",
        "\n",
        "print(centersToRetailers)"
      ],
      "execution_count": 6,
      "outputs": [
        {
          "output_type": "stream",
          "name": "stdout",
          "text": [
            "{('Zuffe', 'C1'): <gurobi.Var *Awaiting Model Update*>, ('Zuffe', 'C2'): <gurobi.Var *Awaiting Model Update*>, ('Zuffe', 'C3'): <gurobi.Var *Awaiting Model Update*>, ('Leip', 'C1'): <gurobi.Var *Awaiting Model Update*>, ('Leip', 'C2'): <gurobi.Var *Awaiting Model Update*>, ('Leip', 'C3'): <gurobi.Var *Awaiting Model Update*>}\n",
            "{('C1', 'OO'): <gurobi.Var *Awaiting Model Update*>, ('C1', 'FL'): <gurobi.Var *Awaiting Model Update*>, ('C1', 'SH'): <gurobi.Var *Awaiting Model Update*>, ('C1', 'WW'): <gurobi.Var *Awaiting Model Update*>, ('C2', 'OO'): <gurobi.Var *Awaiting Model Update*>, ('C2', 'FL'): <gurobi.Var *Awaiting Model Update*>, ('C2', 'SH'): <gurobi.Var *Awaiting Model Update*>, ('C2', 'WW'): <gurobi.Var *Awaiting Model Update*>, ('C3', 'OO'): <gurobi.Var *Awaiting Model Update*>, ('C3', 'FL'): <gurobi.Var *Awaiting Model Update*>, ('C3', 'SH'): <gurobi.Var *Awaiting Model Update*>, ('C3', 'WW'): <gurobi.Var *Awaiting Model Update*>}\n"
          ]
        }
      ]
    },
    {
      "cell_type": "markdown",
      "metadata": {
        "id": "dMLkUyKMj3PV"
      },
      "source": [
        "## Calculate and add the objective function"
      ]
    },
    {
      "cell_type": "code",
      "metadata": {
        "id": "JmgtMKfaj3PW"
      },
      "source": [
        "# Calculate the revenues\n",
        "revenue = quicksum( centersToRetailers[c,r] * retailersDF[\"Price\"][r] for c in centers for r in retailers )\n",
        "\n",
        "# Calculate the costs\n",
        "# there are four terms: \n",
        "# - production costs (at factories)\n",
        "prodCost = quicksum( factoriesToCenters[f,c] * factoriesDF[\"Cost\"][f] for f in factories for c in centers )\n",
        "\n",
        "# - handling & transportation costs factories to customization centers\n",
        "transCost_FC = quicksum( factoriesToCenters[f,c] * costsFactoriesToCentersDF[c][f] for f in factories for c in centers )\n",
        "\n",
        "# - customization cost (incurred at the customization centers)\n",
        "customizationCost = quicksum( centersToRetailers[c,r] * customizationCentersDF[\"Staffing_Cost\"][c] \\\n",
        "                             for c in centers for r in retailers )\n",
        "\n",
        "# - transportation costs customization centers to retail stores\n",
        "transCost_CR = quicksum( centersToRetailers[c,r] * costsCentersToRetailersDF[r][c] for c in centers for r in retailers )\n",
        "\n",
        "# total\n",
        "totalCost =  prodCost + transCost_FC + customizationCost + transCost_CR     # total cost is the sum"
      ],
      "execution_count": 7,
      "outputs": []
    },
    {
      "cell_type": "code",
      "metadata": {
        "id": "eFfHec5xj3Pa"
      },
      "source": [
        "# objective: minimize the gross profit = revenue - cost\n",
        "AlsetModel.setObjective(revenue - totalCost, GRB.MAXIMIZE)"
      ],
      "execution_count": 8,
      "outputs": []
    },
    {
      "cell_type": "markdown",
      "metadata": {
        "id": "z9kO1tqvj3Pc"
      },
      "source": [
        "## Add All Constraints"
      ]
    },
    {
      "cell_type": "code",
      "metadata": {
        "id": "NMVLe80qj3Pd"
      },
      "source": [
        "# capacity constraints due to production at each factory\n",
        "for f in factories :\n",
        "    AlsetModel.addConstr( quicksum(factoriesToCenters[f,c] for c in centers) <= factoriesDF[\"Capacity\"][f] )\n",
        "\n",
        "# capacity constraints at customization centers\n",
        "for c in centers :\n",
        "    AlsetModel.addConstr( quicksum(centersToRetailers[c,r] for r in retailers) <= customizationCentersDF[\"Capacity\"][c] )\n",
        "\n",
        "# flow conservation at each customization center: cars going in = cars going out\n",
        "for c in centers :\n",
        "    AlsetModel.addConstr( quicksum(factoriesToCenters[f,c] for f in factories) == \\\n",
        "                         quicksum(centersToRetailers[c,r] for r in retailers) )\n",
        "    \n",
        "# cannot ship more than demand at each store\n",
        "for r in retailers :\n",
        "    AlsetModel.addConstr( quicksum(centersToRetailers[c,r] for c in centers) <= retailersDF[\"Pre-orders\"][r])"
      ],
      "execution_count": 9,
      "outputs": []
    },
    {
      "cell_type": "markdown",
      "metadata": {
        "id": "IjtI8X9dj3Pl"
      },
      "source": [
        "## Solve the model"
      ]
    },
    {
      "cell_type": "code",
      "metadata": {
        "scrolled": true,
        "id": "OqPDbVEFj3Pm",
        "colab": {
          "base_uri": "https://localhost:8080/"
        },
        "cellView": "form",
        "outputId": "f984b46c-0888-4463-ecb6-77aff5c9f813"
      },
      "source": [
        "#@markdown Select whether to run the [Gurobi](https://www.gurobi.com/) optimization algorithms silently (no output details)\n",
        "run_silently = False #@param {type:\"boolean\"}\n",
        "\n",
        "if run_silently:\n",
        "    AlsetModel.setParam('OutputFlag',0)\n",
        "else:\n",
        "    AlsetModel.setParam('OutputFlag',1)\n",
        "\n",
        "AlsetModel.optimize()\n",
        "print('\\nSolved the optimization problem...')"
      ],
      "execution_count": 10,
      "outputs": [
        {
          "output_type": "stream",
          "name": "stdout",
          "text": [
            "Gurobi Optimizer version 9.5.1 build v9.5.1rc2 (linux64)\n",
            "Thread count: 1 physical cores, 2 logical processors, using up to 2 threads\n",
            "Optimize a model with 12 rows, 18 columns and 48 nonzeros\n",
            "Model fingerprint: 0xed99e870\n",
            "Coefficient statistics:\n",
            "  Matrix range     [1e+00, 1e+00]\n",
            "  Objective range  [6e+04, 6e+04]\n",
            "  Bounds range     [0e+00, 0e+00]\n",
            "  RHS range        [6e+02, 5e+03]\n",
            "Presolve time: 0.01s\n",
            "Presolved: 12 rows, 18 columns, 48 nonzeros\n",
            "\n",
            "Iteration    Objective       Primal Inf.    Dual Inf.      Time\n",
            "       0    7.3200000e+35   3.600000e+31   7.320000e+05      0s\n",
            "      10    3.3625000e+07   0.000000e+00   0.000000e+00      0s\n",
            "\n",
            "Solved in 10 iterations and 0.02 seconds (0.00 work units)\n",
            "Optimal objective  3.362500000e+07\n",
            "\n",
            "Solved the optimization problem...\n"
          ]
        }
      ]
    },
    {
      "cell_type": "markdown",
      "metadata": {
        "id": "3UvnyEhh5yN_"
      },
      "source": [
        "## Print the optimal profit and optimal plan"
      ]
    },
    {
      "cell_type": "code",
      "metadata": {
        "scrolled": false,
        "id": "z0ONlW2Aj3Pp",
        "colab": {
          "base_uri": "https://localhost:8080/"
        },
        "cellView": "form",
        "outputId": "da3b5495-61c0-4238-da3c-2c7fb2cea1ae"
      },
      "source": [
        "#@markdown The optimal KPIs\n",
        "print(\"Optimal gross profit: {:,.0f}\".format(AlsetModel.objval))\n",
        "\n",
        "# also print the revenues and costs separately\n",
        "print(\"Total revenue: {:,.0f}\".format(revenue.getValue()))\n",
        "print(\"Total production costs: {:,.0f}\".format(prodCost.getValue()))\n",
        "print(\"Total transportation costs factories-centers: {:,.0f}\".format(transCost_FC.getValue()))\n",
        "print(\"Total costs at customization centers: {:,.0f}\".format(customizationCost.getValue()))\n",
        "print(\"Total transportation costs centers-retailers: {:,.0f}\".format(transCost_CR.getValue()))"
      ],
      "execution_count": 11,
      "outputs": [
        {
          "output_type": "stream",
          "name": "stdout",
          "text": [
            "Optimal gross profit: 33,625,000\n",
            "Total revenue: 362,500,000\n",
            "Total production costs: 270,000,000\n",
            "Total transportation costs factories-centers: 9,100,000\n",
            "Total costs at customization centers: 25,200,000\n",
            "Total transportation costs centers-retailers: 24,575,000\n"
          ]
        }
      ]
    },
    {
      "cell_type": "code",
      "metadata": {
        "scrolled": false,
        "id": "oc7GHRAuj3Ps",
        "colab": {
          "base_uri": "https://localhost:8080/"
        },
        "cellView": "form",
        "outputId": "5fc52a4d-930f-4d31-df5d-85298ee558ca"
      },
      "source": [
        "#@markdown The optimal production plan\n",
        "# production at factories\n",
        "print('{:<50}\\nProduction at factories:'.format(\"=\"*50))\n",
        "\n",
        "for f in factories:\n",
        "    print(\"   {:<6} : {:,.2f}\".format(f, sum(factoriesToCenters[f,c].X for c in centers)) )\n",
        "\n",
        "# shipping factories to centers\n",
        "print(\"{:<50s}\\nShipping from factories to customization centers:\".format(\"=\"*50))\n",
        "for f in factories :\n",
        "    for c in centers :\n",
        "        print(\"   {:<6s} to {:<3s} : {:,.2f}\".format(f,c,factoriesToCenters[f,c].X))\n",
        "\n",
        "# processing at customization centers\n",
        "print(\"{:<50s}\\nProcessing at customization centers:\".format(\"=\"*50))\n",
        "for c in centers:\n",
        "    print(\"   {:<2s} : {:,.2f} \".format(c,sum( centersToRetailers[c,r].X for r in retailers)) )\n",
        "    \n",
        "# shipping from centers to retailers\n",
        "print(\"{:<50s}\\nShipping from customization centers:\".format(\"=\"*50))\n",
        "for c in centers :\n",
        "    for r in retailers :\n",
        "        print(\"   {:<2s} to {:<2s} : {:,.2f}\".format(c,r,centersToRetailers[c,r].X))\n",
        "        \n",
        "# pre-orders fulfilled at each retailer\n",
        "print(\"{:<50}\\nPre-orders filled at retailers/clients:\".format(\"=\"*50))\n",
        "for r in retailers:\n",
        "    print(\"   {:<2s} : {:<,.2f} \".format(r,sum( centersToRetailers[c,r].X for c in centers)) )"
      ],
      "execution_count": 12,
      "outputs": [
        {
          "output_type": "stream",
          "name": "stdout",
          "text": [
            "==================================================\n",
            "Production at factories:\n",
            "   Zuffe  : 5,000.00\n",
            "   Leip   : 0.00\n",
            "==================================================\n",
            "Shipping from factories to customization centers:\n",
            "   Zuffe  to C1  : 2,000.00\n",
            "   Zuffe  to C2  : 2,200.00\n",
            "   Zuffe  to C3  : 800.00\n",
            "   Leip   to C1  : 0.00\n",
            "   Leip   to C2  : 0.00\n",
            "   Leip   to C3  : 0.00\n",
            "==================================================\n",
            "Processing at customization centers:\n",
            "   C1 : 2,000.00 \n",
            "   C2 : 2,200.00 \n",
            "   C3 : 800.00 \n",
            "==================================================\n",
            "Shipping from customization centers:\n",
            "   C1 to OO : 1,700.00\n",
            "   C1 to FL : 300.00\n",
            "   C1 to SH : 0.00\n",
            "   C1 to WW : 0.00\n",
            "   C2 to OO : 0.00\n",
            "   C2 to FL : 2,200.00\n",
            "   C2 to SH : 0.00\n",
            "   C2 to WW : 0.00\n",
            "   C3 to OO : 250.00\n",
            "   C3 to FL : 0.00\n",
            "   C3 to SH : 0.00\n",
            "   C3 to WW : 550.00\n",
            "==================================================\n",
            "Pre-orders filled at retailers/clients:\n",
            "   OO : 1,950.00 \n",
            "   FL : 2,500.00 \n",
            "   SH : 0.00 \n",
            "   WW : 550.00 \n"
          ]
        }
      ]
    },
    {
      "cell_type": "markdown",
      "metadata": {
        "id": "JB6siv6V6fjE"
      },
      "source": [
        "Store the optimal profit obtained in **Q1**."
      ]
    },
    {
      "cell_type": "code",
      "metadata": {
        "id": "em3DFFjU6c-u"
      },
      "source": [
        "gross_profit_Q1 = AlsetModel.objVal  # optimal profit Q1"
      ],
      "execution_count": 13,
      "outputs": []
    },
    {
      "cell_type": "markdown",
      "metadata": {
        "id": "qu1eJhBgB7aM"
      },
      "source": [
        "## Create a few utility functions that will help subsequently\n",
        "\n",
        "To help with subsequent parts of the problem, we also add all the steps above inside a **function** that returns a generic model like the one we created in **Q1**, together with all the decision variables."
      ]
    },
    {
      "cell_type": "code",
      "metadata": {
        "id": "FR_fXXdaCmob",
        "cellView": "form"
      },
      "source": [
        "#@title A function that generates a model like the one in **Q1**\n",
        "def create_model_like_in_Q1():\n",
        "    # empty Gurobi model\n",
        "    AlsetModel = Model(\"Alset Motors Supply Chain Model\")\n",
        "\n",
        "    #@markdown Decision variables\n",
        "    # decision variables for how much to ship from each factory to each customization center\n",
        "    factoriesToCenters = AlsetModel.addVars( factories, centers , name = \"Ship\")\n",
        "\n",
        "    # decision variables for how much to ship from each customization center to each client\n",
        "    centersToRetailers = AlsetModel.addVars( centers, retailers , name=\"Ship\")\n",
        "\n",
        "    #@markdown Objective\n",
        "    # revenues\n",
        "    revenues = quicksum( centersToRetailers[c,r] * retailersDF[\"Price\"][r] for c in centers for r in retailers )\n",
        "\n",
        "    # costs\n",
        "    # there are four terms: \n",
        "    # - production costs (at factories)\n",
        "    prodCost = quicksum( factoriesToCenters[f,c] * factoriesDF[\"Cost\"][f] for f in factories for c in centers )\n",
        "\n",
        "    # - handling & transportation costs factories to customization centers\n",
        "    transCost_FC = quicksum( factoriesToCenters[f,c] * costsFactoriesToCentersDF[c][f] for f in factories for c in centers )\n",
        "\n",
        "    # - customization cost (incurred at the customization centers)\n",
        "    customizationCost = quicksum( centersToRetailers[c,r] * customizationCentersDF[\"Staffing_Cost\"][c] \\\n",
        "                                for c in centers for r in retailers )\n",
        "\n",
        "    # - transportation costs customization centers to retail stores\n",
        "    transCost_CR = quicksum( centersToRetailers[c,r] * costsCentersToRetailersDF[r][c] for c in centers for r in retailers )\n",
        "\n",
        "    # total costs\n",
        "    totalCost =  prodCost + transCost_FC + customizationCost + transCost_CR     # total cost is the sum\n",
        "\n",
        "    # gross profit\n",
        "    gross_profit = revenues - totalCost\n",
        "\n",
        "    # set the objective: maximize gross profit\n",
        "    AlsetModel.setObjective( gross_profit, GRB.MAXIMIZE )\n",
        "\n",
        "    #@markdown Constraints\n",
        "    constraints = {}  # will store all the constraints\n",
        "\n",
        "    # capacity constraints due to production at each factory\n",
        "    constraints[\"factory_cap\"] = {}\n",
        "    for f in factories :\n",
        "        constraints[\"factory_cap\"][f] = \\\n",
        "        AlsetModel.addConstr( quicksum(factoriesToCenters[f,c] for c in centers) <= factoriesDF[\"Capacity\"][f],\\\n",
        "                             name = \"Cap_\" + f)\n",
        "\n",
        "    # capacity constraints at customization centers\n",
        "    constraints[\"center_cap\"] = {}\n",
        "    for c in centers :\n",
        "        constraints[\"center_cap\"][c] = \\\n",
        "        AlsetModel.addConstr( quicksum(centersToRetailers[c,r] for r in retailers) <= customizationCentersDF[\"Capacity\"][c], \\\n",
        "                             name = \"Cap_\" + c)\n",
        "\n",
        "    # flow conservation at each customization center: cars going in = cars going out\n",
        "    for c in centers :\n",
        "        AlsetModel.addConstr( quicksum(factoriesToCenters[f,c] for f in factories) == \\\n",
        "                            quicksum(centersToRetailers[c,r] for r in retailers) )\n",
        "        \n",
        "    # cannot ship more than pre-orders at each store\n",
        "    constraints[\"preorder_cap\"] = {}\n",
        "    for r in retailers :\n",
        "        constraints[\"preorder_cap\"][r] = \\\n",
        "        AlsetModel.addConstr( quicksum(centersToRetailers[c,r] for c in centers) <= retailersDF[\"Pre-orders\"][r], \\\n",
        "                             name = \"Preorder_\" + r)\n",
        "\n",
        "    # return the model, the decision variables and the formula for the objective\n",
        "    return AlsetModel,  factoriesToCenters, centersToRetailers,  gross_profit,\\\n",
        "    constraints"
      ],
      "execution_count": 14,
      "outputs": []
    },
    {
      "cell_type": "code",
      "metadata": {
        "cellView": "form",
        "id": "SLcdwNtZXpqN"
      },
      "source": [
        "#@title A function to print the performance in a model compared to **Q1**\n",
        "def print_and_compare_Q1(model, centersToRetailers_decisions):\n",
        "    print(\"=\"*60)\n",
        "    print(\"{:<50s} : {:,.2f}\".\\\n",
        "          format(\"The gross profit with these considerations\",model.objVal))\n",
        "    print(\"{:<50s} : {:,.2f}\".\\\n",
        "          format(\"Profit difference compared to Q1:\",model.objVal-gross_profit_Q1))\n",
        "    print(\"{:<50s} : {:,.2f}\".\\\n",
        "          format(\"Profit loss (%):\",(model.objVal/gross_profit_Q1-1.0)*100))\n",
        "\n",
        "    #@markdown Print the number of orders and the fill rate achieved at each customer\n",
        "    print(\"{:<60s}\\nThe number of orders and the fill rate at each retailer:\\n\".format(\"=\"*60))\n",
        "    print(\"   {:<6s} \\t {:<3s} \\t {:<5s}\".format(\"Retailer\",\"Orders\",\"Fill rate\"))\n",
        "    for r in retailers:\n",
        "        orders = sum(centersToRetailers_decisions[c,r].X for c in centers)\n",
        "        print(\"   {:<6s} \\t {:<.0f} \\t\\t {:<,.2f}%\".\\\n",
        "              format(r,orders, orders/retailersDF[\"Pre-orders\"][r]*100))"
      ],
      "execution_count": 15,
      "outputs": []
    },
    {
      "cell_type": "markdown",
      "metadata": {
        "id": "4TE_yA_h6WVj"
      },
      "source": [
        "______\n",
        "# **Q2**\n",
        "Before running this section, make sure you have run all the previous sections of the Colab file."
      ]
    },
    {
      "cell_type": "code",
      "metadata": {
        "id": "v7oJ1c_0Ivl0"
      },
      "source": [
        "# set up a variable for the retailer we are focusing on\n",
        "retailer_to_focus = \"OO\""
      ],
      "execution_count": 16,
      "outputs": []
    },
    {
      "cell_type": "markdown",
      "metadata": {
        "id": "8CbzVStt7ykl"
      },
      "source": [
        "Re-recreate an identical model to the one from **Q1** and store the expression for model, the decision variables and the objective."
      ]
    },
    {
      "cell_type": "code",
      "metadata": {
        "id": "BKvDyjWbFmyA"
      },
      "source": [
        "# create a model like the one in Q1 using the function \n",
        "AlsetModel_Q2, factoriesToCenters_Q2, centersToRetailers_Q2, gross_profit_Q2, constr_Q2 = \\\n",
        "       create_model_like_in_Q1()"
      ],
      "execution_count": 17,
      "outputs": []
    },
    {
      "cell_type": "markdown",
      "metadata": {
        "id": "nLrrRn3WFsvB"
      },
      "source": [
        "Add a constraint that the gross profit in Q2 should be at least as large as the profit in Q1 (we could set this either as an inequality or with equality, since the profit obtained in Q1 is the largest possible profit anyway)."
      ]
    },
    {
      "cell_type": "code",
      "metadata": {
        "colab": {
          "base_uri": "https://localhost:8080/"
        },
        "id": "Pcxu8ojc6X8Y",
        "cellView": "form",
        "outputId": "0e3a1bf6-ea6d-4661-b1eb-d8438afb2ba2"
      },
      "source": [
        "#@markdown Constraint on profit compared to Q1\n",
        "AlsetModel_Q2.addConstr( gross_profit_Q2 >= gross_profit_Q1 )"
      ],
      "execution_count": 18,
      "outputs": [
        {
          "output_type": "execute_result",
          "data": {
            "text/plain": [
              "<gurobi.Constr *Awaiting Model Update*>"
            ]
          },
          "metadata": {},
          "execution_count": 18
        }
      ]
    },
    {
      "cell_type": "markdown",
      "metadata": {
        "id": "54vtBd9eGAA-"
      },
      "source": [
        "Set the objective in the new model to maximize the total orders received by OO, and solve the new model."
      ]
    },
    {
      "cell_type": "code",
      "metadata": {
        "colab": {
          "base_uri": "https://localhost:8080/"
        },
        "id": "v-yNNowxAALx",
        "cellView": "form",
        "outputId": "fadf8fba-a96d-4ecc-cc9e-83be9692fedc"
      },
      "source": [
        "#@title Update objective to maximize OO orders\n",
        "AlsetModel_Q2.setObjective( quicksum( centersToRetailers_Q2[c,retailer_to_focus] for c in centers ), GRB.MAXIMIZE )\n",
        "\n",
        "#@markdown Select whether to run the [Gurobi](https://www.gurobi.com/) optimization algorithms silently (no output details)\n",
        "run_silently = True #@param {type:\"boolean\"}\n",
        "\n",
        "if run_silently:\n",
        "    AlsetModel_Q2.setParam('OutputFlag',0)\n",
        "else:\n",
        "    AlsetModel_Q2.setParam('OutputFlag',1)\n",
        "\n",
        "AlsetModel_Q2.optimize()\n",
        "print('\\nSolved the optimization problem...')\n",
        "\n",
        "#@markdown Print the max number of orders\n",
        "print(\"The maximum number of orders that can be filled at {} while achieving maximum profit is: {:,.0f}\".\\\n",
        "      format(retailer_to_focus,AlsetModel_Q2.objVal))"
      ],
      "execution_count": 19,
      "outputs": [
        {
          "output_type": "stream",
          "name": "stdout",
          "text": [
            "\n",
            "Solved the optimization problem...\n",
            "The maximum number of orders that can be filled at OO while achieving maximum profit is: 1,950\n"
          ]
        }
      ]
    },
    {
      "cell_type": "markdown",
      "metadata": {
        "id": "IE1UrKQ1GfON"
      },
      "source": [
        "Now repeat the same steps but for the problem of minimizing the number of orders."
      ]
    },
    {
      "cell_type": "code",
      "metadata": {
        "colab": {
          "base_uri": "https://localhost:8080/"
        },
        "id": "iEDZl3c2Gglz",
        "cellView": "form",
        "outputId": "f1d8584d-ed40-450d-97e7-91a43c692cf9"
      },
      "source": [
        "#@title Update objective to minimize OO orders\n",
        "AlsetModel_Q2.setObjective( quicksum( centersToRetailers_Q2[c,retailer_to_focus] for c in centers ), GRB.MINIMIZE )\n",
        "\n",
        "#@markdown Select whether to run the [Gurobi](https://www.gurobi.com/) optimization algorithms silently (no output details)\n",
        "run_silently = True #@param {type:\"boolean\"}\n",
        "\n",
        "if run_silently:\n",
        "    AlsetModel_Q2.setParam('OutputFlag',0)\n",
        "else:\n",
        "    AlsetModel_Q2.setParam('OutputFlag',1)\n",
        "\n",
        "AlsetModel_Q2.optimize()\n",
        "print('\\nSolved the optimization problem...')\n",
        "\n",
        "#@markdown Print the max number of orders\n",
        "print(\"The maximum number of orders that can be filled at {} while achieving maximum profit is: {:,.0f}\".\\\n",
        "      format(retailer_to_focus,AlsetModel_Q2.objVal))"
      ],
      "execution_count": 20,
      "outputs": [
        {
          "output_type": "stream",
          "name": "stdout",
          "text": [
            "\n",
            "Solved the optimization problem...\n",
            "The maximum number of orders that can be filled at OO while achieving maximum profit is: 350\n"
          ]
        }
      ]
    },
    {
      "cell_type": "markdown",
      "metadata": {
        "id": "15oDqs2YPbU_"
      },
      "source": [
        "### Additional analysis (not required in the mini-case).\n",
        "Repeat the analysis above for all each of the retail clients, to identify all potential client \"bottlenecks\"."
      ]
    },
    {
      "cell_type": "code",
      "metadata": {
        "colab": {
          "base_uri": "https://localhost:8080/",
          "height": 0
        },
        "id": "fG37ydnYQGgZ",
        "cellView": "form",
        "outputId": "fcee4929-e7e4-4a34-d43d-1dafa3a8f6fb"
      },
      "source": [
        "#@markdown Determine the maximum and minimum number of orders that can be filled at each retailer while achieving maximum profit\n",
        "# set up some arrays to store the max/min orders that can be filled\n",
        "max_orders = [0]*len(retailers)\n",
        "min_orders = [0]*len(retailers)\n",
        "\n",
        "for i in range(len(retailers)):\n",
        "    retailer_to_focus = retailers[i]\n",
        "\n",
        "    # create a model like the one in Q1 using the function \n",
        "    AlsetModel_Q2, factoriesToCenters_Q2, centersToRetailers_Q2, gross_profit_Q2, constr_Q2 = \\\n",
        "          create_model_like_in_Q1()\n",
        "\n",
        "    # Constraint that profit >= optimal profit in Q1\n",
        "    AlsetModel_Q2.addConstr( gross_profit_Q2 >= gross_profit_Q1 )\n",
        "\n",
        "    # Update objective to maximize orders to that retailer\n",
        "    AlsetModel_Q2.setObjective( quicksum( centersToRetailers_Q2[c,retailer_to_focus] for c in centers ), GRB.MAXIMIZE )\n",
        "\n",
        "    # solve the model\n",
        "    AlsetModel_Q2.setParam('OutputFlag',0)\n",
        "    AlsetModel_Q2.optimize()\n",
        "\n",
        "    # store the maximum number of orders\n",
        "    max_orders[i] = AlsetModel_Q2.objVal\n",
        "\n",
        "    # Update objective to minimize # of orders\n",
        "    AlsetModel_Q2.setObjective( quicksum( centersToRetailers_Q2[c,retailer_to_focus] for c in centers ), GRB.MINIMIZE )\n",
        "\n",
        "    # solve again\n",
        "    AlsetModel_Q2.optimize()\n",
        "\n",
        "    # store the min number of orders\n",
        "    min_orders[i] = AlsetModel_Q2.objVal\n",
        "\n",
        "# print the results as a data-frame, together with the pre-orders of each retailer\n",
        "full_results_Q2 = pd.DataFrame( {\"Pre-orders\" : retailersDF[\"Pre-orders\"], \\\n",
        "                                 \"Min orders\" : min_orders, \\\n",
        "                                 \"Max orders\" : max_orders}, index=retailers )\n",
        "display(full_results_Q2)"
      ],
      "execution_count": 21,
      "outputs": [
        {
          "output_type": "display_data",
          "data": {
            "text/html": [
              "\n",
              "  <div id=\"df-9c4330d2-66c0-47c3-83fc-43bb5caf1f9d\">\n",
              "    <div class=\"colab-df-container\">\n",
              "      <div>\n",
              "<style scoped>\n",
              "    .dataframe tbody tr th:only-of-type {\n",
              "        vertical-align: middle;\n",
              "    }\n",
              "\n",
              "    .dataframe tbody tr th {\n",
              "        vertical-align: top;\n",
              "    }\n",
              "\n",
              "    .dataframe thead th {\n",
              "        text-align: right;\n",
              "    }\n",
              "</style>\n",
              "<table border=\"1\" class=\"dataframe\">\n",
              "  <thead>\n",
              "    <tr style=\"text-align: right;\">\n",
              "      <th></th>\n",
              "      <th>Pre-orders</th>\n",
              "      <th>Min orders</th>\n",
              "      <th>Max orders</th>\n",
              "    </tr>\n",
              "  </thead>\n",
              "  <tbody>\n",
              "    <tr>\n",
              "      <th>OO</th>\n",
              "      <td>5000</td>\n",
              "      <td>350.00</td>\n",
              "      <td>1,950.00</td>\n",
              "    </tr>\n",
              "    <tr>\n",
              "      <th>FL</th>\n",
              "      <td>2500</td>\n",
              "      <td>2,500.00</td>\n",
              "      <td>2,500.00</td>\n",
              "    </tr>\n",
              "    <tr>\n",
              "      <th>SH</th>\n",
              "      <td>1600</td>\n",
              "      <td>0.00</td>\n",
              "      <td>1,600.00</td>\n",
              "    </tr>\n",
              "    <tr>\n",
              "      <th>WW</th>\n",
              "      <td>550</td>\n",
              "      <td>550.00</td>\n",
              "      <td>550.00</td>\n",
              "    </tr>\n",
              "  </tbody>\n",
              "</table>\n",
              "</div>\n",
              "      <button class=\"colab-df-convert\" onclick=\"convertToInteractive('df-9c4330d2-66c0-47c3-83fc-43bb5caf1f9d')\"\n",
              "              title=\"Convert this dataframe to an interactive table.\"\n",
              "              style=\"display:none;\">\n",
              "        \n",
              "  <svg xmlns=\"http://www.w3.org/2000/svg\" height=\"24px\"viewBox=\"0 0 24 24\"\n",
              "       width=\"24px\">\n",
              "    <path d=\"M0 0h24v24H0V0z\" fill=\"none\"/>\n",
              "    <path d=\"M18.56 5.44l.94 2.06.94-2.06 2.06-.94-2.06-.94-.94-2.06-.94 2.06-2.06.94zm-11 1L8.5 8.5l.94-2.06 2.06-.94-2.06-.94L8.5 2.5l-.94 2.06-2.06.94zm10 10l.94 2.06.94-2.06 2.06-.94-2.06-.94-.94-2.06-.94 2.06-2.06.94z\"/><path d=\"M17.41 7.96l-1.37-1.37c-.4-.4-.92-.59-1.43-.59-.52 0-1.04.2-1.43.59L10.3 9.45l-7.72 7.72c-.78.78-.78 2.05 0 2.83L4 21.41c.39.39.9.59 1.41.59.51 0 1.02-.2 1.41-.59l7.78-7.78 2.81-2.81c.8-.78.8-2.07 0-2.86zM5.41 20L4 18.59l7.72-7.72 1.47 1.35L5.41 20z\"/>\n",
              "  </svg>\n",
              "      </button>\n",
              "      \n",
              "  <style>\n",
              "    .colab-df-container {\n",
              "      display:flex;\n",
              "      flex-wrap:wrap;\n",
              "      gap: 12px;\n",
              "    }\n",
              "\n",
              "    .colab-df-convert {\n",
              "      background-color: #E8F0FE;\n",
              "      border: none;\n",
              "      border-radius: 50%;\n",
              "      cursor: pointer;\n",
              "      display: none;\n",
              "      fill: #1967D2;\n",
              "      height: 32px;\n",
              "      padding: 0 0 0 0;\n",
              "      width: 32px;\n",
              "    }\n",
              "\n",
              "    .colab-df-convert:hover {\n",
              "      background-color: #E2EBFA;\n",
              "      box-shadow: 0px 1px 2px rgba(60, 64, 67, 0.3), 0px 1px 3px 1px rgba(60, 64, 67, 0.15);\n",
              "      fill: #174EA6;\n",
              "    }\n",
              "\n",
              "    [theme=dark] .colab-df-convert {\n",
              "      background-color: #3B4455;\n",
              "      fill: #D2E3FC;\n",
              "    }\n",
              "\n",
              "    [theme=dark] .colab-df-convert:hover {\n",
              "      background-color: #434B5C;\n",
              "      box-shadow: 0px 1px 3px 1px rgba(0, 0, 0, 0.15);\n",
              "      filter: drop-shadow(0px 1px 2px rgba(0, 0, 0, 0.3));\n",
              "      fill: #FFFFFF;\n",
              "    }\n",
              "  </style>\n",
              "\n",
              "      <script>\n",
              "        const buttonEl =\n",
              "          document.querySelector('#df-9c4330d2-66c0-47c3-83fc-43bb5caf1f9d button.colab-df-convert');\n",
              "        buttonEl.style.display =\n",
              "          google.colab.kernel.accessAllowed ? 'block' : 'none';\n",
              "\n",
              "        async function convertToInteractive(key) {\n",
              "          const element = document.querySelector('#df-9c4330d2-66c0-47c3-83fc-43bb5caf1f9d');\n",
              "          const dataTable =\n",
              "            await google.colab.kernel.invokeFunction('convertToInteractive',\n",
              "                                                     [key], {});\n",
              "          if (!dataTable) return;\n",
              "\n",
              "          const docLinkHtml = 'Like what you see? Visit the ' +\n",
              "            '<a target=\"_blank\" href=https://colab.research.google.com/notebooks/data_table.ipynb>data table notebook</a>'\n",
              "            + ' to learn more about interactive tables.';\n",
              "          element.innerHTML = '';\n",
              "          dataTable['output_type'] = 'display_data';\n",
              "          await google.colab.output.renderOutput(dataTable, element);\n",
              "          const docLink = document.createElement('div');\n",
              "          docLink.innerHTML = docLinkHtml;\n",
              "          element.appendChild(docLink);\n",
              "        }\n",
              "      </script>\n",
              "    </div>\n",
              "  </div>\n",
              "  "
            ],
            "text/plain": [
              "    Pre-orders  Min orders  Max orders\n",
              "OO        5000      350.00    1,950.00\n",
              "FL        2500    2,500.00    2,500.00\n",
              "SH        1600        0.00    1,600.00\n",
              "WW         550      550.00      550.00"
            ]
          },
          "metadata": {}
        }
      ]
    },
    {
      "cell_type": "markdown",
      "metadata": {
        "id": "UETm_Y0UXHOu"
      },
      "source": [
        "______\n",
        "# **Q3**\n",
        "Before running this section, make sure you have run all the previous sections of the Colab file."
      ]
    },
    {
      "cell_type": "markdown",
      "metadata": {
        "id": "x0-ZctW2XHPG"
      },
      "source": [
        "Re-recreate an identical model to the one from **Q1** and store the expression for model, the decision variables and the objective."
      ]
    },
    {
      "cell_type": "code",
      "metadata": {
        "id": "FzybX7lHXe1b"
      },
      "source": [
        "# the new parameter\n",
        "fraction_of_profit = 0.9"
      ],
      "execution_count": 22,
      "outputs": []
    },
    {
      "cell_type": "code",
      "metadata": {
        "colab": {
          "base_uri": "https://localhost:8080/"
        },
        "cellView": "form",
        "id": "9J2t3iHrXHPG",
        "outputId": "7fdfac27-1d3d-44ed-8210-f02929e4a80e"
      },
      "source": [
        "#@title Re-create a model like in **Q1** and update it\n",
        "\n",
        "#@ markdown Create a model like the one in Q1\n",
        "AlsetModel, factoriesToCenters, centersToRetailers, gross_profit, constr = \\\n",
        "       create_model_like_in_Q1()\n",
        "\n",
        "#@markdown Add a constraint that the gross profit should be at least some fraction\n",
        "AlsetModel.addConstr( gross_profit >= fraction_of_profit * gross_profit_Q1 )\n",
        "\n",
        "#@markdown Update objective to maximize total filled orders\n",
        "AlsetModel.setObjective( quicksum( centersToRetailers[c,r] for c in centers for r in retailers ), GRB.MAXIMIZE )\n",
        "\n",
        "#@markdown Select whether to run the [Gurobi](https://www.gurobi.com/) optimization algorithms silently (no output details)\n",
        "run_silently = True #@param {type:\"boolean\"}\n",
        "\n",
        "if run_silently:\n",
        "    AlsetModel.setParam('OutputFlag',0)\n",
        "else:\n",
        "    AlsetModel.setParam('OutputFlag',1)\n",
        "\n",
        "AlsetModel.optimize()\n",
        "print('\\nSolved the optimization problem...')\n",
        "\n",
        "#@markdown Print the max number of orders\n",
        "print(\"\\nThe maximum number of orders that can be filled while achieving at least {:.2f}% of the maximum profit is: {:,.0f}\".\\\n",
        "      format(fraction_of_profit*100, AlsetModel.objVal))\n",
        "\n",
        "#@markdown Print details in terms of fill rates\n",
        "print(\"{:<60s}\\nThe number of orders and the fill rate at each retailer:\\n\".format(\"=\"*60))\n",
        "print(\"   {:<6s} \\t {:<3s} \\t {:<5s}\".format(\"Retailer\",\"Orders\",\"Fill rate\"))\n",
        "for r in retailers:\n",
        "    orders = sum(centersToRetailers[c,r].X for c in centers)\n",
        "    print(\"   {:<6s} \\t {:<.0f} \\t\\t {:<,.2f}%\".\\\n",
        "          format(r,orders, orders/retailersDF[\"Pre-orders\"][r]*100))"
      ],
      "execution_count": 23,
      "outputs": [
        {
          "output_type": "stream",
          "name": "stdout",
          "text": [
            "\n",
            "Solved the optimization problem...\n",
            "\n",
            "The maximum number of orders that can be filled while achieving at least 90.00% of the maximum profit is: 7,000\n",
            "============================================================\n",
            "The number of orders and the fill rate at each retailer:\n",
            "\n",
            "   Retailer \t Orders \t Fill rate\n",
            "   OO     \t 3950 \t\t 79.00%\n",
            "   FL     \t 2500 \t\t 100.00%\n",
            "   SH     \t 0 \t\t 0.00%\n",
            "   WW     \t 550 \t\t 100.00%\n"
          ]
        }
      ]
    },
    {
      "cell_type": "markdown",
      "metadata": {
        "id": "GFjmgL2USxFZ"
      },
      "source": [
        "______\n",
        "# **Q5-a**\n",
        "Before running this section, make sure you have run all the previous sections of the Colab file."
      ]
    },
    {
      "cell_type": "markdown",
      "metadata": {
        "id": "UbEeb8y2USNe"
      },
      "source": [
        "The model here requires that the **fill rates** at distinct retailers do not differ too much. (Recall that the fill rate is defined as the ratio of filled orders divided by demand/preorders.)\n",
        "\n",
        "Specifically, if $F[r]$ denotes the fill rate at retailer $r$ , we are imposing the constraints:<br>\n",
        "> $ F[r_1] - F[r_2] \\leq \\Delta$, for every possible pair $r_1,r_2$, \n",
        "\n",
        "where $\\Delta$ is some pre-specified value for the maximum allowed difference."
      ]
    },
    {
      "cell_type": "code",
      "metadata": {
        "colab": {
          "base_uri": "https://localhost:8080/"
        },
        "cellView": "form",
        "id": "j9dxCI8wUSNe",
        "outputId": "3747b419-b4af-476e-fba6-e2e7d21aead7"
      },
      "source": [
        "#@markdown Select the maximum allowed difference in fill rates (as a percentage)\n",
        "max_difference_fill_rates = 20 #@param {type:\"number\"}\n",
        "max_difference_fill_rates = max_difference_fill_rates/100\n",
        "\n",
        "#markdown Create a model like the one in Q1\n",
        "AlsetModel, factoriesToCenters, centersToRetailers, gross_profit, constr = \\\n",
        "       create_model_like_in_Q1()\n",
        "\n",
        "# #@markdown Constrain the fill rate at each retailer\n",
        "for r1 in retailers:\n",
        "   for r2 in retailers:\n",
        "      AlsetModel.addConstr( \n",
        "          quicksum( centersToRetailers[c,r1] for c in centers )/retailersDF[\"Pre-orders\"][r1] - \\\n",
        "          quicksum( centersToRetailers[c,r2] for c in centers )/retailersDF[\"Pre-orders\"][r2] <= \\\n",
        "          max_difference_fill_rates )\n",
        "        \n",
        "# #@markdown Solve the new model\n",
        "#@markdown Select whether to run the [Gurobi](https://www.gurobi.com/) optimization algorithms silently (no output details)\n",
        "run_silently = True #@param {type:\"boolean\"}\n",
        "\n",
        "if run_silently:\n",
        "    AlsetModel.setParam('OutputFlag',0)\n",
        "else:\n",
        "    AlsetModel.setParam('OutputFlag',1)\n",
        "\n",
        "AlsetModel.optimize()\n",
        "print('\\nSolved the optimization problem...\\n')\n",
        "\n",
        "if AlsetModel.status in [GRB.INFEASIBLE, GRB.INF_OR_UNBD]:\n",
        "    # the model is infeasible\n",
        "    print(\"It is infeasible to achieve this fill rate at all retailers.\")\n",
        "\n",
        "elif AlsetModel.status==GRB.OPTIMAL:\n",
        "    # the model was solved to optimality\n",
        "    # #@markdown Print the gross profit and the difference from Q1\n",
        "    print_and_compare_Q1(AlsetModel, centersToRetailers)"
      ],
      "execution_count": 24,
      "outputs": [
        {
          "output_type": "stream",
          "name": "stdout",
          "text": [
            "\n",
            "Solved the optimization problem...\n",
            "\n",
            "============================================================\n",
            "The gross profit with these considerations         : 32,477,616.58\n",
            "Profit difference compared to Q1:                  : -1,147,383.42\n",
            "Profit loss (%):                                   : -3.41\n",
            "============================================================\n",
            "The number of orders and the fill rate at each retailer:\n",
            "\n",
            "   Retailer \t Orders \t Fill rate\n",
            "   OO     \t 2275 \t\t 45.49%\n",
            "   FL     \t 1637 \t\t 65.49%\n",
            "   SH     \t 728 \t\t 45.49%\n",
            "   WW     \t 360 \t\t 65.49%\n"
          ]
        }
      ]
    },
    {
      "cell_type": "code",
      "metadata": {
        "colab": {
          "base_uri": "https://localhost:8080/",
          "height": 0
        },
        "id": "OGhPhuYCfyw0",
        "cellView": "form",
        "outputId": "db84d7cc-a54d-49a4-d890-2a10674860ab"
      },
      "source": [
        "#@title Examine how the gross profit losses and achieved fill-rates depend on the allowed difference\n",
        "\n",
        "# set up values for the differente in fill rates (in %)\n",
        "delta_vals = list(np.arange(0,100,5))      \n",
        "\n",
        "# the objective values and the loss compared to Q1\n",
        "objValues = [0]*len(delta_vals)\n",
        "loss_Q1 = [0]*len(delta_vals)\n",
        "\n",
        "# a dictionary with a list for each customer, that stores the realized fill rate at that customer\n",
        "individual_fillrates = {}   \n",
        "for r in retailers:\n",
        "    individual_fillrates[r] = [0]*len(delta_vals)\n",
        "\n",
        "for i in range(len(delta_vals)):\n",
        "\n",
        "    # create new model from scratch\n",
        "    AlsetModel, factoriesToCenters, centersToRetailers, gross_profit, constr = \\\n",
        "          create_model_like_in_Q1()\n",
        "\n",
        "    AlsetModel.setParam('OutputFlag',0)\n",
        "\n",
        "    # change the fill rate constraint \n",
        "    for r1 in retailers:\n",
        "      for r2 in retailers:\n",
        "          AlsetModel.addConstr( \n",
        "              quicksum( centersToRetailers[c,r1] for c in centers )/retailersDF[\"Pre-orders\"][r1] - \\\n",
        "              quicksum( centersToRetailers[c,r2] for c in centers )/retailersDF[\"Pre-orders\"][r2] <= \\\n",
        "              delta_vals[i]/100 )\n",
        "    \n",
        "    AlsetModel.optimize()   \n",
        "    objValues[i] = AlsetModel.objVal\n",
        "    loss_Q1[i] = (1.0 - objValues[i]/gross_profit_Q1)*100\n",
        "    for r in retailers:\n",
        "        individual_fillrates[r][i] = (sum(centersToRetailers[c,r].X for c in centers) / retailersDF[\"Pre-orders\"][r])*100  \n",
        "\n",
        "#@markdown Do a single plot for everything\n",
        "# first settings are good for Powerpoint plots; second set is good in Colab\n",
        "#fontsize = 15\n",
        "#fig, ax1 = plt.subplots(figsize=(15,8))\n",
        "#markersize = 10\n",
        "#linewidth = 3\n",
        "fontsize = 12\n",
        "fig, ax1 = plt.subplots(figsize=(10,5))\n",
        "markersize = 5\n",
        "linewidth = 2\n",
        "color1 = 'black'\n",
        "\n",
        "# plot only a few markers for each plot (that way one can disambiguate)\n",
        "markevery = [2, 3, 2, 3]\n",
        "markers = ['o', 's', '*', 'd']\n",
        "\n",
        "for i in range(len(retailers)):\n",
        "    plt.plot(delta_vals, individual_fillrates[retailers[i]], linestyle='solid', \\\n",
        "             linewidth=linewidth,marker=markers[i],\\\n",
        "             markersize=markersize, markevery=markevery[i])\n",
        "\n",
        "plt.xlabel(\"Delta value (%)\", fontsize=fontsize)\n",
        "plt.ylabel(\"Fill rates (%)\", color=color1, fontsize=fontsize)\n",
        "ax1.tick_params(axis='y', labelcolor=color1)\n",
        "plt.yticks(fontsize=fontsize)\n",
        "plt.xticks(fontsize=fontsize)\n",
        "ax1.legend(retailers, fontsize=fontsize, loc=\"lower left\")\n",
        "\n",
        "ax2 = ax1.twinx()  # instantiate a second axes that shares the same x-axis\n",
        "color2 = 'magenta'\n",
        "ax2.set_ylabel('Profit loss from Q1 (%)', color=color2, fontsize=fontsize)  # we already handled the x-label with ax1\n",
        "ax2.plot(delta_vals, loss_Q1, color='magenta', linestyle='--', linewidth=linewidth)\n",
        "ax2.tick_params(axis='y', labelcolor=color2)\n",
        "plt.yticks(fontsize=fontsize)\n",
        "plt.xticks(fontsize=fontsize)\n",
        "\n",
        "plt.tight_layout()\n",
        "plt.show()"
      ],
      "execution_count": 25,
      "outputs": [
        {
          "output_type": "display_data",
          "data": {
            "image/png": "[encoded data removed]",
            "text/plain": [
              "<Figure size 720x360 with 2 Axes>"
            ]
          },
          "metadata": {
            "needs_background": "light"
          }
        }
      ]
    },
    {
      "cell_type": "markdown",
      "metadata": {
        "id": "qNjGwuecYk6X"
      },
      "source": [
        "______\n",
        "# **Q5-b**\n",
        "Before running this section, make sure you have run all the previous sections of the Colab file."
      ]
    },
    {
      "cell_type": "markdown",
      "metadata": {
        "id": "Dyv6NOcxYk6w"
      },
      "source": [
        "This model requires that the **fill rate** for each retailer is at least as large as some pre-specified lower bound. (Recall that the fill rate is defined as the ratio of filled orders divided by demand/preorders.) \n",
        "\n",
        "That is, if $F[r]$ denotes the fill rate achieved at retailer $r$, we are imposing the constraints:<br>\n",
        "> $ F[r] \\geq f$ for every retailer $r$\n",
        "\n",
        "where $f$ is the minimum required fill-rate (a value between 0 and 1)."
      ]
    },
    {
      "cell_type": "code",
      "metadata": {
        "colab": {
          "base_uri": "https://localhost:8080/"
        },
        "id": "xAwdwaCzYk6x",
        "cellView": "form",
        "outputId": "a0bf3405-d2b6-480c-e01d-2ede25a647b1"
      },
      "source": [
        "#@title Solve a single problem instance with a minimum fill rate requirement\n",
        "#@markdown Select the desired minimum fill rate (as a percentage)\n",
        "min_fill_rate = 29.6 #@param {type:\"number\"}\n",
        "min_fill_rate = min_fill_rate/100\n",
        "\n",
        "#markdown Create a model like the one in Q1\n",
        "AlsetModel, factoriesToCenters, centersToRetailers, gross_profit, constr = \\\n",
        "       create_model_like_in_Q1()\n",
        "\n",
        "# Constrain the fill rate at each retailer\n",
        "fill_rate_constraint = {}  # store the fill rate constraints in a dictionary, to make it easy to recall them\n",
        "for r in retailers :\n",
        "    fill_rate_constraint[r] = \\\n",
        "    AlsetModel.addConstr( quicksum(centersToRetailers[c,r] for c in centers) / retailersDF[\"Pre-orders\"][r] >= min_fill_rate)\n",
        "        \n",
        "# Solve the new model\n",
        "#@markdown Select whether to run the [Gurobi](https://www.gurobi.com/) optimization algorithms silently (no output details)\n",
        "run_silently = True #@param {type:\"boolean\"}\n",
        "\n",
        "if run_silently:\n",
        "    AlsetModel.setParam('OutputFlag',0)\n",
        "else:\n",
        "    AlsetModel.setParam('OutputFlag',1)\n",
        "\n",
        "AlsetModel.optimize()\n",
        "print('\\nSolved the optimization problem...\\n')\n",
        "\n",
        "if AlsetModel.status in [GRB.INFEASIBLE, GRB.INF_OR_UNBD]:\n",
        "    # the model is infeasible\n",
        "    print(\"It is infeasible to achieve this fill rate at all retailers.\")\n",
        "\n",
        "elif AlsetModel.status==GRB.OPTIMAL:\n",
        "    # the model was solved to optimality\n",
        "    # Print the gross profit and the difference from Q1\n",
        "    print_and_compare_Q1(AlsetModel, centersToRetailers)"
      ],
      "execution_count": 26,
      "outputs": [
        {
          "output_type": "stream",
          "name": "stdout",
          "text": [
            "\n",
            "Solved the optimization problem...\n",
            "\n",
            "============================================================\n",
            "The gross profit with these considerations         : 33,623,200.00\n",
            "Profit difference compared to Q1:                  : -1,800.00\n",
            "Profit loss (%):                                   : -0.01\n",
            "============================================================\n",
            "The number of orders and the fill rate at each retailer:\n",
            "\n",
            "   Retailer \t Orders \t Fill rate\n",
            "   OO     \t 1480 \t\t 29.60%\n",
            "   FL     \t 2500 \t\t 100.00%\n",
            "   SH     \t 474 \t\t 29.60%\n",
            "   WW     \t 550 \t\t 100.00%\n"
          ]
        }
      ]
    },
    {
      "cell_type": "code",
      "metadata": {
        "colab": {
          "base_uri": "https://localhost:8080/",
          "height": 0
        },
        "id": "7BYM7llCaJfD",
        "cellView": "form",
        "outputId": "23932b9c-9421-4b73-e808-8a605bc9cc63"
      },
      "source": [
        "#@title Examine how the gross profit losses and the achieved fill rates depend on the minimum fill rate requirement\n",
        "fill_rate_vals = list(np.arange(0,72.6,0.1))      # set up values for the fill rate (in percentage terms)\n",
        "\n",
        "# the objective values and the loss compared to Q1\n",
        "objValues = [0]*len(fill_rate_vals)\n",
        "loss_Q1 = [0]*len(fill_rate_vals)\n",
        "\n",
        "# a dictionary with a list for each customer, that stores the realized fill rate at that customer\n",
        "individual_fillrates = {}   \n",
        "for r in retailers:\n",
        "    individual_fillrates[r] = [0]*len(fill_rate_vals)\n",
        "\n",
        "for i in range(len(fill_rate_vals)):\n",
        "    # change the fill rate constraint \n",
        "    for r in retailers :\n",
        "        fill_rate_constraint[r].setAttr('rhs', fill_rate_vals[i]/100)\n",
        "    \n",
        "    AlsetModel.optimize()   \n",
        "    objValues[i] = AlsetModel.objVal\n",
        "    loss_Q1[i] = (1.0 - objValues[i]/gross_profit_Q1)*100\n",
        "    for r in retailers:\n",
        "        individual_fillrates[r][i] = (sum(centersToRetailers[c,r].X for c in centers) / retailersDF[\"Pre-orders\"][r])*100  \n",
        "\n",
        "#@markdown Do a single plot for everything\n",
        "#fontsize = 30\n",
        "#fig, ax1 = plt.subplots(figsize=(15,8))\n",
        "#markersize = 10\n",
        "#linewidth = 3\n",
        "fontsize = 12\n",
        "fig, ax1 = plt.subplots(figsize=(10,5))\n",
        "markersize = 5\n",
        "linewidth = 2\n",
        "\n",
        "color1 = 'black'\n",
        "\n",
        "# plot only a few markers for each plot (that way one can disambiguate)\n",
        "markevery = [20, 30, 20, 30]\n",
        "markers = ['o', 's', '*', 'd']\n",
        "\n",
        "for i in range(len(retailers)):\n",
        "    plt.plot(fill_rate_vals, individual_fillrates[retailers[i]], linestyle='solid', \\\n",
        "             linewidth=linewidth,\\\n",
        "             marker=markers[i], markersize=markersize, markevery=markevery[i])\n",
        "\n",
        "plt.xlabel(\"Minimum required fill-rate (%)\", fontsize=fontsize)\n",
        "plt.ylabel(\"Fill rates (%)\", color=color1, fontsize=fontsize)\n",
        "ax1.tick_params(axis='y', labelcolor=color1)\n",
        "plt.yticks(fontsize=fontsize)\n",
        "plt.xticks(fontsize=fontsize)\n",
        "plt.legend(retailers, fontsize=fontsize)\n",
        "\n",
        "ax2 = ax1.twinx()  # instantiate a second axes that shares the same x-axis\n",
        "color2 = 'magenta'\n",
        "ax2.set_ylabel('Profit loss from Q1 (%)', color=color2, fontsize=fontsize)  # we already handled the x-label with ax1\n",
        "ax2.plot(fill_rate_vals, loss_Q1, color='magenta', linestyle='--', linewidth=linewidth)\n",
        "ax2.tick_params(axis='y', labelcolor=color2)\n",
        "plt.yticks(fontsize=fontsize)\n",
        "plt.xticks(fontsize=fontsize)\n",
        "\n",
        "plt.tight_layout()\n",
        "plt.show()"
      ],
      "execution_count": 27,
      "outputs": [
        {
          "output_type": "display_data",
          "data": {
            "image/png": "[encoded data removed]",
            "text/plain": [
              "<Figure size 720x360 with 2 Axes>"
            ]
          },
          "metadata": {
            "needs_background": "light"
          }
        }
      ]
    },
    {
      "cell_type": "markdown",
      "metadata": {
        "id": "ESrQ0be6pb83"
      },
      "source": [
        "______\n",
        "# **Q6**\n",
        "Before running this section, make sure you have run all the previous sections of the Colab file."
      ]
    },
    {
      "cell_type": "markdown",
      "metadata": {
        "id": "EKH9fwZqpb9K"
      },
      "source": [
        "Here, we change the capacity in each facility (one at a time), resolve the problem, and record the difference in gross profits compared to **Q1**."
      ]
    },
    {
      "cell_type": "code",
      "metadata": {
        "colab": {
          "base_uri": "https://localhost:8080/"
        },
        "id": "1VdV-o7lxQb8",
        "cellView": "form",
        "outputId": "87b86478-a371-4f94-d2a7-c0742973f224"
      },
      "source": [
        "#@title Increase capacity **in each facility at a time** by some amount:\n",
        "\n",
        "capacity_increase = 1 #@param {type:\"number\"}\n",
        "\n",
        "for facility in [\"Zuffe\", \"Leip\", \"C1\", \"C2\", \"C3\"]:\n",
        "    #markdown Create a model like the one in Q1\n",
        "    AlsetModel, factoriesToCenters, centersToRetailers, gross_profit, constr = \\\n",
        "          create_model_like_in_Q1()\n",
        "\n",
        "    if facility in factories:\n",
        "        constr[\"factory_cap\"][facility].setAttr('rhs', factoriesDF[\"Capacity\"][facility] + capacity_increase)\n",
        "\n",
        "    elif facility in centers:\n",
        "        constr[\"center_cap\"][facility].setAttr('rhs', customizationCentersDF[\"Capacity\"][facility] + capacity_increase)\n",
        "\n",
        "    # run Gurobi silently\n",
        "    AlsetModel.setParam('OutputFlag',0)\n",
        "    AlsetModel.optimize()\n",
        "\n",
        "    if AlsetModel.status in [GRB.INFEASIBLE, GRB.INF_OR_UNBD]:\n",
        "        # the model is infeasible\n",
        "        print(\"The model is infeasible.\")\n",
        "\n",
        "    elif AlsetModel.status==GRB.OPTIMAL:\n",
        "        # the model was solved to optimality\n",
        "        print(\"By increasing the capacity at {} by {} unit(s), the profit difference compared to Q1 is: {:,.2f}\".\\\n",
        "              format(facility, capacity_increase, AlsetModel.objVal - gross_profit_Q1))"
      ],
      "execution_count": 28,
      "outputs": [
        {
          "output_type": "stream",
          "name": "stdout",
          "text": [
            "By increasing the capacity at Zuffe by 1 unit(s), the profit difference compared to Q1 is: 3,000.00\n",
            "By increasing the capacity at Leip by 1 unit(s), the profit difference compared to Q1 is: 0.00\n",
            "By increasing the capacity at C1 by 1 unit(s), the profit difference compared to Q1 is: 6,000.00\n",
            "By increasing the capacity at C2 by 1 unit(s), the profit difference compared to Q1 is: 1,500.00\n",
            "By increasing the capacity at C3 by 1 unit(s), the profit difference compared to Q1 is: 0.00\n"
          ]
        }
      ]
    },
    {
      "cell_type": "code",
      "metadata": {
        "colab": {
          "base_uri": "https://localhost:8080/"
        },
        "id": "DnAl3_nPpb9L",
        "cellView": "form",
        "outputId": "fe0ae17c-8814-485a-d2ee-299e46408571"
      },
      "source": [
        "#@title The code below allows you to calculate how the profit changes as a function of the capacity increase\n",
        "\n",
        "#@markdown Select one of the facilities\n",
        "facility = 'C1' #@param [\"Zuffe\", \"Leip\", \"C1\", \"C2\", \"C3\"] {allow-input: false}\n",
        "\n",
        "#@markdown Select by how much to change the capacity at the facility (positive or negative changes allowed)\n",
        "capacity_change = 1 #@param {type:\"number\"}\n",
        "\n",
        "#markdown Create a model like the one in Q1\n",
        "AlsetModel, factoriesToCenters, centersToRetailers, gross_profit, constr = \\\n",
        "       create_model_like_in_Q1()\n",
        "\n",
        "if facility in factories:\n",
        "    constr[\"factory_cap\"][facility].setAttr('rhs', factoriesDF[\"Capacity\"][facility] + capacity_change)\n",
        "\n",
        "elif facility in centers:\n",
        "    constr[\"center_cap\"][facility].setAttr('rhs', customizationCentersDF[\"Capacity\"][facility] + capacity_change)\n",
        "\n",
        "# #@markdown Solve the new model\n",
        "#@markdown Select whether to run the [Gurobi](https://www.gurobi.com/) optimization algorithms silently (no output details)\n",
        "run_silently = True #@param {type:\"boolean\"}\n",
        "\n",
        "if run_silently:\n",
        "    AlsetModel.setParam('OutputFlag',0)\n",
        "else:\n",
        "    AlsetModel.setParam('OutputFlag',1)\n",
        "\n",
        "AlsetModel.optimize()\n",
        "print('\\nSolved the new optimization problem...\\n')\n",
        "\n",
        "if AlsetModel.status in [GRB.INFEASIBLE, GRB.INF_OR_UNBD]:\n",
        "    # the model is infeasible\n",
        "    print(\"The model is infeasible.\")\n",
        "\n",
        "elif AlsetModel.status==GRB.OPTIMAL:\n",
        "    # the model was solved to optimality\n",
        "    print(\"The profit difference compared to Q1: {:,.2f}\".\\\n",
        "          format(AlsetModel.objVal - gross_profit_Q1))"
      ],
      "execution_count": 29,
      "outputs": [
        {
          "output_type": "stream",
          "name": "stdout",
          "text": [
            "\n",
            "Solved the new optimization problem...\n",
            "\n",
            "The profit difference compared to Q1: 6,000.00\n"
          ]
        }
      ]
    },
    {
      "cell_type": "code",
      "metadata": {
        "colab": {
          "base_uri": "https://localhost:8080/",
          "height": 0
        },
        "collapsed": true,
        "id": "LyXK-JMwyjZo",
        "cellView": "form",
        "outputId": "280ccd1c-61c5-4a0a-bd21-1c064f1d6055"
      },
      "source": [
        "#@title The code below allows you to visualize how the **profit change** depends on the **capacity increase** in a facility\n",
        "\n",
        "#@markdown Select one of the facilities\n",
        "facility = 'C2' #@param [\"Zuffe\", \"Leip\", \"C1\", \"C2\", \"C3\"] {allow-input: false}\n",
        "\n",
        "# set up values for the capacity increase\n",
        "step = 100\n",
        "max_increase = 5000\n",
        "cap_increase = list(np.arange(0,max_increase+step,step))\n",
        "\n",
        "# the objective values and the loss compared to Q1\n",
        "objValues = [0]*len(cap_increase)\n",
        "change_Q1 = [0]*len(cap_increase)\n",
        "\n",
        "# Create a model like the one in Q1\n",
        "AlsetModel, factoriesToCenters, centersToRetailers, gross_profit, constr = \\\n",
        "       create_model_like_in_Q1()\n",
        "\n",
        "AlsetModel.setParam('OutputFlag', 0)   # supress Gurobi's output\n",
        "\n",
        "for i in range(len(cap_increase)):\n",
        "    \n",
        "    # change capacity at the facility\n",
        "    if facility in factories:\n",
        "        constr[\"factory_cap\"][facility].setAttr('rhs', factoriesDF[\"Capacity\"][facility] + cap_increase[i])\n",
        "\n",
        "    elif facility in centers:\n",
        "        constr[\"center_cap\"][facility].setAttr('rhs', customizationCentersDF[\"Capacity\"][facility] + cap_increase[i])\n",
        "\n",
        "    # solve the model\n",
        "    AlsetModel.optimize()\n",
        "    \n",
        "    #print(\"{:10.2f} : {:10.2f} \".format(cap_increase[i],center_cap_constraints[\"C1\"].pi))\n",
        "\n",
        "    objValues[i] = AlsetModel.objVal\n",
        "    #change_Q1[i] = (objValues[i]/gross_profit_Q1 - 1.0)*100\n",
        "    change_Q1[i] = (objValues[i] - gross_profit_Q1)/1e6\n",
        "\n",
        "#@markdown Visualize the dependency\n",
        "# first set of settings are useful for Powerpoint\n",
        "#fontsize = 20\n",
        "#fig, ax1 = plt.subplots(figsize=(18,8))\n",
        "fontsize = 10\n",
        "fig, ax1 = plt.subplots(figsize=(10,5))\n",
        "\n",
        "# plot the gross profits changes\n",
        "plt.plot(cap_increase, change_Q1, linestyle='solid', linewidth=3, color='blue')\n",
        "\n",
        "plt.xlabel(\"Capacity increase in \" + facility, fontsize=fontsize)\n",
        "plt.ylabel(\"Gross profit change from Q1 (Million EUR)\", fontsize=fontsize)\n",
        "plt.yticks(fontsize=fontsize)\n",
        "\n",
        "mark_every = 5\n",
        "plt.xticks(ticks=cap_increase[0:len(cap_increase):mark_every], rotation=90)\n",
        "plt.xticks(fontsize=fontsize)\n",
        "\n",
        "# calculate the required payments\n",
        "#plt.legend((\"Gross profit change from Q1\",\"Payments for new capacity\"),fontsize=30,loc=\"lower center\")\n",
        "plt.tight_layout()\n",
        "plt.show()"
      ],
      "execution_count": 30,
      "outputs": [
        {
          "output_type": "display_data",
          "data": {
            "image/png": "[encoded data removed]",
            "text/plain": [
              "<Figure size 720x360 with 1 Axes>"
            ]
          },
          "metadata": {
            "needs_background": "light"
          }
        }
      ]
    },
    {
      "cell_type": "code",
      "metadata": {
        "colab": {
          "base_uri": "https://localhost:8080/",
          "height": 0
        },
        "collapsed": true,
        "id": "fWhxVPUig-tA",
        "cellView": "form",
        "outputId": "73ecfcaf-5d8f-4ead-90ce-b143ec10edb1"
      },
      "source": [
        "#@title The code below allows you to visualize how the **gross profit** depends on the **total installed capacity** in a facility\n",
        "\n",
        "#@markdown Select one of the facilities\n",
        "facility = 'Zuffe' #@param [\"Zuffe\", \"Leip\", \"C1\", \"C2\", \"C3\"] {allow-input: false}\n",
        "\n",
        "# set up values for the capacity increase \n",
        "cap_values = list(np.arange(0,10100,1))\n",
        "\n",
        "# the objective values and the loss compared to Q1\n",
        "objValues = [0]*len(cap_values)\n",
        "#change_Q1 = [0]*len(cap_values)\n",
        "shadow_prices = [0]*len(cap_values)\n",
        "\n",
        "# Create a model like the one in Q1\n",
        "AlsetModel, factoriesToCenters, centersToRetailers, gross_profit, constr = \\\n",
        "       create_model_like_in_Q1()\n",
        "\n",
        "AlsetModel.setParam('OutputFlag', 0)   # supress Gurobi's output\n",
        "\n",
        "for i in range(len(cap_values)):\n",
        "    \n",
        "    # change capacity at the facility\n",
        "    if facility in factories:\n",
        "        con_changing = constr[\"factory_cap\"][facility]\n",
        "\n",
        "    elif facility in centers:\n",
        "        con_changing = constr[\"center_cap\"][facility]\n",
        "\n",
        "    con_changing.setAttr('rhs', cap_values[i])\n",
        "\n",
        "\n",
        "    # solve the model\n",
        "    AlsetModel.optimize()\n",
        "    \n",
        "    #print(\"{:10.2f} : {:10.2f} \".format(cap_increase[i],center_cap_constraints[\"C1\"].pi))\n",
        "\n",
        "    objValues[i] = AlsetModel.objVal/1e6\n",
        "    #change_Q1[i] = (objValues[i]/gross_profit_Q1 - 1.0)*100\n",
        "    #change_Q1[i] = (objValues[i] - gross_profit_Q1)/1e6\n",
        "\n",
        "    # store the shadow price\n",
        "    shadow_prices[i] = con_changing.Pi\n",
        "\n",
        "#@markdown Visualize the dependency\n",
        "# first set of settings are useful for Powerpoint\n",
        "#fontsize = 20\n",
        "#fig, ax1 = plt.subplots(figsize=(20,10))\n",
        "fontsize = 10\n",
        "fig, ax1 = plt.subplots(figsize=(10,5))\n",
        "\n",
        "# plot the gross profits changes\n",
        "color1 = 'blue'\n",
        "plt.plot(cap_values, objValues, linestyle='solid', linewidth=3, color=color1)\n",
        "\n",
        "plt.xlabel(\"Total capacity in \" + facility, fontsize=fontsize)\n",
        "plt.ylabel(\"Gross profit (Million EUR)\", fontsize=fontsize, color=color1)\n",
        "ax1.yaxis.set_label_coords(0.02,0.5)\n",
        "ax1.tick_params(axis='y', labelcolor=color1)\n",
        "plt.yticks(fontsize=fontsize)\n",
        "\n",
        "mark_every = 200\n",
        "plt.xticks(ticks=cap_values[0:len(cap_values):mark_every], rotation=90)\n",
        "plt.xticks(fontsize=fontsize)\n",
        "\n",
        "show_shadow_prices = True\n",
        "\n",
        "if show_shadow_prices:\n",
        "    ax2 = ax1.twinx()  # instantiate a second axes that shares the same x-axis\n",
        "    color2 = 'magenta'\n",
        "    ax2.set_ylabel('Slope of gross profit function (EUR/unit)', color=color2, fontsize=fontsize)  # we already handled the x-label with ax1\n",
        "    ax2.yaxis.set_label_coords(0.98,0.5)\n",
        "    ax2.plot(cap_values, shadow_prices, color='magenta', linestyle='--', linewidth=3)\n",
        "    ax2.tick_params(axis='y', labelcolor=color2)\n",
        "    plt.yticks(ticks=np.unique(shadow_prices), fontsize=fontsize)\n",
        "    plt.xticks(fontsize=fontsize)\n",
        "\n",
        "plt.tight_layout()\n",
        "plt.show()"
      ],
      "execution_count": 31,
      "outputs": [
        {
          "output_type": "display_data",
          "data": {
            "image/png": "[encoded data removed]",
            "text/plain": [
              "<Figure size 720x360 with 2 Axes>"
            ]
          },
          "metadata": {
            "needs_background": "light"
          }
        }
      ]
    },
    {
      "cell_type": "code",
      "metadata": {
        "id": "I0UbduH_wDR4"
      },
      "source": [
        ""
      ],
      "execution_count": 31,
      "outputs": []
    }
  ]
}