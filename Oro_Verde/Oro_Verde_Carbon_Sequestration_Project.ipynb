{
  "nbformat": 4,
  "nbformat_minor": 0,
  "metadata": {
    "kernelspec": {
      "display_name": "Python 3",
      "language": "python",
      "name": "python3"
    },
    "language_info": {
      "codemirror_mode": {
        "name": "ipython",
        "version": 3
      },
      "file_extension": ".py",
      "mimetype": "text/x-python",
      "name": "python",
      "nbconvert_exporter": "python",
      "pygments_lexer": "ipython3",
      "version": "3.7.4"
    },
    "colab": {
      "name": "Oro Verde Carbon Sequestration Project.ipynb",
      "provenance": [],
      "collapsed_sections": [],
      "toc_visible": true,
      "include_colab_link": true
    }
  },
  "cells": [
    {
      "cell_type": "markdown",
      "metadata": {
        "id": "view-in-github",
        "colab_type": "text"
      },
      "source": [
        "<a href=\"https://colab.research.google.com/github/dan-a-iancu/airm/blob/master/Oro_Verde/Oro_Verde_Carbon_Sequestration_Project.ipynb\" target=\"_parent\"><img src=\"https://colab.research.google.com/assets/colab-badge.svg\" alt=\"Open In Colab\"/></a>"
      ]
    },
    {
      "cell_type": "markdown",
      "metadata": {
        "id": "cBtr1GxeqDSL"
      },
      "source": [
        "**\"Oro Verde\" Carbon Offset Project**\n",
        "\n",
        "This notebook implements a complete for the Oro Verde mini-case. The notebook assumes that you are  familiar with the context and have understood the basic optimization model."
      ]
    },
    {
      "cell_type": "code",
      "metadata": {
        "id": "WC9g6EhCaTYD",
        "colab": {
          "base_uri": "https://localhost:8080/"
        },
        "cellView": "form",
        "outputId": "c47ae4ca-10e6-4912-b908-1340e97d21db"
      },
      "source": [
        "#@title **Basic Setup.** We start by importing a few useful modules and reading the case data in.\n",
        "#@markdown *Click on the \"play\" button on the left to run this entire cell.*\n",
        "\n",
        "#@markdown - import/install modules\n",
        "import numpy as np\n",
        "\n",
        "import urllib\n",
        "from urllib import request  # for file downloading\n",
        "\n",
        "# Import pandas for data-frames\n",
        "import pandas as pd\n",
        "pd.options.display.max_rows = 15\n",
        "pd.options.display.float_format = \"{:,.2f}\".format\n",
        "\n",
        "# Make sure Matplotlib runs inline, for nice figures\n",
        "%matplotlib inline\n",
        "import matplotlib as mpl\n",
        "import matplotlib.pyplot as plt\n",
        "mpl.rc('axes', labelsize=14)\n",
        "mpl.rc('xtick', labelsize=12)\n",
        "mpl.rc('ytick', labelsize=12)\n",
        "import matplotlib.ticker as ticker \n",
        "\n",
        "# install Gurobi (our linear optimization solver)\n",
        "!pip install -i https://pypi.gurobi.com gurobipy\n",
        "from gurobipy import *\n",
        "\n",
        "# Ignore useless some warnings\n",
        "import warnings\n",
        "warnings.simplefilter(action=\"ignore\")\n",
        "\n",
        "print(\"Completed successfully!\")"
      ],
      "execution_count": 1,
      "outputs": [
        {
          "output_type": "stream",
          "text": [
            "Looking in indexes: https://pypi.gurobi.com\n",
            "Collecting gurobipy\n",
            "\u001b[?25l  Downloading https://pypi.gurobi.com/gurobipy/gurobipy-9.1.1-cp37-cp37m-manylinux1_x86_64.whl (11.1MB)\n",
            "\u001b[K     |████████████████████████████████| 11.1MB 3.0MB/s \n",
            "\u001b[?25hInstalling collected packages: gurobipy\n",
            "Successfully installed gurobipy-9.1.1\n",
            "Completed successfully!\n"
          ],
          "name": "stdout"
        }
      ]
    },
    {
      "cell_type": "markdown",
      "metadata": {
        "id": "PkQyKAotqDSP"
      },
      "source": [
        "### Read in the case data and have a quick look at how it's organized"
      ]
    },
    {
      "cell_type": "code",
      "metadata": {
        "scrolled": true,
        "id": "5CnoTHV4qDSQ",
        "colab": {
          "base_uri": "https://localhost:8080/",
          "height": 184
        },
        "cellView": "form",
        "outputId": "12bc4876-fd9c-4bfd-fc2d-33ffb65a5338"
      },
      "source": [
        "#@markdown - download the data as a CSV file (stored online)\n",
        "url_Q1 = \"https://raw.githubusercontent.com/dan-a-iancu/airm/master/Oro_Verde/Oro_Verde_data.csv\"\n",
        "local_file_Q1 = \"Oro_Verde_data.csv\"   # name of local file where you want to store the downloaded file\n",
        "aux = urllib.request.urlretrieve(url_Q1, local_file_Q1)    # download from website and save it locally\n",
        "\n",
        "#@markdown - read data into a pandas dataframe\n",
        "mydata = pd.read_csv(\"Oro_Verde_data.csv\", index_col = 0) \n",
        "\n",
        "print('Successfully read the data.')\n",
        "\n",
        "#@markdown - print the dataframe with information on tree types\n",
        "display(mydata)\n",
        "\n",
        "#@markdown - set up any other problem parameters\n",
        "land_avail = 150000              # available land area (in square feet)\n",
        "water_avail = 50000              # available water (in gallons)\n",
        "annual_seq_commit = 1800              # annual sequestration commitment\n",
        "min_elms = 15   # minimum requirement on elm trees\n",
        "\n",
        "#@markdown - create a list with all the types of trees (this will be very useful for creating our decision variables)\n",
        "tree_types = list(mydata.index)"
      ],
      "execution_count": 2,
      "outputs": [
        {
          "output_type": "stream",
          "text": [
            "Successfully read the data.\n"
          ],
          "name": "stdout"
        },
        {
          "output_type": "display_data",
          "data": {
            "text/html": [
              "<div>\n",
              "<style scoped>\n",
              "    .dataframe tbody tr th:only-of-type {\n",
              "        vertical-align: middle;\n",
              "    }\n",
              "\n",
              "    .dataframe tbody tr th {\n",
              "        vertical-align: top;\n",
              "    }\n",
              "\n",
              "    .dataframe thead th {\n",
              "        text-align: right;\n",
              "    }\n",
              "</style>\n",
              "<table border=\"1\" class=\"dataframe\">\n",
              "  <thead>\n",
              "    <tr style=\"text-align: right;\">\n",
              "      <th></th>\n",
              "      <th>SequestrationRate</th>\n",
              "      <th>WaterRequirement</th>\n",
              "      <th>Width</th>\n",
              "      <th>SurvivalRate</th>\n",
              "      <th>SeedlingCost</th>\n",
              "      <th>SeedlingsAvailable</th>\n",
              "    </tr>\n",
              "    <tr>\n",
              "      <th>TreeType</th>\n",
              "      <th></th>\n",
              "      <th></th>\n",
              "      <th></th>\n",
              "      <th></th>\n",
              "      <th></th>\n",
              "      <th></th>\n",
              "    </tr>\n",
              "  </thead>\n",
              "  <tbody>\n",
              "    <tr>\n",
              "      <th>Maple</th>\n",
              "      <td>4.30</td>\n",
              "      <td>76.00</td>\n",
              "      <td>130.00</td>\n",
              "      <td>0.70</td>\n",
              "      <td>5.40</td>\n",
              "      <td>1,000.00</td>\n",
              "    </tr>\n",
              "    <tr>\n",
              "      <th>Elm</th>\n",
              "      <td>3.70</td>\n",
              "      <td>48.00</td>\n",
              "      <td>3,600.00</td>\n",
              "      <td>0.60</td>\n",
              "      <td>3.20</td>\n",
              "      <td>500.00</td>\n",
              "    </tr>\n",
              "    <tr>\n",
              "      <th>Spruce</th>\n",
              "      <td>2.80</td>\n",
              "      <td>34.00</td>\n",
              "      <td>400.00</td>\n",
              "      <td>0.80</td>\n",
              "      <td>4.50</td>\n",
              "      <td>1,500.00</td>\n",
              "    </tr>\n",
              "  </tbody>\n",
              "</table>\n",
              "</div>"
            ],
            "text/plain": [
              "          SequestrationRate  WaterRequirement  ...  SeedlingCost  SeedlingsAvailable\n",
              "TreeType                                       ...                                  \n",
              "Maple                  4.30             76.00  ...          5.40            1,000.00\n",
              "Elm                    3.70             48.00  ...          3.20              500.00\n",
              "Spruce                 2.80             34.00  ...          4.50            1,500.00\n",
              "\n",
              "[3 rows x 6 columns]"
            ]
          },
          "metadata": {
            "tags": []
          }
        }
      ]
    },
    {
      "cell_type": "markdown",
      "metadata": {
        "id": "jHqQQ5OJnuA9"
      },
      "source": [
        "# **Q1.**  \n",
        "\n",
        "Suppose Oro Verde plants 500 maples, 500 elms, and 500 spruces. What would be the total cost, the total amount of water and land required, and the expected annual amount of carbon sequestration delivered in 10 years?\n"
      ]
    },
    {
      "cell_type": "code",
      "metadata": {
        "colab": {
          "base_uri": "https://localhost:8080/"
        },
        "id": "2ZxiqRFCZM4Z",
        "cellView": "form",
        "outputId": "fea7a5d7-f369-4c79-83e3-6c5d60612cc3"
      },
      "source": [
        "#@title Adjust the planting decisions and calculate and print relevant quantities\n",
        "\n",
        "#@markdown - adjust how many trees of each type are planted\n",
        "trees_to_plant = {}\n",
        "for t in tree_types:\n",
        "    trees_to_plant[t] = 500   # in Q1, we are planting 500 of each type\n",
        "\n",
        "#@markdown - calculate and print the total cost, water and land required\n",
        "cost = sum(trees_to_plant[t] * mydata[\"SeedlingCost\"][t] for t in tree_types)\n",
        "water_req = sum(trees_to_plant[t] * mydata[\"WaterRequirement\"][t] for t in tree_types)\n",
        "land_req = sum(trees_to_plant[t] * mydata[\"Width\"][t] for t in tree_types)\n",
        "\n",
        "print(\"Total cost: \\t\\t{:,.2f} ($)\".format(cost))\n",
        "print(\"Water required: \\t{:,.2f} (gallons)\".format(water_req))\n",
        "print(\"Land required: \\t\\t{:,.2f} (square feet)\".format(land_req))"
      ],
      "execution_count": 3,
      "outputs": [
        {
          "output_type": "stream",
          "text": [
            "Total cost: \t\t6,550.00 ($)\n",
            "Water required: \t79,000.00 (gallons)\n",
            "Land required: \t\t2,065,000.00 (square feet)\n"
          ],
          "name": "stdout"
        }
      ]
    },
    {
      "cell_type": "markdown",
      "metadata": {
        "id": "hfGu8YDvoWGb"
      },
      "source": [
        "# **Q2.** \n",
        "Determine whether the plan in **Q1** is feasible.\n",
        "\n",
        "*This section assumes that you have already run all the sections before, and particularly **Q1**. If that is not the case, please re-run everything above (e.g., by selecting this cell and choosing **Runtime > Run before**).*"
      ]
    },
    {
      "cell_type": "markdown",
      "metadata": {
        "id": "eTQKJNuecLYT"
      },
      "source": [
        "Feasibility means that all the constraints are satisfied: \n",
        " 1. the land required does not exceed the land available\n",
        " 2. the water required does not exceed the water available\n",
        " 3. the seedlings used do not exceed the seedlings available\n",
        " 4. the carbon sequestration commitment is met\n",
        " 5. the number of Elm trees planted exceeds the minimum required"
      ]
    },
    {
      "cell_type": "code",
      "metadata": {
        "id": "WlSz7KfNoWGd",
        "colab": {
          "base_uri": "https://localhost:8080/"
        },
        "cellView": "form",
        "outputId": "3d3977c4-7e4a-49ac-9873-a765932718fd"
      },
      "source": [
        "#@title Determine whether all constraints are satisfied\n",
        "feasible = True # let's assume the proposal is feasible for now, and then check each constraint\n",
        "\n",
        "# calculate the sequestration achieved\n",
        "total_seq = sum(trees_to_plant[t] * mydata[\"SequestrationRate\"][t] for t in tree_types)\n",
        "\n",
        "# water\n",
        "if (water_req > water_avail) :\n",
        "    feasible = False\n",
        "    print(\"The constraint for water is not satisfied: \\n\\t Required: {:,.2f}; Available: {:,.2f}\" .\\\n",
        "          format(water_req,water_avail))\n",
        "\n",
        "# land\n",
        "if (land_req > land_avail) :\n",
        "    feasible = False\n",
        "    print(\"The constraint for land is not satisfied: \\n\\t Required: {:,.2f} ; Available: {:,.2f}\".\\\n",
        "          format(land_req,land_avail))\n",
        "\n",
        "# seedlings\n",
        "for t in tree_types:\n",
        "    if (trees_to_plant[t] > mydata[\"SeedlingsAvailable\"][t]) :\n",
        "        feasible = False\n",
        "        print(\"The constraint for {} seedlings is not satisfied: \\n\\t Required: {:,.2f} ; Available: {:,.2f}\".\\\n",
        "              format(t,water_req,water_avail))\n",
        "\n",
        "# carbon sequestration\n",
        "if (total_seq < annual_seq_commit) :\n",
        "    feasible = False\n",
        "    print(\"The constraint for carbon sequestration is not satisfied: \\n\\t Delivering: {:,.2f} ; Minimum required: {:,.2f}\".\n",
        "          format(total_seq,annual_seq_commit))\n",
        "\n",
        "# elm min planting\n",
        "if (trees_to_plant[\"Elm\"] < min_elms) :\n",
        "    feasible = False\n",
        "    print(\"Too few elms planted. \\n\\t Planting: {:,.2f} ; Minimum required: {:,.2f}\".\\\n",
        "          format(trees_to_plant[\"Elm\"],min_elms))\n",
        "\n",
        "if(feasible) :\n",
        "    print(\"Solution is feasible!\")\n",
        "else:\n",
        "    print(\"Solution is not feasible.\")"
      ],
      "execution_count": 4,
      "outputs": [
        {
          "output_type": "stream",
          "text": [
            "The constraint for water is not satisfied: \n",
            "\t Required: 79,000.00; Available: 50,000.00\n",
            "The constraint for land is not satisfied: \n",
            "\t Required: 2,065,000.00 ; Available: 150,000.00\n",
            "Solution is not feasible.\n"
          ],
          "name": "stdout"
        }
      ]
    },
    {
      "cell_type": "markdown",
      "metadata": {
        "id": "qxnwMr5UqDSW"
      },
      "source": [
        "# **Q3**\n",
        "Set up an **Optimization Model** to determine the optimal number of trees of each type to plant. "
      ]
    },
    {
      "cell_type": "code",
      "metadata": {
        "scrolled": true,
        "id": "gfZf29b7qDSW",
        "colab": {
          "base_uri": "https://localhost:8080/"
        },
        "cellView": "form",
        "outputId": "359bbc94-f330-4505-c607-4fef0381041a"
      },
      "source": [
        "#@title Create the optimization model\n",
        "\n",
        "#@markdown **Step 1.** Create an empty model\n",
        "# the model is created with the function \"Model\" in the Gurobi package\n",
        "# note that we give it a meaningful name\n",
        "mymodel = Model(\"Oro Verde Tree Planting Model\")\n",
        "\n",
        "#@markdown **Step 2.** Create and add the decision variables\n",
        "# we create the decisions: note that we only specify several arguments:\n",
        "#   - name: is simply a string used internally, when displaying the model\n",
        "#   - indices: this is a list of strings that represent the keys to a dictionary of variables\n",
        "#             Here, we are making this the list 'tree_types', which means a decision will be created for each element of the list\n",
        "\n",
        "trees_to_plant = mymodel.addVars(tree_types, name=\"trees_to_plant\")\n",
        "\n",
        "#@markdown **Step 3.** Calculate and add the objective in the model\n",
        "#   - we use the function 'setOjective' in the Gurobi model\n",
        "mymodel.setObjective( quicksum( trees_to_plant[t] * mydata[\"SeedlingCost\"][t] for t in tree_types), GRB.MINIMIZE)\n",
        "\n",
        "#@markdown **Step 4.** Calculate and add all the constraints\n",
        "# we will name the constraints using the type of requirement\n",
        "\n",
        "# water availability\n",
        "mymodel.addConstr( quicksum( trees_to_plant[t] * mydata[\"WaterRequirement\"][t] for t in tree_types) <= water_avail ,\\\n",
        "                  name = \"water_avail\" )\n",
        "\n",
        "# land availability\n",
        "mymodel.addConstr( quicksum( trees_to_plant[t] * mydata[\"Width\"][t] for t in tree_types) <= land_avail, \\\n",
        "                  name = \"land_avail\" )\n",
        "\n",
        "# carbon sequestration commitment - we save this in a variable for future use\n",
        "seq_commit_constraint = mymodel.addConstr( quicksum( trees_to_plant[t] * mydata[\"SurvivalRate\"][t] * mydata[\"SequestrationRate\"][t] \\\n",
        "             for t in tree_types ) >= annual_seq_commit , name = \"seq_commit\" )\n",
        "\n",
        "# minimum elm trees\n",
        "mymodel.addConstr( trees_to_plant[\"Elm\"] >= min_elms , name=\"minimum_Elm\")\n",
        "\n",
        "# seedling availability for each tree type\n",
        "for t in tree_types :\n",
        "    mymodel.addConstr( trees_to_plant[t] <= mydata[\"SeedlingsAvailable\"][t], name=\"seedlings_\" + t )\n",
        "\n",
        "#@markdown **Step 5.** You can inspect the model, if you want (uncomment the next lines)\n",
        "#mymodel.write(\"my_model.lp\")    # write the model to a file with extension \".lp\"\n",
        "#f = open(\"my_model.lp\", 'r')    # open a file handle\n",
        "#print( f.read() )           # read the contents and print them\n",
        "#f.close()              # close the file handle\n",
        "\n",
        "#@markdown **Step 6.** Solve the model and display the status\n",
        "# set the output to not be so verbose (it may confuse at first)\n",
        "mymodel.Params.OutputFlag = 0\n",
        "status=mymodel.optimize()\n",
        "\n",
        "#@markdown **Step 7.** Print the optimal objective and optimal decisions\n",
        "# print the value of the objective\n",
        "costs_Q3 = mymodel.objVal\n",
        "print(\"\\n\\nOptimal cost is: {:,.2f}\".format(costs_Q3))\n",
        "\n",
        "# print solution with a for loop\n",
        "print(\"Optimal solution is to plant:\")\n",
        "for t in tree_types :\n",
        "    print(\"\\t{} : {:,.3f}\".format(t,trees_to_plant[t].X))"
      ],
      "execution_count": 5,
      "outputs": [
        {
          "output_type": "stream",
          "text": [
            "Restricted license - for non-production use only - expires 2022-01-13\n",
            "\n",
            "\n",
            "Optimal cost is: 3,213.10\n",
            "Optimal solution is to plant:\n",
            "\tMaple : 582.798\n",
            "\tElm : 20.621\n",
            "\tSpruce : 0.000\n"
          ],
          "name": "stdout"
        }
      ]
    },
    {
      "cell_type": "markdown",
      "metadata": {
        "id": "TYjCf-q9LvB8"
      },
      "source": [
        "# **Q4**\n",
        "Examine how Oro Verde's costs depend on the **additional** sequestration commitment, and plot that against the revenues from the corporation.\n",
        "\n",
        "*This section assumes that all previous sections have been run, particularly **Q3**.*"
      ]
    },
    {
      "cell_type": "code",
      "metadata": {
        "colab": {
          "base_uri": "https://localhost:8080/"
        },
        "id": "vTZT2MVniMqs",
        "cellView": "form",
        "outputId": "ee1a5c78-19cb-481b-d010-1be60465b220"
      },
      "source": [
        "#@title Enter a value for how many (additional) pounds of CO2 Oro Verde commits to sequester for the new company:\n",
        "additional_sequestration = 500 #@param {type:\"number\"}\n",
        "\n",
        "total_sequestration = annual_seq_commit + additional_sequestration\n",
        "\n",
        "#@markdown We will change the sequestration constraint in the optimization model from Q3\n",
        "seq_commit_constraint.setAttr('rhs',total_sequestration)\n",
        "\n",
        "#@markdown And then resolve the optimization model and look at the difference in costs\n",
        "mymodel.optimize()\n",
        "\n",
        "if mymodel.status==GRB.OPTIMAL:\n",
        "   print(\"Incremental cost to Oro Verde: ${:.2f}\".format(mymodel.objVal-costs_Q3))\n",
        "   print(\"Average incremental cost per pound to Oro Verde: ${:.2f}\".\\\n",
        "         format( (mymodel.objVal-costs_Q3)/additional_sequestration ))\n",
        "elif mymodel.status==GRB.INFEASIBLE:\n",
        "   print(\"It is not feasible for Oro Verde to meet this commitment.\")"
      ],
      "execution_count": 6,
      "outputs": [
        {
          "output_type": "stream",
          "text": [
            "It is not feasible for Oro Verde to meet this commitment.\n"
          ],
          "name": "stdout"
        }
      ]
    }
  ]
}