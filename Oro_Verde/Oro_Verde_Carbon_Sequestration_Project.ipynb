{
  "nbformat": 4,
  "nbformat_minor": 0,
  "metadata": {
    "kernelspec": {
      "display_name": "Python 3",
      "language": "python",
      "name": "python3"
    },
    "language_info": {
      "codemirror_mode": {
        "name": "ipython",
        "version": 3
      },
      "file_extension": ".py",
      "mimetype": "text/x-python",
      "name": "python",
      "nbconvert_exporter": "python",
      "pygments_lexer": "ipython3",
      "version": "3.7.4"
    },
    "colab": {
      "name": "Oro Verde Carbon Sequestration Project.ipynb",
      "provenance": [],
      "collapsed_sections": [
        "TYjCf-q9LvB8"
      ],
      "toc_visible": true,
      "include_colab_link": true
    }
  },
  "cells": [
    {
      "cell_type": "markdown",
      "metadata": {
        "id": "view-in-github",
        "colab_type": "text"
      },
      "source": [
        "<a href=\"https://colab.research.google.com/github/dan-a-iancu/airm/blob/master/Oro_Verde/Oro_Verde_Carbon_Sequestration_Project.ipynb\" target=\"_parent\"><img src=\"https://colab.research.google.com/assets/colab-badge.svg\" alt=\"Open In Colab\"/></a>"
      ]
    },
    {
      "cell_type": "markdown",
      "metadata": {
        "id": "cBtr1GxeqDSL"
      },
      "source": [
        "**\"Oro Verde\" Carbon Offset Project**\n",
        "\n",
        "This notebook implements a complete for the Oro Verde mini-case. The notebook assumes that you are  familiar with the context and have understood the basic optimization model."
      ]
    },
    {
      "cell_type": "code",
      "metadata": {
        "id": "WC9g6EhCaTYD",
        "colab": {
          "base_uri": "https://localhost:8080/"
        },
        "cellView": "form",
        "outputId": "83ed95a1-e13c-4c54-983c-22bb165a9c57"
      },
      "source": [
        "#@title **Basic Setup.** We start by importing a few useful modules and reading the case data in.\n",
        "#@markdown *Click on the \"play\" button on the left to run this entire cell.*\n",
        "\n",
        "#@markdown - import/install modules\n",
        "import numpy as np\n",
        "\n",
        "import urllib\n",
        "from urllib import request  # for file downloading\n",
        "\n",
        "# Import pandas for data-frames\n",
        "import pandas as pd\n",
        "pd.options.display.max_rows = 15\n",
        "pd.options.display.float_format = \"{:,.2f}\".format\n",
        "\n",
        "# Make sure Matplotlib runs inline, for nice figures\n",
        "%matplotlib inline\n",
        "import matplotlib as mpl\n",
        "import matplotlib.pyplot as plt\n",
        "mpl.rc('axes', labelsize=14)\n",
        "mpl.rc('xtick', labelsize=12)\n",
        "mpl.rc('ytick', labelsize=12)\n",
        "import matplotlib.ticker as ticker \n",
        "\n",
        "# install Gurobi (our linear optimization solver)\n",
        "!pip install -i https://pypi.gurobi.com gurobipy\n",
        "from gurobipy import *\n",
        "\n",
        "# Ignore useless some warnings\n",
        "import warnings\n",
        "warnings.simplefilter(action=\"ignore\")\n",
        "\n",
        "print(\"Completed successfully!\")"
      ],
      "execution_count": 1,
      "outputs": [
        {
          "output_type": "stream",
          "name": "stdout",
          "text": [
            "Looking in indexes: https://pypi.gurobi.com\n",
            "Collecting gurobipy\n",
            "  Downloading gurobipy-9.5.1-cp37-cp37m-manylinux2014_x86_64.whl (11.5 MB)\n",
            "\u001b[K     |████████████████████████████████| 11.5 MB 18.1 MB/s \n",
            "\u001b[?25hInstalling collected packages: gurobipy\n",
            "Successfully installed gurobipy-9.5.1\n",
            "Completed successfully!\n"
          ]
        }
      ]
    },
    {
      "cell_type": "markdown",
      "metadata": {
        "id": "PkQyKAotqDSP"
      },
      "source": [
        "### Read in the case data and have a quick look at how it's organized"
      ]
    },
    {
      "cell_type": "code",
      "metadata": {
        "scrolled": true,
        "id": "5CnoTHV4qDSQ",
        "colab": {
          "base_uri": "https://localhost:8080/",
          "height": 192
        },
        "cellView": "form",
        "outputId": "959fd208-f4b9-4c63-ac0c-a9d15d721c8d"
      },
      "source": [
        "#@markdown - download the data as a CSV file (stored online)\n",
        "url_Q1 = \"https://raw.githubusercontent.com/dan-a-iancu/airm/master/Oro_Verde/Oro_Verde_data.csv\"\n",
        "local_file_Q1 = \"Oro_Verde_data.csv\"   # name of local file where you want to store the downloaded file\n",
        "aux = urllib.request.urlretrieve(url_Q1, local_file_Q1)    # download from website and save it locally\n",
        "\n",
        "#@markdown - read data into a pandas dataframe\n",
        "mydata = pd.read_csv(\"Oro_Verde_data.csv\", index_col = 0) \n",
        "\n",
        "print('Successfully read the data.')\n",
        "\n",
        "#@markdown - print the dataframe with information on tree types\n",
        "display(mydata)\n",
        "\n",
        "#@markdown - set up any other problem parameters\n",
        "land_avail = 150000              # available land area (in square feet)\n",
        "water_avail = 50000              # available water (in gallons)\n",
        "annual_seq_commit = 1800              # annual sequestration commitment\n",
        "min_elms = 15   # minimum requirement on elm trees\n",
        "\n",
        "#@markdown - create a list with all the types of trees (this will be very useful for creating our decision variables)\n",
        "tree_types = list(mydata.index)"
      ],
      "execution_count": 2,
      "outputs": [
        {
          "output_type": "stream",
          "name": "stdout",
          "text": [
            "Successfully read the data.\n"
          ]
        },
        {
          "output_type": "display_data",
          "data": {
            "text/plain": [
              "          SequestrationRate  WaterRequirement    Width  SurvivalRate  \\\n",
              "TreeType                                                               \n",
              "Maple                  4.30             76.00   130.00          0.70   \n",
              "Elm                    3.70             48.00 3,600.00          0.60   \n",
              "Spruce                 2.80             34.00   400.00          0.80   \n",
              "\n",
              "          SeedlingCost  SeedlingsAvailable  \n",
              "TreeType                                    \n",
              "Maple             5.40            1,000.00  \n",
              "Elm               3.20              500.00  \n",
              "Spruce            4.50            1,500.00  "
            ],
            "text/html": [
              "\n",
              "  <div id=\"df-322ac9e7-7017-413b-a1fb-d24bac393630\">\n",
              "    <div class=\"colab-df-container\">\n",
              "      <div>\n",
              "<style scoped>\n",
              "    .dataframe tbody tr th:only-of-type {\n",
              "        vertical-align: middle;\n",
              "    }\n",
              "\n",
              "    .dataframe tbody tr th {\n",
              "        vertical-align: top;\n",
              "    }\n",
              "\n",
              "    .dataframe thead th {\n",
              "        text-align: right;\n",
              "    }\n",
              "</style>\n",
              "<table border=\"1\" class=\"dataframe\">\n",
              "  <thead>\n",
              "    <tr style=\"text-align: right;\">\n",
              "      <th></th>\n",
              "      <th>SequestrationRate</th>\n",
              "      <th>WaterRequirement</th>\n",
              "      <th>Width</th>\n",
              "      <th>SurvivalRate</th>\n",
              "      <th>SeedlingCost</th>\n",
              "      <th>SeedlingsAvailable</th>\n",
              "    </tr>\n",
              "    <tr>\n",
              "      <th>TreeType</th>\n",
              "      <th></th>\n",
              "      <th></th>\n",
              "      <th></th>\n",
              "      <th></th>\n",
              "      <th></th>\n",
              "      <th></th>\n",
              "    </tr>\n",
              "  </thead>\n",
              "  <tbody>\n",
              "    <tr>\n",
              "      <th>Maple</th>\n",
              "      <td>4.30</td>\n",
              "      <td>76.00</td>\n",
              "      <td>130.00</td>\n",
              "      <td>0.70</td>\n",
              "      <td>5.40</td>\n",
              "      <td>1,000.00</td>\n",
              "    </tr>\n",
              "    <tr>\n",
              "      <th>Elm</th>\n",
              "      <td>3.70</td>\n",
              "      <td>48.00</td>\n",
              "      <td>3,600.00</td>\n",
              "      <td>0.60</td>\n",
              "      <td>3.20</td>\n",
              "      <td>500.00</td>\n",
              "    </tr>\n",
              "    <tr>\n",
              "      <th>Spruce</th>\n",
              "      <td>2.80</td>\n",
              "      <td>34.00</td>\n",
              "      <td>400.00</td>\n",
              "      <td>0.80</td>\n",
              "      <td>4.50</td>\n",
              "      <td>1,500.00</td>\n",
              "    </tr>\n",
              "  </tbody>\n",
              "</table>\n",
              "</div>\n",
              "      <button class=\"colab-df-convert\" onclick=\"convertToInteractive('df-322ac9e7-7017-413b-a1fb-d24bac393630')\"\n",
              "              title=\"Convert this dataframe to an interactive table.\"\n",
              "              style=\"display:none;\">\n",
              "        \n",
              "  <svg xmlns=\"http://www.w3.org/2000/svg\" height=\"24px\"viewBox=\"0 0 24 24\"\n",
              "       width=\"24px\">\n",
              "    <path d=\"M0 0h24v24H0V0z\" fill=\"none\"/>\n",
              "    <path d=\"M18.56 5.44l.94 2.06.94-2.06 2.06-.94-2.06-.94-.94-2.06-.94 2.06-2.06.94zm-11 1L8.5 8.5l.94-2.06 2.06-.94-2.06-.94L8.5 2.5l-.94 2.06-2.06.94zm10 10l.94 2.06.94-2.06 2.06-.94-2.06-.94-.94-2.06-.94 2.06-2.06.94z\"/><path d=\"M17.41 7.96l-1.37-1.37c-.4-.4-.92-.59-1.43-.59-.52 0-1.04.2-1.43.59L10.3 9.45l-7.72 7.72c-.78.78-.78 2.05 0 2.83L4 21.41c.39.39.9.59 1.41.59.51 0 1.02-.2 1.41-.59l7.78-7.78 2.81-2.81c.8-.78.8-2.07 0-2.86zM5.41 20L4 18.59l7.72-7.72 1.47 1.35L5.41 20z\"/>\n",
              "  </svg>\n",
              "      </button>\n",
              "      \n",
              "  <style>\n",
              "    .colab-df-container {\n",
              "      display:flex;\n",
              "      flex-wrap:wrap;\n",
              "      gap: 12px;\n",
              "    }\n",
              "\n",
              "    .colab-df-convert {\n",
              "      background-color: #E8F0FE;\n",
              "      border: none;\n",
              "      border-radius: 50%;\n",
              "      cursor: pointer;\n",
              "      display: none;\n",
              "      fill: #1967D2;\n",
              "      height: 32px;\n",
              "      padding: 0 0 0 0;\n",
              "      width: 32px;\n",
              "    }\n",
              "\n",
              "    .colab-df-convert:hover {\n",
              "      background-color: #E2EBFA;\n",
              "      box-shadow: 0px 1px 2px rgba(60, 64, 67, 0.3), 0px 1px 3px 1px rgba(60, 64, 67, 0.15);\n",
              "      fill: #174EA6;\n",
              "    }\n",
              "\n",
              "    [theme=dark] .colab-df-convert {\n",
              "      background-color: #3B4455;\n",
              "      fill: #D2E3FC;\n",
              "    }\n",
              "\n",
              "    [theme=dark] .colab-df-convert:hover {\n",
              "      background-color: #434B5C;\n",
              "      box-shadow: 0px 1px 3px 1px rgba(0, 0, 0, 0.15);\n",
              "      filter: drop-shadow(0px 1px 2px rgba(0, 0, 0, 0.3));\n",
              "      fill: #FFFFFF;\n",
              "    }\n",
              "  </style>\n",
              "\n",
              "      <script>\n",
              "        const buttonEl =\n",
              "          document.querySelector('#df-322ac9e7-7017-413b-a1fb-d24bac393630 button.colab-df-convert');\n",
              "        buttonEl.style.display =\n",
              "          google.colab.kernel.accessAllowed ? 'block' : 'none';\n",
              "\n",
              "        async function convertToInteractive(key) {\n",
              "          const element = document.querySelector('#df-322ac9e7-7017-413b-a1fb-d24bac393630');\n",
              "          const dataTable =\n",
              "            await google.colab.kernel.invokeFunction('convertToInteractive',\n",
              "                                                     [key], {});\n",
              "          if (!dataTable) return;\n",
              "\n",
              "          const docLinkHtml = 'Like what you see? Visit the ' +\n",
              "            '<a target=\"_blank\" href=https://colab.research.google.com/notebooks/data_table.ipynb>data table notebook</a>'\n",
              "            + ' to learn more about interactive tables.';\n",
              "          element.innerHTML = '';\n",
              "          dataTable['output_type'] = 'display_data';\n",
              "          await google.colab.output.renderOutput(dataTable, element);\n",
              "          const docLink = document.createElement('div');\n",
              "          docLink.innerHTML = docLinkHtml;\n",
              "          element.appendChild(docLink);\n",
              "        }\n",
              "      </script>\n",
              "    </div>\n",
              "  </div>\n",
              "  "
            ]
          },
          "metadata": {}
        }
      ]
    },
    {
      "cell_type": "markdown",
      "metadata": {
        "id": "jHqQQ5OJnuA9"
      },
      "source": [
        "# **Q1.**  \n",
        "\n",
        "Suppose Oro Verde plants 500 maples, 500 elms, and 500 spruces. What would be the total cost, the total amount of water and land required, and the expected annual amount of carbon sequestration delivered in 10 years?\n"
      ]
    },
    {
      "cell_type": "code",
      "metadata": {
        "colab": {
          "base_uri": "https://localhost:8080/"
        },
        "id": "2ZxiqRFCZM4Z",
        "cellView": "form",
        "outputId": "8f4c9804-50bf-4e1b-98b3-51f9ecd22adb"
      },
      "source": [
        "#@title Adjust the planting decisions and calculate and print relevant quantities\n",
        "\n",
        "#@markdown - adjust how many trees of each type are planted\n",
        "trees_to_plant = {}\n",
        "for t in tree_types:\n",
        "    trees_to_plant[t] = 500   # in Q1, we are planting 500 of each type\n",
        "\n",
        "#@markdown - calculate and print the total cost, water and land required\n",
        "cost = sum(trees_to_plant[t] * mydata[\"SeedlingCost\"][t] for t in tree_types)\n",
        "water_req = sum(trees_to_plant[t] * mydata[\"WaterRequirement\"][t] for t in tree_types)\n",
        "land_req = sum(trees_to_plant[t] * mydata[\"Width\"][t] for t in tree_types)\n",
        "\n",
        "print(\"Total cost: \\t\\t{:,.2f} ($)\".format(cost))\n",
        "print(\"Water required: \\t{:,.2f} (gallons)\".format(water_req))\n",
        "print(\"Land required: \\t\\t{:,.2f} (square feet)\".format(land_req))"
      ],
      "execution_count": 3,
      "outputs": [
        {
          "output_type": "stream",
          "name": "stdout",
          "text": [
            "Total cost: \t\t6,550.00 ($)\n",
            "Water required: \t79,000.00 (gallons)\n",
            "Land required: \t\t2,065,000.00 (square feet)\n"
          ]
        }
      ]
    },
    {
      "cell_type": "markdown",
      "metadata": {
        "id": "hfGu8YDvoWGb"
      },
      "source": [
        "# **Q2.** \n",
        "Determine whether the plan in **Q1** is feasible.\n",
        "\n",
        "*This section assumes that you have already run all the sections before, and particularly **Q1**. If that is not the case, please re-run everything above (e.g., by selecting this cell and choosing **Runtime > Run before**).*"
      ]
    },
    {
      "cell_type": "markdown",
      "metadata": {
        "id": "eTQKJNuecLYT"
      },
      "source": [
        "Feasibility means that all the constraints are satisfied: \n",
        " 1. the land required does not exceed the land available\n",
        " 2. the water required does not exceed the water available\n",
        " 3. the seedlings used do not exceed the seedlings available\n",
        " 4. the carbon sequestration commitment is met\n",
        " 5. the number of Elm trees planted exceeds the minimum required"
      ]
    },
    {
      "cell_type": "code",
      "metadata": {
        "id": "WlSz7KfNoWGd",
        "colab": {
          "base_uri": "https://localhost:8080/"
        },
        "cellView": "form",
        "outputId": "2405f15d-be24-44d2-a61b-35fee6fd01d2"
      },
      "source": [
        "#@title Determine whether all constraints are satisfied\n",
        "feasible = True # let's assume the proposal is feasible for now, and then check each constraint\n",
        "\n",
        "# calculate the sequestration achieved\n",
        "total_seq = sum(trees_to_plant[t] * mydata[\"SequestrationRate\"][t] for t in tree_types)\n",
        "\n",
        "# water\n",
        "if (water_req > water_avail) :\n",
        "    feasible = False\n",
        "    print(\"The constraint for water is not satisfied: \\n\\t Required: {:,.2f}; Available: {:,.2f}\" .\\\n",
        "          format(water_req,water_avail))\n",
        "\n",
        "# land\n",
        "if (land_req > land_avail) :\n",
        "    feasible = False\n",
        "    print(\"The constraint for land is not satisfied: \\n\\t Required: {:,.2f} ; Available: {:,.2f}\".\\\n",
        "          format(land_req,land_avail))\n",
        "\n",
        "# seedlings\n",
        "for t in tree_types:\n",
        "    if (trees_to_plant[t] > mydata[\"SeedlingsAvailable\"][t]) :\n",
        "        feasible = False\n",
        "        print(\"The constraint for {} seedlings is not satisfied: \\n\\t Required: {:,.2f} ; Available: {:,.2f}\".\\\n",
        "              format(t,water_req,water_avail))\n",
        "\n",
        "# carbon sequestration\n",
        "if (total_seq < annual_seq_commit) :\n",
        "    feasible = False\n",
        "    print(\"The constraint for carbon sequestration is not satisfied: \\n\\t Delivering: {:,.2f} ; Minimum required: {:,.2f}\".\n",
        "          format(total_seq,annual_seq_commit))\n",
        "\n",
        "# elm min planting\n",
        "if (trees_to_plant[\"Elm\"] < min_elms) :\n",
        "    feasible = False\n",
        "    print(\"Too few elms planted. \\n\\t Planting: {:,.2f} ; Minimum required: {:,.2f}\".\\\n",
        "          format(trees_to_plant[\"Elm\"],min_elms))\n",
        "\n",
        "if(feasible) :\n",
        "    print(\"Solution is feasible!\")\n",
        "else:\n",
        "    print(\"Solution is not feasible.\")"
      ],
      "execution_count": 4,
      "outputs": [
        {
          "output_type": "stream",
          "name": "stdout",
          "text": [
            "The constraint for water is not satisfied: \n",
            "\t Required: 79,000.00; Available: 50,000.00\n",
            "The constraint for land is not satisfied: \n",
            "\t Required: 2,065,000.00 ; Available: 150,000.00\n",
            "Solution is not feasible.\n"
          ]
        }
      ]
    },
    {
      "cell_type": "markdown",
      "metadata": {
        "id": "qxnwMr5UqDSW"
      },
      "source": [
        "# **Q3**\n",
        "Set up an **Optimization Model** to determine the optimal number of trees of each type to plant. "
      ]
    },
    {
      "cell_type": "code",
      "metadata": {
        "scrolled": true,
        "id": "gfZf29b7qDSW",
        "colab": {
          "base_uri": "https://localhost:8080/"
        },
        "cellView": "form",
        "outputId": "37f4d946-c830-4a9b-b7df-1de3e19746b1"
      },
      "source": [
        "#@title Create the optimization model\n",
        "\n",
        "#@markdown **Step 1.** Create an empty model\n",
        "# the model is created with the function \"Model\" in the Gurobi package\n",
        "# note that we give it a meaningful name\n",
        "mymodel = Model(\"Oro Verde Tree Planting Model\")\n",
        "\n",
        "#@markdown **Step 2.** Create and add the decision variables\n",
        "# we create the decisions: note that we only specify several arguments:\n",
        "#   - name: is simply a string used internally, when displaying the model\n",
        "#   - indices: this is a list of strings that represent the keys to a dictionary of variables\n",
        "#             Here, we are making this the list 'tree_types', which means a decision will be created for each element of the list\n",
        "\n",
        "trees_to_plant = mymodel.addVars(tree_types, name=\"trees_to_plant\")\n",
        "\n",
        "#@markdown **Step 3.** Calculate and add the objective in the model\n",
        "#   - we use the function 'setOjective' in the Gurobi model\n",
        "mymodel.setObjective( quicksum( trees_to_plant[t] * mydata[\"SeedlingCost\"][t] for t in tree_types), GRB.MINIMIZE)\n",
        "\n",
        "#@markdown **Step 4.** Calculate and add all the constraints\n",
        "# we will name the constraints using the type of requirement\n",
        "\n",
        "# water availability\n",
        "mymodel.addConstr( quicksum( trees_to_plant[t] * mydata[\"WaterRequirement\"][t] for t in tree_types) <= water_avail ,\\\n",
        "                  name = \"water_avail\" )\n",
        "\n",
        "# land availability\n",
        "mymodel.addConstr( quicksum( trees_to_plant[t] * mydata[\"Width\"][t] for t in tree_types) <= land_avail, \\\n",
        "                  name = \"land_avail\" )\n",
        "\n",
        "# carbon sequestration commitment - we save this in a variable for future use\n",
        "seq_commit_constraint = mymodel.addConstr( quicksum( trees_to_plant[t] * mydata[\"SurvivalRate\"][t] * mydata[\"SequestrationRate\"][t] \\\n",
        "             for t in tree_types ) >= annual_seq_commit , name = \"seq_commit\" )\n",
        "\n",
        "# minimum elm trees\n",
        "mymodel.addConstr( trees_to_plant[\"Elm\"] >= min_elms , name=\"minimum_Elm\")\n",
        "\n",
        "# seedling availability for each tree type\n",
        "for t in tree_types :\n",
        "    mymodel.addConstr( trees_to_plant[t] <= mydata[\"SeedlingsAvailable\"][t], name=\"seedlings_\" + t )\n",
        "\n",
        "#@markdown **Step 5.** You can inspect the model, if you want (uncomment the next lines)\n",
        "#mymodel.write(\"my_model.lp\")    # write the model to a file with extension \".lp\"\n",
        "#f = open(\"my_model.lp\", 'r')    # open a file handle\n",
        "#print( f.read() )           # read the contents and print them\n",
        "#f.close()              # close the file handle\n",
        "\n",
        "#@markdown **Step 6.** Solve the model and display the status\n",
        "# set the output to not be so verbose (it may confuse at first)\n",
        "mymodel.Params.OutputFlag = 0\n",
        "status=mymodel.optimize()\n",
        "\n",
        "#@markdown **Step 7.** Print the optimal objective and optimal decisions\n",
        "# print the value of the objective\n",
        "costs_Q3 = mymodel.objVal\n",
        "print(\"\\n\\nOptimal cost is: {:,.2f}\".format(costs_Q3))\n",
        "\n",
        "# print solution with a for loop\n",
        "print(\"Optimal solution is to plant:\")\n",
        "for t in tree_types :\n",
        "    print(\"\\t{} : {:,.3f}\".format(t,trees_to_plant[t].X))"
      ],
      "execution_count": 5,
      "outputs": [
        {
          "output_type": "stream",
          "name": "stdout",
          "text": [
            "Restricted license - for non-production use only - expires 2023-10-25\n",
            "\n",
            "\n",
            "Optimal cost is: 3,213.10\n",
            "Optimal solution is to plant:\n",
            "\tMaple : 582.798\n",
            "\tElm : 20.621\n",
            "\tSpruce : 0.000\n"
          ]
        }
      ]
    }
  ]
}