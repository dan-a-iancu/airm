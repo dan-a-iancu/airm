{
  "nbformat": 4,
  "nbformat_minor": 0,
  "metadata": {
    "kernelspec": {
      "display_name": "Python 3",
      "language": "python",
      "name": "python3"
    },
    "language_info": {
      "codemirror_mode": {
        "name": "ipython",
        "version": 3
      },
      "file_extension": ".py",
      "mimetype": "text/x-python",
      "name": "python",
      "nbconvert_exporter": "python",
      "pygments_lexer": "ipython3",
      "version": "3.7.4"
    },
    "colab": {
      "name": "S10-11_AIRM_Oro_Verde.ipynb",
      "provenance": [],
      "collapsed_sections": [
        "PkQyKAotqDSP",
        "jHqQQ5OJnuA9",
        "hfGu8YDvoWGb"
      ],
      "toc_visible": true,
      "include_colab_link": true
    }
  },
  "cells": [
    {
      "cell_type": "markdown",
      "metadata": {
        "id": "view-in-github",
        "colab_type": "text"
      },
      "source": [
        "<a href=\"https://colab.research.google.com/github/dan-a-iancu/airm/blob/master/Oro_Verde/S10_11_AIRM_Oro_Verde.ipynb\" target=\"_parent\"><img src=\"https://colab.research.google.com/assets/colab-badge.svg\" alt=\"Open In Colab\"/></a>"
      ]
    },
    {
      "cell_type": "markdown",
      "metadata": {
        "id": "cBtr1GxeqDSL"
      },
      "source": [
        "**\"Oro Verde\" Carbon Offset Project**\n",
        "\n",
        "This notebook implements a complete for the Oro Verde mini-case. The notebook assumes that you are  familiar with the context and have understood the basic optimization model."
      ]
    },
    {
      "cell_type": "code",
      "metadata": {
        "id": "WC9g6EhCaTYD",
        "colab": {
          "base_uri": "https://localhost:8080/"
        },
        "cellView": "form",
        "outputId": "a2b14348-befa-48d5-a327-c939554d7a30"
      },
      "source": [
        "#@title **Basic Setup.** We start by importing a few useful modules and reading the case data in.\n",
        "#@markdown *Click on the \"play\" button on the left to run this entire cell.*\n",
        "\n",
        "#@markdown - import/install modules\n",
        "import numpy as np\n",
        "\n",
        "import urllib.request  # for file downloading\n",
        "\n",
        "# Import pandas for data-frames\n",
        "import pandas as pd\n",
        "pd.options.display.max_rows = 15\n",
        "pd.options.display.float_format = \"{:,.2f}\".format\n",
        "\n",
        "# Make sure Matplotlib runs inline, for nice figures\n",
        "%matplotlib inline\n",
        "import matplotlib as mpl\n",
        "import matplotlib.pyplot as plt\n",
        "mpl.rc('axes', labelsize=14)\n",
        "mpl.rc('xtick', labelsize=12)\n",
        "mpl.rc('ytick', labelsize=12)\n",
        "import matplotlib.ticker as ticker \n",
        "\n",
        "# import pulp\n",
        "!pip install pulp &> /dev/null\n",
        "from pulp import *\n",
        "\n",
        "# Ignore useless some warnings\n",
        "import warnings\n",
        "warnings.simplefilter(action=\"ignore\")\n",
        "\n",
        "#@markdown - read the data from a CSV file\n",
        "url_Q1 = \"https://raw.githubusercontent.com/dan-a-iancu/airm/master/Oro_Verde/Oro_Verde_data.csv\"\n",
        "local_file_Q1 = \"Oro_Verde_data.csv\"   # name of local file where you want to store the downloaded file\n",
        "aux = urllib.request.urlretrieve(url_Q1, local_file_Q1)    # download from website and save it locally\n",
        "\n",
        "# read data into a pandas dataframe\n",
        "mydata = pd.read_csv(\"Oro_Verde_data.csv\", index_col = 0) \n",
        "\n",
        "#@markdown - set up any other problem parameters\n",
        "land_avail = 150000              # available land area (in square feet)\n",
        "water_avail = 50000              # available water (in gallons)\n",
        "annual_seq_commit = 1800              # annual sequestration commitment\n",
        "min_elms = 15   # minimum requirement on elm trees\n",
        "\n",
        "# create a list with all the types of trees (this will be very useful for creating our decision variables)\n",
        "tree_types = list(mydata.index)\n",
        "\n",
        "print(\"Completed successfully!\")"
      ],
      "execution_count": 1,
      "outputs": [
        {
          "output_type": "stream",
          "text": [
            "Completed successfully!\n"
          ],
          "name": "stdout"
        }
      ]
    },
    {
      "cell_type": "markdown",
      "metadata": {
        "id": "PkQyKAotqDSP"
      },
      "source": [
        "### Have a quick look at the data"
      ]
    },
    {
      "cell_type": "code",
      "metadata": {
        "scrolled": true,
        "id": "5CnoTHV4qDSQ",
        "colab": {
          "base_uri": "https://localhost:8080/",
          "height": 0
        },
        "cellView": "form",
        "outputId": "6eaa5d2c-d8cb-4b33-e745-fa4f2e956cb6"
      },
      "source": [
        "#@title Print the dataframe with information on tree types\n",
        "mydata"
      ],
      "execution_count": 2,
      "outputs": [
        {
          "output_type": "execute_result",
          "data": {
            "text/html": [
              "<div>\n",
              "<style scoped>\n",
              "    .dataframe tbody tr th:only-of-type {\n",
              "        vertical-align: middle;\n",
              "    }\n",
              "\n",
              "    .dataframe tbody tr th {\n",
              "        vertical-align: top;\n",
              "    }\n",
              "\n",
              "    .dataframe thead th {\n",
              "        text-align: right;\n",
              "    }\n",
              "</style>\n",
              "<table border=\"1\" class=\"dataframe\">\n",
              "  <thead>\n",
              "    <tr style=\"text-align: right;\">\n",
              "      <th></th>\n",
              "      <th>SequestrationRate</th>\n",
              "      <th>WaterRequirement</th>\n",
              "      <th>Width</th>\n",
              "      <th>SurvivalRate</th>\n",
              "      <th>SeedlingCost</th>\n",
              "      <th>SeedlingsAvailable</th>\n",
              "    </tr>\n",
              "    <tr>\n",
              "      <th>TreeType</th>\n",
              "      <th></th>\n",
              "      <th></th>\n",
              "      <th></th>\n",
              "      <th></th>\n",
              "      <th></th>\n",
              "      <th></th>\n",
              "    </tr>\n",
              "  </thead>\n",
              "  <tbody>\n",
              "    <tr>\n",
              "      <th>Maple</th>\n",
              "      <td>4.30</td>\n",
              "      <td>76.00</td>\n",
              "      <td>130.00</td>\n",
              "      <td>0.70</td>\n",
              "      <td>5.40</td>\n",
              "      <td>1,000.00</td>\n",
              "    </tr>\n",
              "    <tr>\n",
              "      <th>Elm</th>\n",
              "      <td>3.70</td>\n",
              "      <td>48.00</td>\n",
              "      <td>3,600.00</td>\n",
              "      <td>0.60</td>\n",
              "      <td>3.20</td>\n",
              "      <td>500.00</td>\n",
              "    </tr>\n",
              "    <tr>\n",
              "      <th>Spruce</th>\n",
              "      <td>2.80</td>\n",
              "      <td>34.00</td>\n",
              "      <td>400.00</td>\n",
              "      <td>0.80</td>\n",
              "      <td>4.50</td>\n",
              "      <td>1,500.00</td>\n",
              "    </tr>\n",
              "  </tbody>\n",
              "</table>\n",
              "</div>"
            ],
            "text/plain": [
              "          SequestrationRate  WaterRequirement  ...  SeedlingCost  SeedlingsAvailable\n",
              "TreeType                                       ...                                  \n",
              "Maple                  4.30             76.00  ...          5.40            1,000.00\n",
              "Elm                    3.70             48.00  ...          3.20              500.00\n",
              "Spruce                 2.80             34.00  ...          4.50            1,500.00\n",
              "\n",
              "[3 rows x 6 columns]"
            ]
          },
          "metadata": {
            "tags": []
          },
          "execution_count": 2
        }
      ]
    },
    {
      "cell_type": "markdown",
      "metadata": {
        "id": "jHqQQ5OJnuA9"
      },
      "source": [
        "# **Q1.**  \n",
        "\n",
        "Suppose Oro Verde plants 500 maples, 500 elms, and 500 spruces. What would be the total cost, the total amount of water and land required, and the expected annual amount of carbon sequestration delivered in 10 years?\n"
      ]
    },
    {
      "cell_type": "code",
      "metadata": {
        "colab": {
          "base_uri": "https://localhost:8080/"
        },
        "id": "2ZxiqRFCZM4Z",
        "cellView": "form",
        "outputId": "a2efc1f7-c9c8-4c56-ad7b-437864c22dc6"
      },
      "source": [
        "#@title Adjust the planting decisions and calculate and print relevant quantities\n",
        "\n",
        "#@markdown - adjust how many trees of each type are planted\n",
        "trees_to_plant = {}\n",
        "for t in tree_types:\n",
        "    trees_to_plant[t] = 500   # in Q1, we are planting 500 of each type\n",
        "\n",
        "#@markdown - calculate and print the total cost, water and land required\n",
        "cost = sum(trees_to_plant[t] * mydata[\"SeedlingCost\"][t] for t in tree_types)\n",
        "water_req = sum(trees_to_plant[t] * mydata[\"WaterRequirement\"][t] for t in tree_types)\n",
        "land_req = sum(trees_to_plant[t] * mydata[\"Width\"][t] for t in tree_types)\n",
        "\n",
        "print(\"Total cost: %.2f ($)\" %cost)\n",
        "print(\"Water required: %.2f (gallons)\" % water_req)\n",
        "print(\"Land required: %.2f (square feet)\" %land_req)"
      ],
      "execution_count": 3,
      "outputs": [
        {
          "output_type": "stream",
          "text": [
            "Total cost: 6550.00 ($)\n",
            "Water required: 79000.00 (gallons)\n",
            "Land required: 2065000.00 (square feet)\n"
          ],
          "name": "stdout"
        }
      ]
    },
    {
      "cell_type": "markdown",
      "metadata": {
        "id": "hfGu8YDvoWGb"
      },
      "source": [
        "# **Q2.** \n",
        "Determine whether the plan in **Q1** is feasible.\n",
        "\n",
        "*This section assumes that you have already run all the sections before, and particularly **Q1**. If that is not the case, please re-run everything above (e.g., by selecting this cell and choosing **Runtime > Run before**).*"
      ]
    },
    {
      "cell_type": "markdown",
      "metadata": {
        "id": "eTQKJNuecLYT"
      },
      "source": [
        "Feasibility means that all the constraints are satisfied: \n",
        " 1. the land required does not exceed the land available\n",
        " 2. the water required does not exceed the water available\n",
        " 3. the seedlings used do not exceed the seedlings available\n",
        " 4. the carbon sequestration commitment is met\n",
        " 5. the number of Elm trees planted exceeds the minimum required"
      ]
    },
    {
      "cell_type": "code",
      "metadata": {
        "id": "WlSz7KfNoWGd",
        "colab": {
          "base_uri": "https://localhost:8080/"
        },
        "cellView": "form",
        "outputId": "c058a6f6-f11c-40de-a58b-e2f76295d3aa"
      },
      "source": [
        "#@title Determine whether all constraints are satisfied\n",
        "feasible = True # let's assume the proposal is feasible for now, and then check each constraint\n",
        "\n",
        "# calculate the sequestration achieved\n",
        "total_seq = sum(trees_to_plant[t] * mydata[\"SequestrationRate\"][t] for t in tree_types)\n",
        "\n",
        "# water\n",
        "if (water_req > water_avail) :\n",
        "    feasible = False\n",
        "    print(\"The constraint for water is not satisfied: \\n\\t Required: {:,.2f}; Available: {:,.2f}\" .\\\n",
        "          format(water_req,water_avail))\n",
        "\n",
        "# land\n",
        "if (land_req > land_avail) :\n",
        "    feasible = False\n",
        "    print(\"The constraint for land is not satisfied: \\n\\t Required: {:,.2f} ; Available: {:,.2f}\".\\\n",
        "          format(land_req,land_avail))\n",
        "\n",
        "# seedlings\n",
        "for t in tree_types:\n",
        "    if (trees_to_plant[t] > mydata[\"SeedlingsAvailable\"][t]) :\n",
        "        feasible = False\n",
        "        print(\"The constraint for {} seedlings is not satisfied: \\n\\t Required: {:,.2f} ; Available: {:,.2f}\".\\\n",
        "              format(t,water_req,water_avail))\n",
        "\n",
        "# carbon sequestration\n",
        "if (total_seq < annual_seq_commit) :\n",
        "    feasible = False\n",
        "    print(\"The constraint for carbon sequestration is not satisfied: \\n\\t Delivering: {:,.2f} ; Minimum required: {:,.2f}\".\n",
        "          format(total_seq,annual_seq_commit))\n",
        "\n",
        "# elm min planting\n",
        "if (trees_to_plant[\"Elm\"] < min_elms) :\n",
        "    feasible = False\n",
        "    print(\"Too few elms planted. \\n\\t Planting: {:,.2f} ; Minimum required: {:,.2f}\".\\\n",
        "          format(trees_to_plant[\"Elm\"],min_elms))\n",
        "\n",
        "if(feasible) :\n",
        "    print(\"Solution is feasible!\")\n",
        "else:\n",
        "    print(\"Solution is not feasible.\")"
      ],
      "execution_count": 4,
      "outputs": [
        {
          "output_type": "stream",
          "text": [
            "The constraint for water is not satisfied: \n",
            "\t Required: 79,000.00; Available: 50,000.00\n",
            "The constraint for land is not satisfied: \n",
            "\t Required: 2,065,000.00 ; Available: 150,000.00\n",
            "Solution is not feasible.\n"
          ],
          "name": "stdout"
        }
      ]
    },
    {
      "cell_type": "markdown",
      "metadata": {
        "id": "qxnwMr5UqDSW"
      },
      "source": [
        "# **Q3**\n",
        "Set up an **Optimization Model** to determine the optimal number of trees of each type to plant. "
      ]
    },
    {
      "cell_type": "code",
      "metadata": {
        "scrolled": true,
        "id": "gfZf29b7qDSW",
        "colab": {
          "base_uri": "https://localhost:8080/"
        },
        "outputId": "b6c25aa2-cbdb-4f56-d8ea-4379ded94dba"
      },
      "source": [
        "#@title Create the optimization model\n",
        "\n",
        "#@markdown **Step 1.** Create an empty model\n",
        "# the model is created with the function \"LpProblem\"\n",
        "#   note that we give it a name, and the sense of the objective;\n",
        "#         LpMinimize for minimization, LpMaximize for maximization\n",
        "mymodel = LpProblem(\"Oro_Verde_Tree_Planting_Model\", LpMinimize)\n",
        "\n",
        "#@markdown **Step 2.** Create and add the decision variables\n",
        "# we create the decisions: note that we specify several arguments:\n",
        "#   - name: is simply a string used internally, when displaying the model\n",
        "#   - indexs: this is a list of strings that represent the keys to a dictionary of variables\n",
        "#             Here, we are making this the list 'tree_types', which means a decision will be created for each element of the list\n",
        "#   - lowBound: used to specify a lower bound on the value of the decisions \n",
        "#             Here, 0 makes them non-negative\n",
        "#   - upBound: if we want, we can also give an upper bound on the value of a decision\n",
        "#             Here, None means there is no upper bound\n",
        "#   - cat: the type of values the decision can take: Continuous (default), Integer or Binary\n",
        "trees_to_plant = LpVariable.dicts(name=\"trees_to_plant\", \\\n",
        "                                  indexs=tree_types, \\\n",
        "                                  lowBound=0, upBound=None,\\\n",
        "                                  cat=\"Continuous\")\n",
        "\n",
        "#@markdown **Step 3.** Calculate and add the objective in the model\n",
        "mymodel += lpSum( trees_to_plant[t] * mydata[\"SeedlingCost\"][t] for t in tree_types)\n",
        "\n",
        "#@markdown **Step 4.** Calculate and add all the constraints\n",
        "# we will name the constraints using the type of requirement\n",
        "\n",
        "# water availability\n",
        "mymodel += lpSum( trees_to_plant[t] * mydata[\"WaterRequirement\"][t] for t in tree_types) \\\n",
        "<= water_avail, \"Water_availability\"\n",
        "\n",
        "# land availability\n",
        "mymodel += lpSum( trees_to_plant[t] * mydata[\"Width\"][t] for t in tree_types) <= land_avail, \\\n",
        "\"Land_availability\"\n",
        "\n",
        "# carbon sequestration commitment\n",
        "seq_constraint=LpConstraint(lpSum( trees_to_plant[t] * mydata[\"SurvivalRate\"][t] * mydata[\"SequestrationRate\"][t] \\\n",
        "             for t in tree_types ) >= annual_seq_commit, sense=LpConstraintGE, \\\n",
        "             name=\"seq_constraint\")\n",
        "mymodel += seq_constraint\n",
        "\n",
        "# minimum elm trees\n",
        "mymodel += trees_to_plant[\"Elm\"] >= min_elms, \"Min_Elms\"\n",
        "\n",
        "# seedling availability for each tree type\n",
        "for t in tree_types :\n",
        "  mymodel += trees_to_plant[t] <= mydata[\"SeedlingsAvailable\"][t], \"Seedling_Availability_{}\".format(t)\n",
        "\n",
        "#@markdown **Step 5.** You can inspect the model, if you want (uncomment the next line)\n",
        "# print(mymodel)\n",
        "\n",
        "#@markdown **Step 6.** Solve the model and display the status\n",
        "status=mymodel.solve()\n",
        "print(\"Status of the optimization: {}\".format(LpStatus[status]))\n",
        "\n",
        "#@markdown **Step 7.** Print the optimal objective and optimal decisions\n",
        "print(\"Optimal cost is: {:.3f}\".format(value(mymodel.objective)))\n",
        "\n",
        "costs_Q3 = value(mymodel.objective)\n",
        "\n",
        "# print solution with a for loop\n",
        "print(\"Optimal solution is to plant:\")\n",
        "for t in tree_types :\n",
        "    print(\"\\t{} : {:,.3f}\".format(t,trees_to_plant[t].varValue))"
      ],
      "execution_count": 5,
      "outputs": [
        {
          "output_type": "stream",
          "text": [
            "Status of the optimization: Optimal\n",
            "Optimal cost is: 3213.095\n",
            "Optimal solution is to plant:\n",
            "\tMaple : 582.798\n",
            "\tElm : 20.621\n",
            "\tSpruce : 0.000\n"
          ],
          "name": "stdout"
        }
      ]
    },
    {
      "cell_type": "markdown",
      "metadata": {
        "id": "TYjCf-q9LvB8"
      },
      "source": [
        "# **Q4**\n",
        "Examine how Oro Verde's costs depend on the **additional** sequestration commitment, and plot that against the revenues from the corporation.\n",
        "\n",
        "*This section assumes that all previous sections have been run, particularly **Q3**.*"
      ]
    },
    {
      "cell_type": "code",
      "metadata": {
        "colab": {
          "base_uri": "https://localhost:8080/"
        },
        "cellView": "form",
        "id": "vTZT2MVniMqs",
        "outputId": "e757f5cd-f287-4f68-a44b-0ab038579b82"
      },
      "source": [
        "#@title Enter a value for how many (additional) pounds of CO2 Oro Verde commits to sequester for the new company:\n",
        "additional_sequestration = 1 #@param {type:\"number\"}\n",
        "\n",
        "total_sequestration = annual_seq_commit + additional_sequestration\n",
        "\n",
        "# recreate the model\n",
        "mymodel = LpProblem(\"Oro_Verde_Tree_Planting_Model\", LpMinimize)\n",
        "trees_to_plant = LpVariable.dicts(name=\"trees_to_plant\", \\\n",
        "                                  indexs=tree_types, \\\n",
        "                                  lowBound=0, upBound=None,\\\n",
        "                                  cat=\"Continuous\")\n",
        "\n",
        "mymodel += lpSum( trees_to_plant[t] * mydata[\"SeedlingCost\"][t] for t in tree_types)\n",
        "\n",
        "# water availability\n",
        "mymodel += lpSum( trees_to_plant[t] * mydata[\"WaterRequirement\"][t] for t in tree_types) \\\n",
        "<= water_avail, \"Water_availability\"\n",
        "\n",
        "# land availability\n",
        "mymodel += lpSum( trees_to_plant[t] * mydata[\"Width\"][t] for t in tree_types) <= land_avail, \\\n",
        "\"Land_availability\"\n",
        "\n",
        "# carbon sequestration commitment\n",
        "seq_constraint=LpConstraint(lpSum( trees_to_plant[t] * mydata[\"SurvivalRate\"][t] * mydata[\"SequestrationRate\"][t] \\\n",
        "             for t in tree_types ) >= total_sequestration, sense=LpConstraintGE, \\\n",
        "             name=\"seq_constraint\")\n",
        "mymodel += seq_constraint\n",
        "\n",
        "# minimum elm trees\n",
        "mymodel += trees_to_plant[\"Elm\"] >= min_elms, \"Min_Elms\"\n",
        "\n",
        "# seedling availability for each tree type\n",
        "for t in tree_types :\n",
        "  mymodel += trees_to_plant[t] <= mydata[\"SeedlingsAvailable\"][t], \"Seedling_Availability_{}\".format(t)\n",
        "\n",
        "# print(mymodel)\n",
        "\n",
        "status=mymodel.solve()\n",
        "\n",
        "if LpStatus[status]==\"Optimal\":\n",
        "   print(\"Incremental cost to Oro Verde: ${:.2f}\".format(value(mymodel.objective)-costs_Q3))\n",
        "   print(\"Average incremental cost per pound to Oro Verde: ${:.2f}\".\\\n",
        "         format( (value(mymodel.objective)-costs_Q3)/additional_sequestration ))\n",
        "elif LpStatus[status]==\"Infeasible\":\n",
        "   print(\"It is not feasible for Oro Verde to meet this commitment.\")"
      ],
      "execution_count": 6,
      "outputs": [
        {
          "output_type": "stream",
          "text": [
            "Incremental cost to Oro Verde: $1.80\n",
            "Average incremental cost per pound to Oro Verde: $1.80\n"
          ],
          "name": "stdout"
        }
      ]
    },
    {
      "cell_type": "code",
      "metadata": {
        "scrolled": true,
        "id": "K-4vPq58LvB9",
        "colab": {
          "base_uri": "https://localhost:8080/",
          "height": 729
        },
        "cellView": "form",
        "outputId": "7cf509c7-0e35-4701-a8a9-cf82b94ca2f9"
      },
      "source": [
        "#@title Examine how Oro Verde's **total costs, revenues, profits** depend on **total** sequestration commitments\n",
        "from numpy import arange   # import the function `arange` from the numpy package\n",
        "\n",
        "min_seq = 1800\n",
        "max_seq = 2016\n",
        "\n",
        "#@markdown - calculate optimal costs for different total sequestration commitments\n",
        "seq_vals = list(arange(min_seq,max_seq,1))   # set up several values to test for the right-hand-side\n",
        "objValues = [0]*len(seq_vals)\n",
        "#print(\"Sequestration commitment \\t |  Shadow price: \\n\")\n",
        "\n",
        "for i in range(len(seq_vals)):\n",
        "    # change the RHS for the constraint\n",
        "    seq_constraint.changeRHS(seq_vals[i])\n",
        "    mymodel.solve()\n",
        "    #print(\"%.2f \\t %.2f \" % (seq_vals[i],seq_constraint.pi) )    \n",
        "    \n",
        "    objValues[i] = value(mymodel.objective)\n",
        "\n",
        "#@markdown - determine the incremental costs and revenues\n",
        "costs_Q3 = 3213.095170    # costs from Q3\n",
        "payment_per_pound = 2.00   # how much the company is paying per pound\n",
        "\n",
        "# calculate cost differences relative to Q3\n",
        "cost_differentials = [ objValues[i] - costs_Q3 for i in range(len(seq_vals)) ]\n",
        "\n",
        "# calculate payments received\n",
        "payments_sequestration = [ payment_per_pound * (seq_vals[i] - annual_seq_commit) for i in range(len(seq_vals)) ]\n",
        "\n",
        "# calculate profit impact\n",
        "profit_differentials = [ payments_sequestration[i] - cost_differentials[i] for i in range(len(seq_vals)) ]\n",
        "\n",
        "#@markdown - plot the dependency\n",
        "# import the relevant functions from pyplot\n",
        "import matplotlib.pyplot as plt\n",
        "\n",
        "fig, ax1 = plt.subplots(figsize=(15,10))\n",
        "\n",
        "plt.plot(seq_vals, cost_differentials, linestyle='solid', linewidth=2.5)\n",
        "plt.plot(seq_vals, payments_sequestration, linestyle='--', linewidth=2.5 )\n",
        "plt.xlabel(\"TOTAL sequestration commitment (pounds CO2)\",fontsize=14)\n",
        "plt.ylabel(\"Costs and revenues\", fontsize=14)\n",
        "plt.legend([\"Extra costs for Oro Verde\", \"Payments from corporation\"], fontsize=14)\n",
        "plt.xticks(list(arange(min_seq,max_seq,10)))\n",
        "\n",
        "plt.yticks(fontsize=12)\n",
        "plt.xticks(fontsize=12)\n",
        "\n",
        "ax2 = ax1.twinx()  # instantiate a second axes that shares the same x-axis\n",
        "color2 = 'red'\n",
        "ax2.set_ylabel('Extra profits for Oro Verde', color=color2, fontsize=14)  # we already handled the x-label with ax1\n",
        "ax2.plot(seq_vals, profit_differentials, color=color2, linestyle='solid', linewidth=3)\n",
        "ax2.tick_params(axis='y', labelcolor=color2)\n",
        "plt.yticks(fontsize=12)\n",
        "plt.xticks(fontsize=12)\n",
        "plt.title(\"Cost-benefit analysis as a function of Oro Verde's sequestration commitment\", fontsize=16)\n",
        "\n",
        "plt.tight_layout()\n",
        "\n",
        "# Choose 'save_to_file=1' if you want to save the figure to a file\n",
        "#save_to_file = 1\n",
        "#if save_to_file == 1 :\n",
        "#    plt.savefig('Q4_dependency_all.png')"
      ],
      "execution_count": 7,
      "outputs": [
        {
          "output_type": "display_data",
          "data": {
            "image/png": "[encoded data removed]",
            "text/plain": [
              "<Figure size 1080x720 with 2 Axes>"
            ]
          },
          "metadata": {
            "tags": [],
            "needs_background": "light"
          }
        }
      ]
    }
  ]
}