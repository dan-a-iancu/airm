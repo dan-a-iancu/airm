{
  "nbformat": 4,
  "nbformat_minor": 0,
  "metadata": {
    "kernelspec": {
      "display_name": "Python 3",
      "language": "python",
      "name": "python3"
    },
    "language_info": {
      "codemirror_mode": {
        "name": "ipython",
        "version": 3
      },
      "file_extension": ".py",
      "mimetype": "text/x-python",
      "name": "python",
      "nbconvert_exporter": "python",
      "pygments_lexer": "ipython3",
      "version": "3.7.7"
    },
    "colab": {
      "name": "BlueSky_Simulation.ipynb",
      "provenance": [],
      "collapsed_sections": [
        "Aqf-EBXAAgn1",
        "HmshoF0PaTYZ",
        "6UFxI7n4aTYe",
        "10KpFte2sw2Z",
        "P7bs3q_bte1n"
      ],
      "toc_visible": true,
      "include_colab_link": true
    }
  },
  "cells": [
    {
      "cell_type": "markdown",
      "metadata": {
        "id": "view-in-github",
        "colab_type": "text"
      },
      "source": [
        "<a href=\"https://colab.research.google.com/github/dan-a-iancu/airm/blob/master/BlueSky_Simulation/BlueSky_Simulation.ipynb\" target=\"_parent\"><img src=\"https://colab.research.google.com/assets/colab-badge.svg\" alt=\"Open In Colab\"/></a>"
      ]
    },
    {
      "cell_type": "markdown",
      "metadata": {
        "id": "-fF41kJzaTX_"
      },
      "source": [
        "**Booking Limits under Uncertainty at BlueSky Airlines - Asia**\n",
        "\n",
        "This notebook implements a full solution to the mini-case, assuming you are already familiar with the context"
      ]
    },
    {
      "cell_type": "code",
      "metadata": {
        "id": "WC9g6EhCaTYD",
        "colab": {
          "base_uri": "https://localhost:8080/"
        },
        "cellView": "form",
        "outputId": "a77607f7-47ff-4dae-c016-11011d2b50b5"
      },
      "source": [
        "#@title **Basic Setup.** We start by importing a few useful modules and reading the data in.\n",
        "#@markdown *Click on the \"play\" button on the left to run this entire cell.*\n",
        "import numpy as np\n",
        "from numpy.random import *\n",
        "\n",
        "import urllib.request  # for file downloading\n",
        "\n",
        "# Import pandas for data-frames\n",
        "import pandas as pd\n",
        "pd.options.display.max_rows = 15\n",
        "pd.options.display.float_format = \"{:,.2f}\".format\n",
        "\n",
        "# Make sure Matplotlib runs inline, for nice figures\n",
        "%matplotlib inline\n",
        "import matplotlib as mpl\n",
        "import matplotlib.pyplot as plt\n",
        "mpl.rc('axes', labelsize=14)\n",
        "mpl.rc('xtick', labelsize=12)\n",
        "mpl.rc('ytick', labelsize=12)\n",
        "import matplotlib.ticker as ticker \n",
        "\n",
        "# Ignore useless some warnings\n",
        "import warnings\n",
        "warnings.simplefilter(action=\"ignore\")\n",
        "\n",
        "print(\"Completed successfully!\")"
      ],
      "execution_count": null,
      "outputs": [
        {
          "output_type": "stream",
          "text": [
            "Completed successfully!\n"
          ],
          "name": "stdout"
        }
      ]
    },
    {
      "cell_type": "markdown",
      "metadata": {
        "id": "Aqf-EBXAAgn1"
      },
      "source": [
        "## Load the case data into Pandas data frames and set up any other parameters"
      ]
    },
    {
      "cell_type": "markdown",
      "metadata": {
        "id": "17bUiOG3EYfu"
      },
      "source": [
        "We first download an Excel file with all the data from Github."
      ]
    },
    {
      "cell_type": "code",
      "metadata": {
        "id": "oO9JJFpMEX8K"
      },
      "source": [
        "#@markdown Download the entire data as an Excel file from Github\n",
        "url = \"https://github.com/dan-a-iancu/airm/blob/master/BlueSky_Simulation/S09-10_AIRM_BlueSky_Simulation_Data.xlsx?raw=true\"\n",
        "local_file = \"S09-10_AIRM_BlueSky_Simulation_Data.xlsx\"   # name of local file where you want to store the downloaded file\n",
        "aux = urllib.request.urlretrieve(url, local_file)    # download from website and save it locally"
      ],
      "execution_count": null,
      "outputs": []
    },
    {
      "cell_type": "markdown",
      "metadata": {
        "id": "nb7NvPyuyoGh"
      },
      "source": [
        "Read in and store the data in suitable dataframes."
      ]
    },
    {
      "cell_type": "code",
      "metadata": {
        "colab": {
          "base_uri": "https://localhost:8080/",
          "height": 137
        },
        "id": "EUxSwrdEyJDs",
        "outputId": "be7765e8-6f07-4618-be5f-9a2b4f44b641"
      },
      "source": [
        "#@markdown Create dataframes based on the Excel file\n",
        "\n",
        "# Read in all the information about the itinerarys sold, and the aircraft capacities\n",
        "ItineraryData = pd.read_excel(\"S09-10_AIRM_BlueSky_Simulation_Data.xlsx\", sheet_name = \"Data\", index_col = 0)\n",
        "display(ItineraryData)"
      ],
      "execution_count": null,
      "outputs": [
        {
          "output_type": "display_data",
          "data": {
            "text/html": [
              "<div>\n",
              "<style scoped>\n",
              "    .dataframe tbody tr th:only-of-type {\n",
              "        vertical-align: middle;\n",
              "    }\n",
              "\n",
              "    .dataframe tbody tr th {\n",
              "        vertical-align: top;\n",
              "    }\n",
              "\n",
              "    .dataframe thead th {\n",
              "        text-align: right;\n",
              "    }\n",
              "</style>\n",
              "<table border=\"1\" class=\"dataframe\">\n",
              "  <thead>\n",
              "    <tr style=\"text-align: right;\">\n",
              "      <th></th>\n",
              "      <th>SS</th>\n",
              "      <th>FF</th>\n",
              "    </tr>\n",
              "  </thead>\n",
              "  <tbody>\n",
              "    <tr>\n",
              "      <th>Demand_Mean</th>\n",
              "      <td>140</td>\n",
              "      <td>65</td>\n",
              "    </tr>\n",
              "    <tr>\n",
              "      <th>Demand_StdDev</th>\n",
              "      <td>55</td>\n",
              "      <td>35</td>\n",
              "    </tr>\n",
              "    <tr>\n",
              "      <th>Fare</th>\n",
              "      <td>200</td>\n",
              "      <td>750</td>\n",
              "    </tr>\n",
              "  </tbody>\n",
              "</table>\n",
              "</div>"
            ],
            "text/plain": [
              "                SS   FF\n",
              "Demand_Mean    140   65\n",
              "Demand_StdDev   55   35\n",
              "Fare           200  750"
            ]
          },
          "metadata": {
            "tags": []
          }
        }
      ]
    },
    {
      "cell_type": "markdown",
      "metadata": {
        "id": "BEZOTYjLpV1s"
      },
      "source": [
        "**Set up a few additional parameters**"
      ]
    },
    {
      "cell_type": "code",
      "metadata": {
        "id": "a88T5Ezdpk1H"
      },
      "source": [
        "# Known Data for the problem\n",
        "Capacity = 200         # plane capacity (# of seats)\n",
        "BookingLimit_SS = 135   # booking limit for SS class "
      ],
      "execution_count": null,
      "outputs": []
    },
    {
      "cell_type": "markdown",
      "metadata": {
        "id": "dcV6tygTaTYH"
      },
      "source": [
        "<a id='top'></a>\n",
        "&nbsp;&nbsp;&nbsp;&nbsp;[Q1. A Predictive Model with More Complex Dependencies](#Q1)  \n",
        "&nbsp;&nbsp;&nbsp;&nbsp;[Q2. Prescriptive Analytics and Optimization](#Q2)  \n",
        "&nbsp;&nbsp;&nbsp;&nbsp;[Q3. A Simulation Model](#Q3)  \n",
        "&nbsp;&nbsp;&nbsp;&nbsp;[Q4. Decisions Under Uncertainty](#Q4)  "
      ]
    },
    {
      "cell_type": "markdown",
      "metadata": {
        "id": "HmshoF0PaTYZ"
      },
      "source": [
        "<a id=\"Q1\"></a>\n",
        "# **Q1.**\n",
        "\n",
        "Construct a basic model to predict the revenues under fixed demands. \n",
        "\n",
        "*Expand the section for details.*"
      ]
    },
    {
      "cell_type": "code",
      "metadata": {
        "colab": {
          "base_uri": "https://localhost:8080/"
        },
        "id": "S6jtDLuXqBNv",
        "outputId": "c4245c4e-be02-4825-c15f-79cfedcaf204"
      },
      "source": [
        "# set up the demands equal to the mean of the distribution\n",
        "Demand_SS = ItineraryData[\"SS\"][\"Demand_Mean\"]\n",
        "Demand_FF = ItineraryData[\"FF\"][\"Demand_Mean\"]\n",
        "\n",
        "# calculate the (quantity) sales in each category\n",
        "Sales_SS = min(Demand_SS, BookingLimit_SS, Capacity)\n",
        "Sales_FF = min(Demand_FF, Capacity - Sales_SS)\n",
        "\n",
        "# calculate the revenues\n",
        "Revenues_SS = Sales_SS * ItineraryData[\"SS\"][\"Fare\"] \n",
        "Revenues_FF = Sales_FF * ItineraryData[\"FF\"][\"Fare\"]\n",
        "Revenues = Revenues_SS + Revenues_FF\n",
        "\n",
        "# print the results\n",
        "print(\"The revenue when demand = mean is ${:,.0f}\".format(Revenues))"
      ],
      "execution_count": null,
      "outputs": [
        {
          "output_type": "stream",
          "text": [
            "The revenue when demand = mean is $75,750\n"
          ],
          "name": "stdout"
        }
      ]
    },
    {
      "cell_type": "markdown",
      "metadata": {
        "id": "FVi3JLG5aTYZ"
      },
      "source": [
        "Also create a python function that returns the revenue for a given set of demand values, a given booking limit and a given plane capacity."
      ]
    },
    {
      "cell_type": "code",
      "metadata": {
        "id": "yj5uzYSxaTYZ",
        "colab": {
          "base_uri": "https://localhost:8080/"
        },
        "outputId": "ab1ef668-9064-4a91-db4f-f31b0c6cc9df"
      },
      "source": [
        "#@markdown Define a function to calculate gross profit given all problem parameters\n",
        "def calculate_revenues(Demand_SS, Demand_FF, BookingLimit_SS, Capacity):\n",
        "\n",
        "    # calculate the (quantity) sales in each category\n",
        "    Sales_SS = min(Demand_SS, BookingLimit_SS, Capacity)\n",
        "    Sales_FF = min(Demand_FF, Capacity - Sales_SS)\n",
        "\n",
        "    # calculate the revenues\n",
        "    Revenues_SS = Sales_SS * ItineraryData[\"SS\"][\"Fare\"] \n",
        "    Revenues_FF = Sales_FF * ItineraryData[\"FF\"][\"Fare\"]\n",
        "    Revenues = Revenues_SS + Revenues_FF\n",
        "\n",
        "    return Revenues\n",
        "\n",
        "print(\"Function defined successfully.\")"
      ],
      "execution_count": null,
      "outputs": [
        {
          "output_type": "stream",
          "text": [
            "Function defined successfully.\n"
          ],
          "name": "stdout"
        }
      ]
    },
    {
      "cell_type": "markdown",
      "metadata": {
        "id": "6UFxI7n4aTYe"
      },
      "source": [
        "<a id=\"Q2\"></a>\n",
        "# **Q2.**\n",
        "We now use the base model from **Q1** and generate samples for the demand values, calculating the revenues in each scenario.\n",
        "\n",
        "*Expand for details. This section assumes you already ran the section for Q1; if not, please return there and re-run that entire section.*"
      ]
    },
    {
      "cell_type": "code",
      "metadata": {
        "scrolled": false,
        "id": "VyJtLaoaaTYe",
        "colab": {
          "base_uri": "https://localhost:8080/"
        },
        "outputId": "704cf812-0374-49e9-84e8-63f8fcb193a7"
      },
      "source": [
        "#@markdown Set up the number of samples\n",
        "number_of_samples = 10000 #@param {type:\"number\"}\n",
        "\n",
        "# make this an integer, just in case\n",
        "number_of_samples = np.int(number_of_samples)\n",
        "\n",
        "# set up a numpy array in which to store the values for the revenues\n",
        "RevenueValues = np.zeros(number_of_samples)\n",
        "\n",
        "# set up the seed in the simulation\n",
        "seed(3112)\n",
        "\n",
        "# run the simulation:\n",
        "for t in range(number_of_samples):\n",
        "    # generate values for the two demands from Normal Distributions\n",
        "    Demand_SS = np.round(max(0,normal(ItineraryData[\"SS\"][\"Demand_Mean\"], ItineraryData[\"SS\"][\"Demand_StdDev\"])))\n",
        "    Demand_FF = np.round(max(0,normal(ItineraryData[\"FF\"][\"Demand_Mean\"], ItineraryData[\"FF\"][\"Demand_StdDev\"])))\n",
        "\n",
        "    # calculate the (quantity) sales in each category\n",
        "    Sales_SS = min(Demand_SS, BookingLimit_SS)      # this formula assumes that BookingLimit_SS <= Capacity\n",
        "    Sales_FF = min(Demand_FF, Capacity - Sales_SS)\n",
        "\n",
        "    # calculate the revenues\n",
        "    Revenues_SS = Sales_SS * ItineraryData[\"SS\"][\"Fare\"] \n",
        "    Revenues_FF = Sales_FF * ItineraryData[\"FF\"][\"Fare\"]\n",
        "    Revenue = Revenues_SS + Revenues_FF\n",
        "\n",
        "    # record the value for the revenue\n",
        "    RevenueValues[t] = Revenue\n",
        "\n",
        "#@markdown Calculate and print the mean revenue\n",
        "print(\"The mean revenue is: ${:,.2f}\".format(np.mean(RevenueValues)))"
      ],
      "execution_count": null,
      "outputs": [
        {
          "output_type": "stream",
          "text": [
            "The mean revenue is: $65,046.52\n"
          ],
          "name": "stdout"
        }
      ]
    },
    {
      "cell_type": "markdown",
      "metadata": {
        "id": "10KpFte2sw2Z"
      },
      "source": [
        "<a id=\"Q3\"></a>\n",
        "# **Q3.**\n",
        "We now use the base model from **Q1** and generate samples for the demand values, calculating the revenues as well as determining whether customers are turned away in each scenario/sample.\n",
        "\n",
        "*Expand for details. This section assumes you already ran the section for Q1; if not, please return there and re-run that entire section.*"
      ]
    },
    {
      "cell_type": "code",
      "metadata": {
        "scrolled": false,
        "colab": {
          "base_uri": "https://localhost:8080/"
        },
        "id": "3PmWWIA5sw2v",
        "outputId": "574614be-ce31-4a46-d666-2c86e78b7b96"
      },
      "source": [
        "#@markdown Set up the number of samples\n",
        "number_of_samples = 10000 #@param {type:\"number\"}\n",
        "\n",
        "# make this an integer, just in case\n",
        "number_of_samples = np.int(number_of_samples)\n",
        "\n",
        "# set up a numpy array in which to store the values for the revenues\n",
        "RevenueValues = np.zeros(number_of_samples)\n",
        "\n",
        "# set up a separate numpy array to calculate an indicator for whether an incoming SS customer is turned away\n",
        "SS_turnedAway = np.zeros(number_of_samples)\n",
        "\n",
        "# set up the seed in the simulation\n",
        "seed(3112)\n",
        "\n",
        "# run the simulation:\n",
        "for t in range(number_of_samples):\n",
        "    # generate values for the two demands from Normal Distributions\n",
        "    Demand_SS = np.round(max(0,normal(ItineraryData[\"SS\"][\"Demand_Mean\"], ItineraryData[\"SS\"][\"Demand_StdDev\"])))\n",
        "    Demand_FF = np.round(max(0,normal(ItineraryData[\"FF\"][\"Demand_Mean\"], ItineraryData[\"FF\"][\"Demand_StdDev\"])))\n",
        "\n",
        "    # calculate the (quantity) sales in each category\n",
        "    Sales_SS = min(Demand_SS, BookingLimit_SS)      # this formula assumes that BookingLimit_SS <= Capacity\n",
        "    Sales_FF = min(Demand_FF, Capacity - Sales_SS)\n",
        "\n",
        "    # calculate the revenues\n",
        "    Revenues_SS = Sales_SS * ItineraryData[\"SS\"][\"Fare\"] \n",
        "    Revenues_FF = Sales_FF * ItineraryData[\"FF\"][\"Fare\"]\n",
        "    Revenue = Revenues_SS + Revenues_FF\n",
        "    \n",
        "    # record the value for the revenue\n",
        "    RevenueValues[t] = Revenue\n",
        "    \n",
        "    # determine whether SS customers are turned away\n",
        "    if Demand_SS > BookingLimit_SS :\n",
        "        SS_turnedAway[t] = 1\n",
        "    else:\n",
        "        SS_turnedAway[t] = 0 # this is for clarity (it's not really needed because the array was initialized with 0)\n",
        "\n",
        "#@markdown Calculate and print the mean revenue\n",
        "\n",
        "print(\"The mean revenue is: ${:,.2f}\".format(np.mean(RevenueValues)))"
      ],
      "execution_count": null,
      "outputs": [
        {
          "output_type": "stream",
          "text": [
            "The mean revenue is: $65,046.52\n"
          ],
          "name": "stdout"
        }
      ]
    },
    {
      "cell_type": "markdown",
      "metadata": {
        "id": "1Q_pfn3ItHo9"
      },
      "source": [
        "Plot the histogram of revenues."
      ]
    },
    {
      "cell_type": "code",
      "metadata": {
        "colab": {
          "base_uri": "https://localhost:8080/"
        },
        "id": "xdULHC2stCK1",
        "outputId": "d7d1b768-d14e-4984-c1f8-b4e7727d28a8"
      },
      "source": [
        "#@markdown Plot the histogram of revenues\n",
        "#@markdown - select the number of bins to use\n",
        "num_bins = 30 #@param {type:\"number\"}\n",
        "\n",
        "plt.hist(RevenueValues, bins=num_bins, color=\"darkred\", edgecolor=\"black\")\n",
        "plt.xlabel(\"Revenue Values\")\n",
        "plt.ylabel(\"Number of Occurences\")\n",
        "plt.show()"
      ],
      "execution_count": null,
      "outputs": [
        {
          "output_type": "display_data",
          "data": {
            "image/png": "[encoded data removed]",
            "text/plain": [
              "<Figure size 432x288 with 1 Axes>"
            ]
          },
          "metadata": {
            "tags": [],
            "needs_background": "light"
          }
        }
      ]
    },
    {
      "cell_type": "code",
      "metadata": {
        "id": "Q3pYy3RMtKyN"
      },
      "source": [
        ""
      ],
      "execution_count": null,
      "outputs": []
    },
    {
      "cell_type": "markdown",
      "metadata": {
        "id": "P7bs3q_bte1n"
      },
      "source": [
        "<a id=\"Q4\"></a>\n",
        "# **Q4.**\n",
        "We use the model from **Q3** and test multiple booking limits to determine the one that maximizes the expected revenue.\n",
        "\n",
        "*Expand for details. This section assumes you already ran the section for Q1; if not, please return there and re-run that entire section.*"
      ]
    },
    {
      "cell_type": "markdown",
      "metadata": {
        "id": "4ib_PbTxvHVl"
      },
      "source": [
        "<font color=red>__WARNING:__ As written, this loop may take a bit of time to run, because it it testing a lot of values for the booking limit, and running a simulation for every value. If you want to cut down on the running time, a good idea might be to first test booking limit values with larger increments (e.g., from 0 to 200 in increments of 10 or 20), and after identifying the optimal interval you can then run another for loop with a small increment (e.g., assuming the maximum occurs between 140 and 150, you could run a for loop with increments of 1 in this range). </font>"
      ]
    },
    {
      "cell_type": "code",
      "metadata": {
        "scrolled": false,
        "id": "x4Vz4NZGte1o"
      },
      "source": [
        "#@markdown Set up the number of samples\n",
        "number_of_samples = 10000 #@param {type:\"number\"}\n",
        "\n",
        "# make this an integer, just in case\n",
        "number_of_samples = np.int(number_of_samples)\n",
        "\n",
        "#@markdown Set up the minimum, maximum, and increment value to test for the booking limit\n",
        "min_booking_limit = 100  #@param {type:\"number\"}\n",
        "max_booking_limit = 200  #@param {type:\"number\"}\n",
        "step_size = 5   #@param {type:\"number\"}\n",
        "\n",
        "# an array with all the values between min/max in increments of step size\n",
        "BookingLimitValues = np.arange(min_booking_limit,max_booking_limit+step_size,\\\n",
        "                               step_size)\n",
        "\n",
        "# set up a numpy array where we will store the value of the mean revenue for each booking limit\n",
        "MeanRevenueValues = np.zeros(len(BookingLimitValues))\n",
        "\n",
        "# run a double for loop: the outer one tests multiple booking limit values\n",
        "for i in range(len(BookingLimitValues)):\n",
        "\n",
        "    BookingLimit_SS = BookingLimitValues[i]\n",
        "    \n",
        "    # set up a numpy array in which to store the values for the revenues\n",
        "    RevenueValues = np.zeros(number_of_samples)\n",
        "\n",
        "    # set up the seed in the simulation\n",
        "    # THIS STEP IS ACTUALLY IMPORTANT HERE, SINCE IT ENSURES WE HAVE A FAIR COMPARISON FOR DIFFERENT BOOKING LIMITS\n",
        "    seed(110518)\n",
        "    \n",
        "    # run the simulation:\n",
        "    for t in range(number_of_samples):\n",
        "        # generate values for the two demands from Normal Distributions\n",
        "        Demand_SS = round(max(0,normal(ItineraryData[\"SS\"][\"Demand_Mean\"], ItineraryData[\"SS\"][\"Demand_StdDev\"])))\n",
        "        Demand_FF = round(max(0,normal(ItineraryData[\"FF\"][\"Demand_Mean\"], ItineraryData[\"FF\"][\"Demand_StdDev\"])))\n",
        "\n",
        "        # calculate the (quantity) sales in each category\n",
        "        Sales_SS = min(Demand_SS, BookingLimit_SS)      # this formula assumes that BookingLimit_SS <= Capacity\n",
        "        Sales_FF = min(Demand_FF, Capacity - Sales_SS)\n",
        "\n",
        "        # calculate the revenues\n",
        "        Revenues_SS = Sales_SS * ItineraryData[\"SS\"][\"Fare\"] \n",
        "        Revenues_FF = Sales_FF * ItineraryData[\"FF\"][\"Fare\"]\n",
        "        Revenue = Revenues_SS + Revenues_FF\n",
        "\n",
        "        # record the value for the revenue\n",
        "        RevenueValues[t] = Revenue\n",
        "        \n",
        "    MeanRevenueValues[i] = np.mean(RevenueValues)"
      ],
      "execution_count": null,
      "outputs": []
    },
    {
      "cell_type": "markdown",
      "metadata": {
        "id": "u9TQTK7Qte1o"
      },
      "source": [
        "Determine the optimal booking limit."
      ]
    },
    {
      "cell_type": "code",
      "metadata": {
        "colab": {
          "base_uri": "https://localhost:8080/"
        },
        "id": "5WskSagJte1r",
        "outputId": "fbc9fbbf-3f00-4f2b-ea69-ce6b9a94b96f"
      },
      "source": [
        "#@markdown Determine the optimal booking limit and revenue\n",
        "print(\"The optimal revenue is: {:,.2f}\".format(np.max(MeanRevenueValues)))\n",
        "print(\"The optimal booking limit is: {:d}\".format(BookingLimitValues[np.argmax(MeanRevenueValues)]))"
      ],
      "execution_count": null,
      "outputs": [
        {
          "output_type": "stream",
          "text": [
            "The optimal revenue is: 66,253.30\n",
            "The optimal booking limit is: 115\n"
          ],
          "name": "stdout"
        }
      ]
    }
  ]
}