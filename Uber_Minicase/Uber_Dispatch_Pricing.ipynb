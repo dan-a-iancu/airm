{
  "nbformat": 4,
  "nbformat_minor": 0,
  "metadata": {
    "kernelspec": {
      "display_name": "Python 3",
      "language": "python",
      "name": "python3"
    },
    "language_info": {
      "codemirror_mode": {
        "name": "ipython",
        "version": 3
      },
      "file_extension": ".py",
      "mimetype": "text/x-python",
      "name": "python",
      "nbconvert_exporter": "python",
      "pygments_lexer": "ipython3",
      "version": "3.6.5"
    },
    "colab": {
      "name": "Uber_Dispatch_Pricing.ipynb",
      "provenance": [],
      "collapsed_sections": [
        "CouW7x7faiH8",
        "qMyua9D_fE-4",
        "tncvo53AfE-6",
        "WQsvouQbfE-8",
        "x-3dwGEdfE-9",
        "2sU6C1aJfE_A",
        "4GfbZBhD8y18",
        "0cJZeAkE-bAY"
      ],
      "toc_visible": true,
      "include_colab_link": true
    }
  },
  "cells": [
    {
      "cell_type": "markdown",
      "metadata": {
        "id": "view-in-github",
        "colab_type": "text"
      },
      "source": [
        "<a href=\"https://colab.research.google.com/github/dan-a-iancu/airm/blob/master/Uber_Minicase/Uber_Dispatch_Pricing.ipynb\" target=\"_parent\"><img src=\"https://colab.research.google.com/assets/colab-badge.svg\" alt=\"Open In Colab\"/></a>"
      ]
    },
    {
      "cell_type": "markdown",
      "metadata": {
        "id": "7VtkH-sn3oBT"
      },
      "source": [
        "This notebook implements the solution to the **UBER Dispatch and Pricing** mini-case. It assumes you are familiar with the case and the model."
      ]
    },
    {
      "cell_type": "markdown",
      "metadata": {
        "id": "vb4A3Z6sy5J_"
      },
      "source": [
        "____\r\n",
        "# Basic Setup\r\n",
        "\r\n",
        "Import useful modules, read the data and store it in data frames, and set up some useful Python lists. You may want to expand this section and make sure you understand how the data is organized, and also read the last part where the Python lists are created, as these may be very useful when you build your model."
      ]
    },
    {
      "cell_type": "code",
      "metadata": {
        "colab": {
          "base_uri": "https://localhost:8080/"
        },
        "id": "WcFPypqhXbcv",
        "cellView": "form",
        "outputId": "de4c9396-5839-4db8-a56c-6cde92df2ce2"
      },
      "source": [
        "#@markdown We first import some useful modules. \n",
        "\n",
        "# Python ≥3.5 is required\n",
        "import sys\n",
        "assert sys.version_info >= (3, 5)\n",
        "\n",
        "# import numpy\n",
        "import numpy as np\n",
        "import urllib.request  # for file downloading\n",
        "\n",
        "# Import pandas for data-frames\n",
        "import pandas as pd\n",
        "pd.options.display.max_rows = 15\n",
        "pd.options.display.float_format = \"{:,.2f}\".format\n",
        "\n",
        "from IPython.display import display\n",
        "\n",
        "# Make sure Matplotlib runs inline, for nice figures\n",
        "%matplotlib inline\n",
        "import matplotlib as mpl\n",
        "import matplotlib.pyplot as plt\n",
        "mpl.rc('axes', labelsize=14)\n",
        "mpl.rc('xtick', labelsize=12)\n",
        "mpl.rc('ytick', labelsize=12)\n",
        "import matplotlib.ticker as ticker \n",
        "\n",
        "# install Gurobi (our linear optimization solver)\n",
        "!pip install -i https://pypi.gurobi.com gurobipy\n",
        "from gurobipy import *\n",
        "\n",
        "# some modules to create local directories for CBC (to avoid issues with solving multiple models)\n",
        "import os\n",
        "def new_local_directory(name):\n",
        "    full_path = os.path.join(\".\", name)\n",
        "    os.makedirs(full_path, exist_ok=True)\n",
        "    return full_path\n",
        "\n",
        "# install the latest version of seaborn for nicer graphics\n",
        "#!pip install --prefix {sys.prefix} seaborn==0.11.0  &> /dev/null\n",
        "import seaborn as sns\n",
        "\n",
        "# Ignore useless some warnings\n",
        "import warnings\n",
        "warnings.simplefilter(action=\"ignore\")\n",
        "\n",
        "print(\"Completed successfully!\")"
      ],
      "execution_count": 1,
      "outputs": [
        {
          "output_type": "stream",
          "text": [
            "Looking in indexes: https://pypi.gurobi.com\n",
            "Requirement already satisfied: gurobipy in /usr/local/lib/python3.7/dist-packages (9.1.1)\n",
            "Completed successfully!\n"
          ],
          "name": "stdout"
        }
      ]
    },
    {
      "cell_type": "markdown",
      "metadata": {
        "id": "Aqf-EBXAAgn1"
      },
      "source": [
        "## Load the case data into Pandas data frames"
      ]
    },
    {
      "cell_type": "markdown",
      "metadata": {
        "id": "17bUiOG3EYfu"
      },
      "source": [
        "We first download an Excel file with all the data from Github."
      ]
    },
    {
      "cell_type": "code",
      "metadata": {
        "colab": {
          "base_uri": "https://localhost:8080/"
        },
        "id": "oO9JJFpMEX8K",
        "outputId": "6a107f5a-e5a6-4c35-f321-fb224ac81ddd"
      },
      "source": [
        "#@markdown Download the entire data as an Excel file from Github\n",
        "\n",
        "url_Excel = 'https://github.com/dan-a-iancu/airm/blob/master/Uber_Minicase/Uber_Dispatching_Data.xlsx?raw=true'\n",
        "local_file = \"Uber_Data.xlsx\"   # name of local file where you want to store the downloaded file\n",
        "urllib.request.urlretrieve(url_Excel, local_file)    # download from website and save it locally"
      ],
      "execution_count": 2,
      "outputs": [
        {
          "output_type": "execute_result",
          "data": {
            "text/plain": [
              "('Uber_Data.xlsx', <http.client.HTTPMessage at 0x7f70ca4ec790>)"
            ]
          },
          "metadata": {
            "tags": []
          },
          "execution_count": 2
        }
      ]
    },
    {
      "cell_type": "markdown",
      "metadata": {
        "id": "nb7NvPyuyoGh"
      },
      "source": [
        "Read in and store the data in suitable dataframes."
      ]
    },
    {
      "cell_type": "code",
      "metadata": {
        "colab": {
          "base_uri": "https://localhost:8080/",
          "height": 1000
        },
        "id": "EUxSwrdEyJDs",
        "cellView": "form",
        "outputId": "b5579aab-020d-4219-ea4f-bf8e27c48601"
      },
      "source": [
        "#@markdown Create dataframes based on the Excel file\r\n",
        "\r\n",
        "# data on drivers\r\n",
        "drivers_df = pd.read_excel(\"Uber_Data.xlsx\", sheet_name = \"Drivers\", index_col=0)\r\n",
        "print(\"The drivers\")\r\n",
        "display(drivers_df)\r\n",
        "\r\n",
        "# data on riders\r\n",
        "riders_df = pd.read_excel(\"Uber_Data.xlsx\", sheet_name = \"Riders\", index_col=0)\r\n",
        "print(\"The riders\")\r\n",
        "display(riders_df)\r\n",
        "\r\n",
        "# the match that the data scientist created\r\n",
        "ds_match_df = pd.read_excel(\"Uber_Data.xlsx\", sheet_name = \"Josephines_Match\", index_col=0)\r\n",
        "print(\"The data scientist's solution\")\r\n",
        "display(ds_match_df)"
      ],
      "execution_count": 3,
      "outputs": [
        {
          "output_type": "stream",
          "text": [
            "The drivers\n"
          ],
          "name": "stdout"
        },
        {
          "output_type": "display_data",
          "data": {
            "text/html": [
              "<div>\n",
              "<style scoped>\n",
              "    .dataframe tbody tr th:only-of-type {\n",
              "        vertical-align: middle;\n",
              "    }\n",
              "\n",
              "    .dataframe tbody tr th {\n",
              "        vertical-align: top;\n",
              "    }\n",
              "\n",
              "    .dataframe thead th {\n",
              "        text-align: right;\n",
              "    }\n",
              "</style>\n",
              "<table border=\"1\" class=\"dataframe\">\n",
              "  <thead>\n",
              "    <tr style=\"text-align: right;\">\n",
              "      <th></th>\n",
              "      <th>Location_X</th>\n",
              "      <th>Location_Y</th>\n",
              "    </tr>\n",
              "    <tr>\n",
              "      <th>Driver_ID</th>\n",
              "      <th></th>\n",
              "      <th></th>\n",
              "    </tr>\n",
              "  </thead>\n",
              "  <tbody>\n",
              "    <tr>\n",
              "      <th>1</th>\n",
              "      <td>0.58</td>\n",
              "      <td>1.21</td>\n",
              "    </tr>\n",
              "    <tr>\n",
              "      <th>2</th>\n",
              "      <td>0.00</td>\n",
              "      <td>1.44</td>\n",
              "    </tr>\n",
              "    <tr>\n",
              "      <th>3</th>\n",
              "      <td>0.09</td>\n",
              "      <td>0.10</td>\n",
              "    </tr>\n",
              "    <tr>\n",
              "      <th>4</th>\n",
              "      <td>1.56</td>\n",
              "      <td>0.59</td>\n",
              "    </tr>\n",
              "    <tr>\n",
              "      <th>5</th>\n",
              "      <td>1.69</td>\n",
              "      <td>0.67</td>\n",
              "    </tr>\n",
              "    <tr>\n",
              "      <th>6</th>\n",
              "      <td>0.26</td>\n",
              "      <td>1.83</td>\n",
              "    </tr>\n",
              "    <tr>\n",
              "      <th>7</th>\n",
              "      <td>0.50</td>\n",
              "      <td>1.18</td>\n",
              "    </tr>\n",
              "    <tr>\n",
              "      <th>8</th>\n",
              "      <td>0.41</td>\n",
              "      <td>0.82</td>\n",
              "    </tr>\n",
              "    <tr>\n",
              "      <th>9</th>\n",
              "      <td>1.64</td>\n",
              "      <td>1.89</td>\n",
              "    </tr>\n",
              "    <tr>\n",
              "      <th>10</th>\n",
              "      <td>0.36</td>\n",
              "      <td>1.19</td>\n",
              "    </tr>\n",
              "  </tbody>\n",
              "</table>\n",
              "</div>"
            ],
            "text/plain": [
              "           Location_X  Location_Y\n",
              "Driver_ID                        \n",
              "1                0.58        1.21\n",
              "2                0.00        1.44\n",
              "3                0.09        0.10\n",
              "4                1.56        0.59\n",
              "5                1.69        0.67\n",
              "6                0.26        1.83\n",
              "7                0.50        1.18\n",
              "8                0.41        0.82\n",
              "9                1.64        1.89\n",
              "10               0.36        1.19"
            ]
          },
          "metadata": {
            "tags": []
          }
        },
        {
          "output_type": "stream",
          "text": [
            "The riders\n"
          ],
          "name": "stdout"
        },
        {
          "output_type": "display_data",
          "data": {
            "text/html": [
              "<div>\n",
              "<style scoped>\n",
              "    .dataframe tbody tr th:only-of-type {\n",
              "        vertical-align: middle;\n",
              "    }\n",
              "\n",
              "    .dataframe tbody tr th {\n",
              "        vertical-align: top;\n",
              "    }\n",
              "\n",
              "    .dataframe thead th {\n",
              "        text-align: right;\n",
              "    }\n",
              "</style>\n",
              "<table border=\"1\" class=\"dataframe\">\n",
              "  <thead>\n",
              "    <tr style=\"text-align: right;\">\n",
              "      <th></th>\n",
              "      <th>Location_X</th>\n",
              "      <th>Location_Y</th>\n",
              "      <th>Distance_to_destination</th>\n",
              "      <th>Request_in</th>\n",
              "    </tr>\n",
              "    <tr>\n",
              "      <th>Passenger_ID</th>\n",
              "      <th></th>\n",
              "      <th></th>\n",
              "      <th></th>\n",
              "      <th></th>\n",
              "    </tr>\n",
              "  </thead>\n",
              "  <tbody>\n",
              "    <tr>\n",
              "      <th>A</th>\n",
              "      <td>0.67</td>\n",
              "      <td>0.14</td>\n",
              "      <td>1.84</td>\n",
              "      <td>1</td>\n",
              "    </tr>\n",
              "    <tr>\n",
              "      <th>B</th>\n",
              "      <td>1.19</td>\n",
              "      <td>1.53</td>\n",
              "      <td>2.12</td>\n",
              "      <td>1</td>\n",
              "    </tr>\n",
              "    <tr>\n",
              "      <th>C</th>\n",
              "      <td>0.38</td>\n",
              "      <td>1.07</td>\n",
              "      <td>1.43</td>\n",
              "      <td>1</td>\n",
              "    </tr>\n",
              "    <tr>\n",
              "      <th>D</th>\n",
              "      <td>0.65</td>\n",
              "      <td>0.79</td>\n",
              "      <td>0.94</td>\n",
              "      <td>1</td>\n",
              "    </tr>\n",
              "    <tr>\n",
              "      <th>E</th>\n",
              "      <td>0.15</td>\n",
              "      <td>1.66</td>\n",
              "      <td>1.74</td>\n",
              "      <td>1</td>\n",
              "    </tr>\n",
              "    <tr>\n",
              "      <th>F</th>\n",
              "      <td>1.71</td>\n",
              "      <td>1.66</td>\n",
              "      <td>1.92</td>\n",
              "      <td>1</td>\n",
              "    </tr>\n",
              "    <tr>\n",
              "      <th>G</th>\n",
              "      <td>1.92</td>\n",
              "      <td>1.67</td>\n",
              "      <td>0.56</td>\n",
              "      <td>1</td>\n",
              "    </tr>\n",
              "    <tr>\n",
              "      <th>H</th>\n",
              "      <td>0.18</td>\n",
              "      <td>1.29</td>\n",
              "      <td>2.42</td>\n",
              "      <td>1</td>\n",
              "    </tr>\n",
              "    <tr>\n",
              "      <th>I</th>\n",
              "      <td>0.39</td>\n",
              "      <td>0.69</td>\n",
              "      <td>0.90</td>\n",
              "      <td>1</td>\n",
              "    </tr>\n",
              "    <tr>\n",
              "      <th>J</th>\n",
              "      <td>0.38</td>\n",
              "      <td>1.38</td>\n",
              "      <td>2.12</td>\n",
              "      <td>1</td>\n",
              "    </tr>\n",
              "  </tbody>\n",
              "</table>\n",
              "</div>"
            ],
            "text/plain": [
              "              Location_X  Location_Y  Distance_to_destination  Request_in\n",
              "Passenger_ID                                                             \n",
              "A                   0.67        0.14                     1.84           1\n",
              "B                   1.19        1.53                     2.12           1\n",
              "C                   0.38        1.07                     1.43           1\n",
              "D                   0.65        0.79                     0.94           1\n",
              "E                   0.15        1.66                     1.74           1\n",
              "F                   1.71        1.66                     1.92           1\n",
              "G                   1.92        1.67                     0.56           1\n",
              "H                   0.18        1.29                     2.42           1\n",
              "I                   0.39        0.69                     0.90           1\n",
              "J                   0.38        1.38                     2.12           1"
            ]
          },
          "metadata": {
            "tags": []
          }
        },
        {
          "output_type": "stream",
          "text": [
            "The data scientist's solution\n"
          ],
          "name": "stdout"
        },
        {
          "output_type": "display_data",
          "data": {
            "text/html": [
              "<div>\n",
              "<style scoped>\n",
              "    .dataframe tbody tr th:only-of-type {\n",
              "        vertical-align: middle;\n",
              "    }\n",
              "\n",
              "    .dataframe tbody tr th {\n",
              "        vertical-align: top;\n",
              "    }\n",
              "\n",
              "    .dataframe thead th {\n",
              "        text-align: right;\n",
              "    }\n",
              "</style>\n",
              "<table border=\"1\" class=\"dataframe\">\n",
              "  <thead>\n",
              "    <tr style=\"text-align: right;\">\n",
              "      <th></th>\n",
              "      <th>1</th>\n",
              "      <th>2</th>\n",
              "      <th>3</th>\n",
              "      <th>4</th>\n",
              "      <th>5</th>\n",
              "      <th>6</th>\n",
              "      <th>7</th>\n",
              "      <th>8</th>\n",
              "      <th>9</th>\n",
              "      <th>10</th>\n",
              "    </tr>\n",
              "  </thead>\n",
              "  <tbody>\n",
              "    <tr>\n",
              "      <th>A</th>\n",
              "      <td>0</td>\n",
              "      <td>0</td>\n",
              "      <td>1</td>\n",
              "      <td>0</td>\n",
              "      <td>0</td>\n",
              "      <td>0</td>\n",
              "      <td>0</td>\n",
              "      <td>0</td>\n",
              "      <td>0</td>\n",
              "      <td>0</td>\n",
              "    </tr>\n",
              "    <tr>\n",
              "      <th>B</th>\n",
              "      <td>0</td>\n",
              "      <td>0</td>\n",
              "      <td>0</td>\n",
              "      <td>0</td>\n",
              "      <td>0</td>\n",
              "      <td>0</td>\n",
              "      <td>0</td>\n",
              "      <td>0</td>\n",
              "      <td>1</td>\n",
              "      <td>0</td>\n",
              "    </tr>\n",
              "    <tr>\n",
              "      <th>C</th>\n",
              "      <td>0</td>\n",
              "      <td>0</td>\n",
              "      <td>0</td>\n",
              "      <td>0</td>\n",
              "      <td>0</td>\n",
              "      <td>0</td>\n",
              "      <td>0</td>\n",
              "      <td>0</td>\n",
              "      <td>0</td>\n",
              "      <td>1</td>\n",
              "    </tr>\n",
              "    <tr>\n",
              "      <th>D</th>\n",
              "      <td>0</td>\n",
              "      <td>0</td>\n",
              "      <td>0</td>\n",
              "      <td>0</td>\n",
              "      <td>0</td>\n",
              "      <td>0</td>\n",
              "      <td>0</td>\n",
              "      <td>1</td>\n",
              "      <td>0</td>\n",
              "      <td>0</td>\n",
              "    </tr>\n",
              "    <tr>\n",
              "      <th>E</th>\n",
              "      <td>0</td>\n",
              "      <td>0</td>\n",
              "      <td>0</td>\n",
              "      <td>0</td>\n",
              "      <td>0</td>\n",
              "      <td>1</td>\n",
              "      <td>0</td>\n",
              "      <td>0</td>\n",
              "      <td>0</td>\n",
              "      <td>0</td>\n",
              "    </tr>\n",
              "    <tr>\n",
              "      <th>F</th>\n",
              "      <td>0</td>\n",
              "      <td>0</td>\n",
              "      <td>0</td>\n",
              "      <td>0</td>\n",
              "      <td>1</td>\n",
              "      <td>0</td>\n",
              "      <td>0</td>\n",
              "      <td>0</td>\n",
              "      <td>0</td>\n",
              "      <td>0</td>\n",
              "    </tr>\n",
              "    <tr>\n",
              "      <th>G</th>\n",
              "      <td>0</td>\n",
              "      <td>0</td>\n",
              "      <td>0</td>\n",
              "      <td>1</td>\n",
              "      <td>0</td>\n",
              "      <td>0</td>\n",
              "      <td>0</td>\n",
              "      <td>0</td>\n",
              "      <td>0</td>\n",
              "      <td>0</td>\n",
              "    </tr>\n",
              "    <tr>\n",
              "      <th>H</th>\n",
              "      <td>0</td>\n",
              "      <td>1</td>\n",
              "      <td>0</td>\n",
              "      <td>0</td>\n",
              "      <td>0</td>\n",
              "      <td>0</td>\n",
              "      <td>0</td>\n",
              "      <td>0</td>\n",
              "      <td>0</td>\n",
              "      <td>0</td>\n",
              "    </tr>\n",
              "    <tr>\n",
              "      <th>I</th>\n",
              "      <td>0</td>\n",
              "      <td>0</td>\n",
              "      <td>0</td>\n",
              "      <td>0</td>\n",
              "      <td>0</td>\n",
              "      <td>0</td>\n",
              "      <td>1</td>\n",
              "      <td>0</td>\n",
              "      <td>0</td>\n",
              "      <td>0</td>\n",
              "    </tr>\n",
              "    <tr>\n",
              "      <th>J</th>\n",
              "      <td>1</td>\n",
              "      <td>0</td>\n",
              "      <td>0</td>\n",
              "      <td>0</td>\n",
              "      <td>0</td>\n",
              "      <td>0</td>\n",
              "      <td>0</td>\n",
              "      <td>0</td>\n",
              "      <td>0</td>\n",
              "      <td>0</td>\n",
              "    </tr>\n",
              "  </tbody>\n",
              "</table>\n",
              "</div>"
            ],
            "text/plain": [
              "   1   2   3   4   5   6   7   8   9   10\n",
              "A   0   0   1   0   0   0   0   0   0   0\n",
              "B   0   0   0   0   0   0   0   0   1   0\n",
              "C   0   0   0   0   0   0   0   0   0   1\n",
              "D   0   0   0   0   0   0   0   1   0   0\n",
              "E   0   0   0   0   0   1   0   0   0   0\n",
              "F   0   0   0   0   1   0   0   0   0   0\n",
              "G   0   0   0   1   0   0   0   0   0   0\n",
              "H   0   1   0   0   0   0   0   0   0   0\n",
              "I   0   0   0   0   0   0   1   0   0   0\n",
              "J   1   0   0   0   0   0   0   0   0   0"
            ]
          },
          "metadata": {
            "tags": []
          }
        }
      ]
    },
    {
      "cell_type": "markdown",
      "metadata": {
        "id": "8yhR3xIVyJ13"
      },
      "source": [
        "## Create Python lists and store any other relevant problem parameters\r\n",
        "\r\n",
        "__NOTE__: Make sure you understand what the __lists__ created here are! These will be very helpful when creating the model."
      ]
    },
    {
      "cell_type": "code",
      "metadata": {
        "id": "oi5sktA8j3PF",
        "colab": {
          "base_uri": "https://localhost:8080/"
        },
        "outputId": "6e17eabe-1a1b-4d4f-b2bb-a6a40c1df498"
      },
      "source": [
        "#@markdown Create useful lists with the departments and the days of the week\n",
        "# calculate the list of departments\n",
        "drivers = list( drivers_df.index )\n",
        "print(\"The list of drivers:\")\n",
        "print(drivers)\n",
        "\n",
        "# calculate the list of days\n",
        "riders = list( riders_df.index )\n",
        "print(\"The list of riders:\")\n",
        "print(riders)"
      ],
      "execution_count": 4,
      "outputs": [
        {
          "output_type": "stream",
          "text": [
            "The list of drivers:\n",
            "[1, 2, 3, 4, 5, 6, 7, 8, 9, 10]\n",
            "The list of riders:\n",
            "['A', 'B', 'C', 'D', 'E', 'F', 'G', 'H', 'I', 'J']\n"
          ],
          "name": "stdout"
        }
      ]
    },
    {
      "cell_type": "code",
      "metadata": {
        "colab": {
          "base_uri": "https://localhost:8080/",
          "height": 359
        },
        "id": "C6pv7ok4gztc",
        "outputId": "21778803-d968-4f30-937f-0d512356251d"
      },
      "source": [
        "#@markdown Also create a distance matrix with distances for all (driver,rider) pairs\r\n",
        "\r\n",
        "# first create a dictionary\r\n",
        "distances = dict( [(d, [np.sqrt( sum( (drivers_df[idx][d] - riders_df[idx][r])**2 \\\r\n",
        "                                     for idx in [\"Location_X\", \"Location_Y\"]) ) \\\r\n",
        "                        for r in riders]) for d in drivers] )\r\n",
        "\r\n",
        "# then turn this into a dataframe\r\n",
        "distances_df = pd.DataFrame( distances, index=riders )\r\n",
        "display(distances_df)"
      ],
      "execution_count": 5,
      "outputs": [
        {
          "output_type": "display_data",
          "data": {
            "text/html": [
              "<div>\n",
              "<style scoped>\n",
              "    .dataframe tbody tr th:only-of-type {\n",
              "        vertical-align: middle;\n",
              "    }\n",
              "\n",
              "    .dataframe tbody tr th {\n",
              "        vertical-align: top;\n",
              "    }\n",
              "\n",
              "    .dataframe thead th {\n",
              "        text-align: right;\n",
              "    }\n",
              "</style>\n",
              "<table border=\"1\" class=\"dataframe\">\n",
              "  <thead>\n",
              "    <tr style=\"text-align: right;\">\n",
              "      <th></th>\n",
              "      <th>1</th>\n",
              "      <th>2</th>\n",
              "      <th>3</th>\n",
              "      <th>4</th>\n",
              "      <th>5</th>\n",
              "      <th>6</th>\n",
              "      <th>7</th>\n",
              "      <th>8</th>\n",
              "      <th>9</th>\n",
              "      <th>10</th>\n",
              "    </tr>\n",
              "  </thead>\n",
              "  <tbody>\n",
              "    <tr>\n",
              "      <th>A</th>\n",
              "      <td>1.08</td>\n",
              "      <td>1.47</td>\n",
              "      <td>0.58</td>\n",
              "      <td>1.00</td>\n",
              "      <td>1.16</td>\n",
              "      <td>1.74</td>\n",
              "      <td>1.05</td>\n",
              "      <td>0.73</td>\n",
              "      <td>2.01</td>\n",
              "      <td>1.09</td>\n",
              "    </tr>\n",
              "    <tr>\n",
              "      <th>B</th>\n",
              "      <td>0.69</td>\n",
              "      <td>1.19</td>\n",
              "      <td>1.80</td>\n",
              "      <td>1.01</td>\n",
              "      <td>1.00</td>\n",
              "      <td>0.98</td>\n",
              "      <td>0.77</td>\n",
              "      <td>1.05</td>\n",
              "      <td>0.58</td>\n",
              "      <td>0.90</td>\n",
              "    </tr>\n",
              "    <tr>\n",
              "      <th>C</th>\n",
              "      <td>0.25</td>\n",
              "      <td>0.53</td>\n",
              "      <td>1.01</td>\n",
              "      <td>1.28</td>\n",
              "      <td>1.38</td>\n",
              "      <td>0.76</td>\n",
              "      <td>0.16</td>\n",
              "      <td>0.26</td>\n",
              "      <td>1.51</td>\n",
              "      <td>0.11</td>\n",
              "    </tr>\n",
              "    <tr>\n",
              "      <th>D</th>\n",
              "      <td>0.43</td>\n",
              "      <td>0.92</td>\n",
              "      <td>0.88</td>\n",
              "      <td>0.93</td>\n",
              "      <td>1.05</td>\n",
              "      <td>1.11</td>\n",
              "      <td>0.42</td>\n",
              "      <td>0.25</td>\n",
              "      <td>1.48</td>\n",
              "      <td>0.49</td>\n",
              "    </tr>\n",
              "    <tr>\n",
              "      <th>E</th>\n",
              "      <td>0.62</td>\n",
              "      <td>0.26</td>\n",
              "      <td>1.56</td>\n",
              "      <td>1.77</td>\n",
              "      <td>1.84</td>\n",
              "      <td>0.20</td>\n",
              "      <td>0.60</td>\n",
              "      <td>0.88</td>\n",
              "      <td>1.51</td>\n",
              "      <td>0.52</td>\n",
              "    </tr>\n",
              "    <tr>\n",
              "      <th>F</th>\n",
              "      <td>1.21</td>\n",
              "      <td>1.72</td>\n",
              "      <td>2.24</td>\n",
              "      <td>1.08</td>\n",
              "      <td>0.99</td>\n",
              "      <td>1.46</td>\n",
              "      <td>1.30</td>\n",
              "      <td>1.55</td>\n",
              "      <td>0.24</td>\n",
              "      <td>1.43</td>\n",
              "    </tr>\n",
              "    <tr>\n",
              "      <th>G</th>\n",
              "      <td>1.42</td>\n",
              "      <td>1.94</td>\n",
              "      <td>2.41</td>\n",
              "      <td>1.14</td>\n",
              "      <td>1.02</td>\n",
              "      <td>1.68</td>\n",
              "      <td>1.50</td>\n",
              "      <td>1.74</td>\n",
              "      <td>0.36</td>\n",
              "      <td>1.64</td>\n",
              "    </tr>\n",
              "    <tr>\n",
              "      <th>H</th>\n",
              "      <td>0.41</td>\n",
              "      <td>0.23</td>\n",
              "      <td>1.19</td>\n",
              "      <td>1.55</td>\n",
              "      <td>1.64</td>\n",
              "      <td>0.54</td>\n",
              "      <td>0.34</td>\n",
              "      <td>0.53</td>\n",
              "      <td>1.58</td>\n",
              "      <td>0.21</td>\n",
              "    </tr>\n",
              "    <tr>\n",
              "      <th>I</th>\n",
              "      <td>0.56</td>\n",
              "      <td>0.84</td>\n",
              "      <td>0.66</td>\n",
              "      <td>1.18</td>\n",
              "      <td>1.31</td>\n",
              "      <td>1.14</td>\n",
              "      <td>0.50</td>\n",
              "      <td>0.13</td>\n",
              "      <td>1.74</td>\n",
              "      <td>0.49</td>\n",
              "    </tr>\n",
              "    <tr>\n",
              "      <th>J</th>\n",
              "      <td>0.26</td>\n",
              "      <td>0.38</td>\n",
              "      <td>1.31</td>\n",
              "      <td>1.42</td>\n",
              "      <td>1.50</td>\n",
              "      <td>0.46</td>\n",
              "      <td>0.24</td>\n",
              "      <td>0.56</td>\n",
              "      <td>1.37</td>\n",
              "      <td>0.20</td>\n",
              "    </tr>\n",
              "  </tbody>\n",
              "</table>\n",
              "</div>"
            ],
            "text/plain": [
              "    1    2    3    4    5    6    7    8    9    10\n",
              "A 1.08 1.47 0.58 1.00 1.16 1.74 1.05 0.73 2.01 1.09\n",
              "B 0.69 1.19 1.80 1.01 1.00 0.98 0.77 1.05 0.58 0.90\n",
              "C 0.25 0.53 1.01 1.28 1.38 0.76 0.16 0.26 1.51 0.11\n",
              "D 0.43 0.92 0.88 0.93 1.05 1.11 0.42 0.25 1.48 0.49\n",
              "E 0.62 0.26 1.56 1.77 1.84 0.20 0.60 0.88 1.51 0.52\n",
              "F 1.21 1.72 2.24 1.08 0.99 1.46 1.30 1.55 0.24 1.43\n",
              "G 1.42 1.94 2.41 1.14 1.02 1.68 1.50 1.74 0.36 1.64\n",
              "H 0.41 0.23 1.19 1.55 1.64 0.54 0.34 0.53 1.58 0.21\n",
              "I 0.56 0.84 0.66 1.18 1.31 1.14 0.50 0.13 1.74 0.49\n",
              "J 0.26 0.38 1.31 1.42 1.50 0.46 0.24 0.56 1.37 0.20"
            ]
          },
          "metadata": {
            "tags": []
          }
        }
      ]
    },
    {
      "cell_type": "markdown",
      "metadata": {
        "id": "YzQ0G1rMZoHD"
      },
      "source": [
        "Store a few additional parameters"
      ]
    },
    {
      "cell_type": "code",
      "metadata": {
        "id": "B0lOXLaPZnYG"
      },
      "source": [
        "#@markdown Some extra parameters/data\r\n",
        "# the number of drivers and riders\r\n",
        "num_drivers = len(drivers)\r\n",
        "num_riders = len(riders)\r\n",
        "num_rider_requests = riders_df[\"Request_in\"].sum()\r\n",
        "\r\n",
        "# the fare (per km)\r\n",
        "fare_per_km = 3.0\r\n",
        "\r\n",
        "# the share of revenues kept by drivers\r\n",
        "driver_share_revenue = 0.75\r\n",
        "\r\n",
        "# average speed of drivers (km per minute)\r\n",
        "avg_speed = 0.3"
      ],
      "execution_count": 6,
      "outputs": []
    },
    {
      "cell_type": "markdown",
      "metadata": {
        "id": "CouW7x7faiH8"
      },
      "source": [
        "_____\n",
        "# **Q1**"
      ]
    },
    {
      "cell_type": "markdown",
      "metadata": {
        "id": "Hjt4uhc4aiIC"
      },
      "source": [
        "##  Analyze the model created by the data scientist"
      ]
    },
    {
      "cell_type": "markdown",
      "metadata": {
        "id": "ERKCI8fNfSOn"
      },
      "source": [
        "Calculate the minimum distance to each rider, and the driver that achieves it. "
      ]
    },
    {
      "cell_type": "code",
      "metadata": {
        "colab": {
          "base_uri": "https://localhost:8080/",
          "height": 0
        },
        "id": "X50sVzdIaiIF",
        "outputId": "8dd500e8-da1b-4f5a-a296-1f26f1a32112"
      },
      "source": [
        "#@markdown Calculate the minimum distance to each rider, and the driver that achieves it.\n",
        "\n",
        "# make a copy of the dataframe\n",
        "ds_analyze = distances_df.copy()\n",
        "\n",
        "# the min distance\n",
        "ds_analyze[\"Min_distance\"] = ds_analyze.min(axis=1)\n",
        "\n",
        "# the driver achieving the min distance\n",
        "ds_analyze[\"Closest_driver\"] = ds_analyze.idxmin(axis=1)\n",
        "\n",
        "display(ds_analyze)"
      ],
      "execution_count": 7,
      "outputs": [
        {
          "output_type": "display_data",
          "data": {
            "text/html": [
              "<div>\n",
              "<style scoped>\n",
              "    .dataframe tbody tr th:only-of-type {\n",
              "        vertical-align: middle;\n",
              "    }\n",
              "\n",
              "    .dataframe tbody tr th {\n",
              "        vertical-align: top;\n",
              "    }\n",
              "\n",
              "    .dataframe thead th {\n",
              "        text-align: right;\n",
              "    }\n",
              "</style>\n",
              "<table border=\"1\" class=\"dataframe\">\n",
              "  <thead>\n",
              "    <tr style=\"text-align: right;\">\n",
              "      <th></th>\n",
              "      <th>1</th>\n",
              "      <th>2</th>\n",
              "      <th>3</th>\n",
              "      <th>4</th>\n",
              "      <th>5</th>\n",
              "      <th>6</th>\n",
              "      <th>7</th>\n",
              "      <th>8</th>\n",
              "      <th>9</th>\n",
              "      <th>10</th>\n",
              "      <th>Min_distance</th>\n",
              "      <th>Closest_driver</th>\n",
              "    </tr>\n",
              "  </thead>\n",
              "  <tbody>\n",
              "    <tr>\n",
              "      <th>A</th>\n",
              "      <td>1.08</td>\n",
              "      <td>1.47</td>\n",
              "      <td>0.58</td>\n",
              "      <td>1.00</td>\n",
              "      <td>1.16</td>\n",
              "      <td>1.74</td>\n",
              "      <td>1.05</td>\n",
              "      <td>0.73</td>\n",
              "      <td>2.01</td>\n",
              "      <td>1.09</td>\n",
              "      <td>0.58</td>\n",
              "      <td>3</td>\n",
              "    </tr>\n",
              "    <tr>\n",
              "      <th>B</th>\n",
              "      <td>0.69</td>\n",
              "      <td>1.19</td>\n",
              "      <td>1.80</td>\n",
              "      <td>1.01</td>\n",
              "      <td>1.00</td>\n",
              "      <td>0.98</td>\n",
              "      <td>0.77</td>\n",
              "      <td>1.05</td>\n",
              "      <td>0.58</td>\n",
              "      <td>0.90</td>\n",
              "      <td>0.58</td>\n",
              "      <td>9</td>\n",
              "    </tr>\n",
              "    <tr>\n",
              "      <th>C</th>\n",
              "      <td>0.25</td>\n",
              "      <td>0.53</td>\n",
              "      <td>1.01</td>\n",
              "      <td>1.28</td>\n",
              "      <td>1.38</td>\n",
              "      <td>0.76</td>\n",
              "      <td>0.16</td>\n",
              "      <td>0.26</td>\n",
              "      <td>1.51</td>\n",
              "      <td>0.11</td>\n",
              "      <td>0.11</td>\n",
              "      <td>10</td>\n",
              "    </tr>\n",
              "    <tr>\n",
              "      <th>D</th>\n",
              "      <td>0.43</td>\n",
              "      <td>0.92</td>\n",
              "      <td>0.88</td>\n",
              "      <td>0.93</td>\n",
              "      <td>1.05</td>\n",
              "      <td>1.11</td>\n",
              "      <td>0.42</td>\n",
              "      <td>0.25</td>\n",
              "      <td>1.48</td>\n",
              "      <td>0.49</td>\n",
              "      <td>0.25</td>\n",
              "      <td>8</td>\n",
              "    </tr>\n",
              "    <tr>\n",
              "      <th>E</th>\n",
              "      <td>0.62</td>\n",
              "      <td>0.26</td>\n",
              "      <td>1.56</td>\n",
              "      <td>1.77</td>\n",
              "      <td>1.84</td>\n",
              "      <td>0.20</td>\n",
              "      <td>0.60</td>\n",
              "      <td>0.88</td>\n",
              "      <td>1.51</td>\n",
              "      <td>0.52</td>\n",
              "      <td>0.20</td>\n",
              "      <td>6</td>\n",
              "    </tr>\n",
              "    <tr>\n",
              "      <th>F</th>\n",
              "      <td>1.21</td>\n",
              "      <td>1.72</td>\n",
              "      <td>2.24</td>\n",
              "      <td>1.08</td>\n",
              "      <td>0.99</td>\n",
              "      <td>1.46</td>\n",
              "      <td>1.30</td>\n",
              "      <td>1.55</td>\n",
              "      <td>0.24</td>\n",
              "      <td>1.43</td>\n",
              "      <td>0.24</td>\n",
              "      <td>9</td>\n",
              "    </tr>\n",
              "    <tr>\n",
              "      <th>G</th>\n",
              "      <td>1.42</td>\n",
              "      <td>1.94</td>\n",
              "      <td>2.41</td>\n",
              "      <td>1.14</td>\n",
              "      <td>1.02</td>\n",
              "      <td>1.68</td>\n",
              "      <td>1.50</td>\n",
              "      <td>1.74</td>\n",
              "      <td>0.36</td>\n",
              "      <td>1.64</td>\n",
              "      <td>0.36</td>\n",
              "      <td>9</td>\n",
              "    </tr>\n",
              "    <tr>\n",
              "      <th>H</th>\n",
              "      <td>0.41</td>\n",
              "      <td>0.23</td>\n",
              "      <td>1.19</td>\n",
              "      <td>1.55</td>\n",
              "      <td>1.64</td>\n",
              "      <td>0.54</td>\n",
              "      <td>0.34</td>\n",
              "      <td>0.53</td>\n",
              "      <td>1.58</td>\n",
              "      <td>0.21</td>\n",
              "      <td>0.21</td>\n",
              "      <td>10</td>\n",
              "    </tr>\n",
              "    <tr>\n",
              "      <th>I</th>\n",
              "      <td>0.56</td>\n",
              "      <td>0.84</td>\n",
              "      <td>0.66</td>\n",
              "      <td>1.18</td>\n",
              "      <td>1.31</td>\n",
              "      <td>1.14</td>\n",
              "      <td>0.50</td>\n",
              "      <td>0.13</td>\n",
              "      <td>1.74</td>\n",
              "      <td>0.49</td>\n",
              "      <td>0.13</td>\n",
              "      <td>8</td>\n",
              "    </tr>\n",
              "    <tr>\n",
              "      <th>J</th>\n",
              "      <td>0.26</td>\n",
              "      <td>0.38</td>\n",
              "      <td>1.31</td>\n",
              "      <td>1.42</td>\n",
              "      <td>1.50</td>\n",
              "      <td>0.46</td>\n",
              "      <td>0.24</td>\n",
              "      <td>0.56</td>\n",
              "      <td>1.37</td>\n",
              "      <td>0.20</td>\n",
              "      <td>0.20</td>\n",
              "      <td>10</td>\n",
              "    </tr>\n",
              "  </tbody>\n",
              "</table>\n",
              "</div>"
            ],
            "text/plain": [
              "     1    2    3    4    5  ...    8    9   10  Min_distance  Closest_driver\n",
              "A 1.08 1.47 0.58 1.00 1.16  ... 0.73 2.01 1.09          0.58               3\n",
              "B 0.69 1.19 1.80 1.01 1.00  ... 1.05 0.58 0.90          0.58               9\n",
              "C 0.25 0.53 1.01 1.28 1.38  ... 0.26 1.51 0.11          0.11              10\n",
              "D 0.43 0.92 0.88 0.93 1.05  ... 0.25 1.48 0.49          0.25               8\n",
              "E 0.62 0.26 1.56 1.77 1.84  ... 0.88 1.51 0.52          0.20               6\n",
              "F 1.21 1.72 2.24 1.08 0.99  ... 1.55 0.24 1.43          0.24               9\n",
              "G 1.42 1.94 2.41 1.14 1.02  ... 1.74 0.36 1.64          0.36               9\n",
              "H 0.41 0.23 1.19 1.55 1.64  ... 0.53 1.58 0.21          0.21              10\n",
              "I 0.56 0.84 0.66 1.18 1.31  ... 0.13 1.74 0.49          0.13               8\n",
              "J 0.26 0.38 1.31 1.42 1.50  ... 0.56 1.37 0.20          0.20              10\n",
              "\n",
              "[10 rows x 12 columns]"
            ]
          },
          "metadata": {
            "tags": []
          }
        }
      ]
    },
    {
      "cell_type": "markdown",
      "metadata": {
        "id": "vJEcfyAQgxN4"
      },
      "source": [
        "Now determine whether the data scientist is matching according to the shortest distance, on a first-come, first-served basis (i.e., first A is matched, then B is matched, etc.)"
      ]
    },
    {
      "cell_type": "code",
      "metadata": {
        "colab": {
          "base_uri": "https://localhost:8080/"
        },
        "id": "Z4mstcjtgwjM",
        "outputId": "62944981-8e60-43f4-9b17-07f2e6d88566"
      },
      "source": [
        "#@markdown Check if the matching is done first-come, first-served according to minimum distance\r\n",
        "remaining_drivers = drivers.copy()\r\n",
        "\r\n",
        "for r in riders:\r\n",
        "    if riders_df[\"Request_in\"][r]==1 :\r\n",
        "        print(\"\\nRider {}. Available drivers and times: \".format(r))\r\n",
        "        print(remaining_drivers)\r\n",
        "\r\n",
        "        shortest_time = np.min(ds_analyze.loc[r,remaining_drivers])\r\n",
        "        best_driver = remaining_drivers[np.argmin(ds_analyze.loc[r,remaining_drivers])]\r\n",
        "\r\n",
        "        print(\"Shortest time: {:.2f} (min)\".format(shortest_time))\r\n",
        "        print(\"Best match:    {}\".format(best_driver))\r\n",
        "\r\n",
        "        if ds_match_df[best_driver][r] == 1:\r\n",
        "            print(\"This is the same as in the data scientist's match!\")\r\n",
        "        else:\r\n",
        "            print(\"This is different from the data scientist's match!\")\r\n",
        "\r\n",
        "        remaining_drivers.remove(best_driver)"
      ],
      "execution_count": 8,
      "outputs": [
        {
          "output_type": "stream",
          "text": [
            "\n",
            "Rider A. Available drivers and times: \n",
            "[1, 2, 3, 4, 5, 6, 7, 8, 9, 10]\n",
            "Shortest time: 0.58 (min)\n",
            "Best match:    3\n",
            "This is the same as in the data scientist's match!\n",
            "\n",
            "Rider B. Available drivers and times: \n",
            "[1, 2, 4, 5, 6, 7, 8, 9, 10]\n",
            "Shortest time: 0.58 (min)\n",
            "Best match:    9\n",
            "This is the same as in the data scientist's match!\n",
            "\n",
            "Rider C. Available drivers and times: \n",
            "[1, 2, 4, 5, 6, 7, 8, 10]\n",
            "Shortest time: 0.11 (min)\n",
            "Best match:    10\n",
            "This is the same as in the data scientist's match!\n",
            "\n",
            "Rider D. Available drivers and times: \n",
            "[1, 2, 4, 5, 6, 7, 8]\n",
            "Shortest time: 0.25 (min)\n",
            "Best match:    8\n",
            "This is the same as in the data scientist's match!\n",
            "\n",
            "Rider E. Available drivers and times: \n",
            "[1, 2, 4, 5, 6, 7]\n",
            "Shortest time: 0.20 (min)\n",
            "Best match:    6\n",
            "This is the same as in the data scientist's match!\n",
            "\n",
            "Rider F. Available drivers and times: \n",
            "[1, 2, 4, 5, 7]\n",
            "Shortest time: 0.99 (min)\n",
            "Best match:    5\n",
            "This is the same as in the data scientist's match!\n",
            "\n",
            "Rider G. Available drivers and times: \n",
            "[1, 2, 4, 7]\n",
            "Shortest time: 1.14 (min)\n",
            "Best match:    4\n",
            "This is the same as in the data scientist's match!\n",
            "\n",
            "Rider H. Available drivers and times: \n",
            "[1, 2, 7]\n",
            "Shortest time: 0.23 (min)\n",
            "Best match:    2\n",
            "This is the same as in the data scientist's match!\n",
            "\n",
            "Rider I. Available drivers and times: \n",
            "[1, 7]\n",
            "Shortest time: 0.50 (min)\n",
            "Best match:    7\n",
            "This is the same as in the data scientist's match!\n",
            "\n",
            "Rider J. Available drivers and times: \n",
            "[1]\n",
            "Shortest time: 0.26 (min)\n",
            "Best match:    1\n",
            "This is the same as in the data scientist's match!\n"
          ],
          "name": "stdout"
        }
      ]
    },
    {
      "cell_type": "markdown",
      "metadata": {
        "id": "d0-8UAlNnLWn"
      },
      "source": [
        "Calculating the desired stats: average waiting time for customers, average income for drivers, platform revenue."
      ]
    },
    {
      "cell_type": "code",
      "metadata": {
        "colab": {
          "base_uri": "https://localhost:8080/"
        },
        "cellView": "form",
        "id": "KVmaQbSsnRuE",
        "outputId": "d0512541-1f52-4b7e-ca6e-a9b3b5705551"
      },
      "source": [
        "#@markdown Calculate average waiting time, average income, revenue\r\n",
        "\r\n",
        "# average waiting time\r\n",
        "average_waiting = sum( ds_match_df[d][r]*distances_df[d][r] for d in drivers \\\r\n",
        "                      for r in riders ) / (avg_speed*riders_df[\"Request_in\"].sum())\r\n",
        "print(\"{:<25s} : {:.2f} (min)\".format(\"Average waiting time\", average_waiting))\r\n",
        "\r\n",
        "# average income drivers\r\n",
        "total_revenue = sum( ds_match_df[d][r]*riders_df[\"Distance_to_destination\"][r] for d in drivers \\\r\n",
        "                      for r in riders ) * fare_per_km\r\n",
        "\r\n",
        "average_income =  total_revenue * driver_share_revenue / num_drivers\r\n",
        "print(\"{:<25s} : {:.2f} ($)\".format(\"Average income\",average_income))\r\n",
        "\r\n",
        "# platform revenue\r\n",
        "platf_revenue =  total_revenue * (1-driver_share_revenue)\r\n",
        "print(\"{:<25s} : {:.2f} ($)\".format(\"Platform revenue\",platf_revenue))\r\n"
      ],
      "execution_count": 9,
      "outputs": [
        {
          "output_type": "stream",
          "text": [
            "Average waiting time      : 1.61 (min)\n",
            "Average income            : 3.60 ($)\n",
            "Platform revenue          : 12.00 ($)\n"
          ],
          "name": "stdout"
        }
      ]
    },
    {
      "cell_type": "markdown",
      "metadata": {
        "id": "P6YgVPTLaiIP"
      },
      "source": [
        "## A visualization of the matching"
      ]
    },
    {
      "cell_type": "code",
      "metadata": {
        "colab": {
          "base_uri": "https://localhost:8080/",
          "height": 0
        },
        "id": "CLwsEGf1aiIP",
        "cellView": "form",
        "outputId": "f3792078-b5b6-441c-d89a-3b964d1df2d8"
      },
      "source": [
        "#@title Define a function to plot the assignment\r\n",
        "def plot_assignment(assignment):\r\n",
        "\r\n",
        "    # first plot the assignment\r\n",
        "    ax = plt.figure(figsize=(15,8))\r\n",
        "\r\n",
        "    # plot riders and annotate\r\n",
        "    tol = 0.02\r\n",
        "    plt.scatter( riders_df[\"Location_X\"], riders_df[\"Location_Y\"] )\r\n",
        "    for r in riders:\r\n",
        "        plt.annotate(r, (riders_df[\"Location_X\"][r]+tol, \\\r\n",
        "                         riders_df[\"Location_Y\"][r]+tol))\r\n",
        "\r\n",
        "    # plot drivers and annotate\r\n",
        "    plt.scatter( drivers_df[\"Location_X\"], drivers_df[\"Location_Y\"], marker=\"s\" )\r\n",
        "    for d in drivers:\r\n",
        "        plt.annotate(d, (drivers_df[\"Location_X\"][d]+tol, \\\r\n",
        "                         drivers_df[\"Location_Y\"][d]+tol))\r\n",
        "\r\n",
        "    ax.legend(labels = ['Riders','Drivers'], loc = 'upper right', \\\r\n",
        "              bbox_to_anchor=(0.8, 0.12), ncol=2)\r\n",
        "\r\n",
        "    for r in riders:\r\n",
        "        \r\n",
        "        # get the numeric indices for the column where this is 1\r\n",
        "        idx = np.where(assignment.loc[r,:]==1)[0]\r\n",
        "\r\n",
        "        if idx.size :\r\n",
        "            # the size is non-empty\r\n",
        "            d = drivers[idx[0]]\r\n",
        "            plt.plot( [drivers_df[\"Location_X\"][d], riders_df[\"Location_X\"][r] ],\\\r\n",
        "                     [drivers_df[\"Location_Y\"][d], riders_df[\"Location_Y\"][r] ], \\\r\n",
        "                     color='gray')\r\n",
        "    plt.show()\r\n",
        "\r\n",
        "#@markdown Use the function to plot the data scientist's assignment\r\n",
        "plot_assignment(ds_match_df)"
      ],
      "execution_count": 10,
      "outputs": [
        {
          "output_type": "display_data",
          "data": {
            "image/png": "[encoded data removed]",
            "text/plain": [
              "<Figure size 1080x576 with 1 Axes>"
            ]
          },
          "metadata": {
            "tags": [],
            "needs_background": "light"
          }
        }
      ]
    },
    {
      "cell_type": "markdown",
      "metadata": {
        "id": "k1QHQjt6fE-x"
      },
      "source": [
        "_____\n",
        "# **Q2**"
      ]
    },
    {
      "cell_type": "markdown",
      "metadata": {
        "id": "qMyua9D_fE-4"
      },
      "source": [
        "##  Create an empty model"
      ]
    },
    {
      "cell_type": "code",
      "metadata": {
        "scrolled": true,
        "colab": {
          "base_uri": "https://localhost:8080/"
        },
        "id": "IfgvlNEbfE-5",
        "outputId": "76dac066-ee24-4f9f-995c-63fdbcb30c13"
      },
      "source": [
        "# Gurobi model\n",
        "Uber_Model = Model(\"Uber Assignment and Pricing\")"
      ],
      "execution_count": 11,
      "outputs": [
        {
          "output_type": "stream",
          "text": [
            "Restricted license - for non-production use only - expires 2022-01-13\n"
          ],
          "name": "stdout"
        }
      ]
    },
    {
      "cell_type": "markdown",
      "metadata": {
        "id": "tncvo53AfE-6"
      },
      "source": [
        "## Define the Decision Variables\n",
        "In this problem, we would like to create a decision variable for every pair of (driver, rider). This is done easily using Gurobi's ``addVars`` method."
      ]
    },
    {
      "cell_type": "code",
      "metadata": {
        "id": "gdOXk0XvfE-7"
      },
      "source": [
        "# decision variables for whether to assign a driver to a rider\n",
        "assigned = Uber_Model.addVars( drivers, riders, name = \"Assign\", vtype=GRB.BINARY)"
      ],
      "execution_count": 12,
      "outputs": []
    },
    {
      "cell_type": "markdown",
      "metadata": {
        "id": "WQsvouQbfE-8"
      },
      "source": [
        "## Calculate and add the objective function"
      ]
    },
    {
      "cell_type": "code",
      "metadata": {
        "id": "a5SfVXHyfE-8"
      },
      "source": [
        "# Calculate the waiting time for each rider\n",
        "\n",
        "waiting_times = {}\n",
        "for r in riders:\n",
        "    waiting_times[r] = quicksum( assigned[d,r]*distances_df[d][r] for d in drivers) / avg_speed\n",
        "\n",
        "# average waiting time\n",
        "average_waiting = quicksum( waiting_times[r] for r in riders ) / num_rider_requests\n",
        "\n",
        "# objective: maximize the total coverage\n",
        "Uber_Model.setObjective(average_waiting, GRB.MINIMIZE)"
      ],
      "execution_count": 13,
      "outputs": []
    },
    {
      "cell_type": "markdown",
      "metadata": {
        "id": "x-3dwGEdfE-9"
      },
      "source": [
        "## Add All Constraints"
      ]
    },
    {
      "cell_type": "code",
      "metadata": {
        "id": "CTk4aiZzfE--"
      },
      "source": [
        "# each rider requesting service is matched\n",
        "for r in riders:\n",
        "    Uber_Model.addConstr( quicksum(assigned[d,r] for d in drivers) == \\\n",
        "                         riders_df[\"Request_in\"][r], \"Rider_matched\")\n",
        "\n",
        "# each available driver assigned at most one rider\n",
        "for d in drivers:\n",
        "    Uber_Model.addConstr( quicksum(assigned[d,r] for r in riders) <= 1)"
      ],
      "execution_count": 14,
      "outputs": []
    },
    {
      "cell_type": "markdown",
      "metadata": {
        "id": "Qf9ofTDxfE--"
      },
      "source": [
        "## Inspect the model\n"
      ]
    },
    {
      "cell_type": "markdown",
      "metadata": {
        "id": "EwG5u0DVfE-_"
      },
      "source": [
        "You can actually write the model out, which is useful for inspection. In this case the LP file may become large, so the code is commented out below. Feel free to un-comment the second line to see the output."
      ]
    },
    {
      "cell_type": "code",
      "metadata": {
        "id": "Nj7ikHNxfE-_",
        "cellView": "form"
      },
      "source": [
        "#@markdown Feel free to uncomment the next lines if you want to see the model printed\r\n",
        "# Uber_Model.write(\"Uber_Model.lp\")    # write the model to a file with extension \".lp\"\r\n",
        "# f = open(\"Uber_Model.lp\", 'r')    # open a file handle\r\n",
        "# print( f.read() )           # read the contents and print them\r\n",
        "# f.close()              # close the file handle"
      ],
      "execution_count": 15,
      "outputs": []
    },
    {
      "cell_type": "markdown",
      "metadata": {
        "id": "2sU6C1aJfE_A"
      },
      "source": [
        "## Solve the model"
      ]
    },
    {
      "cell_type": "code",
      "metadata": {
        "scrolled": true,
        "colab": {
          "base_uri": "https://localhost:8080/"
        },
        "cellView": "form",
        "id": "OpSPL57TfE_A",
        "outputId": "fd185dbe-f7a2-48bc-fb27-ca38205e49ba"
      },
      "source": [
        "#@markdown Select whether to run the [Gurobi](https://www.gurobi.com/) optimization algorithms silently (no output details)\n",
        "run_silently = True #@param {type:\"boolean\"}\n",
        "\n",
        "if run_silently:\n",
        "    Uber_Model.setParam('OutputFlag',0)\n",
        "else:\n",
        "    Uber_Model.setParam('OutputFlag',1)\n",
        "\n",
        "Uber_Model.optimize()\n",
        "print('\\nSolved the optimization problem...')"
      ],
      "execution_count": 16,
      "outputs": [
        {
          "output_type": "stream",
          "text": [
            "\n",
            "Solved the optimization problem...\n"
          ],
          "name": "stdout"
        }
      ]
    },
    {
      "cell_type": "markdown",
      "metadata": {
        "id": "xBzxJ5bPfE_B"
      },
      "source": [
        "## Print and visualize the optimal solution"
      ]
    },
    {
      "cell_type": "code",
      "metadata": {
        "colab": {
          "base_uri": "https://localhost:8080/"
        },
        "id": "mS4y1tSXfE_C",
        "cellView": "form",
        "outputId": "ca7699af-8f5e-4242-de1b-ac10e5f38f76"
      },
      "source": [
        "#@title Define a function to print and visualize the assignment and its performance\r\n",
        "def print_and_visualize(model, assignment_sol, print_sol_numbers=True,\\\r\n",
        "                        plot_the_assignment=False):\r\n",
        "\r\n",
        "    # print the schedule as a pandas dataframe\r\n",
        "    pd.options.display.max_rows = 25\r\n",
        "    df_assignment_sol = pd.DataFrame(dict( [ (d, [np.int(assignment_sol[d,r].X) for r in riders])\\\r\n",
        "                                   for d in drivers]), index=riders)\r\n",
        "    # display(df_assignment_sol)\r\n",
        "    if print_sol_numbers:\r\n",
        "        print(\"=\"*100)\r\n",
        "        print(\"\\nAssignment\")\r\n",
        "        print(\"{:<6s} : {:<s}\".format(\"Rider\",\"Driver\"))\r\n",
        "\r\n",
        "        for r in riders:\r\n",
        "            if riders_df[\"Request_in\"][r] :\r\n",
        "                matching_d = [d for d in drivers if df_assignment_sol[d][r]==1]\r\n",
        "                print(\"{:<6s} : {:<d}\".format(r, matching_d[0]))\r\n",
        "            else:\r\n",
        "                print(\"{:<6s} : {:<s}\".format(r,\"No request made.\"))\r\n",
        "\r\n",
        "    # plot the assignment\r\n",
        "    if plot_the_assignment :\r\n",
        "        plot_assignment(df_assignment_sol)\r\n",
        "\r\n",
        "    print(\"=\"*100)\r\n",
        "    print(\"\\nWaiting times\")\r\n",
        "    print(\"{:<6s} : {:<15s}\".format(\"Rider\",\"Wait (min)\"))\r\n",
        "\r\n",
        "    for r in riders:\r\n",
        "        if riders_df[\"Request_in\"][r] :\r\n",
        "            print(\"{:<6s} : {:<5.2f}\".\\\r\n",
        "                  format(r,sum( df_assignment_sol[d][r]*distances_df[d][r] \\\r\n",
        "                                    for d in drivers) / avg_speed))\r\n",
        "        else:\r\n",
        "            print(\"{:<6s} : {:<s}\".format(r,\"No request made.\"))\r\n",
        "\r\n",
        "    print(\"\\nAverage wait time : {:.2f} (min)\\n\".\\\r\n",
        "          format(sum(df_assignment_sol[d][r]*distances_df[d][r] for d in drivers \\\r\n",
        "                     for r in riders) / (avg_speed*num_rider_requests)))\r\n",
        "    \r\n",
        "    print(\"=\"*100)\r\n",
        "    print(\"\\nDriver incomes\")\r\n",
        "    print(\"{:<6s} : {:<15s}\".format(\"Driver\",\"Income ($)\"))\r\n",
        "\r\n",
        "    for d in drivers:\r\n",
        "        print(\"{:<6d} : {:<5.2f}\".\\\r\n",
        "              format(d,sum( df_assignment_sol[d][r]*riders_df[\"Distance_to_destination\"][r] \\\r\n",
        "                           for r in riders) * fare_per_km * driver_share_revenue))\r\n",
        "\r\n",
        "    print(\"\\nAverage income : {:.2f} ($)\\n\".\\\r\n",
        "          format(sum( df_assignment_sol[d][r]*riders_df[\"Distance_to_destination\"][r] for d in drivers \\\r\n",
        "                      for r in riders)*fare_per_km*driver_share_revenue/num_drivers))\r\n",
        "\r\n",
        "#@markdown Use the function to print the results\r\n",
        "#@markdown (to plot the assignment, change the third argument)\r\n",
        "print_and_visualize(Uber_Model, assigned, print_sol_numbers=True, \\\r\n",
        "                    plot_the_assignment=False)\r\n",
        "\r\n"
      ],
      "execution_count": 17,
      "outputs": [
        {
          "output_type": "stream",
          "text": [
            "====================================================================================================\n",
            "\n",
            "Assignment\n",
            "Rider  : Driver\n",
            "A      : 3\n",
            "B      : 4\n",
            "C      : 10\n",
            "D      : 1\n",
            "E      : 6\n",
            "F      : 9\n",
            "G      : 5\n",
            "H      : 2\n",
            "I      : 8\n",
            "J      : 7\n",
            "====================================================================================================\n",
            "\n",
            "Waiting times\n",
            "Rider  : Wait (min)     \n",
            "A      : 1.92 \n",
            "B      : 3.38 \n",
            "C      : 0.38 \n",
            "D      : 1.44 \n",
            "E      : 0.65 \n",
            "F      : 0.81 \n",
            "G      : 3.42 \n",
            "H      : 0.78 \n",
            "I      : 0.43 \n",
            "J      : 0.80 \n",
            "\n",
            "Average wait time : 1.40 (min)\n",
            "\n",
            "====================================================================================================\n",
            "\n",
            "Driver incomes\n",
            "Driver : Income ($)     \n",
            "1      : 2.12 \n",
            "2      : 5.44 \n",
            "3      : 4.15 \n",
            "4      : 4.77 \n",
            "5      : 1.26 \n",
            "6      : 3.92 \n",
            "7      : 4.76 \n",
            "8      : 2.03 \n",
            "9      : 4.33 \n",
            "10     : 3.22 \n",
            "\n",
            "Average income : 3.60 ($)\n",
            "\n"
          ],
          "name": "stdout"
        }
      ]
    },
    {
      "cell_type": "markdown",
      "metadata": {
        "id": "mzpycSAYfE_E"
      },
      "source": [
        "## Create a few utility functions that will help subsequently\r\n",
        "\r\n",
        "To help with subsequent parts of the problem, we also add all the steps above inside a **function** that returns a generic model like the one we created in **Q2**, together with all the decision variables and the waiting times for all riders."
      ]
    },
    {
      "cell_type": "code",
      "metadata": {
        "id": "b0LuDBtafE_E",
        "cellView": "form"
      },
      "source": [
        "#@title A function that generates a model like the one in **Q2**\r\n",
        "def create_model_like_in_Q2():\r\n",
        "    # Gurobi model\r\n",
        "    Uber_Model = Model(\"Uber Assignment and Pricing\")\r\n",
        "\r\n",
        "    # decision variables for how much to ship from each factory to each customization center\r\n",
        "    assigned = Uber_Model.addVars( drivers, riders, name = \"Assign\", vtype=GRB.BINARY)\r\n",
        "\r\n",
        "    # Calculate the waiting time for each rider\r\n",
        "\r\n",
        "    waiting_times = {}\r\n",
        "    for r in riders:\r\n",
        "        waiting_times[r] = quicksum( assigned[d,r]*distances_df[d][r] for d in drivers) / avg_speed\r\n",
        "\r\n",
        "    # average waiting time\r\n",
        "    average_waiting = quicksum( waiting_times[r] for r in riders ) / num_rider_requests\r\n",
        "\r\n",
        "    # objective: maximize the total coverage\r\n",
        "    Uber_Model.setObjective(average_waiting, GRB.MINIMIZE)\r\n",
        "\r\n",
        "    # each rider requesting service is matched\r\n",
        "    matched_riders = {}\r\n",
        "    for r in riders:\r\n",
        "        matched_riders[r] = Uber_Model.addConstr( quicksum(assigned[d,r] for d in drivers) == \\\r\n",
        "                            riders_df[\"Request_in\"][r], \"Rider_matched\")\r\n",
        "\r\n",
        "    # each available driver assigned at most one rider\r\n",
        "    for d in drivers:\r\n",
        "        Uber_Model.addConstr( quicksum(assigned[d,r] for r in riders) <= 1)\r\n",
        "\r\n",
        "    # return the model, the decision variables, the individual coverage calculations\r\n",
        "    return Uber_Model,  assigned, waiting_times, matched_riders"
      ],
      "execution_count": 18,
      "outputs": []
    },
    {
      "cell_type": "markdown",
      "metadata": {
        "id": "C2EkvTp04VS0"
      },
      "source": [
        "______\r\n",
        "# **Q3**\r\n",
        "Before running this section, make sure you have run all the previous sections of the Colab file."
      ]
    },
    {
      "cell_type": "markdown",
      "metadata": {
        "id": "nHukbU3U4VTM"
      },
      "source": [
        "Re-recreate an identical model to the one from **Q2** and store the expression for model, the decision variables and the waiting times."
      ]
    },
    {
      "cell_type": "code",
      "metadata": {
        "id": "e211ipXT4VTM"
      },
      "source": [
        "#@markdown Create a model like the one in Q2 using the function \r\n",
        "Uber_Model,  assigned, waiting_times, matched_riders = create_model_like_in_Q2()"
      ],
      "execution_count": 19,
      "outputs": []
    },
    {
      "cell_type": "markdown",
      "metadata": {
        "id": "dL4Q9sMA4VTQ"
      },
      "source": [
        "Add a new decision variable for the maximum waiting time incurrent by any rider."
      ]
    },
    {
      "cell_type": "code",
      "metadata": {
        "id": "PepXH3n73DDX"
      },
      "source": [
        "#@markdown New decision variable for max wait time\r\n",
        "max_wait = Uber_Model.addVar(name=\"Max_wait\")"
      ],
      "execution_count": 20,
      "outputs": []
    },
    {
      "cell_type": "markdown",
      "metadata": {
        "id": "id7o5UIo30WC"
      },
      "source": [
        "Change the objective to minimize the maximum wait (the new variable)."
      ]
    },
    {
      "cell_type": "code",
      "metadata": {
        "id": "EtEXrwsG30oX"
      },
      "source": [
        "#@markdown Change the objective to minimize maximum wait\r\n",
        "Uber_Model.setObjective( max_wait, GRB.MINIMIZE )"
      ],
      "execution_count": 21,
      "outputs": []
    },
    {
      "cell_type": "markdown",
      "metadata": {
        "id": "aEVhpv9M3Mh_"
      },
      "source": [
        "Add constraints that the maximum wait is at least as large as the wait for any rider"
      ]
    },
    {
      "cell_type": "code",
      "metadata": {
        "id": "118nmyLM3TcX"
      },
      "source": [
        "#@markdown Add constraints that the max wait variable exceeds the wait of each customer\r\n",
        "for r in riders:\r\n",
        "    Uber_Model.addConstr( max_wait >= waiting_times[r], name = \"Max_exceeds\")"
      ],
      "execution_count": 22,
      "outputs": []
    },
    {
      "cell_type": "markdown",
      "metadata": {
        "id": "0NbjfrDE3kk1"
      },
      "source": [
        "Solve the model"
      ]
    },
    {
      "cell_type": "code",
      "metadata": {
        "colab": {
          "base_uri": "https://localhost:8080/"
        },
        "id": "kscVv7CW4VTQ",
        "cellView": "form",
        "outputId": "38ca9d3e-0c18-4fb8-c112-9e0245d04412"
      },
      "source": [
        "#@markdown Select whether to run the [Gurobi](https://www.gurobi.com/) optimization algorithms silently (no output details)\r\n",
        "run_silently = True #@param {type:\"boolean\"}\r\n",
        "\r\n",
        "if run_silently:\r\n",
        "    Uber_Model.setParam('OutputFlag',0)\r\n",
        "else:\r\n",
        "    Uber_Model.setParam('OutputFlag',1)\r\n",
        "\r\n",
        "Uber_Model.optimize()\r\n",
        "print('\\nSolved the optimization problem...')"
      ],
      "execution_count": 23,
      "outputs": [
        {
          "output_type": "stream",
          "text": [
            "\n",
            "Solved the optimization problem...\n"
          ],
          "name": "stdout"
        }
      ]
    },
    {
      "cell_type": "markdown",
      "metadata": {
        "id": "PWKO0l-S4VTR"
      },
      "source": [
        "Print the optimal solution."
      ]
    },
    {
      "cell_type": "code",
      "metadata": {
        "colab": {
          "base_uri": "https://localhost:8080/"
        },
        "id": "Z-6_vy-Z4VTR",
        "cellView": "form",
        "outputId": "1933053d-8438-4f21-b218-6911bd2dd3c0"
      },
      "source": [
        "#@markdown Use the function to print the results\r\n",
        "\r\n",
        "print(\"The smallest maximum wait achieved: {:.2f} (min)\".format(max_wait.X))\r\n",
        "\r\n",
        "print_and_visualize(Uber_Model, assigned, print_sol_numbers=True, \\\r\n",
        "                    plot_the_assignment=False)"
      ],
      "execution_count": 24,
      "outputs": [
        {
          "output_type": "stream",
          "text": [
            "The smallest maximum wait achieved: 3.29 (min)\n",
            "====================================================================================================\n",
            "\n",
            "Assignment\n",
            "Rider  : Driver\n",
            "A      : 3\n",
            "B      : 7\n",
            "C      : 1\n",
            "D      : 4\n",
            "E      : 2\n",
            "F      : 5\n",
            "G      : 9\n",
            "H      : 10\n",
            "I      : 8\n",
            "J      : 6\n",
            "====================================================================================================\n",
            "\n",
            "Waiting times\n",
            "Rider  : Wait (min)     \n",
            "A      : 1.92 \n",
            "B      : 2.57 \n",
            "C      : 0.82 \n",
            "D      : 3.09 \n",
            "E      : 0.88 \n",
            "F      : 3.29 \n",
            "G      : 1.20 \n",
            "H      : 0.70 \n",
            "I      : 0.43 \n",
            "J      : 1.53 \n",
            "\n",
            "Average wait time : 1.64 (min)\n",
            "\n",
            "====================================================================================================\n",
            "\n",
            "Driver incomes\n",
            "Driver : Income ($)     \n",
            "1      : 3.22 \n",
            "2      : 3.92 \n",
            "3      : 4.15 \n",
            "4      : 2.12 \n",
            "5      : 4.33 \n",
            "6      : 4.76 \n",
            "7      : 4.77 \n",
            "8      : 2.03 \n",
            "9      : 1.26 \n",
            "10     : 5.44 \n",
            "\n",
            "Average income : 3.60 ($)\n",
            "\n"
          ],
          "name": "stdout"
        }
      ]
    },
    {
      "cell_type": "markdown",
      "metadata": {
        "id": "4GfbZBhD8y18"
      },
      "source": [
        "### Re-optimize the average waiting time with a constraint on the maximum waiting time"
      ]
    },
    {
      "cell_type": "code",
      "metadata": {
        "id": "aYWRjEGN84Pm"
      },
      "source": [
        "# store the optimal value (smallest maximum waiting time)\r\n",
        "smallest_max_wait = max_wait.X\r\n",
        "\r\n",
        "# create a model like the one in Q1 using the function \r\n",
        "Uber_Model,  assigned, waiting_times, matched_riders = create_model_like_in_Q2()\r\n",
        "# add constraints that the wait for each rider should not exceed the max wait\r\n",
        "for r in riders:\r\n",
        "    Uber_Model.addConstr( waiting_times[r] <= smallest_max_wait, name = \"Max_wait\")"
      ],
      "execution_count": 25,
      "outputs": []
    },
    {
      "cell_type": "markdown",
      "metadata": {
        "id": "WlHFO1nF9rh5"
      },
      "source": [
        "Solve the model"
      ]
    },
    {
      "cell_type": "code",
      "metadata": {
        "colab": {
          "base_uri": "https://localhost:8080/"
        },
        "cellView": "form",
        "id": "Kdwxma6n9riN",
        "outputId": "a30b892d-26cd-4a0d-a76d-c4ad54bfd1fb"
      },
      "source": [
        "#@markdown Select whether to run the [Gurobi](https://www.gurobi.com/) optimization algorithms silently (no output details)\r\n",
        "run_silently = True #@param {type:\"boolean\"}\r\n",
        "\r\n",
        "if run_silently:\r\n",
        "    Uber_Model.setParam('OutputFlag',0)\r\n",
        "else:\r\n",
        "    Uber_Model.setParam('OutputFlag',1)\r\n",
        "\r\n",
        "Uber_Model.optimize()\r\n",
        "print('\\nSolved the optimization problem...')"
      ],
      "execution_count": 26,
      "outputs": [
        {
          "output_type": "stream",
          "text": [
            "\n",
            "Solved the optimization problem...\n"
          ],
          "name": "stdout"
        }
      ]
    },
    {
      "cell_type": "markdown",
      "metadata": {
        "id": "-rfxKX2d9riO"
      },
      "source": [
        "Print the optimal solution."
      ]
    },
    {
      "cell_type": "code",
      "metadata": {
        "colab": {
          "base_uri": "https://localhost:8080/"
        },
        "cellView": "form",
        "id": "i-o0lV5V9riP",
        "outputId": "725393b9-94cd-4cd8-d86a-17548d6a0aaf"
      },
      "source": [
        "#@markdown Use the function to print the results\r\n",
        "\r\n",
        "print_and_visualize(Uber_Model, assigned, print_sol_numbers=True, \\\r\n",
        "                    plot_the_assignment=False)"
      ],
      "execution_count": 27,
      "outputs": [
        {
          "output_type": "stream",
          "text": [
            "====================================================================================================\n",
            "\n",
            "Assignment\n",
            "Rider  : Driver\n",
            "A      : 3\n",
            "B      : 1\n",
            "C      : 10\n",
            "D      : 4\n",
            "E      : 6\n",
            "F      : 5\n",
            "G      : 9\n",
            "H      : 2\n",
            "I      : 8\n",
            "J      : 7\n",
            "====================================================================================================\n",
            "\n",
            "Waiting times\n",
            "Rider  : Wait (min)     \n",
            "A      : 1.92 \n",
            "B      : 2.29 \n",
            "C      : 0.38 \n",
            "D      : 3.09 \n",
            "E      : 0.65 \n",
            "F      : 3.29 \n",
            "G      : 1.20 \n",
            "H      : 0.78 \n",
            "I      : 0.43 \n",
            "J      : 0.80 \n",
            "\n",
            "Average wait time : 1.48 (min)\n",
            "\n",
            "====================================================================================================\n",
            "\n",
            "Driver incomes\n",
            "Driver : Income ($)     \n",
            "1      : 4.77 \n",
            "2      : 5.44 \n",
            "3      : 4.15 \n",
            "4      : 2.12 \n",
            "5      : 4.33 \n",
            "6      : 3.92 \n",
            "7      : 4.76 \n",
            "8      : 2.03 \n",
            "9      : 1.26 \n",
            "10     : 3.22 \n",
            "\n",
            "Average income : 3.60 ($)\n",
            "\n"
          ],
          "name": "stdout"
        }
      ]
    },
    {
      "cell_type": "markdown",
      "metadata": {
        "id": "0cJZeAkE-bAY"
      },
      "source": [
        "______\r\n",
        "# **Q4**\r\n",
        "Before running this section, make sure you have run all the previous sections of the Colab file."
      ]
    },
    {
      "cell_type": "markdown",
      "metadata": {
        "id": "FvqUMd7a--0T"
      },
      "source": [
        "Store a few new parameters relevant here."
      ]
    },
    {
      "cell_type": "code",
      "metadata": {
        "id": "xWWlgGvY-8Z7"
      },
      "source": [
        "# new parameters relevant here\r\n",
        "max_willingness_to_wait = 1.5"
      ],
      "execution_count": 28,
      "outputs": []
    },
    {
      "cell_type": "markdown",
      "metadata": {
        "id": "g77-jGtI-bAs"
      },
      "source": [
        "Re-recreate an identical model to the one from **Q2** and store the expression for model, the decision variables and the waiting times."
      ]
    },
    {
      "cell_type": "code",
      "metadata": {
        "id": "4MawURQR-bAs"
      },
      "source": [
        "#@markdown Create a model like the one in Q2 using the function \r\n",
        "Uber_Model,  assigned, waiting_times, matched_riders = create_model_like_in_Q2()"
      ],
      "execution_count": 29,
      "outputs": []
    },
    {
      "cell_type": "markdown",
      "metadata": {
        "id": "zHk3Mpe6-bAt"
      },
      "source": [
        "Add new binary decision variables for whether a rider request is successfully completed (which is the same as the waiting time incurred by the rider not exceeding the max willingness to wait)"
      ]
    },
    {
      "cell_type": "code",
      "metadata": {
        "id": "ooDiTx5L-bAt"
      },
      "source": [
        "#@markdown New decision variable for whether max wait exceeded\r\n",
        "request_completed = Uber_Model.addVars(riders, name=\"Request_completed\", \\\r\n",
        "                                      vtype=GRB.BINARY)"
      ],
      "execution_count": 30,
      "outputs": []
    },
    {
      "cell_type": "markdown",
      "metadata": {
        "id": "FoN3TA0f-bAu"
      },
      "source": [
        "Change the objective to maximize the number of bookings."
      ]
    },
    {
      "cell_type": "code",
      "metadata": {
        "id": "rNnPa7ge-bAu"
      },
      "source": [
        "#@markdown Change the objective to minimize maximum wait\r\n",
        "Uber_Model.setObjective( quicksum(request_completed[r] for r in riders), GRB.MAXIMIZE )"
      ],
      "execution_count": 31,
      "outputs": []
    },
    {
      "cell_type": "markdown",
      "metadata": {
        "id": "DucuWUc4-bAv"
      },
      "source": [
        "Add constraints that if a request from a rider is successfully completed, the wait time should not exceed the maximum willingness to wait)"
      ]
    },
    {
      "cell_type": "code",
      "metadata": {
        "id": "zP19Bg-3-bAv"
      },
      "source": [
        "#@markdown Add constraints that the wait time should not exceed max willingness to wait\r\n",
        "\r\n",
        "# store a very large value to use in the constraint\r\n",
        "huge_value = 100\r\n",
        "\r\n",
        "for r in riders:\r\n",
        "    Uber_Model.addConstr( waiting_times[r] <= \\\r\n",
        "                         request_completed[r]*max_willingness_to_wait + \\\r\n",
        "                         (1-request_completed[r])*huge_value )"
      ],
      "execution_count": 32,
      "outputs": []
    },
    {
      "cell_type": "code",
      "metadata": {
        "colab": {
          "base_uri": "https://localhost:8080/"
        },
        "id": "zmx_uKsjB15W",
        "outputId": "0e312de6-2d81-4779-d7ac-194d8a5dfb9f"
      },
      "source": [
        "#@markdown Feel free to uncomment the next lines if you want to see the model printed\r\n",
        "Uber_Model.write(\"Uber_Model.lp\")    # write the model to a file with extension \".lp\"\r\n",
        "f = open(\"Uber_Model.lp\", 'r')    # open a file handle\r\n",
        "print( f.read() )           # read the contents and print them\r\n",
        "f.close()              # close the file handle"
      ],
      "execution_count": 33,
      "outputs": [
        {
          "output_type": "stream",
          "text": [
            "Warning: linear constraint 0 and linear constraint 1 have the same name \"Rider_matched\"\n",
            "\\ Model Uber Assignment and Pricing\n",
            "\\ LP format - for model browsing. Use MPS format to capture full model detail.\n",
            "Maximize\n",
            "  Request_completed[A] + Request_completed[B] + Request_completed[C]\n",
            "   + Request_completed[D] + Request_completed[E] + Request_completed[F]\n",
            "   + Request_completed[G] + Request_completed[H] + Request_completed[I]\n",
            "   + Request_completed[J]\n",
            "Subject To\n",
            " Rider_matched: Assign[1,A] + Assign[2,A] + Assign[3,A] + Assign[4,A]\n",
            "   + Assign[5,A] + Assign[6,A] + Assign[7,A] + Assign[8,A] + Assign[9,A]\n",
            "   + Assign[10,A] = 1\n",
            " Rider_matched: Assign[1,B] + Assign[2,B] + Assign[3,B] + Assign[4,B]\n",
            "   + Assign[5,B] + Assign[6,B] + Assign[7,B] + Assign[8,B] + Assign[9,B]\n",
            "   + Assign[10,B] = 1\n",
            " Rider_matched: Assign[1,C] + Assign[2,C] + Assign[3,C] + Assign[4,C]\n",
            "   + Assign[5,C] + Assign[6,C] + Assign[7,C] + Assign[8,C] + Assign[9,C]\n",
            "   + Assign[10,C] = 1\n",
            " Rider_matched: Assign[1,D] + Assign[2,D] + Assign[3,D] + Assign[4,D]\n",
            "   + Assign[5,D] + Assign[6,D] + Assign[7,D] + Assign[8,D] + Assign[9,D]\n",
            "   + Assign[10,D] = 1\n",
            " Rider_matched: Assign[1,E] + Assign[2,E] + Assign[3,E] + Assign[4,E]\n",
            "   + Assign[5,E] + Assign[6,E] + Assign[7,E] + Assign[8,E] + Assign[9,E]\n",
            "   + Assign[10,E] = 1\n",
            " Rider_matched: Assign[1,F] + Assign[2,F] + Assign[3,F] + Assign[4,F]\n",
            "   + Assign[5,F] + Assign[6,F] + Assign[7,F] + Assign[8,F] + Assign[9,F]\n",
            "   + Assign[10,F] = 1\n",
            " Rider_matched: Assign[1,G] + Assign[2,G] + Assign[3,G] + Assign[4,G]\n",
            "   + Assign[5,G] + Assign[6,G] + Assign[7,G] + Assign[8,G] + Assign[9,G]\n",
            "   + Assign[10,G] = 1\n",
            " Rider_matched: Assign[1,H] + Assign[2,H] + Assign[3,H] + Assign[4,H]\n",
            "   + Assign[5,H] + Assign[6,H] + Assign[7,H] + Assign[8,H] + Assign[9,H]\n",
            "   + Assign[10,H] = 1\n",
            " Rider_matched: Assign[1,I] + Assign[2,I] + Assign[3,I] + Assign[4,I]\n",
            "   + Assign[5,I] + Assign[6,I] + Assign[7,I] + Assign[8,I] + Assign[9,I]\n",
            "   + Assign[10,I] = 1\n",
            " Rider_matched: Assign[1,J] + Assign[2,J] + Assign[3,J] + Assign[4,J]\n",
            "   + Assign[5,J] + Assign[6,J] + Assign[7,J] + Assign[8,J] + Assign[9,J]\n",
            "   + Assign[10,J] = 1\n",
            " R10: Assign[1,A] + Assign[1,B] + Assign[1,C] + Assign[1,D] + Assign[1,E]\n",
            "   + Assign[1,F] + Assign[1,G] + Assign[1,H] + Assign[1,I] + Assign[1,J]\n",
            "   <= 1\n",
            " R11: Assign[2,A] + Assign[2,B] + Assign[2,C] + Assign[2,D] + Assign[2,E]\n",
            "   + Assign[2,F] + Assign[2,G] + Assign[2,H] + Assign[2,I] + Assign[2,J]\n",
            "   <= 1\n",
            " R12: Assign[3,A] + Assign[3,B] + Assign[3,C] + Assign[3,D] + Assign[3,E]\n",
            "   + Assign[3,F] + Assign[3,G] + Assign[3,H] + Assign[3,I] + Assign[3,J]\n",
            "   <= 1\n",
            " R13: Assign[4,A] + Assign[4,B] + Assign[4,C] + Assign[4,D] + Assign[4,E]\n",
            "   + Assign[4,F] + Assign[4,G] + Assign[4,H] + Assign[4,I] + Assign[4,J]\n",
            "   <= 1\n",
            " R14: Assign[5,A] + Assign[5,B] + Assign[5,C] + Assign[5,D] + Assign[5,E]\n",
            "   + Assign[5,F] + Assign[5,G] + Assign[5,H] + Assign[5,I] + Assign[5,J]\n",
            "   <= 1\n",
            " R15: Assign[6,A] + Assign[6,B] + Assign[6,C] + Assign[6,D] + Assign[6,E]\n",
            "   + Assign[6,F] + Assign[6,G] + Assign[6,H] + Assign[6,I] + Assign[6,J]\n",
            "   <= 1\n",
            " R16: Assign[7,A] + Assign[7,B] + Assign[7,C] + Assign[7,D] + Assign[7,E]\n",
            "   + Assign[7,F] + Assign[7,G] + Assign[7,H] + Assign[7,I] + Assign[7,J]\n",
            "   <= 1\n",
            " R17: Assign[8,A] + Assign[8,B] + Assign[8,C] + Assign[8,D] + Assign[8,E]\n",
            "   + Assign[8,F] + Assign[8,G] + Assign[8,H] + Assign[8,I] + Assign[8,J]\n",
            "   <= 1\n",
            " R18: Assign[9,A] + Assign[9,B] + Assign[9,C] + Assign[9,D] + Assign[9,E]\n",
            "   + Assign[9,F] + Assign[9,G] + Assign[9,H] + Assign[9,I] + Assign[9,J]\n",
            "   <= 1\n",
            " R19: Assign[10,A] + Assign[10,B] + Assign[10,C] + Assign[10,D]\n",
            "   + Assign[10,E] + Assign[10,F] + Assign[10,G] + Assign[10,H]\n",
            "   + Assign[10,I] + Assign[10,J] <= 1\n",
            " R20: 3.606632040504617 Assign[1,A] + 4.886348147027907 Assign[2,A]\n",
            "   + 1.922010475690226 Assign[3,A] + 3.334162553745053 Assign[4,A]\n",
            "   + 3.853916069199235 Assign[5,A] + 5.797621858334751 Assign[6,A]\n",
            "   + 3.51435496119995 Assign[7,A] + 2.433915269114903 Assign[8,A]\n",
            "   + 6.698246227800828 Assign[9,A] + 3.646111918396675 Assign[10,A]\n",
            "   + 98.5 Request_completed[A] <= 100\n",
            " R21: 2.285136413071688 Assign[1,B] + 3.964932858924504 Assign[2,B]\n",
            "   + 5.999088884668682 Assign[3,B] + 3.376042779531984 Assign[4,B]\n",
            "   + 3.332250828124105 Assign[5,B] + 3.25827251049721 Assign[6,B]\n",
            "   + 2.567859156120879 Assign[7,B] + 3.513057232990324 Assign[8,B]\n",
            "   + 1.937783438892023 Assign[9,B] + 2.986765323276712 Assign[10,B]\n",
            "   + 98.5 Request_completed[B] <= 100\n",
            " R22: 0.8175449518260646 Assign[1,C] + 1.755262620717927 Assign[2,C]\n",
            "   + 3.372191721633154 Assign[3,C] + 4.253270308257106 Assign[4,C]\n",
            "   + 4.584987753139814 Assign[5,C] + 2.538040592626406 Assign[6,C]\n",
            "   + 0.5400074747141872 Assign[7,C] + 0.8560938361430143 Assign[8,C]\n",
            "   + 5.021471887005123 Assign[9,C] + 0.3767304497577719 Assign[10,C]\n",
            "   + 98.5 Request_completed[C] <= 100\n",
            " R23: 1.444318237173216 Assign[1,D] + 3.080558784347926 Assign[2,D]\n",
            "   + 2.949852583620008 Assign[3,D] + 3.087373815225456 Assign[4,D]\n",
            "   + 3.485834193242688 Assign[5,D] + 3.707226590527383 Assign[6,D]\n",
            "   + 1.393321643333091 Assign[7,D] + 0.8179952474152121 Assign[8,D]\n",
            "   + 4.944018752633573 Assign[9,D] + 1.64893247966258 Assign[10,D]\n",
            "   + 98.5 Request_completed[D] <= 100\n",
            " R24: 2.077803240487316 Assign[1,E] + 0.8806520879792851 Assign[2,E]\n",
            "   + 5.197726004545956 Assign[3,E] + 5.911999255338451 Assign[4,E]\n",
            "   + 6.126264887505273 Assign[5,E] + 0.6532440119474575 Assign[6,E]\n",
            "   + 2.007462134545718 Assign[7,E] + 2.944749796961902 Assign[8,E]\n",
            "   + 5.04802489813223 Assign[9,E] + 1.741802260706994 Assign[10,E]\n",
            "   + 98.5 Request_completed[E] <= 100\n",
            " R25: 4.04550860425234 Assign[1,F] + 5.739564270796508 Assign[2,F]\n",
            "   + 7.476709251255174 Assign[3,F] + 3.595357938413891 Assign[4,F]\n",
            "   + 3.294182875240036 Assign[5,F] + 4.880612131256473 Assign[6,F]\n",
            "   + 4.327571905776165 Assign[7,F] + 5.152869388830808 Assign[8,F]\n",
            "   + 0.8133357103436705 Assign[9,F] + 4.762948739564926 Assign[10,F]\n",
            "   + 98.5 Request_completed[F] <= 100\n",
            " R26: 4.730059560091171 Assign[1,G] + 6.454334638315417 Assign[2,G]\n",
            "   + 8.030756745917563 Assign[3,G] + 3.795405010136853 Assign[4,G]\n",
            "   + 3.416304029423275 Assign[5,G] + 5.589004041903212 Assign[6,G]\n",
            "   + 5.010808950188547 Assign[7,G] + 5.784215102467098 Assign[8,G]\n",
            "   + 1.198911076683184 Assign[9,G] + 5.453856398857082 Assign[10,G]\n",
            "   + 98.5 Request_completed[G] <= 100\n",
            " R27: 1.356791409251711 Assign[1,H] + 0.7787981043855673 Assign[2,H]\n",
            "   + 3.968397952561202 Assign[3,H] + 5.156748005677833 Assign[4,H]\n",
            "   + 5.452536787808082 Assign[5,H] + 1.798352233004855 Assign[6,H]\n",
            "   + 1.142684004062096 Assign[7,H] + 1.750662970724861 Assign[8,H]\n",
            "   + 5.273008822209545 Assign[9,H] + 0.6974348559594322 Assign[10,H]\n",
            "   + 98.5 Request_completed[H] <= 100\n",
            " R28: 1.853265391378835 Assign[1,I] + 2.804267632861664 Assign[2,I]\n",
            "   + 2.195035105249352 Assign[3,I] + 3.925934486902484 Assign[4,I]\n",
            "   + 4.358867885968024 Assign[5,I] + 3.799140421056974 Assign[6,I]\n",
            "   + 1.660455760402986 Assign[7,I] + 0.4285356743577481 Assign[8,I]\n",
            "   + 5.792419727585127 Assign[9,I] + 1.643836128108483 Assign[10,I]\n",
            "   + 98.5 Request_completed[I] <= 100\n",
            " R29: 0.8789960802940963 Assign[1,J] + 1.26500170999385 Assign[2,J]\n",
            "   + 4.362966637333002 Assign[3,J] + 4.745101322038468 Assign[4,J]\n",
            "   + 4.990900993965472 Assign[5,J] + 1.533540830834207 Assign[6,J]\n",
            "   + 0.8026750623656318 Assign[7,J] + 1.877792679878719 Assign[8,J]\n",
            "   + 4.554492595072941 Assign[9,J] + 0.6547620958736443 Assign[10,J]\n",
            "   + 98.5 Request_completed[J] <= 100\n",
            "Bounds\n",
            "Binaries\n",
            " Assign[1,A] Assign[1,B] Assign[1,C] Assign[1,D] Assign[1,E] Assign[1,F]\n",
            " Assign[1,G] Assign[1,H] Assign[1,I] Assign[1,J] Assign[2,A] Assign[2,B]\n",
            " Assign[2,C] Assign[2,D] Assign[2,E] Assign[2,F] Assign[2,G] Assign[2,H]\n",
            " Assign[2,I] Assign[2,J] Assign[3,A] Assign[3,B] Assign[3,C] Assign[3,D]\n",
            " Assign[3,E] Assign[3,F] Assign[3,G] Assign[3,H] Assign[3,I] Assign[3,J]\n",
            " Assign[4,A] Assign[4,B] Assign[4,C] Assign[4,D] Assign[4,E] Assign[4,F]\n",
            " Assign[4,G] Assign[4,H] Assign[4,I] Assign[4,J] Assign[5,A] Assign[5,B]\n",
            " Assign[5,C] Assign[5,D] Assign[5,E] Assign[5,F] Assign[5,G] Assign[5,H]\n",
            " Assign[5,I] Assign[5,J] Assign[6,A] Assign[6,B] Assign[6,C] Assign[6,D]\n",
            " Assign[6,E] Assign[6,F] Assign[6,G] Assign[6,H] Assign[6,I] Assign[6,J]\n",
            " Assign[7,A] Assign[7,B] Assign[7,C] Assign[7,D] Assign[7,E] Assign[7,F]\n",
            " Assign[7,G] Assign[7,H] Assign[7,I] Assign[7,J] Assign[8,A] Assign[8,B]\n",
            " Assign[8,C] Assign[8,D] Assign[8,E] Assign[8,F] Assign[8,G] Assign[8,H]\n",
            " Assign[8,I] Assign[8,J] Assign[9,A] Assign[9,B] Assign[9,C] Assign[9,D]\n",
            " Assign[9,E] Assign[9,F] Assign[9,G] Assign[9,H] Assign[9,I] Assign[9,J]\n",
            " Assign[10,A] Assign[10,B] Assign[10,C] Assign[10,D] Assign[10,E]\n",
            " Assign[10,F] Assign[10,G] Assign[10,H] Assign[10,I] Assign[10,J]\n",
            " Request_completed[A] Request_completed[B] Request_completed[C]\n",
            " Request_completed[D] Request_completed[E] Request_completed[F]\n",
            " Request_completed[G] Request_completed[H] Request_completed[I]\n",
            " Request_completed[J]\n",
            "End\n",
            "\n"
          ],
          "name": "stdout"
        }
      ]
    },
    {
      "cell_type": "markdown",
      "metadata": {
        "id": "47WFvRyI-bAw"
      },
      "source": [
        "Solve the model"
      ]
    },
    {
      "cell_type": "code",
      "metadata": {
        "colab": {
          "base_uri": "https://localhost:8080/"
        },
        "cellView": "form",
        "id": "ANo_ZhlZ-bAw",
        "outputId": "b614ce53-227b-46b5-ba43-71771c348130"
      },
      "source": [
        "#@markdown Select whether to run the [Gurobi](https://www.gurobi.com/) optimization algorithms silently (no output details)\r\n",
        "run_silently = False #@param {type:\"boolean\"}\r\n",
        "\r\n",
        "if run_silently:\r\n",
        "    Uber_Model.setParam('OutputFlag',0)\r\n",
        "else:\r\n",
        "    Uber_Model.setParam('OutputFlag',1)\r\n",
        "\r\n",
        "Uber_Model.optimize()\r\n",
        "print('\\nSolved the optimization problem...')"
      ],
      "execution_count": 34,
      "outputs": [
        {
          "output_type": "stream",
          "text": [
            "Parameter OutputFlag unchanged\n",
            "   Value: 1  Min: 0  Max: 1  Default: 1\n",
            "Gurobi Optimizer version 9.1.1 build v9.1.1rc0 (linux64)\n",
            "Thread count: 1 physical cores, 2 logical processors, using up to 2 threads\n",
            "Optimize a model with 30 rows, 110 columns and 310 nonzeros\n",
            "Model fingerprint: 0x6e08b906\n",
            "Variable types: 0 continuous, 110 integer (110 binary)\n",
            "Coefficient statistics:\n",
            "  Matrix range     [4e-01, 1e+02]\n",
            "  Objective range  [1e+00, 1e+00]\n",
            "  Bounds range     [1e+00, 1e+00]\n",
            "  RHS range        [1e+00, 1e+02]\n",
            "Found heuristic solution: objective 1.0000000\n",
            "Presolve removed 6 rows and 6 columns\n",
            "Presolve time: 0.00s\n",
            "Presolved: 24 rows, 104 columns, 237 nonzeros\n",
            "Variable types: 0 continuous, 104 integer (104 binary)\n",
            "\n",
            "Root relaxation: objective 7.675433e+00, 36 iterations, 0.00 seconds\n",
            "\n",
            "    Nodes    |    Current Node    |     Objective Bounds      |     Work\n",
            " Expl Unexpl |  Obj  Depth IntInf | Incumbent    BestBd   Gap | It/Node Time\n",
            "\n",
            "     0     0    7.67543    0    1    1.00000    7.67543   668%     -    0s\n",
            "H    0     0                       7.0000000    7.67543  9.65%     -    0s\n",
            "     0     0    7.67543    0    1    7.00000    7.67543  9.65%     -    0s\n",
            "\n",
            "Explored 1 nodes (36 simplex iterations) in 0.07 seconds\n",
            "Thread count was 2 (of 2 available processors)\n",
            "\n",
            "Solution count 2: 7 1 \n",
            "\n",
            "Optimal solution found (tolerance 1.00e-04)\n",
            "Best objective 7.000000000000e+00, best bound 7.000000000000e+00, gap 0.0000%\n",
            "\n",
            "Solved the optimization problem...\n"
          ],
          "name": "stdout"
        }
      ]
    },
    {
      "cell_type": "markdown",
      "metadata": {
        "id": "yCGWNa4O-bAx"
      },
      "source": [
        "Print the optimal solution."
      ]
    },
    {
      "cell_type": "code",
      "metadata": {
        "colab": {
          "base_uri": "https://localhost:8080/"
        },
        "id": "SaKpeMhG-bAx",
        "outputId": "c1e1abd1-74ff-4612-b640-fe7cc053d2e0"
      },
      "source": [
        "#@markdown Use the function to print the results\r\n",
        "\r\n",
        "print(\"The number of successful rides completed:  {:d}\".format(np.int(Uber_Model.objVal)))\r\n",
        "\r\n",
        "print(\"Requests completed successfully: \")\r\n",
        "for r in riders:\r\n",
        "   if request_completed[r].X==1 :\r\n",
        "      print(r)\r\n",
        "\r\n",
        "print_and_visualize(Uber_Model, assigned, print_sol_numbers=True, \\\r\n",
        "                    plot_the_assignment=False)"
      ],
      "execution_count": 35,
      "outputs": [
        {
          "output_type": "stream",
          "text": [
            "The number of successful rides completed:  7\n",
            "Requests completed successfully: \n",
            "C\n",
            "D\n",
            "E\n",
            "F\n",
            "H\n",
            "I\n",
            "J\n",
            "====================================================================================================\n",
            "\n",
            "Assignment\n",
            "Rider  : Driver\n",
            "A      : 4\n",
            "B      : 3\n",
            "C      : 10\n",
            "D      : 1\n",
            "E      : 6\n",
            "F      : 9\n",
            "G      : 5\n",
            "H      : 2\n",
            "I      : 8\n",
            "J      : 7\n",
            "====================================================================================================\n",
            "\n",
            "Waiting times\n",
            "Rider  : Wait (min)     \n",
            "A      : 3.33 \n",
            "B      : 6.00 \n",
            "C      : 0.38 \n",
            "D      : 1.44 \n",
            "E      : 0.65 \n",
            "F      : 0.81 \n",
            "G      : 3.42 \n",
            "H      : 0.78 \n",
            "I      : 0.43 \n",
            "J      : 0.80 \n",
            "\n",
            "Average wait time : 1.80 (min)\n",
            "\n",
            "====================================================================================================\n",
            "\n",
            "Driver incomes\n",
            "Driver : Income ($)     \n",
            "1      : 2.12 \n",
            "2      : 5.44 \n",
            "3      : 4.77 \n",
            "4      : 4.15 \n",
            "5      : 1.26 \n",
            "6      : 3.92 \n",
            "7      : 4.76 \n",
            "8      : 2.03 \n",
            "9      : 4.33 \n",
            "10     : 3.22 \n",
            "\n",
            "Average income : 3.60 ($)\n",
            "\n"
          ],
          "name": "stdout"
        }
      ]
    },
    {
      "cell_type": "code",
      "metadata": {
        "id": "snYYr924Djlq"
      },
      "source": [
        ""
      ],
      "execution_count": 35,
      "outputs": []
    },
    {
      "cell_type": "markdown",
      "metadata": {
        "id": "TLe_26M7K3CF"
      },
      "source": [
        "______\r\n",
        "# **Q5**\r\n",
        "Before running this section, make sure you have run all the previous sections of the Colab file."
      ]
    },
    {
      "cell_type": "code",
      "metadata": {
        "colab": {
          "base_uri": "https://localhost:8080/",
          "height": 379
        },
        "id": "30uMw37DLSQ8",
        "outputId": "b2c75ea6-69c8-4403-ad91-22639bd125ee"
      },
      "source": [
        "# read in the new data relevant here\r\n",
        "# data for Q5\r\n",
        "districts_df = pd.read_excel(\"Uber_Data.xlsx\", sheet_name = \"Q6_data\", index_col=0)\r\n",
        "print(\"The data on pricing\")\r\n",
        "display(districts_df)\r\n",
        "\r\n",
        "# create a list of riders who may not request service\r\n",
        "districts = list(districts_df.index)\r\n",
        "print(\"The districts:\")\r\n",
        "print(districts)\r\n",
        "\r\n",
        "# also store the parameter on maximum average wait\r\n",
        "avg_wait_max = 4.0\r\n",
        "drivers_gained_per_surge = 5.0\r\n",
        "riders_lost_per_surge = 3.0\r\n",
        "max_surge_level = 3.0"
      ],
      "execution_count": 36,
      "outputs": [
        {
          "output_type": "stream",
          "text": [
            "The data on pricing\n"
          ],
          "name": "stdout"
        },
        {
          "output_type": "display_data",
          "data": {
            "text/html": [
              "<div>\n",
              "<style scoped>\n",
              "    .dataframe tbody tr th:only-of-type {\n",
              "        vertical-align: middle;\n",
              "    }\n",
              "\n",
              "    .dataframe tbody tr th {\n",
              "        vertical-align: top;\n",
              "    }\n",
              "\n",
              "    .dataframe thead th {\n",
              "        text-align: right;\n",
              "    }\n",
              "</style>\n",
              "<table border=\"1\" class=\"dataframe\">\n",
              "  <thead>\n",
              "    <tr style=\"text-align: right;\">\n",
              "      <th></th>\n",
              "      <th>1</th>\n",
              "      <th>2</th>\n",
              "      <th>3</th>\n",
              "      <th>4</th>\n",
              "      <th>5</th>\n",
              "      <th>6</th>\n",
              "      <th>7</th>\n",
              "      <th>8</th>\n",
              "      <th>Riders</th>\n",
              "      <th>Drivers</th>\n",
              "    </tr>\n",
              "    <tr>\n",
              "      <th>District</th>\n",
              "      <th></th>\n",
              "      <th></th>\n",
              "      <th></th>\n",
              "      <th></th>\n",
              "      <th></th>\n",
              "      <th></th>\n",
              "      <th></th>\n",
              "      <th></th>\n",
              "      <th></th>\n",
              "      <th></th>\n",
              "    </tr>\n",
              "  </thead>\n",
              "  <tbody>\n",
              "    <tr>\n",
              "      <th>1</th>\n",
              "      <td>0.00</td>\n",
              "      <td>3.20</td>\n",
              "      <td>4.10</td>\n",
              "      <td>6.50</td>\n",
              "      <td>7.90</td>\n",
              "      <td>9.10</td>\n",
              "      <td>8.10</td>\n",
              "      <td>10.20</td>\n",
              "      <td>11</td>\n",
              "      <td>2</td>\n",
              "    </tr>\n",
              "    <tr>\n",
              "      <th>2</th>\n",
              "      <td>3.20</td>\n",
              "      <td>0.00</td>\n",
              "      <td>5.10</td>\n",
              "      <td>4.90</td>\n",
              "      <td>8.10</td>\n",
              "      <td>6.20</td>\n",
              "      <td>11.90</td>\n",
              "      <td>9.10</td>\n",
              "      <td>13</td>\n",
              "      <td>2</td>\n",
              "    </tr>\n",
              "    <tr>\n",
              "      <th>3</th>\n",
              "      <td>4.10</td>\n",
              "      <td>5.10</td>\n",
              "      <td>0.00</td>\n",
              "      <td>2.60</td>\n",
              "      <td>2.90</td>\n",
              "      <td>3.40</td>\n",
              "      <td>5.30</td>\n",
              "      <td>7.20</td>\n",
              "      <td>23</td>\n",
              "      <td>0</td>\n",
              "    </tr>\n",
              "    <tr>\n",
              "      <th>4</th>\n",
              "      <td>6.50</td>\n",
              "      <td>4.90</td>\n",
              "      <td>2.60</td>\n",
              "      <td>0.00</td>\n",
              "      <td>3.20</td>\n",
              "      <td>2.60</td>\n",
              "      <td>5.10</td>\n",
              "      <td>4.40</td>\n",
              "      <td>11</td>\n",
              "      <td>0</td>\n",
              "    </tr>\n",
              "    <tr>\n",
              "      <th>5</th>\n",
              "      <td>7.90</td>\n",
              "      <td>8.10</td>\n",
              "      <td>2.90</td>\n",
              "      <td>3.20</td>\n",
              "      <td>0.00</td>\n",
              "      <td>2.30</td>\n",
              "      <td>2.80</td>\n",
              "      <td>4.20</td>\n",
              "      <td>10</td>\n",
              "      <td>4</td>\n",
              "    </tr>\n",
              "    <tr>\n",
              "      <th>6</th>\n",
              "      <td>9.10</td>\n",
              "      <td>6.20</td>\n",
              "      <td>3.40</td>\n",
              "      <td>2.60</td>\n",
              "      <td>2.30</td>\n",
              "      <td>0.00</td>\n",
              "      <td>3.10</td>\n",
              "      <td>2.80</td>\n",
              "      <td>15</td>\n",
              "      <td>5</td>\n",
              "    </tr>\n",
              "    <tr>\n",
              "      <th>7</th>\n",
              "      <td>8.10</td>\n",
              "      <td>11.90</td>\n",
              "      <td>5.30</td>\n",
              "      <td>5.10</td>\n",
              "      <td>2.80</td>\n",
              "      <td>3.10</td>\n",
              "      <td>0.00</td>\n",
              "      <td>2.10</td>\n",
              "      <td>24</td>\n",
              "      <td>2</td>\n",
              "    </tr>\n",
              "    <tr>\n",
              "      <th>8</th>\n",
              "      <td>10.20</td>\n",
              "      <td>9.10</td>\n",
              "      <td>7.20</td>\n",
              "      <td>4.40</td>\n",
              "      <td>4.20</td>\n",
              "      <td>2.80</td>\n",
              "      <td>2.10</td>\n",
              "      <td>0.00</td>\n",
              "      <td>19</td>\n",
              "      <td>0</td>\n",
              "    </tr>\n",
              "  </tbody>\n",
              "</table>\n",
              "</div>"
            ],
            "text/plain": [
              "             1     2    3    4    5    6     7     8  Riders  Drivers\n",
              "District                                                             \n",
              "1         0.00  3.20 4.10 6.50 7.90 9.10  8.10 10.20      11        2\n",
              "2         3.20  0.00 5.10 4.90 8.10 6.20 11.90  9.10      13        2\n",
              "3         4.10  5.10 0.00 2.60 2.90 3.40  5.30  7.20      23        0\n",
              "4         6.50  4.90 2.60 0.00 3.20 2.60  5.10  4.40      11        0\n",
              "5         7.90  8.10 2.90 3.20 0.00 2.30  2.80  4.20      10        4\n",
              "6         9.10  6.20 3.40 2.60 2.30 0.00  3.10  2.80      15        5\n",
              "7         8.10 11.90 5.30 5.10 2.80 3.10  0.00  2.10      24        2\n",
              "8        10.20  9.10 7.20 4.40 4.20 2.80  2.10  0.00      19        0"
            ]
          },
          "metadata": {
            "tags": []
          }
        },
        {
          "output_type": "stream",
          "text": [
            "The districts:\n",
            "[1, 2, 3, 4, 5, 6, 7, 8]\n"
          ],
          "name": "stdout"
        }
      ]
    },
    {
      "cell_type": "markdown",
      "metadata": {
        "id": "hoD_lPJiK3CO"
      },
      "source": [
        "Re-recreate an identical model to the one from **Q2** and store the expression for model, the decision variables and the waiting times."
      ]
    },
    {
      "cell_type": "code",
      "metadata": {
        "id": "kFUWMUFzK3CP"
      },
      "source": [
        "# Create a model\r\n",
        "\r\n",
        "# Gurobi model\r\n",
        "Uber_Model = Model(\"Uber Assignment and Pricing\")\r\n",
        "\r\n",
        "# decision variables for how many drivers to dispatch from one district to the next\r\n",
        "assigned = Uber_Model.addVars( districts, districts, name = \"Assign\", vtype=GRB.INTEGER)\r\n",
        "\r\n",
        "# decision variables for surge level\r\n",
        "surge_level = Uber_Model.addVars( districts, name = \"Surge\")\r\n",
        "\r\n",
        "# Change the objective to maximize successful bookings\r\n",
        "bookings = quicksum(assigned[d,r] for d in districts for r in districts)\r\n",
        "Uber_Model.setObjective( bookings, GRB.MAXIMIZE )\r\n",
        "\r\n",
        "# Constraint that average waiting time cannot exceed the upper limit\r\n",
        "# to make this linear, we write it as:\r\n",
        "#     total waiting time  <= max_wait_limit * number_of_customers_picked\r\n",
        "Uber_Model.addConstr( quicksum( assigned[d,r]*districts_df[d][r] for d in districts for r in districts)\\\r\n",
        "                   <= avg_wait_max * bookings, name=\"Avg_wait\" )\r\n",
        "\r\n",
        "# constraint on maximum surge level\r\n",
        "for d in districts:\r\n",
        "  Uber_Model.addConstr(surge_level[d] <= max_surge_level )\r\n",
        "\r\n",
        "# Bookings in each district cannot exceed the number of riders requesting service \r\n",
        "for r in districts:\r\n",
        "  Uber_Model.addConstr( quicksum(assigned[d,r] for d in districts) <= \\\r\n",
        "                       districts_df[\"Riders\"][r] - surge_level[r]*riders_lost_per_surge)\r\n",
        "\r\n",
        "# Bookings cannot exceed the number of riders available\r\n",
        "for d in districts:\r\n",
        "  Uber_Model.addConstr( quicksum(assigned[d,r] for r in districts) <= \\\r\n",
        "                       districts_df[\"Drivers\"][d] + surge_level[d]*drivers_gained_per_surge)"
      ],
      "execution_count": 38,
      "outputs": []
    },
    {
      "cell_type": "code",
      "metadata": {
        "cellView": "form",
        "id": "23FPDOHsK3CT"
      },
      "source": [
        "#@markdown Feel free to uncomment the next lines if you want to see the model printed\r\n",
        "# Uber_Model.write(\"Uber_Model.lp\")    # write the model to a file with extension \".lp\"\r\n",
        "# f = open(\"Uber_Model.lp\", 'r')    # open a file handle\r\n",
        "# print( f.read() )           # read the contents and print them\r\n",
        "# f.close()              # close the file handle"
      ],
      "execution_count": 39,
      "outputs": []
    },
    {
      "cell_type": "markdown",
      "metadata": {
        "id": "6t6vfPMTK3CU"
      },
      "source": [
        "Solve the model"
      ]
    },
    {
      "cell_type": "code",
      "metadata": {
        "colab": {
          "base_uri": "https://localhost:8080/"
        },
        "id": "zTnraHYDK3CU",
        "outputId": "1063ebdb-92e3-4177-80e7-6178ee5e31c3"
      },
      "source": [
        "#@markdown Select whether to run the [Gurobi](https://www.gurobi.com/) optimization algorithms silently (no output details)\r\n",
        "run_silently = True #@param {type:\"boolean\"}\r\n",
        "\r\n",
        "if run_silently:\r\n",
        "    Uber_Model.setParam('OutputFlag',0)\r\n",
        "else:\r\n",
        "    Uber_Model.setParam('OutputFlag',1)\r\n",
        "\r\n",
        "Uber_Model.optimize()\r\n",
        "print('\\nSolved the optimization problem...')"
      ],
      "execution_count": 40,
      "outputs": [
        {
          "output_type": "stream",
          "text": [
            "\n",
            "Solved the optimization problem...\n"
          ],
          "name": "stdout"
        }
      ]
    },
    {
      "cell_type": "markdown",
      "metadata": {
        "id": "6dfMuIBJK3CV"
      },
      "source": [
        "Print the optimal solution."
      ]
    },
    {
      "cell_type": "code",
      "metadata": {
        "colab": {
          "base_uri": "https://localhost:8080/"
        },
        "id": "sG-0_008K3CW",
        "outputId": "e48103ba-ae5e-4659-f93b-f76813fd1908"
      },
      "source": [
        "# Print the results\r\n",
        "\r\n",
        "print(\"The number of successful rides completed:  {:d}\".\\\r\n",
        "      format(np.int(Uber_Model.objVal)))\r\n",
        "\r\n",
        "print(\"Surge levels: \")\r\n",
        "for d in districts:\r\n",
        "    print(\"District {} : {}\".format(d,surge_level[d].X))\r\n",
        "\r\n",
        "print(\"=\"*100)\r\n",
        "print(\"\\nAssignment\")\r\n",
        "for d in districts:\r\n",
        "\r\n",
        "   print(\"District : {}\".format(d))\r\n",
        "   print('\\tAvailable drivers: {}'.\\\r\n",
        "         format(districts_df[\"Drivers\"][d] + surge_level[d].X*drivers_gained_per_surge))\r\n",
        "\r\n",
        "   print(\"\\tDispatched:\")\r\n",
        "   for r in districts:\r\n",
        "      if assigned[d,r].X > 0:\r\n",
        "         print(\"\\t\\t to {} : {}\".format(r,assigned[d,r].X))\r\n",
        "\r\n",
        "print(\"=\"*100)\r\n",
        "print(\"\\nAverage waiting time: {}\".\\\r\n",
        "      format( sum(assigned[d,r].X*districts_df[d][r] for d in districts for r in districts)\\\r\n",
        "                   /bookings.getValue()))"
      ],
      "execution_count": 41,
      "outputs": [
        {
          "output_type": "stream",
          "text": [
            "The number of successful rides completed:  84\n",
            "Surge levels: \n",
            "District 1 : 1.0\n",
            "District 2 : 0.0\n",
            "District 3 : 2.6\n",
            "District 4 : 3.0\n",
            "District 5 : 0.3333333333333333\n",
            "District 6 : 3.0\n",
            "District 7 : 3.0\n",
            "District 8 : 1.0\n",
            "====================================================================================================\n",
            "\n",
            "Assignment\n",
            "District : 1\n",
            "\tAvailable drivers: 7.0\n",
            "\tDispatched:\n",
            "\t\t to 1 : 7.0\n",
            "District : 2\n",
            "\tAvailable drivers: 2.0\n",
            "\tDispatched:\n",
            "\t\t to 8 : 2.0\n",
            "District : 3\n",
            "\tAvailable drivers: 13.0\n",
            "\tDispatched:\n",
            "\t\t to 1 : 1.0\n",
            "\t\t to 2 : 12.0\n",
            "District : 4\n",
            "\tAvailable drivers: 15.0\n",
            "\tDispatched:\n",
            "\t\t to 3 : 15.0\n",
            "District : 5\n",
            "\tAvailable drivers: 5.666666666666666\n",
            "\tDispatched:\n",
            "\t\t to 4 : 1.0\n",
            "\t\t to 5 : 4.0\n",
            "District : 6\n",
            "\tAvailable drivers: 20.0\n",
            "\tDispatched:\n",
            "\t\t to 6 : 6.0\n",
            "\t\t to 8 : 14.0\n",
            "District : 7\n",
            "\tAvailable drivers: 17.0\n",
            "\tDispatched:\n",
            "\t\t to 2 : 1.0\n",
            "\t\t to 4 : 1.0\n",
            "\t\t to 7 : 15.0\n",
            "District : 8\n",
            "\tAvailable drivers: 5.0\n",
            "\tDispatched:\n",
            "\t\t to 5 : 5.0\n",
            "====================================================================================================\n",
            "\n",
            "Average waiting time: 2.4154761904761903\n"
          ],
          "name": "stdout"
        }
      ]
    },
    {
      "cell_type": "code",
      "metadata": {
        "id": "l26gleikK3CW"
      },
      "source": [
        ""
      ],
      "execution_count": 41,
      "outputs": []
    }
  ]
}