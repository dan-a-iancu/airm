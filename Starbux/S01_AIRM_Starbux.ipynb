{
  "nbformat": 4,
  "nbformat_minor": 0,
  "metadata": {
    "kernelspec": {
      "display_name": "Python 3",
      "language": "python",
      "name": "python3"
    },
    "language_info": {
      "codemirror_mode": {
        "name": "ipython",
        "version": 3
      },
      "file_extension": ".py",
      "mimetype": "text/x-python",
      "name": "python",
      "nbconvert_exporter": "python",
      "pygments_lexer": "ipython3",
      "version": "3.7.7"
    },
    "colab": {
      "name": "S01_AIRM_Starbux.ipynb",
      "provenance": [],
      "collapsed_sections": [
        "JCg6gzoCaTYH",
        "0RBbvY9Pu1rl",
        "Bor2jgXtaTYP",
        "BsxM2S96aTYW",
        "55lQ67Ya8QwP",
        "HmshoF0PaTYZ",
        "6UFxI7n4aTYe",
        "_N03EmMsaTYg",
        "hrFUL5OCaTYk"
      ],
      "include_colab_link": true
    }
  },
  "cells": [
    {
      "cell_type": "markdown",
      "metadata": {
        "id": "view-in-github",
        "colab_type": "text"
      },
      "source": [
        "<a href=\"https://colab.research.google.com/github/dan-a-iancu/airm/blob/master/Starbux/S01_AIRM_Starbux.ipynb\" target=\"_parent\"><img src=\"https://colab.research.google.com/assets/colab-badge.svg\" alt=\"Open In Colab\"/></a>"
      ]
    },
    {
      "cell_type": "markdown",
      "metadata": {
        "id": "-fF41kJzaTX_"
      },
      "source": [
        "**Bean to Powder: Sourcing, Processing and Pricing of Cocoa at Starbux**\n",
        "\n",
        "This notebook implements a full solution to the mini-case, walking you through different types of analytics."
      ]
    },
    {
      "cell_type": "code",
      "metadata": {
        "id": "WC9g6EhCaTYD",
        "cellView": "form"
      },
      "source": [
        "#@title **Basic Setup.** We start by importing a few useful modules and reading the data in.\n",
        "#@markdown *Click on the \"play\" button on the left to run this entire cell.*\n",
        "import numpy as np\n",
        "\n",
        "import urllib.request  # for file downloading\n",
        "\n",
        "# Import pandas for data-frames\n",
        "import pandas as pd\n",
        "pd.options.display.max_rows = 15\n",
        "pd.options.display.float_format = \"{:,.2f}\".format\n",
        "\n",
        "# Make sure Matplotlib runs inline, for nice figures\n",
        "%matplotlib inline\n",
        "import matplotlib as mpl\n",
        "import matplotlib.pyplot as plt\n",
        "mpl.rc('axes', labelsize=14)\n",
        "mpl.rc('xtick', labelsize=12)\n",
        "mpl.rc('ytick', labelsize=12)\n",
        "import matplotlib.ticker as ticker \n",
        "\n",
        "# import stats models\n",
        "import statsmodels.api as sm \n",
        "\n",
        "# Ignore useless some warnings\n",
        "import warnings\n",
        "warnings.simplefilter(action=\"ignore\")\n",
        "\n",
        "# Read all the necessary data files\n",
        "url_Q1 = \"https://raw.githubusercontent.com/dan-a-iancu/airm/master/Starbux/S01_Starbux_market_data.csv\"\n",
        "local_file_Q1 = \"S01_Starbux_market_data.csv\"   # name of local file where you want to store the downloaded file\n",
        "aux = urllib.request.urlretrieve(url_Q1, local_file_Q1)    # download from website and save it locally\n",
        "\n",
        "url_Q6 = \"https://raw.githubusercontent.com/dan-a-iancu/airm/master/Starbux/S01_Starbux_scenarios.csv\"\n",
        "local_file_Q6 = \"S01_Starbux_scenarios.csv\"   # name of local file where you want to store the downloaded file\n",
        "aux = urllib.request.urlretrieve(url_Q6, local_file_Q6)    # download from website and save it locally\n",
        "\n",
        "print(\"Completed successfully!\")"
      ],
      "execution_count": null,
      "outputs": []
    },
    {
      "cell_type": "markdown",
      "metadata": {
        "id": "dcV6tygTaTYH"
      },
      "source": [
        "<a id='top'></a>\n",
        "<div class=\"list-group\" id=\"list-tab\" role=\"tablist\">\n",
        "<h3 class=\"list-group-item list-group-item-action active\" data-toggle=\"list\"  role=\"tab\" aria-controls=\"home\">Notebook Navigation</h3>\n",
        "\n",
        "**Descriptive and Diagnostic Analytics**  \n",
        "&nbsp;&nbsp;&nbsp;&nbsp;[Q1. Computing Descriptive Statistics](#Q1)  \n",
        "&nbsp;&nbsp;&nbsp;&nbsp;[Q2. Building a Histogram and a Scatter Plot](#Q2)  \n",
        "&nbsp;&nbsp;&nbsp;&nbsp;[Q3. Running a Linear Regression](#Q3)  \n",
        "**Predictive and Prescriptive Analytics**  \n",
        "&nbsp;&nbsp;&nbsp;&nbsp;[Q4. A Predictive Model with More Complex Dependencies](#Q4)  \n",
        "&nbsp;&nbsp;&nbsp;&nbsp;[Q5. Prescriptive Analytics and Optimization](#Q5)  \n",
        "&nbsp;&nbsp;&nbsp;&nbsp;[Q6. A Simulation Model](#Q6)  \n",
        "&nbsp;&nbsp;&nbsp;&nbsp;[Q7. Decisions Under Uncertainty](#Q7)  "
      ]
    },
    {
      "cell_type": "markdown",
      "metadata": {
        "id": "JCg6gzoCaTYH"
      },
      "source": [
        "# **Part 1. Descriptive and Diagnostic Analytics** \n"
      ]
    },
    {
      "cell_type": "markdown",
      "metadata": {
        "id": "0RBbvY9Pu1rl"
      },
      "source": [
        "<a id=\"Q1\"></a>\n",
        "## Q1. Computing Descriptive Statistics\n",
        "\n",
        "Let's read the data and have a quick look at it by displaying the first 5 rows.\n",
        "\n",
        "*If the cells are collapsed, you can expand them by clicking on the arrow to the left.*"
      ]
    },
    {
      "cell_type": "code",
      "metadata": {
        "scrolled": false,
        "id": "Sm_MzA6SaTYI",
        "cellView": "form"
      },
      "source": [
        "#@markdown Read the data from a file and have a quick look at the first 5 rows.\n",
        "\n",
        "#read data into a dataframe\n",
        "HistoricalData = pd.read_csv(local_file_Q1, index_col=0)\n",
        "\n",
        "# print first five rows\n",
        "HistoricalData.head(5)"
      ],
      "execution_count": null,
      "outputs": []
    },
    {
      "cell_type": "markdown",
      "metadata": {
        "id": "72XcAof2aTYK"
      },
      "source": [
        "Let's calculate a few descriptive statistics for the open market price such as the mean, minimum and maximum."
      ]
    },
    {
      "cell_type": "code",
      "metadata": {
        "scrolled": true,
        "id": "WFpFI0-RaTYL",
        "cellView": "form"
      },
      "source": [
        "#@markdown Calculate several descriptive statistics\n",
        "HistoricalData.describe()"
      ],
      "execution_count": null,
      "outputs": []
    },
    {
      "cell_type": "code",
      "metadata": {
        "scrolled": true,
        "id": "xg7TfX5haTYN",
        "cellView": "form"
      },
      "source": [
        "#@markdown Calculate and display the median\n",
        "print(\"The median market price for beans: ${}/pound\".\\\n",
        "      format(HistoricalData[\"Market_Price_Beans\"].median()))"
      ],
      "execution_count": null,
      "outputs": []
    },
    {
      "cell_type": "markdown",
      "metadata": {
        "id": "Bor2jgXtaTYP"
      },
      "source": [
        "<a id=\"Q2\"></a>\n",
        "## Q2. Building a Histogram and a Scatter Plot\n",
        "Now let's build a histogram of the open market price, and a scatter plot that shows how the demand for cocoa powder depends on the price."
      ]
    },
    {
      "cell_type": "code",
      "metadata": {
        "scrolled": true,
        "id": "aBjjDeKRaTYP",
        "cellView": "form"
      },
      "source": [
        "#@markdown Build a **histogram** and a **scatter plot** \n",
        "plt.figure(figsize=(15,5)) \n",
        "\n",
        "#@markdown Feel free to customize some elements of the **histogram**\n",
        "#@markdown - choose or type how many bins to use (leave as \"Auto\" if unsure)\n",
        "num_bins = \"Auto\" #@param [\"Auto\",3,4,5,6,7,10,20,50,100]{allow-input: true}\n",
        "if num_bins==\"Auto\":\n",
        "  num_bins=None\n",
        "else:\n",
        "  num_bins=np.int(num_bins)\n",
        "\n",
        "#@markdown Feel free to customize some elements of the **scatter plot**\n",
        "#@markdown - choose the marker size in points (leave as \"Auto\" if unsure)\n",
        "marker_size = \"Auto\" #@param [\"Auto\",100,200,300]{allow-input: true}\n",
        "if marker_size==\"Auto\":\n",
        "  marker_size=300\n",
        "else:\n",
        "  marker_size=np.int(marker_size)\n",
        "\n",
        "#@markdown - choose the marker visibility (0-1, leave as \"Auto\" if unsure)\n",
        "marker_visibility = \"1\" #@param [\"Auto\",0.3,0.5,0.8, 1.0]{allow-input: true}\n",
        "if marker_visibility==\"Auto\":\n",
        "  marker_visibility=0.5\n",
        "else:\n",
        "  marker_visibility=min(1.0, max(0, np.float(marker_visibility)))\n",
        "\n",
        "plt.subplot(1,2,1)\n",
        "# the histogram\n",
        "plt.hist(HistoricalData[\"Market_Price_Beans\"], \\\n",
        "         bins=num_bins, density=False) \n",
        "plt.yticks(fontsize=12)\n",
        "plt.xticks(fontsize=12)\n",
        "plt.ylabel(\"Count\")\n",
        "plt.xlabel(\"Open market price value ($/pound)\")\n",
        "plt.title( \"Histogram of open market price\",fontsize=16)\n",
        "\n",
        "plt.subplot(1,2,2) \n",
        "# the scatter plot\n",
        "plt.scatter(x=HistoricalData[\"Price_Cocoa_Powder\"], \\\n",
        "            y=HistoricalData[\"Sales_Cocoa_Powder\"],\\\n",
        "            marker='.', s=marker_size, \\\n",
        "            alpha=marker_visibility)   # scatter plot\n",
        "plt.title( \"Scatter plot of cocoa powder sales-price relation\", fontsize=16)\n",
        "plt.xlabel(\"Price for cocoa powder ($/pound)\", fontsize=14)\n",
        "plt.ylabel(\"Sales of cocoa powder (million pounds)\", fontsize=14)\n",
        "plt.yticks(fontsize=12)\n",
        "plt.xticks(fontsize=12)\n",
        "plt.show()"
      ],
      "execution_count": null,
      "outputs": []
    },
    {
      "cell_type": "markdown",
      "metadata": {
        "id": "TeBNcf9xaTYU"
      },
      "source": [
        "We can also calculate and print the correlation coefficient for sales and price."
      ]
    },
    {
      "cell_type": "code",
      "metadata": {
        "id": "_A3BCqf5aTYU",
        "cellView": "form"
      },
      "source": [
        "#@markdown Calculate and print the correlation \n",
        "print(\"Correlation coefficient price-sales: {:.3f}\".\n",
        "     format(HistoricalData[\"Price_Cocoa_Powder\"].corr(HistoricalData[\"Sales_Cocoa_Powder\"])))"
      ],
      "execution_count": null,
      "outputs": []
    },
    {
      "cell_type": "markdown",
      "metadata": {
        "id": "BsxM2S96aTYW"
      },
      "source": [
        "<a id=\"Q3\"></a>\n",
        "##  Q3. Running a Linear Regression\n",
        "\n",
        "Let's calibrate a **linear model** to our price and sales data, and plot the results of the fit.\n",
        "\n",
        "*Expand the section for details.*"
      ]
    },
    {
      "cell_type": "code",
      "metadata": {
        "scrolled": false,
        "id": "ZcW65BaZaTYX",
        "cellView": "form"
      },
      "source": [
        "#@markdown Do an Ordinary Least Squares (OLS) regression and display the results\n",
        "y_data = HistoricalData[\"Sales_Cocoa_Powder\"]\n",
        "x_data = sm.add_constant(HistoricalData[\"Price_Cocoa_Powder\"])  # add a constant term\n",
        "model = sm.OLS(y_data, x_data).fit()\n",
        "\n",
        "print(\"Coefficients from the fit:\")\n",
        "print(\"Intercept: {:.3f}\".format(model.params[0]))\n",
        "print(\"Slope: {:.3f}\".format(model.params[1]))\n",
        "print(\"R-squared: {:.3f}\".format(model.rsquared))\n",
        "\n",
        "# calculate fitted values\n",
        "y_predicted = model.predict(x_data)\n",
        "\n",
        "# plot the fit\n",
        "plt.figure(figsize=(10,5)) \n",
        "plt.scatter(x = HistoricalData[\"Price_Cocoa_Powder\"],  y = HistoricalData[\"Sales_Cocoa_Powder\"],\\\n",
        "            marker = 'o', alpha = 0.9)   # scatter plot\n",
        "plt.plot(HistoricalData[\"Price_Cocoa_Powder\"],  y_predicted, color='red', linestyle='dashed', \\\n",
        "         linewidth=0.5, marker = '.', markersize = 10, alpha = 0.4 )\n",
        "\n",
        "plt.title( \"A linear regression for the demand of cocoa powder\")\n",
        "plt.xlabel(\"Price for cocoa powder ($/pound)\", fontsize=12)\n",
        "plt.ylabel(\"Sales of cocoa powder (million pounds)\", fontsize=12)\n",
        "plt.yticks(fontsize=12)\n",
        "plt.xticks(fontsize=12)\n",
        "\n",
        "plt.legend(['Predicted demand'], fontsize = 12)\n",
        "\n",
        "plt.tight_layout()\n",
        "\n",
        "plt.show()"
      ],
      "execution_count": null,
      "outputs": []
    },
    {
      "cell_type": "markdown",
      "metadata": {
        "id": "55lQ67Ya8QwP"
      },
      "source": [
        "# **Part 2. Predictive and Prescriptive Analytics**"
      ]
    },
    {
      "cell_type": "markdown",
      "metadata": {
        "id": "HmshoF0PaTYZ"
      },
      "source": [
        "<a id=\"Q4\"></a>\n",
        "## Q4. A Predictive Model with More Complex Dependencies\n",
        "\n",
        "We will construct a model to predict Starbux's gross profit. \n",
        "\n",
        "*Expand the section for details.*"
      ]
    },
    {
      "cell_type": "markdown",
      "metadata": {
        "id": "FVi3JLG5aTYZ"
      },
      "source": [
        "Let's create a python function that returns the gross profits and price for a given set of parameters."
      ]
    },
    {
      "cell_type": "code",
      "metadata": {
        "id": "yj5uzYSxaTYZ",
        "cellView": "form"
      },
      "source": [
        "#@markdown Define a function to calculate gross profit given all problem parameters\n",
        "def calculate_gross_profit(ContractPercent, ContractPrice, OpenMarketPrice, Yield, RoastingCapacity, \\\n",
        "                           RoastingCostInHouse, FixedCosts, RoastingCostOutsourced, \\\n",
        "                           DemandIntercept, DemandSlope, Price_Powder):\n",
        "\n",
        "  # demand and sales\n",
        "  Demand_Powder = max(0, DemandIntercept + DemandSlope * Price_Powder)\n",
        "  Sales_Powder = Demand_Powder\n",
        "\n",
        "  # sourcing quantities\n",
        "  Beans_Contract = Sales_Powder*ContractPercent\n",
        "  Beans_OpenMarket = Sales_Powder - Beans_Contract*Yield\n",
        "  Beans_Total = Beans_Contract + Beans_OpenMarket\n",
        "\n",
        "  # roasting and processing\n",
        "  AmountRoasted_Total = Beans_Total\n",
        "  AmountRoasted_InHouse = min(AmountRoasted_Total, RoastingCapacity)\n",
        "  AmountRoasted_Outsourced = AmountRoasted_Total - AmountRoasted_InHouse\n",
        "\n",
        "  # revenues\n",
        "  Revenues = Sales_Powder * Price_Powder\n",
        "\n",
        "  # costs\n",
        "  Cost_SourcingContract = Beans_Contract * ContractPrice\n",
        "  Cost_OpenMarket = Beans_OpenMarket * OpenMarketPrice\n",
        "  Cost_Roasting_InHouse = AmountRoasted_InHouse * RoastingCostInHouse \n",
        "  Cost_Roasting_Outsourced = AmountRoasted_Outsourced * RoastingCostOutsourced\n",
        "  Cost_Fixed = FixedCosts if (AmountRoasted_Outsourced > 0) else 0\n",
        "  Cost_Total = Cost_SourcingContract + Cost_OpenMarket + Cost_Roasting_InHouse + Cost_Roasting_Outsourced + Cost_Fixed\n",
        "\n",
        "  # gross profit   \n",
        "  return Revenues - Cost_Total\n",
        "\n",
        "print(\"Function defined successfully.\")"
      ],
      "execution_count": null,
      "outputs": []
    },
    {
      "cell_type": "markdown",
      "metadata": {
        "id": "of8UWN2-aTYb"
      },
      "source": [
        "Now let's use the function to calculate the profit for our given data in Question 4."
      ]
    },
    {
      "cell_type": "code",
      "metadata": {
        "scrolled": false,
        "id": "iXUkwuRjaTYc",
        "cellView": "form"
      },
      "source": [
        "#@markdown Calculate and display the gross profit for Q4\n",
        "# contract\n",
        "ContractPercent = 0.60\n",
        "ContractPrice = 1.50\n",
        "\n",
        "# open market\n",
        "OpenMarketPrice = 1.75\n",
        "\n",
        "# processing\n",
        "Yield = 0.85\n",
        "RoastingCapacity = 200000000\n",
        "RoastingCostInHouse = 4.30\n",
        "FixedCosts = 100000000\n",
        "RoastingCostOutsourced = 5.30\n",
        "\n",
        "# market for roasted beans\n",
        "DemandIntercept = 600000000\n",
        "DemandSlope = -35000000\n",
        "Price_Powder = 11.00\n",
        "\n",
        "# calculate the gross profit\n",
        "profit_Q4 = calculate_gross_profit(ContractPercent, ContractPrice, OpenMarketPrice, Yield, RoastingCapacity, \\\n",
        "                                   RoastingCostInHouse, FixedCosts, RoastingCostOutsourced, \\\n",
        "                                   DemandIntercept, DemandSlope, Price_Powder)\n",
        "\n",
        "print(\"Starbux's gross profit prediction: ${:,.0f}.\".format(profit_Q4))"
      ],
      "execution_count": null,
      "outputs": []
    },
    {
      "cell_type": "markdown",
      "metadata": {
        "id": "6UFxI7n4aTYe"
      },
      "source": [
        "<a id=\"Q5\"></a>\n",
        "## Q5. Prescriptive Analytics and Optimization\n",
        "We want to know how gross profits depend on the price charged for cocoa powder, and which **optimal price** to charge to maximize profits.\n",
        "\n",
        "*Expand for details. This section assumes you already ran the section for Q4; if not, please return there and re-run that entire section.*"
      ]
    },
    {
      "cell_type": "code",
      "metadata": {
        "scrolled": false,
        "id": "VyJtLaoaaTYe",
        "cellView": "form"
      },
      "source": [
        "#@markdown Test multiple price points and display the corresponding profits\n",
        "\n",
        "# run a simple for loop to test multiple values of the price\n",
        "\n",
        "#@markdown - feel free to change the price values tested (min, max and increment) \n",
        "min_price = 5 #@param [5.0, 10.0]\n",
        "max_price = \"15\" #@param [10.0, 15.0, 20.0]\n",
        "price_increment = 0.25 #@param [0.01, 0.05, 0.1, 0.25, 0.5]\n",
        "\n",
        "min_price = np.float(min_price)\n",
        "max_price = np.float(max_price)\n",
        "price_increment = np.float(price_increment)\n",
        "\n",
        "# generate the test values for the prices\n",
        "price_test_vals = list(np.arange(min_price,\\\n",
        "                                 max_price,\\\n",
        "                                 price_increment))\n",
        "\n",
        "# we will calculate the gross profit for every price, so we will store this in a numpy array\n",
        "SB_profit_vals = np.zeros(len(price_test_vals))\n",
        "\n",
        "for j in range(len(price_test_vals)):\n",
        "     SB_profit_vals[j] = calculate_gross_profit(ContractPercent, ContractPrice, OpenMarketPrice, Yield, RoastingCapacity, \\\n",
        "                                                RoastingCostInHouse, FixedCosts, RoastingCostOutsourced, \\\n",
        "                                                DemandIntercept, DemandSlope, Price_Powder = price_test_vals[j])\n",
        "\n",
        "# plot the dependency\n",
        "plt.figure(figsize=(10,5)) \n",
        "plt.plot(price_test_vals,  SB_profit_vals/1e6, color='blue', linestyle='solid', \\\n",
        "         linewidth=0.5, marker = '.', markersize = 10, alpha = 0.7 )\n",
        "\n",
        "plt.title( \"Gross profit as a function of cocoa powder price\", fontsize=14)\n",
        "plt.xlabel(\"Price for cocoa powder ($/pound)\", fontsize=12)\n",
        "plt.ylabel(\"Gross profit (Million $)\", fontsize=12)\n",
        "plt.yticks(fontsize=12)\n",
        "plt.xticks(fontsize=12)\n",
        "plt.tight_layout()\n",
        "#ax = plt.gca()\n",
        "#ax.yaxis.set_major_formatter(ticker.StrMethodFormatter(\"{x:.1f}\"))\n",
        "plt.show()\n",
        "\n",
        "# calculate the optimal price and profit\n",
        "opt_profit = np.max(SB_profit_vals)\n",
        "opt_price = price_test_vals[np.argmax(SB_profit_vals)]\n",
        "\n",
        "print(\"The optimal price to charge is ${}, resulting in an optimal profit of ${:,.0f}.\".\\\n",
        "     format(opt_price,opt_profit))"
      ],
      "execution_count": null,
      "outputs": []
    },
    {
      "cell_type": "markdown",
      "metadata": {
        "id": "_N03EmMsaTYg"
      },
      "source": [
        "<a id=\"Q6\"></a>\n",
        "## Q6. A Simulation Model\n",
        "Here, we will use scenarios based on historical data to predict potential profit values.\n",
        "\n",
        "*Expand for details. This section assumes you already ran the section for Q4; if not, please return there and re-run that entire section.*"
      ]
    },
    {
      "cell_type": "code",
      "metadata": {
        "scrolled": false,
        "id": "gikvLyw1aTYg",
        "cellView": "form"
      },
      "source": [
        "#@markdown Read the scenario data and display a few scenarios \n",
        "\n",
        "#read data into a dataframe\n",
        "ScenarioInformation = pd.read_csv(local_file_Q6, index_col=0)\n",
        "scenarios = list(ScenarioInformation.index)\n",
        "\n",
        "ScenarioInformation"
      ],
      "execution_count": null,
      "outputs": []
    },
    {
      "cell_type": "code",
      "metadata": {
        "scrolled": true,
        "id": "8qcGP6xvaTYj",
        "cellView": "form"
      },
      "source": [
        "#@markdown Calculate and display the gross profits for every scenario, and the average\n",
        "SB_profit_vals = np.zeros(len(scenarios))\n",
        "\n",
        "print(\"Scenario: \\tProfit value:\")\n",
        "for i in range(len(scenarios)):\n",
        "  s = scenarios[i]\n",
        "  open_m_price_val = ScenarioInformation[\"Market_price_beans\"][s]\n",
        "  yield_val = ScenarioInformation[\"Yield\"][s]\n",
        "  SB_profit_vals[i] = \\\n",
        "  calculate_gross_profit(ContractPercent, ContractPrice, \\\n",
        "                         OpenMarketPrice=open_m_price_val, \\\n",
        "                         Yield=yield_val,\\\n",
        "                         RoastingCapacity = RoastingCapacity,\\\n",
        "                         RoastingCostInHouse = RoastingCostInHouse, \\\n",
        "                         FixedCosts = FixedCosts, \\\n",
        "                         RoastingCostOutsourced = RoastingCostOutsourced, \\\n",
        "                         DemandIntercept = DemandIntercept, \\\n",
        "                         DemandSlope = DemandSlope, \\\n",
        "                         Price_Powder = Price_Powder)\n",
        "  print(\"{}\\t\\t{:,.0f}\".format(s, SB_profit_vals[i]))\n",
        "\n",
        "# calculate average\n",
        "print(\"The expected (weighted average) profit is: {:,.0f}.\".\\\n",
        "      format(sum(SB_profit_vals[i] * ScenarioInformation[\"Probability\"][scenarios[i]] \\\n",
        "                 for i in range(len(scenarios)))))"
      ],
      "execution_count": null,
      "outputs": []
    },
    {
      "cell_type": "markdown",
      "metadata": {
        "id": "hrFUL5OCaTYk"
      },
      "source": [
        "<a id=\"Q7\"></a>\n",
        "## Q7. Decisions Under Uncertainty\n",
        "Next, we study the dependency of the gross profit on the volume of beans purchased in the contract, and on the open market price."
      ]
    },
    {
      "cell_type": "code",
      "metadata": {
        "id": "Ii9KjydXaTYl",
        "cellView": "form"
      },
      "source": [
        "#@markdown Determine and plot the dependency\n",
        "ScenarioInformation = pd.read_csv(local_file_Q6, index_col=0)\n",
        "scenarios = list(ScenarioInformation.index)\n",
        "\n",
        "# use 'arange' function from numpy to generate the test values for the percent in the contract\n",
        "percent_increment = 0.1 # increments of 10% (0.1) for the percentage in contract\n",
        "percentage_test_vals = np.arange(0,1 + percent_increment, percent_increment)\n",
        "\n",
        "# calculate the gross profits and revenues for every price\n",
        "SB_profit_vals = np.zeros((len(percentage_test_vals),len(scenarios)))\n",
        "\n",
        "for p in range(len(percentage_test_vals)):\n",
        "    for i in range(len(scenarios)):\n",
        "      # determine the correct volume in the contract\n",
        "      perc_contract_val = percentage_test_vals[p]\n",
        "\n",
        "      # determine the correct values for open market price and yield\n",
        "      s = scenarios[i]\n",
        "      open_m_price_val = ScenarioInformation[\"Market_price_beans\"][s]\n",
        "      yield_val = ScenarioInformation[\"Yield\"][s]\n",
        "\n",
        "      # calculate coresponding gross profit\n",
        "      SB_profit_vals[(p,i)] = \\\n",
        "      calculate_gross_profit(ContractPercent=perc_contract_val, \\\n",
        "                             ContractPrice=ContractPrice, \\\n",
        "                             OpenMarketPrice=open_m_price_val, \\\n",
        "                            Yield=yield_val,\\\n",
        "                            RoastingCapacity = RoastingCapacity,\\\n",
        "                            RoastingCostInHouse = RoastingCostInHouse, \\\n",
        "                            FixedCosts = FixedCosts, \\\n",
        "                            RoastingCostOutsourced = RoastingCostOutsourced, \\\n",
        "                            DemandIntercept = DemandIntercept, \\\n",
        "                            DemandSlope = DemandSlope, \\\n",
        "                            Price_Powder = Price_Powder)\n",
        "\n",
        "# a single plot for everything\n",
        "fig, ax1 = plt.subplots(figsize=(12,7))\n",
        "\n",
        "# do one plot for every value of the open market price\n",
        "blues = mpl.cm.get_cmap(\"Blues\")\n",
        "ax1.set_prop_cycle('color',[blues(i) for i in np.linspace(0, 1, len(percentage_test_vals))])\n",
        "for i in range(len(scenarios)):\n",
        "    plt.plot(percentage_test_vals*100, SB_profit_vals[:,i]/1e6, linestyle='-', linewidth=3, marker = 'o' )\n",
        "\n",
        "plt.xlabel(\"Volume in contract as fraction of total\", fontsize=14)\n",
        "plt.ylabel(\"SB gross profit (Million $)\", fontsize=14)\n",
        "plt.title(\"Gross profit for different volumes purchased in the contract and open market prices of beans\", \\\n",
        "          fontsize=16)\n",
        "plt.yticks(fontsize=12)\n",
        "plt.xticks(fontsize=12)\n",
        "ax1.xaxis.set_major_formatter(ticker.PercentFormatter())\n",
        "\n",
        "legend_labels = [ \"$\" + str(ScenarioInformation[\"Market_price_beans\"][s]) for s in scenarios ]\n",
        "plt.legend(legend_labels, fontsize=12, title='Open Market Price', \\\n",
        "           title_fontsize=12)\n",
        "plt.tight_layout()\n",
        "\n",
        "# uncomment next line to calculate expected profits\n",
        "# np.dot(SB_profit_vals,ScenarioInformation[\"Probability\"][:])"
      ],
      "execution_count": null,
      "outputs": []
    }
  ]
}