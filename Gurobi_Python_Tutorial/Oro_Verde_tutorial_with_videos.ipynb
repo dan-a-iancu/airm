{
  "nbformat": 4,
  "nbformat_minor": 0,
  "metadata": {
    "kernelspec": {
      "display_name": "Python 3",
      "language": "python",
      "name": "python3"
    },
    "language_info": {
      "codemirror_mode": {
        "name": "ipython",
        "version": 3
      },
      "file_extension": ".py",
      "mimetype": "text/x-python",
      "name": "python",
      "nbconvert_exporter": "python",
      "pygments_lexer": "ipython3",
      "version": "3.6.5"
    },
    "colab": {
      "name": "S02_ARM_Oro Verde - tutorial with videos.ipynb",
      "provenance": [],
      "collapsed_sections": [
        "qCzPuGecgcl9",
        "iCFHcyBTgcl-",
        "S3DsnYokgcl-",
        "-mEfp559gcl-",
        "rzQc-61Pgcl_",
        "ABBur00tgcl_",
        "-t-hpLcRgcmA",
        "ivF4dxuAgcmA",
        "BAgBDXupgcmB",
        "RU1dhTplgcmC",
        "EFSEp0kWgcmC",
        "r63Ixxq6gcmD",
        "M7HCpRpngcmD",
        "m2dD-54ngcmE",
        "jfIzad2pgcmE",
        "ugYxAtq5gcmE",
        "pfqyo4EQgcmF",
        "Hdu1zpbGgcmG",
        "Lus4Wy15gcmG"
      ],
      "toc_visible": true,
      "include_colab_link": true
    }
  },
  "cells": [
    {
      "cell_type": "markdown",
      "metadata": {
        "id": "view-in-github",
        "colab_type": "text"
      },
      "source": [
        "<a href=\"https://colab.research.google.com/github/dan-a-iancu/airm/blob/master/Gurobi_Python_Tutorial/Oro_Verde_tutorial_with_videos.ipynb\" target=\"_parent\"><img src=\"https://colab.research.google.com/assets/colab-badge.svg\" alt=\"Open In Colab\"/></a>"
      ]
    },
    {
      "cell_type": "markdown",
      "metadata": {
        "id": "E2s2R76Cgcls"
      },
      "source": [
        "<a id=\"intro\"></a>\n",
        "## Solving the \"Oro Verde\" Problem and Expanded Tutorial on Linear Optimization \n",
        "The goal of this Jupyter notebook is to complement the [Handout on Linear Optimization](https://canvas.stanford.edu/courses/90540/files/3520978/download?wrap=1), available as a PDF file on the course Canvas site. If you are not familiar with this handout, we suggest reading the first two sections of the PDF document, and then returning here. We have two related goals here:\n",
        " 1. To show you how to solve the Oro Verde tree planting problem using Python and Gurobi;\n",
        " 2. To provide several hints for how to construct good models in practice.\n",
        "\n",
        "As such, this notebook is intended as a broader tutorial that includes several useful functions for doing linear optimization in Python and Gurobi, and you may find it to be a useful reference for several future problems.\n",
        "___\n",
        "\n",
        "The notebook is organized in several different sections. Here is a quick outline including the main functions of interest, to make it easy in case you want to jump to a particular section:\n",
        " - [Section 1](#params_data) : import data using __pandas__. [ ``pandas.read_excel(...)`` ]\n",
        " - [Section 2](#create_model) : create an empty __Model__ in Gurobi. [ ``gurobi.Model(...)`` ]\n",
        " - [Section 3](#decisions) : create and add decision variables in the Gurobi model. [ ``Model.addVar(...), Model.addVars(...), gurobi.quicksum()`` ]\n",
        " - [Section 4](#objective) : formulate and add an objective in the Gurobi model. [ ``Model.setObjective(...)`` ] \n",
        " - [Section 5](#constraints) : formulate and add constraints to the Gurobi model. [ ``Model.addConstr(...)`` ]\n",
        " - [Section 6](#inspecting_model) : inspect the Gurobi model; [update it](#model_update) and [write it](#write_model) to a file. [ ``Model.update(), Model.write(...)`` ]\n",
        " - [Section 7](#solve) : solving/optimizing the Gurobi model. [ ``Model.optimize()`` ]\n",
        " - [Section 8](#printing) : extracting the results of the optimization. [ ``DecisionVariable.X , Model.objVal`` ] \n",
        " - [Section 9](#evaluating_constraints) : extracting information about constraints [ ``Model.getConstrs(), Constraint.ConstrName, Constraint.RHS, Constraint.Sense, Constraint.Slack``]\n",
        " - [Section 10](#Gurobi_messages) : output messages in Gurobi reporting a model is [solved to optimality](#solved_optimality), [infeasibile](#infeasible) or [unbounded](#unbounded)\n",
        " - [Section 11](#change_model) : sensitivity analysis and shadow prices; changing the model and re-solving repeatedly [ ``Model.getConstrByName(), Constraint.Pi``]\n",
        " \n",
        "Lastly, a small note on the color coding used in our Markdown cells in this notebook. We will tend to use <font color=red>red fonts for things that are critical</font>, meaning these are things you __have to understand__ to build a model. We will also use <font color=blue>blue font for things that relate to \"good practice,\"</font> meaning they can __make your life easier if you want to get better at building (real-world) models__. All the other things are just plain-interesting and worth reading. :-)"
      ]
    },
    {
      "cell_type": "code",
      "metadata": {
        "colab": {
          "base_uri": "https://localhost:8080/",
          "height": 321
        },
        "id": "tByRpkSCgclz",
        "outputId": "a1cc4a70-161e-470f-f59c-1e57c8644a93"
      },
      "source": [
        "# import a function that allows embedding YouTube videos inside the Jupyter Notebook\n",
        "from IPython.display import YouTubeVideo\n",
        "\n",
        "# import the introductory video\n",
        "YouTubeVideo(id='_b5bFTCg9Js',width=600,height=300)"
      ],
      "execution_count": 1,
      "outputs": [
        {
          "output_type": "execute_result",
          "data": {
            "text/html": [
              "\n",
              "        <iframe\n",
              "            width=\"600\"\n",
              "            height=\"300\"\n",
              "            src=\"https://www.youtube.com/embed/_b5bFTCg9Js\"\n",
              "            frameborder=\"0\"\n",
              "            allowfullscreen\n",
              "        ></iframe>\n",
              "        "
            ],
            "text/plain": [
              "<IPython.lib.display.YouTubeVideo at 0x7f6d89589610>"
            ],
            "image/jpeg": "[encoded data removed]"
          },
          "metadata": {
            "tags": []
          },
          "execution_count": 1
        }
      ]
    },
    {
      "cell_type": "markdown",
      "metadata": {
        "id": "jrHbQ4Dvgcl1"
      },
      "source": [
        "_______\n",
        "<a id=\"basic_model\"></a>\n",
        "As mentioned, the notebook assumes that you are already familiar with the Oro Verde case and have understood the optimization model, i.e., the choice of decision variables and the expressions for the objective and constraints. For convenience, here is a formulation of the model taken from the handout :\n",
        "\n",
        "Find values for the decision variables __M, E, S__ to minimize the objective:        <br>\n",
        "\n",
        ">  5.40 · __M__ + 3.20 · __E__ + 4.50 · __S__ <br>\n",
        "\n",
        "Subject to the constraints: <br>\n",
        ">    (1): 130 · __M__ + 3, 600 · __E__ + 400 · __S__ ≤ 150, 000 <br>\n",
        ">    (2): 76 · __M__ + 48 · __E__ + 34 · __S__ ≤ 50, 000  <br>\n",
        ">    (3): __M__ ≤ 1,000  <br>\n",
        ">    (4): __E__ ≤ 500 <br>\n",
        ">    (5): __S__ ≤ 1,500  <br>\n",
        ">    (6): __E__ ≥ 15  <br>\n",
        ">    (7): 0.70 · 4.3 · __M__ + 0.60 · 3.7 · __E__ + 0.80 · 2.80 · __S__ ≥ 1, 800  <br>\n",
        ">    (8): __M__ ≥ 0, __E__ ≥ 0, and __S__ ≥ 0. <br>\n",
        "\n",
        "_______"
      ]
    },
    {
      "cell_type": "code",
      "metadata": {
        "id": "cx32A_bmgcl1"
      },
      "source": [
        "# import the video about modules\n",
        "#YouTubeVideo(id='_b5bFTCg9Js',width=600,height=300)"
      ],
      "execution_count": 2,
      "outputs": []
    },
    {
      "cell_type": "markdown",
      "metadata": {
        "id": "DMgr1H5ygcl1"
      },
      "source": [
        "#### First step in any file that builds an optimization model using Gurobi is to include the Gurobi package. In **Colab**, we first install Gurobi and then import the entire module."
      ]
    },
    {
      "cell_type": "code",
      "metadata": {
        "colab": {
          "base_uri": "https://localhost:8080/"
        },
        "id": "3s9E4CI5gcl2",
        "outputId": "e73e4e7c-7eaa-4c8f-c0e7-aa990ef4609f"
      },
      "source": [
        "# install Gurobi (our linear optimization solver)\r\n",
        "!pip install -i https://pypi.gurobi.com gurobipy\r\n",
        "from gurobipy import *"
      ],
      "execution_count": 3,
      "outputs": [
        {
          "output_type": "stream",
          "text": [
            "Looking in indexes: https://pypi.gurobi.com\n",
            "Requirement already satisfied: gurobipy in /usr/local/lib/python3.7/dist-packages (9.1.1)\n"
          ],
          "name": "stdout"
        }
      ]
    },
    {
      "cell_type": "markdown",
      "metadata": {
        "id": "bajA7daHgcl2"
      },
      "source": [
        "You can also import any other modules that you might need. We will use the _pandas_ module to read in data from larger files, so we import it here."
      ]
    },
    {
      "cell_type": "code",
      "metadata": {
        "id": "rJSOHIyzgcl2"
      },
      "source": [
        "import pandas as pd"
      ],
      "execution_count": 4,
      "outputs": []
    },
    {
      "cell_type": "markdown",
      "metadata": {
        "id": "f32pTGd1gcl3"
      },
      "source": [
        "________\n",
        "<a id=\"params_data\"></a>\n",
        "# Section 1. Parameters and data."
      ]
    },
    {
      "cell_type": "code",
      "metadata": {
        "colab": {
          "base_uri": "https://localhost:8080/",
          "height": 321
        },
        "id": "Y5GeZLiUgcl3",
        "outputId": "c3f14118-f132-479d-a8ae-79dac2525d2b"
      },
      "source": [
        "# import video about parameters & data\n",
        "YouTubeVideo(id='PPOgF7UjMpU',width=600,height=300)"
      ],
      "execution_count": 5,
      "outputs": [
        {
          "output_type": "execute_result",
          "data": {
            "text/html": [
              "\n",
              "        <iframe\n",
              "            width=\"600\"\n",
              "            height=\"300\"\n",
              "            src=\"https://www.youtube.com/embed/PPOgF7UjMpU\"\n",
              "            frameborder=\"0\"\n",
              "            allowfullscreen\n",
              "        ></iframe>\n",
              "        "
            ],
            "text/plain": [
              "<IPython.lib.display.YouTubeVideo at 0x7f6d852718d0>"
            ],
            "image/jpeg": "[encoded data removed]"
          },
          "metadata": {
            "tags": []
          },
          "execution_count": 5
        }
      ]
    },
    {
      "cell_type": "markdown",
      "metadata": {
        "id": "Kn2mowWvgcl3"
      },
      "source": [
        "All our optimization models require some amount of data to define the relevant problem parameters. Depending on the case, you can directly define some of the parameters by assigning suitable python variable names to them, as below:"
      ]
    },
    {
      "cell_type": "code",
      "metadata": {
        "id": "rnQoM-MKgcl3"
      },
      "source": [
        "land_avail = 150000              # available land area (in square feet)\n",
        "water_avail = 50000              # available water (in gallons)\n",
        "horizon = 10              # start time for commitment (in years) \n",
        "annual_seq_commit = 1800              # annual sequestration commitment\n",
        "min_elms = 15   # minimum requirement on elm trees"
      ],
      "execution_count": 6,
      "outputs": []
    },
    {
      "cell_type": "markdown",
      "metadata": {
        "id": "LpCPzFQKgcl4"
      },
      "source": [
        "For larger and more structured data, we will use the _pandas_ module to create suitable data frames by reading in csv or xlsx files. For instance, we can use the __read.excel(...)__ _pandas_ function to read a particular sheet from an Excel file. \r\n",
        "\r\n",
        "**For Colab**, we first download the datafile (a CSV file) from Github, and then open it and read the content."
      ]
    },
    {
      "cell_type": "code",
      "metadata": {
        "colab": {
          "base_uri": "https://localhost:8080/",
          "height": 154
        },
        "id": "4N7sBSdNgcl4",
        "outputId": "547c0487-9e8d-48c0-aabe-fa9c8d7e1e5a"
      },
      "source": [
        "#@markdown - download the data as a CSV file (stored online)\n",
        "import urllib\n",
        "url_Q1 = \"https://raw.githubusercontent.com/dan-a-iancu/airm/master/Oro_Verde/Oro_Verde_data.csv\"\n",
        "local_file_Q1 = \"Oro_Verde_data.csv\"   # name of local file where you want to store the downloaded file\n",
        "aux = urllib.request.urlretrieve(url_Q1, local_file_Q1)    # download from website and save it locally\n",
        "\n",
        "#@markdown - read data into a pandas dataframe\n",
        "mydata = pd.read_csv(\"Oro_Verde_data.csv\") \n",
        "\n",
        "display(mydata)\n",
        "print('Successfully read the data.')"
      ],
      "execution_count": 7,
      "outputs": [
        {
          "output_type": "display_data",
          "data": {
            "text/html": [
              "<div>\n",
              "<style scoped>\n",
              "    .dataframe tbody tr th:only-of-type {\n",
              "        vertical-align: middle;\n",
              "    }\n",
              "\n",
              "    .dataframe tbody tr th {\n",
              "        vertical-align: top;\n",
              "    }\n",
              "\n",
              "    .dataframe thead th {\n",
              "        text-align: right;\n",
              "    }\n",
              "</style>\n",
              "<table border=\"1\" class=\"dataframe\">\n",
              "  <thead>\n",
              "    <tr style=\"text-align: right;\">\n",
              "      <th></th>\n",
              "      <th>TreeType</th>\n",
              "      <th>SequestrationRate</th>\n",
              "      <th>WaterRequirement</th>\n",
              "      <th>Width</th>\n",
              "      <th>SurvivalRate</th>\n",
              "      <th>SeedlingCost</th>\n",
              "      <th>SeedlingsAvailable</th>\n",
              "    </tr>\n",
              "  </thead>\n",
              "  <tbody>\n",
              "    <tr>\n",
              "      <th>0</th>\n",
              "      <td>Maple</td>\n",
              "      <td>4.3</td>\n",
              "      <td>76.0</td>\n",
              "      <td>130.0</td>\n",
              "      <td>0.7</td>\n",
              "      <td>5.4</td>\n",
              "      <td>1000.0</td>\n",
              "    </tr>\n",
              "    <tr>\n",
              "      <th>1</th>\n",
              "      <td>Elm</td>\n",
              "      <td>3.7</td>\n",
              "      <td>48.0</td>\n",
              "      <td>3600.0</td>\n",
              "      <td>0.6</td>\n",
              "      <td>3.2</td>\n",
              "      <td>500.0</td>\n",
              "    </tr>\n",
              "    <tr>\n",
              "      <th>2</th>\n",
              "      <td>Spruce</td>\n",
              "      <td>2.8</td>\n",
              "      <td>34.0</td>\n",
              "      <td>400.0</td>\n",
              "      <td>0.8</td>\n",
              "      <td>4.5</td>\n",
              "      <td>1500.0</td>\n",
              "    </tr>\n",
              "  </tbody>\n",
              "</table>\n",
              "</div>"
            ],
            "text/plain": [
              "  TreeType  SequestrationRate  ...  SeedlingCost  SeedlingsAvailable\n",
              "0    Maple                4.3  ...           5.4              1000.0\n",
              "1      Elm                3.7  ...           3.2               500.0\n",
              "2   Spruce                2.8  ...           4.5              1500.0\n",
              "\n",
              "[3 rows x 7 columns]"
            ]
          },
          "metadata": {
            "tags": []
          }
        },
        {
          "output_type": "stream",
          "text": [
            "Successfully read the data.\n"
          ],
          "name": "stdout"
        }
      ]
    },
    {
      "cell_type": "markdown",
      "metadata": {
        "id": "IbKGxvZxgcl4"
      },
      "source": [
        "______\n",
        "<a id=\"create_model\"></a>\n",
        "# Section 2. Create a Gurobi model."
      ]
    },
    {
      "cell_type": "code",
      "metadata": {
        "colab": {
          "base_uri": "https://localhost:8080/",
          "height": 321
        },
        "id": "DP-S3BqNgcl5",
        "outputId": "1a2dcc13-8114-4612-8b45-b2474162a097"
      },
      "source": [
        "# import video about parameters & data\n",
        "YouTubeVideo(id='kp3dsKYGboI',width=600,height=300)"
      ],
      "execution_count": 8,
      "outputs": [
        {
          "output_type": "execute_result",
          "data": {
            "text/html": [
              "\n",
              "        <iframe\n",
              "            width=\"600\"\n",
              "            height=\"300\"\n",
              "            src=\"https://www.youtube.com/embed/kp3dsKYGboI\"\n",
              "            frameborder=\"0\"\n",
              "            allowfullscreen\n",
              "        ></iframe>\n",
              "        "
            ],
            "text/plain": [
              "<IPython.lib.display.YouTubeVideo at 0x7f6d8527b990>"
            ],
            "image/jpeg": "[encoded data removed]"
          },
          "metadata": {
            "tags": []
          },
          "execution_count": 8
        }
      ]
    },
    {
      "cell_type": "markdown",
      "metadata": {
        "id": "qOnAe6YNgcl5"
      },
      "source": [
        "The first step in building our optimization model in Gurobi is to create a Gurobi object that will literally serve as a \"placeholder\" for all our model ingredients (decision variables, objective, and constraints). <font color=red>__To create a new model, we use the function called ``Model(...)`` found in the Gurobi module.__\n",
        "</font> "
      ]
    },
    {
      "cell_type": "code",
      "metadata": {
        "scrolled": true,
        "colab": {
          "base_uri": "https://localhost:8080/"
        },
        "id": "EDfxjbe8gcl5",
        "outputId": "bfd5ed4d-d924-44c0-f324-2e83c5f5a7fc"
      },
      "source": [
        "mymodel = Model(\"Simple Tree Planting Model\")"
      ],
      "execution_count": 9,
      "outputs": [
        {
          "output_type": "stream",
          "text": [
            "Restricted license - for non-production use only - expires 2022-01-13\n"
          ],
          "name": "stdout"
        }
      ]
    },
    {
      "cell_type": "markdown",
      "metadata": {
        "id": "0XiGvFjQgcl5"
      },
      "source": [
        "Above, ``mymodel`` is the name of the Python variable, and \"Simple Tree Planting Model\" is just a Gurobi name, which you may want to make more \"human interpretable.\" It is the Python variable (``mymodel``) that will be relevant subsequently."
      ]
    },
    {
      "cell_type": "markdown",
      "metadata": {
        "id": "0MtbR7H5gcl5"
      },
      "source": [
        "<font color=blue> __GOOD PRACTICE.__ As we start adding elements into our model, it is a good idea to occasionally inspect it to make sure that everything is OK. This is good __for debugging purposes__, as it allows checking step-by-step whether the changes we intend to make are actually correctly reflected in the Gurobi model. But it is obviously not \"mission-critical,\" i.e., we could add all the model ingredients (decision variables, objective, constraints) and then solve the model without any inspection. </font> <br>\n",
        "\n",
        "We will show you how to display and check the model ingredients after constructing the entire model, in [Section 6](#inspecting_model). But once you understand those ideas, it might be good to return here and start using those techniques throughout the entire model-building process, rather than waiting until the very end."
      ]
    },
    {
      "cell_type": "markdown",
      "metadata": {
        "id": "QNSum4qsgcl6"
      },
      "source": [
        "_____\n",
        "<a id=\"decisions\"></a>\n",
        "# Section 3. Create and add decision variables into the model."
      ]
    },
    {
      "cell_type": "code",
      "metadata": {
        "colab": {
          "base_uri": "https://localhost:8080/",
          "height": 321
        },
        "id": "mBXIisG1gcl6",
        "outputId": "713c8c60-b444-4caa-f693-8205632ce8b3"
      },
      "source": [
        "# import video\n",
        "YouTubeVideo(id='ikn5vac0RnQ',width=600,height=300)"
      ],
      "execution_count": 10,
      "outputs": [
        {
          "output_type": "execute_result",
          "data": {
            "text/html": [
              "\n",
              "        <iframe\n",
              "            width=\"600\"\n",
              "            height=\"300\"\n",
              "            src=\"https://www.youtube.com/embed/ikn5vac0RnQ\"\n",
              "            frameborder=\"0\"\n",
              "            allowfullscreen\n",
              "        ></iframe>\n",
              "        "
            ],
            "text/plain": [
              "<IPython.lib.display.YouTubeVideo at 0x7f6d851cc610>"
            ],
            "image/jpeg": "[encoded data removed]"
          },
          "metadata": {
            "tags": []
          },
          "execution_count": 10
        }
      ]
    },
    {
      "cell_type": "markdown",
      "metadata": {
        "id": "i6bKXg_ngcl7"
      },
      "source": [
        "Having constructed an empty Gurobi model, next step is to define and add the decision variables. <br> \n",
        "<font color=red>__Adding one decision variable in a Gurobi model is done by calling the ``addVar``(...) method of the model.__ </font> Its syntax is: \n",
        "\n",
        "> ``DecisionVariable = Model.addVar ( lb=0.0, ub=GRB.INFINITY, obj=0.0, vtype=GRB.CONTINUOUS, name=\"\" )``\n",
        "\n",
        "This function does two things:\n",
        " 1. It returns an object (``DecisionVariable``) that corresponds to the newly created decision variable\n",
        " 2. It formally adds this decision variable in our Gurobi model\n",
        " \n",
        "All the arguments for the function are optional, and their default values are included above. They have the following meaning:\n",
        " - __lb__ : a lower bound on the value of the decision; the default value is 0, so <font color=red>by omitting a lower bound, Gurobi will automatically add a lower bound of 0, which means it will assume our decision is non-negative</font>\n",
        " - __ub__ : an upper bound on the value of the decision; the default value is __GRB.INFINITY__, which means $+\\infty$ in Gurobi <br>\n",
        " - __obj__ : the objective coefficient for the decision variable, i.e., the number that multiplies this decision in the objective\n",
        " - __vtype__ : the types of values that the decision can take; we will use __GRB.CONTINUOUS__ for decisions that can take any continuous values, __GRB.INTEGER__ for integers, and __GRB.BINARY__ for decisions that can only take values 0 and 1\n",
        " - __name__ : an internal Gurobi name; try to pick something that is meaningful and easy to remember.\n",
        "\n",
        "<font color=red> __Specifying lower or upper bounds when defining decision variables is equivalent to adding constraints on the decisions.__</font><br> For instance, `` X = mymodel.addVar( lb=5.0, ub=10.0)`` would create a new decision variable ``X`` constrained to satisfy:  5.0 <= ``X`` <= 10.0.\n",
        "\n",
        "The ``addVar`` method admits some other arguments, but the syntax above is the most common way in which we will be using it. If you are curious or want more details, you can refer to [the extra resources](https://canvas.stanford.edu/courses/90540/modules/items/372795)  on the course Canvas site or to the [Gurobi reference manual](http://www.gurobi.com/documentation/8.0/refman/cpp_grbmodel_addvar.html)."
      ]
    },
    {
      "cell_type": "markdown",
      "metadata": {
        "id": "fJxXE9tBgcl7"
      },
      "source": [
        "___\n",
        "__APPLYING THIS IN THE Oro Verde PROBLEM__<br>\n",
        "In Oro Verde, there are three decision variables: __M__, __E__ and __S__, denoting how many Maple/Elm/Spruce trees to plant, respectively.\n",
        "To create and add these 3 decision variables in our model, we __could__ use the following code:\n",
        "> ``M = mymodel.addVar(name = \"Num Maple Trees\")``<br>\n",
        "> ``E = mymodel.addVar(name = \"Num Elm Trees\")``<br>\n",
        "> ``S = mymodel.addVar(name = \"Num Spruce Trees\")``<br>\n",
        "\n",
        "The first line above creates a new decision variable within the Gurobi model ``mymodel``, gives it a name ``\"Num Maple Trees\"``, and also stores it in the Python variable ``M`` for each access. This decision variable is also given an internal Gurobi name \"Num Maple Trees\". The next two lines do the same purpose for the Elm and Spruce decision variables. \n",
        "\n",
        "Once this code is executed, we could simply use the Python variables ``M, E, S`` whenever we want to refer to the decision variables. The code is acceptable and would achieve what we want in the Oro Verde case. However, this approach would not scale well at all! For instance, imagine we had 1,000 types of trees to pick from -- we would then have to write 1,000 lines of code, which would not only be tedious, but also very error prone!"
      ]
    },
    {
      "cell_type": "markdown",
      "metadata": {
        "id": "qj9A8lSNgcl7"
      },
      "source": [
        "__A MORE SYSTEMATIC APPROACH__<br>\n",
        "Instead of the approach above, we will show you a more \"programmatic\" way to define the decision variables, which would work even if we had to deal with an arbitrary number of tree types. We will store the decision variables in a Python __list__, which we create using a \"for loop.\" The following code achieves this: "
      ]
    },
    {
      "cell_type": "code",
      "metadata": {
        "id": "hKCU_kBMgcl7"
      },
      "source": [
        "numDecisions = len(mydata)           # calculate the number of decisions (based on the data frame)\n",
        "trees_to_plant = [0]*numDecisions    # initialize the list with zeros\n",
        "\n",
        "for i in range(numDecisions):        # define one variable for each tree type\n",
        "    trees_to_plant[i] = mymodel.addVar(lb = 0, name = mydata[\"TreeType\"][i])"
      ],
      "execution_count": 11,
      "outputs": []
    },
    {
      "cell_type": "markdown",
      "metadata": {
        "id": "OX_S40ttgcl8"
      },
      "source": [
        "__SOME OBSERVATIONS.__ \n",
        "\n",
        " 1. In the command above we specified a lower bound of 0 (``lb = 0``), which means that each decision variable must be >= 0. This effectively takes care of the non-negativity constraints in [our model](#basic_model) (i.e., Constraints 8).  Since no upper bound was included, Gurobi will default to ``ub =`` $+\\infty$.<br>\n",
        "\n",
        " 2. We did not include an objective coefficient. In complex models it is typically hard to know these coefficients apriori, so this method is the most general one. However, in the simple Oro Verde model we know that the objective coefficients are exactly in the ``\"SeedlingCost\"`` column of our data frame. So we could have also used the syntax:\n",
        " > ``trees_to_plant[i] = mymodel.addVar(lb=0, name=mydata[\"TreeType\"][i], obj=mydata[\"SeedlingCost\"][i]) ``\n",
        "\n",
        " 3. Our choice of Gurobi names above was based on ``mydata[\"TreeType\"]``. This means that our decisions will be called _\"Maple,\"_ _\"Elm\"_ and _\"Spruce\"_ in Gurobi, instead of __M__, __E__ and __S__ as in our [model formulation](#basic_model). (If you want to have identical names, try changing the name in the syntax above to: ``name = mydata[\"TreeType\"][i][0]`` )\n",
        " \n",
        " 4. When formulating your model subsequently, you can gain access to the decision variables in several ways. The preferred method is to use our Python list __trees_to_plant__ created above. Alternatively, we could obtain each variable from the Gurobi model with the __getVarByName(...)__ method. For instance, the decision variable for Maple trees can be obtained either as ``trees_to_plant[0]`` or as ``mymodel.getVarByName(\"Maple\")``.\n",
        " \n",
        " 5. Although we used a python list, you could also use other data structures to store your decisions. For instance, a python __dictionary__ could also work. And sometimes it may even be advantageous to organize your decisions in a matrix instead of a list. We will see other examples throughout the course, but a list is good enough for now."
      ]
    },
    {
      "cell_type": "markdown",
      "metadata": {
        "id": "_ze7iWUtjsVg"
      },
      "source": [
        "<font color=red>**IMPORTANT NOTE.**</font> There is an even more concise way to add **several decision variables** at once. This is based on the [``addVars``](https://www.gurobi.com/documentation/9.1/refman/py_model_addvars.html) method, and it has the following syntax:\r\n",
        ">   addVars ( *indices, lb=0.0, ub=float('inf'), obj=0.0, vtype=GRB.CONTINUOUS, name=\"\" )\r\n",
        "\r\n",
        "This function returns a dictionary of decision variables, whose keys are derived from the ``*indices`` argument. The most common way to use this is to create one decision for each element of a list. For instance, in the specific example here, we could have added three decisions, for every tree type, by simply using the command:\r\n",
        ">    trees_to_plant = mymodel.addVars([\"Maple\", \"Elm\", \"Spruce\"])\r\n",
        "\r\n",
        "This woould have added a decision for each tree name, and we would have gained access to the decisions using these names. For instance, ``trees_to_plant[\"Maple\"]`` would ahve given us direct access to the decision variable for Maple trees. We will be using this type of syntax often for more complex models, but the rest of the tutorial will rely on the simpler form above."
      ]
    },
    {
      "cell_type": "markdown",
      "metadata": {
        "id": "zp18jnTZgcl8"
      },
      "source": [
        "____________\n",
        "<a id=\"objective\"></a>\n",
        "# Section 4. Formulate and add the objective to the model."
      ]
    },
    {
      "cell_type": "code",
      "metadata": {
        "colab": {
          "base_uri": "https://localhost:8080/",
          "height": 321
        },
        "id": "qtZw1v6Hgcl8",
        "outputId": "38febac8-1f8e-44b5-85e9-7c2b94d6fc86"
      },
      "source": [
        "# import video\n",
        "YouTubeVideo(id='ixCPvnGo8jw',width=600,height=300)"
      ],
      "execution_count": 12,
      "outputs": [
        {
          "output_type": "execute_result",
          "data": {
            "text/html": [
              "\n",
              "        <iframe\n",
              "            width=\"600\"\n",
              "            height=\"300\"\n",
              "            src=\"https://www.youtube.com/embed/ixCPvnGo8jw\"\n",
              "            frameborder=\"0\"\n",
              "            allowfullscreen\n",
              "        ></iframe>\n",
              "        "
            ],
            "text/plain": [
              "<IPython.lib.display.YouTubeVideo at 0x7f6d851cc190>"
            ],
            "image/jpeg": "[encoded data removed]"
          },
          "metadata": {
            "tags": []
          },
          "execution_count": 12
        }
      ]
    },
    {
      "cell_type": "markdown",
      "metadata": {
        "id": "c8eHN4VTgcl8"
      },
      "source": [
        "We need to construct an expression for the objective. We will store this in a new python variable, which we call ``planting_cost``. There are many ways to construct the correct expression. For instance, we could just rely on a plain ``for`` loop, as follows:\n",
        "\n",
        "> ``planting_cost = 0.0     # initialize with 0 `` <br>\n",
        "> ``for i in range(numDecisions) : planting_cost += trees_to_plant[i] * mydata[\"SeedlingCost\"][i] ``\n",
        "\n",
        "We will show you a way that uses the Gurobi __quicksum(...)__ function, which is very similar to python's traditional __sum(...)__ function but is more efficient when summing over decision variables. <font color=blue>__We will be using this quite often in formulating models, so make sure you understand how it works!__</font>"
      ]
    },
    {
      "cell_type": "code",
      "metadata": {
        "id": "vw_48cROgcl9"
      },
      "source": [
        " planting_cost = quicksum( \n",
        "     trees_to_plant[i] * mydata[\"SeedlingCost\"][i] for i in range(numDecisions) )"
      ],
      "execution_count": 13,
      "outputs": []
    },
    {
      "cell_type": "markdown",
      "metadata": {
        "id": "905A1Jnqgcl9"
      },
      "source": [
        "<font color=red>**To add the objective inside a Gurobi model, use the ``setObjective(...)`` method of the model.**\n",
        "</font> The syntax is:\n",
        "\n",
        "> ``Model.setObjective ( expression, sense )``\n",
        "\n",
        "The arguments have a straightforward meaning:\n",
        " - __expression__ : the expression for the objective (this could also just be a python variable containing the expression)\n",
        " - __sense__ : the \"sense\" in which to optimize; two options are possible, __GRB.MAXIMIZE__ or __GRB.MINIMIZE__"
      ]
    },
    {
      "cell_type": "code",
      "metadata": {
        "id": "FrvMkF1sgcl9"
      },
      "source": [
        "mymodel.setObjective(planting_cost, GRB.MINIMIZE)  # set the objective in our Gurobi model"
      ],
      "execution_count": 14,
      "outputs": []
    },
    {
      "cell_type": "markdown",
      "metadata": {
        "id": "qCzPuGecgcl9"
      },
      "source": [
        "________\n",
        "<a id=\"constraints\"></a>\n",
        "# Section 5. Formulate and add the constraints."
      ]
    },
    {
      "cell_type": "code",
      "metadata": {
        "colab": {
          "base_uri": "https://localhost:8080/",
          "height": 321
        },
        "id": "-HOfFaxUgcl9",
        "outputId": "3d705ba6-1373-4648-b89d-10e0b4cceeb2"
      },
      "source": [
        "# import video\n",
        "YouTubeVideo(id='Uj3XSEMi214',width=600,height=300)"
      ],
      "execution_count": 15,
      "outputs": [
        {
          "output_type": "execute_result",
          "data": {
            "text/html": [
              "\n",
              "        <iframe\n",
              "            width=\"600\"\n",
              "            height=\"300\"\n",
              "            src=\"https://www.youtube.com/embed/Uj3XSEMi214\"\n",
              "            frameborder=\"0\"\n",
              "            allowfullscreen\n",
              "        ></iframe>\n",
              "        "
            ],
            "text/plain": [
              "<IPython.lib.display.YouTubeVideo at 0x7f6d851db190>"
            ],
            "image/jpeg": "[encoded data removed]"
          },
          "metadata": {
            "tags": []
          },
          "execution_count": 15
        }
      ]
    },
    {
      "cell_type": "markdown",
      "metadata": {
        "id": "4_0_Vvuggcl9"
      },
      "source": [
        "We must add several types of constraints. We add these one at a time for clarity. \n",
        "<font color=red>\n",
        "__To add one constraint, use the __addConstr(...)__ method of the model.__\n",
        "</font> The typical syntax can take two forms:\n",
        "> ``Model.addConstr ( lhs, sense=None, rhs=None, name=\"\" )`` <br>\n",
        "> ``Model.addConstr ( expression, name=\"\" )``\n",
        "\n",
        "The meaning of the arguments is :\n",
        " - __lhs__ : the left-hand-side of the constraint\n",
        " - __sense__ : the type of the constraint (\">=\" or \"=\" or \"<=\")\n",
        " - __rhs__ : the right-hand-side of the constraint\n",
        " - __expression__ : a full expression of the constraint that includes the left-hand-side, the sense, and the right-hand-side\n",
        " - __name__ : a Gurobi name for the constraint\n",
        "\n",
        "The first syntax above is a more detailed one, where we can specify separately each ingredient of the constraint. The second syntax is more compact, and we will be using it more frequently. But these two are equivalent in the sense that every correct specification of a constraint must include all three elements: left-hand-side, sense, and right-hand-side. For more details, please refer to the [extra resources on Canvas](https://canvas.stanford.edu/courses/90540/modules/items/372795) or the [Gurobi manual](http://www.gurobi.com/documentation/8.0/refman/py_model_addconstr.html)."
      ]
    },
    {
      "cell_type": "markdown",
      "metadata": {
        "id": "gSlbHHR-gcl-"
      },
      "source": [
        "<font color=blue>\n",
        "__GOOD PRACTICE__. While there are many ways to express the same constraint logic,  we recommend adding constraints so that __the right-hand-side is a problem parameter / data__. This gives each constraint a more clear physical interpretation, and will be helpful later when we discuss sensitivity analysis.\n",
        "</font>"
      ]
    },
    {
      "cell_type": "markdown",
      "metadata": {
        "id": "iCFHcyBTgcl-"
      },
      "source": [
        "#### Constraint 1: land availability"
      ]
    },
    {
      "cell_type": "code",
      "metadata": {
        "colab": {
          "base_uri": "https://localhost:8080/"
        },
        "id": "Yb760W5Ngcl-",
        "outputId": "0d5b7ee9-508a-4a06-e4de-4441a410e5fa"
      },
      "source": [
        "mymodel.addConstr( \n",
        "    quicksum( trees_to_plant[i] * mydata[\"Width\"][i] for i in range(numDecisions)) <= land_avail , \n",
        "    \"land_avail\")"
      ],
      "execution_count": 16,
      "outputs": [
        {
          "output_type": "execute_result",
          "data": {
            "text/plain": [
              "<gurobi.Constr *Awaiting Model Update*>"
            ]
          },
          "metadata": {
            "tags": []
          },
          "execution_count": 16
        }
      ]
    },
    {
      "cell_type": "markdown",
      "metadata": {
        "id": "nInD8s0sgcl-"
      },
      "source": [
        "Note that Gurobi reports that your model is \"awaiting update.\" This is related to Gurobi's \"lazy updating\" feature. Gurobi will actually not process any changes in the model until we actually tell it to do so through some explicit commands. We will revisit this issue in [the next section](#inspecting_model)  once all the constraints are added, but you may want to bear this in mind."
      ]
    },
    {
      "cell_type": "markdown",
      "metadata": {
        "id": "S3DsnYokgcl-"
      },
      "source": [
        "#### Constraint 2: water availability"
      ]
    },
    {
      "cell_type": "code",
      "metadata": {
        "colab": {
          "base_uri": "https://localhost:8080/"
        },
        "id": "_Qxt_MNXgcl-",
        "outputId": "00d97787-82d0-4944-add4-9a73d997b59d"
      },
      "source": [
        "mymodel.addConstr( \n",
        "    quicksum( trees_to_plant[i] * mydata[\"WaterRequirement\"][i] for i in range(numDecisions)) <= water_avail , \n",
        "    \"water_avail\")"
      ],
      "execution_count": 17,
      "outputs": [
        {
          "output_type": "execute_result",
          "data": {
            "text/plain": [
              "<gurobi.Constr *Awaiting Model Update*>"
            ]
          },
          "metadata": {
            "tags": []
          },
          "execution_count": 17
        }
      ]
    },
    {
      "cell_type": "markdown",
      "metadata": {
        "id": "-mEfp559gcl-"
      },
      "source": [
        "#### Constraints 3-5: seedling availability for each tree type"
      ]
    },
    {
      "cell_type": "code",
      "metadata": {
        "id": "2BoD1JNPgcl_"
      },
      "source": [
        "for i in range(numDecisions) :\n",
        "    mymodel.addConstr( trees_to_plant[i] <= mydata[\"SeedlingsAvailable\"][i] , \n",
        "                \"%s_seedling_avail\" % mydata[\"TreeType\"][i] )"
      ],
      "execution_count": 18,
      "outputs": []
    },
    {
      "cell_type": "markdown",
      "metadata": {
        "id": "avqUSC68gcl_"
      },
      "source": [
        "__NOTE.__ Since these contraints are simply upper bounds on the decision variables, they could have also been added by specifying an upper bound when defining the decisions (you can refer back to [Section 3](#decisions) for details on how to do that.)"
      ]
    },
    {
      "cell_type": "markdown",
      "metadata": {
        "id": "rzQc-61Pgcl_"
      },
      "source": [
        "#### Constraint 6: minimum number of elm trees"
      ]
    },
    {
      "cell_type": "code",
      "metadata": {
        "colab": {
          "base_uri": "https://localhost:8080/"
        },
        "id": "gONP47cygcl_",
        "outputId": "5aa76261-23f4-48cb-f562-cba6c46c1648"
      },
      "source": [
        "# we know that the decision variable for Elm is  \"trees_to_plant[1]\", so we could just write:\n",
        "mymodel.addConstr(  trees_to_plant[1] >= min_elms, \"min_elms\" )"
      ],
      "execution_count": 19,
      "outputs": [
        {
          "output_type": "execute_result",
          "data": {
            "text/plain": [
              "<gurobi.Constr *Awaiting Model Update*>"
            ]
          },
          "metadata": {
            "tags": []
          },
          "execution_count": 19
        }
      ]
    },
    {
      "cell_type": "markdown",
      "metadata": {
        "id": "hiZi3mIlgcl_"
      },
      "source": [
        "However, a more elegant approach would be to find out which variable corresponds to \"Elm\". We can look up a variable in a model using its Gurobi name, using the method __getVarByName__. So the constraint above could also be written as:\n",
        "\n",
        "> ``mymodel.addConstr(  mymodel.getVarByName(\"Elm\") >= min_elms, \"min_elms\" )``"
      ]
    },
    {
      "cell_type": "markdown",
      "metadata": {
        "id": "ABBur00tgcl_"
      },
      "source": [
        "#### Constraint 7: minimum carbon sequestration commitment"
      ]
    },
    {
      "cell_type": "code",
      "metadata": {
        "colab": {
          "base_uri": "https://localhost:8080/"
        },
        "id": "1wUbHe1BgcmA",
        "outputId": "e6036c2b-3f25-46de-ea83-2a7a3e71eb0a"
      },
      "source": [
        "mymodel.addConstr( \n",
        "    quicksum( trees_to_plant[i] * mydata[\"SurvivalRate\"][i] * mydata[\"SequestrationRate\"][i]  \n",
        "    for i in range(numDecisions) ) >= annual_seq_commit , \"carbon_seq\")"
      ],
      "execution_count": 20,
      "outputs": [
        {
          "output_type": "execute_result",
          "data": {
            "text/plain": [
              "<gurobi.Constr *Awaiting Model Update*>"
            ]
          },
          "metadata": {
            "tags": []
          },
          "execution_count": 20
        }
      ]
    },
    {
      "cell_type": "markdown",
      "metadata": {
        "id": "-t-hpLcRgcmA"
      },
      "source": [
        "<a id=\"inspecting_model\"></a>\n",
        "# Section 6. Inspecting the model."
      ]
    },
    {
      "cell_type": "code",
      "metadata": {
        "colab": {
          "base_uri": "https://localhost:8080/",
          "height": 321
        },
        "id": "x6qfHdtDgcmA",
        "outputId": "2981db83-900a-4a38-b6b7-3907743a5f9a"
      },
      "source": [
        "# import video\n",
        "YouTubeVideo(id='f3kIZgpuKGU',width=600,height=300)"
      ],
      "execution_count": 21,
      "outputs": [
        {
          "output_type": "execute_result",
          "data": {
            "text/html": [
              "\n",
              "        <iframe\n",
              "            width=\"600\"\n",
              "            height=\"300\"\n",
              "            src=\"https://www.youtube.com/embed/f3kIZgpuKGU\"\n",
              "            frameborder=\"0\"\n",
              "            allowfullscreen\n",
              "        ></iframe>\n",
              "        "
            ],
            "text/plain": [
              "<IPython.lib.display.YouTubeVideo at 0x7f6d851dbc50>"
            ],
            "image/jpeg": "[encoded data removed]"
          },
          "metadata": {
            "tags": []
          },
          "execution_count": 21
        }
      ]
    },
    {
      "cell_type": "markdown",
      "metadata": {
        "id": "ZB3-sEBqgcmA"
      },
      "source": [
        "<font color=blue> __GOOD PRACTICE.__ Now that we have added all the ingredients, __it is quite critical to check the model and make sure it is actually correct.__</font> \n",
        "\n",
        "One way to do this is simply to __print the model__. Here is the output we would get by printing right now:"
      ]
    },
    {
      "cell_type": "code",
      "metadata": {
        "scrolled": true,
        "colab": {
          "base_uri": "https://localhost:8080/"
        },
        "id": "2QyDFnv6gcmA",
        "outputId": "2cb8ae93-890e-417a-b8a7-50851681be3e"
      },
      "source": [
        "mymodel"
      ],
      "execution_count": 22,
      "outputs": [
        {
          "output_type": "execute_result",
          "data": {
            "text/plain": [
              "<gurobi.Model Continuous instance Simple Tree Planting Model: 0 constrs, 0 vars, No parameter changes>"
            ]
          },
          "metadata": {
            "tags": []
          },
          "execution_count": 22
        }
      ]
    },
    {
      "cell_type": "markdown",
      "metadata": {
        "id": "6qWGXaCfgcmA"
      },
      "source": [
        "This might seem like a mistake: the model still looks \"empty,\" although we just added everything! But this is __not__ an error. It is related to Gurobi's 'lazy updating' feature, which means that Gurobi will not process any updates to the model until we run some specific commands that force it to do that. There are three methods that do this, and we will talk about each subsequently. These are:\n",
        " - the __update()__ method : as the name says, this simply updates the model\n",
        " - the __write(...)__ method : this writes the model to a file\n",
        " - the __optimize()__ method : this solves the model"
      ]
    },
    {
      "cell_type": "markdown",
      "metadata": {
        "id": "ivF4dxuAgcmA"
      },
      "source": [
        "<a id=\"model_update\"></a>\n",
        "### Updating the model to reflect all the changes\n",
        "\n",
        "To update a Gurobi model so it reflects all the changes made (with no additional action), run the __update()__ method."
      ]
    },
    {
      "cell_type": "code",
      "metadata": {
        "colab": {
          "base_uri": "https://localhost:8080/"
        },
        "id": "vsnwty1wgcmB",
        "outputId": "a5b65dde-6fe4-4038-df7c-d3c83603e9cf"
      },
      "source": [
        "mymodel.update()    # run the update method\n",
        "mymodel     # print the model"
      ],
      "execution_count": 23,
      "outputs": [
        {
          "output_type": "execute_result",
          "data": {
            "text/plain": [
              "<gurobi.Model Continuous instance Simple Tree Planting Model: 7 constrs, 3 vars, No parameter changes>"
            ]
          },
          "metadata": {
            "tags": []
          },
          "execution_count": 23
        }
      ]
    },
    {
      "cell_type": "markdown",
      "metadata": {
        "id": "IuRsQIC4gcmB"
      },
      "source": [
        "Gurobi now correctly recognizes and displays that our model has 3 variables and 7 constraints. But beyond that, this output is not terribly useful for finding __errors__ in the model..."
      ]
    },
    {
      "cell_type": "markdown",
      "metadata": {
        "id": "BAgBDXupgcmB"
      },
      "source": [
        "<a id=\"write_model\"></a>\n",
        "### Writing the model to a file for inspection"
      ]
    },
    {
      "cell_type": "markdown",
      "metadata": {
        "id": "IQGdImOLgcmB"
      },
      "source": [
        "Perhaps the best way to visualize and \"debug\" our model is to write it to a file using a special (LP) format, which is designed to output optimization models in a \"human-readable\" form. (As a side note, this process will also update your model to reflect any pending changes!)\n",
        "\n",
        "Here is how this works."
      ]
    },
    {
      "cell_type": "code",
      "metadata": {
        "scrolled": true,
        "id": "7_AwBWQdgcmB"
      },
      "source": [
        "mymodel.write(\"my_model.lp\")    # write the model to a file with extension \".lp\""
      ],
      "execution_count": 24,
      "outputs": []
    },
    {
      "cell_type": "markdown",
      "metadata": {
        "id": "EvU0ttCCgcmB"
      },
      "source": [
        "Now you can open this file with any text viewer and read it. Alternatively, the code below reads it and prints it in Jupyter, to save you the trouble..."
      ]
    },
    {
      "cell_type": "code",
      "metadata": {
        "scrolled": false,
        "colab": {
          "base_uri": "https://localhost:8080/"
        },
        "id": "PGXNrUYQgcmB",
        "outputId": "9114c650-4b6b-4d83-c94b-5fde6c698faf"
      },
      "source": [
        "f = open(\"my_model.lp\", 'r')    # open a file handle\n",
        "print( f.read() )           # read the contents and print them\n",
        "f.close()              # close the file handle"
      ],
      "execution_count": 25,
      "outputs": [
        {
          "output_type": "stream",
          "text": [
            "\\ Model Simple Tree Planting Model\n",
            "\\ LP format - for model browsing. Use MPS format to capture full model detail.\n",
            "Minimize\n",
            "  5.4 Maple + 3.2 Elm + 4.5 Spruce\n",
            "Subject To\n",
            " land_avail: 130 Maple + 3600 Elm + 400 Spruce <= 150000\n",
            " water_avail: 76 Maple + 48 Elm + 34 Spruce <= 50000\n",
            " Maple_seedling_avail: Maple <= 1000\n",
            " Elm_seedling_avail: Elm <= 500\n",
            " Spruce_seedling_avail: Spruce <= 1500\n",
            " min_elms: Elm >= 15\n",
            " carbon_seq: 3.01 Maple + 2.22 Elm + 2.24 Spruce >= 1800\n",
            "Bounds\n",
            "End\n",
            "\n"
          ],
          "name": "stdout"
        }
      ]
    },
    {
      "cell_type": "markdown",
      "metadata": {
        "id": "sx9itdIdgcmB"
      },
      "source": [
        "This output should look similar to our basic model formulation in [the introduction](#basic_model). The only differences are that the decision variable names in the LP file are their Gurobi names (__Maple__, __Elm__ and __Spruce__) instead of __M__, __E__ and __S__, and the LP model does not include the non-negativity constraints (8). The latter happens because these were added as bounds on the decision variables in [Step 3](#decisions). You may notice that these (non-negativity) bounds also do not appear in the ``Bounds`` portion of the output above; this is by design, since non-negativity is assumed by default in the LP format. In other words, __an LP model always includes the constraints \"__``decisions >= 0``__\" by default, and does not display them__. For more details on the LP format, you can refer to the [Gurobi manual](https://www.gurobi.com/documentation/8.0/refman/lp_format.html)."
      ]
    },
    {
      "cell_type": "markdown",
      "metadata": {
        "id": "v_PE0s4cgcmB"
      },
      "source": [
        "<font color=blue> __GOOD PRACTICE.__ If we detect a mistake when inspecting the model, the cleanest way to proceed would be to restart the entire notebook, by clicking the __Kernel__ button in Jupyter and selecting  __Restart__. This allows revisiting each step of the process to identify and fix the mistake(s). This is also why __it is very helpful to print out the model at intermediate steps__, so that we do not wait until the very end to identify potential issues! </font>\n",
        "\n",
        "As a side note, in very large models like the ones used in practice, it may be too costly to rerun the entire notebook/process. Gurobi has functionality that allows changing a model by removing constraints or decision variables. We do not advocate using this as a procedure to fix mistakes (because your notebook would essentially always first _make_ mistakes and then _fix_ them !), but if you are curious to learn more about these functions you can refer to the [extra resources on the Canvas site](https://canvas.stanford.edu/courses/90540/modules/items/372795) or to the Gurobi manual."
      ]
    },
    {
      "cell_type": "markdown",
      "metadata": {
        "id": "RU1dhTplgcmC"
      },
      "source": [
        "____\n",
        "<a id=\"solve\"></a>\n",
        "# Section 7. Solve/optimize the model."
      ]
    },
    {
      "cell_type": "code",
      "metadata": {
        "colab": {
          "base_uri": "https://localhost:8080/",
          "height": 321
        },
        "id": "W1VlOJ0zgcmC",
        "outputId": "d06f09f2-db72-4425-fca1-8b080d4446cc"
      },
      "source": [
        "# import video\n",
        "YouTubeVideo(id='KS-vJaTCkJI',width=600,height=300)"
      ],
      "execution_count": 26,
      "outputs": [
        {
          "output_type": "execute_result",
          "data": {
            "text/html": [
              "\n",
              "        <iframe\n",
              "            width=\"600\"\n",
              "            height=\"300\"\n",
              "            src=\"https://www.youtube.com/embed/KS-vJaTCkJI\"\n",
              "            frameborder=\"0\"\n",
              "            allowfullscreen\n",
              "        ></iframe>\n",
              "        "
            ],
            "text/plain": [
              "<IPython.lib.display.YouTubeVideo at 0x7f6d851f9dd0>"
            ],
            "image/jpeg": "[encoded data removed]"
          },
          "metadata": {
            "tags": []
          },
          "execution_count": 26
        }
      ]
    },
    {
      "cell_type": "markdown",
      "metadata": {
        "id": "SihJ-H1cgcmC"
      },
      "source": [
        "<font color=red>**To solve/optimize our Gurobi model, we use the ``optimize()`` method of the model object.**</font><br>  (__Note:__ This function also updates your model to reflect any pending changes.)"
      ]
    },
    {
      "cell_type": "code",
      "metadata": {
        "colab": {
          "base_uri": "https://localhost:8080/"
        },
        "id": "JNVO6134gcmC",
        "outputId": "05097da8-699d-4240-896b-c8697dbec3de"
      },
      "source": [
        "mymodel.optimize()"
      ],
      "execution_count": 27,
      "outputs": [
        {
          "output_type": "stream",
          "text": [
            "Gurobi Optimizer version 9.1.1 build v9.1.1rc0 (linux64)\n",
            "Thread count: 1 physical cores, 2 logical processors, using up to 2 threads\n",
            "Optimize a model with 7 rows, 3 columns and 13 nonzeros\n",
            "Model fingerprint: 0x017ecc2f\n",
            "Coefficient statistics:\n",
            "  Matrix range     [1e+00, 4e+03]\n",
            "  Objective range  [3e+00, 5e+00]\n",
            "  Bounds range     [0e+00, 0e+00]\n",
            "  RHS range        [2e+01, 2e+05]\n",
            "Presolve removed 4 rows and 0 columns\n",
            "Presolve time: 0.02s\n",
            "Presolved: 3 rows, 3 columns, 9 nonzeros\n",
            "\n",
            "Iteration    Objective       Primal Inf.    Dual Inf.      Time\n",
            "       0    3.1965890e+03   1.154615e+03   0.000000e+00      0s\n",
            "       1    3.2130952e+03   0.000000e+00   0.000000e+00      0s\n",
            "\n",
            "Solved in 1 iterations and 0.02 seconds\n",
            "Optimal objective  3.213095170e+03\n"
          ],
          "name": "stdout"
        }
      ]
    },
    {
      "cell_type": "markdown",
      "metadata": {
        "id": "XQjtP91tgcmC"
      },
      "source": [
        "If everything is OK, Gurobi should stop and report a finite value \"Optimal objective\" on the last line above. We will discuss other potential messages you might encounter here in a separate section on [Gurobi output messages](#Gurobi_messages)."
      ]
    },
    {
      "cell_type": "markdown",
      "metadata": {
        "id": "EFSEp0kWgcmC"
      },
      "source": [
        "____\n",
        "<a id=\"printing\"></a>\n",
        "# Section 8. Extract the optimized results."
      ]
    },
    {
      "cell_type": "code",
      "metadata": {
        "colab": {
          "base_uri": "https://localhost:8080/",
          "height": 321
        },
        "id": "6od7ULTGgcmC",
        "outputId": "cc323048-8f4e-47a8-e4c9-39dd472bfe9a"
      },
      "source": [
        "# import video\n",
        "YouTubeVideo(id='TUuMcjdrMsM',width=600,height=300)"
      ],
      "execution_count": 28,
      "outputs": [
        {
          "output_type": "execute_result",
          "data": {
            "text/html": [
              "\n",
              "        <iframe\n",
              "            width=\"600\"\n",
              "            height=\"300\"\n",
              "            src=\"https://www.youtube.com/embed/TUuMcjdrMsM\"\n",
              "            frameborder=\"0\"\n",
              "            allowfullscreen\n",
              "        ></iframe>\n",
              "        "
            ],
            "text/plain": [
              "<IPython.lib.display.YouTubeVideo at 0x7f6d851cc890>"
            ],
            "image/jpeg": "[encoded data removed]"
          },
          "metadata": {
            "tags": []
          },
          "execution_count": 28
        }
      ]
    },
    {
      "cell_type": "markdown",
      "metadata": {
        "id": "X-mbECGagcmC"
      },
      "source": [
        "Once Gurobi has finished optimizing the model, we will likely want to extract some information concerning the solution and its properties. (__NOTE.__ The functions in this section can only be run __after__ Gurobi is done.) \n",
        "\n",
        "<font color=red> __We can recover the optimal value of a decision variable using its .X attribute.__</font><br>\n",
        "We print the optimal solution here with a _for loop_, but depending on the (size of your) model, you may want to do this differently. "
      ]
    },
    {
      "cell_type": "code",
      "metadata": {
        "colab": {
          "base_uri": "https://localhost:8080/"
        },
        "id": "KoPJ1sAagcmC",
        "outputId": "15073bb2-0156-42b5-913f-af9defcc4759"
      },
      "source": [
        "# print solution with a for loop\n",
        "print(\"Optimal solution is to plant:\")\n",
        "for i in range(numDecisions) :\n",
        "    print( \"% .3f  %s\" % ( trees_to_plant[i].X, mydata[\"TreeType\"][i] ) )"
      ],
      "execution_count": 29,
      "outputs": [
        {
          "output_type": "stream",
          "text": [
            "Optimal solution is to plant:\n",
            " 582.798  Maple\n",
            " 20.621  Elm\n",
            " 0.000  Spruce\n"
          ],
          "name": "stdout"
        }
      ]
    },
    {
      "cell_type": "markdown",
      "metadata": {
        "id": "e-2J9Ha4gcmD"
      },
      "source": [
        "As an alternative, we can also use the __getVars()__ method of the model to obtain the variables and print them out. Note that the __VarName__ attribute can be used to recover the Gurobi name."
      ]
    },
    {
      "cell_type": "code",
      "metadata": {
        "colab": {
          "base_uri": "https://localhost:8080/"
        },
        "id": "TmDb-7AAgcmD",
        "outputId": "245b842e-3040-4f76-b1b6-cc81856f198c"
      },
      "source": [
        "# print solution with a for loop\n",
        "print(\"Optimal solution is to plant:\")\n",
        "for v in mymodel.getVars() :\n",
        "    print( \"%.3f  %s\" % (v.X, v.VarName) )"
      ],
      "execution_count": 30,
      "outputs": [
        {
          "output_type": "stream",
          "text": [
            "Optimal solution is to plant:\n",
            "582.798  Maple\n",
            "20.621  Elm\n",
            "0.000  Spruce\n"
          ],
          "name": "stdout"
        }
      ]
    },
    {
      "cell_type": "markdown",
      "metadata": {
        "id": "uN9OBy1-gcmD"
      },
      "source": [
        "<font color=red> __We can recover the optimal objective value in the model using the `.objVal` attribute.__ </font>"
      ]
    },
    {
      "cell_type": "code",
      "metadata": {
        "colab": {
          "base_uri": "https://localhost:8080/"
        },
        "id": "4fkNCBTJgcmD",
        "outputId": "8e5a92fc-6b2a-46e1-969c-8fbcbfbd702d"
      },
      "source": [
        "# print the value of the objective\n",
        "print(\"Optimal cost is: %.3f\"  % mymodel.objVal)"
      ],
      "execution_count": 31,
      "outputs": [
        {
          "output_type": "stream",
          "text": [
            "Optimal cost is: 3213.095\n"
          ],
          "name": "stdout"
        }
      ]
    },
    {
      "cell_type": "markdown",
      "metadata": {
        "id": "r63Ixxq6gcmD"
      },
      "source": [
        "____\n",
        "<a id=\"evaluating_constraints\"></a>\n",
        "# Section 9. Extract information concerning the constraints."
      ]
    },
    {
      "cell_type": "code",
      "metadata": {
        "colab": {
          "base_uri": "https://localhost:8080/",
          "height": 0
        },
        "id": "PpWQZ2QRgcmD",
        "outputId": "04b599ad-e418-453a-a429-dcc4fada1742"
      },
      "source": [
        "# import video\n",
        "YouTubeVideo(id='qD6PPl1-Mg8',width=600,height=300)"
      ],
      "execution_count": 32,
      "outputs": [
        {
          "output_type": "execute_result",
          "data": {
            "text/html": [
              "\n",
              "        <iframe\n",
              "            width=\"600\"\n",
              "            height=\"300\"\n",
              "            src=\"https://www.youtube.com/embed/qD6PPl1-Mg8\"\n",
              "            frameborder=\"0\"\n",
              "            allowfullscreen\n",
              "        ></iframe>\n",
              "        "
            ],
            "text/plain": [
              "<IPython.lib.display.YouTubeVideo at 0x7f6d851db3d0>"
            ],
            "image/jpeg": "[encoded data removed]"
          },
          "metadata": {
            "tags": []
          },
          "execution_count": 32
        }
      ]
    },
    {
      "cell_type": "markdown",
      "metadata": {
        "id": "M7HCpRpngcmD"
      },
      "source": [
        "#### Getting access to all the constraints\n",
        "You can obtain a list of all the linear constraints in your model using the __``getConstrs()``__ method:"
      ]
    },
    {
      "cell_type": "code",
      "metadata": {
        "scrolled": true,
        "colab": {
          "base_uri": "https://localhost:8080/"
        },
        "id": "cPr2lmwrgcmD",
        "outputId": "49b9e3e2-178f-4818-d9c8-d10829abbad5"
      },
      "source": [
        "allConstraints = mymodel.getConstrs()\n",
        "print(allConstraints)"
      ],
      "execution_count": 33,
      "outputs": [
        {
          "output_type": "stream",
          "text": [
            "[<gurobi.Constr land_avail>, <gurobi.Constr water_avail>, <gurobi.Constr Maple_seedling_avail>, <gurobi.Constr Elm_seedling_avail>, <gurobi.Constr Spruce_seedling_avail>, <gurobi.Constr min_elms>, <gurobi.Constr carbon_seq>]\n"
          ],
          "name": "stdout"
        }
      ]
    },
    {
      "cell_type": "markdown",
      "metadata": {
        "id": "m2dD-54ngcmE"
      },
      "source": [
        "#### Printing useful information/attributes:\n",
        "You may want to extract some useful attributes for each constraint (these are not case-sensitive!):\n",
        " - __ConstrName__  : the name specified when defining the constraint\n",
        " - __RHS__    : the value of the right-hand-side of the constraint\n",
        " - __Sense__ : the type of constraint ( <= or = or >= ) \n",
        " - __Slack__  : (value of right-hand-side) - (value of left-hand-side)\n",
        " \n",
        "(Note: The code below uses some formatting features to print in nicer fashion. Feel free to re-use it you want, but __don't worry about understanding the details here__!)"
      ]
    },
    {
      "cell_type": "code",
      "metadata": {
        "colab": {
          "base_uri": "https://localhost:8080/"
        },
        "id": "ac1xeWCTgcmE",
        "outputId": "ae9e2be9-039c-447b-fffa-f7b1422c8451"
      },
      "source": [
        "print( '='*90 )\n",
        "print('{:<35s}\\t{:<20s}\\t{:^10s}\\t{:<17s}'.\\\n",
        "      format(\"Constraint name\",\"RHS value\",\"Sense\",\"Slack\"))\n",
        "print( '='*90 )\n",
        "\n",
        "for c in allConstraints :\n",
        "    print( '{:<35s}\\t{:<20.2f}\\t{:^10s}\\t{:<17.2f}'.\\\n",
        "          format(c.ConstrName, c.RHS, c.Sense, c.Slack) )"
      ],
      "execution_count": 34,
      "outputs": [
        {
          "output_type": "stream",
          "text": [
            "==========================================================================================\n",
            "Constraint name                    \tRHS value           \t  Sense   \tSlack            \n",
            "==========================================================================================\n",
            "land_avail                         \t150000.00           \t    <     \t0.00             \n",
            "water_avail                        \t50000.00            \t    <     \t4717.56          \n",
            "Maple_seedling_avail               \t1000.00             \t    <     \t417.20           \n",
            "Elm_seedling_avail                 \t500.00              \t    <     \t479.38           \n",
            "Spruce_seedling_avail              \t1500.00             \t    <     \t1500.00          \n",
            "min_elms                           \t15.00               \t    >     \t-5.62            \n",
            "carbon_seq                         \t1800.00             \t    >     \t0.00             \n"
          ],
          "name": "stdout"
        }
      ]
    },
    {
      "cell_type": "markdown",
      "metadata": {
        "id": "jfIzad2pgcmE"
      },
      "source": [
        "_____\n",
        "<a id=\"Gurobi_messages\"></a>\n",
        "# Section 10. Output messages in Gurobi."
      ]
    },
    {
      "cell_type": "code",
      "metadata": {
        "colab": {
          "base_uri": "https://localhost:8080/",
          "height": 0
        },
        "id": "cQxroAwqgcmE",
        "outputId": "23a47ba0-a4ae-4d75-f7f7-697ec84b2c9f"
      },
      "source": [
        "# import video\n",
        "YouTubeVideo(id='Z7ZGvRaWCag',width=600,height=300)"
      ],
      "execution_count": 35,
      "outputs": [
        {
          "output_type": "execute_result",
          "data": {
            "text/html": [
              "\n",
              "        <iframe\n",
              "            width=\"600\"\n",
              "            height=\"300\"\n",
              "            src=\"https://www.youtube.com/embed/Z7ZGvRaWCag\"\n",
              "            frameborder=\"0\"\n",
              "            allowfullscreen\n",
              "        ></iframe>\n",
              "        "
            ],
            "text/plain": [
              "<IPython.lib.display.YouTubeVideo at 0x7f6d8518d290>"
            ],
            "image/jpeg": "[encoded data removed]"
          },
          "metadata": {
            "tags": []
          },
          "execution_count": 35
        }
      ]
    },
    {
      "cell_type": "markdown",
      "metadata": {
        "id": "ugYxAtq5gcmE"
      },
      "source": [
        "<a id=\"solved_optimality\"></a>\n",
        "## Model solved to optimality"
      ]
    },
    {
      "cell_type": "markdown",
      "metadata": {
        "id": "5f9SWegJgcmE"
      },
      "source": [
        "Let us first read our fully-functional model from the file where we saved it earlier."
      ]
    },
    {
      "cell_type": "code",
      "metadata": {
        "colab": {
          "base_uri": "https://localhost:8080/"
        },
        "id": "dRPB4jQegcmE",
        "outputId": "9e3b365c-30b1-4540-94fb-5de50e2f92d5"
      },
      "source": [
        "mymodel = read(\"my_model.lp\")    # read our fully-functional model from a file"
      ],
      "execution_count": 36,
      "outputs": [
        {
          "output_type": "stream",
          "text": [
            "Read LP format model from file my_model.lp\n",
            "Reading time = 0.00 seconds\n",
            ": 7 rows, 3 columns, 13 nonzeros\n"
          ],
          "name": "stdout"
        }
      ]
    },
    {
      "cell_type": "code",
      "metadata": {
        "colab": {
          "base_uri": "https://localhost:8080/"
        },
        "id": "I_RCl6UlgcmE",
        "outputId": "3e8740aa-8f4f-4157-ef70-65d09f1de664"
      },
      "source": [
        "# Typical message when model is solved to optimality\n",
        "mymodel.optimize()"
      ],
      "execution_count": 37,
      "outputs": [
        {
          "output_type": "stream",
          "text": [
            "Gurobi Optimizer version 9.1.1 build v9.1.1rc0 (linux64)\n",
            "Thread count: 1 physical cores, 2 logical processors, using up to 2 threads\n",
            "Optimize a model with 7 rows, 3 columns and 13 nonzeros\n",
            "Model fingerprint: 0x8b66453a\n",
            "Coefficient statistics:\n",
            "  Matrix range     [1e+00, 4e+03]\n",
            "  Objective range  [3e+00, 5e+00]\n",
            "  Bounds range     [0e+00, 0e+00]\n",
            "  RHS range        [2e+01, 2e+05]\n",
            "Presolve removed 4 rows and 0 columns\n",
            "Presolve time: 0.01s\n",
            "Presolved: 3 rows, 3 columns, 9 nonzeros\n",
            "\n",
            "Iteration    Objective       Primal Inf.    Dual Inf.      Time\n",
            "       0    3.1965890e+03   1.154615e+03   0.000000e+00      0s\n",
            "       1    3.2130952e+03   0.000000e+00   0.000000e+00      0s\n",
            "\n",
            "Solved in 1 iterations and 0.01 seconds\n",
            "Optimal objective  3.213095170e+03\n"
          ],
          "name": "stdout"
        }
      ]
    },
    {
      "cell_type": "markdown",
      "metadata": {
        "id": "bIn63UWNgcmE"
      },
      "source": [
        "Note that Gurobi reports finding an \"Optimal objective\" with a value on the last line. This means the model was correctly solved to optimality."
      ]
    },
    {
      "cell_type": "markdown",
      "metadata": {
        "id": "pfqyo4EQgcmF"
      },
      "source": [
        "<a id=\"infeasible\"></a>\n",
        "## Infeasible model"
      ]
    },
    {
      "cell_type": "markdown",
      "metadata": {
        "id": "JF-7XzfsgcmF"
      },
      "source": [
        "As it turns out, if we required planting at least 1000 Elms (instead of just 15), the model would become __infeasible__, i.e., it would be impossible to find values for __M__, __E__ and __S__ to satisfy all the constraints. Let us see what happens in Gurobi when this is the case."
      ]
    },
    {
      "cell_type": "code",
      "metadata": {
        "colab": {
          "base_uri": "https://localhost:8080/"
        },
        "id": "A4jP9ZRdgcmF",
        "outputId": "31ca46f2-a53f-4353-8124-655ef933795b"
      },
      "source": [
        "mymodel = read(\"my_model.lp\")              # read our fully-functional model\n",
        "mymodel.addConstr( mymodel.getVarByName(\"Elm\") >= 1000, \"tough_constraint\" )\n",
        "mymodel.optimize()    # solve the new model"
      ],
      "execution_count": 38,
      "outputs": [
        {
          "output_type": "stream",
          "text": [
            "Read LP format model from file my_model.lp\n",
            "Reading time = 0.00 seconds\n",
            ": 7 rows, 3 columns, 13 nonzeros\n",
            "Gurobi Optimizer version 9.1.1 build v9.1.1rc0 (linux64)\n",
            "Thread count: 1 physical cores, 2 logical processors, using up to 2 threads\n",
            "Optimize a model with 8 rows, 3 columns and 14 nonzeros\n",
            "Model fingerprint: 0xbe054034\n",
            "Coefficient statistics:\n",
            "  Matrix range     [1e+00, 4e+03]\n",
            "  Objective range  [3e+00, 5e+00]\n",
            "  Bounds range     [0e+00, 0e+00]\n",
            "  RHS range        [2e+01, 2e+05]\n",
            "Presolve time: 0.01s\n",
            "\n",
            "Solved in 0 iterations and 0.01 seconds\n",
            "Infeasible model\n"
          ],
          "name": "stdout"
        }
      ]
    },
    {
      "cell_type": "markdown",
      "metadata": {
        "id": "EqISx3eTgcmF"
      },
      "source": [
        "Note the last line above: Gurobi now reports __\"Infeasible model.\"__ Most of the models we solve together in class should be feasible, so encountering this message typically means that there might be an error in defining the decision variables or constraints. "
      ]
    },
    {
      "cell_type": "markdown",
      "metadata": {
        "id": "aQI_nlTqgcmF"
      },
      "source": [
        "<font color=blue> __The remaining part of this section is not mission-critical, but is definitely extremely relevant in practice.__ In a real-world model, we may not know where the infeasibilities are coming from. For instance, our model could contain a very large number of constraints, and it may be hard to guess apriori _which_ the culprits are. To narrow things down, it is very useful to isolate a small set of constraints that taken together already make the model infeasible. We can do this using the Gurobi method __IIS()__ (which stands for \"irreducible inconsistent subsystem\"). </font>"
      ]
    },
    {
      "cell_type": "code",
      "metadata": {
        "colab": {
          "base_uri": "https://localhost:8080/"
        },
        "id": "JYW0yvsrgcmF",
        "outputId": "c450e1b8-3d30-4af7-e934-ad7ba96eb225"
      },
      "source": [
        "mymodel.computeIIS()"
      ],
      "execution_count": 39,
      "outputs": [
        {
          "output_type": "stream",
          "text": [
            "\n",
            "IIS computed: 2 constraints and 0 bounds\n",
            "IIS runtime: 0.00 seconds\n"
          ],
          "name": "stdout"
        }
      ]
    },
    {
      "cell_type": "markdown",
      "metadata": {
        "id": "hUcCTgZIgcmF"
      },
      "source": [
        "According to this output, there is an IIS consisting of 2 constraints. To get more details, the easiest way is to write the model to an __ILP__ file. This file format is specifically designed to display IIS information, and is as easy to read/interpret as the __LP__ format we saw earlier. Here is how this would work."
      ]
    },
    {
      "cell_type": "code",
      "metadata": {
        "colab": {
          "base_uri": "https://localhost:8080/"
        },
        "id": "AwcCaNCKgcmF",
        "outputId": "457ebd9b-648a-4db2-a4d3-c6b2587892b4"
      },
      "source": [
        "mymodel.write(\"output_infeasible.ilp\")  # write model information to an .ilp file\n",
        "f = open(\"output_infeasible.ilp\", 'r')    # open a file handle\n",
        "print( f.read() )           # read the contents and print them\n",
        "f.close()              # close the file handle"
      ],
      "execution_count": 40,
      "outputs": [
        {
          "output_type": "stream",
          "text": [
            "\\ Model _copy\n",
            "\\ LP format - for model browsing. Use MPS format to capture full model detail.\n",
            "Minimize\n",
            " \n",
            "Subject To\n",
            " Elm_seedling_avail: Elm <= 500\n",
            " tough_constraint: Elm >= 1000\n",
            "Bounds\n",
            " Elm free\n",
            "End\n",
            "\n"
          ],
          "name": "stdout"
        }
      ]
    },
    {
      "cell_type": "markdown",
      "metadata": {
        "id": "Mi7IPxitgcmG"
      },
      "source": [
        "According to the output above, the 2 problematic constraints are '__Elm_seedling_avail__' and '__min_elms__' In practice, this information would then allow you to revisit the constraints and think of ways to \"relax\" them."
      ]
    },
    {
      "cell_type": "markdown",
      "metadata": {
        "id": "Hdu1zpbGgcmG"
      },
      "source": [
        "<a id=\"unbounded\"></a>\n",
        "## Unbounded model"
      ]
    },
    {
      "cell_type": "code",
      "metadata": {
        "colab": {
          "base_uri": "https://localhost:8080/"
        },
        "id": "Ma2wCU8KgcmG",
        "outputId": "985181ba-6267-4701-d49b-074b1ab883db"
      },
      "source": [
        "mymodel = read(\"my_model.lp\")    # read our fully-functional model\n",
        "\n",
        "# remove the carbon sequestration requirement\n",
        "mymodel.remove(mymodel.getConstrByName(\"carbon_seq\"))\n",
        "\n",
        "# allow the Maple decision to take negative values: we do this by changing the lower bound from 0 to -$\\infty$\n",
        "mymodel.getVarByName(\"Maple\").setAttr(\"LB\", -GRB.INFINITY)\n",
        "\n",
        "mymodel.optimize()    # solve the new model"
      ],
      "execution_count": 41,
      "outputs": [
        {
          "output_type": "stream",
          "text": [
            "Read LP format model from file my_model.lp\n",
            "Reading time = 0.01 seconds\n",
            ": 7 rows, 3 columns, 13 nonzeros\n",
            "Gurobi Optimizer version 9.1.1 build v9.1.1rc0 (linux64)\n",
            "Thread count: 1 physical cores, 2 logical processors, using up to 2 threads\n",
            "Optimize a model with 6 rows, 3 columns and 10 nonzeros\n",
            "Model fingerprint: 0x960b6889\n",
            "Coefficient statistics:\n",
            "  Matrix range     [1e+00, 4e+03]\n",
            "  Objective range  [3e+00, 5e+00]\n",
            "  Bounds range     [0e+00, 0e+00]\n",
            "  RHS range        [2e+01, 2e+05]\n",
            "Presolve time: 0.01s\n",
            "\n",
            "Solved in 0 iterations and 0.01 seconds\n",
            "Infeasible or unbounded model\n"
          ],
          "name": "stdout"
        }
      ]
    },
    {
      "cell_type": "markdown",
      "metadata": {
        "id": "fMCGrPbrgcmG"
      },
      "source": [
        "The last line identifies the model as being \"Infeasible or unbounded.\" This usually corresponds to unbounded models, as for infeasible models Gurobi generally produces the more precise message that we saw earlier. Real-world models should almost always be bounded, so if you ever encouter this it likely means that you forgot to include all the relevant constraints in the problem."
      ]
    },
    {
      "cell_type": "markdown",
      "metadata": {
        "id": "Lus4Wy15gcmG"
      },
      "source": [
        "_____\n",
        "<a id=\"change_model\"></a>\n",
        "# Section 11. Sensivity Analysis and Shadow Prices."
      ]
    },
    {
      "cell_type": "markdown",
      "metadata": {
        "id": "8Jvv7l6cgcmG"
      },
      "source": [
        "The parameters / data in a problem are almost always imprecise, e.g., they are often estimated through some statistical procedure. It is therefore critical to understand how the results of the optimization would change when the data changes. This is known as __sensitivity analysis__, and is a critical step in understanding the model outputs and generating credible recommendations. Here, we will discuss briefly how to conduct sensitivity analysis in an efficient way. \n",
        "\n",
        "To illustrate these concepts, consider the following motivating question: <font color=blue>_Suppose that the land available is not 150,000 square feet with certainty. We would like to know how Oro Verde's optimal costs would change when land availability can vary between 140,000 and 160,000 square feet._</font>"
      ]
    },
    {
      "cell_type": "markdown",
      "metadata": {
        "id": "HNub3KqsgcmG"
      },
      "source": [
        "__Step 1.__ We start by creating a list of all the values that we want to test. We could manually construct a list with these values, but it is easier to rely on a python function called `arange` found in the `numpy` package. You can read more about it in [this documentation page](https://docs.scipy.org/doc/numpy-1.15.0/reference/generated/numpy.arange.html). Briefly, its syntax is :\n",
        " > `arange(init_value, final_value, step)`\n",
        "\n",
        "where `init_value, final_value` and `step` can all be float values, i.e., they do not have to be integers. This returns the list of all values between `init_value` and `final_value` in increments of size `step`. __(Similar to `range`, this list includes `init_value` but excludes `final_value`.)__ "
      ]
    },
    {
      "cell_type": "code",
      "metadata": {
        "colab": {
          "base_uri": "https://localhost:8080/"
        },
        "id": "zOhL8Xn6gcmG",
        "outputId": "b6b92320-822b-4422-c4aa-208eb5d17e9d"
      },
      "source": [
        "from numpy import arange   # import the function `arange` from the numpy package\n",
        "\n",
        "LandAvailableVals = list(arange(140000,160001,2000))  # we use 160001 instead of 160000 so as to include the latter\n",
        "print(LandAvailableVals)"
      ],
      "execution_count": 42,
      "outputs": [
        {
          "output_type": "stream",
          "text": [
            "[140000, 142000, 144000, 146000, 148000, 150000, 152000, 154000, 156000, 158000, 160000]\n"
          ],
          "name": "stdout"
        }
      ]
    },
    {
      "cell_type": "markdown",
      "metadata": {
        "id": "C3AiK-N_gcmG"
      },
      "source": [
        "__Step 2.__ We need to obtain a handle on the constraint that we want to change. There are many ways to do that. For instance, we could have stored the constraint when we initially defined it (under In[11] above), by using a syntax of the form:\n",
        "> `c = mymodel.addConstr(...)`\n",
        "\n",
        "This would add the constraint to the model and also store it in the variable `c`, and works exactly in the same way as the `addVar` syntax. (If we wanted to store several constraints, we could simply use a python list or a dictionary.)\n",
        "\n",
        "Here, we use the method `getConstrByName` from our model object, which allows recovering a constraint using its name."
      ]
    },
    {
      "cell_type": "code",
      "metadata": {
        "scrolled": true,
        "colab": {
          "base_uri": "https://localhost:8080/"
        },
        "id": "_67ZecDIgcmH",
        "outputId": "6b53240c-8785-4600-ac9f-c298a365ca5f"
      },
      "source": [
        "mymodel = read(\"my_model.lp\")    # read our fully-functional model\n",
        "\n",
        "c = mymodel.getConstrByName(\"land_avail\")  # store the relevant constraint in a variable `c`"
      ],
      "execution_count": 43,
      "outputs": [
        {
          "output_type": "stream",
          "text": [
            "Read LP format model from file my_model.lp\n",
            "Reading time = 0.00 seconds\n",
            ": 7 rows, 3 columns, 13 nonzeros\n"
          ],
          "name": "stdout"
        }
      ]
    },
    {
      "cell_type": "markdown",
      "metadata": {
        "id": "8uVsqra9gcmH"
      },
      "source": [
        "__Step 3.__ Within a `for` loop, change the constraint right-hand-side using the `setAttr` method, resolve the model, and store the objective."
      ]
    },
    {
      "cell_type": "code",
      "metadata": {
        "colab": {
          "base_uri": "https://localhost:8080/"
        },
        "id": "z4M4w46CgcmH",
        "outputId": "90100135-5f49-4c1d-9ef4-a3a655a7a0a1"
      },
      "source": [
        "allCostValues = [0]*len(LandAvailableVals)   # a list where we will store the values of the objective\n",
        "\n",
        "# loop over all the values to test\n",
        "for i in range(len(LandAvailableVals)):\n",
        "    \n",
        "    c.setAttr('rhs',LandAvailableVals[i])  # change the RHS for the constraint\n",
        "    \n",
        "    #mymodel.write(\"model_\" + str(i) + \".lp\")  # write model information to an .lp file\n",
        "   # f = open(\"model_\" + str(i) + \".lp\", 'r')    # open a file handle\n",
        "   # print( f.read() )           # read the contents and print them\n",
        "   # f.close()              # close the file handle\n",
        "    \n",
        "    mymodel.optimize()    # resolve the model\n",
        "    \n",
        "    allCostValues[i] = mymodel.objVal  # store the objective"
      ],
      "execution_count": 44,
      "outputs": [
        {
          "output_type": "stream",
          "text": [
            "Gurobi Optimizer version 9.1.1 build v9.1.1rc0 (linux64)\n",
            "Thread count: 1 physical cores, 2 logical processors, using up to 2 threads\n",
            "Optimize a model with 7 rows, 3 columns and 13 nonzeros\n",
            "Model fingerprint: 0xa6a0ae34\n",
            "Coefficient statistics:\n",
            "  Matrix range     [1e+00, 4e+03]\n",
            "  Objective range  [3e+00, 5e+00]\n",
            "  Bounds range     [0e+00, 0e+00]\n",
            "  RHS range        [2e+01, 1e+05]\n",
            "Presolve removed 4 rows and 0 columns\n",
            "Presolve time: 0.01s\n",
            "Presolved: 3 rows, 3 columns, 9 nonzeros\n",
            "\n",
            "Iteration    Objective       Primal Inf.    Dual Inf.      Time\n",
            "       0    3.1987654e+03   1.158624e+03   0.000000e+00      0s\n",
            "       1    3.2153289e+03   0.000000e+00   0.000000e+00      0s\n",
            "\n",
            "Solved in 1 iterations and 0.01 seconds\n",
            "Optimal objective  3.215328896e+03\n",
            "Gurobi Optimizer version 9.1.1 build v9.1.1rc0 (linux64)\n",
            "Thread count: 1 physical cores, 2 logical processors, using up to 2 threads\n",
            "Optimize a model with 7 rows, 3 columns and 13 nonzeros\n",
            "Coefficient statistics:\n",
            "  Matrix range     [1e+00, 4e+03]\n",
            "  Objective range  [3e+00, 5e+00]\n",
            "  Bounds range     [0e+00, 0e+00]\n",
            "  RHS range        [2e+01, 1e+05]\n",
            "Iteration    Objective       Primal Inf.    Dual Inf.      Time\n",
            "       0    3.2148822e+03   0.000000e+00   0.000000e+00      0s\n",
            "\n",
            "Solved in 0 iterations and 0.01 seconds\n",
            "Optimal objective  3.214882151e+03\n",
            "Gurobi Optimizer version 9.1.1 build v9.1.1rc0 (linux64)\n",
            "Thread count: 1 physical cores, 2 logical processors, using up to 2 threads\n",
            "Optimize a model with 7 rows, 3 columns and 13 nonzeros\n",
            "Coefficient statistics:\n",
            "  Matrix range     [1e+00, 4e+03]\n",
            "  Objective range  [3e+00, 5e+00]\n",
            "  Bounds range     [0e+00, 0e+00]\n",
            "  RHS range        [2e+01, 1e+05]\n",
            "Iteration    Objective       Primal Inf.    Dual Inf.      Time\n",
            "       0    3.2144354e+03   0.000000e+00   0.000000e+00      0s\n",
            "\n",
            "Solved in 0 iterations and 0.01 seconds\n",
            "Optimal objective  3.214435406e+03\n",
            "Gurobi Optimizer version 9.1.1 build v9.1.1rc0 (linux64)\n",
            "Thread count: 1 physical cores, 2 logical processors, using up to 2 threads\n",
            "Optimize a model with 7 rows, 3 columns and 13 nonzeros\n",
            "Coefficient statistics:\n",
            "  Matrix range     [1e+00, 4e+03]\n",
            "  Objective range  [3e+00, 5e+00]\n",
            "  Bounds range     [0e+00, 0e+00]\n",
            "  RHS range        [2e+01, 1e+05]\n",
            "Iteration    Objective       Primal Inf.    Dual Inf.      Time\n",
            "       0    3.2139887e+03   0.000000e+00   0.000000e+00      0s\n",
            "\n",
            "Solved in 0 iterations and 0.01 seconds\n",
            "Optimal objective  3.213988661e+03\n",
            "Gurobi Optimizer version 9.1.1 build v9.1.1rc0 (linux64)\n",
            "Thread count: 1 physical cores, 2 logical processors, using up to 2 threads\n",
            "Optimize a model with 7 rows, 3 columns and 13 nonzeros\n",
            "Coefficient statistics:\n",
            "  Matrix range     [1e+00, 4e+03]\n",
            "  Objective range  [3e+00, 5e+00]\n",
            "  Bounds range     [0e+00, 0e+00]\n",
            "  RHS range        [2e+01, 1e+05]\n",
            "Iteration    Objective       Primal Inf.    Dual Inf.      Time\n",
            "       0    3.2135419e+03   0.000000e+00   0.000000e+00      0s\n",
            "\n",
            "Solved in 0 iterations and 0.01 seconds\n",
            "Optimal objective  3.213541916e+03\n",
            "Gurobi Optimizer version 9.1.1 build v9.1.1rc0 (linux64)\n",
            "Thread count: 1 physical cores, 2 logical processors, using up to 2 threads\n",
            "Optimize a model with 7 rows, 3 columns and 13 nonzeros\n",
            "Coefficient statistics:\n",
            "  Matrix range     [1e+00, 4e+03]\n",
            "  Objective range  [3e+00, 5e+00]\n",
            "  Bounds range     [0e+00, 0e+00]\n",
            "  RHS range        [2e+01, 2e+05]\n",
            "Iteration    Objective       Primal Inf.    Dual Inf.      Time\n",
            "       0    3.2130952e+03   0.000000e+00   0.000000e+00      0s\n",
            "\n",
            "Solved in 0 iterations and 0.01 seconds\n",
            "Optimal objective  3.213095170e+03\n",
            "Gurobi Optimizer version 9.1.1 build v9.1.1rc0 (linux64)\n",
            "Thread count: 1 physical cores, 2 logical processors, using up to 2 threads\n",
            "Optimize a model with 7 rows, 3 columns and 13 nonzeros\n",
            "Coefficient statistics:\n",
            "  Matrix range     [1e+00, 4e+03]\n",
            "  Objective range  [3e+00, 5e+00]\n",
            "  Bounds range     [0e+00, 0e+00]\n",
            "  RHS range        [2e+01, 2e+05]\n",
            "Iteration    Objective       Primal Inf.    Dual Inf.      Time\n",
            "       0    3.2126484e+03   0.000000e+00   0.000000e+00      0s\n",
            "\n",
            "Solved in 0 iterations and 0.01 seconds\n",
            "Optimal objective  3.212648425e+03\n",
            "Gurobi Optimizer version 9.1.1 build v9.1.1rc0 (linux64)\n",
            "Thread count: 1 physical cores, 2 logical processors, using up to 2 threads\n",
            "Optimize a model with 7 rows, 3 columns and 13 nonzeros\n",
            "Coefficient statistics:\n",
            "  Matrix range     [1e+00, 4e+03]\n",
            "  Objective range  [3e+00, 5e+00]\n",
            "  Bounds range     [0e+00, 0e+00]\n",
            "  RHS range        [2e+01, 2e+05]\n",
            "Iteration    Objective       Primal Inf.    Dual Inf.      Time\n",
            "       0    3.2122017e+03   0.000000e+00   0.000000e+00      0s\n",
            "\n",
            "Solved in 0 iterations and 0.01 seconds\n",
            "Optimal objective  3.212201680e+03\n",
            "Gurobi Optimizer version 9.1.1 build v9.1.1rc0 (linux64)\n",
            "Thread count: 1 physical cores, 2 logical processors, using up to 2 threads\n",
            "Optimize a model with 7 rows, 3 columns and 13 nonzeros\n",
            "Coefficient statistics:\n",
            "  Matrix range     [1e+00, 4e+03]\n",
            "  Objective range  [3e+00, 5e+00]\n",
            "  Bounds range     [0e+00, 0e+00]\n",
            "  RHS range        [2e+01, 2e+05]\n",
            "Iteration    Objective       Primal Inf.    Dual Inf.      Time\n",
            "       0    3.2117549e+03   0.000000e+00   0.000000e+00      0s\n",
            "\n",
            "Solved in 0 iterations and 0.01 seconds\n",
            "Optimal objective  3.211754935e+03\n",
            "Gurobi Optimizer version 9.1.1 build v9.1.1rc0 (linux64)\n",
            "Thread count: 1 physical cores, 2 logical processors, using up to 2 threads\n",
            "Optimize a model with 7 rows, 3 columns and 13 nonzeros\n",
            "Coefficient statistics:\n",
            "  Matrix range     [1e+00, 4e+03]\n",
            "  Objective range  [3e+00, 5e+00]\n",
            "  Bounds range     [0e+00, 0e+00]\n",
            "  RHS range        [2e+01, 2e+05]\n",
            "Iteration    Objective       Primal Inf.    Dual Inf.      Time\n",
            "       0    3.2113082e+03   0.000000e+00   0.000000e+00      0s\n",
            "\n",
            "Solved in 0 iterations and 0.01 seconds\n",
            "Optimal objective  3.211308190e+03\n",
            "Gurobi Optimizer version 9.1.1 build v9.1.1rc0 (linux64)\n",
            "Thread count: 1 physical cores, 2 logical processors, using up to 2 threads\n",
            "Optimize a model with 7 rows, 3 columns and 13 nonzeros\n",
            "Coefficient statistics:\n",
            "  Matrix range     [1e+00, 4e+03]\n",
            "  Objective range  [3e+00, 5e+00]\n",
            "  Bounds range     [0e+00, 0e+00]\n",
            "  RHS range        [2e+01, 2e+05]\n",
            "Iteration    Objective       Primal Inf.    Dual Inf.      Time\n",
            "       0    3.2108614e+03   0.000000e+00   0.000000e+00      0s\n",
            "\n",
            "Solved in 0 iterations and 0.01 seconds\n",
            "Optimal objective  3.210861445e+03\n"
          ],
          "name": "stdout"
        }
      ]
    },
    {
      "cell_type": "markdown",
      "metadata": {
        "id": "yy4w3QL_gcmH"
      },
      "source": [
        "__Step 4.__ To visualize the dependency, it is useful to do a plot. We use the function `pyplot` from `matploblib`, which we import below. (See the tutorial for Class 2 for more details!)"
      ]
    },
    {
      "cell_type": "code",
      "metadata": {
        "id": "qXyEKNcKgcmH"
      },
      "source": [
        "import matplotlib.pyplot as plt"
      ],
      "execution_count": 45,
      "outputs": []
    },
    {
      "cell_type": "code",
      "metadata": {
        "colab": {
          "base_uri": "https://localhost:8080/",
          "height": 296
        },
        "id": "fz1z_7jzgcmH",
        "outputId": "21c373de-c2cf-48e6-fdb4-4c1a8b7bea3e"
      },
      "source": [
        "plt.plot(LandAvailableVals, allCostValues, marker='o', linestyle='solid', linewidth=2, markersize=4)\n",
        "plt.xlabel(\"Land availability\")\n",
        "plt.ylabel(\"Total costs for Oro Verde\")"
      ],
      "execution_count": 46,
      "outputs": [
        {
          "output_type": "execute_result",
          "data": {
            "text/plain": [
              "Text(0, 0.5, 'Total costs for Oro Verde')"
            ]
          },
          "metadata": {
            "tags": []
          },
          "execution_count": 46
        },
        {
          "output_type": "display_data",
          "data": {
            "image/png": "[encoded data removed]",
            "text/plain": [
              "<Figure size 432x288 with 1 Axes>"
            ]
          },
          "metadata": {
            "tags": [],
            "needs_background": "light"
          }
        }
      ]
    },
    {
      "cell_type": "markdown",
      "metadata": {
        "id": "8fmvGRl7gcmH"
      },
      "source": [
        "Note that the dependency is actually __linear__! This is always the case in linear optimization problems when parameter changes occur in a limited range. (If we examined a wider range for land availability values, the slope of the dependency may change! We will see more examples of this in class). \n",
        "\n",
        "We can actually calculate the slope of the line above:"
      ]
    },
    {
      "cell_type": "code",
      "metadata": {
        "colab": {
          "base_uri": "https://localhost:8080/"
        },
        "id": "wlEmp6lTgcmH",
        "outputId": "c83f3823-54be-47d0-c5e3-231ba044fb8e"
      },
      "source": [
        "print(\"The slope above is: %.5f\" % ((allCostValues[6]-allCostValues[5])/(LandAvailableVals[6]-LandAvailableVals[5])) )"
      ],
      "execution_count": 47,
      "outputs": [
        {
          "output_type": "stream",
          "text": [
            "The slope above is: -0.00022\n"
          ],
          "name": "stdout"
        }
      ]
    },
    {
      "cell_type": "markdown",
      "metadata": {
        "id": "LzmTT-M8gcmH"
      },
      "source": [
        "This slope actually bears a name in optimization: __shadow price__. More formally, __the shadow price of a constraint__ is the rate of change (i.e., slope) in the dependency of the optimal objective function on the right-hand-side of the constraint. \n",
        "\n",
        "The shadow price is extremely useful beyond sensitivity analysis: it can be used to \"price\" important resources. For instance, in the example above, 10,000 extra square feet of land would change Oro Verde's costs by roughly $-0.00022 \\cdot 10,000 = -\\$2.2$. This means that Oro Verde should be willing to pay at most \\$2.2 to obtain access to the extra land.\n",
        "\n",
        "Modern optimization solvers directly calculate these shadow prices. For instance, in Gurobi you can obtain them from the `.Pi` attribute of a constraint, which is available after solving a model."
      ]
    },
    {
      "cell_type": "code",
      "metadata": {
        "colab": {
          "base_uri": "https://localhost:8080/"
        },
        "id": "GoSEL4MjgcmI",
        "outputId": "c4dd51b9-002d-4ffc-a72d-b8b44d5f2fba"
      },
      "source": [
        "print(\"The shadow price of the `Land Availability Constraint` is: %.5f\" % c.Pi)"
      ],
      "execution_count": 48,
      "outputs": [
        {
          "output_type": "stream",
          "text": [
            "The shadow price of the `Land Availability Constraint` is: -0.00022\n"
          ],
          "name": "stdout"
        }
      ]
    },
    {
      "cell_type": "markdown",
      "metadata": {
        "id": "voInCQDLgcmI"
      },
      "source": [
        "__NOTE.__ The shadow price above was actually obtained from the very last run of our model in the `for` loop in In[32], so it actually corresponds to the slope at the point $x=160,000$. Since the dependency is linear here in the entire range of interest, this is also the slope at $x=150,000$. More broadly, if we wanted the shadow price at a particular value $x$, then we need to solve the model with a value of the RHS = $x$, and then look at that value of `c.Pi`."
      ]
    }
  ]
}