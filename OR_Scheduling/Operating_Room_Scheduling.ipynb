{
  "nbformat": 4,
  "nbformat_minor": 0,
  "metadata": {
    "kernelspec": {
      "display_name": "Python 3",
      "language": "python",
      "name": "python3"
    },
    "language_info": {
      "codemirror_mode": {
        "name": "ipython",
        "version": 3
      },
      "file_extension": ".py",
      "mimetype": "text/x-python",
      "name": "python",
      "nbconvert_exporter": "python",
      "pygments_lexer": "ipython3",
      "version": "3.6.5"
    },
    "colab": {
      "name": "Operating_Room_Scheduling.ipynb",
      "provenance": [],
      "collapsed_sections": [
        "Go11zWlmFTtV",
        "4TE_yA_h6WVj",
        "CQpC_qyYBQYW",
        "h1am6Tf1J1O0",
        "FCmQJ4-lKwkO"
      ],
      "toc_visible": true,
      "include_colab_link": true
    }
  },
  "cells": [
    {
      "cell_type": "markdown",
      "metadata": {
        "id": "view-in-github",
        "colab_type": "text"
      },
      "source": [
        "<a href=\"https://colab.research.google.com/github/dan-a-iancu/airm/blob/master/OR_Scheduling/Operating_Room_Scheduling.ipynb\" target=\"_parent\"><img src=\"https://colab.research.google.com/assets/colab-badge.svg\" alt=\"Open In Colab\"/></a>"
      ]
    },
    {
      "cell_type": "markdown",
      "metadata": {
        "id": "7VtkH-sn3oBT"
      },
      "source": [
        "This notebook implements the solution to the **Operating Room Scheduling** mini-case. It assumes you are familiar with the case and the model."
      ]
    },
    {
      "cell_type": "markdown",
      "metadata": {
        "id": "vb4A3Z6sy5J_"
      },
      "source": [
        "____\r\n",
        "# Basic Setup\r\n",
        "\r\n",
        "Import useful modules, read the data and store it in data frames, and set up some useful Python lists. You may want to expand this section and make sure you understand how the data is organized, and also read the last part where the Python lists are created, as these may be very useful when you build your model."
      ]
    },
    {
      "cell_type": "code",
      "metadata": {
        "colab": {
          "base_uri": "https://localhost:8080/"
        },
        "id": "WcFPypqhXbcv",
        "cellView": "form",
        "outputId": "0a3fc6d1-0ee5-4aca-d6e6-eb51dc9855e7"
      },
      "source": [
        "#@markdown We first import some useful modules. \n",
        "\n",
        "# Python ≥3.5 is required\n",
        "import sys\n",
        "assert sys.version_info >= (3, 5)\n",
        "\n",
        "# import numpy\n",
        "import numpy as np\n",
        "import urllib.request  # for file downloading\n",
        "\n",
        "# Import pandas for data-frames\n",
        "import pandas as pd\n",
        "pd.options.display.max_rows = 15\n",
        "pd.options.display.float_format = \"{:,.2f}\".format\n",
        "\n",
        "from IPython.display import display\n",
        "\n",
        "# Make sure Matplotlib runs inline, for nice figures\n",
        "%matplotlib inline\n",
        "import matplotlib as mpl\n",
        "import matplotlib.pyplot as plt\n",
        "mpl.rc('axes', labelsize=14)\n",
        "mpl.rc('xtick', labelsize=12)\n",
        "mpl.rc('ytick', labelsize=12)\n",
        "import matplotlib.ticker as ticker \n",
        "\n",
        "# install Gurobi (our linear optimization solver)\n",
        "!pip install -i https://pypi.gurobi.com gurobipy\n",
        "from gurobipy import *\n",
        "\n",
        "# some modules to create local directories for CBC (to avoid issues with solving multiple models)\n",
        "import os\n",
        "def new_local_directory(name):\n",
        "    full_path = os.path.join(\".\", name)\n",
        "    os.makedirs(full_path, exist_ok=True)\n",
        "    return full_path\n",
        "\n",
        "# install the latest version of seaborn for nicer graphics\n",
        "#!pip install --prefix {sys.prefix} seaborn==0.11.0  &> /dev/null\n",
        "import seaborn as sns\n",
        "\n",
        "# Ignore useless some warnings\n",
        "import warnings\n",
        "warnings.simplefilter(action=\"ignore\")\n",
        "\n",
        "print(\"Completed successfully!\")"
      ],
      "execution_count": 1,
      "outputs": [
        {
          "output_type": "stream",
          "text": [
            "Looking in indexes: https://pypi.gurobi.com\n",
            "Collecting gurobipy\n",
            "\u001b[?25l  Downloading https://pypi.gurobi.com/gurobipy/gurobipy-9.1.1-cp37-cp37m-manylinux1_x86_64.whl (11.1MB)\n",
            "\u001b[K     |████████████████████████████████| 11.1MB 410kB/s \n",
            "\u001b[?25hInstalling collected packages: gurobipy\n",
            "Successfully installed gurobipy-9.1.1\n",
            "Completed successfully!\n"
          ],
          "name": "stdout"
        }
      ]
    },
    {
      "cell_type": "markdown",
      "metadata": {
        "id": "Aqf-EBXAAgn1"
      },
      "source": [
        "## Load the case data into Pandas data frames"
      ]
    },
    {
      "cell_type": "markdown",
      "metadata": {
        "id": "17bUiOG3EYfu"
      },
      "source": [
        "We first download an Excel file with all the data from Github."
      ]
    },
    {
      "cell_type": "code",
      "metadata": {
        "colab": {
          "base_uri": "https://localhost:8080/"
        },
        "id": "oO9JJFpMEX8K",
        "outputId": "2ff8cb35-b01d-4b37-e715-1114ebce1dc3"
      },
      "source": [
        "#@markdown Download the entire data as an Excel file from Github\n",
        "\n",
        "url_Excel = 'https://github.com/dan-a-iancu/airm/blob/master/OR_Scheduling/OR_Scheduling_data.xlsx?raw=true'\n",
        "local_file = \"OR_Scheduling_Data.xlsx\"   # name of local file where you want to store the downloaded file\n",
        "urllib.request.urlretrieve(url_Excel, local_file)    # download from website and save it locally"
      ],
      "execution_count": 2,
      "outputs": [
        {
          "output_type": "execute_result",
          "data": {
            "text/plain": [
              "('OR_Scheduling_Data.xlsx', <http.client.HTTPMessage at 0x7f80677c45d0>)"
            ]
          },
          "metadata": {
            "tags": []
          },
          "execution_count": 2
        }
      ]
    },
    {
      "cell_type": "markdown",
      "metadata": {
        "id": "nb7NvPyuyoGh"
      },
      "source": [
        "Read in and store the data in suitable dataframes."
      ]
    },
    {
      "cell_type": "code",
      "metadata": {
        "colab": {
          "base_uri": "https://localhost:8080/",
          "height": 267
        },
        "id": "EUxSwrdEyJDs",
        "outputId": "eb170c71-d97e-49f2-dd99-7c82fd73c8ed"
      },
      "source": [
        "#@markdown Create dataframes based on the Excel file\r\n",
        "\r\n",
        "# data on hours requested (Table 1)\r\n",
        "hours_df = pd.read_excel(\"OR_Scheduling_Data.xlsx\", sheet_name = \"Requests\", index_col=0)\r\n",
        "display(hours_df)\r\n",
        "\r\n",
        "# data on available surgical teams (Table 2); \"index_col=0\" just assigns the first column as the row names of the data frame\r\n",
        "teams_df = pd.read_excel(\"OR_Scheduling_Data.xlsx\", sheet_name = \"Teams\", index_col=0)\r\n",
        "display(teams_df)"
      ],
      "execution_count": 3,
      "outputs": [
        {
          "output_type": "display_data",
          "data": {
            "text/html": [
              "<div>\n",
              "<style scoped>\n",
              "    .dataframe tbody tr th:only-of-type {\n",
              "        vertical-align: middle;\n",
              "    }\n",
              "\n",
              "    .dataframe tbody tr th {\n",
              "        vertical-align: top;\n",
              "    }\n",
              "\n",
              "    .dataframe thead th {\n",
              "        text-align: right;\n",
              "    }\n",
              "</style>\n",
              "<table border=\"1\" class=\"dataframe\">\n",
              "  <thead>\n",
              "    <tr style=\"text-align: right;\">\n",
              "      <th></th>\n",
              "      <th>Opthalmology</th>\n",
              "      <th>Gynecology</th>\n",
              "      <th>Oral_Surgery</th>\n",
              "      <th>Otolaryngology</th>\n",
              "      <th>General_Surgery</th>\n",
              "    </tr>\n",
              "  </thead>\n",
              "  <tbody>\n",
              "    <tr>\n",
              "      <th>Hours</th>\n",
              "      <td>20</td>\n",
              "      <td>39</td>\n",
              "      <td>14</td>\n",
              "      <td>17</td>\n",
              "      <td>63</td>\n",
              "    </tr>\n",
              "  </tbody>\n",
              "</table>\n",
              "</div>"
            ],
            "text/plain": [
              "       Opthalmology  Gynecology  Oral_Surgery  Otolaryngology  General_Surgery\n",
              "Hours            20          39            14              17               63"
            ]
          },
          "metadata": {
            "tags": []
          }
        },
        {
          "output_type": "display_data",
          "data": {
            "text/html": [
              "<div>\n",
              "<style scoped>\n",
              "    .dataframe tbody tr th:only-of-type {\n",
              "        vertical-align: middle;\n",
              "    }\n",
              "\n",
              "    .dataframe tbody tr th {\n",
              "        vertical-align: top;\n",
              "    }\n",
              "\n",
              "    .dataframe thead th {\n",
              "        text-align: right;\n",
              "    }\n",
              "</style>\n",
              "<table border=\"1\" class=\"dataframe\">\n",
              "  <thead>\n",
              "    <tr style=\"text-align: right;\">\n",
              "      <th></th>\n",
              "      <th>Opthalmology</th>\n",
              "      <th>Gynecology</th>\n",
              "      <th>Oral_Surgery</th>\n",
              "      <th>Otolaryngology</th>\n",
              "      <th>General_Surgery</th>\n",
              "    </tr>\n",
              "  </thead>\n",
              "  <tbody>\n",
              "    <tr>\n",
              "      <th>Mon</th>\n",
              "      <td>2</td>\n",
              "      <td>2</td>\n",
              "      <td>0</td>\n",
              "      <td>3</td>\n",
              "      <td>4</td>\n",
              "    </tr>\n",
              "    <tr>\n",
              "      <th>Tue</th>\n",
              "      <td>4</td>\n",
              "      <td>4</td>\n",
              "      <td>2</td>\n",
              "      <td>1</td>\n",
              "      <td>4</td>\n",
              "    </tr>\n",
              "    <tr>\n",
              "      <th>Wed</th>\n",
              "      <td>2</td>\n",
              "      <td>4</td>\n",
              "      <td>0</td>\n",
              "      <td>1</td>\n",
              "      <td>4</td>\n",
              "    </tr>\n",
              "    <tr>\n",
              "      <th>Thu</th>\n",
              "      <td>4</td>\n",
              "      <td>2</td>\n",
              "      <td>2</td>\n",
              "      <td>2</td>\n",
              "      <td>4</td>\n",
              "    </tr>\n",
              "    <tr>\n",
              "      <th>Fri</th>\n",
              "      <td>3</td>\n",
              "      <td>2</td>\n",
              "      <td>0</td>\n",
              "      <td>2</td>\n",
              "      <td>4</td>\n",
              "    </tr>\n",
              "  </tbody>\n",
              "</table>\n",
              "</div>"
            ],
            "text/plain": [
              "     Opthalmology  Gynecology  Oral_Surgery  Otolaryngology  General_Surgery\n",
              "Mon             2           2             0               3                4\n",
              "Tue             4           4             2               1                4\n",
              "Wed             2           4             0               1                4\n",
              "Thu             4           2             2               2                4\n",
              "Fri             3           2             0               2                4"
            ]
          },
          "metadata": {
            "tags": []
          }
        }
      ]
    },
    {
      "cell_type": "markdown",
      "metadata": {
        "id": "8yhR3xIVyJ13"
      },
      "source": [
        "## Create Python lists and store any other relevant problem parameters\r\n",
        "\r\n",
        "__NOTE__: Make sure you understand what the __lists__ created here are! These will be very helpful when creating the model."
      ]
    },
    {
      "cell_type": "code",
      "metadata": {
        "id": "oi5sktA8j3PF",
        "colab": {
          "base_uri": "https://localhost:8080/"
        },
        "outputId": "771fca04-ca8f-437f-d0b8-8784c12786bf"
      },
      "source": [
        "#@markdown Create useful lists with the departments and the days of the week\n",
        "# calculate the list of departments\n",
        "departments = list( hours_df.columns )\n",
        "print(\"The list of departments:\")\n",
        "print(departments)\n",
        "\n",
        "# calculate the list of days\n",
        "days = list( teams_df.index )\n",
        "print(\"The list of days:\")\n",
        "print(days)"
      ],
      "execution_count": 4,
      "outputs": [
        {
          "output_type": "stream",
          "text": [
            "The list of departments:\n",
            "['Opthalmology', 'Gynecology', 'Oral_Surgery', 'Otolaryngology', 'General_Surgery']\n",
            "The list of days:\n",
            "['Mon', 'Tue', 'Wed', 'Thu', 'Fri']\n"
          ],
          "name": "stdout"
        }
      ]
    },
    {
      "cell_type": "code",
      "metadata": {
        "colab": {
          "base_uri": "https://localhost:8080/"
        },
        "id": "C6pv7ok4gztc",
        "outputId": "d4eaf391-67ab-4194-9549-c308954fdfe1"
      },
      "source": [
        "#@markdown Also create a separate list with the names of the blocks within a day\r\n",
        "blocks_of_day = ['8am-11am', '11am-2pm', '2pm-5pm', '5pm-8pm']\r\n",
        "print(\"The blocks in a day:\")\r\n",
        "print(blocks_of_day)\r\n",
        "\r\n",
        "# the length of time for a block\r\n",
        "block_length = 3"
      ],
      "execution_count": 5,
      "outputs": [
        {
          "output_type": "stream",
          "text": [
            "The blocks in a day:\n",
            "['8am-11am', '11am-2pm', '2pm-5pm', '5pm-8pm']\n"
          ],
          "name": "stdout"
        }
      ]
    },
    {
      "cell_type": "markdown",
      "metadata": {
        "id": "JWIygWXt2SNi"
      },
      "source": [
        "<font color=red>**IMPORTANT HINT.**</font> When defining your **decision variables** in this model, you may want to consider *matrices* (or grids) of decision variables instead of a simple list like we've created before. Specifically, you may want to add a decision variable for every pair of elements where the first element is from one list and the second element is from another list. \r\n",
        "\r\n",
        "When the decision variables are organized in a grid, it's significantly easier to use the ``addVars`` function to add all of the decision variables to the model at once. The function ``addVars`` can take as arguments several lists, e.g., `addVars(list1, list2, list3,...)`, in which case it will return one decision variable for every possible tuple of values. These decision variables will be stored as a dictionary, with the dictionary keys corresponding to the tuple of values. \r\n",
        "\r\n",
        "For instance, suppose `list1 = [\"Paris\", \"Budapest\", \"Beijing\"]` and `list2= [1,2]`. Then `myDecisions = addVars(list1,list2)` would return a dictionary containing one decision for every pair, i.e., (\"Paris\",1), (\"Paris\",2), (\"Budapest\",1), (\"Budapest\",2), etc. To access the decision corresponding to the pair (\"Paris\",1), we can simply use `myDecisions[(\"Paris\",1)]` or `myDecisions[\"Paris\",1]`."
      ]
    },
    {
      "cell_type": "markdown",
      "metadata": {
        "id": "z1Fz9Viqj3Oz"
      },
      "source": [
        "_____\n",
        "# **Q1**"
      ]
    },
    {
      "cell_type": "markdown",
      "metadata": {
        "id": "QbmO9_Taj3PH"
      },
      "source": [
        "##  Create an empty model"
      ]
    },
    {
      "cell_type": "code",
      "metadata": {
        "scrolled": true,
        "id": "PuwdY_79j3PI",
        "colab": {
          "base_uri": "https://localhost:8080/"
        },
        "outputId": "d9db64e7-d332-49bf-9cf5-8fac0c09748d"
      },
      "source": [
        "# Gurobi model\n",
        "OR_Model = Model(\"Operating Room Scheduling Model\")"
      ],
      "execution_count": 6,
      "outputs": [
        {
          "output_type": "stream",
          "text": [
            "Restricted license - for non-production use only - expires 2022-01-13\n"
          ],
          "name": "stdout"
        }
      ]
    },
    {
      "cell_type": "markdown",
      "metadata": {
        "id": "Q2T_Zf2nj3PI"
      },
      "source": [
        "## Define the Decision Variables\n",
        "In this problem, we would like to create a decision variable for every triple of (day, block, department). This is done easily using Gurobi's ``addVars`` method."
      ]
    },
    {
      "cell_type": "code",
      "metadata": {
        "id": "BU14XQ9zj3PL"
      },
      "source": [
        "# decision variables for how much to ship from each factory to each customization center\n",
        "block_assigned = OR_Model.addVars( days, blocks_of_day, departments , name = \"Assign\", vtype=GRB.BINARY)"
      ],
      "execution_count": 7,
      "outputs": []
    },
    {
      "cell_type": "markdown",
      "metadata": {
        "id": "dMLkUyKMj3PV"
      },
      "source": [
        "## Calculate and add the objective function"
      ]
    },
    {
      "cell_type": "code",
      "metadata": {
        "id": "JmgtMKfaj3PW"
      },
      "source": [
        "# Calculate the percentage coverage for each department and store it in a dictionary\n",
        "coverage = {}\n",
        "for dept in departments:\n",
        "  coverage[dept] = quicksum(block_assigned[day,block,dept] \\\n",
        "                            for day in days for block in blocks_of_day) * \\\n",
        "                            block_length / hours_df[dept][\"Hours\"]\n",
        "\n",
        "total_coverage = quicksum( coverage[dept] for dept in departments )\n",
        "\n",
        "# objective: maximize the total coverage\n",
        "OR_Model.setObjective(total_coverage, GRB.MAXIMIZE)"
      ],
      "execution_count": 8,
      "outputs": []
    },
    {
      "cell_type": "markdown",
      "metadata": {
        "id": "z9kO1tqvj3Pc"
      },
      "source": [
        "## Add All Constraints"
      ]
    },
    {
      "cell_type": "code",
      "metadata": {
        "id": "NMVLe80qj3Pd"
      },
      "source": [
        "# each block is assigned at most once\n",
        "for day in days:\n",
        "    for block in blocks_of_day:\n",
        "        OR_Model.addConstr( quicksum(block_assigned[day,block,dept] for dept in departments) <= 1 )\n",
        "\n",
        "# the total blocks assigned to any department in any day do not exceed the available surgical teams\n",
        "for day in days:\n",
        "    for dept in departments:\n",
        "        OR_Model.addConstr( quicksum(block_assigned[day,block,dept] \\\n",
        "                                     for block in blocks_of_day) <= \\\n",
        "                           teams_df[dept][day])"
      ],
      "execution_count": 9,
      "outputs": []
    },
    {
      "cell_type": "markdown",
      "metadata": {
        "id": "Go11zWlmFTtV"
      },
      "source": [
        "## Inspect the model\n"
      ]
    },
    {
      "cell_type": "markdown",
      "metadata": {
        "id": "L-SLNXM-4Oem"
      },
      "source": [
        "You can actually write the model out, which is useful for inspection. In this case the LP file may become large, so the code is commented out below. Feel free to un-comment the second line to see the output."
      ]
    },
    {
      "cell_type": "code",
      "metadata": {
        "id": "BHJ2xYLjFTtW",
        "cellView": "form"
      },
      "source": [
        "#@markdown Feel free to uncomment the next lines if you want to see the model printed\r\n",
        "# OR_Model.write(\"OR_Model.lp\")    # write the model to a file with extension \".lp\"\r\n",
        "# f = open(\"OR_Model.lp\", 'r')    # open a file handle\r\n",
        "# print( f.read() )           # read the contents and print them\r\n",
        "# f.close()              # close the file handle"
      ],
      "execution_count": 10,
      "outputs": []
    },
    {
      "cell_type": "markdown",
      "metadata": {
        "id": "IjtI8X9dj3Pl"
      },
      "source": [
        "## Solve the model"
      ]
    },
    {
      "cell_type": "code",
      "metadata": {
        "scrolled": true,
        "id": "OqPDbVEFj3Pm",
        "colab": {
          "base_uri": "https://localhost:8080/"
        },
        "cellView": "form",
        "outputId": "8b80bc89-fbe7-470b-8f7f-c08d59ef7b07"
      },
      "source": [
        "#@markdown Select whether to run the [Gurobi](https://www.gurobi.com/) optimization algorithms silently (no output details)\n",
        "run_silently = False #@param {type:\"boolean\"}\n",
        "\n",
        "if run_silently:\n",
        "    OR_Model.setParam('OutputFlag',0)\n",
        "else:\n",
        "    OR_Model.setParam('OutputFlag',1)\n",
        "\n",
        "OR_Model.optimize()\n",
        "print('\\nSolved the optimization problem...')"
      ],
      "execution_count": 11,
      "outputs": [
        {
          "output_type": "stream",
          "text": [
            "Parameter OutputFlag unchanged\n",
            "   Value: 1  Min: 0  Max: 1  Default: 1\n",
            "Gurobi Optimizer version 9.1.1 build v9.1.1rc0 (linux64)\n",
            "Thread count: 1 physical cores, 2 logical processors, using up to 2 threads\n",
            "Optimize a model with 45 rows, 100 columns and 200 nonzeros\n",
            "Model fingerprint: 0x77132d15\n",
            "Variable types: 0 continuous, 100 integer (100 binary)\n",
            "Coefficient statistics:\n",
            "  Matrix range     [1e+00, 1e+00]\n",
            "  Objective range  [5e-02, 2e-01]\n",
            "  Bounds range     [1e+00, 1e+00]\n",
            "  RHS range        [1e+00, 4e+00]\n",
            "Found heuristic solution: objective 2.6346154\n",
            "Presolve removed 38 rows and 88 columns\n",
            "Presolve time: 0.00s\n",
            "Presolved: 7 rows, 12 columns, 24 nonzeros\n",
            "Found heuristic solution: objective 3.4223012\n",
            "Variable types: 0 continuous, 12 integer (12 binary)\n",
            "\n",
            "Root relaxation: cutoff, 0 iterations, 0.00 seconds\n",
            "\n",
            "Explored 0 nodes (0 simplex iterations) in 0.03 seconds\n",
            "Thread count was 2 (of 2 available processors)\n",
            "\n",
            "Solution count 2: 3.4223 2.63462 \n",
            "\n",
            "Optimal solution found (tolerance 1.00e-04)\n",
            "Best objective 3.422301228184e+00, best bound 3.422301228184e+00, gap 0.0000%\n",
            "\n",
            "Solved the optimization problem...\n"
          ],
          "name": "stdout"
        }
      ]
    },
    {
      "cell_type": "markdown",
      "metadata": {
        "id": "3UvnyEhh5yN_"
      },
      "source": [
        "## Print the optimal coverage and optimal schedule"
      ]
    },
    {
      "cell_type": "code",
      "metadata": {
        "colab": {
          "base_uri": "https://localhost:8080/",
          "height": 904
        },
        "cellView": "form",
        "id": "W1d6MRSvxAPk",
        "outputId": "8339334f-6841-4ef8-f8bf-5e7721ab6ea5"
      },
      "source": [
        "#@title Define a function to print the schedule and coverage\r\n",
        "def print_schedule_and_coverage(model, block_assigned, coverage):\r\n",
        "    #print(\"=\"*60)\r\n",
        "    #print(\"Schedule:\\n\")\r\n",
        "    # for day in days:\r\n",
        "    #     print(\"\\n{:<15s} | {:<15s} | {:<15s} | {:<15s} | {:<15s} | {:<15s}\".\\\r\n",
        "    #           format(day,*departments)) \r\n",
        "    #     for block in blocks_of_day:\r\n",
        "    #         print(\"{:<15s} | {:<15d} | {:<15d} | {:<15d} | {:<15d} | {:<15d}\".\\\r\n",
        "    #               format(block,*[np.int(block_assigned[day,block,dept].X) for dept in departments]))\r\n",
        "\r\n",
        "    # print the schedule as a pandas dataframe with multi-index\r\n",
        "    pd.options.display.max_rows = 25\r\n",
        "    iterables = [days, blocks_of_day]\r\n",
        "    df_schedule = pd.DataFrame(dict( [ (dept, [np.int(block_assigned[day,block,dept].X) for day in days \\\r\n",
        "                                               for block in blocks_of_day]) for dept in departments]),\\\r\n",
        "                               index=pd.MultiIndex.from_product(iterables, names=[\"Day\", \"Block\"]))\r\n",
        "    display(df_schedule)\r\n",
        "\r\n",
        "    print(\"\\nCoverage by department:\")\r\n",
        "    print(\"=\"*100)\r\n",
        "    print(\"{:<15s} : {:<15s} : {:<15s}\".format(\"Department\",\"Claimed coverage\",\\\r\n",
        "                                               \"Effective coverage\"))\r\n",
        "    for dept in departments:\r\n",
        "        claimed_cov_perc = 100*coverage[dept].getValue()\r\n",
        "        print(\"{:<15s} : {:<15.2f}% : {:<15.2f}%\".\\\r\n",
        "              format(dept,claimed_cov_perc,min(100,claimed_cov_perc)))\r\n",
        "\r\n",
        "    print(\"\\nTotal coverage : {:.2f}%\\n\".format(100*model.objVal))\r\n",
        "\r\n",
        "#@markdown Use the function to print the results\r\n",
        "print_schedule_and_coverage(OR_Model, block_assigned, coverage)\r\n",
        "\r\n"
      ],
      "execution_count": 12,
      "outputs": [
        {
          "output_type": "display_data",
          "data": {
            "text/html": [
              "<div>\n",
              "<style scoped>\n",
              "    .dataframe tbody tr th:only-of-type {\n",
              "        vertical-align: middle;\n",
              "    }\n",
              "\n",
              "    .dataframe tbody tr th {\n",
              "        vertical-align: top;\n",
              "    }\n",
              "\n",
              "    .dataframe thead th {\n",
              "        text-align: right;\n",
              "    }\n",
              "</style>\n",
              "<table border=\"1\" class=\"dataframe\">\n",
              "  <thead>\n",
              "    <tr style=\"text-align: right;\">\n",
              "      <th></th>\n",
              "      <th></th>\n",
              "      <th>Opthalmology</th>\n",
              "      <th>Gynecology</th>\n",
              "      <th>Oral_Surgery</th>\n",
              "      <th>Otolaryngology</th>\n",
              "      <th>General_Surgery</th>\n",
              "    </tr>\n",
              "    <tr>\n",
              "      <th>Day</th>\n",
              "      <th>Block</th>\n",
              "      <th></th>\n",
              "      <th></th>\n",
              "      <th></th>\n",
              "      <th></th>\n",
              "      <th></th>\n",
              "    </tr>\n",
              "  </thead>\n",
              "  <tbody>\n",
              "    <tr>\n",
              "      <th rowspan=\"4\" valign=\"top\">Mon</th>\n",
              "      <th>8am-11am</th>\n",
              "      <td>0</td>\n",
              "      <td>0</td>\n",
              "      <td>0</td>\n",
              "      <td>1</td>\n",
              "      <td>0</td>\n",
              "    </tr>\n",
              "    <tr>\n",
              "      <th>11am-2pm</th>\n",
              "      <td>1</td>\n",
              "      <td>0</td>\n",
              "      <td>0</td>\n",
              "      <td>0</td>\n",
              "      <td>0</td>\n",
              "    </tr>\n",
              "    <tr>\n",
              "      <th>2pm-5pm</th>\n",
              "      <td>0</td>\n",
              "      <td>0</td>\n",
              "      <td>0</td>\n",
              "      <td>1</td>\n",
              "      <td>0</td>\n",
              "    </tr>\n",
              "    <tr>\n",
              "      <th>5pm-8pm</th>\n",
              "      <td>0</td>\n",
              "      <td>0</td>\n",
              "      <td>0</td>\n",
              "      <td>1</td>\n",
              "      <td>0</td>\n",
              "    </tr>\n",
              "    <tr>\n",
              "      <th rowspan=\"4\" valign=\"top\">Tue</th>\n",
              "      <th>8am-11am</th>\n",
              "      <td>0</td>\n",
              "      <td>0</td>\n",
              "      <td>1</td>\n",
              "      <td>0</td>\n",
              "      <td>0</td>\n",
              "    </tr>\n",
              "    <tr>\n",
              "      <th>11am-2pm</th>\n",
              "      <td>0</td>\n",
              "      <td>0</td>\n",
              "      <td>1</td>\n",
              "      <td>0</td>\n",
              "      <td>0</td>\n",
              "    </tr>\n",
              "    <tr>\n",
              "      <th>2pm-5pm</th>\n",
              "      <td>0</td>\n",
              "      <td>0</td>\n",
              "      <td>0</td>\n",
              "      <td>1</td>\n",
              "      <td>0</td>\n",
              "    </tr>\n",
              "    <tr>\n",
              "      <th>5pm-8pm</th>\n",
              "      <td>1</td>\n",
              "      <td>0</td>\n",
              "      <td>0</td>\n",
              "      <td>0</td>\n",
              "      <td>0</td>\n",
              "    </tr>\n",
              "    <tr>\n",
              "      <th rowspan=\"4\" valign=\"top\">Wed</th>\n",
              "      <th>8am-11am</th>\n",
              "      <td>1</td>\n",
              "      <td>0</td>\n",
              "      <td>0</td>\n",
              "      <td>0</td>\n",
              "      <td>0</td>\n",
              "    </tr>\n",
              "    <tr>\n",
              "      <th>11am-2pm</th>\n",
              "      <td>1</td>\n",
              "      <td>0</td>\n",
              "      <td>0</td>\n",
              "      <td>0</td>\n",
              "      <td>0</td>\n",
              "    </tr>\n",
              "    <tr>\n",
              "      <th>2pm-5pm</th>\n",
              "      <td>0</td>\n",
              "      <td>0</td>\n",
              "      <td>0</td>\n",
              "      <td>1</td>\n",
              "      <td>0</td>\n",
              "    </tr>\n",
              "    <tr>\n",
              "      <th>5pm-8pm</th>\n",
              "      <td>0</td>\n",
              "      <td>1</td>\n",
              "      <td>0</td>\n",
              "      <td>0</td>\n",
              "      <td>0</td>\n",
              "    </tr>\n",
              "    <tr>\n",
              "      <th rowspan=\"4\" valign=\"top\">Thu</th>\n",
              "      <th>8am-11am</th>\n",
              "      <td>0</td>\n",
              "      <td>0</td>\n",
              "      <td>1</td>\n",
              "      <td>0</td>\n",
              "      <td>0</td>\n",
              "    </tr>\n",
              "    <tr>\n",
              "      <th>11am-2pm</th>\n",
              "      <td>0</td>\n",
              "      <td>0</td>\n",
              "      <td>1</td>\n",
              "      <td>0</td>\n",
              "      <td>0</td>\n",
              "    </tr>\n",
              "    <tr>\n",
              "      <th>2pm-5pm</th>\n",
              "      <td>0</td>\n",
              "      <td>0</td>\n",
              "      <td>0</td>\n",
              "      <td>1</td>\n",
              "      <td>0</td>\n",
              "    </tr>\n",
              "    <tr>\n",
              "      <th>5pm-8pm</th>\n",
              "      <td>0</td>\n",
              "      <td>0</td>\n",
              "      <td>0</td>\n",
              "      <td>1</td>\n",
              "      <td>0</td>\n",
              "    </tr>\n",
              "    <tr>\n",
              "      <th rowspan=\"4\" valign=\"top\">Fri</th>\n",
              "      <th>8am-11am</th>\n",
              "      <td>0</td>\n",
              "      <td>0</td>\n",
              "      <td>0</td>\n",
              "      <td>1</td>\n",
              "      <td>0</td>\n",
              "    </tr>\n",
              "    <tr>\n",
              "      <th>11am-2pm</th>\n",
              "      <td>0</td>\n",
              "      <td>0</td>\n",
              "      <td>0</td>\n",
              "      <td>1</td>\n",
              "      <td>0</td>\n",
              "    </tr>\n",
              "    <tr>\n",
              "      <th>2pm-5pm</th>\n",
              "      <td>1</td>\n",
              "      <td>0</td>\n",
              "      <td>0</td>\n",
              "      <td>0</td>\n",
              "      <td>0</td>\n",
              "    </tr>\n",
              "    <tr>\n",
              "      <th>5pm-8pm</th>\n",
              "      <td>1</td>\n",
              "      <td>0</td>\n",
              "      <td>0</td>\n",
              "      <td>0</td>\n",
              "      <td>0</td>\n",
              "    </tr>\n",
              "  </tbody>\n",
              "</table>\n",
              "</div>"
            ],
            "text/plain": [
              "              Opthalmology  Gynecology  ...  Otolaryngology  General_Surgery\n",
              "Day Block                               ...                                 \n",
              "Mon 8am-11am             0           0  ...               1                0\n",
              "    11am-2pm             1           0  ...               0                0\n",
              "    2pm-5pm              0           0  ...               1                0\n",
              "    5pm-8pm              0           0  ...               1                0\n",
              "Tue 8am-11am             0           0  ...               0                0\n",
              "    11am-2pm             0           0  ...               0                0\n",
              "    2pm-5pm              0           0  ...               1                0\n",
              "    5pm-8pm              1           0  ...               0                0\n",
              "Wed 8am-11am             1           0  ...               0                0\n",
              "    11am-2pm             1           0  ...               0                0\n",
              "    2pm-5pm              0           0  ...               1                0\n",
              "    5pm-8pm              0           1  ...               0                0\n",
              "Thu 8am-11am             0           0  ...               0                0\n",
              "    11am-2pm             0           0  ...               0                0\n",
              "    2pm-5pm              0           0  ...               1                0\n",
              "    5pm-8pm              0           0  ...               1                0\n",
              "Fri 8am-11am             0           0  ...               1                0\n",
              "    11am-2pm             0           0  ...               1                0\n",
              "    2pm-5pm              1           0  ...               0                0\n",
              "    5pm-8pm              1           0  ...               0                0\n",
              "\n",
              "[20 rows x 5 columns]"
            ]
          },
          "metadata": {
            "tags": []
          }
        },
        {
          "output_type": "stream",
          "text": [
            "\n",
            "Coverage by department:\n",
            "====================================================================================================\n",
            "Department      : Claimed coverage : Effective coverage\n",
            "Opthalmology    : 90.00          % : 90.00          %\n",
            "Gynecology      : 7.69           % : 7.69           %\n",
            "Oral_Surgery    : 85.71          % : 85.71          %\n",
            "Otolaryngology  : 158.82         % : 100.00         %\n",
            "General_Surgery : 0.00           % : 0.00           %\n",
            "\n",
            "Total coverage : 342.23%\n",
            "\n"
          ],
          "name": "stdout"
        }
      ]
    },
    {
      "cell_type": "markdown",
      "metadata": {
        "id": "JB6siv6V6fjE"
      },
      "source": [
        "Store the optimal coverage in **Q1**."
      ]
    },
    {
      "cell_type": "code",
      "metadata": {
        "id": "em3DFFjU6c-u"
      },
      "source": [
        "coverage_Q1 = OR_Model.objVal  # optimal coverage Q1"
      ],
      "execution_count": 13,
      "outputs": []
    },
    {
      "cell_type": "markdown",
      "metadata": {
        "id": "qu1eJhBgB7aM"
      },
      "source": [
        "## Create a few utility functions that will help subsequently\r\n",
        "\r\n",
        "To help with subsequent parts of the problem, we also add all the steps above inside a **function** that returns a generic model like the one we created in **Q1**, together with all the decision variables."
      ]
    },
    {
      "cell_type": "code",
      "metadata": {
        "id": "FR_fXXdaCmob",
        "cellView": "form"
      },
      "source": [
        "#@title A function that generates a model like the one in **Q1**\r\n",
        "def create_model_like_in_Q1():\r\n",
        "    #@markdown Empty Gurobi model\r\n",
        "    OR_Model = Model(\"Operating Room Scheduling Model\")\r\n",
        "\r\n",
        "    #@markdown Decision vars\r\n",
        "    # decision variables for how much to ship from each factory to each customization center\r\n",
        "    block_assigned = OR_Model.addVars( days, blocks_of_day, departments , name = \"Assign\", vtype=GRB.BINARY)\r\n",
        "\r\n",
        "    #@markdown Objective\r\n",
        "    # Calculate the percentage coverage for each department and store it in a dictionary\r\n",
        "    coverage = {}\r\n",
        "    for dept in departments:\r\n",
        "      coverage[dept] = quicksum(block_assigned[day,block,dept] \\\r\n",
        "                                for day in days for block in blocks_of_day) * \\\r\n",
        "                                block_length / hours_df[dept][\"Hours\"]\r\n",
        "\r\n",
        "    total_coverage = quicksum( coverage[dept] for dept in departments )\r\n",
        "\r\n",
        "    # objective: maximize the total coverage\r\n",
        "    OR_Model.setObjective(total_coverage, GRB.MAXIMIZE)\r\n",
        "\r\n",
        "    #@markdown Constraints\r\n",
        "    # each block is assigned at most once\r\n",
        "    for day in days:\r\n",
        "        for block in blocks_of_day:\r\n",
        "            OR_Model.addConstr( quicksum(block_assigned[day,block,dept] for dept in departments) <= 1 )\r\n",
        "\r\n",
        "    # the total blocks assigned to any department in any day do not exceed the available surgical teams\r\n",
        "    for day in days:\r\n",
        "        for dept in departments:\r\n",
        "            OR_Model.addConstr( quicksum(block_assigned[day,block,dept] \\\r\n",
        "                                        for block in blocks_of_day) <= \\\r\n",
        "                              teams_df[dept][day])\r\n",
        "\r\n",
        "    # return the model, the decision variables, the individual coverage calculations\r\n",
        "    return OR_Model,  block_assigned, coverage,  total_coverage"
      ],
      "execution_count": 14,
      "outputs": []
    },
    {
      "cell_type": "markdown",
      "metadata": {
        "id": "4TE_yA_h6WVj"
      },
      "source": [
        "______\r\n",
        "# **Q2**\r\n",
        "Before running this section, make sure you have run all the previous sections of the Colab file."
      ]
    },
    {
      "cell_type": "markdown",
      "metadata": {
        "id": "8CbzVStt7ykl"
      },
      "source": [
        "Re-recreate an identical model to the one from **Q1** and store the expression for model, the decision variables and the objective."
      ]
    },
    {
      "cell_type": "code",
      "metadata": {
        "id": "BKvDyjWbFmyA"
      },
      "source": [
        "#@markdown Create a model like the one in Q1 using the function \r\n",
        "OR_Model,  block_assigned, coverage,  total_coverage = \\\r\n",
        "       create_model_like_in_Q1()"
      ],
      "execution_count": 15,
      "outputs": []
    },
    {
      "cell_type": "markdown",
      "metadata": {
        "id": "nLrrRn3WFsvB"
      },
      "source": [
        "Add a new set of decision variables for the actual coverage, which can never exceed 100\\%."
      ]
    },
    {
      "cell_type": "code",
      "metadata": {
        "id": "Pcxu8ojc6X8Y"
      },
      "source": [
        "#@markdown Add a new set of decisions for the actual coverage\r\n",
        "actual_coverage = OR_Model.addVars( departments )"
      ],
      "execution_count": 16,
      "outputs": []
    },
    {
      "cell_type": "markdown",
      "metadata": {
        "id": "mCw4WsZe0QMm"
      },
      "source": [
        "Calculate the total coverage objective using the new decision variables."
      ]
    },
    {
      "cell_type": "code",
      "metadata": {
        "id": "VzdAE57r0Txy"
      },
      "source": [
        "#@markdown Adjust the objective to use the actual coverage\r\n",
        "OR_Model.setObjective( quicksum(actual_coverage[dept] for dept in departments),\\\r\n",
        "                      GRB.MAXIMIZE)"
      ],
      "execution_count": 17,
      "outputs": []
    },
    {
      "cell_type": "markdown",
      "metadata": {
        "id": "IJcpDaOtzSaB"
      },
      "source": [
        "Add constraints that the actual coverage variables are at most equal to the calculated coverage and are at most 1, for every department."
      ]
    },
    {
      "cell_type": "code",
      "metadata": {
        "id": "39imMm2hzQiA"
      },
      "source": [
        "#@markdown Add constraints on the **actual coverage** variables\r\n",
        "for dept in departments:\r\n",
        "    OR_Model.addConstr( actual_coverage[dept] <= coverage[dept], name='Actual_leq_calculated' )\r\n",
        "    OR_Model.addConstr( actual_coverage[dept] <= 1.0, name='Actual_leq_1' )"
      ],
      "execution_count": 18,
      "outputs": []
    },
    {
      "cell_type": "markdown",
      "metadata": {
        "id": "54vtBd9eGAA-"
      },
      "source": [
        "Set the objective in the new model to maximize the total coverage calculated using the **actual coverage** variables."
      ]
    },
    {
      "cell_type": "code",
      "metadata": {
        "colab": {
          "base_uri": "https://localhost:8080/"
        },
        "id": "v-yNNowxAALx",
        "outputId": "fad499e5-fc36-44f2-a10b-09793c8c8110"
      },
      "source": [
        "#@title Calculate objective using the new(actual coverage) variables\r\n",
        "OR_Model.setObjective( quicksum( actual_coverage[dept] for dept in departments ),\\\r\n",
        "                      GRB.MAXIMIZE )\r\n",
        "\r\n",
        "#@markdown Select whether to run the [Gurobi](https://www.gurobi.com/) optimization algorithms silently (no output details)\r\n",
        "run_silently = True #@param {type:\"boolean\"}\r\n",
        "\r\n",
        "if run_silently:\r\n",
        "    OR_Model.setParam('OutputFlag',0)\r\n",
        "else:\r\n",
        "    OR_Model.setParam('OutputFlag',1)\r\n",
        "\r\n",
        "OR_Model.optimize()\r\n",
        "print('\\nSolved the optimization problem...')"
      ],
      "execution_count": 19,
      "outputs": [
        {
          "output_type": "stream",
          "text": [
            "\n",
            "Solved the optimization problem...\n"
          ],
          "name": "stdout"
        }
      ]
    },
    {
      "cell_type": "markdown",
      "metadata": {
        "id": "IE1UrKQ1GfON"
      },
      "source": [
        "Print the optimal solution."
      ]
    },
    {
      "cell_type": "code",
      "metadata": {
        "colab": {
          "base_uri": "https://localhost:8080/",
          "height": 0
        },
        "id": "-Ksm0eiRzJLo",
        "outputId": "fa84a394-1015-4160-cb26-cd5c40d7b211"
      },
      "source": [
        "#@markdown Use the function to print the results\r\n",
        "print_schedule_and_coverage(OR_Model, block_assigned, coverage)"
      ],
      "execution_count": 20,
      "outputs": [
        {
          "output_type": "display_data",
          "data": {
            "text/html": [
              "<div>\n",
              "<style scoped>\n",
              "    .dataframe tbody tr th:only-of-type {\n",
              "        vertical-align: middle;\n",
              "    }\n",
              "\n",
              "    .dataframe tbody tr th {\n",
              "        vertical-align: top;\n",
              "    }\n",
              "\n",
              "    .dataframe thead th {\n",
              "        text-align: right;\n",
              "    }\n",
              "</style>\n",
              "<table border=\"1\" class=\"dataframe\">\n",
              "  <thead>\n",
              "    <tr style=\"text-align: right;\">\n",
              "      <th></th>\n",
              "      <th></th>\n",
              "      <th>Opthalmology</th>\n",
              "      <th>Gynecology</th>\n",
              "      <th>Oral_Surgery</th>\n",
              "      <th>Otolaryngology</th>\n",
              "      <th>General_Surgery</th>\n",
              "    </tr>\n",
              "    <tr>\n",
              "      <th>Day</th>\n",
              "      <th>Block</th>\n",
              "      <th></th>\n",
              "      <th></th>\n",
              "      <th></th>\n",
              "      <th></th>\n",
              "      <th></th>\n",
              "    </tr>\n",
              "  </thead>\n",
              "  <tbody>\n",
              "    <tr>\n",
              "      <th rowspan=\"4\" valign=\"top\">Mon</th>\n",
              "      <th>8am-11am</th>\n",
              "      <td>1</td>\n",
              "      <td>0</td>\n",
              "      <td>0</td>\n",
              "      <td>0</td>\n",
              "      <td>0</td>\n",
              "    </tr>\n",
              "    <tr>\n",
              "      <th>11am-2pm</th>\n",
              "      <td>0</td>\n",
              "      <td>0</td>\n",
              "      <td>0</td>\n",
              "      <td>1</td>\n",
              "      <td>0</td>\n",
              "    </tr>\n",
              "    <tr>\n",
              "      <th>2pm-5pm</th>\n",
              "      <td>0</td>\n",
              "      <td>0</td>\n",
              "      <td>0</td>\n",
              "      <td>1</td>\n",
              "      <td>0</td>\n",
              "    </tr>\n",
              "    <tr>\n",
              "      <th>5pm-8pm</th>\n",
              "      <td>0</td>\n",
              "      <td>0</td>\n",
              "      <td>0</td>\n",
              "      <td>1</td>\n",
              "      <td>0</td>\n",
              "    </tr>\n",
              "    <tr>\n",
              "      <th rowspan=\"4\" valign=\"top\">Tue</th>\n",
              "      <th>8am-11am</th>\n",
              "      <td>0</td>\n",
              "      <td>1</td>\n",
              "      <td>0</td>\n",
              "      <td>0</td>\n",
              "      <td>0</td>\n",
              "    </tr>\n",
              "    <tr>\n",
              "      <th>11am-2pm</th>\n",
              "      <td>0</td>\n",
              "      <td>0</td>\n",
              "      <td>1</td>\n",
              "      <td>0</td>\n",
              "      <td>0</td>\n",
              "    </tr>\n",
              "    <tr>\n",
              "      <th>2pm-5pm</th>\n",
              "      <td>0</td>\n",
              "      <td>0</td>\n",
              "      <td>1</td>\n",
              "      <td>0</td>\n",
              "      <td>0</td>\n",
              "    </tr>\n",
              "    <tr>\n",
              "      <th>5pm-8pm</th>\n",
              "      <td>1</td>\n",
              "      <td>0</td>\n",
              "      <td>0</td>\n",
              "      <td>0</td>\n",
              "      <td>0</td>\n",
              "    </tr>\n",
              "    <tr>\n",
              "      <th rowspan=\"4\" valign=\"top\">Wed</th>\n",
              "      <th>8am-11am</th>\n",
              "      <td>1</td>\n",
              "      <td>0</td>\n",
              "      <td>0</td>\n",
              "      <td>0</td>\n",
              "      <td>0</td>\n",
              "    </tr>\n",
              "    <tr>\n",
              "      <th>11am-2pm</th>\n",
              "      <td>0</td>\n",
              "      <td>1</td>\n",
              "      <td>0</td>\n",
              "      <td>0</td>\n",
              "      <td>0</td>\n",
              "    </tr>\n",
              "    <tr>\n",
              "      <th>2pm-5pm</th>\n",
              "      <td>1</td>\n",
              "      <td>0</td>\n",
              "      <td>0</td>\n",
              "      <td>0</td>\n",
              "      <td>0</td>\n",
              "    </tr>\n",
              "    <tr>\n",
              "      <th>5pm-8pm</th>\n",
              "      <td>0</td>\n",
              "      <td>1</td>\n",
              "      <td>0</td>\n",
              "      <td>0</td>\n",
              "      <td>0</td>\n",
              "    </tr>\n",
              "    <tr>\n",
              "      <th rowspan=\"4\" valign=\"top\">Thu</th>\n",
              "      <th>8am-11am</th>\n",
              "      <td>0</td>\n",
              "      <td>0</td>\n",
              "      <td>0</td>\n",
              "      <td>1</td>\n",
              "      <td>0</td>\n",
              "    </tr>\n",
              "    <tr>\n",
              "      <th>11am-2pm</th>\n",
              "      <td>0</td>\n",
              "      <td>0</td>\n",
              "      <td>1</td>\n",
              "      <td>0</td>\n",
              "      <td>0</td>\n",
              "    </tr>\n",
              "    <tr>\n",
              "      <th>2pm-5pm</th>\n",
              "      <td>1</td>\n",
              "      <td>0</td>\n",
              "      <td>0</td>\n",
              "      <td>0</td>\n",
              "      <td>0</td>\n",
              "    </tr>\n",
              "    <tr>\n",
              "      <th>5pm-8pm</th>\n",
              "      <td>0</td>\n",
              "      <td>0</td>\n",
              "      <td>1</td>\n",
              "      <td>0</td>\n",
              "      <td>0</td>\n",
              "    </tr>\n",
              "    <tr>\n",
              "      <th rowspan=\"4\" valign=\"top\">Fri</th>\n",
              "      <th>8am-11am</th>\n",
              "      <td>0</td>\n",
              "      <td>0</td>\n",
              "      <td>0</td>\n",
              "      <td>1</td>\n",
              "      <td>0</td>\n",
              "    </tr>\n",
              "    <tr>\n",
              "      <th>11am-2pm</th>\n",
              "      <td>1</td>\n",
              "      <td>0</td>\n",
              "      <td>0</td>\n",
              "      <td>0</td>\n",
              "      <td>0</td>\n",
              "    </tr>\n",
              "    <tr>\n",
              "      <th>2pm-5pm</th>\n",
              "      <td>0</td>\n",
              "      <td>0</td>\n",
              "      <td>0</td>\n",
              "      <td>1</td>\n",
              "      <td>0</td>\n",
              "    </tr>\n",
              "    <tr>\n",
              "      <th>5pm-8pm</th>\n",
              "      <td>1</td>\n",
              "      <td>0</td>\n",
              "      <td>0</td>\n",
              "      <td>0</td>\n",
              "      <td>0</td>\n",
              "    </tr>\n",
              "  </tbody>\n",
              "</table>\n",
              "</div>"
            ],
            "text/plain": [
              "              Opthalmology  Gynecology  ...  Otolaryngology  General_Surgery\n",
              "Day Block                               ...                                 \n",
              "Mon 8am-11am             1           0  ...               0                0\n",
              "    11am-2pm             0           0  ...               1                0\n",
              "    2pm-5pm              0           0  ...               1                0\n",
              "    5pm-8pm              0           0  ...               1                0\n",
              "Tue 8am-11am             0           1  ...               0                0\n",
              "    11am-2pm             0           0  ...               0                0\n",
              "    2pm-5pm              0           0  ...               0                0\n",
              "    5pm-8pm              1           0  ...               0                0\n",
              "Wed 8am-11am             1           0  ...               0                0\n",
              "    11am-2pm             0           1  ...               0                0\n",
              "    2pm-5pm              1           0  ...               0                0\n",
              "    5pm-8pm              0           1  ...               0                0\n",
              "Thu 8am-11am             0           0  ...               1                0\n",
              "    11am-2pm             0           0  ...               0                0\n",
              "    2pm-5pm              1           0  ...               0                0\n",
              "    5pm-8pm              0           0  ...               0                0\n",
              "Fri 8am-11am             0           0  ...               1                0\n",
              "    11am-2pm             1           0  ...               0                0\n",
              "    2pm-5pm              0           0  ...               1                0\n",
              "    5pm-8pm              1           0  ...               0                0\n",
              "\n",
              "[20 rows x 5 columns]"
            ]
          },
          "metadata": {
            "tags": []
          }
        },
        {
          "output_type": "stream",
          "text": [
            "\n",
            "Coverage by department:\n",
            "====================================================================================================\n",
            "Department      : Claimed coverage : Effective coverage\n",
            "Opthalmology    : 105.00         % : 100.00         %\n",
            "Gynecology      : 23.08          % : 23.08          %\n",
            "Oral_Surgery    : 85.71          % : 85.71          %\n",
            "Otolaryngology  : 105.88         % : 100.00         %\n",
            "General_Surgery : 0.00           % : 0.00           %\n",
            "\n",
            "Total coverage : 308.79%\n",
            "\n"
          ],
          "name": "stdout"
        }
      ]
    },
    {
      "cell_type": "markdown",
      "metadata": {
        "id": "C2EkvTp04VS0"
      },
      "source": [
        "______\r\n",
        "# **Q3**\r\n",
        "Before running this section, make sure you have run all the previous sections of the Colab file."
      ]
    },
    {
      "cell_type": "markdown",
      "metadata": {
        "id": "nHukbU3U4VTM"
      },
      "source": [
        "Re-recreate an identical model to the one from **Q1** and store the expression for model, the decision variables and the objective."
      ]
    },
    {
      "cell_type": "code",
      "metadata": {
        "id": "e211ipXT4VTM"
      },
      "source": [
        "#@markdown Create a model like the one in Q1 using the function \r\n",
        "OR_Model,  block_assigned, coverage,  total_coverage = \\\r\n",
        "       create_model_like_in_Q1()"
      ],
      "execution_count": 21,
      "outputs": []
    },
    {
      "cell_type": "markdown",
      "metadata": {
        "id": "dL4Q9sMA4VTQ"
      },
      "source": [
        "Add a constraint to ensure that **if Gynecology does not get Monday 8-11am, they do get the Monday 11am-2pm slot.**\r\n",
        "\r\n",
        "Let $(Dep,D,i)$ capture a binary variable for whether department $Dep$ is assigned on day $D \\in \\{M,Tu,W,Th,F\\}$ block number $i$, where block 1 is the 11am-2pm slot, block 2 is 11am-2pm slot, etc. Then, the constraint we want to add is:\r\n",
        ">  1 - `(Gy,M,1)` $\\leq$ `(Gy,M,2)`"
      ]
    },
    {
      "cell_type": "code",
      "metadata": {
        "colab": {
          "base_uri": "https://localhost:8080/"
        },
        "cellView": "form",
        "id": "kscVv7CW4VTQ",
        "outputId": "21da96bd-6d72-4a27-bc2b-3c9f95902f69"
      },
      "source": [
        "#@markdown Add suitable constraint\r\n",
        "OR_Model.addConstr( 1 - block_assigned[\"Mon\",\"8am-11am\",\"Gynecology\"] <=\\\r\n",
        "                   block_assigned[\"Mon\",\"11am-2pm\",\"Gynecology\"] )\r\n",
        "\r\n",
        "#@markdown Select whether to run the [Gurobi](https://www.gurobi.com/) optimization algorithms silently (no output details)\r\n",
        "run_silently = True #@param {type:\"boolean\"}\r\n",
        "\r\n",
        "if run_silently:\r\n",
        "    OR_Model.setParam('OutputFlag',0)\r\n",
        "else:\r\n",
        "    OR_Model.setParam('OutputFlag',1)\r\n",
        "\r\n",
        "OR_Model.optimize()\r\n",
        "print('\\nSolved the optimization problem...')"
      ],
      "execution_count": 22,
      "outputs": [
        {
          "output_type": "stream",
          "text": [
            "\n",
            "Solved the optimization problem...\n"
          ],
          "name": "stdout"
        }
      ]
    },
    {
      "cell_type": "markdown",
      "metadata": {
        "id": "PWKO0l-S4VTR"
      },
      "source": [
        "Print the optimal solution."
      ]
    },
    {
      "cell_type": "code",
      "metadata": {
        "colab": {
          "base_uri": "https://localhost:8080/",
          "height": 904
        },
        "id": "Z-6_vy-Z4VTR",
        "outputId": "96be0015-0987-4a1a-c5a4-9a385083bf57"
      },
      "source": [
        "#@markdown Use the function to print the results\r\n",
        "print_schedule_and_coverage(OR_Model, block_assigned, coverage)"
      ],
      "execution_count": 23,
      "outputs": [
        {
          "output_type": "display_data",
          "data": {
            "text/html": [
              "<div>\n",
              "<style scoped>\n",
              "    .dataframe tbody tr th:only-of-type {\n",
              "        vertical-align: middle;\n",
              "    }\n",
              "\n",
              "    .dataframe tbody tr th {\n",
              "        vertical-align: top;\n",
              "    }\n",
              "\n",
              "    .dataframe thead th {\n",
              "        text-align: right;\n",
              "    }\n",
              "</style>\n",
              "<table border=\"1\" class=\"dataframe\">\n",
              "  <thead>\n",
              "    <tr style=\"text-align: right;\">\n",
              "      <th></th>\n",
              "      <th></th>\n",
              "      <th>Opthalmology</th>\n",
              "      <th>Gynecology</th>\n",
              "      <th>Oral_Surgery</th>\n",
              "      <th>Otolaryngology</th>\n",
              "      <th>General_Surgery</th>\n",
              "    </tr>\n",
              "    <tr>\n",
              "      <th>Day</th>\n",
              "      <th>Block</th>\n",
              "      <th></th>\n",
              "      <th></th>\n",
              "      <th></th>\n",
              "      <th></th>\n",
              "      <th></th>\n",
              "    </tr>\n",
              "  </thead>\n",
              "  <tbody>\n",
              "    <tr>\n",
              "      <th rowspan=\"4\" valign=\"top\">Mon</th>\n",
              "      <th>8am-11am</th>\n",
              "      <td>0</td>\n",
              "      <td>0</td>\n",
              "      <td>0</td>\n",
              "      <td>1</td>\n",
              "      <td>0</td>\n",
              "    </tr>\n",
              "    <tr>\n",
              "      <th>11am-2pm</th>\n",
              "      <td>0</td>\n",
              "      <td>1</td>\n",
              "      <td>0</td>\n",
              "      <td>0</td>\n",
              "      <td>0</td>\n",
              "    </tr>\n",
              "    <tr>\n",
              "      <th>2pm-5pm</th>\n",
              "      <td>0</td>\n",
              "      <td>0</td>\n",
              "      <td>0</td>\n",
              "      <td>1</td>\n",
              "      <td>0</td>\n",
              "    </tr>\n",
              "    <tr>\n",
              "      <th>5pm-8pm</th>\n",
              "      <td>0</td>\n",
              "      <td>0</td>\n",
              "      <td>0</td>\n",
              "      <td>1</td>\n",
              "      <td>0</td>\n",
              "    </tr>\n",
              "    <tr>\n",
              "      <th rowspan=\"4\" valign=\"top\">Tue</th>\n",
              "      <th>8am-11am</th>\n",
              "      <td>0</td>\n",
              "      <td>0</td>\n",
              "      <td>1</td>\n",
              "      <td>0</td>\n",
              "      <td>0</td>\n",
              "    </tr>\n",
              "    <tr>\n",
              "      <th>11am-2pm</th>\n",
              "      <td>0</td>\n",
              "      <td>0</td>\n",
              "      <td>1</td>\n",
              "      <td>0</td>\n",
              "      <td>0</td>\n",
              "    </tr>\n",
              "    <tr>\n",
              "      <th>2pm-5pm</th>\n",
              "      <td>0</td>\n",
              "      <td>0</td>\n",
              "      <td>0</td>\n",
              "      <td>1</td>\n",
              "      <td>0</td>\n",
              "    </tr>\n",
              "    <tr>\n",
              "      <th>5pm-8pm</th>\n",
              "      <td>1</td>\n",
              "      <td>0</td>\n",
              "      <td>0</td>\n",
              "      <td>0</td>\n",
              "      <td>0</td>\n",
              "    </tr>\n",
              "    <tr>\n",
              "      <th rowspan=\"4\" valign=\"top\">Wed</th>\n",
              "      <th>8am-11am</th>\n",
              "      <td>1</td>\n",
              "      <td>0</td>\n",
              "      <td>0</td>\n",
              "      <td>0</td>\n",
              "      <td>0</td>\n",
              "    </tr>\n",
              "    <tr>\n",
              "      <th>11am-2pm</th>\n",
              "      <td>1</td>\n",
              "      <td>0</td>\n",
              "      <td>0</td>\n",
              "      <td>0</td>\n",
              "      <td>0</td>\n",
              "    </tr>\n",
              "    <tr>\n",
              "      <th>2pm-5pm</th>\n",
              "      <td>0</td>\n",
              "      <td>0</td>\n",
              "      <td>0</td>\n",
              "      <td>1</td>\n",
              "      <td>0</td>\n",
              "    </tr>\n",
              "    <tr>\n",
              "      <th>5pm-8pm</th>\n",
              "      <td>0</td>\n",
              "      <td>1</td>\n",
              "      <td>0</td>\n",
              "      <td>0</td>\n",
              "      <td>0</td>\n",
              "    </tr>\n",
              "    <tr>\n",
              "      <th rowspan=\"4\" valign=\"top\">Thu</th>\n",
              "      <th>8am-11am</th>\n",
              "      <td>0</td>\n",
              "      <td>0</td>\n",
              "      <td>1</td>\n",
              "      <td>0</td>\n",
              "      <td>0</td>\n",
              "    </tr>\n",
              "    <tr>\n",
              "      <th>11am-2pm</th>\n",
              "      <td>0</td>\n",
              "      <td>0</td>\n",
              "      <td>1</td>\n",
              "      <td>0</td>\n",
              "      <td>0</td>\n",
              "    </tr>\n",
              "    <tr>\n",
              "      <th>2pm-5pm</th>\n",
              "      <td>0</td>\n",
              "      <td>0</td>\n",
              "      <td>0</td>\n",
              "      <td>1</td>\n",
              "      <td>0</td>\n",
              "    </tr>\n",
              "    <tr>\n",
              "      <th>5pm-8pm</th>\n",
              "      <td>0</td>\n",
              "      <td>0</td>\n",
              "      <td>0</td>\n",
              "      <td>1</td>\n",
              "      <td>0</td>\n",
              "    </tr>\n",
              "    <tr>\n",
              "      <th rowspan=\"4\" valign=\"top\">Fri</th>\n",
              "      <th>8am-11am</th>\n",
              "      <td>1</td>\n",
              "      <td>0</td>\n",
              "      <td>0</td>\n",
              "      <td>0</td>\n",
              "      <td>0</td>\n",
              "    </tr>\n",
              "    <tr>\n",
              "      <th>11am-2pm</th>\n",
              "      <td>0</td>\n",
              "      <td>0</td>\n",
              "      <td>0</td>\n",
              "      <td>1</td>\n",
              "      <td>0</td>\n",
              "    </tr>\n",
              "    <tr>\n",
              "      <th>2pm-5pm</th>\n",
              "      <td>1</td>\n",
              "      <td>0</td>\n",
              "      <td>0</td>\n",
              "      <td>0</td>\n",
              "      <td>0</td>\n",
              "    </tr>\n",
              "    <tr>\n",
              "      <th>5pm-8pm</th>\n",
              "      <td>0</td>\n",
              "      <td>0</td>\n",
              "      <td>0</td>\n",
              "      <td>1</td>\n",
              "      <td>0</td>\n",
              "    </tr>\n",
              "  </tbody>\n",
              "</table>\n",
              "</div>"
            ],
            "text/plain": [
              "              Opthalmology  Gynecology  ...  Otolaryngology  General_Surgery\n",
              "Day Block                               ...                                 \n",
              "Mon 8am-11am             0           0  ...               1                0\n",
              "    11am-2pm             0           1  ...               0                0\n",
              "    2pm-5pm              0           0  ...               1                0\n",
              "    5pm-8pm              0           0  ...               1                0\n",
              "Tue 8am-11am             0           0  ...               0                0\n",
              "    11am-2pm             0           0  ...               0                0\n",
              "    2pm-5pm              0           0  ...               1                0\n",
              "    5pm-8pm              1           0  ...               0                0\n",
              "Wed 8am-11am             1           0  ...               0                0\n",
              "    11am-2pm             1           0  ...               0                0\n",
              "    2pm-5pm              0           0  ...               1                0\n",
              "    5pm-8pm              0           1  ...               0                0\n",
              "Thu 8am-11am             0           0  ...               0                0\n",
              "    11am-2pm             0           0  ...               0                0\n",
              "    2pm-5pm              0           0  ...               1                0\n",
              "    5pm-8pm              0           0  ...               1                0\n",
              "Fri 8am-11am             1           0  ...               0                0\n",
              "    11am-2pm             0           0  ...               1                0\n",
              "    2pm-5pm              1           0  ...               0                0\n",
              "    5pm-8pm              0           0  ...               1                0\n",
              "\n",
              "[20 rows x 5 columns]"
            ]
          },
          "metadata": {
            "tags": []
          }
        },
        {
          "output_type": "stream",
          "text": [
            "\n",
            "Coverage by department:\n",
            "====================================================================================================\n",
            "Department      : Claimed coverage : Effective coverage\n",
            "Opthalmology    : 75.00          % : 75.00          %\n",
            "Gynecology      : 15.38          % : 15.38          %\n",
            "Oral_Surgery    : 85.71          % : 85.71          %\n",
            "Otolaryngology  : 158.82         % : 100.00         %\n",
            "General_Surgery : 0.00           % : 0.00           %\n",
            "\n",
            "Total coverage : 334.92%\n",
            "\n"
          ],
          "name": "stdout"
        }
      ]
    },
    {
      "cell_type": "markdown",
      "metadata": {
        "id": "WOR6_Y52BQX9"
      },
      "source": [
        "______\r\n",
        "# **Q4**\r\n",
        "Before running this section, make sure you have run all the previous sections of the Colab file."
      ]
    },
    {
      "cell_type": "markdown",
      "metadata": {
        "id": "CQpC_qyYBQYW"
      },
      "source": [
        "Here, the manager wants to ensure that **if any morning slot (i.e., 8am-11am) is assigned to Ophthalmology during the week, then at least one morning slot is assigned to Gynecology**. Let $(Dep,D,i)$ capture a binary variable that denotes whether department $Dep$ is assigned on day $D \\in \\{M,Tu,W,Th,F\\}$ block number $i$, where block 1 is the 11am-2pm slot, block 2 is 11am-2pm slot, etc. \r\n",
        "\r\n",
        "#### **OPTION 1.** We can add all the constraints of the form:\r\n",
        "> $(Op,M,1) \\leq \\sum_{D \\in \\{M,Tu,W,Th,F\\}} (Gy,D,1)$<br>\r\n",
        "> $(Op,Tu,1) \\leq \\sum_{D \\in \\{M,Tu,W,Th,F\\}} (Gy,D,1)$<br>\r\n",
        "> ...<br>\r\n",
        "> $(Op,F,1) \\leq \\sum_{D \\in \\{M,Tu,W,Th,F\\}} (Gy,D,1)$."
      ]
    },
    {
      "cell_type": "markdown",
      "metadata": {
        "id": "_DHNqgBLBQYV"
      },
      "source": [
        "Re-recreate an identical model to the one from **Q1** and store the expression for model, the decision variables and the objective."
      ]
    },
    {
      "cell_type": "code",
      "metadata": {
        "id": "K5MVwmBJBQYV"
      },
      "source": [
        "#@markdown Create a model like the one in Q1 using the function \r\n",
        "OR_Model,  block_assigned, coverage,  total_coverage = \\\r\n",
        "       create_model_like_in_Q1()"
      ],
      "execution_count": 35,
      "outputs": []
    },
    {
      "cell_type": "code",
      "metadata": {
        "colab": {
          "base_uri": "https://localhost:8080/"
        },
        "cellView": "form",
        "id": "yOTlmU8wBQYX",
        "outputId": "d545dd68-2ae8-467a-a0c0-e2965f5830cf"
      },
      "source": [
        "#@markdown **OPTION 1**\r\n",
        "for day in days:\r\n",
        "    OR_Model.addConstr( block_assigned[day,\"8am-11am\",\"Opthalmology\"] <=\\\r\n",
        "                      quicksum(block_assigned[d,\"8am-11am\",\"Gynecology\"] for d in days) )\r\n",
        "\r\n",
        "#@markdown Select whether to run the [Gurobi](https://www.gurobi.com/) optimization algorithms silently (no output details)\r\n",
        "run_silently = False #@param {type:\"boolean\"}\r\n",
        "\r\n",
        "if run_silently:\r\n",
        "    OR_Model.setParam('OutputFlag',0)\r\n",
        "else:\r\n",
        "    OR_Model.setParam('OutputFlag',1)\r\n",
        "\r\n",
        "OR_Model.optimize()\r\n",
        "print('\\nSolved the optimization problem...')"
      ],
      "execution_count": 36,
      "outputs": [
        {
          "output_type": "stream",
          "text": [
            "Parameter OutputFlag unchanged\n",
            "   Value: 1  Min: 0  Max: 1  Default: 1\n",
            "Gurobi Optimizer version 9.1.1 build v9.1.1rc0 (linux64)\n",
            "Thread count: 1 physical cores, 2 logical processors, using up to 2 threads\n",
            "Optimize a model with 50 rows, 100 columns and 230 nonzeros\n",
            "Model fingerprint: 0xf000eb3c\n",
            "Variable types: 0 continuous, 100 integer (100 binary)\n",
            "Coefficient statistics:\n",
            "  Matrix range     [1e+00, 1e+00]\n",
            "  Objective range  [5e-02, 2e-01]\n",
            "  Bounds range     [1e+00, 1e+00]\n",
            "  RHS range        [1e+00, 4e+00]\n",
            "Found heuristic solution: objective 2.6346154\n",
            "Presolve removed 13 rows and 47 columns\n",
            "Presolve time: 0.00s\n",
            "Presolved: 37 rows, 53 columns, 126 nonzeros\n",
            "Variable types: 0 continuous, 53 integer (53 binary)\n",
            "\n",
            "Root relaxation: objective 3.422301e+00, 14 iterations, 0.00 seconds\n",
            "\n",
            "    Nodes    |    Current Node    |     Objective Bounds      |     Work\n",
            " Expl Unexpl |  Obj  Depth IntInf | Incumbent    BestBd   Gap | It/Node Time\n",
            "\n",
            "*    0     0               0       3.4223012    3.42230  0.00%     -    0s\n",
            "\n",
            "Explored 0 nodes (14 simplex iterations) in 0.04 seconds\n",
            "Thread count was 2 (of 2 available processors)\n",
            "\n",
            "Solution count 2: 3.4223 2.63462 \n",
            "\n",
            "Optimal solution found (tolerance 1.00e-04)\n",
            "Best objective 3.422301228184e+00, best bound 3.422301228184e+00, gap 0.0000%\n",
            "\n",
            "Solved the optimization problem...\n"
          ],
          "name": "stdout"
        }
      ]
    },
    {
      "cell_type": "markdown",
      "metadata": {
        "id": "jLA-nnPXBQYY"
      },
      "source": [
        "Print the optimal solution."
      ]
    },
    {
      "cell_type": "code",
      "metadata": {
        "colab": {
          "base_uri": "https://localhost:8080/",
          "height": 904
        },
        "cellView": "form",
        "id": "0HHnOA2hBQYZ",
        "outputId": "c012b37d-e285-4b39-b117-e381e6457129"
      },
      "source": [
        "#@markdown Use the function to print the results\r\n",
        "print_schedule_and_coverage(OR_Model, block_assigned, coverage)"
      ],
      "execution_count": 37,
      "outputs": [
        {
          "output_type": "display_data",
          "data": {
            "text/html": [
              "<div>\n",
              "<style scoped>\n",
              "    .dataframe tbody tr th:only-of-type {\n",
              "        vertical-align: middle;\n",
              "    }\n",
              "\n",
              "    .dataframe tbody tr th {\n",
              "        vertical-align: top;\n",
              "    }\n",
              "\n",
              "    .dataframe thead th {\n",
              "        text-align: right;\n",
              "    }\n",
              "</style>\n",
              "<table border=\"1\" class=\"dataframe\">\n",
              "  <thead>\n",
              "    <tr style=\"text-align: right;\">\n",
              "      <th></th>\n",
              "      <th></th>\n",
              "      <th>Opthalmology</th>\n",
              "      <th>Gynecology</th>\n",
              "      <th>Oral_Surgery</th>\n",
              "      <th>Otolaryngology</th>\n",
              "      <th>General_Surgery</th>\n",
              "    </tr>\n",
              "    <tr>\n",
              "      <th>Day</th>\n",
              "      <th>Block</th>\n",
              "      <th></th>\n",
              "      <th></th>\n",
              "      <th></th>\n",
              "      <th></th>\n",
              "      <th></th>\n",
              "    </tr>\n",
              "  </thead>\n",
              "  <tbody>\n",
              "    <tr>\n",
              "      <th rowspan=\"4\" valign=\"top\">Mon</th>\n",
              "      <th>8am-11am</th>\n",
              "      <td>0</td>\n",
              "      <td>0</td>\n",
              "      <td>0</td>\n",
              "      <td>1</td>\n",
              "      <td>0</td>\n",
              "    </tr>\n",
              "    <tr>\n",
              "      <th>11am-2pm</th>\n",
              "      <td>1</td>\n",
              "      <td>0</td>\n",
              "      <td>0</td>\n",
              "      <td>0</td>\n",
              "      <td>0</td>\n",
              "    </tr>\n",
              "    <tr>\n",
              "      <th>2pm-5pm</th>\n",
              "      <td>0</td>\n",
              "      <td>0</td>\n",
              "      <td>0</td>\n",
              "      <td>1</td>\n",
              "      <td>0</td>\n",
              "    </tr>\n",
              "    <tr>\n",
              "      <th>5pm-8pm</th>\n",
              "      <td>0</td>\n",
              "      <td>0</td>\n",
              "      <td>0</td>\n",
              "      <td>1</td>\n",
              "      <td>0</td>\n",
              "    </tr>\n",
              "    <tr>\n",
              "      <th rowspan=\"4\" valign=\"top\">Tue</th>\n",
              "      <th>8am-11am</th>\n",
              "      <td>0</td>\n",
              "      <td>0</td>\n",
              "      <td>0</td>\n",
              "      <td>1</td>\n",
              "      <td>0</td>\n",
              "    </tr>\n",
              "    <tr>\n",
              "      <th>11am-2pm</th>\n",
              "      <td>1</td>\n",
              "      <td>0</td>\n",
              "      <td>0</td>\n",
              "      <td>0</td>\n",
              "      <td>0</td>\n",
              "    </tr>\n",
              "    <tr>\n",
              "      <th>2pm-5pm</th>\n",
              "      <td>0</td>\n",
              "      <td>0</td>\n",
              "      <td>1</td>\n",
              "      <td>0</td>\n",
              "      <td>0</td>\n",
              "    </tr>\n",
              "    <tr>\n",
              "      <th>5pm-8pm</th>\n",
              "      <td>0</td>\n",
              "      <td>0</td>\n",
              "      <td>1</td>\n",
              "      <td>0</td>\n",
              "      <td>0</td>\n",
              "    </tr>\n",
              "    <tr>\n",
              "      <th rowspan=\"4\" valign=\"top\">Wed</th>\n",
              "      <th>8am-11am</th>\n",
              "      <td>0</td>\n",
              "      <td>0</td>\n",
              "      <td>0</td>\n",
              "      <td>1</td>\n",
              "      <td>0</td>\n",
              "    </tr>\n",
              "    <tr>\n",
              "      <th>11am-2pm</th>\n",
              "      <td>1</td>\n",
              "      <td>0</td>\n",
              "      <td>0</td>\n",
              "      <td>0</td>\n",
              "      <td>0</td>\n",
              "    </tr>\n",
              "    <tr>\n",
              "      <th>2pm-5pm</th>\n",
              "      <td>0</td>\n",
              "      <td>1</td>\n",
              "      <td>0</td>\n",
              "      <td>0</td>\n",
              "      <td>0</td>\n",
              "    </tr>\n",
              "    <tr>\n",
              "      <th>5pm-8pm</th>\n",
              "      <td>1</td>\n",
              "      <td>0</td>\n",
              "      <td>0</td>\n",
              "      <td>0</td>\n",
              "      <td>0</td>\n",
              "    </tr>\n",
              "    <tr>\n",
              "      <th rowspan=\"4\" valign=\"top\">Thu</th>\n",
              "      <th>8am-11am</th>\n",
              "      <td>0</td>\n",
              "      <td>0</td>\n",
              "      <td>0</td>\n",
              "      <td>1</td>\n",
              "      <td>0</td>\n",
              "    </tr>\n",
              "    <tr>\n",
              "      <th>11am-2pm</th>\n",
              "      <td>0</td>\n",
              "      <td>0</td>\n",
              "      <td>0</td>\n",
              "      <td>1</td>\n",
              "      <td>0</td>\n",
              "    </tr>\n",
              "    <tr>\n",
              "      <th>2pm-5pm</th>\n",
              "      <td>0</td>\n",
              "      <td>0</td>\n",
              "      <td>1</td>\n",
              "      <td>0</td>\n",
              "      <td>0</td>\n",
              "    </tr>\n",
              "    <tr>\n",
              "      <th>5pm-8pm</th>\n",
              "      <td>0</td>\n",
              "      <td>0</td>\n",
              "      <td>1</td>\n",
              "      <td>0</td>\n",
              "      <td>0</td>\n",
              "    </tr>\n",
              "    <tr>\n",
              "      <th rowspan=\"4\" valign=\"top\">Fri</th>\n",
              "      <th>8am-11am</th>\n",
              "      <td>0</td>\n",
              "      <td>0</td>\n",
              "      <td>0</td>\n",
              "      <td>1</td>\n",
              "      <td>0</td>\n",
              "    </tr>\n",
              "    <tr>\n",
              "      <th>11am-2pm</th>\n",
              "      <td>1</td>\n",
              "      <td>0</td>\n",
              "      <td>0</td>\n",
              "      <td>0</td>\n",
              "      <td>0</td>\n",
              "    </tr>\n",
              "    <tr>\n",
              "      <th>2pm-5pm</th>\n",
              "      <td>1</td>\n",
              "      <td>0</td>\n",
              "      <td>0</td>\n",
              "      <td>0</td>\n",
              "      <td>0</td>\n",
              "    </tr>\n",
              "    <tr>\n",
              "      <th>5pm-8pm</th>\n",
              "      <td>0</td>\n",
              "      <td>0</td>\n",
              "      <td>0</td>\n",
              "      <td>1</td>\n",
              "      <td>0</td>\n",
              "    </tr>\n",
              "  </tbody>\n",
              "</table>\n",
              "</div>"
            ],
            "text/plain": [
              "              Opthalmology  Gynecology  ...  Otolaryngology  General_Surgery\n",
              "Day Block                               ...                                 \n",
              "Mon 8am-11am             0           0  ...               1                0\n",
              "    11am-2pm             1           0  ...               0                0\n",
              "    2pm-5pm              0           0  ...               1                0\n",
              "    5pm-8pm              0           0  ...               1                0\n",
              "Tue 8am-11am             0           0  ...               1                0\n",
              "    11am-2pm             1           0  ...               0                0\n",
              "    2pm-5pm              0           0  ...               0                0\n",
              "    5pm-8pm              0           0  ...               0                0\n",
              "Wed 8am-11am             0           0  ...               1                0\n",
              "    11am-2pm             1           0  ...               0                0\n",
              "    2pm-5pm              0           1  ...               0                0\n",
              "    5pm-8pm              1           0  ...               0                0\n",
              "Thu 8am-11am             0           0  ...               1                0\n",
              "    11am-2pm             0           0  ...               1                0\n",
              "    2pm-5pm              0           0  ...               0                0\n",
              "    5pm-8pm              0           0  ...               0                0\n",
              "Fri 8am-11am             0           0  ...               1                0\n",
              "    11am-2pm             1           0  ...               0                0\n",
              "    2pm-5pm              1           0  ...               0                0\n",
              "    5pm-8pm              0           0  ...               1                0\n",
              "\n",
              "[20 rows x 5 columns]"
            ]
          },
          "metadata": {
            "tags": []
          }
        },
        {
          "output_type": "stream",
          "text": [
            "\n",
            "Coverage by department:\n",
            "====================================================================================================\n",
            "Department      : Claimed coverage : Effective coverage\n",
            "Opthalmology    : 90.00          % : 90.00          %\n",
            "Gynecology      : 7.69           % : 7.69           %\n",
            "Oral_Surgery    : 85.71          % : 85.71          %\n",
            "Otolaryngology  : 158.82         % : 100.00         %\n",
            "General_Surgery : 0.00           % : 0.00           %\n",
            "\n",
            "Total coverage : 342.23%\n",
            "\n"
          ],
          "name": "stdout"
        }
      ]
    },
    {
      "cell_type": "markdown",
      "metadata": {
        "id": "h1am6Tf1J1O0"
      },
      "source": [
        "#### **OPTION 2.** We can add a single constraint of the form:\r\n",
        "> $\\frac{\\sum_{D \\in \\{M,Tu,W,Th,F\\}} (Op,D,1)}{5} \\leq \\sum_{D \\in \\{M,Tu,W,Th,F\\}} (Gy,D,1)$."
      ]
    },
    {
      "cell_type": "markdown",
      "metadata": {
        "id": "49nUfE_RJ1O1"
      },
      "source": [
        "Re-recreate an identical model to the one from **Q1** and store the expression for model, the decision variables and the objective."
      ]
    },
    {
      "cell_type": "code",
      "metadata": {
        "id": "7K_74x4EJ1O1"
      },
      "source": [
        "#@markdown Create a model like the one in Q1 using the function \r\n",
        "OR_Model,  block_assigned, coverage,  total_coverage = \\\r\n",
        "       create_model_like_in_Q1()"
      ],
      "execution_count": 38,
      "outputs": []
    },
    {
      "cell_type": "code",
      "metadata": {
        "colab": {
          "base_uri": "https://localhost:8080/"
        },
        "id": "ZDp30QFEJ1O2",
        "cellView": "form",
        "outputId": "fef34e36-bce0-4158-9381-2c96d00250b9"
      },
      "source": [
        "#@markdown **OPTION 2**\r\n",
        "OR_Model.addConstr( quicksum(block_assigned[d,\"8am-11am\",\"Opthalmology\"] \\\r\n",
        "                             for d in days)/len(days) <= \\\r\n",
        "                   quicksum(block_assigned[d,\"8am-11am\",\"Gynecology\"] for d in days) )\r\n",
        "\r\n",
        "#@markdown Select whether to run the [Gurobi](https://www.gurobi.com/) optimization algorithms silently (no output details)\r\n",
        "run_silently = False #@param {type:\"boolean\"}\r\n",
        "\r\n",
        "if run_silently:\r\n",
        "    OR_Model.setParam('OutputFlag',0)\r\n",
        "else:\r\n",
        "    OR_Model.setParam('OutputFlag',1)\r\n",
        "\r\n",
        "OR_Model.optimize()\r\n",
        "print('\\nSolved the optimization problem...')"
      ],
      "execution_count": 39,
      "outputs": [
        {
          "output_type": "stream",
          "text": [
            "Parameter OutputFlag unchanged\n",
            "   Value: 1  Min: 0  Max: 1  Default: 1\n",
            "Gurobi Optimizer version 9.1.1 build v9.1.1rc0 (linux64)\n",
            "Thread count: 1 physical cores, 2 logical processors, using up to 2 threads\n",
            "Optimize a model with 46 rows, 100 columns and 210 nonzeros\n",
            "Model fingerprint: 0x7bdade53\n",
            "Variable types: 0 continuous, 100 integer (100 binary)\n",
            "Coefficient statistics:\n",
            "  Matrix range     [2e-01, 1e+00]\n",
            "  Objective range  [5e-02, 2e-01]\n",
            "  Bounds range     [1e+00, 1e+00]\n",
            "  RHS range        [1e+00, 4e+00]\n",
            "Found heuristic solution: objective 2.6346154\n",
            "Presolve removed 13 rows and 47 columns\n",
            "Presolve time: 0.00s\n",
            "Presolved: 33 rows, 53 columns, 111 nonzeros\n",
            "Variable types: 0 continuous, 53 integer (53 binary)\n",
            "\n",
            "Root relaxation: objective 3.422301e+00, 14 iterations, 0.00 seconds\n",
            "\n",
            "    Nodes    |    Current Node    |     Objective Bounds      |     Work\n",
            " Expl Unexpl |  Obj  Depth IntInf | Incumbent    BestBd   Gap | It/Node Time\n",
            "\n",
            "     0     0    3.42230    0    5    2.63462    3.42230  29.9%     -    0s\n",
            "H    0     0                       3.3492243    3.42230  2.18%     -    0s\n",
            "H    0     0                       3.4223012    3.42230  0.00%     -    0s\n",
            "     0     0    3.42230    0    5    3.42230    3.42230  0.00%     -    0s\n",
            "\n",
            "Explored 1 nodes (14 simplex iterations) in 0.02 seconds\n",
            "Thread count was 2 (of 2 available processors)\n",
            "\n",
            "Solution count 3: 3.4223 3.34922 2.63462 \n",
            "\n",
            "Optimal solution found (tolerance 1.00e-04)\n",
            "Best objective 3.422301228184e+00, best bound 3.422301228184e+00, gap 0.0000%\n",
            "\n",
            "Solved the optimization problem...\n"
          ],
          "name": "stdout"
        }
      ]
    },
    {
      "cell_type": "markdown",
      "metadata": {
        "id": "fk3ZZXhXJ1O3"
      },
      "source": [
        "Print the optimal solution."
      ]
    },
    {
      "cell_type": "code",
      "metadata": {
        "colab": {
          "base_uri": "https://localhost:8080/",
          "height": 904
        },
        "cellView": "form",
        "id": "xEaAiTrJJ1O4",
        "outputId": "3e2bddcf-3ae8-4500-cfc1-61126f3ede88"
      },
      "source": [
        "#@markdown Use the function to print the results\r\n",
        "print_schedule_and_coverage(OR_Model, block_assigned, coverage)"
      ],
      "execution_count": 40,
      "outputs": [
        {
          "output_type": "display_data",
          "data": {
            "text/html": [
              "<div>\n",
              "<style scoped>\n",
              "    .dataframe tbody tr th:only-of-type {\n",
              "        vertical-align: middle;\n",
              "    }\n",
              "\n",
              "    .dataframe tbody tr th {\n",
              "        vertical-align: top;\n",
              "    }\n",
              "\n",
              "    .dataframe thead th {\n",
              "        text-align: right;\n",
              "    }\n",
              "</style>\n",
              "<table border=\"1\" class=\"dataframe\">\n",
              "  <thead>\n",
              "    <tr style=\"text-align: right;\">\n",
              "      <th></th>\n",
              "      <th></th>\n",
              "      <th>Opthalmology</th>\n",
              "      <th>Gynecology</th>\n",
              "      <th>Oral_Surgery</th>\n",
              "      <th>Otolaryngology</th>\n",
              "      <th>General_Surgery</th>\n",
              "    </tr>\n",
              "    <tr>\n",
              "      <th>Day</th>\n",
              "      <th>Block</th>\n",
              "      <th></th>\n",
              "      <th></th>\n",
              "      <th></th>\n",
              "      <th></th>\n",
              "      <th></th>\n",
              "    </tr>\n",
              "  </thead>\n",
              "  <tbody>\n",
              "    <tr>\n",
              "      <th rowspan=\"4\" valign=\"top\">Mon</th>\n",
              "      <th>8am-11am</th>\n",
              "      <td>0</td>\n",
              "      <td>0</td>\n",
              "      <td>0</td>\n",
              "      <td>1</td>\n",
              "      <td>0</td>\n",
              "    </tr>\n",
              "    <tr>\n",
              "      <th>11am-2pm</th>\n",
              "      <td>1</td>\n",
              "      <td>0</td>\n",
              "      <td>0</td>\n",
              "      <td>0</td>\n",
              "      <td>0</td>\n",
              "    </tr>\n",
              "    <tr>\n",
              "      <th>2pm-5pm</th>\n",
              "      <td>0</td>\n",
              "      <td>0</td>\n",
              "      <td>0</td>\n",
              "      <td>1</td>\n",
              "      <td>0</td>\n",
              "    </tr>\n",
              "    <tr>\n",
              "      <th>5pm-8pm</th>\n",
              "      <td>0</td>\n",
              "      <td>0</td>\n",
              "      <td>0</td>\n",
              "      <td>1</td>\n",
              "      <td>0</td>\n",
              "    </tr>\n",
              "    <tr>\n",
              "      <th rowspan=\"4\" valign=\"top\">Tue</th>\n",
              "      <th>8am-11am</th>\n",
              "      <td>0</td>\n",
              "      <td>0</td>\n",
              "      <td>0</td>\n",
              "      <td>1</td>\n",
              "      <td>0</td>\n",
              "    </tr>\n",
              "    <tr>\n",
              "      <th>11am-2pm</th>\n",
              "      <td>1</td>\n",
              "      <td>0</td>\n",
              "      <td>0</td>\n",
              "      <td>0</td>\n",
              "      <td>0</td>\n",
              "    </tr>\n",
              "    <tr>\n",
              "      <th>2pm-5pm</th>\n",
              "      <td>0</td>\n",
              "      <td>0</td>\n",
              "      <td>1</td>\n",
              "      <td>0</td>\n",
              "      <td>0</td>\n",
              "    </tr>\n",
              "    <tr>\n",
              "      <th>5pm-8pm</th>\n",
              "      <td>0</td>\n",
              "      <td>0</td>\n",
              "      <td>1</td>\n",
              "      <td>0</td>\n",
              "      <td>0</td>\n",
              "    </tr>\n",
              "    <tr>\n",
              "      <th rowspan=\"4\" valign=\"top\">Wed</th>\n",
              "      <th>8am-11am</th>\n",
              "      <td>0</td>\n",
              "      <td>0</td>\n",
              "      <td>0</td>\n",
              "      <td>1</td>\n",
              "      <td>0</td>\n",
              "    </tr>\n",
              "    <tr>\n",
              "      <th>11am-2pm</th>\n",
              "      <td>1</td>\n",
              "      <td>0</td>\n",
              "      <td>0</td>\n",
              "      <td>0</td>\n",
              "      <td>0</td>\n",
              "    </tr>\n",
              "    <tr>\n",
              "      <th>2pm-5pm</th>\n",
              "      <td>0</td>\n",
              "      <td>1</td>\n",
              "      <td>0</td>\n",
              "      <td>0</td>\n",
              "      <td>0</td>\n",
              "    </tr>\n",
              "    <tr>\n",
              "      <th>5pm-8pm</th>\n",
              "      <td>1</td>\n",
              "      <td>0</td>\n",
              "      <td>0</td>\n",
              "      <td>0</td>\n",
              "      <td>0</td>\n",
              "    </tr>\n",
              "    <tr>\n",
              "      <th rowspan=\"4\" valign=\"top\">Thu</th>\n",
              "      <th>8am-11am</th>\n",
              "      <td>0</td>\n",
              "      <td>0</td>\n",
              "      <td>0</td>\n",
              "      <td>1</td>\n",
              "      <td>0</td>\n",
              "    </tr>\n",
              "    <tr>\n",
              "      <th>11am-2pm</th>\n",
              "      <td>0</td>\n",
              "      <td>0</td>\n",
              "      <td>0</td>\n",
              "      <td>1</td>\n",
              "      <td>0</td>\n",
              "    </tr>\n",
              "    <tr>\n",
              "      <th>2pm-5pm</th>\n",
              "      <td>0</td>\n",
              "      <td>0</td>\n",
              "      <td>1</td>\n",
              "      <td>0</td>\n",
              "      <td>0</td>\n",
              "    </tr>\n",
              "    <tr>\n",
              "      <th>5pm-8pm</th>\n",
              "      <td>0</td>\n",
              "      <td>0</td>\n",
              "      <td>1</td>\n",
              "      <td>0</td>\n",
              "      <td>0</td>\n",
              "    </tr>\n",
              "    <tr>\n",
              "      <th rowspan=\"4\" valign=\"top\">Fri</th>\n",
              "      <th>8am-11am</th>\n",
              "      <td>0</td>\n",
              "      <td>0</td>\n",
              "      <td>0</td>\n",
              "      <td>1</td>\n",
              "      <td>0</td>\n",
              "    </tr>\n",
              "    <tr>\n",
              "      <th>11am-2pm</th>\n",
              "      <td>0</td>\n",
              "      <td>0</td>\n",
              "      <td>0</td>\n",
              "      <td>1</td>\n",
              "      <td>0</td>\n",
              "    </tr>\n",
              "    <tr>\n",
              "      <th>2pm-5pm</th>\n",
              "      <td>1</td>\n",
              "      <td>0</td>\n",
              "      <td>0</td>\n",
              "      <td>0</td>\n",
              "      <td>0</td>\n",
              "    </tr>\n",
              "    <tr>\n",
              "      <th>5pm-8pm</th>\n",
              "      <td>1</td>\n",
              "      <td>0</td>\n",
              "      <td>0</td>\n",
              "      <td>0</td>\n",
              "      <td>0</td>\n",
              "    </tr>\n",
              "  </tbody>\n",
              "</table>\n",
              "</div>"
            ],
            "text/plain": [
              "              Opthalmology  Gynecology  ...  Otolaryngology  General_Surgery\n",
              "Day Block                               ...                                 \n",
              "Mon 8am-11am             0           0  ...               1                0\n",
              "    11am-2pm             1           0  ...               0                0\n",
              "    2pm-5pm              0           0  ...               1                0\n",
              "    5pm-8pm              0           0  ...               1                0\n",
              "Tue 8am-11am             0           0  ...               1                0\n",
              "    11am-2pm             1           0  ...               0                0\n",
              "    2pm-5pm              0           0  ...               0                0\n",
              "    5pm-8pm              0           0  ...               0                0\n",
              "Wed 8am-11am             0           0  ...               1                0\n",
              "    11am-2pm             1           0  ...               0                0\n",
              "    2pm-5pm              0           1  ...               0                0\n",
              "    5pm-8pm              1           0  ...               0                0\n",
              "Thu 8am-11am             0           0  ...               1                0\n",
              "    11am-2pm             0           0  ...               1                0\n",
              "    2pm-5pm              0           0  ...               0                0\n",
              "    5pm-8pm              0           0  ...               0                0\n",
              "Fri 8am-11am             0           0  ...               1                0\n",
              "    11am-2pm             0           0  ...               1                0\n",
              "    2pm-5pm              1           0  ...               0                0\n",
              "    5pm-8pm              1           0  ...               0                0\n",
              "\n",
              "[20 rows x 5 columns]"
            ]
          },
          "metadata": {
            "tags": []
          }
        },
        {
          "output_type": "stream",
          "text": [
            "\n",
            "Coverage by department:\n",
            "====================================================================================================\n",
            "Department      : Claimed coverage : Effective coverage\n",
            "Opthalmology    : 90.00          % : 90.00          %\n",
            "Gynecology      : 7.69           % : 7.69           %\n",
            "Oral_Surgery    : 85.71          % : 85.71          %\n",
            "Otolaryngology  : 158.82         % : 100.00         %\n",
            "General_Surgery : 0.00           % : 0.00           %\n",
            "\n",
            "Total coverage : 342.23%\n",
            "\n"
          ],
          "name": "stdout"
        }
      ]
    },
    {
      "cell_type": "markdown",
      "metadata": {
        "id": "WRe0Thb9KwkN"
      },
      "source": [
        "______\r\n",
        "# **Q5**\r\n",
        "Before running this section, make sure you have run all the previous sections of the Colab file."
      ]
    },
    {
      "cell_type": "markdown",
      "metadata": {
        "id": "FCmQJ4-lKwkO"
      },
      "source": [
        "Here, the manager wants to ensure that **General Surgery at least 2 consecutive blocks on Monday**. \r\n",
        "\r\n",
        "Let $(Dep,D,i)$ capture the same binary variables as in **Q3,4**. We add three new variables denoted by $Z_{12}, Z_{23}, Z_{34}$, with the meaning that $Z_{ij}=1$ if General Surgery is assigned both blocks $i$ and $j$ on Monday. And then we add the constraints:\r\n",
        "> $Z_{12} + Z_{23} + Z_{34} \\geq 1$ <br>\r\n",
        "> $Z_{ij} \\leq (\\mbox{Ge},M,i), \\, Z_{ij} \\leq (\\mbox{Ge},M,j)$, for all $(ij) \\in \\{(12),(23),(34)\\}$."
      ]
    },
    {
      "cell_type": "code",
      "metadata": {
        "colab": {
          "base_uri": "https://localhost:8080/"
        },
        "id": "s4GwKl8aM_aw",
        "outputId": "c7f9109a-ba3c-45a0-f14d-794d58c3aab5"
      },
      "source": [
        "# create a list with identifiers for the relevant pairs\r\n",
        "pairs_consecutive_blocks = [ (blocks_of_day[i],blocks_of_day[i+1]) \\\r\n",
        "                            for i in range(len(blocks_of_day)-1) ]\r\n",
        "print(pairs_consecutive_blocks)"
      ],
      "execution_count": 30,
      "outputs": [
        {
          "output_type": "stream",
          "text": [
            "[('8am-11am', '11am-2pm'), ('11am-2pm', '2pm-5pm'), ('2pm-5pm', '5pm-8pm')]\n"
          ],
          "name": "stdout"
        }
      ]
    },
    {
      "cell_type": "markdown",
      "metadata": {
        "id": "eXbZj9yhKwkO"
      },
      "source": [
        "Re-recreate an identical model to the one from **Q1** and store the expression for model, the decision variables and the objective."
      ]
    },
    {
      "cell_type": "code",
      "metadata": {
        "id": "kBRodJyEKwkP"
      },
      "source": [
        "#@markdown Create a model like the one in Q1 using the function \r\n",
        "OR_Model,  block_assigned, coverage,  total_coverage = \\\r\n",
        "       create_model_like_in_Q1()"
      ],
      "execution_count": 31,
      "outputs": []
    },
    {
      "cell_type": "code",
      "metadata": {
        "id": "LyZ6mQfCKwkP"
      },
      "source": [
        "#@markdown Add the new decision variables\r\n",
        "\r\n",
        "consecutive_block_assigned = OR_Model.addVars(pairs_consecutive_blocks)"
      ],
      "execution_count": 32,
      "outputs": []
    },
    {
      "cell_type": "code",
      "metadata": {
        "colab": {
          "base_uri": "https://localhost:8080/"
        },
        "id": "a9SZ45bNNS8w",
        "outputId": "7fdb40e9-c294-4ff8-ad3e-88578da40d57"
      },
      "source": [
        "#@markdown Add constraints ensuring they get at least two consecutive blocks\r\n",
        "OR_Model.addConstr( quicksum(consecutive_block_assigned[p] \\\r\n",
        "                             for p in pairs_consecutive_blocks) >= 1)\r\n",
        "\r\n",
        "#@markdown Add constraints to ensure that if the model claims to have assigned two consecutive blocks, it actually does it!\r\n",
        "for p in pairs_consecutive_blocks:\r\n",
        "    b1 = p[0]  # the first block in the pair p\r\n",
        "    b2 = p[1]  # the second block in the pair p\r\n",
        "    OR_Model.addConstr( consecutive_block_assigned[p] <= \\\r\n",
        "                       block_assigned[\"Mon\",b1,\"General_Surgery\"] )\r\n",
        "    OR_Model.addConstr( consecutive_block_assigned[p] <= \\\r\n",
        "                       block_assigned[\"Mon\",b2,\"General_Surgery\"] )\r\n",
        "\r\n",
        "\r\n",
        "#@markdown Select whether to run the [Gurobi](https://www.gurobi.com/) optimization algorithms silently (no output details)\r\n",
        "run_silently = False #@param {type:\"boolean\"}\r\n",
        "\r\n",
        "if run_silently:\r\n",
        "    OR_Model.setParam('OutputFlag',0)\r\n",
        "else:\r\n",
        "    OR_Model.setParam('OutputFlag',1)\r\n",
        "\r\n",
        "OR_Model.optimize()\r\n",
        "print('\\nSolved the optimization problem...')"
      ],
      "execution_count": 33,
      "outputs": [
        {
          "output_type": "stream",
          "text": [
            "Parameter OutputFlag unchanged\n",
            "   Value: 1  Min: 0  Max: 1  Default: 1\n",
            "Gurobi Optimizer version 9.1.1 build v9.1.1rc0 (linux64)\n",
            "Thread count: 1 physical cores, 2 logical processors, using up to 2 threads\n",
            "Optimize a model with 52 rows, 103 columns and 215 nonzeros\n",
            "Model fingerprint: 0xfbd52118\n",
            "Variable types: 3 continuous, 100 integer (100 binary)\n",
            "Coefficient statistics:\n",
            "  Matrix range     [1e+00, 1e+00]\n",
            "  Objective range  [5e-02, 2e-01]\n",
            "  Bounds range     [1e+00, 1e+00]\n",
            "  RHS range        [1e+00, 4e+00]\n",
            "Found heuristic solution: objective 2.5760073\n",
            "Presolve removed 43 rows and 92 columns\n",
            "Presolve time: 0.00s\n",
            "Presolved: 9 rows, 11 columns, 27 nonzeros\n",
            "Found heuristic solution: objective 3.1910687\n",
            "Variable types: 0 continuous, 11 integer (11 binary)\n",
            "\n",
            "Root relaxation: cutoff, 1 iterations, 0.00 seconds\n",
            "\n",
            "    Nodes    |    Current Node    |     Objective Bounds      |     Work\n",
            " Expl Unexpl |  Obj  Depth IntInf | Incumbent    BestBd   Gap | It/Node Time\n",
            "\n",
            "     0     0     cutoff    0         3.19107    3.19107  0.00%     -    0s\n",
            "\n",
            "Explored 0 nodes (1 simplex iterations) in 0.03 seconds\n",
            "Thread count was 2 (of 2 available processors)\n",
            "\n",
            "Solution count 2: 3.19107 2.57601 \n",
            "\n",
            "Optimal solution found (tolerance 1.00e-04)\n",
            "Best objective 3.191068735186e+00, best bound 3.191068735186e+00, gap 0.0000%\n",
            "\n",
            "Solved the optimization problem...\n"
          ],
          "name": "stdout"
        }
      ]
    },
    {
      "cell_type": "markdown",
      "metadata": {
        "id": "y7TZI2j0KwkQ"
      },
      "source": [
        "Print the optimal solution."
      ]
    },
    {
      "cell_type": "code",
      "metadata": {
        "colab": {
          "base_uri": "https://localhost:8080/",
          "height": 904
        },
        "cellView": "form",
        "id": "Y0B6HgYcKwkR",
        "outputId": "bb6028fd-2148-4652-9ee3-1507e74d1d0b"
      },
      "source": [
        "#@markdown Use the function to print the results\r\n",
        "print_schedule_and_coverage(OR_Model, block_assigned, coverage)"
      ],
      "execution_count": 34,
      "outputs": [
        {
          "output_type": "display_data",
          "data": {
            "text/html": [
              "<div>\n",
              "<style scoped>\n",
              "    .dataframe tbody tr th:only-of-type {\n",
              "        vertical-align: middle;\n",
              "    }\n",
              "\n",
              "    .dataframe tbody tr th {\n",
              "        vertical-align: top;\n",
              "    }\n",
              "\n",
              "    .dataframe thead th {\n",
              "        text-align: right;\n",
              "    }\n",
              "</style>\n",
              "<table border=\"1\" class=\"dataframe\">\n",
              "  <thead>\n",
              "    <tr style=\"text-align: right;\">\n",
              "      <th></th>\n",
              "      <th></th>\n",
              "      <th>Opthalmology</th>\n",
              "      <th>Gynecology</th>\n",
              "      <th>Oral_Surgery</th>\n",
              "      <th>Otolaryngology</th>\n",
              "      <th>General_Surgery</th>\n",
              "    </tr>\n",
              "    <tr>\n",
              "      <th>Day</th>\n",
              "      <th>Block</th>\n",
              "      <th></th>\n",
              "      <th></th>\n",
              "      <th></th>\n",
              "      <th></th>\n",
              "      <th></th>\n",
              "    </tr>\n",
              "  </thead>\n",
              "  <tbody>\n",
              "    <tr>\n",
              "      <th rowspan=\"4\" valign=\"top\">Mon</th>\n",
              "      <th>8am-11am</th>\n",
              "      <td>0</td>\n",
              "      <td>0</td>\n",
              "      <td>0</td>\n",
              "      <td>1</td>\n",
              "      <td>0</td>\n",
              "    </tr>\n",
              "    <tr>\n",
              "      <th>11am-2pm</th>\n",
              "      <td>0</td>\n",
              "      <td>0</td>\n",
              "      <td>0</td>\n",
              "      <td>1</td>\n",
              "      <td>0</td>\n",
              "    </tr>\n",
              "    <tr>\n",
              "      <th>2pm-5pm</th>\n",
              "      <td>0</td>\n",
              "      <td>0</td>\n",
              "      <td>0</td>\n",
              "      <td>0</td>\n",
              "      <td>1</td>\n",
              "    </tr>\n",
              "    <tr>\n",
              "      <th>5pm-8pm</th>\n",
              "      <td>0</td>\n",
              "      <td>0</td>\n",
              "      <td>0</td>\n",
              "      <td>0</td>\n",
              "      <td>1</td>\n",
              "    </tr>\n",
              "    <tr>\n",
              "      <th rowspan=\"4\" valign=\"top\">Tue</th>\n",
              "      <th>8am-11am</th>\n",
              "      <td>0</td>\n",
              "      <td>0</td>\n",
              "      <td>1</td>\n",
              "      <td>0</td>\n",
              "      <td>0</td>\n",
              "    </tr>\n",
              "    <tr>\n",
              "      <th>11am-2pm</th>\n",
              "      <td>0</td>\n",
              "      <td>0</td>\n",
              "      <td>1</td>\n",
              "      <td>0</td>\n",
              "      <td>0</td>\n",
              "    </tr>\n",
              "    <tr>\n",
              "      <th>2pm-5pm</th>\n",
              "      <td>0</td>\n",
              "      <td>0</td>\n",
              "      <td>0</td>\n",
              "      <td>1</td>\n",
              "      <td>0</td>\n",
              "    </tr>\n",
              "    <tr>\n",
              "      <th>5pm-8pm</th>\n",
              "      <td>1</td>\n",
              "      <td>0</td>\n",
              "      <td>0</td>\n",
              "      <td>0</td>\n",
              "      <td>0</td>\n",
              "    </tr>\n",
              "    <tr>\n",
              "      <th rowspan=\"4\" valign=\"top\">Wed</th>\n",
              "      <th>8am-11am</th>\n",
              "      <td>1</td>\n",
              "      <td>0</td>\n",
              "      <td>0</td>\n",
              "      <td>0</td>\n",
              "      <td>0</td>\n",
              "    </tr>\n",
              "    <tr>\n",
              "      <th>11am-2pm</th>\n",
              "      <td>1</td>\n",
              "      <td>0</td>\n",
              "      <td>0</td>\n",
              "      <td>0</td>\n",
              "      <td>0</td>\n",
              "    </tr>\n",
              "    <tr>\n",
              "      <th>2pm-5pm</th>\n",
              "      <td>0</td>\n",
              "      <td>0</td>\n",
              "      <td>0</td>\n",
              "      <td>1</td>\n",
              "      <td>0</td>\n",
              "    </tr>\n",
              "    <tr>\n",
              "      <th>5pm-8pm</th>\n",
              "      <td>0</td>\n",
              "      <td>1</td>\n",
              "      <td>0</td>\n",
              "      <td>0</td>\n",
              "      <td>0</td>\n",
              "    </tr>\n",
              "    <tr>\n",
              "      <th rowspan=\"4\" valign=\"top\">Thu</th>\n",
              "      <th>8am-11am</th>\n",
              "      <td>0</td>\n",
              "      <td>0</td>\n",
              "      <td>1</td>\n",
              "      <td>0</td>\n",
              "      <td>0</td>\n",
              "    </tr>\n",
              "    <tr>\n",
              "      <th>11am-2pm</th>\n",
              "      <td>0</td>\n",
              "      <td>0</td>\n",
              "      <td>1</td>\n",
              "      <td>0</td>\n",
              "      <td>0</td>\n",
              "    </tr>\n",
              "    <tr>\n",
              "      <th>2pm-5pm</th>\n",
              "      <td>0</td>\n",
              "      <td>0</td>\n",
              "      <td>0</td>\n",
              "      <td>1</td>\n",
              "      <td>0</td>\n",
              "    </tr>\n",
              "    <tr>\n",
              "      <th>5pm-8pm</th>\n",
              "      <td>0</td>\n",
              "      <td>0</td>\n",
              "      <td>0</td>\n",
              "      <td>1</td>\n",
              "      <td>0</td>\n",
              "    </tr>\n",
              "    <tr>\n",
              "      <th rowspan=\"4\" valign=\"top\">Fri</th>\n",
              "      <th>8am-11am</th>\n",
              "      <td>1</td>\n",
              "      <td>0</td>\n",
              "      <td>0</td>\n",
              "      <td>0</td>\n",
              "      <td>0</td>\n",
              "    </tr>\n",
              "    <tr>\n",
              "      <th>11am-2pm</th>\n",
              "      <td>0</td>\n",
              "      <td>0</td>\n",
              "      <td>0</td>\n",
              "      <td>1</td>\n",
              "      <td>0</td>\n",
              "    </tr>\n",
              "    <tr>\n",
              "      <th>2pm-5pm</th>\n",
              "      <td>1</td>\n",
              "      <td>0</td>\n",
              "      <td>0</td>\n",
              "      <td>0</td>\n",
              "      <td>0</td>\n",
              "    </tr>\n",
              "    <tr>\n",
              "      <th>5pm-8pm</th>\n",
              "      <td>0</td>\n",
              "      <td>0</td>\n",
              "      <td>0</td>\n",
              "      <td>1</td>\n",
              "      <td>0</td>\n",
              "    </tr>\n",
              "  </tbody>\n",
              "</table>\n",
              "</div>"
            ],
            "text/plain": [
              "              Opthalmology  Gynecology  ...  Otolaryngology  General_Surgery\n",
              "Day Block                               ...                                 \n",
              "Mon 8am-11am             0           0  ...               1                0\n",
              "    11am-2pm             0           0  ...               1                0\n",
              "    2pm-5pm              0           0  ...               0                1\n",
              "    5pm-8pm              0           0  ...               0                1\n",
              "Tue 8am-11am             0           0  ...               0                0\n",
              "    11am-2pm             0           0  ...               0                0\n",
              "    2pm-5pm              0           0  ...               1                0\n",
              "    5pm-8pm              1           0  ...               0                0\n",
              "Wed 8am-11am             1           0  ...               0                0\n",
              "    11am-2pm             1           0  ...               0                0\n",
              "    2pm-5pm              0           0  ...               1                0\n",
              "    5pm-8pm              0           1  ...               0                0\n",
              "Thu 8am-11am             0           0  ...               0                0\n",
              "    11am-2pm             0           0  ...               0                0\n",
              "    2pm-5pm              0           0  ...               1                0\n",
              "    5pm-8pm              0           0  ...               1                0\n",
              "Fri 8am-11am             1           0  ...               0                0\n",
              "    11am-2pm             0           0  ...               1                0\n",
              "    2pm-5pm              1           0  ...               0                0\n",
              "    5pm-8pm              0           0  ...               1                0\n",
              "\n",
              "[20 rows x 5 columns]"
            ]
          },
          "metadata": {
            "tags": []
          }
        },
        {
          "output_type": "stream",
          "text": [
            "\n",
            "Coverage by department:\n",
            "====================================================================================================\n",
            "Department      : Claimed coverage : Effective coverage\n",
            "Opthalmology    : 75.00          % : 75.00          %\n",
            "Gynecology      : 7.69           % : 7.69           %\n",
            "Oral_Surgery    : 85.71          % : 85.71          %\n",
            "Otolaryngology  : 141.18         % : 100.00         %\n",
            "General_Surgery : 9.52           % : 9.52           %\n",
            "\n",
            "Total coverage : 319.11%\n",
            "\n"
          ],
          "name": "stdout"
        }
      ]
    }
  ]
}