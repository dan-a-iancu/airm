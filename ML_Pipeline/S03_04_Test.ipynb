{
  "nbformat": 4,
  "nbformat_minor": 0,
  "metadata": {
    "colab": {
      "name": "S03-04_Test",
      "provenance": [],
      "collapsed_sections": [
        "NK0jRm-Uyyvs",
        "2GOd-up_VBO_",
        "krD-m80kyyv1",
        "WcptHFO06cus",
        "FOsd8P1Vyyv9",
        "Cu9Pwx-IyywE",
        "gtQqi9hOyywG",
        "J2glFCOZyywJ",
        "qvJahKKOyywR",
        "S9lXUqWGyywo",
        "E7x4UjLPyywX",
        "XBcFbDdJTEvI",
        "Jpv-h64BVh9d",
        "4zZjAry5My-a",
        "zIaf686xENyq",
        "1JHpvSQvWsLZ",
        "_GvxO9UVpc4c",
        "WD6RofwWeDBq",
        "lhndoFO4xdsF",
        "R_COgWGwyyw6",
        "PEgXpRvyyyxS",
        "IOZLuIguVBQX",
        "Hzz5WDLnOkHh",
        "DC-9H-veCyzK",
        "ZH7YFei5CyzO",
        "VYNQnzV9CyzR",
        "0LloIrYmrVGg",
        "EMTTuY3gVBRL",
        "2yHh2paD_8ZP",
        "YQdAg7sNCyzh",
        "tzoiqdE0iNjo",
        "4T1f-Erxi44U",
        "IdOzYZMDyyxW",
        "5A4qX8C2FUGE",
        "uj75pA48yyx0",
        "wzwP2k1aTpSo",
        "QySOMRaOl6Fp",
        "HBQBiqOBXdPw",
        "YxA6BIHMyyyM",
        "hNYn5sn7mlzs"
      ],
      "toc_visible": true,
      "include_colab_link": true
    },
    "kernelspec": {
      "display_name": "Python 3",
      "language": "python",
      "name": "python3"
    },
    "language_info": {
      "codemirror_mode": {
        "name": "ipython",
        "version": 3
      },
      "file_extension": ".py",
      "mimetype": "text/x-python",
      "name": "python",
      "nbconvert_exporter": "python",
      "pygments_lexer": "ipython3",
      "version": "3.7.7"
    },
    "nav_menu": {
      "height": "279px",
      "width": "309px"
    },
    "toc": {
      "nav_menu": {},
      "number_sections": true,
      "sideBar": true,
      "skip_h1_title": false,
      "toc_cell": false,
      "toc_position": {},
      "toc_section_display": "block",
      "toc_window_display": false
    }
  },
  "cells": [
    {
      "cell_type": "markdown",
      "metadata": {
        "id": "view-in-github",
        "colab_type": "text"
      },
      "source": [
        "<a href=\"https://colab.research.google.com/github/dan-a-iancu/airm/blob/master/ML_Pipeline/S03_04_Test.ipynb\" target=\"_parent\"><img src=\"https://colab.research.google.com/assets/colab-badge.svg\" alt=\"Open In Colab\"/></a>"
      ]
    },
    {
      "cell_type": "code",
      "metadata": {
        "cellView": "form",
        "id": "iRVsnCyQtW7w"
      },
      "source": [
        "#@title Try running this section by clicking the play button on the left. \n",
        "\n",
        "#@markdown This calculates 10*10 and displays the result...\n",
        "print(\"10 times 10 = \",10*10)"
      ],
      "execution_count": null,
      "outputs": []
    },
    {
      "cell_type": "markdown",
      "metadata": {
        "id": "0Wh5bAsfs_jl"
      },
      "source": [
        "Please run the entire section below by clicking the \"Play\" button on the left. This may take a bit more time, because the code is importing and installing a few useful modules. If you see the message `Completed successfully!` displayed in the end, you are good to go!"
      ]
    },
    {
      "cell_type": "code",
      "metadata": {
        "id": "sicBV7d0VBO8",
        "scrolled": true,
        "cellView": "form"
      },
      "source": [
        "#@title Click the play button at the left\n",
        "import os\n",
        "import sys\n",
        "assert sys.version_info >= (3, 5)   # Python ≥3.5 is required\n",
        "import urllib\n",
        "\n",
        "import numpy as np   # numpy for numerical linear algebra\n",
        "import pandas as pd  # pandas for managing dataframes\n",
        "\n",
        "#import tensorflow as tf\n",
        "#from tensorflow.keras import layers\n",
        "\n",
        "import sklearn\n",
        "assert sklearn.__version__ >= \"0.20\"  # Scikit-Learn version ≥0.20 required\n",
        "import sklearn.metrics as metrics\n",
        "\n",
        "# adjust reporting in pandas: max 10 rows and two-digit precision\n",
        "#pd.options.display.max_rows = 10\n",
        "pd.options.display.float_format = \"{:,.2f}\".format\n",
        "\n",
        "# import matplotlib and pyplot: critical packages for plotting \n",
        "import matplotlib as mpl\n",
        "import matplotlib.pyplot as plt\n",
        "# Make sure Matplotlib runs inline, for nice figures\n",
        "%matplotlib inline  \n",
        "mpl.rc('axes', labelsize=14)\n",
        "mpl.rc('xtick', labelsize=12)\n",
        "mpl.rc('ytick', labelsize=12)\n",
        "\n",
        "# install the latest version of seaborn for nicer graphics\n",
        "!pip install --prefix {sys.prefix} seaborn==0.11.0  &> /dev/null\n",
        "import seaborn as sns\n",
        "\n",
        "# install facets overview\n",
        "!pip install facets-overview &> /dev/null\n",
        "# import facets overview + some other relevant packages\n",
        "from IPython.core.display import display, HTML\n",
        "import base64\n",
        "from facets_overview.feature_statistics_generator import FeatureStatisticsGenerator\n",
        "\n",
        "# install graphviz for visualizing decision trees\n",
        "!pip install graphviz  &> /dev/null\n",
        "import graphviz\n",
        "\n",
        "# Ignore useless some warnings\n",
        "import warnings\n",
        "warnings.simplefilter(action=\"ignore\")\n",
        "\n",
        "print(\"Completed successfully!\")"
      ],
      "execution_count": null,
      "outputs": []
    }
  ]
}