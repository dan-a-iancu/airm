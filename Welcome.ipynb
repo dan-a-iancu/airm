{
  "nbformat": 4,
  "nbformat_minor": 0,
  "metadata": {
    "colab": {
      "provenance": [],
      "authorship_tag": "ABX9TyM+x9N3zj/A826BLpeyfK7B",
      "include_colab_link": true
    },
    "kernelspec": {
      "name": "python3",
      "display_name": "Python 3"
    },
    "language_info": {
      "name": "python"
    }
  },
  "cells": [
    {
      "cell_type": "markdown",
      "metadata": {
        "id": "view-in-github",
        "colab_type": "text"
      },
      "source": [
        "<a href=\"https://colab.research.google.com/github/dan-a-iancu/airm/blob/master/Welcome.ipynb\" target=\"_parent\"><img src=\"https://colab.research.google.com/assets/colab-badge.svg\" alt=\"Open In Colab\"/></a>"
      ]
    },
    {
      "cell_type": "markdown",
      "source": [
        "**Welcome to the Reponsible Analytics and AI Module!** \n",
        "\n",
        "To test the functionality, please do the following:\n",
        "1. Make sure you are **logged into your Google account** in the browser that you are currently using. (If you are not logged in, please first log in and then proceed to step 2 below.)\n",
        "2. Click on the **Runtime** menu above, and select **Run all**. You will see a prompt informing you that the file was loaded from Github - please select **Run anyway**.\n",
        "\n",
        "If everything works well, then in the **Test** section below you should see the value 86400 displayed."
      ],
      "metadata": {
        "id": "PqvvIyN3FUbV"
      }
    },
    {
      "cell_type": "code",
      "execution_count": null,
      "metadata": {
        "cellView": "form",
        "id": "hipZZ5KNFO4H"
      },
      "outputs": [],
      "source": [
        "#@title Test\n",
        "print(\"Total seconds in a day: {}\".format(24*3600))"
      ]
    }
  ]
}