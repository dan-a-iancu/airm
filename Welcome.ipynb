{
  "nbformat": 4,
  "nbformat_minor": 0,
  "metadata": {
    "colab": {
      "provenance": [],
      "authorship_tag": "ABX9TyNH/EtQsbwAoqmzIXfaYTNy",
      "include_colab_link": true
    },
    "kernelspec": {
      "name": "python3",
      "display_name": "Python 3"
    },
    "language_info": {
      "name": "python"
    }
  },
  "cells": [
    {
      "cell_type": "markdown",
      "metadata": {
        "id": "view-in-github",
        "colab_type": "text"
      },
      "source": [
        "<a href=\"https://colab.research.google.com/github/dan-a-iancu/airm/blob/master/Welcome.ipynb\" target=\"_parent\"><img src=\"https://colab.research.google.com/assets/colab-badge.svg\" alt=\"Open In Colab\"/></a>"
      ]
    },
    {
      "cell_type": "markdown",
      "source": [
        "**Welcome to the Reponsible Analytics and AI Module!** \n",
        "\n",
        "To test the functionality, please click on the **Runtime** menu above, and select **Run all**. Google will ask you to sign in using your Google account, and if everything works, well, then you should see below a calculation that corresponds to the total number of seconds in a day (i.e., 86,400)."
      ],
      "metadata": {
        "id": "PqvvIyN3FUbV"
      }
    },
    {
      "cell_type": "code",
      "execution_count": null,
      "metadata": {
        "cellView": "form",
        "id": "hipZZ5KNFO4H"
      },
      "outputs": [],
      "source": [
        "#@title Test\n",
        "print(\"Total seconds in a day: {}\".format(24*3600))"
      ]
    }
  ]
}