{
  "nbformat": 4,
  "nbformat_minor": 0,
  "metadata": {
    "kernelspec": {
      "display_name": "Python 3",
      "language": "python",
      "name": "python3"
    },
    "language_info": {
      "codemirror_mode": {
        "name": "ipython",
        "version": 3
      },
      "file_extension": ".py",
      "mimetype": "text/x-python",
      "name": "python",
      "nbconvert_exporter": "python",
      "pygments_lexer": "ipython3",
      "version": "3.6.5"
    },
    "colab": {
      "name": "BlueSky_Airlines_Network_Revenue_Management.ipynb",
      "provenance": [],
      "collapsed_sections": [
        "QbmO9_Taj3PH"
      ],
      "toc_visible": true,
      "include_colab_link": true
    }
  },
  "cells": [
    {
      "cell_type": "markdown",
      "metadata": {
        "id": "view-in-github",
        "colab_type": "text"
      },
      "source": [
        "<a href=\"https://colab.research.google.com/github/dan-a-iancu/airm/blob/master/BlueSky_RM/BlueSky_Airlines_Network_Revenue_Management.ipynb\" target=\"_parent\"><img src=\"https://colab.research.google.com/assets/colab-badge.svg\" alt=\"Open In Colab\"/></a>"
      ]
    },
    {
      "cell_type": "markdown",
      "metadata": {
        "id": "galbdhZa4ARk"
      },
      "source": [
        "This notebook implements the solution to the **BlueSky Airlines Network Revenue Management** mini-case. It assumes you are familiar with the case and the model."
      ]
    },
    {
      "cell_type": "markdown",
      "metadata": {
        "id": "vb4A3Z6sy5J_"
      },
      "source": [
        "____\r\n",
        "# Basic Setup\r\n",
        "\r\n",
        "Import useful modules, read the data and store it in data frames, and set up some useful Python lists. You may want to expand this section and make sure you understand how the data is organized, and also read the last part where the Python lists are created, as these may be very useful when you build your model."
      ]
    },
    {
      "cell_type": "code",
      "metadata": {
        "colab": {
          "base_uri": "https://localhost:8080/"
        },
        "id": "WcFPypqhXbcv",
        "cellView": "form",
        "outputId": "d931e9c5-5ed7-4776-9629-7bebedaf4176"
      },
      "source": [
        "#@markdown We first import some useful modules. \n",
        "\n",
        "# Python ≥3.5 is required\n",
        "import sys\n",
        "assert sys.version_info >= (3, 5)\n",
        "\n",
        "# import numpy\n",
        "import numpy as np\n",
        "import urllib.request  # for file downloading\n",
        "\n",
        "# Import pandas for data-frames\n",
        "import pandas as pd\n",
        "pd.options.display.max_rows = 15\n",
        "pd.options.display.float_format = \"{:,.2f}\".format\n",
        "\n",
        "from IPython.display import display\n",
        "\n",
        "# Make sure Matplotlib runs inline, for nice figures\n",
        "%matplotlib inline\n",
        "import matplotlib as mpl\n",
        "import matplotlib.pyplot as plt\n",
        "mpl.rc('axes', labelsize=14)\n",
        "mpl.rc('xtick', labelsize=12)\n",
        "mpl.rc('ytick', labelsize=12)\n",
        "import matplotlib.ticker as ticker \n",
        "\n",
        "# install Gurobi (our linear optimization solver)\n",
        "!pip install -i https://pypi.gurobi.com gurobipy\n",
        "from gurobipy import *\n",
        "\n",
        "# some modules to create local directories for CBC (to avoid issues with solving multiple models)\n",
        "import os\n",
        "def new_local_directory(name):\n",
        "    full_path = os.path.join(\".\", name)\n",
        "    os.makedirs(full_path, exist_ok=True)\n",
        "    return full_path\n",
        "\n",
        "# install the latest version of seaborn for nicer graphics\n",
        "#!pip install --prefix {sys.prefix} seaborn==0.11.0  &> /dev/null\n",
        "import seaborn as sns\n",
        "\n",
        "# Ignore useless some warnings\n",
        "import warnings\n",
        "warnings.simplefilter(action=\"ignore\")\n",
        "\n",
        "print(\"Completed successfully!\")"
      ],
      "execution_count": 1,
      "outputs": [
        {
          "output_type": "stream",
          "text": [
            "Looking in indexes: https://pypi.gurobi.com\n",
            "Requirement already satisfied: gurobipy in /usr/local/lib/python3.7/dist-packages (9.1.1)\n",
            "Completed successfully!\n"
          ],
          "name": "stdout"
        }
      ]
    },
    {
      "cell_type": "markdown",
      "metadata": {
        "id": "Aqf-EBXAAgn1"
      },
      "source": [
        "## Load the case data into Pandas data frames"
      ]
    },
    {
      "cell_type": "markdown",
      "metadata": {
        "id": "17bUiOG3EYfu"
      },
      "source": [
        "We first download an Excel file with all the data from Github."
      ]
    },
    {
      "cell_type": "code",
      "metadata": {
        "colab": {
          "base_uri": "https://localhost:8080/"
        },
        "id": "oO9JJFpMEX8K",
        "cellView": "form",
        "outputId": "ddbb60ec-21ab-4938-813c-c459b8da613d"
      },
      "source": [
        "#@markdown Download the entire data as an Excel file from Github\n",
        "\n",
        "url_Excel = 'https://github.com/dan-a-iancu/airm/blob/master/BlueSky_RM/BlueSky_Data.xlsx?raw=true'\n",
        "local_file = \"BlueSky_Data.xlsx\"   # name of local file where you want to store the downloaded file\n",
        "urllib.request.urlretrieve(url_Excel, local_file)    # download from website and save it locally"
      ],
      "execution_count": 2,
      "outputs": [
        {
          "output_type": "execute_result",
          "data": {
            "text/plain": [
              "('BlueSky_Data.xlsx', <http.client.HTTPMessage at 0x7f310e991050>)"
            ]
          },
          "metadata": {
            "tags": []
          },
          "execution_count": 2
        }
      ]
    },
    {
      "cell_type": "markdown",
      "metadata": {
        "id": "nb7NvPyuyoGh"
      },
      "source": [
        "Read in and store the data in suitable dataframes."
      ]
    },
    {
      "cell_type": "code",
      "metadata": {
        "colab": {
          "base_uri": "https://localhost:8080/",
          "height": 0
        },
        "id": "EUxSwrdEyJDs",
        "cellView": "form",
        "outputId": "99668483-351f-4bd9-a3da-d379e9bc0e7d"
      },
      "source": [
        "#@markdown Create dataframes based on the Excel file\r\n",
        "\r\n",
        "# Read in all the information about the itinerarys sold, and the aircraft capacities\r\n",
        "itineraryData = pd.read_excel(\"BlueSky_Data.xlsx\", sheet_name = \"Itinerary_data\", index_col=0)\r\n",
        "display(itineraryData)\r\n",
        "\r\n",
        "aircraftData = pd.read_excel(\"BlueSky_Data.xlsx\", sheet_name = \"Aircraft_data\", index_col=0)\r\n",
        "display(aircraftData)"
      ],
      "execution_count": 3,
      "outputs": [
        {
          "output_type": "display_data",
          "data": {
            "text/html": [
              "<div>\n",
              "<style scoped>\n",
              "    .dataframe tbody tr th:only-of-type {\n",
              "        vertical-align: middle;\n",
              "    }\n",
              "\n",
              "    .dataframe tbody tr th {\n",
              "        vertical-align: top;\n",
              "    }\n",
              "\n",
              "    .dataframe thead th {\n",
              "        text-align: right;\n",
              "    }\n",
              "</style>\n",
              "<table border=\"1\" class=\"dataframe\">\n",
              "  <thead>\n",
              "    <tr style=\"text-align: right;\">\n",
              "      <th></th>\n",
              "      <th>Q_Fare</th>\n",
              "      <th>Y_Fare</th>\n",
              "      <th>Q_Demand</th>\n",
              "      <th>Y_Demand</th>\n",
              "      <th>BOS_ORD_Flight</th>\n",
              "      <th>JFK_ORD_Flight</th>\n",
              "      <th>ORD_SFO_Flight</th>\n",
              "      <th>ORD_LAX_Flight</th>\n",
              "    </tr>\n",
              "  </thead>\n",
              "  <tbody>\n",
              "    <tr>\n",
              "      <th>BOS_ORD</th>\n",
              "      <td>200</td>\n",
              "      <td>220</td>\n",
              "      <td>25</td>\n",
              "      <td>20</td>\n",
              "      <td>1</td>\n",
              "      <td>0</td>\n",
              "      <td>0</td>\n",
              "      <td>0</td>\n",
              "    </tr>\n",
              "    <tr>\n",
              "      <th>BOS_SFO</th>\n",
              "      <td>320</td>\n",
              "      <td>420</td>\n",
              "      <td>55</td>\n",
              "      <td>40</td>\n",
              "      <td>1</td>\n",
              "      <td>0</td>\n",
              "      <td>1</td>\n",
              "      <td>0</td>\n",
              "    </tr>\n",
              "    <tr>\n",
              "      <th>BOS_LAX</th>\n",
              "      <td>400</td>\n",
              "      <td>490</td>\n",
              "      <td>65</td>\n",
              "      <td>25</td>\n",
              "      <td>1</td>\n",
              "      <td>0</td>\n",
              "      <td>0</td>\n",
              "      <td>1</td>\n",
              "    </tr>\n",
              "    <tr>\n",
              "      <th>JFK_ORD</th>\n",
              "      <td>250</td>\n",
              "      <td>290</td>\n",
              "      <td>24</td>\n",
              "      <td>16</td>\n",
              "      <td>0</td>\n",
              "      <td>1</td>\n",
              "      <td>0</td>\n",
              "      <td>0</td>\n",
              "    </tr>\n",
              "    <tr>\n",
              "      <th>JFK_SFO</th>\n",
              "      <td>410</td>\n",
              "      <td>540</td>\n",
              "      <td>65</td>\n",
              "      <td>50</td>\n",
              "      <td>0</td>\n",
              "      <td>1</td>\n",
              "      <td>1</td>\n",
              "      <td>0</td>\n",
              "    </tr>\n",
              "    <tr>\n",
              "      <th>JFK_LAX</th>\n",
              "      <td>450</td>\n",
              "      <td>550</td>\n",
              "      <td>40</td>\n",
              "      <td>35</td>\n",
              "      <td>0</td>\n",
              "      <td>1</td>\n",
              "      <td>0</td>\n",
              "      <td>1</td>\n",
              "    </tr>\n",
              "    <tr>\n",
              "      <th>ORD_SFO</th>\n",
              "      <td>210</td>\n",
              "      <td>230</td>\n",
              "      <td>21</td>\n",
              "      <td>50</td>\n",
              "      <td>0</td>\n",
              "      <td>0</td>\n",
              "      <td>1</td>\n",
              "      <td>0</td>\n",
              "    </tr>\n",
              "    <tr>\n",
              "      <th>ORD_LAX</th>\n",
              "      <td>260</td>\n",
              "      <td>300</td>\n",
              "      <td>25</td>\n",
              "      <td>14</td>\n",
              "      <td>0</td>\n",
              "      <td>0</td>\n",
              "      <td>0</td>\n",
              "      <td>1</td>\n",
              "    </tr>\n",
              "  </tbody>\n",
              "</table>\n",
              "</div>"
            ],
            "text/plain": [
              "         Q_Fare  Y_Fare  ...  ORD_SFO_Flight  ORD_LAX_Flight\n",
              "BOS_ORD     200     220  ...               0               0\n",
              "BOS_SFO     320     420  ...               1               0\n",
              "BOS_LAX     400     490  ...               0               1\n",
              "JFK_ORD     250     290  ...               0               0\n",
              "JFK_SFO     410     540  ...               1               0\n",
              "JFK_LAX     450     550  ...               0               1\n",
              "ORD_SFO     210     230  ...               1               0\n",
              "ORD_LAX     260     300  ...               0               1\n",
              "\n",
              "[8 rows x 8 columns]"
            ]
          },
          "metadata": {
            "tags": []
          }
        },
        {
          "output_type": "display_data",
          "data": {
            "text/html": [
              "<div>\n",
              "<style scoped>\n",
              "    .dataframe tbody tr th:only-of-type {\n",
              "        vertical-align: middle;\n",
              "    }\n",
              "\n",
              "    .dataframe tbody tr th {\n",
              "        vertical-align: top;\n",
              "    }\n",
              "\n",
              "    .dataframe thead th {\n",
              "        text-align: right;\n",
              "    }\n",
              "</style>\n",
              "<table border=\"1\" class=\"dataframe\">\n",
              "  <thead>\n",
              "    <tr style=\"text-align: right;\">\n",
              "      <th></th>\n",
              "      <th>Capacity</th>\n",
              "    </tr>\n",
              "  </thead>\n",
              "  <tbody>\n",
              "    <tr>\n",
              "      <th>BOS_ORD_Flight</th>\n",
              "      <td>200</td>\n",
              "    </tr>\n",
              "    <tr>\n",
              "      <th>JFK_ORD_Flight</th>\n",
              "      <td>200</td>\n",
              "    </tr>\n",
              "    <tr>\n",
              "      <th>ORD_SFO_Flight</th>\n",
              "      <td>200</td>\n",
              "    </tr>\n",
              "    <tr>\n",
              "      <th>ORD_LAX_Flight</th>\n",
              "      <td>200</td>\n",
              "    </tr>\n",
              "  </tbody>\n",
              "</table>\n",
              "</div>"
            ],
            "text/plain": [
              "                Capacity\n",
              "BOS_ORD_Flight       200\n",
              "JFK_ORD_Flight       200\n",
              "ORD_SFO_Flight       200\n",
              "ORD_LAX_Flight       200"
            ]
          },
          "metadata": {
            "tags": []
          }
        }
      ]
    },
    {
      "cell_type": "markdown",
      "metadata": {
        "id": "8yhR3xIVyJ13"
      },
      "source": [
        "## Create Python lists based on the data-frames\r\n",
        "\r\n",
        "__NOTE__: Make sure you understand what the __lists__ created here are! These will be very helpful when creating the model."
      ]
    },
    {
      "cell_type": "code",
      "metadata": {
        "id": "oi5sktA8j3PF",
        "colab": {
          "base_uri": "https://localhost:8080/"
        },
        "outputId": "6eae8615-2034-4c65-b003-12123a58bc25"
      },
      "source": [
        "#@markdown Create useful lists\n",
        "numODPairs = len(itineraryData)               # number of origin-destination (O-D) pairs used for itinerarys\n",
        "allODPairs = list(itineraryData.index)        # a list with all the O-D pairs (rows in itineraryData)\n",
        "numFlights = len(aircraftData)             # number of distinct flights/legs operated by the Airline\n",
        "allFlights = list(aircraftData.index)      # a list with all the flights operated (rows in aircraftData)\n",
        "\n",
        "# have a look\n",
        "print(allODPairs)\n",
        "print(allFlights)"
      ],
      "execution_count": 4,
      "outputs": [
        {
          "output_type": "stream",
          "text": [
            "['BOS_ORD', 'BOS_SFO', 'BOS_LAX', 'JFK_ORD', 'JFK_SFO', 'JFK_LAX', 'ORD_SFO', 'ORD_LAX']\n",
            "['BOS_ORD_Flight', 'JFK_ORD_Flight', 'ORD_SFO_Flight', 'ORD_LAX_Flight']\n"
          ],
          "name": "stdout"
        }
      ]
    },
    {
      "cell_type": "markdown",
      "metadata": {
        "id": "JWIygWXt2SNi"
      },
      "source": [
        "<font color=red>**IMPORTANT HINT.**</font> When defining your **decision variables** in this model, you may want to consider *matrices* (or grids) of decision variables instead of a simple list like we've created before. Specifically, you may want to add a decision variable for every pair of elements where the first element is from one list and the second element is from another list. \r\n",
        "\r\n",
        "When the decision variables are organized in a grid, it's significantly easier to use the ``addVars`` function to add all of the decision variables to the model at once. The function ``addVars`` can take as arguments several lists, e.g., `addVars(list1, list2, list3,...)`, in which case it will return one decision variable for every possible tuple of values. These decision variables will be stored as a dictionary, with the dictionary keys corresponding to the tuple of values. \r\n",
        "\r\n",
        "For instance, suppose `list1 = [\"Paris\", \"Budapest\", \"Beijing\"]` and `list2= [1,2]`. Then `myDecisions = addVars(list1,list2)` would return a dictionary containing one decision for every pair, i.e., (\"Paris\",1), (\"Paris\",2), (\"Budapest\",1), (\"Budapest\",2), etc. To access the decision corresponding to the pair (\"Paris\",1), we can simply use `myDecisions[(\"Paris\",1)]` or `myDecisions[\"Paris\",1]`."
      ]
    },
    {
      "cell_type": "markdown",
      "metadata": {
        "id": "z1Fz9Viqj3Oz"
      },
      "source": [
        "_____\n",
        "# **Q1**"
      ]
    },
    {
      "cell_type": "markdown",
      "metadata": {
        "id": "QbmO9_Taj3PH"
      },
      "source": [
        "##  Create an empty model"
      ]
    },
    {
      "cell_type": "code",
      "metadata": {
        "scrolled": true,
        "id": "PuwdY_79j3PI",
        "colab": {
          "base_uri": "https://localhost:8080/"
        },
        "outputId": "e3814027-c290-4549-e829-4f8f32530c3f"
      },
      "source": [
        "# Gurobi model\n",
        "AirlineModel = Model(\"Blue Sky Airline Model\")"
      ],
      "execution_count": 5,
      "outputs": [
        {
          "output_type": "stream",
          "text": [
            "Restricted license - for non-production use only - expires 2022-01-13\n"
          ],
          "name": "stdout"
        }
      ]
    },
    {
      "cell_type": "markdown",
      "metadata": {
        "id": "Q2T_Zf2nj3PI"
      },
      "source": [
        "## Define the Decision Variables\n",
        "In this problem, we would like to create a decision variable for every O-D pair and for every fare-class (Q,Y). This is done easily using Gurobi's ``addVars`` method."
      ]
    },
    {
      "cell_type": "code",
      "metadata": {
        "id": "BU14XQ9zj3PL"
      },
      "source": [
        "# one decision for each booking limit, i.e., how many itinerarys of each type to sell (these are 'sales')\n",
        "QitinerariesSold = AirlineModel.addVars( allODPairs, name =\"Q_itineraries\" )\n",
        "YitinerariesSold = AirlineModel.addVars( allODPairs, name =\"Y_itineraries\" )"
      ],
      "execution_count": 6,
      "outputs": []
    },
    {
      "cell_type": "markdown",
      "metadata": {
        "id": "dMLkUyKMj3PV"
      },
      "source": [
        "## Calculate and add the objective function"
      ]
    },
    {
      "cell_type": "code",
      "metadata": {
        "id": "JmgtMKfaj3PW"
      },
      "source": [
        "#@markdown Calculate the revenues\n",
        "# revenues are given by sales of all the itinerarys at correct fares\n",
        "revenues = quicksum( QitinerariesSold[i]*itineraryData[\"Q_Fare\"][i] for i in allODPairs ) + \\\n",
        "quicksum( YitinerariesSold[i]*itineraryData[\"Y_Fare\"][i] for i in allODPairs )\n",
        "\n",
        "# set the objective\n",
        "AirlineModel.setObjective(revenues, GRB.MAXIMIZE)"
      ],
      "execution_count": 7,
      "outputs": []
    },
    {
      "cell_type": "markdown",
      "metadata": {
        "id": "z9kO1tqvj3Pc"
      },
      "source": [
        "## Add All Constraints"
      ]
    },
    {
      "cell_type": "code",
      "metadata": {
        "id": "NMVLe80qj3Pd"
      },
      "source": [
        "# first the demand constraints: cannot sell more than the demand in each fare class\n",
        "for i in allODPairs:\n",
        "    # Q-class\n",
        "    consName = \"itineraries_\" + i + \"_Q\"\n",
        "    AirlineModel.addConstr( QitinerariesSold[i] <= itineraryData[\"Q_Demand\"][i], name = consName)\n",
        "    \n",
        "    # Y-class\n",
        "    consName = \"itineraries_\" + i + \"_Y\"\n",
        "    AirlineModel.addConstr( YitinerariesSold[i] <= itineraryData[\"Y_Demand\"][i], name = consName )"
      ],
      "execution_count": 8,
      "outputs": []
    },
    {
      "cell_type": "code",
      "metadata": {
        "id": "CasSqDXB5arM"
      },
      "source": [
        "# capacity constraints: one for each individual flight operated\r\n",
        "for f in allFlights :\r\n",
        "    # f denotes a particular flight, i.e., a row in 'aircraftData'\r\n",
        "    consName = f\r\n",
        "    \r\n",
        "    # calculate how many itinerarys were sold that require seats on that flight\r\n",
        "    AirlineModel.addConstr( quicksum( \r\n",
        "        (QitinerariesSold[i] + YitinerariesSold[i])*itineraryData[f][i] for i in allODPairs ) \\\r\n",
        "                           <= aircraftData[\"Capacity\"][f], name = consName )"
      ],
      "execution_count": 9,
      "outputs": []
    },
    {
      "cell_type": "markdown",
      "metadata": {
        "id": "IjtI8X9dj3Pl"
      },
      "source": [
        "## Solve the model"
      ]
    },
    {
      "cell_type": "code",
      "metadata": {
        "scrolled": true,
        "id": "OqPDbVEFj3Pm",
        "colab": {
          "base_uri": "https://localhost:8080/"
        },
        "cellView": "form",
        "outputId": "b5f625cc-b8f2-40d0-ad26-7c0f3a6a3e17"
      },
      "source": [
        "#@markdown Select whether to run the [Gurobi](https://www.gurobi.com/) optimization algorithms silently (no output details)\n",
        "run_silently = False #@param {type:\"boolean\"}\n",
        "\n",
        "if run_silently:\n",
        "    AirlineModel.setParam('OutputFlag',0)\n",
        "else:\n",
        "    AirlineModel.setParam('OutputFlag',1)\n",
        "\n",
        "AirlineModel.optimize()\n",
        "print('\\nSolved the optimization problem...')"
      ],
      "execution_count": 10,
      "outputs": [
        {
          "output_type": "stream",
          "text": [
            "Parameter OutputFlag unchanged\n",
            "   Value: 1  Min: 0  Max: 1  Default: 1\n",
            "Gurobi Optimizer version 9.1.1 build v9.1.1rc0 (linux64)\n",
            "Thread count: 1 physical cores, 2 logical processors, using up to 2 threads\n",
            "Optimize a model with 20 rows, 16 columns and 40 nonzeros\n",
            "Model fingerprint: 0x0996dbe8\n",
            "Coefficient statistics:\n",
            "  Matrix range     [1e+00, 1e+00]\n",
            "  Objective range  [2e+02, 6e+02]\n",
            "  Bounds range     [0e+00, 0e+00]\n",
            "  RHS range        [1e+01, 2e+02]\n",
            "Presolve removed 16 rows and 0 columns\n",
            "Presolve time: 0.01s\n",
            "Presolved: 4 rows, 16 columns, 24 nonzeros\n",
            "\n",
            "Iteration    Objective       Primal Inf.    Dual Inf.      Time\n",
            "       0    2.3461000e+05   7.237500e+01   0.000000e+00      0s\n",
            "       7    1.8285000e+05   0.000000e+00   0.000000e+00      0s\n",
            "\n",
            "Solved in 7 iterations and 0.01 seconds\n",
            "Optimal objective  1.828500000e+05\n",
            "\n",
            "Solved the optimization problem...\n"
          ],
          "name": "stdout"
        }
      ]
    },
    {
      "cell_type": "markdown",
      "metadata": {
        "id": "3UvnyEhh5yN_"
      },
      "source": [
        "## Print the optimal profit and optimal plan"
      ]
    },
    {
      "cell_type": "code",
      "metadata": {
        "scrolled": false,
        "id": "z0ONlW2Aj3Pp",
        "colab": {
          "base_uri": "https://localhost:8080/"
        },
        "cellView": "form",
        "outputId": "fb1cefca-aa77-4e48-fcd8-86e1ad7972ea"
      },
      "source": [
        "#@markdown Print the optimal revenues\n",
        "print(\"\\nOptimal revenues achieved: \\t\\t {:.2f}\".format(AirlineModel.objVal))\n",
        "\n",
        "#@markdown Print the optimal solution\n",
        "for i in allODPairs:\n",
        "    print(\"%s: \\t Q class %2.f  \\t Y class %2.f \" % (i,QitinerariesSold[i].X,YitinerariesSold[i].X))    "
      ],
      "execution_count": 11,
      "outputs": [
        {
          "output_type": "stream",
          "text": [
            "\n",
            "Optimal revenues achieved: \t\t 182850.00\n",
            "BOS_ORD: \t Q class 25  \t Y class 20 \n",
            "BOS_SFO: \t Q class 25  \t Y class 40 \n",
            "BOS_LAX: \t Q class 65  \t Y class 25 \n",
            "JFK_ORD: \t Q class 24  \t Y class 16 \n",
            "JFK_SFO: \t Q class 35  \t Y class 50 \n",
            "JFK_LAX: \t Q class 40  \t Y class 35 \n",
            "ORD_SFO: \t Q class  0  \t Y class 50 \n",
            "ORD_LAX: \t Q class 21  \t Y class 14 \n"
          ],
          "name": "stdout"
        }
      ]
    }
  ]
}