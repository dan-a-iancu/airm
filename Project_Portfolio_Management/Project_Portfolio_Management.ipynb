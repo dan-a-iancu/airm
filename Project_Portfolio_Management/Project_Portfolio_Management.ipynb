{
  "nbformat": 4,
  "nbformat_minor": 0,
  "metadata": {
    "kernelspec": {
      "display_name": "Python 3",
      "language": "python",
      "name": "python3"
    },
    "language_info": {
      "codemirror_mode": {
        "name": "ipython",
        "version": 3
      },
      "file_extension": ".py",
      "mimetype": "text/x-python",
      "name": "python",
      "nbconvert_exporter": "python",
      "pygments_lexer": "ipython3",
      "version": "3.6.5"
    },
    "colab": {
      "name": "Project_Portfolio_Management.ipynb",
      "provenance": [],
      "collapsed_sections": [
        "dMLkUyKMj3PV",
        "3UvnyEhh5yN_",
        "qu1eJhBgB7aM",
        "1si55GY0LKeK"
      ],
      "toc_visible": true,
      "include_colab_link": true
    }
  },
  "cells": [
    {
      "cell_type": "markdown",
      "metadata": {
        "id": "view-in-github",
        "colab_type": "text"
      },
      "source": [
        "<a href=\"https://colab.research.google.com/github/dan-a-iancu/airm/blob/master/Project_Portfolio_Management/Project_Portfolio_Management.ipynb\" target=\"_parent\"><img src=\"https://colab.research.google.com/assets/colab-badge.svg\" alt=\"Open In Colab\"/></a>"
      ]
    },
    {
      "cell_type": "markdown",
      "metadata": {
        "id": "7VtkH-sn3oBT"
      },
      "source": [
        "This notebook implements the solution to the **Project Portfolio Management** mini-case. It assumes you are familiar with the case and the model."
      ]
    },
    {
      "cell_type": "markdown",
      "metadata": {
        "id": "vb4A3Z6sy5J_"
      },
      "source": [
        "____\r\n",
        "# Basic Setup\r\n",
        "\r\n",
        "Import useful modules, read the data and store it in data frames, and set up some useful Python lists. You may want to expand this section and make sure you understand how the data is organized, and also read the last part where the Python lists are created, as these may be very useful when you build your model."
      ]
    },
    {
      "cell_type": "code",
      "metadata": {
        "colab": {
          "base_uri": "https://localhost:8080/"
        },
        "id": "WcFPypqhXbcv",
        "cellView": "form",
        "outputId": "a99183bf-e182-4790-a772-12d9f57c5624"
      },
      "source": [
        "#@markdown We first import some useful modules. \n",
        "\n",
        "# Python ≥3.5 is required\n",
        "import sys\n",
        "assert sys.version_info >= (3, 5)\n",
        "\n",
        "# import numpy\n",
        "import numpy as np\n",
        "import urllib.request  # for file downloading\n",
        "\n",
        "# Import pandas for data-frames\n",
        "import pandas as pd\n",
        "pd.options.display.max_rows = 15\n",
        "pd.options.display.float_format = \"{:,.2f}\".format\n",
        "\n",
        "from IPython.display import display\n",
        "\n",
        "# Make sure Matplotlib runs inline, for nice figures\n",
        "%matplotlib inline\n",
        "import matplotlib as mpl\n",
        "import matplotlib.pyplot as plt\n",
        "mpl.rc('axes', labelsize=14)\n",
        "mpl.rc('xtick', labelsize=12)\n",
        "mpl.rc('ytick', labelsize=12)\n",
        "import matplotlib.ticker as ticker \n",
        "\n",
        "# install Gurobi (our linear optimization solver)\n",
        "!pip install -i https://pypi.gurobi.com gurobipy\n",
        "from gurobipy import *\n",
        "\n",
        "# some modules to create local directories for CBC (to avoid issues with solving multiple models)\n",
        "import os\n",
        "def new_local_directory(name):\n",
        "    full_path = os.path.join(\".\", name)\n",
        "    os.makedirs(full_path, exist_ok=True)\n",
        "    return full_path\n",
        "\n",
        "# install the latest version of seaborn for nicer graphics\n",
        "#!pip install --prefix {sys.prefix} seaborn==0.11.0  &> /dev/null\n",
        "import seaborn as sns\n",
        "\n",
        "# Ignore useless some warnings\n",
        "import warnings\n",
        "warnings.simplefilter(action=\"ignore\")\n",
        "\n",
        "print(\"Completed successfully!\")"
      ],
      "execution_count": null,
      "outputs": [
        {
          "output_type": "stream",
          "text": [
            "Looking in indexes: https://pypi.gurobi.com\n",
            "Requirement already satisfied: gurobipy in /usr/local/lib/python3.7/dist-packages (9.1.1)\n",
            "Completed successfully!\n"
          ],
          "name": "stdout"
        }
      ]
    },
    {
      "cell_type": "markdown",
      "metadata": {
        "id": "Aqf-EBXAAgn1"
      },
      "source": [
        "## Load the case data into Pandas data frames"
      ]
    },
    {
      "cell_type": "markdown",
      "metadata": {
        "id": "17bUiOG3EYfu"
      },
      "source": [
        "We first download an Excel file with all the data from Github."
      ]
    },
    {
      "cell_type": "code",
      "metadata": {
        "colab": {
          "base_uri": "https://localhost:8080/"
        },
        "id": "oO9JJFpMEX8K",
        "outputId": "c7d7db27-ae23-439b-c256-035ea92603ab"
      },
      "source": [
        "#@markdown Download the entire data as an Excel file from Github\n",
        "\n",
        "url_Excel = 'https://github.com/dan-a-iancu/airm/blob/master/Project_Portfolio_Management/Project_Data.xlsx?raw=true'\n",
        "local_file = \"Portfolio_Project_Data.xlsx\"   # name of local file where you want to store the downloaded file\n",
        "urllib.request.urlretrieve(url_Excel, local_file)    # download from website and save it locally"
      ],
      "execution_count": null,
      "outputs": [
        {
          "output_type": "execute_result",
          "data": {
            "text/plain": [
              "('Portfolio_Project_Data.xlsx', <http.client.HTTPMessage at 0x7f8dc1b27510>)"
            ]
          },
          "metadata": {
            "tags": []
          },
          "execution_count": 2
        }
      ]
    },
    {
      "cell_type": "markdown",
      "metadata": {
        "id": "nb7NvPyuyoGh"
      },
      "source": [
        "Read in and store the data in suitable dataframes."
      ]
    },
    {
      "cell_type": "code",
      "metadata": {
        "colab": {
          "base_uri": "https://localhost:8080/",
          "height": 377
        },
        "id": "EUxSwrdEyJDs",
        "outputId": "23ab5bd3-eb3f-4e9f-da28-a74543800fb6"
      },
      "source": [
        "#@markdown Create a dataframe with the information on projects\r\n",
        "\r\n",
        "# Read in the information about the available projects\r\n",
        "projectData = pd.read_excel(\"Portfolio_Project_Data.xlsx\", sheet_name = \"Projects\", index_col = 0)\r\n",
        "\r\n",
        "# Have a look:\r\n",
        "display(projectData)\r\n"
      ],
      "execution_count": null,
      "outputs": [
        {
          "output_type": "display_data",
          "data": {
            "text/html": [
              "<div>\n",
              "<style scoped>\n",
              "    .dataframe tbody tr th:only-of-type {\n",
              "        vertical-align: middle;\n",
              "    }\n",
              "\n",
              "    .dataframe tbody tr th {\n",
              "        vertical-align: top;\n",
              "    }\n",
              "\n",
              "    .dataframe thead th {\n",
              "        text-align: right;\n",
              "    }\n",
              "</style>\n",
              "<table border=\"1\" class=\"dataframe\">\n",
              "  <thead>\n",
              "    <tr style=\"text-align: right;\">\n",
              "      <th></th>\n",
              "      <th>Capital_Required</th>\n",
              "      <th>Location</th>\n",
              "      <th>Impact</th>\n",
              "      <th>Risks</th>\n",
              "      <th>Engineers</th>\n",
              "      <th>Field_Workers</th>\n",
              "      <th>Support</th>\n",
              "    </tr>\n",
              "    <tr>\n",
              "      <th>Project</th>\n",
              "      <th></th>\n",
              "      <th></th>\n",
              "      <th></th>\n",
              "      <th></th>\n",
              "      <th></th>\n",
              "      <th></th>\n",
              "      <th></th>\n",
              "    </tr>\n",
              "  </thead>\n",
              "  <tbody>\n",
              "    <tr>\n",
              "      <th>A</th>\n",
              "      <td>4015</td>\n",
              "      <td>South America</td>\n",
              "      <td>10</td>\n",
              "      <td>10</td>\n",
              "      <td>15</td>\n",
              "      <td>80</td>\n",
              "      <td>15</td>\n",
              "    </tr>\n",
              "    <tr>\n",
              "      <th>B</th>\n",
              "      <td>3623</td>\n",
              "      <td>South America</td>\n",
              "      <td>7</td>\n",
              "      <td>10</td>\n",
              "      <td>5</td>\n",
              "      <td>35</td>\n",
              "      <td>15</td>\n",
              "    </tr>\n",
              "    <tr>\n",
              "      <th>C</th>\n",
              "      <td>3847</td>\n",
              "      <td>South America</td>\n",
              "      <td>4</td>\n",
              "      <td>7</td>\n",
              "      <td>10</td>\n",
              "      <td>30</td>\n",
              "      <td>10</td>\n",
              "    </tr>\n",
              "    <tr>\n",
              "      <th>D</th>\n",
              "      <td>4058</td>\n",
              "      <td>Asia</td>\n",
              "      <td>4</td>\n",
              "      <td>4</td>\n",
              "      <td>5</td>\n",
              "      <td>35</td>\n",
              "      <td>4</td>\n",
              "    </tr>\n",
              "    <tr>\n",
              "      <th>E</th>\n",
              "      <td>11182</td>\n",
              "      <td>Asia</td>\n",
              "      <td>10</td>\n",
              "      <td>7</td>\n",
              "      <td>10</td>\n",
              "      <td>50</td>\n",
              "      <td>5</td>\n",
              "    </tr>\n",
              "    <tr>\n",
              "      <th>F</th>\n",
              "      <td>4858</td>\n",
              "      <td>Asia</td>\n",
              "      <td>4</td>\n",
              "      <td>4</td>\n",
              "      <td>5</td>\n",
              "      <td>45</td>\n",
              "      <td>5</td>\n",
              "    </tr>\n",
              "    <tr>\n",
              "      <th>G</th>\n",
              "      <td>5379</td>\n",
              "      <td>Asia</td>\n",
              "      <td>4</td>\n",
              "      <td>4</td>\n",
              "      <td>5</td>\n",
              "      <td>40</td>\n",
              "      <td>5</td>\n",
              "    </tr>\n",
              "    <tr>\n",
              "      <th>H</th>\n",
              "      <td>16203</td>\n",
              "      <td>Africa</td>\n",
              "      <td>10</td>\n",
              "      <td>7</td>\n",
              "      <td>5</td>\n",
              "      <td>100</td>\n",
              "      <td>15</td>\n",
              "    </tr>\n",
              "    <tr>\n",
              "      <th>I</th>\n",
              "      <td>1839</td>\n",
              "      <td>Africa</td>\n",
              "      <td>1</td>\n",
              "      <td>4</td>\n",
              "      <td>2</td>\n",
              "      <td>70</td>\n",
              "      <td>10</td>\n",
              "    </tr>\n",
              "    <tr>\n",
              "      <th>J</th>\n",
              "      <td>8298</td>\n",
              "      <td>Africa</td>\n",
              "      <td>4</td>\n",
              "      <td>1</td>\n",
              "      <td>3</td>\n",
              "      <td>40</td>\n",
              "      <td>5</td>\n",
              "    </tr>\n",
              "  </tbody>\n",
              "</table>\n",
              "</div>"
            ],
            "text/plain": [
              "         Capital_Required       Location  ...  Field_Workers  Support\n",
              "Project                                   ...                        \n",
              "A                    4015  South America  ...             80       15\n",
              "B                    3623  South America  ...             35       15\n",
              "C                    3847  South America  ...             30       10\n",
              "D                    4058           Asia  ...             35        4\n",
              "E                   11182           Asia  ...             50        5\n",
              "F                    4858           Asia  ...             45        5\n",
              "G                    5379           Asia  ...             40        5\n",
              "H                   16203         Africa  ...            100       15\n",
              "I                    1839         Africa  ...             70       10\n",
              "J                    8298         Africa  ...             40        5\n",
              "\n",
              "[10 rows x 7 columns]"
            ]
          },
          "metadata": {
            "tags": []
          }
        }
      ]
    },
    {
      "cell_type": "code",
      "metadata": {
        "colab": {
          "base_uri": "https://localhost:8080/",
          "height": 137
        },
        "id": "kXWS_YKrSl05",
        "outputId": "33d9ab53-aceb-4401-9665-72c1e901a368"
      },
      "source": [
        "#@markdown Create a dataframe with the information on available resources (this is useful in **Q5**)\r\n",
        "\r\n",
        "# Read in the information about the available projects\r\n",
        "resourceData = pd.read_excel(\"Portfolio_Project_Data.xlsx\", sheet_name = \"Resources\", index_col = 0)\r\n",
        "\r\n",
        "# Have a look:\r\n",
        "display(resourceData)"
      ],
      "execution_count": null,
      "outputs": [
        {
          "output_type": "display_data",
          "data": {
            "text/html": [
              "<div>\n",
              "<style scoped>\n",
              "    .dataframe tbody tr th:only-of-type {\n",
              "        vertical-align: middle;\n",
              "    }\n",
              "\n",
              "    .dataframe tbody tr th {\n",
              "        vertical-align: top;\n",
              "    }\n",
              "\n",
              "    .dataframe thead th {\n",
              "        text-align: right;\n",
              "    }\n",
              "</style>\n",
              "<table border=\"1\" class=\"dataframe\">\n",
              "  <thead>\n",
              "    <tr style=\"text-align: right;\">\n",
              "      <th></th>\n",
              "      <th>January-March</th>\n",
              "      <th>April-June</th>\n",
              "      <th>July-September</th>\n",
              "      <th>October-December</th>\n",
              "    </tr>\n",
              "  </thead>\n",
              "  <tbody>\n",
              "    <tr>\n",
              "      <th>Engineers</th>\n",
              "      <td>20</td>\n",
              "      <td>20</td>\n",
              "      <td>12</td>\n",
              "      <td>20</td>\n",
              "    </tr>\n",
              "    <tr>\n",
              "      <th>Field_Workers</th>\n",
              "      <td>120</td>\n",
              "      <td>150</td>\n",
              "      <td>150</td>\n",
              "      <td>120</td>\n",
              "    </tr>\n",
              "    <tr>\n",
              "      <th>Support</th>\n",
              "      <td>50</td>\n",
              "      <td>40</td>\n",
              "      <td>40</td>\n",
              "      <td>50</td>\n",
              "    </tr>\n",
              "  </tbody>\n",
              "</table>\n",
              "</div>"
            ],
            "text/plain": [
              "               January-March  April-June  July-September  October-December\n",
              "Engineers                 20          20              12                20\n",
              "Field_Workers            120         150             150               120\n",
              "Support                   50          40              40                50"
            ]
          },
          "metadata": {
            "tags": []
          }
        }
      ]
    },
    {
      "cell_type": "markdown",
      "metadata": {
        "id": "XRdz0phvd9Z1"
      },
      "source": [
        "Also set up any other problem data/parameters, such as the initial capital available."
      ]
    },
    {
      "cell_type": "code",
      "metadata": {
        "id": "Tx8pnOVOd6_u"
      },
      "source": [
        "initialCapital = 25000"
      ],
      "execution_count": null,
      "outputs": []
    },
    {
      "cell_type": "markdown",
      "metadata": {
        "id": "8yhR3xIVyJ13"
      },
      "source": [
        "## Create Python lists based on the data-frames\r\n",
        "\r\n",
        "__NOTE__: Make sure you understand what the __lists__ created here are! These will be very helpful when creating the model."
      ]
    },
    {
      "cell_type": "code",
      "metadata": {
        "id": "oi5sktA8j3PF",
        "colab": {
          "base_uri": "https://localhost:8080/"
        },
        "outputId": "43aeec45-0790-4615-d477-693954f998b7"
      },
      "source": [
        "#@markdown Some useful lists for building all the models\n",
        "\n",
        "# the list with project names (A,B, ...)\n",
        "allProjects = list(projectData.index)\n",
        "print(\"This is the list of all the project names:\")\n",
        "print(allProjects)\n",
        "\n",
        "# the unique locations / continents\n",
        "allLocations = list(projectData[\"Location\"].unique())\n",
        "print(\"\\nThis is the list of unique locations:\")\n",
        "print(allLocations)"
      ],
      "execution_count": null,
      "outputs": [
        {
          "output_type": "stream",
          "text": [
            "This is the list of all the project names:\n",
            "['A', 'B', 'C', 'D', 'E', 'F', 'G', 'H', 'I', 'J']\n",
            "\n",
            "This is the list of unique locations:\n",
            "['South America', 'Asia', 'Africa']\n"
          ],
          "name": "stdout"
        }
      ]
    },
    {
      "cell_type": "code",
      "metadata": {
        "colab": {
          "base_uri": "https://localhost:8080/"
        },
        "id": "FP9z_8hAS25M",
        "outputId": "b65aa55c-131f-4bbf-dc50-cc13c672a666"
      },
      "source": [
        "#@markdown The following lists will be useful in **Q5**\r\n",
        "\r\n",
        "# the list with periods when the projects could be scheduled\r\n",
        "allPeriods = list(resourceData.columns)\r\n",
        "print(\"These are periods when the projects could be scheduled:\")\r\n",
        "print(allPeriods)\r\n",
        "\r\n",
        "# the types of resources needed\r\n",
        "allResources = list(resourceData.index)\r\n",
        "print(\"\\nThese are the unique resources needed to execute the projects:\")\r\n",
        "print(allResources)"
      ],
      "execution_count": null,
      "outputs": [
        {
          "output_type": "stream",
          "text": [
            "These are periods when the projects could be scheduled:\n",
            "['January-March', 'April-June', 'July-September', 'October-December']\n",
            "\n",
            "These are the unique resources needed to execute the projects:\n",
            "['Engineers', 'Field_Workers', 'Support']\n"
          ],
          "name": "stdout"
        }
      ]
    },
    {
      "cell_type": "markdown",
      "metadata": {
        "id": "z1Fz9Viqj3Oz"
      },
      "source": [
        "_____\n",
        "# **Q1**"
      ]
    },
    {
      "cell_type": "markdown",
      "metadata": {
        "id": "QbmO9_Taj3PH"
      },
      "source": [
        "**Create an empty model**"
      ]
    },
    {
      "cell_type": "code",
      "metadata": {
        "scrolled": true,
        "id": "PuwdY_79j3PI",
        "colab": {
          "base_uri": "https://localhost:8080/"
        },
        "outputId": "e4a92132-e7ed-417a-e175-9c20d690c4c7"
      },
      "source": [
        "#@title Create the model\n",
        "ProjectSelectionModel = Model(\"Funding Projects\")"
      ],
      "execution_count": null,
      "outputs": [
        {
          "output_type": "stream",
          "text": [
            "Restricted license - for non-production use only - expires 2022-01-13\n"
          ],
          "name": "stdout"
        }
      ]
    },
    {
      "cell_type": "markdown",
      "metadata": {
        "id": "Q2T_Zf2nj3PI"
      },
      "source": [
        "**Define the Decision Variables**<br>\n",
        "We have a **binary** decision for whether to select each project or not. We can add one such variable for each project using Gurobi's ``addVars`` method. Note that  specify the **type** of the decision using `vtype`."
      ]
    },
    {
      "cell_type": "code",
      "metadata": {
        "id": "BU14XQ9zj3PL"
      },
      "source": [
        "#@title Add the decision variables\n",
        "fund_project = ProjectSelectionModel.addVars(allProjects, vtype = GRB.BINARY, name=\"Fund\")"
      ],
      "execution_count": null,
      "outputs": []
    },
    {
      "cell_type": "markdown",
      "metadata": {
        "id": "dMLkUyKMj3PV"
      },
      "source": [
        "**Calculate and add the objective function**\r\n",
        "The objective corresponds to the total impact achieved on all the continents."
      ]
    },
    {
      "cell_type": "code",
      "metadata": {
        "id": "JmgtMKfaj3PW"
      },
      "source": [
        "#@title Add the objective\n",
        "ProjectSelectionModel.setObjective( \n",
        "    quicksum(fund_project[p]*projectData[\"Impact\"][p] for p in allProjects), GRB.MAXIMIZE )"
      ],
      "execution_count": null,
      "outputs": []
    },
    {
      "cell_type": "markdown",
      "metadata": {
        "id": "z9kO1tqvj3Pc"
      },
      "source": [
        "**Add the Constraints**\r\n",
        "\r\n",
        "The only constraint here is that the capital used should not exceed the initial capital available."
      ]
    },
    {
      "cell_type": "code",
      "metadata": {
        "id": "NMVLe80qj3Pd",
        "colab": {
          "base_uri": "https://localhost:8080/"
        },
        "outputId": "27f115c8-f89f-46b4-b426-50101c300313"
      },
      "source": [
        "#@title Add the constraints\n",
        "# we only have one constraint, that \"capital used <= capital available\"\n",
        "ProjectSelectionModel.addConstr( \n",
        "    quicksum(fund_project[p]*projectData[\"Capital_Required\"][p] for p in allProjects) \n",
        "    <= initialCapital, name = \"Initial_capital_avail\" )"
      ],
      "execution_count": null,
      "outputs": [
        {
          "output_type": "execute_result",
          "data": {
            "text/plain": [
              "<gurobi.Constr *Awaiting Model Update*>"
            ]
          },
          "metadata": {
            "tags": []
          },
          "execution_count": 11
        }
      ]
    },
    {
      "cell_type": "markdown",
      "metadata": {
        "id": "IjtI8X9dj3Pl"
      },
      "source": [
        "**Solve the model**"
      ]
    },
    {
      "cell_type": "code",
      "metadata": {
        "scrolled": true,
        "id": "OqPDbVEFj3Pm",
        "colab": {
          "base_uri": "https://localhost:8080/"
        },
        "cellView": "form",
        "outputId": "34f62e86-a87f-4222-b198-9130a4faee2e"
      },
      "source": [
        "#@markdown Select whether to run the [Gurobi](https://www.gurobi.com/) optimization algorithms silently (no output details)\n",
        "run_silently = False #@param {type:\"boolean\"}\n",
        "\n",
        "if run_silently:\n",
        "    ProjectSelectionModel.setParam('OutputFlag',0)\n",
        "else:\n",
        "    ProjectSelectionModel.setParam('OutputFlag',1)\n",
        "\n",
        "ProjectSelectionModel.optimize()\n",
        "print('\\nSolved the optimization problem...')"
      ],
      "execution_count": null,
      "outputs": [
        {
          "output_type": "stream",
          "text": [
            "Parameter OutputFlag unchanged\n",
            "   Value: 1  Min: 0  Max: 1  Default: 1\n",
            "Gurobi Optimizer version 9.1.1 build v9.1.1rc0 (linux64)\n",
            "Thread count: 1 physical cores, 2 logical processors, using up to 2 threads\n",
            "Optimize a model with 1 rows, 10 columns and 10 nonzeros\n",
            "Model fingerprint: 0xfa4d6032\n",
            "Variable types: 0 continuous, 10 integer (10 binary)\n",
            "Coefficient statistics:\n",
            "  Matrix range     [2e+03, 2e+04]\n",
            "  Objective range  [1e+00, 1e+01]\n",
            "  Bounds range     [1e+00, 1e+00]\n",
            "  RHS range        [2e+04, 2e+04]\n",
            "Found heuristic solution: objective 30.0000000\n",
            "Presolve removed 1 rows and 10 columns\n",
            "Presolve time: 0.00s\n",
            "Presolve: All rows and columns removed\n",
            "\n",
            "Explored 0 nodes (0 simplex iterations) in 0.01 seconds\n",
            "Thread count was 1 (of 2 available processors)\n",
            "\n",
            "Solution count 2: 32 \n",
            "\n",
            "Optimal solution found (tolerance 1.00e-04)\n",
            "Best objective 3.200000000000e+01, best bound 3.200000000000e+01, gap 0.0000%\n",
            "\n",
            "Solved the optimization problem...\n"
          ],
          "name": "stdout"
        }
      ]
    },
    {
      "cell_type": "markdown",
      "metadata": {
        "id": "3UvnyEhh5yN_"
      },
      "source": [
        "**Print the optimal objective and optimal solution**"
      ]
    },
    {
      "cell_type": "code",
      "metadata": {
        "scrolled": false,
        "id": "z0ONlW2Aj3Pp",
        "colab": {
          "base_uri": "https://localhost:8080/"
        },
        "cellView": "form",
        "outputId": "ddf61359-ff72-4267-cec5-0198bb202e25"
      },
      "source": [
        "#@title Print the solution\n",
        "print(\"Projects Funded: \")\n",
        "for p in allProjects:\n",
        "    if fund_project[p].X == 1:\n",
        "        print(\"Project \",p)\n",
        "\n",
        "print(\"Optimal total impact: {:.2f}\".format(ProjectSelectionModel.objVal))"
      ],
      "execution_count": null,
      "outputs": [
        {
          "output_type": "stream",
          "text": [
            "Projects Funded: \n",
            "Project  A\n",
            "Project  B\n",
            "Project  C\n",
            "Project  E\n",
            "Project  I\n",
            "Optimal total impact: 32.00\n"
          ],
          "name": "stdout"
        }
      ]
    },
    {
      "cell_type": "markdown",
      "metadata": {
        "id": "mDejwNc_fIni"
      },
      "source": [
        "**Calculate and print some additional information about the solution**\r\n",
        "\r\n",
        "We calculate the \"bang-for-the-buck\" for each project, and display it together with the solution as a dataframe. We also calculate the impact achieved on each continent."
      ]
    },
    {
      "cell_type": "code",
      "metadata": {
        "scrolled": false,
        "id": "oc7GHRAuj3Ps",
        "colab": {
          "base_uri": "https://localhost:8080/",
          "height": 464
        },
        "cellView": "form",
        "outputId": "9147b0f7-a990-4e47-f9cb-de2338ffc205"
      },
      "source": [
        "#@markdown Calculate and print additional information\n",
        "\n",
        "# change the precision on pandas dataframes\n",
        "pd.options.display.float_format = \"{:,.5f}\".format\n",
        "\n",
        "# create a dataframe with the optimal decisions for each project\n",
        "df_results = pd.DataFrame({\"Fund_Project?\" : \\\n",
        "                           [np.int(fund_project[p].X) for p in allProjects], \\\n",
        "                            \"Bang-for-buck\" : \\\n",
        "                           [ projectData[\"Impact\"][p]/projectData[\"Capital_Required\"][p] for p in allProjects]}, \\\n",
        "                          index = allProjects)\n",
        "display(df_results)\n",
        "\n",
        "# impact by continent\n",
        "print('\\n\\n{:<50}\\nImpact achieved on each continent:'.format(\"=\"*80))\n",
        "for loc in allLocations:\n",
        "    print(\"   {:<15} : {:,.2f}\".format(loc, sum(projectData[\"Impact\"][p]*fund_project[p].X \\\n",
        "                                                for p in allProjects if projectData[\"Location\"][p]==loc)) )"
      ],
      "execution_count": null,
      "outputs": [
        {
          "output_type": "display_data",
          "data": {
            "text/html": [
              "<div>\n",
              "<style scoped>\n",
              "    .dataframe tbody tr th:only-of-type {\n",
              "        vertical-align: middle;\n",
              "    }\n",
              "\n",
              "    .dataframe tbody tr th {\n",
              "        vertical-align: top;\n",
              "    }\n",
              "\n",
              "    .dataframe thead th {\n",
              "        text-align: right;\n",
              "    }\n",
              "</style>\n",
              "<table border=\"1\" class=\"dataframe\">\n",
              "  <thead>\n",
              "    <tr style=\"text-align: right;\">\n",
              "      <th></th>\n",
              "      <th>Fund_Project?</th>\n",
              "      <th>Bang-for-buck</th>\n",
              "    </tr>\n",
              "  </thead>\n",
              "  <tbody>\n",
              "    <tr>\n",
              "      <th>A</th>\n",
              "      <td>1</td>\n",
              "      <td>0.00249</td>\n",
              "    </tr>\n",
              "    <tr>\n",
              "      <th>B</th>\n",
              "      <td>1</td>\n",
              "      <td>0.00193</td>\n",
              "    </tr>\n",
              "    <tr>\n",
              "      <th>C</th>\n",
              "      <td>1</td>\n",
              "      <td>0.00104</td>\n",
              "    </tr>\n",
              "    <tr>\n",
              "      <th>D</th>\n",
              "      <td>0</td>\n",
              "      <td>0.00099</td>\n",
              "    </tr>\n",
              "    <tr>\n",
              "      <th>E</th>\n",
              "      <td>1</td>\n",
              "      <td>0.00089</td>\n",
              "    </tr>\n",
              "    <tr>\n",
              "      <th>F</th>\n",
              "      <td>0</td>\n",
              "      <td>0.00082</td>\n",
              "    </tr>\n",
              "    <tr>\n",
              "      <th>G</th>\n",
              "      <td>0</td>\n",
              "      <td>0.00074</td>\n",
              "    </tr>\n",
              "    <tr>\n",
              "      <th>H</th>\n",
              "      <td>0</td>\n",
              "      <td>0.00062</td>\n",
              "    </tr>\n",
              "    <tr>\n",
              "      <th>I</th>\n",
              "      <td>1</td>\n",
              "      <td>0.00054</td>\n",
              "    </tr>\n",
              "    <tr>\n",
              "      <th>J</th>\n",
              "      <td>0</td>\n",
              "      <td>0.00048</td>\n",
              "    </tr>\n",
              "  </tbody>\n",
              "</table>\n",
              "</div>"
            ],
            "text/plain": [
              "   Fund_Project?  Bang-for-buck\n",
              "A              1        0.00249\n",
              "B              1        0.00193\n",
              "C              1        0.00104\n",
              "D              0        0.00099\n",
              "E              1        0.00089\n",
              "F              0        0.00082\n",
              "G              0        0.00074\n",
              "H              0        0.00062\n",
              "I              1        0.00054\n",
              "J              0        0.00048"
            ]
          },
          "metadata": {
            "tags": []
          }
        },
        {
          "output_type": "stream",
          "text": [
            "\n",
            "\n",
            "================================================================================\n",
            "Impact achieved on each continent:\n",
            "   South America   : 21.00\n",
            "   Asia            : 10.00\n",
            "   Africa          : 1.00\n"
          ],
          "name": "stdout"
        }
      ]
    },
    {
      "cell_type": "markdown",
      "metadata": {
        "id": "JB6siv6V6fjE"
      },
      "source": [
        "Store the optimal impact obtained in **Q1**."
      ]
    },
    {
      "cell_type": "code",
      "metadata": {
        "id": "em3DFFjU6c-u"
      },
      "source": [
        "impact_Q1 = ProjectSelectionModel.objVal  # optimal value Q1"
      ],
      "execution_count": null,
      "outputs": []
    },
    {
      "cell_type": "markdown",
      "metadata": {
        "id": "qu1eJhBgB7aM"
      },
      "source": [
        "## Create a few useful functions\r\n",
        "\r\n",
        "To help with subsequent parts of the problem, we also add all the steps above inside a **function** that creates and returns a generic model like the one we created in **Q1**, together with all the decision variables and constraints."
      ]
    },
    {
      "cell_type": "code",
      "metadata": {
        "id": "FR_fXXdaCmob",
        "cellView": "form"
      },
      "source": [
        "#@title A function that generates a model like the one in **Q1**\r\n",
        "def create_model_like_in_Q1():\r\n",
        "    # create the model\r\n",
        "    ProjectSelectionModel = Model(\"Funding Projects\")\r\n",
        "\r\n",
        "    #@markdown Decision variables\r\n",
        "    # one binary decision for each project\r\n",
        "    fund_project = ProjectSelectionModel.addVars(allProjects, vtype = GRB.BINARY, name=\"Fund\")\r\n",
        "\r\n",
        "    #@markdown Objective\r\n",
        "    # calculate the net impact objective and add it to the model\r\n",
        "    ProjectSelectionModel.setObjective( \r\n",
        "      quicksum(fund_project[p]*projectData[\"Impact\"][p] for p in allProjects), GRB.MAXIMIZE )\r\n",
        "\r\n",
        "    #@markdown Constraints\r\n",
        "    # add constraint that \"capital used <= capital available\"\r\n",
        "    constraints = ProjectSelectionModel.addConstr( \r\n",
        "        quicksum(fund_project[p]*projectData[\"Capital_Required\"][p] for p in allProjects) \r\n",
        "        <= initialCapital, name = \"Initial_capital_avail\" )\r\n",
        "\r\n",
        "    # return the model, the decision variables and the constraints\r\n",
        "    return ProjectSelectionModel,  fund_project, constraints"
      ],
      "execution_count": null,
      "outputs": []
    },
    {
      "cell_type": "code",
      "metadata": {
        "cellView": "form",
        "id": "t-2JutmA2SSp"
      },
      "source": [
        "#@title A function that prints a solution and some useful information\r\n",
        "def print_solution(fund_project):\r\n",
        "      # change the precision on pandas dataframes\r\n",
        "      pd.options.display.float_format = \"{:,.5f}\".format\r\n",
        "\r\n",
        "      # create a dataframe with the optimal decisions for each project\r\n",
        "      df_results = pd.DataFrame({\"Fund_Project?\" : \\\r\n",
        "                                [np.int(fund_project[p].X) for p in allProjects]}, \\\r\n",
        "                                index = allProjects)\r\n",
        "      display(df_results)\r\n",
        "\r\n",
        "      # impact by continent\r\n",
        "      print('\\n\\n{:<50}\\nImpact achieved on each continent:'.format(\"=\"*80))\r\n",
        "      for loc in allLocations:\r\n",
        "          print(\"   {:<15} : {:,.2f}\".format(loc, sum(projectData[\"Impact\"][p]*fund_project[p].X \\\r\n",
        "                                                      for p in allProjects if projectData[\"Location\"][p]==loc)) )"
      ],
      "execution_count": null,
      "outputs": []
    },
    {
      "cell_type": "markdown",
      "metadata": {
        "id": "4TE_yA_h6WVj"
      },
      "source": [
        "______\r\n",
        "# **Q2**\r\n",
        "Before running this section, make sure you have run all the previous sections of the Colab file."
      ]
    },
    {
      "cell_type": "markdown",
      "metadata": {
        "id": "8CbzVStt7ykl"
      },
      "source": [
        "Re-recreate an identical model to the one from **Q1** and store the model, the decision variables and the constraints."
      ]
    },
    {
      "cell_type": "code",
      "metadata": {
        "id": "BKvDyjWbFmyA"
      },
      "source": [
        "#@title Create a model like the one in Q1\r\n",
        "ProjectSelectionModel, fund_project, budget_constraint = \\\r\n",
        "       create_model_like_in_Q1()"
      ],
      "execution_count": null,
      "outputs": []
    },
    {
      "cell_type": "markdown",
      "metadata": {
        "id": "VpEPQpsA0xtv"
      },
      "source": [
        "Add a new decision variable **Z** to the model, meant to capture the minimum impact on either continent."
      ]
    },
    {
      "cell_type": "code",
      "metadata": {
        "id": "vGH5GBMc0xTM"
      },
      "source": [
        "#@title Add a new decision variable **Z**\r\n",
        "Z = ProjectSelectionModel.addVar(name=\"min_impact\")"
      ],
      "execution_count": null,
      "outputs": []
    },
    {
      "cell_type": "markdown",
      "metadata": {
        "id": "X2W4ol5C1FUT"
      },
      "source": [
        "Set the objective to maximize the new variable **Z**."
      ]
    },
    {
      "cell_type": "code",
      "metadata": {
        "id": "IaJuym3A1FCL"
      },
      "source": [
        "#@title Set the objective to maximize **Z**\r\n",
        "ProjectSelectionModel.setObjective(Z, GRB.MAXIMIZE)"
      ],
      "execution_count": null,
      "outputs": []
    },
    {
      "cell_type": "markdown",
      "metadata": {
        "id": "nLrrRn3WFsvB"
      },
      "source": [
        "Add constraints that **Z** should be less than or equal to the impact on each continent."
      ]
    },
    {
      "cell_type": "code",
      "metadata": {
        "id": "Pcxu8ojc6X8Y"
      },
      "source": [
        "#@title Add constraints that **Z** cannot exceed the impact on each continent\r\n",
        "for loc in allLocations:\r\n",
        "    ProjectSelectionModel.addConstr( Z <= quicksum(projectData[\"Impact\"][p]*fund_project[p] \\\r\n",
        "                                                for p in allProjects if projectData[\"Location\"][p]==loc))"
      ],
      "execution_count": null,
      "outputs": []
    },
    {
      "cell_type": "markdown",
      "metadata": {
        "id": "54vtBd9eGAA-"
      },
      "source": [
        "Solve the new model."
      ]
    },
    {
      "cell_type": "code",
      "metadata": {
        "colab": {
          "base_uri": "https://localhost:8080/"
        },
        "id": "v-yNNowxAALx",
        "outputId": "3612fb5a-a585-48a4-e21d-a142e100bdc8"
      },
      "source": [
        "#@title Solve the model \r\n",
        "#@markdown Select whether to run the [Gurobi](https://www.gurobi.com/) optimization algorithms silently (no output details)\r\n",
        "run_silently = True #@param {type:\"boolean\"}\r\n",
        "\r\n",
        "if run_silently:\r\n",
        "    ProjectSelectionModel.setParam('OutputFlag',0)\r\n",
        "else:\r\n",
        "    ProjectSelectionModel.setParam('OutputFlag',1)\r\n",
        "\r\n",
        "ProjectSelectionModel.optimize()\r\n",
        "print('\\nSolved the optimization problem...')"
      ],
      "execution_count": null,
      "outputs": [
        {
          "output_type": "stream",
          "text": [
            "\n",
            "Solved the optimization problem...\n"
          ],
          "name": "stdout"
        }
      ]
    },
    {
      "cell_type": "markdown",
      "metadata": {
        "id": "Mhl0ZttA3UB4"
      },
      "source": [
        "Print information about the solution."
      ]
    },
    {
      "cell_type": "code",
      "metadata": {
        "colab": {
          "base_uri": "https://localhost:8080/",
          "height": 481
        },
        "id": "eqKtvf6t2xwi",
        "outputId": "7f213d94-0058-4d1a-c4c6-46411d271aa8"
      },
      "source": [
        "#@markdown Print the solution\r\n",
        "# the objective in this problem\r\n",
        "print(\"The largest impact that can be simultaneously achieved on each continent: {}\".\\\r\n",
        "      format(ProjectSelectionModel.objVal))\r\n",
        "\r\n",
        "# other useful information about the solution\r\n",
        "print_solution(fund_project)"
      ],
      "execution_count": null,
      "outputs": [
        {
          "output_type": "stream",
          "text": [
            "The largest impact that can be simultaneously achieved on each continent: 5.0\n"
          ],
          "name": "stdout"
        },
        {
          "output_type": "display_data",
          "data": {
            "text/html": [
              "<div>\n",
              "<style scoped>\n",
              "    .dataframe tbody tr th:only-of-type {\n",
              "        vertical-align: middle;\n",
              "    }\n",
              "\n",
              "    .dataframe tbody tr th {\n",
              "        vertical-align: top;\n",
              "    }\n",
              "\n",
              "    .dataframe thead th {\n",
              "        text-align: right;\n",
              "    }\n",
              "</style>\n",
              "<table border=\"1\" class=\"dataframe\">\n",
              "  <thead>\n",
              "    <tr style=\"text-align: right;\">\n",
              "      <th></th>\n",
              "      <th>Fund_Project?</th>\n",
              "    </tr>\n",
              "  </thead>\n",
              "  <tbody>\n",
              "    <tr>\n",
              "      <th>A</th>\n",
              "      <td>1</td>\n",
              "    </tr>\n",
              "    <tr>\n",
              "      <th>B</th>\n",
              "      <td>0</td>\n",
              "    </tr>\n",
              "    <tr>\n",
              "      <th>C</th>\n",
              "      <td>0</td>\n",
              "    </tr>\n",
              "    <tr>\n",
              "      <th>D</th>\n",
              "      <td>1</td>\n",
              "    </tr>\n",
              "    <tr>\n",
              "      <th>E</th>\n",
              "      <td>0</td>\n",
              "    </tr>\n",
              "    <tr>\n",
              "      <th>F</th>\n",
              "      <td>0</td>\n",
              "    </tr>\n",
              "    <tr>\n",
              "      <th>G</th>\n",
              "      <td>1</td>\n",
              "    </tr>\n",
              "    <tr>\n",
              "      <th>H</th>\n",
              "      <td>0</td>\n",
              "    </tr>\n",
              "    <tr>\n",
              "      <th>I</th>\n",
              "      <td>1</td>\n",
              "    </tr>\n",
              "    <tr>\n",
              "      <th>J</th>\n",
              "      <td>1</td>\n",
              "    </tr>\n",
              "  </tbody>\n",
              "</table>\n",
              "</div>"
            ],
            "text/plain": [
              "   Fund_Project?\n",
              "A              1\n",
              "B              0\n",
              "C              0\n",
              "D              1\n",
              "E              0\n",
              "F              0\n",
              "G              1\n",
              "H              0\n",
              "I              1\n",
              "J              1"
            ]
          },
          "metadata": {
            "tags": []
          }
        },
        {
          "output_type": "stream",
          "text": [
            "\n",
            "\n",
            "================================================================================\n",
            "Impact achieved on each continent:\n",
            "   South America   : 10.00\n",
            "   Asia            : 8.00\n",
            "   Africa          : 5.00\n"
          ],
          "name": "stdout"
        }
      ]
    },
    {
      "cell_type": "markdown",
      "metadata": {
        "id": "plrXRa93K3Qf"
      },
      "source": [
        "Store the optimal value of the problem --- this is useful subsequently, e.g., in **Q3**."
      ]
    },
    {
      "cell_type": "code",
      "metadata": {
        "id": "ekMhtvSaK1Dq"
      },
      "source": [
        "#@markdown Store the optimal value for later use (in **Q3**)\r\n",
        "# store the optimal value\r\n",
        "opt_value_Q2 = ProjectSelectionModel.objVal"
      ],
      "execution_count": null,
      "outputs": []
    },
    {
      "cell_type": "markdown",
      "metadata": {
        "id": "1si55GY0LKeK"
      },
      "source": [
        "______\r\n",
        "# **Q3**\r\n",
        "Before running this section, make sure you have run all the previous sections of the Colab file."
      ]
    },
    {
      "cell_type": "markdown",
      "metadata": {
        "id": "Bswn6KyhLKef"
      },
      "source": [
        "Re-recreate an identical model to the one from **Q1** and store the model, the decision variables and the constraints."
      ]
    },
    {
      "cell_type": "code",
      "metadata": {
        "id": "6qS5qAd7LKef"
      },
      "source": [
        "#@title Create a model like the one in Q1\r\n",
        "ProjectSelectionModel, fund_project, budget_constraint = \\\r\n",
        "       create_model_like_in_Q1()"
      ],
      "execution_count": null,
      "outputs": []
    },
    {
      "cell_type": "markdown",
      "metadata": {
        "id": "OH7gADeVLKei"
      },
      "source": [
        "Add constraints that the impact in each location should be greater than or equal to the (optimal) minimum impact calculated in **Q2**."
      ]
    },
    {
      "cell_type": "code",
      "metadata": {
        "id": "2z69nefzLKei"
      },
      "source": [
        "#@title Add constraints that the impact on each continent is at least the minimum calculated in **Q2**\r\n",
        "for loc in allLocations:\r\n",
        "    ProjectSelectionModel.addConstr( quicksum(projectData[\"Impact\"][p]*fund_project[p] \\\r\n",
        "                                              for p in allProjects if projectData[\"Location\"][p]==loc) \\\r\n",
        "                                    >= opt_value_Q2)"
      ],
      "execution_count": null,
      "outputs": []
    },
    {
      "cell_type": "markdown",
      "metadata": {
        "id": "KU_X_dN_LKei"
      },
      "source": [
        "Solve the new model."
      ]
    },
    {
      "cell_type": "code",
      "metadata": {
        "colab": {
          "base_uri": "https://localhost:8080/"
        },
        "id": "50CVkrvBLKej",
        "outputId": "81a78acc-2e19-4989-e1c3-31b52f8ede8c"
      },
      "source": [
        "#@markdown Select whether to run the [Gurobi](https://www.gurobi.com/) optimization algorithms silently (no output details)\r\n",
        "run_silently = True #@param {type:\"boolean\"}\r\n",
        "\r\n",
        "if run_silently:\r\n",
        "    ProjectSelectionModel.setParam('OutputFlag',0)\r\n",
        "else:\r\n",
        "    ProjectSelectionModel.setParam('OutputFlag',1)\r\n",
        "\r\n",
        "ProjectSelectionModel.optimize()\r\n",
        "print('\\nSolved the optimization problem...')"
      ],
      "execution_count": null,
      "outputs": [
        {
          "output_type": "stream",
          "text": [
            "\n",
            "Solved the optimization problem...\n"
          ],
          "name": "stdout"
        }
      ]
    },
    {
      "cell_type": "markdown",
      "metadata": {
        "id": "ToV9iXieLKek"
      },
      "source": [
        "Print information about the solution."
      ]
    },
    {
      "cell_type": "code",
      "metadata": {
        "colab": {
          "base_uri": "https://localhost:8080/",
          "height": 481
        },
        "id": "l7Ze4-6wLKek",
        "outputId": "cd59e6ff-93f6-40c0-edb6-7a680d0870aa"
      },
      "source": [
        "#@markdown Print the solution\r\n",
        "# the objective in this problem\r\n",
        "print(\"The largest total cumulative impact that can be achieved while ensuring that each continent has impact of at least {} is : {}\".\\\r\n",
        "      format(opt_value_Q2, ProjectSelectionModel.objVal))\r\n",
        "\r\n",
        "# other useful information about the solution\r\n",
        "print_solution(fund_project)"
      ],
      "execution_count": null,
      "outputs": [
        {
          "output_type": "stream",
          "text": [
            "The largest total cumulative impact that can be achieved while ensuring that each continent has impact of at least 5.0 is : 23.0\n"
          ],
          "name": "stdout"
        },
        {
          "output_type": "display_data",
          "data": {
            "text/html": [
              "<div>\n",
              "<style scoped>\n",
              "    .dataframe tbody tr th:only-of-type {\n",
              "        vertical-align: middle;\n",
              "    }\n",
              "\n",
              "    .dataframe tbody tr th {\n",
              "        vertical-align: top;\n",
              "    }\n",
              "\n",
              "    .dataframe thead th {\n",
              "        text-align: right;\n",
              "    }\n",
              "</style>\n",
              "<table border=\"1\" class=\"dataframe\">\n",
              "  <thead>\n",
              "    <tr style=\"text-align: right;\">\n",
              "      <th></th>\n",
              "      <th>Fund_Project?</th>\n",
              "    </tr>\n",
              "  </thead>\n",
              "  <tbody>\n",
              "    <tr>\n",
              "      <th>A</th>\n",
              "      <td>1</td>\n",
              "    </tr>\n",
              "    <tr>\n",
              "      <th>B</th>\n",
              "      <td>0</td>\n",
              "    </tr>\n",
              "    <tr>\n",
              "      <th>C</th>\n",
              "      <td>0</td>\n",
              "    </tr>\n",
              "    <tr>\n",
              "      <th>D</th>\n",
              "      <td>0</td>\n",
              "    </tr>\n",
              "    <tr>\n",
              "      <th>E</th>\n",
              "      <td>0</td>\n",
              "    </tr>\n",
              "    <tr>\n",
              "      <th>F</th>\n",
              "      <td>1</td>\n",
              "    </tr>\n",
              "    <tr>\n",
              "      <th>G</th>\n",
              "      <td>1</td>\n",
              "    </tr>\n",
              "    <tr>\n",
              "      <th>H</th>\n",
              "      <td>0</td>\n",
              "    </tr>\n",
              "    <tr>\n",
              "      <th>I</th>\n",
              "      <td>1</td>\n",
              "    </tr>\n",
              "    <tr>\n",
              "      <th>J</th>\n",
              "      <td>1</td>\n",
              "    </tr>\n",
              "  </tbody>\n",
              "</table>\n",
              "</div>"
            ],
            "text/plain": [
              "   Fund_Project?\n",
              "A              1\n",
              "B              0\n",
              "C              0\n",
              "D              0\n",
              "E              0\n",
              "F              1\n",
              "G              1\n",
              "H              0\n",
              "I              1\n",
              "J              1"
            ]
          },
          "metadata": {
            "tags": []
          }
        },
        {
          "output_type": "stream",
          "text": [
            "\n",
            "\n",
            "================================================================================\n",
            "Impact achieved on each continent:\n",
            "   South America   : 10.00\n",
            "   Asia            : 8.00\n",
            "   Africa          : 5.00\n"
          ],
          "name": "stdout"
        }
      ]
    },
    {
      "cell_type": "markdown",
      "metadata": {
        "id": "LWl28nloMaBQ"
      },
      "source": [
        "______\r\n",
        "# **Q4**\r\n",
        "Before running this section, make sure you have run all the previous sections of the Colab file."
      ]
    },
    {
      "cell_type": "code",
      "metadata": {
        "id": "1qJiBl2QNX3h"
      },
      "source": [
        "#@markdown Store the max risk score in a parameter\r\n",
        "max_risk = 5.5"
      ],
      "execution_count": null,
      "outputs": []
    },
    {
      "cell_type": "markdown",
      "metadata": {
        "id": "BU3eauF5MaBR"
      },
      "source": [
        "Re-recreate an identical model to the one from **Q1** and store the model, the decision variables and the constraints."
      ]
    },
    {
      "cell_type": "code",
      "metadata": {
        "id": "7OB0ytqUMaBR"
      },
      "source": [
        "#@title Create a model like the one in Q1\r\n",
        "ProjectSelectionModel, fund_project, budget_constraint = \\\r\n",
        "       create_model_like_in_Q1()"
      ],
      "execution_count": null,
      "outputs": []
    },
    {
      "cell_type": "markdown",
      "metadata": {
        "id": "9dLFwkHiMaBS"
      },
      "source": [
        "Add a constraint that the average risk score should not exceed the maximum allowed risk. Note that this constraint is of the form\r\n",
        ">  $\\frac{\\sum_{p} R_p \\cdot X_p}{\\sum_p X_p} \\leq M$\r\n",
        "\r\n",
        "where $R_p$ is the risk score for project $p$, and $X_p \\in \\{0,1\\}$ is the binary variable indicating whether project $p$ is selected. This is a nonlinear constraint, but it can be re-formulated in a linear way as:\r\n",
        ">  $\\sum_{p} R_p \\cdot X_p \\leq M \\cdot \\sum_p X_p$\r\n",
        "\r\n",
        "We formulate it in this linear way below. (Formulating the first non-linear constraint above would result in an error from Gurobi.)"
      ]
    },
    {
      "cell_type": "code",
      "metadata": {
        "colab": {
          "base_uri": "https://localhost:8080/"
        },
        "id": "I6zEBDJVMaBS",
        "outputId": "f21866e0-ee85-46ab-c8d9-de00b7478b6d"
      },
      "source": [
        "#@title Add a constraint that the average risk does not exceed max allowed\r\n",
        "ProjectSelectionModel.addConstr( quicksum(projectData[\"Risks\"][p]*fund_project[p] \\\r\n",
        "                                          for p in allProjects) <= \\\r\n",
        "                                max_risk*quicksum(fund_project[p] for p in allProjects))"
      ],
      "execution_count": null,
      "outputs": [
        {
          "output_type": "execute_result",
          "data": {
            "text/plain": [
              "<gurobi.Constr *Awaiting Model Update*>"
            ]
          },
          "metadata": {
            "tags": []
          },
          "execution_count": 31
        }
      ]
    },
    {
      "cell_type": "markdown",
      "metadata": {
        "id": "wSIcWSnOMaBS"
      },
      "source": [
        "Solve the new model."
      ]
    },
    {
      "cell_type": "code",
      "metadata": {
        "colab": {
          "base_uri": "https://localhost:8080/"
        },
        "id": "rlsaKE3QMaBT",
        "outputId": "0f38b45f-ac90-48ac-eda5-317f365b43a4"
      },
      "source": [
        "#@markdown Select whether to run the [Gurobi](https://www.gurobi.com/) optimization algorithms silently (no output details)\r\n",
        "run_silently = True #@param {type:\"boolean\"}\r\n",
        "\r\n",
        "if run_silently:\r\n",
        "    ProjectSelectionModel.setParam('OutputFlag',0)\r\n",
        "else:\r\n",
        "    ProjectSelectionModel.setParam('OutputFlag',1)\r\n",
        "\r\n",
        "ProjectSelectionModel.optimize()\r\n",
        "print('\\nSolved the optimization problem...')"
      ],
      "execution_count": null,
      "outputs": [
        {
          "output_type": "stream",
          "text": [
            "\n",
            "Solved the optimization problem...\n"
          ],
          "name": "stdout"
        }
      ]
    },
    {
      "cell_type": "markdown",
      "metadata": {
        "id": "ydQTz6M6MaBU"
      },
      "source": [
        "Print information about the solution."
      ]
    },
    {
      "cell_type": "code",
      "metadata": {
        "colab": {
          "base_uri": "https://localhost:8080/",
          "height": 481
        },
        "id": "D0EcGmiyMaBU",
        "outputId": "d34833ca-e96f-4dfe-fdca-2f514c668f41"
      },
      "source": [
        "#@markdown Print the solution\r\n",
        "# the objective in this problem\r\n",
        "print(\"The largest total cumulative impact achieved without exceeding an average risk of {} is : {}\".\\\r\n",
        "      format(max_risk, ProjectSelectionModel.objVal))\r\n",
        "\r\n",
        "# other useful information about the solution\r\n",
        "print_solution(fund_project)"
      ],
      "execution_count": null,
      "outputs": [
        {
          "output_type": "stream",
          "text": [
            "The largest total cumulative impact achieved without exceeding an average risk of 5.5 is : 27.0\n"
          ],
          "name": "stdout"
        },
        {
          "output_type": "display_data",
          "data": {
            "text/html": [
              "<div>\n",
              "<style scoped>\n",
              "    .dataframe tbody tr th:only-of-type {\n",
              "        vertical-align: middle;\n",
              "    }\n",
              "\n",
              "    .dataframe tbody tr th {\n",
              "        vertical-align: top;\n",
              "    }\n",
              "\n",
              "    .dataframe thead th {\n",
              "        text-align: right;\n",
              "    }\n",
              "</style>\n",
              "<table border=\"1\" class=\"dataframe\">\n",
              "  <thead>\n",
              "    <tr style=\"text-align: right;\">\n",
              "      <th></th>\n",
              "      <th>Fund_Project?</th>\n",
              "    </tr>\n",
              "  </thead>\n",
              "  <tbody>\n",
              "    <tr>\n",
              "      <th>A</th>\n",
              "      <td>1</td>\n",
              "    </tr>\n",
              "    <tr>\n",
              "      <th>B</th>\n",
              "      <td>0</td>\n",
              "    </tr>\n",
              "    <tr>\n",
              "      <th>C</th>\n",
              "      <td>1</td>\n",
              "    </tr>\n",
              "    <tr>\n",
              "      <th>D</th>\n",
              "      <td>1</td>\n",
              "    </tr>\n",
              "    <tr>\n",
              "      <th>E</th>\n",
              "      <td>0</td>\n",
              "    </tr>\n",
              "    <tr>\n",
              "      <th>F</th>\n",
              "      <td>1</td>\n",
              "    </tr>\n",
              "    <tr>\n",
              "      <th>G</th>\n",
              "      <td>1</td>\n",
              "    </tr>\n",
              "    <tr>\n",
              "      <th>H</th>\n",
              "      <td>0</td>\n",
              "    </tr>\n",
              "    <tr>\n",
              "      <th>I</th>\n",
              "      <td>1</td>\n",
              "    </tr>\n",
              "    <tr>\n",
              "      <th>J</th>\n",
              "      <td>0</td>\n",
              "    </tr>\n",
              "  </tbody>\n",
              "</table>\n",
              "</div>"
            ],
            "text/plain": [
              "   Fund_Project?\n",
              "A              1\n",
              "B              0\n",
              "C              1\n",
              "D              1\n",
              "E              0\n",
              "F              1\n",
              "G              1\n",
              "H              0\n",
              "I              1\n",
              "J              0"
            ]
          },
          "metadata": {
            "tags": []
          }
        },
        {
          "output_type": "stream",
          "text": [
            "\n",
            "\n",
            "================================================================================\n",
            "Impact achieved on each continent:\n",
            "   South America   : 14.00\n",
            "   Asia            : 12.00\n",
            "   Africa          : 1.00\n"
          ],
          "name": "stdout"
        }
      ]
    },
    {
      "cell_type": "markdown",
      "metadata": {
        "id": "SlZDSxi1SD7_"
      },
      "source": [
        "______\r\n",
        "# **Q5**\r\n",
        "Before running this section, make sure you have run all the previous sections of the Colab file."
      ]
    },
    {
      "cell_type": "markdown",
      "metadata": {
        "id": "0vQOa7rkSD8S"
      },
      "source": [
        "Re-recreate an identical model to the one from **Q1** and store the model, the decision variables and the constraints."
      ]
    },
    {
      "cell_type": "code",
      "metadata": {
        "id": "rmMV5FDaSD8T"
      },
      "source": [
        "#@title Create a model like the one in Q1\r\n",
        "ProjectSelectionModel, fund_project, budget_constraint = \\\r\n",
        "       create_model_like_in_Q1()"
      ],
      "execution_count": null,
      "outputs": []
    },
    {
      "cell_type": "markdown",
      "metadata": {
        "id": "U0O76dBvT4Ki"
      },
      "source": [
        "Add a new set of decision variables for whether to schedule each project in a particular period. Here, we want to have one binary decision for every project and for every potential period, so we use `addVars` to define these."
      ]
    },
    {
      "cell_type": "code",
      "metadata": {
        "id": "OZTS3383UDls"
      },
      "source": [
        "#@title Add binary decision variables for whether to schedule the projects in a given period\r\n",
        "schedule_project = ProjectSelectionModel.addVars(allProjects, allPeriods, name=\"schedule\")"
      ],
      "execution_count": null,
      "outputs": []
    },
    {
      "cell_type": "markdown",
      "metadata": {
        "id": "NSmJ3ORZSD8V"
      },
      "source": [
        "Add constraints to connect the decisions on whether to fund projects with the decisions on whether to schedule projects. If we let $X_p$ denote the binary decision of whether to fund project $p$, and $Y_{p,t}$ the binary variable for whether project $p$ should be scheduled in period $t$, then the constraints we need to add here are:\r\n",
        "> $\\sum_{t=1}^T Y_{p,t} = X_p$,  for every project $p$.\r\n",
        "\r\n",
        "In other words, if $X_p=1$ (so project $p$ is funded), it must be scheduled in one of the periods, so the sum on the left must be equal to 1. If $X_p=0$, project $p$ is not funded and it should also not be scheduled."
      ]
    },
    {
      "cell_type": "code",
      "metadata": {
        "id": "q9Uxa-eHSD8W"
      },
      "source": [
        "#@title Constraints that a project must be scheduled if and only if it is funded.\r\n",
        "for p in allProjects:\r\n",
        "    ProjectSelectionModel.addConstr( fund_project[p] == \\\r\n",
        "                                    quicksum(schedule_project[p,t] for t in allPeriods))"
      ],
      "execution_count": null,
      "outputs": []
    },
    {
      "cell_type": "markdown",
      "metadata": {
        "id": "Iy1AxuFrVc-X"
      },
      "source": [
        "Add constraints on the available resources. For each resource, the usage should not exceed what is available."
      ]
    },
    {
      "cell_type": "code",
      "metadata": {
        "id": "6zld0Sn_VhsE"
      },
      "source": [
        "#@title Constraints on available resources\r\n",
        "for t in allPeriods:\r\n",
        "    for r in allResources:\r\n",
        "        ProjectSelectionModel.addConstr( quicksum(schedule_project[p,t]*projectData[r][p] \\\r\n",
        "                                                  for p in allProjects) <= \\\r\n",
        "                                        resourceData[t][r] )"
      ],
      "execution_count": null,
      "outputs": []
    },
    {
      "cell_type": "markdown",
      "metadata": {
        "id": "-nfa_GSiSD8W"
      },
      "source": [
        "Solve the new model."
      ]
    },
    {
      "cell_type": "code",
      "metadata": {
        "colab": {
          "base_uri": "https://localhost:8080/"
        },
        "id": "seyD_TIaSD8X",
        "outputId": "52fb7276-5457-4727-aa92-c9546e4805f7"
      },
      "source": [
        "#@markdown Select whether to run the [Gurobi](https://www.gurobi.com/) optimization algorithms silently (no output details)\r\n",
        "run_silently = True #@param {type:\"boolean\"}\r\n",
        "\r\n",
        "if run_silently:\r\n",
        "    ProjectSelectionModel.setParam('OutputFlag',0)\r\n",
        "else:\r\n",
        "    ProjectSelectionModel.setParam('OutputFlag',1)\r\n",
        "\r\n",
        "ProjectSelectionModel.optimize()\r\n",
        "print('\\nSolved the optimization problem...')"
      ],
      "execution_count": null,
      "outputs": [
        {
          "output_type": "stream",
          "text": [
            "\n",
            "Solved the optimization problem...\n"
          ],
          "name": "stdout"
        }
      ]
    },
    {
      "cell_type": "markdown",
      "metadata": {
        "id": "uZaw2blrSD8Y"
      },
      "source": [
        "Print information about the solution."
      ]
    },
    {
      "cell_type": "code",
      "metadata": {
        "colab": {
          "base_uri": "https://localhost:8080/",
          "height": 364
        },
        "id": "dnTEc4ewSD8Y",
        "outputId": "a8b2110e-58b8-4835-c545-beadc1e4202b"
      },
      "source": [
        "#@markdown Print the solution\r\n",
        "# the objective in this problem\r\n",
        "print(\"The largest impact that can be simultaneously achieved on each continent: {}\".\\\r\n",
        "      format(ProjectSelectionModel.objVal))\r\n",
        "\r\n",
        "# create a small dataframe to store the decisions to fund as well as the decisions to schedule\r\n",
        "dict = {\"Fund_Project\" : [np.int(fund_project[p].X) for p in allProjects]}\r\n",
        "for t in allPeriods:\r\n",
        "   dict[\"Schedule \"+t] = [np.int(schedule_project[p,t].X) for p in allProjects]\r\n",
        "\r\n",
        "all_decisions_Q5 = pd.DataFrame(dict, index=allProjects)\r\n",
        "\r\n",
        "# other useful information about the solution\r\n",
        "display(all_decisions_Q5)"
      ],
      "execution_count": null,
      "outputs": [
        {
          "output_type": "stream",
          "text": [
            "The largest impact that can be simultaneously achieved on each continent: 32.0\n"
          ],
          "name": "stdout"
        },
        {
          "output_type": "display_data",
          "data": {
            "text/html": [
              "<div>\n",
              "<style scoped>\n",
              "    .dataframe tbody tr th:only-of-type {\n",
              "        vertical-align: middle;\n",
              "    }\n",
              "\n",
              "    .dataframe tbody tr th {\n",
              "        vertical-align: top;\n",
              "    }\n",
              "\n",
              "    .dataframe thead th {\n",
              "        text-align: right;\n",
              "    }\n",
              "</style>\n",
              "<table border=\"1\" class=\"dataframe\">\n",
              "  <thead>\n",
              "    <tr style=\"text-align: right;\">\n",
              "      <th></th>\n",
              "      <th>Fund_Project</th>\n",
              "      <th>Schedule January-March</th>\n",
              "      <th>Schedule April-June</th>\n",
              "      <th>Schedule July-September</th>\n",
              "      <th>Schedule October-December</th>\n",
              "    </tr>\n",
              "  </thead>\n",
              "  <tbody>\n",
              "    <tr>\n",
              "      <th>A</th>\n",
              "      <td>1</td>\n",
              "      <td>0</td>\n",
              "      <td>0</td>\n",
              "      <td>0</td>\n",
              "      <td>0</td>\n",
              "    </tr>\n",
              "    <tr>\n",
              "      <th>B</th>\n",
              "      <td>1</td>\n",
              "      <td>0</td>\n",
              "      <td>0</td>\n",
              "      <td>0</td>\n",
              "      <td>0</td>\n",
              "    </tr>\n",
              "    <tr>\n",
              "      <th>C</th>\n",
              "      <td>1</td>\n",
              "      <td>0</td>\n",
              "      <td>0</td>\n",
              "      <td>0</td>\n",
              "      <td>0</td>\n",
              "    </tr>\n",
              "    <tr>\n",
              "      <th>D</th>\n",
              "      <td>0</td>\n",
              "      <td>0</td>\n",
              "      <td>0</td>\n",
              "      <td>0</td>\n",
              "      <td>0</td>\n",
              "    </tr>\n",
              "    <tr>\n",
              "      <th>E</th>\n",
              "      <td>1</td>\n",
              "      <td>0</td>\n",
              "      <td>0</td>\n",
              "      <td>0</td>\n",
              "      <td>0</td>\n",
              "    </tr>\n",
              "    <tr>\n",
              "      <th>F</th>\n",
              "      <td>0</td>\n",
              "      <td>0</td>\n",
              "      <td>0</td>\n",
              "      <td>0</td>\n",
              "      <td>0</td>\n",
              "    </tr>\n",
              "    <tr>\n",
              "      <th>G</th>\n",
              "      <td>0</td>\n",
              "      <td>0</td>\n",
              "      <td>0</td>\n",
              "      <td>0</td>\n",
              "      <td>0</td>\n",
              "    </tr>\n",
              "    <tr>\n",
              "      <th>H</th>\n",
              "      <td>0</td>\n",
              "      <td>0</td>\n",
              "      <td>0</td>\n",
              "      <td>0</td>\n",
              "      <td>0</td>\n",
              "    </tr>\n",
              "    <tr>\n",
              "      <th>I</th>\n",
              "      <td>1</td>\n",
              "      <td>0</td>\n",
              "      <td>1</td>\n",
              "      <td>0</td>\n",
              "      <td>0</td>\n",
              "    </tr>\n",
              "    <tr>\n",
              "      <th>J</th>\n",
              "      <td>0</td>\n",
              "      <td>0</td>\n",
              "      <td>0</td>\n",
              "      <td>0</td>\n",
              "      <td>0</td>\n",
              "    </tr>\n",
              "  </tbody>\n",
              "</table>\n",
              "</div>"
            ],
            "text/plain": [
              "   Fund_Project  ...  Schedule October-December\n",
              "A             1  ...                          0\n",
              "B             1  ...                          0\n",
              "C             1  ...                          0\n",
              "D             0  ...                          0\n",
              "E             1  ...                          0\n",
              "F             0  ...                          0\n",
              "G             0  ...                          0\n",
              "H             0  ...                          0\n",
              "I             1  ...                          0\n",
              "J             0  ...                          0\n",
              "\n",
              "[10 rows x 5 columns]"
            ]
          },
          "metadata": {
            "tags": []
          }
        }
      ]
    }
  ]
}