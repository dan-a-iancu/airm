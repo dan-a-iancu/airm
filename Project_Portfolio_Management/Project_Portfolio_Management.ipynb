{
  "nbformat": 4,
  "nbformat_minor": 0,
  "metadata": {
    "kernelspec": {
      "display_name": "Python 3",
      "language": "python",
      "name": "python3"
    },
    "language_info": {
      "codemirror_mode": {
        "name": "ipython",
        "version": 3
      },
      "file_extension": ".py",
      "mimetype": "text/x-python",
      "name": "python",
      "nbconvert_exporter": "python",
      "pygments_lexer": "ipython3",
      "version": "3.6.5"
    },
    "colab": {
      "name": "Project_Portfolio_Management.ipynb",
      "provenance": [],
      "collapsed_sections": [
        "dMLkUyKMj3PV",
        "3UvnyEhh5yN_",
        "qu1eJhBgB7aM",
        "1si55GY0LKeK"
      ],
      "toc_visible": true,
      "include_colab_link": true
    }
  },
  "cells": [
    {
      "cell_type": "markdown",
      "metadata": {
        "id": "view-in-github",
        "colab_type": "text"
      },
      "source": [
        "<a href=\"https://colab.research.google.com/github/dan-a-iancu/airm/blob/master/Project_Portfolio_Management/Project_Portfolio_Management.ipynb\" target=\"_parent\"><img src=\"https://colab.research.google.com/assets/colab-badge.svg\" alt=\"Open In Colab\"/></a>"
      ]
    },
    {
      "cell_type": "markdown",
      "metadata": {
        "id": "7VtkH-sn3oBT"
      },
      "source": [
        "This notebook implements the solution to the **Project Portfolio Management** mini-case. It assumes you are familiar with the case and the model."
      ]
    },
    {
      "cell_type": "markdown",
      "metadata": {
        "id": "vb4A3Z6sy5J_"
      },
      "source": [
        "____\n",
        "# Basic Setup\n",
        "\n",
        "Import useful modules, read the data and store it in data frames, and set up some useful Python lists. You may want to expand this section and make sure you understand how the data is organized, and also read the last part where the Python lists are created, as these may be very useful when you build your model."
      ]
    },
    {
      "cell_type": "code",
      "metadata": {
        "colab": {
          "base_uri": "https://localhost:8080/"
        },
        "id": "WcFPypqhXbcv",
        "cellView": "form",
        "outputId": "ed20183f-b8c8-4032-9a5d-a45ff1815f6c"
      },
      "source": [
        "#@markdown We first import some useful modules. \n",
        "\n",
        "# Python ≥3.5 is required\n",
        "import sys\n",
        "assert sys.version_info >= (3, 5)\n",
        "\n",
        "# import numpy\n",
        "import numpy as np\n",
        "import urllib.request  # for file downloading\n",
        "\n",
        "# Import pandas for data-frames\n",
        "import pandas as pd\n",
        "pd.options.display.max_rows = 15\n",
        "pd.options.display.float_format = \"{:,.2f}\".format\n",
        "\n",
        "from IPython.display import display\n",
        "\n",
        "# Make sure Matplotlib runs inline, for nice figures\n",
        "%matplotlib inline\n",
        "import matplotlib as mpl\n",
        "import matplotlib.pyplot as plt\n",
        "mpl.rc('axes', labelsize=14)\n",
        "mpl.rc('xtick', labelsize=12)\n",
        "mpl.rc('ytick', labelsize=12)\n",
        "import matplotlib.ticker as ticker \n",
        "\n",
        "# install Gurobi (our linear optimization solver)\n",
        "!pip install -i https://pypi.gurobi.com gurobipy\n",
        "from gurobipy import *\n",
        "\n",
        "# some modules to create local directories for CBC (to avoid issues with solving multiple models)\n",
        "import os\n",
        "def new_local_directory(name):\n",
        "    full_path = os.path.join(\".\", name)\n",
        "    os.makedirs(full_path, exist_ok=True)\n",
        "    return full_path\n",
        "\n",
        "# install the latest version of seaborn for nicer graphics\n",
        "#!pip install --prefix {sys.prefix} seaborn==0.11.0  &> /dev/null\n",
        "import seaborn as sns\n",
        "\n",
        "# Ignore useless some warnings\n",
        "import warnings\n",
        "warnings.simplefilter(action=\"ignore\")\n",
        "\n",
        "print(\"Completed successfully!\")"
      ],
      "execution_count": 1,
      "outputs": [
        {
          "output_type": "stream",
          "name": "stdout",
          "text": [
            "Looking in indexes: https://pypi.gurobi.com\n",
            "Requirement already satisfied: gurobipy in /usr/local/lib/python3.7/dist-packages (9.5.1)\n",
            "Completed successfully!\n"
          ]
        }
      ]
    },
    {
      "cell_type": "markdown",
      "metadata": {
        "id": "Aqf-EBXAAgn1"
      },
      "source": [
        "## Load the case data into Pandas data frames"
      ]
    },
    {
      "cell_type": "markdown",
      "metadata": {
        "id": "17bUiOG3EYfu"
      },
      "source": [
        "We first download an Excel file with all the data from Github."
      ]
    },
    {
      "cell_type": "code",
      "metadata": {
        "colab": {
          "base_uri": "https://localhost:8080/"
        },
        "id": "oO9JJFpMEX8K",
        "outputId": "278206c4-53f5-4f3f-ad15-2f9afb535680",
        "cellView": "form"
      },
      "source": [
        "#@markdown Download the entire data as an Excel file from Github\n",
        "\n",
        "url_Excel = 'https://github.com/dan-a-iancu/airm/blob/master/Project_Portfolio_Management/Project_Data.xlsx?raw=true'\n",
        "local_file = \"Portfolio_Project_Data.xlsx\"   # name of local file where you want to store the downloaded file\n",
        "urllib.request.urlretrieve(url_Excel, local_file)    # download from website and save it locally"
      ],
      "execution_count": 2,
      "outputs": [
        {
          "output_type": "execute_result",
          "data": {
            "text/plain": [
              "('Portfolio_Project_Data.xlsx', <http.client.HTTPMessage at 0x7ff242d287d0>)"
            ]
          },
          "metadata": {},
          "execution_count": 2
        }
      ]
    },
    {
      "cell_type": "markdown",
      "metadata": {
        "id": "nb7NvPyuyoGh"
      },
      "source": [
        "Read in and store the data in suitable dataframes."
      ]
    },
    {
      "cell_type": "code",
      "metadata": {
        "colab": {
          "base_uri": "https://localhost:8080/",
          "height": 394
        },
        "id": "EUxSwrdEyJDs",
        "outputId": "e5fdb869-919a-4ccf-8bbf-09a8b391d37a",
        "cellView": "form"
      },
      "source": [
        "#@markdown Create a dataframe with the information on projects\n",
        "\n",
        "# Read in the information about the available projects\n",
        "projectData = pd.read_excel(\"Portfolio_Project_Data.xlsx\", sheet_name = \"Projects\", index_col = 0)\n",
        "\n",
        "# Have a look:\n",
        "display(projectData)\n"
      ],
      "execution_count": 3,
      "outputs": [
        {
          "output_type": "display_data",
          "data": {
            "text/plain": [
              "         Capital_Required       Location  Impact  Risks  Engineers  \\\n",
              "Project                                                              \n",
              "A                    4015  South America      10     10         15   \n",
              "B                    3623  South America       7     10          5   \n",
              "C                    3847  South America       4      7         10   \n",
              "D                    4058           Asia       4      4          5   \n",
              "E                   11182           Asia      10      7         10   \n",
              "F                    4858           Asia       4      4          5   \n",
              "G                    5379           Asia       4      4          5   \n",
              "H                   16203         Africa      10      7          5   \n",
              "I                    1839         Africa       1      4          2   \n",
              "J                    8298         Africa       4      1          3   \n",
              "\n",
              "         Field_Workers  Support  \n",
              "Project                          \n",
              "A                   80       15  \n",
              "B                   35       15  \n",
              "C                   30       10  \n",
              "D                   35        4  \n",
              "E                   50        5  \n",
              "F                   45        5  \n",
              "G                   40        5  \n",
              "H                  100       15  \n",
              "I                   70       10  \n",
              "J                   40        5  "
            ],
            "text/html": [
              "\n",
              "  <div id=\"df-cc9d761a-a0fa-43fe-8ca2-c867a8ebf537\">\n",
              "    <div class=\"colab-df-container\">\n",
              "      <div>\n",
              "<style scoped>\n",
              "    .dataframe tbody tr th:only-of-type {\n",
              "        vertical-align: middle;\n",
              "    }\n",
              "\n",
              "    .dataframe tbody tr th {\n",
              "        vertical-align: top;\n",
              "    }\n",
              "\n",
              "    .dataframe thead th {\n",
              "        text-align: right;\n",
              "    }\n",
              "</style>\n",
              "<table border=\"1\" class=\"dataframe\">\n",
              "  <thead>\n",
              "    <tr style=\"text-align: right;\">\n",
              "      <th></th>\n",
              "      <th>Capital_Required</th>\n",
              "      <th>Location</th>\n",
              "      <th>Impact</th>\n",
              "      <th>Risks</th>\n",
              "      <th>Engineers</th>\n",
              "      <th>Field_Workers</th>\n",
              "      <th>Support</th>\n",
              "    </tr>\n",
              "    <tr>\n",
              "      <th>Project</th>\n",
              "      <th></th>\n",
              "      <th></th>\n",
              "      <th></th>\n",
              "      <th></th>\n",
              "      <th></th>\n",
              "      <th></th>\n",
              "      <th></th>\n",
              "    </tr>\n",
              "  </thead>\n",
              "  <tbody>\n",
              "    <tr>\n",
              "      <th>A</th>\n",
              "      <td>4015</td>\n",
              "      <td>South America</td>\n",
              "      <td>10</td>\n",
              "      <td>10</td>\n",
              "      <td>15</td>\n",
              "      <td>80</td>\n",
              "      <td>15</td>\n",
              "    </tr>\n",
              "    <tr>\n",
              "      <th>B</th>\n",
              "      <td>3623</td>\n",
              "      <td>South America</td>\n",
              "      <td>7</td>\n",
              "      <td>10</td>\n",
              "      <td>5</td>\n",
              "      <td>35</td>\n",
              "      <td>15</td>\n",
              "    </tr>\n",
              "    <tr>\n",
              "      <th>C</th>\n",
              "      <td>3847</td>\n",
              "      <td>South America</td>\n",
              "      <td>4</td>\n",
              "      <td>7</td>\n",
              "      <td>10</td>\n",
              "      <td>30</td>\n",
              "      <td>10</td>\n",
              "    </tr>\n",
              "    <tr>\n",
              "      <th>D</th>\n",
              "      <td>4058</td>\n",
              "      <td>Asia</td>\n",
              "      <td>4</td>\n",
              "      <td>4</td>\n",
              "      <td>5</td>\n",
              "      <td>35</td>\n",
              "      <td>4</td>\n",
              "    </tr>\n",
              "    <tr>\n",
              "      <th>E</th>\n",
              "      <td>11182</td>\n",
              "      <td>Asia</td>\n",
              "      <td>10</td>\n",
              "      <td>7</td>\n",
              "      <td>10</td>\n",
              "      <td>50</td>\n",
              "      <td>5</td>\n",
              "    </tr>\n",
              "    <tr>\n",
              "      <th>F</th>\n",
              "      <td>4858</td>\n",
              "      <td>Asia</td>\n",
              "      <td>4</td>\n",
              "      <td>4</td>\n",
              "      <td>5</td>\n",
              "      <td>45</td>\n",
              "      <td>5</td>\n",
              "    </tr>\n",
              "    <tr>\n",
              "      <th>G</th>\n",
              "      <td>5379</td>\n",
              "      <td>Asia</td>\n",
              "      <td>4</td>\n",
              "      <td>4</td>\n",
              "      <td>5</td>\n",
              "      <td>40</td>\n",
              "      <td>5</td>\n",
              "    </tr>\n",
              "    <tr>\n",
              "      <th>H</th>\n",
              "      <td>16203</td>\n",
              "      <td>Africa</td>\n",
              "      <td>10</td>\n",
              "      <td>7</td>\n",
              "      <td>5</td>\n",
              "      <td>100</td>\n",
              "      <td>15</td>\n",
              "    </tr>\n",
              "    <tr>\n",
              "      <th>I</th>\n",
              "      <td>1839</td>\n",
              "      <td>Africa</td>\n",
              "      <td>1</td>\n",
              "      <td>4</td>\n",
              "      <td>2</td>\n",
              "      <td>70</td>\n",
              "      <td>10</td>\n",
              "    </tr>\n",
              "    <tr>\n",
              "      <th>J</th>\n",
              "      <td>8298</td>\n",
              "      <td>Africa</td>\n",
              "      <td>4</td>\n",
              "      <td>1</td>\n",
              "      <td>3</td>\n",
              "      <td>40</td>\n",
              "      <td>5</td>\n",
              "    </tr>\n",
              "  </tbody>\n",
              "</table>\n",
              "</div>\n",
              "      <button class=\"colab-df-convert\" onclick=\"convertToInteractive('df-cc9d761a-a0fa-43fe-8ca2-c867a8ebf537')\"\n",
              "              title=\"Convert this dataframe to an interactive table.\"\n",
              "              style=\"display:none;\">\n",
              "        \n",
              "  <svg xmlns=\"http://www.w3.org/2000/svg\" height=\"24px\"viewBox=\"0 0 24 24\"\n",
              "       width=\"24px\">\n",
              "    <path d=\"M0 0h24v24H0V0z\" fill=\"none\"/>\n",
              "    <path d=\"M18.56 5.44l.94 2.06.94-2.06 2.06-.94-2.06-.94-.94-2.06-.94 2.06-2.06.94zm-11 1L8.5 8.5l.94-2.06 2.06-.94-2.06-.94L8.5 2.5l-.94 2.06-2.06.94zm10 10l.94 2.06.94-2.06 2.06-.94-2.06-.94-.94-2.06-.94 2.06-2.06.94z\"/><path d=\"M17.41 7.96l-1.37-1.37c-.4-.4-.92-.59-1.43-.59-.52 0-1.04.2-1.43.59L10.3 9.45l-7.72 7.72c-.78.78-.78 2.05 0 2.83L4 21.41c.39.39.9.59 1.41.59.51 0 1.02-.2 1.41-.59l7.78-7.78 2.81-2.81c.8-.78.8-2.07 0-2.86zM5.41 20L4 18.59l7.72-7.72 1.47 1.35L5.41 20z\"/>\n",
              "  </svg>\n",
              "      </button>\n",
              "      \n",
              "  <style>\n",
              "    .colab-df-container {\n",
              "      display:flex;\n",
              "      flex-wrap:wrap;\n",
              "      gap: 12px;\n",
              "    }\n",
              "\n",
              "    .colab-df-convert {\n",
              "      background-color: #E8F0FE;\n",
              "      border: none;\n",
              "      border-radius: 50%;\n",
              "      cursor: pointer;\n",
              "      display: none;\n",
              "      fill: #1967D2;\n",
              "      height: 32px;\n",
              "      padding: 0 0 0 0;\n",
              "      width: 32px;\n",
              "    }\n",
              "\n",
              "    .colab-df-convert:hover {\n",
              "      background-color: #E2EBFA;\n",
              "      box-shadow: 0px 1px 2px rgba(60, 64, 67, 0.3), 0px 1px 3px 1px rgba(60, 64, 67, 0.15);\n",
              "      fill: #174EA6;\n",
              "    }\n",
              "\n",
              "    [theme=dark] .colab-df-convert {\n",
              "      background-color: #3B4455;\n",
              "      fill: #D2E3FC;\n",
              "    }\n",
              "\n",
              "    [theme=dark] .colab-df-convert:hover {\n",
              "      background-color: #434B5C;\n",
              "      box-shadow: 0px 1px 3px 1px rgba(0, 0, 0, 0.15);\n",
              "      filter: drop-shadow(0px 1px 2px rgba(0, 0, 0, 0.3));\n",
              "      fill: #FFFFFF;\n",
              "    }\n",
              "  </style>\n",
              "\n",
              "      <script>\n",
              "        const buttonEl =\n",
              "          document.querySelector('#df-cc9d761a-a0fa-43fe-8ca2-c867a8ebf537 button.colab-df-convert');\n",
              "        buttonEl.style.display =\n",
              "          google.colab.kernel.accessAllowed ? 'block' : 'none';\n",
              "\n",
              "        async function convertToInteractive(key) {\n",
              "          const element = document.querySelector('#df-cc9d761a-a0fa-43fe-8ca2-c867a8ebf537');\n",
              "          const dataTable =\n",
              "            await google.colab.kernel.invokeFunction('convertToInteractive',\n",
              "                                                     [key], {});\n",
              "          if (!dataTable) return;\n",
              "\n",
              "          const docLinkHtml = 'Like what you see? Visit the ' +\n",
              "            '<a target=\"_blank\" href=https://colab.research.google.com/notebooks/data_table.ipynb>data table notebook</a>'\n",
              "            + ' to learn more about interactive tables.';\n",
              "          element.innerHTML = '';\n",
              "          dataTable['output_type'] = 'display_data';\n",
              "          await google.colab.output.renderOutput(dataTable, element);\n",
              "          const docLink = document.createElement('div');\n",
              "          docLink.innerHTML = docLinkHtml;\n",
              "          element.appendChild(docLink);\n",
              "        }\n",
              "      </script>\n",
              "    </div>\n",
              "  </div>\n",
              "  "
            ]
          },
          "metadata": {}
        }
      ]
    },
    {
      "cell_type": "code",
      "metadata": {
        "colab": {
          "base_uri": "https://localhost:8080/",
          "height": 143
        },
        "id": "kXWS_YKrSl05",
        "outputId": "739e309b-5653-4a9f-f651-be40be5e1dc6",
        "cellView": "form"
      },
      "source": [
        "#@markdown Create a dataframe with the information on available resources (this is useful in **Q5**)\n",
        "\n",
        "# Read in the information about the available projects\n",
        "resourceData = pd.read_excel(\"Portfolio_Project_Data.xlsx\", sheet_name = \"Resources\", index_col = 0)\n",
        "\n",
        "# Have a look:\n",
        "display(resourceData)"
      ],
      "execution_count": 4,
      "outputs": [
        {
          "output_type": "display_data",
          "data": {
            "text/plain": [
              "               January-March  April-June  July-September  October-December\n",
              "Engineers                 20          20              12                20\n",
              "Field_Workers            120         150             150               120\n",
              "Support                   50          40              40                50"
            ],
            "text/html": [
              "\n",
              "  <div id=\"df-04f96e52-9b35-47e7-b53a-8123508b7e50\">\n",
              "    <div class=\"colab-df-container\">\n",
              "      <div>\n",
              "<style scoped>\n",
              "    .dataframe tbody tr th:only-of-type {\n",
              "        vertical-align: middle;\n",
              "    }\n",
              "\n",
              "    .dataframe tbody tr th {\n",
              "        vertical-align: top;\n",
              "    }\n",
              "\n",
              "    .dataframe thead th {\n",
              "        text-align: right;\n",
              "    }\n",
              "</style>\n",
              "<table border=\"1\" class=\"dataframe\">\n",
              "  <thead>\n",
              "    <tr style=\"text-align: right;\">\n",
              "      <th></th>\n",
              "      <th>January-March</th>\n",
              "      <th>April-June</th>\n",
              "      <th>July-September</th>\n",
              "      <th>October-December</th>\n",
              "    </tr>\n",
              "  </thead>\n",
              "  <tbody>\n",
              "    <tr>\n",
              "      <th>Engineers</th>\n",
              "      <td>20</td>\n",
              "      <td>20</td>\n",
              "      <td>12</td>\n",
              "      <td>20</td>\n",
              "    </tr>\n",
              "    <tr>\n",
              "      <th>Field_Workers</th>\n",
              "      <td>120</td>\n",
              "      <td>150</td>\n",
              "      <td>150</td>\n",
              "      <td>120</td>\n",
              "    </tr>\n",
              "    <tr>\n",
              "      <th>Support</th>\n",
              "      <td>50</td>\n",
              "      <td>40</td>\n",
              "      <td>40</td>\n",
              "      <td>50</td>\n",
              "    </tr>\n",
              "  </tbody>\n",
              "</table>\n",
              "</div>\n",
              "      <button class=\"colab-df-convert\" onclick=\"convertToInteractive('df-04f96e52-9b35-47e7-b53a-8123508b7e50')\"\n",
              "              title=\"Convert this dataframe to an interactive table.\"\n",
              "              style=\"display:none;\">\n",
              "        \n",
              "  <svg xmlns=\"http://www.w3.org/2000/svg\" height=\"24px\"viewBox=\"0 0 24 24\"\n",
              "       width=\"24px\">\n",
              "    <path d=\"M0 0h24v24H0V0z\" fill=\"none\"/>\n",
              "    <path d=\"M18.56 5.44l.94 2.06.94-2.06 2.06-.94-2.06-.94-.94-2.06-.94 2.06-2.06.94zm-11 1L8.5 8.5l.94-2.06 2.06-.94-2.06-.94L8.5 2.5l-.94 2.06-2.06.94zm10 10l.94 2.06.94-2.06 2.06-.94-2.06-.94-.94-2.06-.94 2.06-2.06.94z\"/><path d=\"M17.41 7.96l-1.37-1.37c-.4-.4-.92-.59-1.43-.59-.52 0-1.04.2-1.43.59L10.3 9.45l-7.72 7.72c-.78.78-.78 2.05 0 2.83L4 21.41c.39.39.9.59 1.41.59.51 0 1.02-.2 1.41-.59l7.78-7.78 2.81-2.81c.8-.78.8-2.07 0-2.86zM5.41 20L4 18.59l7.72-7.72 1.47 1.35L5.41 20z\"/>\n",
              "  </svg>\n",
              "      </button>\n",
              "      \n",
              "  <style>\n",
              "    .colab-df-container {\n",
              "      display:flex;\n",
              "      flex-wrap:wrap;\n",
              "      gap: 12px;\n",
              "    }\n",
              "\n",
              "    .colab-df-convert {\n",
              "      background-color: #E8F0FE;\n",
              "      border: none;\n",
              "      border-radius: 50%;\n",
              "      cursor: pointer;\n",
              "      display: none;\n",
              "      fill: #1967D2;\n",
              "      height: 32px;\n",
              "      padding: 0 0 0 0;\n",
              "      width: 32px;\n",
              "    }\n",
              "\n",
              "    .colab-df-convert:hover {\n",
              "      background-color: #E2EBFA;\n",
              "      box-shadow: 0px 1px 2px rgba(60, 64, 67, 0.3), 0px 1px 3px 1px rgba(60, 64, 67, 0.15);\n",
              "      fill: #174EA6;\n",
              "    }\n",
              "\n",
              "    [theme=dark] .colab-df-convert {\n",
              "      background-color: #3B4455;\n",
              "      fill: #D2E3FC;\n",
              "    }\n",
              "\n",
              "    [theme=dark] .colab-df-convert:hover {\n",
              "      background-color: #434B5C;\n",
              "      box-shadow: 0px 1px 3px 1px rgba(0, 0, 0, 0.15);\n",
              "      filter: drop-shadow(0px 1px 2px rgba(0, 0, 0, 0.3));\n",
              "      fill: #FFFFFF;\n",
              "    }\n",
              "  </style>\n",
              "\n",
              "      <script>\n",
              "        const buttonEl =\n",
              "          document.querySelector('#df-04f96e52-9b35-47e7-b53a-8123508b7e50 button.colab-df-convert');\n",
              "        buttonEl.style.display =\n",
              "          google.colab.kernel.accessAllowed ? 'block' : 'none';\n",
              "\n",
              "        async function convertToInteractive(key) {\n",
              "          const element = document.querySelector('#df-04f96e52-9b35-47e7-b53a-8123508b7e50');\n",
              "          const dataTable =\n",
              "            await google.colab.kernel.invokeFunction('convertToInteractive',\n",
              "                                                     [key], {});\n",
              "          if (!dataTable) return;\n",
              "\n",
              "          const docLinkHtml = 'Like what you see? Visit the ' +\n",
              "            '<a target=\"_blank\" href=https://colab.research.google.com/notebooks/data_table.ipynb>data table notebook</a>'\n",
              "            + ' to learn more about interactive tables.';\n",
              "          element.innerHTML = '';\n",
              "          dataTable['output_type'] = 'display_data';\n",
              "          await google.colab.output.renderOutput(dataTable, element);\n",
              "          const docLink = document.createElement('div');\n",
              "          docLink.innerHTML = docLinkHtml;\n",
              "          element.appendChild(docLink);\n",
              "        }\n",
              "      </script>\n",
              "    </div>\n",
              "  </div>\n",
              "  "
            ]
          },
          "metadata": {}
        }
      ]
    },
    {
      "cell_type": "markdown",
      "metadata": {
        "id": "XRdz0phvd9Z1"
      },
      "source": [
        "Also set up any other problem data/parameters, such as the initial capital available."
      ]
    },
    {
      "cell_type": "code",
      "metadata": {
        "id": "Tx8pnOVOd6_u"
      },
      "source": [
        "initialCapital = 25000"
      ],
      "execution_count": 5,
      "outputs": []
    },
    {
      "cell_type": "markdown",
      "metadata": {
        "id": "8yhR3xIVyJ13"
      },
      "source": [
        "## Create Python lists based on the data-frames\n",
        "\n",
        "__NOTE__: Make sure you understand what the __lists__ created here are! These will be very helpful when creating the model."
      ]
    },
    {
      "cell_type": "code",
      "metadata": {
        "id": "oi5sktA8j3PF",
        "colab": {
          "base_uri": "https://localhost:8080/"
        },
        "outputId": "958373d7-1924-4eb5-b240-0027fab86393",
        "cellView": "form"
      },
      "source": [
        "#@markdown Some useful lists for building all the models\n",
        "\n",
        "# the list with project names (A,B, ...)\n",
        "allProjects = list(projectData.index)\n",
        "print(\"This is the list of all the project names:\")\n",
        "print(allProjects)\n",
        "\n",
        "# the unique locations / continents\n",
        "allLocations = list(projectData[\"Location\"].unique())\n",
        "print(\"\\nThis is the list of unique locations:\")\n",
        "print(allLocations)"
      ],
      "execution_count": 6,
      "outputs": [
        {
          "output_type": "stream",
          "name": "stdout",
          "text": [
            "This is the list of all the project names:\n",
            "['A', 'B', 'C', 'D', 'E', 'F', 'G', 'H', 'I', 'J']\n",
            "\n",
            "This is the list of unique locations:\n",
            "['South America', 'Asia', 'Africa']\n"
          ]
        }
      ]
    },
    {
      "cell_type": "code",
      "metadata": {
        "colab": {
          "base_uri": "https://localhost:8080/"
        },
        "id": "FP9z_8hAS25M",
        "outputId": "9fdb06c8-6542-4f36-da5c-0d99b7381317",
        "cellView": "form"
      },
      "source": [
        "#@markdown The following lists will be useful in **Q5**\n",
        "\n",
        "# the list with periods when the projects could be scheduled\n",
        "allPeriods = list(resourceData.columns)\n",
        "print(\"These are periods when the projects could be scheduled:\")\n",
        "print(allPeriods)\n",
        "\n",
        "# the types of resources needed\n",
        "allResources = list(resourceData.index)\n",
        "print(\"\\nThese are the unique resources needed to execute the projects:\")\n",
        "print(allResources)"
      ],
      "execution_count": 7,
      "outputs": [
        {
          "output_type": "stream",
          "name": "stdout",
          "text": [
            "These are periods when the projects could be scheduled:\n",
            "['January-March', 'April-June', 'July-September', 'October-December']\n",
            "\n",
            "These are the unique resources needed to execute the projects:\n",
            "['Engineers', 'Field_Workers', 'Support']\n"
          ]
        }
      ]
    },
    {
      "cell_type": "markdown",
      "metadata": {
        "id": "z1Fz9Viqj3Oz"
      },
      "source": [
        "_____\n",
        "# **Q1**"
      ]
    },
    {
      "cell_type": "markdown",
      "metadata": {
        "id": "QbmO9_Taj3PH"
      },
      "source": [
        "**Create an empty model**"
      ]
    },
    {
      "cell_type": "code",
      "metadata": {
        "scrolled": true,
        "id": "PuwdY_79j3PI",
        "colab": {
          "base_uri": "https://localhost:8080/"
        },
        "outputId": "16dfd5fa-13a0-40fe-b02a-e7683b4a6acf",
        "cellView": "form"
      },
      "source": [
        "#@title Create the model\n",
        "ProjectSelectionModel = Model(\"Funding Projects\")"
      ],
      "execution_count": 8,
      "outputs": [
        {
          "output_type": "stream",
          "name": "stdout",
          "text": [
            "Restricted license - for non-production use only - expires 2023-10-25\n"
          ]
        }
      ]
    },
    {
      "cell_type": "markdown",
      "metadata": {
        "id": "Q2T_Zf2nj3PI"
      },
      "source": [
        "**Define the Decision Variables**<br>\n",
        "We have a **binary** decision for whether to select each project or not. We can add one such variable for each project using Gurobi's ``addVars`` method. Note that  specify the **type** of the decision using `vtype`."
      ]
    },
    {
      "cell_type": "code",
      "metadata": {
        "id": "BU14XQ9zj3PL",
        "cellView": "form"
      },
      "source": [
        "#@title Add the decision variables\n",
        "fund_project = ProjectSelectionModel.addVars(allProjects, vtype = GRB.BINARY, name=\"Fund\")"
      ],
      "execution_count": 9,
      "outputs": []
    },
    {
      "cell_type": "markdown",
      "metadata": {
        "id": "dMLkUyKMj3PV"
      },
      "source": [
        "**Calculate and add the objective function**\n",
        "The objective corresponds to the total impact achieved on all the continents."
      ]
    },
    {
      "cell_type": "code",
      "metadata": {
        "id": "JmgtMKfaj3PW",
        "cellView": "form"
      },
      "source": [
        "#@title Add the objective\n",
        "ProjectSelectionModel.setObjective( \n",
        "    quicksum(fund_project[p]*projectData[\"Impact\"][p] for p in allProjects), GRB.MAXIMIZE )"
      ],
      "execution_count": 10,
      "outputs": []
    },
    {
      "cell_type": "markdown",
      "metadata": {
        "id": "z9kO1tqvj3Pc"
      },
      "source": [
        "**Add the Constraints**\n",
        "\n",
        "The only constraint here is that the capital used should not exceed the initial capital available."
      ]
    },
    {
      "cell_type": "code",
      "metadata": {
        "id": "NMVLe80qj3Pd",
        "colab": {
          "base_uri": "https://localhost:8080/"
        },
        "outputId": "f5506588-bd28-47fb-b292-d6ef1519bbdb",
        "cellView": "form"
      },
      "source": [
        "#@title Add the constraints\n",
        "# we only have one constraint, that \"capital used <= capital available\"\n",
        "ProjectSelectionModel.addConstr( \n",
        "    quicksum(fund_project[p]*projectData[\"Capital_Required\"][p] for p in allProjects) \n",
        "    <= initialCapital, name = \"Initial_capital_avail\" )"
      ],
      "execution_count": 11,
      "outputs": [
        {
          "output_type": "execute_result",
          "data": {
            "text/plain": [
              "<gurobi.Constr *Awaiting Model Update*>"
            ]
          },
          "metadata": {},
          "execution_count": 11
        }
      ]
    },
    {
      "cell_type": "markdown",
      "metadata": {
        "id": "IjtI8X9dj3Pl"
      },
      "source": [
        "**Solve the model**"
      ]
    },
    {
      "cell_type": "code",
      "metadata": {
        "scrolled": true,
        "id": "OqPDbVEFj3Pm",
        "colab": {
          "base_uri": "https://localhost:8080/"
        },
        "cellView": "form",
        "outputId": "9cc50363-86e0-485d-a583-2a06584c4cc6"
      },
      "source": [
        "#@markdown Select whether to run the [Gurobi](https://www.gurobi.com/) optimization algorithms silently (no output details)\n",
        "run_silently = False #@param {type:\"boolean\"}\n",
        "\n",
        "if run_silently:\n",
        "    ProjectSelectionModel.setParam('OutputFlag',0)\n",
        "else:\n",
        "    ProjectSelectionModel.setParam('OutputFlag',1)\n",
        "\n",
        "ProjectSelectionModel.optimize()\n",
        "print('\\nSolved the optimization problem...')"
      ],
      "execution_count": 12,
      "outputs": [
        {
          "output_type": "stream",
          "name": "stdout",
          "text": [
            "Gurobi Optimizer version 9.5.1 build v9.5.1rc2 (linux64)\n",
            "Thread count: 1 physical cores, 2 logical processors, using up to 2 threads\n",
            "Optimize a model with 1 rows, 10 columns and 10 nonzeros\n",
            "Model fingerprint: 0x33bf829d\n",
            "Variable types: 0 continuous, 10 integer (10 binary)\n",
            "Coefficient statistics:\n",
            "  Matrix range     [2e+03, 2e+04]\n",
            "  Objective range  [1e+00, 1e+01]\n",
            "  Bounds range     [1e+00, 1e+00]\n",
            "  RHS range        [2e+04, 2e+04]\n",
            "Found heuristic solution: objective 30.0000000\n",
            "Presolve removed 1 rows and 10 columns\n",
            "Presolve time: 0.00s\n",
            "Presolve: All rows and columns removed\n",
            "\n",
            "Explored 0 nodes (0 simplex iterations) in 0.03 seconds (0.00 work units)\n",
            "Thread count was 1 (of 2 available processors)\n",
            "\n",
            "Solution count 2: 32 30 \n",
            "\n",
            "Optimal solution found (tolerance 1.00e-04)\n",
            "Best objective 3.200000000000e+01, best bound 3.200000000000e+01, gap 0.0000%\n",
            "\n",
            "Solved the optimization problem...\n"
          ]
        }
      ]
    },
    {
      "cell_type": "markdown",
      "metadata": {
        "id": "3UvnyEhh5yN_"
      },
      "source": [
        "**Print the optimal objective and optimal solution**"
      ]
    },
    {
      "cell_type": "code",
      "metadata": {
        "scrolled": false,
        "id": "z0ONlW2Aj3Pp",
        "colab": {
          "base_uri": "https://localhost:8080/"
        },
        "cellView": "form",
        "outputId": "a7a47e13-083e-4460-f133-1c418c156886"
      },
      "source": [
        "#@title Print the solution\n",
        "print(\"Projects Funded: \")\n",
        "for p in allProjects:\n",
        "    if fund_project[p].X == 1:\n",
        "        print(\"Project \",p)\n",
        "\n",
        "print(\"Optimal total impact: {:.2f}\".format(ProjectSelectionModel.objVal))"
      ],
      "execution_count": 13,
      "outputs": [
        {
          "output_type": "stream",
          "name": "stdout",
          "text": [
            "Projects Funded: \n",
            "Project  A\n",
            "Project  B\n",
            "Project  C\n",
            "Project  E\n",
            "Project  I\n",
            "Optimal total impact: 32.00\n"
          ]
        }
      ]
    },
    {
      "cell_type": "markdown",
      "metadata": {
        "id": "mDejwNc_fIni"
      },
      "source": [
        "**Calculate and print some additional information about the solution**\n",
        "\n",
        "We calculate the \"bang-for-the-buck\" for each project, and display it together with the solution as a dataframe. We also calculate the impact achieved on each continent."
      ]
    },
    {
      "cell_type": "code",
      "metadata": {
        "scrolled": false,
        "id": "oc7GHRAuj3Ps",
        "colab": {
          "base_uri": "https://localhost:8080/",
          "height": 488
        },
        "cellView": "form",
        "outputId": "4cd1db11-c10d-4e16-866a-a4b040b3a81a"
      },
      "source": [
        "#@markdown Calculate and print additional information\n",
        "\n",
        "# change the precision on pandas dataframes\n",
        "pd.options.display.float_format = \"{:,.5f}\".format\n",
        "\n",
        "# create a dataframe with the optimal decisions for each project\n",
        "df_results = pd.DataFrame({\"Fund_Project?\" : \\\n",
        "                           [np.int(fund_project[p].X) for p in allProjects], \\\n",
        "                            \"Bang-for-buck\" : \\\n",
        "                           [ projectData[\"Impact\"][p]/projectData[\"Capital_Required\"][p] for p in allProjects]}, \\\n",
        "                          index = allProjects)\n",
        "display(df_results)\n",
        "\n",
        "# impact by continent\n",
        "print('\\n\\n{:<50}\\nImpact achieved on each continent:'.format(\"=\"*80))\n",
        "for loc in allLocations:\n",
        "    print(\"   {:<15} : {:,.2f}\".format(loc, sum(projectData[\"Impact\"][p]*fund_project[p].X \\\n",
        "                                                for p in allProjects if projectData[\"Location\"][p]==loc)) )"
      ],
      "execution_count": 14,
      "outputs": [
        {
          "output_type": "display_data",
          "data": {
            "text/plain": [
              "   Fund_Project?  Bang-for-buck\n",
              "A              1        0.00249\n",
              "B              1        0.00193\n",
              "C              1        0.00104\n",
              "D              0        0.00099\n",
              "E              1        0.00089\n",
              "F              0        0.00082\n",
              "G              0        0.00074\n",
              "H              0        0.00062\n",
              "I              1        0.00054\n",
              "J              0        0.00048"
            ],
            "text/html": [
              "\n",
              "  <div id=\"df-dcfcaabd-9505-4fdd-8618-f9134c129d1e\">\n",
              "    <div class=\"colab-df-container\">\n",
              "      <div>\n",
              "<style scoped>\n",
              "    .dataframe tbody tr th:only-of-type {\n",
              "        vertical-align: middle;\n",
              "    }\n",
              "\n",
              "    .dataframe tbody tr th {\n",
              "        vertical-align: top;\n",
              "    }\n",
              "\n",
              "    .dataframe thead th {\n",
              "        text-align: right;\n",
              "    }\n",
              "</style>\n",
              "<table border=\"1\" class=\"dataframe\">\n",
              "  <thead>\n",
              "    <tr style=\"text-align: right;\">\n",
              "      <th></th>\n",
              "      <th>Fund_Project?</th>\n",
              "      <th>Bang-for-buck</th>\n",
              "    </tr>\n",
              "  </thead>\n",
              "  <tbody>\n",
              "    <tr>\n",
              "      <th>A</th>\n",
              "      <td>1</td>\n",
              "      <td>0.00249</td>\n",
              "    </tr>\n",
              "    <tr>\n",
              "      <th>B</th>\n",
              "      <td>1</td>\n",
              "      <td>0.00193</td>\n",
              "    </tr>\n",
              "    <tr>\n",
              "      <th>C</th>\n",
              "      <td>1</td>\n",
              "      <td>0.00104</td>\n",
              "    </tr>\n",
              "    <tr>\n",
              "      <th>D</th>\n",
              "      <td>0</td>\n",
              "      <td>0.00099</td>\n",
              "    </tr>\n",
              "    <tr>\n",
              "      <th>E</th>\n",
              "      <td>1</td>\n",
              "      <td>0.00089</td>\n",
              "    </tr>\n",
              "    <tr>\n",
              "      <th>F</th>\n",
              "      <td>0</td>\n",
              "      <td>0.00082</td>\n",
              "    </tr>\n",
              "    <tr>\n",
              "      <th>G</th>\n",
              "      <td>0</td>\n",
              "      <td>0.00074</td>\n",
              "    </tr>\n",
              "    <tr>\n",
              "      <th>H</th>\n",
              "      <td>0</td>\n",
              "      <td>0.00062</td>\n",
              "    </tr>\n",
              "    <tr>\n",
              "      <th>I</th>\n",
              "      <td>1</td>\n",
              "      <td>0.00054</td>\n",
              "    </tr>\n",
              "    <tr>\n",
              "      <th>J</th>\n",
              "      <td>0</td>\n",
              "      <td>0.00048</td>\n",
              "    </tr>\n",
              "  </tbody>\n",
              "</table>\n",
              "</div>\n",
              "      <button class=\"colab-df-convert\" onclick=\"convertToInteractive('df-dcfcaabd-9505-4fdd-8618-f9134c129d1e')\"\n",
              "              title=\"Convert this dataframe to an interactive table.\"\n",
              "              style=\"display:none;\">\n",
              "        \n",
              "  <svg xmlns=\"http://www.w3.org/2000/svg\" height=\"24px\"viewBox=\"0 0 24 24\"\n",
              "       width=\"24px\">\n",
              "    <path d=\"M0 0h24v24H0V0z\" fill=\"none\"/>\n",
              "    <path d=\"M18.56 5.44l.94 2.06.94-2.06 2.06-.94-2.06-.94-.94-2.06-.94 2.06-2.06.94zm-11 1L8.5 8.5l.94-2.06 2.06-.94-2.06-.94L8.5 2.5l-.94 2.06-2.06.94zm10 10l.94 2.06.94-2.06 2.06-.94-2.06-.94-.94-2.06-.94 2.06-2.06.94z\"/><path d=\"M17.41 7.96l-1.37-1.37c-.4-.4-.92-.59-1.43-.59-.52 0-1.04.2-1.43.59L10.3 9.45l-7.72 7.72c-.78.78-.78 2.05 0 2.83L4 21.41c.39.39.9.59 1.41.59.51 0 1.02-.2 1.41-.59l7.78-7.78 2.81-2.81c.8-.78.8-2.07 0-2.86zM5.41 20L4 18.59l7.72-7.72 1.47 1.35L5.41 20z\"/>\n",
              "  </svg>\n",
              "      </button>\n",
              "      \n",
              "  <style>\n",
              "    .colab-df-container {\n",
              "      display:flex;\n",
              "      flex-wrap:wrap;\n",
              "      gap: 12px;\n",
              "    }\n",
              "\n",
              "    .colab-df-convert {\n",
              "      background-color: #E8F0FE;\n",
              "      border: none;\n",
              "      border-radius: 50%;\n",
              "      cursor: pointer;\n",
              "      display: none;\n",
              "      fill: #1967D2;\n",
              "      height: 32px;\n",
              "      padding: 0 0 0 0;\n",
              "      width: 32px;\n",
              "    }\n",
              "\n",
              "    .colab-df-convert:hover {\n",
              "      background-color: #E2EBFA;\n",
              "      box-shadow: 0px 1px 2px rgba(60, 64, 67, 0.3), 0px 1px 3px 1px rgba(60, 64, 67, 0.15);\n",
              "      fill: #174EA6;\n",
              "    }\n",
              "\n",
              "    [theme=dark] .colab-df-convert {\n",
              "      background-color: #3B4455;\n",
              "      fill: #D2E3FC;\n",
              "    }\n",
              "\n",
              "    [theme=dark] .colab-df-convert:hover {\n",
              "      background-color: #434B5C;\n",
              "      box-shadow: 0px 1px 3px 1px rgba(0, 0, 0, 0.15);\n",
              "      filter: drop-shadow(0px 1px 2px rgba(0, 0, 0, 0.3));\n",
              "      fill: #FFFFFF;\n",
              "    }\n",
              "  </style>\n",
              "\n",
              "      <script>\n",
              "        const buttonEl =\n",
              "          document.querySelector('#df-dcfcaabd-9505-4fdd-8618-f9134c129d1e button.colab-df-convert');\n",
              "        buttonEl.style.display =\n",
              "          google.colab.kernel.accessAllowed ? 'block' : 'none';\n",
              "\n",
              "        async function convertToInteractive(key) {\n",
              "          const element = document.querySelector('#df-dcfcaabd-9505-4fdd-8618-f9134c129d1e');\n",
              "          const dataTable =\n",
              "            await google.colab.kernel.invokeFunction('convertToInteractive',\n",
              "                                                     [key], {});\n",
              "          if (!dataTable) return;\n",
              "\n",
              "          const docLinkHtml = 'Like what you see? Visit the ' +\n",
              "            '<a target=\"_blank\" href=https://colab.research.google.com/notebooks/data_table.ipynb>data table notebook</a>'\n",
              "            + ' to learn more about interactive tables.';\n",
              "          element.innerHTML = '';\n",
              "          dataTable['output_type'] = 'display_data';\n",
              "          await google.colab.output.renderOutput(dataTable, element);\n",
              "          const docLink = document.createElement('div');\n",
              "          docLink.innerHTML = docLinkHtml;\n",
              "          element.appendChild(docLink);\n",
              "        }\n",
              "      </script>\n",
              "    </div>\n",
              "  </div>\n",
              "  "
            ]
          },
          "metadata": {}
        },
        {
          "output_type": "stream",
          "name": "stdout",
          "text": [
            "\n",
            "\n",
            "================================================================================\n",
            "Impact achieved on each continent:\n",
            "   South America   : 21.00\n",
            "   Asia            : 10.00\n",
            "   Africa          : 1.00\n"
          ]
        }
      ]
    },
    {
      "cell_type": "markdown",
      "metadata": {
        "id": "JB6siv6V6fjE"
      },
      "source": [
        "Store the optimal impact obtained in **Q1**."
      ]
    },
    {
      "cell_type": "code",
      "metadata": {
        "id": "em3DFFjU6c-u"
      },
      "source": [
        "impact_Q1 = ProjectSelectionModel.objVal  # optimal value Q1"
      ],
      "execution_count": 15,
      "outputs": []
    },
    {
      "cell_type": "markdown",
      "metadata": {
        "id": "qu1eJhBgB7aM"
      },
      "source": [
        "## Create a few useful functions\n",
        "\n",
        "To help with subsequent parts of the problem, we also add all the steps above inside a **function** that creates and returns a generic model like the one we created in **Q1**, together with all the decision variables and constraints."
      ]
    },
    {
      "cell_type": "code",
      "metadata": {
        "id": "FR_fXXdaCmob",
        "cellView": "form"
      },
      "source": [
        "#@title A function that generates a model like the one in **Q1**\n",
        "def create_model_like_in_Q1():\n",
        "    # create the model\n",
        "    ProjectSelectionModel = Model(\"Funding Projects\")\n",
        "\n",
        "    #@markdown Decision variables\n",
        "    # one binary decision for each project\n",
        "    fund_project = ProjectSelectionModel.addVars(allProjects, vtype = GRB.BINARY, name=\"Fund\")\n",
        "\n",
        "    #@markdown Objective\n",
        "    # calculate the net impact objective and add it to the model\n",
        "    ProjectSelectionModel.setObjective( \n",
        "      quicksum(fund_project[p]*projectData[\"Impact\"][p] for p in allProjects), GRB.MAXIMIZE )\n",
        "\n",
        "    #@markdown Constraints\n",
        "    # add constraint that \"capital used <= capital available\"\n",
        "    constraints = ProjectSelectionModel.addConstr( \n",
        "        quicksum(fund_project[p]*projectData[\"Capital_Required\"][p] for p in allProjects) \n",
        "        <= initialCapital, name = \"Initial_capital_avail\" )\n",
        "\n",
        "    # return the model, the decision variables and the constraints\n",
        "    return ProjectSelectionModel,  fund_project, constraints"
      ],
      "execution_count": 16,
      "outputs": []
    },
    {
      "cell_type": "code",
      "metadata": {
        "cellView": "form",
        "id": "t-2JutmA2SSp"
      },
      "source": [
        "#@title A function that prints a solution and some useful information\n",
        "def print_solution(fund_project):\n",
        "      # change the precision on pandas dataframes\n",
        "      pd.options.display.float_format = \"{:,.5f}\".format\n",
        "\n",
        "      # create a dataframe with the optimal decisions for each project\n",
        "      df_results = pd.DataFrame({\"Fund_Project?\" : \\\n",
        "                                [np.int(fund_project[p].X) for p in allProjects]}, \\\n",
        "                                index = allProjects)\n",
        "      display(df_results)\n",
        "\n",
        "      # impact by continent\n",
        "      print('\\n\\n{:<50}\\nImpact achieved on each continent:'.format(\"=\"*80))\n",
        "      for loc in allLocations:\n",
        "          print(\"   {:<15} : {:,.2f}\".format(loc, sum(projectData[\"Impact\"][p]*fund_project[p].X \\\n",
        "                                                      for p in allProjects if projectData[\"Location\"][p]==loc)) )"
      ],
      "execution_count": 17,
      "outputs": []
    },
    {
      "cell_type": "markdown",
      "metadata": {
        "id": "4TE_yA_h6WVj"
      },
      "source": [
        "______\n",
        "# **Q2**\n",
        "Before running this section, make sure you have run all the previous sections of the Colab file."
      ]
    },
    {
      "cell_type": "markdown",
      "metadata": {
        "id": "8CbzVStt7ykl"
      },
      "source": [
        "Re-recreate an identical model to the one from **Q1** and store the model, the decision variables and the constraints."
      ]
    },
    {
      "cell_type": "code",
      "metadata": {
        "id": "BKvDyjWbFmyA",
        "cellView": "form"
      },
      "source": [
        "#@title Create a model like the one in Q1\n",
        "ProjectSelectionModel, fund_project, budget_constraint = \\\n",
        "       create_model_like_in_Q1()"
      ],
      "execution_count": 18,
      "outputs": []
    },
    {
      "cell_type": "markdown",
      "metadata": {
        "id": "VpEPQpsA0xtv"
      },
      "source": [
        "Add a new decision variable **Z** to the model, meant to capture the minimum impact on either continent."
      ]
    },
    {
      "cell_type": "code",
      "metadata": {
        "id": "vGH5GBMc0xTM",
        "cellView": "form"
      },
      "source": [
        "#@title Add a new decision variable **Z**\n",
        "Z = ProjectSelectionModel.addVar(name=\"min_impact\")"
      ],
      "execution_count": 19,
      "outputs": []
    },
    {
      "cell_type": "markdown",
      "metadata": {
        "id": "X2W4ol5C1FUT"
      },
      "source": [
        "Set the objective to maximize the new variable **Z**."
      ]
    },
    {
      "cell_type": "code",
      "metadata": {
        "id": "IaJuym3A1FCL",
        "cellView": "form"
      },
      "source": [
        "#@title Set the objective to maximize **Z**\n",
        "ProjectSelectionModel.setObjective(Z, GRB.MAXIMIZE)"
      ],
      "execution_count": 20,
      "outputs": []
    },
    {
      "cell_type": "markdown",
      "metadata": {
        "id": "nLrrRn3WFsvB"
      },
      "source": [
        "Add constraints that **Z** should be less than or equal to the impact on each continent."
      ]
    },
    {
      "cell_type": "code",
      "metadata": {
        "id": "Pcxu8ojc6X8Y",
        "cellView": "form"
      },
      "source": [
        "#@title Add constraints that **Z** cannot exceed the impact on each continent\n",
        "for loc in allLocations:\n",
        "    ProjectSelectionModel.addConstr( Z <= quicksum(projectData[\"Impact\"][p]*fund_project[p] \\\n",
        "                                                for p in allProjects if projectData[\"Location\"][p]==loc))"
      ],
      "execution_count": 21,
      "outputs": []
    },
    {
      "cell_type": "markdown",
      "metadata": {
        "id": "54vtBd9eGAA-"
      },
      "source": [
        "Solve the new model."
      ]
    },
    {
      "cell_type": "code",
      "metadata": {
        "colab": {
          "base_uri": "https://localhost:8080/"
        },
        "id": "v-yNNowxAALx",
        "outputId": "0ecd9315-447d-4428-c2a5-e28d6315230b",
        "cellView": "form"
      },
      "source": [
        "#@title Solve the model \n",
        "#@markdown Select whether to run the [Gurobi](https://www.gurobi.com/) optimization algorithms silently (no output details)\n",
        "run_silently = True #@param {type:\"boolean\"}\n",
        "\n",
        "if run_silently:\n",
        "    ProjectSelectionModel.setParam('OutputFlag',0)\n",
        "else:\n",
        "    ProjectSelectionModel.setParam('OutputFlag',1)\n",
        "\n",
        "ProjectSelectionModel.optimize()\n",
        "print('\\nSolved the optimization problem...')"
      ],
      "execution_count": 22,
      "outputs": [
        {
          "output_type": "stream",
          "name": "stdout",
          "text": [
            "\n",
            "Solved the optimization problem...\n"
          ]
        }
      ]
    },
    {
      "cell_type": "markdown",
      "metadata": {
        "id": "Mhl0ZttA3UB4"
      },
      "source": [
        "Print information about the solution."
      ]
    },
    {
      "cell_type": "code",
      "metadata": {
        "colab": {
          "base_uri": "https://localhost:8080/",
          "height": 0
        },
        "id": "eqKtvf6t2xwi",
        "outputId": "fe3a8e81-3107-4f51-be17-49a1764d1086",
        "cellView": "form"
      },
      "source": [
        "#@markdown Print the solution\n",
        "# the objective in this problem\n",
        "print(\"The largest impact that can be simultaneously achieved on each continent: {}\".\\\n",
        "      format(ProjectSelectionModel.objVal))\n",
        "\n",
        "# other useful information about the solution\n",
        "print_solution(fund_project)"
      ],
      "execution_count": 23,
      "outputs": [
        {
          "output_type": "stream",
          "name": "stdout",
          "text": [
            "The largest impact that can be simultaneously achieved on each continent: 5.0\n"
          ]
        },
        {
          "output_type": "display_data",
          "data": {
            "text/plain": [
              "   Fund_Project?\n",
              "A              1\n",
              "B              0\n",
              "C              0\n",
              "D              1\n",
              "E              0\n",
              "F              0\n",
              "G              1\n",
              "H              0\n",
              "I              1\n",
              "J              1"
            ],
            "text/html": [
              "\n",
              "  <div id=\"df-c56f512a-9f50-4e19-80f9-56bca3ccc0dd\">\n",
              "    <div class=\"colab-df-container\">\n",
              "      <div>\n",
              "<style scoped>\n",
              "    .dataframe tbody tr th:only-of-type {\n",
              "        vertical-align: middle;\n",
              "    }\n",
              "\n",
              "    .dataframe tbody tr th {\n",
              "        vertical-align: top;\n",
              "    }\n",
              "\n",
              "    .dataframe thead th {\n",
              "        text-align: right;\n",
              "    }\n",
              "</style>\n",
              "<table border=\"1\" class=\"dataframe\">\n",
              "  <thead>\n",
              "    <tr style=\"text-align: right;\">\n",
              "      <th></th>\n",
              "      <th>Fund_Project?</th>\n",
              "    </tr>\n",
              "  </thead>\n",
              "  <tbody>\n",
              "    <tr>\n",
              "      <th>A</th>\n",
              "      <td>1</td>\n",
              "    </tr>\n",
              "    <tr>\n",
              "      <th>B</th>\n",
              "      <td>0</td>\n",
              "    </tr>\n",
              "    <tr>\n",
              "      <th>C</th>\n",
              "      <td>0</td>\n",
              "    </tr>\n",
              "    <tr>\n",
              "      <th>D</th>\n",
              "      <td>1</td>\n",
              "    </tr>\n",
              "    <tr>\n",
              "      <th>E</th>\n",
              "      <td>0</td>\n",
              "    </tr>\n",
              "    <tr>\n",
              "      <th>F</th>\n",
              "      <td>0</td>\n",
              "    </tr>\n",
              "    <tr>\n",
              "      <th>G</th>\n",
              "      <td>1</td>\n",
              "    </tr>\n",
              "    <tr>\n",
              "      <th>H</th>\n",
              "      <td>0</td>\n",
              "    </tr>\n",
              "    <tr>\n",
              "      <th>I</th>\n",
              "      <td>1</td>\n",
              "    </tr>\n",
              "    <tr>\n",
              "      <th>J</th>\n",
              "      <td>1</td>\n",
              "    </tr>\n",
              "  </tbody>\n",
              "</table>\n",
              "</div>\n",
              "      <button class=\"colab-df-convert\" onclick=\"convertToInteractive('df-c56f512a-9f50-4e19-80f9-56bca3ccc0dd')\"\n",
              "              title=\"Convert this dataframe to an interactive table.\"\n",
              "              style=\"display:none;\">\n",
              "        \n",
              "  <svg xmlns=\"http://www.w3.org/2000/svg\" height=\"24px\"viewBox=\"0 0 24 24\"\n",
              "       width=\"24px\">\n",
              "    <path d=\"M0 0h24v24H0V0z\" fill=\"none\"/>\n",
              "    <path d=\"M18.56 5.44l.94 2.06.94-2.06 2.06-.94-2.06-.94-.94-2.06-.94 2.06-2.06.94zm-11 1L8.5 8.5l.94-2.06 2.06-.94-2.06-.94L8.5 2.5l-.94 2.06-2.06.94zm10 10l.94 2.06.94-2.06 2.06-.94-2.06-.94-.94-2.06-.94 2.06-2.06.94z\"/><path d=\"M17.41 7.96l-1.37-1.37c-.4-.4-.92-.59-1.43-.59-.52 0-1.04.2-1.43.59L10.3 9.45l-7.72 7.72c-.78.78-.78 2.05 0 2.83L4 21.41c.39.39.9.59 1.41.59.51 0 1.02-.2 1.41-.59l7.78-7.78 2.81-2.81c.8-.78.8-2.07 0-2.86zM5.41 20L4 18.59l7.72-7.72 1.47 1.35L5.41 20z\"/>\n",
              "  </svg>\n",
              "      </button>\n",
              "      \n",
              "  <style>\n",
              "    .colab-df-container {\n",
              "      display:flex;\n",
              "      flex-wrap:wrap;\n",
              "      gap: 12px;\n",
              "    }\n",
              "\n",
              "    .colab-df-convert {\n",
              "      background-color: #E8F0FE;\n",
              "      border: none;\n",
              "      border-radius: 50%;\n",
              "      cursor: pointer;\n",
              "      display: none;\n",
              "      fill: #1967D2;\n",
              "      height: 32px;\n",
              "      padding: 0 0 0 0;\n",
              "      width: 32px;\n",
              "    }\n",
              "\n",
              "    .colab-df-convert:hover {\n",
              "      background-color: #E2EBFA;\n",
              "      box-shadow: 0px 1px 2px rgba(60, 64, 67, 0.3), 0px 1px 3px 1px rgba(60, 64, 67, 0.15);\n",
              "      fill: #174EA6;\n",
              "    }\n",
              "\n",
              "    [theme=dark] .colab-df-convert {\n",
              "      background-color: #3B4455;\n",
              "      fill: #D2E3FC;\n",
              "    }\n",
              "\n",
              "    [theme=dark] .colab-df-convert:hover {\n",
              "      background-color: #434B5C;\n",
              "      box-shadow: 0px 1px 3px 1px rgba(0, 0, 0, 0.15);\n",
              "      filter: drop-shadow(0px 1px 2px rgba(0, 0, 0, 0.3));\n",
              "      fill: #FFFFFF;\n",
              "    }\n",
              "  </style>\n",
              "\n",
              "      <script>\n",
              "        const buttonEl =\n",
              "          document.querySelector('#df-c56f512a-9f50-4e19-80f9-56bca3ccc0dd button.colab-df-convert');\n",
              "        buttonEl.style.display =\n",
              "          google.colab.kernel.accessAllowed ? 'block' : 'none';\n",
              "\n",
              "        async function convertToInteractive(key) {\n",
              "          const element = document.querySelector('#df-c56f512a-9f50-4e19-80f9-56bca3ccc0dd');\n",
              "          const dataTable =\n",
              "            await google.colab.kernel.invokeFunction('convertToInteractive',\n",
              "                                                     [key], {});\n",
              "          if (!dataTable) return;\n",
              "\n",
              "          const docLinkHtml = 'Like what you see? Visit the ' +\n",
              "            '<a target=\"_blank\" href=https://colab.research.google.com/notebooks/data_table.ipynb>data table notebook</a>'\n",
              "            + ' to learn more about interactive tables.';\n",
              "          element.innerHTML = '';\n",
              "          dataTable['output_type'] = 'display_data';\n",
              "          await google.colab.output.renderOutput(dataTable, element);\n",
              "          const docLink = document.createElement('div');\n",
              "          docLink.innerHTML = docLinkHtml;\n",
              "          element.appendChild(docLink);\n",
              "        }\n",
              "      </script>\n",
              "    </div>\n",
              "  </div>\n",
              "  "
            ]
          },
          "metadata": {}
        },
        {
          "output_type": "stream",
          "name": "stdout",
          "text": [
            "\n",
            "\n",
            "================================================================================\n",
            "Impact achieved on each continent:\n",
            "   South America   : 10.00\n",
            "   Asia            : 8.00\n",
            "   Africa          : 5.00\n"
          ]
        }
      ]
    },
    {
      "cell_type": "markdown",
      "metadata": {
        "id": "plrXRa93K3Qf"
      },
      "source": [
        "Store the optimal value of the problem --- this is useful subsequently, e.g., in **Q3**."
      ]
    },
    {
      "cell_type": "code",
      "metadata": {
        "id": "ekMhtvSaK1Dq",
        "cellView": "form"
      },
      "source": [
        "#@markdown Store the optimal value for later use (in **Q3**)\n",
        "# store the optimal value\n",
        "opt_value_Q2 = ProjectSelectionModel.objVal"
      ],
      "execution_count": 24,
      "outputs": []
    },
    {
      "cell_type": "markdown",
      "metadata": {
        "id": "1si55GY0LKeK"
      },
      "source": [
        "______\n",
        "# **Q3**\n",
        "Before running this section, make sure you have run all the previous sections of the Colab file."
      ]
    },
    {
      "cell_type": "markdown",
      "metadata": {
        "id": "Bswn6KyhLKef"
      },
      "source": [
        "Re-recreate an identical model to the one from **Q1** and store the model, the decision variables and the constraints."
      ]
    },
    {
      "cell_type": "code",
      "metadata": {
        "id": "6qS5qAd7LKef",
        "cellView": "form"
      },
      "source": [
        "#@title Create a model like the one in Q1\n",
        "ProjectSelectionModel, fund_project, budget_constraint = \\\n",
        "       create_model_like_in_Q1()"
      ],
      "execution_count": 25,
      "outputs": []
    },
    {
      "cell_type": "markdown",
      "metadata": {
        "id": "OH7gADeVLKei"
      },
      "source": [
        "Add constraints that the impact in each location should be greater than or equal to the (optimal) minimum impact calculated in **Q2**."
      ]
    },
    {
      "cell_type": "code",
      "metadata": {
        "id": "2z69nefzLKei",
        "cellView": "form"
      },
      "source": [
        "#@title Add constraints that the impact on each continent is at least the minimum calculated in **Q2**\n",
        "for loc in allLocations:\n",
        "    ProjectSelectionModel.addConstr( quicksum(projectData[\"Impact\"][p]*fund_project[p] \\\n",
        "                                              for p in allProjects if projectData[\"Location\"][p]==loc) \\\n",
        "                                    >= opt_value_Q2)"
      ],
      "execution_count": 26,
      "outputs": []
    },
    {
      "cell_type": "markdown",
      "metadata": {
        "id": "KU_X_dN_LKei"
      },
      "source": [
        "Solve the new model."
      ]
    },
    {
      "cell_type": "code",
      "metadata": {
        "colab": {
          "base_uri": "https://localhost:8080/"
        },
        "id": "50CVkrvBLKej",
        "outputId": "3551be63-4f05-4b70-b9d3-e6c748f8c1d5",
        "cellView": "form"
      },
      "source": [
        "#@markdown Select whether to run the [Gurobi](https://www.gurobi.com/) optimization algorithms silently (no output details)\n",
        "run_silently = True #@param {type:\"boolean\"}\n",
        "\n",
        "if run_silently:\n",
        "    ProjectSelectionModel.setParam('OutputFlag',0)\n",
        "else:\n",
        "    ProjectSelectionModel.setParam('OutputFlag',1)\n",
        "\n",
        "ProjectSelectionModel.optimize()\n",
        "print('\\nSolved the optimization problem...')"
      ],
      "execution_count": 27,
      "outputs": [
        {
          "output_type": "stream",
          "name": "stdout",
          "text": [
            "\n",
            "Solved the optimization problem...\n"
          ]
        }
      ]
    },
    {
      "cell_type": "markdown",
      "metadata": {
        "id": "ToV9iXieLKek"
      },
      "source": [
        "Print information about the solution."
      ]
    },
    {
      "cell_type": "code",
      "metadata": {
        "colab": {
          "base_uri": "https://localhost:8080/",
          "height": 0
        },
        "id": "l7Ze4-6wLKek",
        "outputId": "d0149ef5-1133-4e45-f452-52acb0031544",
        "cellView": "form"
      },
      "source": [
        "#@markdown Print the solution\n",
        "# the objective in this problem\n",
        "print(\"The largest total cumulative impact that can be achieved while ensuring that each continent has impact of at least {} is : {}\".\\\n",
        "      format(opt_value_Q2, ProjectSelectionModel.objVal))\n",
        "\n",
        "# other useful information about the solution\n",
        "print_solution(fund_project)"
      ],
      "execution_count": 28,
      "outputs": [
        {
          "output_type": "stream",
          "name": "stdout",
          "text": [
            "The largest total cumulative impact that can be achieved while ensuring that each continent has impact of at least 5.0 is : 23.0\n"
          ]
        },
        {
          "output_type": "display_data",
          "data": {
            "text/plain": [
              "   Fund_Project?\n",
              "A              1\n",
              "B              0\n",
              "C              0\n",
              "D              0\n",
              "E              0\n",
              "F              1\n",
              "G              1\n",
              "H              0\n",
              "I              1\n",
              "J              1"
            ],
            "text/html": [
              "\n",
              "  <div id=\"df-4748c1dd-e94e-4e4f-a04a-c5f242a82c45\">\n",
              "    <div class=\"colab-df-container\">\n",
              "      <div>\n",
              "<style scoped>\n",
              "    .dataframe tbody tr th:only-of-type {\n",
              "        vertical-align: middle;\n",
              "    }\n",
              "\n",
              "    .dataframe tbody tr th {\n",
              "        vertical-align: top;\n",
              "    }\n",
              "\n",
              "    .dataframe thead th {\n",
              "        text-align: right;\n",
              "    }\n",
              "</style>\n",
              "<table border=\"1\" class=\"dataframe\">\n",
              "  <thead>\n",
              "    <tr style=\"text-align: right;\">\n",
              "      <th></th>\n",
              "      <th>Fund_Project?</th>\n",
              "    </tr>\n",
              "  </thead>\n",
              "  <tbody>\n",
              "    <tr>\n",
              "      <th>A</th>\n",
              "      <td>1</td>\n",
              "    </tr>\n",
              "    <tr>\n",
              "      <th>B</th>\n",
              "      <td>0</td>\n",
              "    </tr>\n",
              "    <tr>\n",
              "      <th>C</th>\n",
              "      <td>0</td>\n",
              "    </tr>\n",
              "    <tr>\n",
              "      <th>D</th>\n",
              "      <td>0</td>\n",
              "    </tr>\n",
              "    <tr>\n",
              "      <th>E</th>\n",
              "      <td>0</td>\n",
              "    </tr>\n",
              "    <tr>\n",
              "      <th>F</th>\n",
              "      <td>1</td>\n",
              "    </tr>\n",
              "    <tr>\n",
              "      <th>G</th>\n",
              "      <td>1</td>\n",
              "    </tr>\n",
              "    <tr>\n",
              "      <th>H</th>\n",
              "      <td>0</td>\n",
              "    </tr>\n",
              "    <tr>\n",
              "      <th>I</th>\n",
              "      <td>1</td>\n",
              "    </tr>\n",
              "    <tr>\n",
              "      <th>J</th>\n",
              "      <td>1</td>\n",
              "    </tr>\n",
              "  </tbody>\n",
              "</table>\n",
              "</div>\n",
              "      <button class=\"colab-df-convert\" onclick=\"convertToInteractive('df-4748c1dd-e94e-4e4f-a04a-c5f242a82c45')\"\n",
              "              title=\"Convert this dataframe to an interactive table.\"\n",
              "              style=\"display:none;\">\n",
              "        \n",
              "  <svg xmlns=\"http://www.w3.org/2000/svg\" height=\"24px\"viewBox=\"0 0 24 24\"\n",
              "       width=\"24px\">\n",
              "    <path d=\"M0 0h24v24H0V0z\" fill=\"none\"/>\n",
              "    <path d=\"M18.56 5.44l.94 2.06.94-2.06 2.06-.94-2.06-.94-.94-2.06-.94 2.06-2.06.94zm-11 1L8.5 8.5l.94-2.06 2.06-.94-2.06-.94L8.5 2.5l-.94 2.06-2.06.94zm10 10l.94 2.06.94-2.06 2.06-.94-2.06-.94-.94-2.06-.94 2.06-2.06.94z\"/><path d=\"M17.41 7.96l-1.37-1.37c-.4-.4-.92-.59-1.43-.59-.52 0-1.04.2-1.43.59L10.3 9.45l-7.72 7.72c-.78.78-.78 2.05 0 2.83L4 21.41c.39.39.9.59 1.41.59.51 0 1.02-.2 1.41-.59l7.78-7.78 2.81-2.81c.8-.78.8-2.07 0-2.86zM5.41 20L4 18.59l7.72-7.72 1.47 1.35L5.41 20z\"/>\n",
              "  </svg>\n",
              "      </button>\n",
              "      \n",
              "  <style>\n",
              "    .colab-df-container {\n",
              "      display:flex;\n",
              "      flex-wrap:wrap;\n",
              "      gap: 12px;\n",
              "    }\n",
              "\n",
              "    .colab-df-convert {\n",
              "      background-color: #E8F0FE;\n",
              "      border: none;\n",
              "      border-radius: 50%;\n",
              "      cursor: pointer;\n",
              "      display: none;\n",
              "      fill: #1967D2;\n",
              "      height: 32px;\n",
              "      padding: 0 0 0 0;\n",
              "      width: 32px;\n",
              "    }\n",
              "\n",
              "    .colab-df-convert:hover {\n",
              "      background-color: #E2EBFA;\n",
              "      box-shadow: 0px 1px 2px rgba(60, 64, 67, 0.3), 0px 1px 3px 1px rgba(60, 64, 67, 0.15);\n",
              "      fill: #174EA6;\n",
              "    }\n",
              "\n",
              "    [theme=dark] .colab-df-convert {\n",
              "      background-color: #3B4455;\n",
              "      fill: #D2E3FC;\n",
              "    }\n",
              "\n",
              "    [theme=dark] .colab-df-convert:hover {\n",
              "      background-color: #434B5C;\n",
              "      box-shadow: 0px 1px 3px 1px rgba(0, 0, 0, 0.15);\n",
              "      filter: drop-shadow(0px 1px 2px rgba(0, 0, 0, 0.3));\n",
              "      fill: #FFFFFF;\n",
              "    }\n",
              "  </style>\n",
              "\n",
              "      <script>\n",
              "        const buttonEl =\n",
              "          document.querySelector('#df-4748c1dd-e94e-4e4f-a04a-c5f242a82c45 button.colab-df-convert');\n",
              "        buttonEl.style.display =\n",
              "          google.colab.kernel.accessAllowed ? 'block' : 'none';\n",
              "\n",
              "        async function convertToInteractive(key) {\n",
              "          const element = document.querySelector('#df-4748c1dd-e94e-4e4f-a04a-c5f242a82c45');\n",
              "          const dataTable =\n",
              "            await google.colab.kernel.invokeFunction('convertToInteractive',\n",
              "                                                     [key], {});\n",
              "          if (!dataTable) return;\n",
              "\n",
              "          const docLinkHtml = 'Like what you see? Visit the ' +\n",
              "            '<a target=\"_blank\" href=https://colab.research.google.com/notebooks/data_table.ipynb>data table notebook</a>'\n",
              "            + ' to learn more about interactive tables.';\n",
              "          element.innerHTML = '';\n",
              "          dataTable['output_type'] = 'display_data';\n",
              "          await google.colab.output.renderOutput(dataTable, element);\n",
              "          const docLink = document.createElement('div');\n",
              "          docLink.innerHTML = docLinkHtml;\n",
              "          element.appendChild(docLink);\n",
              "        }\n",
              "      </script>\n",
              "    </div>\n",
              "  </div>\n",
              "  "
            ]
          },
          "metadata": {}
        },
        {
          "output_type": "stream",
          "name": "stdout",
          "text": [
            "\n",
            "\n",
            "================================================================================\n",
            "Impact achieved on each continent:\n",
            "   South America   : 10.00\n",
            "   Asia            : 8.00\n",
            "   Africa          : 5.00\n"
          ]
        }
      ]
    },
    {
      "cell_type": "markdown",
      "metadata": {
        "id": "LWl28nloMaBQ"
      },
      "source": [
        "______\n",
        "# **Q4**\n",
        "Before running this section, make sure you have run all the previous sections of the Colab file."
      ]
    },
    {
      "cell_type": "code",
      "metadata": {
        "id": "1qJiBl2QNX3h",
        "cellView": "form"
      },
      "source": [
        "#@markdown Store the max risk score in a parameter\n",
        "max_risk = 5.5"
      ],
      "execution_count": 29,
      "outputs": []
    },
    {
      "cell_type": "markdown",
      "metadata": {
        "id": "BU3eauF5MaBR"
      },
      "source": [
        "Re-recreate an identical model to the one from **Q1** and store the model, the decision variables and the constraints."
      ]
    },
    {
      "cell_type": "code",
      "metadata": {
        "id": "7OB0ytqUMaBR",
        "cellView": "form"
      },
      "source": [
        "#@title Create a model like the one in Q1\n",
        "ProjectSelectionModel, fund_project, budget_constraint = \\\n",
        "       create_model_like_in_Q1()"
      ],
      "execution_count": 30,
      "outputs": []
    },
    {
      "cell_type": "markdown",
      "metadata": {
        "id": "9dLFwkHiMaBS"
      },
      "source": [
        "Add a constraint that the average risk score should not exceed the maximum allowed risk. Note that this constraint is of the form\n",
        ">  $\\frac{\\sum_{p} R_p \\cdot X_p}{\\sum_p X_p} \\leq M$\n",
        "\n",
        "where $R_p$ is the risk score for project $p$, and $X_p \\in \\{0,1\\}$ is the binary variable indicating whether project $p$ is selected. This is a nonlinear constraint, but it can be re-formulated in a linear way as:\n",
        ">  $\\sum_{p} R_p \\cdot X_p \\leq M \\cdot \\sum_p X_p$\n",
        "\n",
        "We formulate it in this linear way below. (Formulating the first non-linear constraint above would result in an error from Gurobi.)"
      ]
    },
    {
      "cell_type": "code",
      "metadata": {
        "colab": {
          "base_uri": "https://localhost:8080/"
        },
        "id": "I6zEBDJVMaBS",
        "outputId": "cd82cc7e-a144-4c6b-b746-ce2857c5af46",
        "cellView": "form"
      },
      "source": [
        "#@title Add a constraint that the average risk does not exceed max allowed\n",
        "ProjectSelectionModel.addConstr( quicksum(projectData[\"Risks\"][p]*fund_project[p] \\\n",
        "                                          for p in allProjects) <= \\\n",
        "                                max_risk*quicksum(fund_project[p] for p in allProjects))"
      ],
      "execution_count": 31,
      "outputs": [
        {
          "output_type": "execute_result",
          "data": {
            "text/plain": [
              "<gurobi.Constr *Awaiting Model Update*>"
            ]
          },
          "metadata": {},
          "execution_count": 31
        }
      ]
    },
    {
      "cell_type": "markdown",
      "metadata": {
        "id": "wSIcWSnOMaBS"
      },
      "source": [
        "Solve the new model."
      ]
    },
    {
      "cell_type": "code",
      "metadata": {
        "colab": {
          "base_uri": "https://localhost:8080/"
        },
        "id": "rlsaKE3QMaBT",
        "outputId": "671dd1d9-4076-4584-d67a-842cb91f2f3b",
        "cellView": "form"
      },
      "source": [
        "#@markdown Select whether to run the [Gurobi](https://www.gurobi.com/) optimization algorithms silently (no output details)\n",
        "run_silently = True #@param {type:\"boolean\"}\n",
        "\n",
        "if run_silently:\n",
        "    ProjectSelectionModel.setParam('OutputFlag',0)\n",
        "else:\n",
        "    ProjectSelectionModel.setParam('OutputFlag',1)\n",
        "\n",
        "ProjectSelectionModel.optimize()\n",
        "print('\\nSolved the optimization problem...')"
      ],
      "execution_count": 32,
      "outputs": [
        {
          "output_type": "stream",
          "name": "stdout",
          "text": [
            "\n",
            "Solved the optimization problem...\n"
          ]
        }
      ]
    },
    {
      "cell_type": "markdown",
      "metadata": {
        "id": "ydQTz6M6MaBU"
      },
      "source": [
        "Print information about the solution."
      ]
    },
    {
      "cell_type": "code",
      "metadata": {
        "colab": {
          "base_uri": "https://localhost:8080/",
          "height": 0
        },
        "id": "D0EcGmiyMaBU",
        "outputId": "8b3b503f-2002-42fe-c553-8c8316388d16",
        "cellView": "form"
      },
      "source": [
        "#@markdown Print the solution\n",
        "# the objective in this problem\n",
        "print(\"The largest total cumulative impact achieved without exceeding an average risk of {} is : {}\".\\\n",
        "      format(max_risk, ProjectSelectionModel.objVal))\n",
        "\n",
        "# other useful information about the solution\n",
        "print_solution(fund_project)"
      ],
      "execution_count": 33,
      "outputs": [
        {
          "output_type": "stream",
          "name": "stdout",
          "text": [
            "The largest total cumulative impact achieved without exceeding an average risk of 5.5 is : 27.0\n"
          ]
        },
        {
          "output_type": "display_data",
          "data": {
            "text/plain": [
              "   Fund_Project?\n",
              "A              1\n",
              "B              0\n",
              "C              1\n",
              "D              1\n",
              "E              0\n",
              "F              1\n",
              "G              1\n",
              "H              0\n",
              "I              1\n",
              "J              0"
            ],
            "text/html": [
              "\n",
              "  <div id=\"df-e6d911f7-0904-4f5f-a4c8-1769fa7f48ff\">\n",
              "    <div class=\"colab-df-container\">\n",
              "      <div>\n",
              "<style scoped>\n",
              "    .dataframe tbody tr th:only-of-type {\n",
              "        vertical-align: middle;\n",
              "    }\n",
              "\n",
              "    .dataframe tbody tr th {\n",
              "        vertical-align: top;\n",
              "    }\n",
              "\n",
              "    .dataframe thead th {\n",
              "        text-align: right;\n",
              "    }\n",
              "</style>\n",
              "<table border=\"1\" class=\"dataframe\">\n",
              "  <thead>\n",
              "    <tr style=\"text-align: right;\">\n",
              "      <th></th>\n",
              "      <th>Fund_Project?</th>\n",
              "    </tr>\n",
              "  </thead>\n",
              "  <tbody>\n",
              "    <tr>\n",
              "      <th>A</th>\n",
              "      <td>1</td>\n",
              "    </tr>\n",
              "    <tr>\n",
              "      <th>B</th>\n",
              "      <td>0</td>\n",
              "    </tr>\n",
              "    <tr>\n",
              "      <th>C</th>\n",
              "      <td>1</td>\n",
              "    </tr>\n",
              "    <tr>\n",
              "      <th>D</th>\n",
              "      <td>1</td>\n",
              "    </tr>\n",
              "    <tr>\n",
              "      <th>E</th>\n",
              "      <td>0</td>\n",
              "    </tr>\n",
              "    <tr>\n",
              "      <th>F</th>\n",
              "      <td>1</td>\n",
              "    </tr>\n",
              "    <tr>\n",
              "      <th>G</th>\n",
              "      <td>1</td>\n",
              "    </tr>\n",
              "    <tr>\n",
              "      <th>H</th>\n",
              "      <td>0</td>\n",
              "    </tr>\n",
              "    <tr>\n",
              "      <th>I</th>\n",
              "      <td>1</td>\n",
              "    </tr>\n",
              "    <tr>\n",
              "      <th>J</th>\n",
              "      <td>0</td>\n",
              "    </tr>\n",
              "  </tbody>\n",
              "</table>\n",
              "</div>\n",
              "      <button class=\"colab-df-convert\" onclick=\"convertToInteractive('df-e6d911f7-0904-4f5f-a4c8-1769fa7f48ff')\"\n",
              "              title=\"Convert this dataframe to an interactive table.\"\n",
              "              style=\"display:none;\">\n",
              "        \n",
              "  <svg xmlns=\"http://www.w3.org/2000/svg\" height=\"24px\"viewBox=\"0 0 24 24\"\n",
              "       width=\"24px\">\n",
              "    <path d=\"M0 0h24v24H0V0z\" fill=\"none\"/>\n",
              "    <path d=\"M18.56 5.44l.94 2.06.94-2.06 2.06-.94-2.06-.94-.94-2.06-.94 2.06-2.06.94zm-11 1L8.5 8.5l.94-2.06 2.06-.94-2.06-.94L8.5 2.5l-.94 2.06-2.06.94zm10 10l.94 2.06.94-2.06 2.06-.94-2.06-.94-.94-2.06-.94 2.06-2.06.94z\"/><path d=\"M17.41 7.96l-1.37-1.37c-.4-.4-.92-.59-1.43-.59-.52 0-1.04.2-1.43.59L10.3 9.45l-7.72 7.72c-.78.78-.78 2.05 0 2.83L4 21.41c.39.39.9.59 1.41.59.51 0 1.02-.2 1.41-.59l7.78-7.78 2.81-2.81c.8-.78.8-2.07 0-2.86zM5.41 20L4 18.59l7.72-7.72 1.47 1.35L5.41 20z\"/>\n",
              "  </svg>\n",
              "      </button>\n",
              "      \n",
              "  <style>\n",
              "    .colab-df-container {\n",
              "      display:flex;\n",
              "      flex-wrap:wrap;\n",
              "      gap: 12px;\n",
              "    }\n",
              "\n",
              "    .colab-df-convert {\n",
              "      background-color: #E8F0FE;\n",
              "      border: none;\n",
              "      border-radius: 50%;\n",
              "      cursor: pointer;\n",
              "      display: none;\n",
              "      fill: #1967D2;\n",
              "      height: 32px;\n",
              "      padding: 0 0 0 0;\n",
              "      width: 32px;\n",
              "    }\n",
              "\n",
              "    .colab-df-convert:hover {\n",
              "      background-color: #E2EBFA;\n",
              "      box-shadow: 0px 1px 2px rgba(60, 64, 67, 0.3), 0px 1px 3px 1px rgba(60, 64, 67, 0.15);\n",
              "      fill: #174EA6;\n",
              "    }\n",
              "\n",
              "    [theme=dark] .colab-df-convert {\n",
              "      background-color: #3B4455;\n",
              "      fill: #D2E3FC;\n",
              "    }\n",
              "\n",
              "    [theme=dark] .colab-df-convert:hover {\n",
              "      background-color: #434B5C;\n",
              "      box-shadow: 0px 1px 3px 1px rgba(0, 0, 0, 0.15);\n",
              "      filter: drop-shadow(0px 1px 2px rgba(0, 0, 0, 0.3));\n",
              "      fill: #FFFFFF;\n",
              "    }\n",
              "  </style>\n",
              "\n",
              "      <script>\n",
              "        const buttonEl =\n",
              "          document.querySelector('#df-e6d911f7-0904-4f5f-a4c8-1769fa7f48ff button.colab-df-convert');\n",
              "        buttonEl.style.display =\n",
              "          google.colab.kernel.accessAllowed ? 'block' : 'none';\n",
              "\n",
              "        async function convertToInteractive(key) {\n",
              "          const element = document.querySelector('#df-e6d911f7-0904-4f5f-a4c8-1769fa7f48ff');\n",
              "          const dataTable =\n",
              "            await google.colab.kernel.invokeFunction('convertToInteractive',\n",
              "                                                     [key], {});\n",
              "          if (!dataTable) return;\n",
              "\n",
              "          const docLinkHtml = 'Like what you see? Visit the ' +\n",
              "            '<a target=\"_blank\" href=https://colab.research.google.com/notebooks/data_table.ipynb>data table notebook</a>'\n",
              "            + ' to learn more about interactive tables.';\n",
              "          element.innerHTML = '';\n",
              "          dataTable['output_type'] = 'display_data';\n",
              "          await google.colab.output.renderOutput(dataTable, element);\n",
              "          const docLink = document.createElement('div');\n",
              "          docLink.innerHTML = docLinkHtml;\n",
              "          element.appendChild(docLink);\n",
              "        }\n",
              "      </script>\n",
              "    </div>\n",
              "  </div>\n",
              "  "
            ]
          },
          "metadata": {}
        },
        {
          "output_type": "stream",
          "name": "stdout",
          "text": [
            "\n",
            "\n",
            "================================================================================\n",
            "Impact achieved on each continent:\n",
            "   South America   : 14.00\n",
            "   Asia            : 12.00\n",
            "   Africa          : 1.00\n"
          ]
        }
      ]
    },
    {
      "cell_type": "markdown",
      "metadata": {
        "id": "SlZDSxi1SD7_"
      },
      "source": [
        "______\n",
        "# **Q6**\n",
        "Before running this section, make sure you have run all the previous sections of the Colab file."
      ]
    },
    {
      "cell_type": "markdown",
      "metadata": {
        "id": "0vQOa7rkSD8S"
      },
      "source": [
        "Re-recreate an identical model to the one from **Q1** and store the model, the decision variables and the constraints."
      ]
    },
    {
      "cell_type": "code",
      "metadata": {
        "id": "rmMV5FDaSD8T",
        "cellView": "form"
      },
      "source": [
        "#@title Create a model like the one in Q1\n",
        "ProjectSelectionModel, fund_project, budget_constraint = \\\n",
        "       create_model_like_in_Q1()"
      ],
      "execution_count": 34,
      "outputs": []
    },
    {
      "cell_type": "markdown",
      "metadata": {
        "id": "U0O76dBvT4Ki"
      },
      "source": [
        "Add a new set of decision variables for whether to schedule each project in a particular period. Here, we want to have one binary decision for every project and for every potential period, so we use `addVars` to define these."
      ]
    },
    {
      "cell_type": "code",
      "metadata": {
        "id": "OZTS3383UDls",
        "cellView": "form"
      },
      "source": [
        "#@title Add binary decision variables for whether to schedule the projects in a given period\n",
        "schedule_project = ProjectSelectionModel.addVars(allProjects, allPeriods, name=\"schedule\")"
      ],
      "execution_count": 35,
      "outputs": []
    },
    {
      "cell_type": "markdown",
      "metadata": {
        "id": "NSmJ3ORZSD8V"
      },
      "source": [
        "Add constraints to connect the decisions on whether to fund projects with the decisions on whether to schedule projects. If we let $X_p$ denote the binary decision of whether to fund project $p$, and $Y_{p,t}$ the binary variable for whether project $p$ should be scheduled in period $t$, then the constraints we need to add here are:\n",
        "> $\\sum_{t=1}^T Y_{p,t} = X_p$,  for every project $p$.\n",
        "\n",
        "In other words, if $X_p=1$ (so project $p$ is funded), it must be scheduled in one of the periods, so the sum on the left must be equal to 1. If $X_p=0$, project $p$ is not funded and it should also not be scheduled."
      ]
    },
    {
      "cell_type": "code",
      "metadata": {
        "id": "q9Uxa-eHSD8W",
        "cellView": "form"
      },
      "source": [
        "#@title Constraints that a project must be scheduled if and only if it is funded.\n",
        "for p in allProjects:\n",
        "    ProjectSelectionModel.addConstr( fund_project[p] == \\\n",
        "                                    quicksum(schedule_project[p,t] for t in allPeriods))"
      ],
      "execution_count": 36,
      "outputs": []
    },
    {
      "cell_type": "markdown",
      "metadata": {
        "id": "Iy1AxuFrVc-X"
      },
      "source": [
        "Add constraints on the available resources. For each resource, the usage should not exceed what is available."
      ]
    },
    {
      "cell_type": "code",
      "metadata": {
        "id": "6zld0Sn_VhsE",
        "cellView": "form"
      },
      "source": [
        "#@title Constraints on available resources\n",
        "for t in allPeriods:\n",
        "    for r in allResources:\n",
        "        ProjectSelectionModel.addConstr( quicksum(schedule_project[p,t]*projectData[r][p] \\\n",
        "                                                  for p in allProjects) <= \\\n",
        "                                        resourceData[t][r] )"
      ],
      "execution_count": 37,
      "outputs": []
    },
    {
      "cell_type": "markdown",
      "metadata": {
        "id": "-nfa_GSiSD8W"
      },
      "source": [
        "Solve the new model."
      ]
    },
    {
      "cell_type": "code",
      "metadata": {
        "colab": {
          "base_uri": "https://localhost:8080/"
        },
        "id": "seyD_TIaSD8X",
        "outputId": "9d9a9369-8221-4d1f-ce3b-cd1e6f502b6a",
        "cellView": "form"
      },
      "source": [
        "#@markdown Select whether to run the [Gurobi](https://www.gurobi.com/) optimization algorithms silently (no output details)\n",
        "run_silently = True #@param {type:\"boolean\"}\n",
        "\n",
        "if run_silently:\n",
        "    ProjectSelectionModel.setParam('OutputFlag',0)\n",
        "else:\n",
        "    ProjectSelectionModel.setParam('OutputFlag',1)\n",
        "\n",
        "ProjectSelectionModel.optimize()\n",
        "print('\\nSolved the optimization problem...')"
      ],
      "execution_count": 38,
      "outputs": [
        {
          "output_type": "stream",
          "name": "stdout",
          "text": [
            "\n",
            "Solved the optimization problem...\n"
          ]
        }
      ]
    },
    {
      "cell_type": "markdown",
      "metadata": {
        "id": "uZaw2blrSD8Y"
      },
      "source": [
        "Print information about the solution."
      ]
    },
    {
      "cell_type": "code",
      "metadata": {
        "colab": {
          "base_uri": "https://localhost:8080/",
          "height": 0
        },
        "id": "dnTEc4ewSD8Y",
        "outputId": "cb11523f-2e66-4400-f7bc-c86167731745",
        "cellView": "form"
      },
      "source": [
        "#@markdown Print the solution\n",
        "# the objective in this problem\n",
        "print(\"The largest impact that can be simultaneously achieved on each continent: {}\".\\\n",
        "      format(ProjectSelectionModel.objVal))\n",
        "\n",
        "# create a small dataframe to store the decisions to fund as well as the decisions to schedule\n",
        "dict = {\"Fund_Project\" : [np.int(fund_project[p].X) for p in allProjects]}\n",
        "for t in allPeriods:\n",
        "   dict[\"Schedule \"+t] = [np.int(schedule_project[p,t].X) for p in allProjects]\n",
        "\n",
        "all_decisions_Q5 = pd.DataFrame(dict, index=allProjects)\n",
        "\n",
        "# other useful information about the solution\n",
        "display(all_decisions_Q5)"
      ],
      "execution_count": 39,
      "outputs": [
        {
          "output_type": "stream",
          "name": "stdout",
          "text": [
            "The largest impact that can be simultaneously achieved on each continent: 32.0\n"
          ]
        },
        {
          "output_type": "display_data",
          "data": {
            "text/plain": [
              "   Fund_Project  Schedule January-March  Schedule April-June  \\\n",
              "A             1                       0                    0   \n",
              "B             1                       0                    0   \n",
              "C             1                       0                    0   \n",
              "D             0                       0                    0   \n",
              "E             1                       0                    0   \n",
              "F             0                       0                    0   \n",
              "G             0                       0                    0   \n",
              "H             0                       0                    0   \n",
              "I             1                       0                    1   \n",
              "J             0                       0                    0   \n",
              "\n",
              "   Schedule July-September  Schedule October-December  \n",
              "A                        0                          0  \n",
              "B                        0                          0  \n",
              "C                        0                          0  \n",
              "D                        0                          0  \n",
              "E                        0                          0  \n",
              "F                        0                          0  \n",
              "G                        0                          0  \n",
              "H                        0                          0  \n",
              "I                        0                          0  \n",
              "J                        0                          0  "
            ],
            "text/html": [
              "\n",
              "  <div id=\"df-743719bf-506d-417c-894b-c34fab5d1850\">\n",
              "    <div class=\"colab-df-container\">\n",
              "      <div>\n",
              "<style scoped>\n",
              "    .dataframe tbody tr th:only-of-type {\n",
              "        vertical-align: middle;\n",
              "    }\n",
              "\n",
              "    .dataframe tbody tr th {\n",
              "        vertical-align: top;\n",
              "    }\n",
              "\n",
              "    .dataframe thead th {\n",
              "        text-align: right;\n",
              "    }\n",
              "</style>\n",
              "<table border=\"1\" class=\"dataframe\">\n",
              "  <thead>\n",
              "    <tr style=\"text-align: right;\">\n",
              "      <th></th>\n",
              "      <th>Fund_Project</th>\n",
              "      <th>Schedule January-March</th>\n",
              "      <th>Schedule April-June</th>\n",
              "      <th>Schedule July-September</th>\n",
              "      <th>Schedule October-December</th>\n",
              "    </tr>\n",
              "  </thead>\n",
              "  <tbody>\n",
              "    <tr>\n",
              "      <th>A</th>\n",
              "      <td>1</td>\n",
              "      <td>0</td>\n",
              "      <td>0</td>\n",
              "      <td>0</td>\n",
              "      <td>0</td>\n",
              "    </tr>\n",
              "    <tr>\n",
              "      <th>B</th>\n",
              "      <td>1</td>\n",
              "      <td>0</td>\n",
              "      <td>0</td>\n",
              "      <td>0</td>\n",
              "      <td>0</td>\n",
              "    </tr>\n",
              "    <tr>\n",
              "      <th>C</th>\n",
              "      <td>1</td>\n",
              "      <td>0</td>\n",
              "      <td>0</td>\n",
              "      <td>0</td>\n",
              "      <td>0</td>\n",
              "    </tr>\n",
              "    <tr>\n",
              "      <th>D</th>\n",
              "      <td>0</td>\n",
              "      <td>0</td>\n",
              "      <td>0</td>\n",
              "      <td>0</td>\n",
              "      <td>0</td>\n",
              "    </tr>\n",
              "    <tr>\n",
              "      <th>E</th>\n",
              "      <td>1</td>\n",
              "      <td>0</td>\n",
              "      <td>0</td>\n",
              "      <td>0</td>\n",
              "      <td>0</td>\n",
              "    </tr>\n",
              "    <tr>\n",
              "      <th>F</th>\n",
              "      <td>0</td>\n",
              "      <td>0</td>\n",
              "      <td>0</td>\n",
              "      <td>0</td>\n",
              "      <td>0</td>\n",
              "    </tr>\n",
              "    <tr>\n",
              "      <th>G</th>\n",
              "      <td>0</td>\n",
              "      <td>0</td>\n",
              "      <td>0</td>\n",
              "      <td>0</td>\n",
              "      <td>0</td>\n",
              "    </tr>\n",
              "    <tr>\n",
              "      <th>H</th>\n",
              "      <td>0</td>\n",
              "      <td>0</td>\n",
              "      <td>0</td>\n",
              "      <td>0</td>\n",
              "      <td>0</td>\n",
              "    </tr>\n",
              "    <tr>\n",
              "      <th>I</th>\n",
              "      <td>1</td>\n",
              "      <td>0</td>\n",
              "      <td>1</td>\n",
              "      <td>0</td>\n",
              "      <td>0</td>\n",
              "    </tr>\n",
              "    <tr>\n",
              "      <th>J</th>\n",
              "      <td>0</td>\n",
              "      <td>0</td>\n",
              "      <td>0</td>\n",
              "      <td>0</td>\n",
              "      <td>0</td>\n",
              "    </tr>\n",
              "  </tbody>\n",
              "</table>\n",
              "</div>\n",
              "      <button class=\"colab-df-convert\" onclick=\"convertToInteractive('df-743719bf-506d-417c-894b-c34fab5d1850')\"\n",
              "              title=\"Convert this dataframe to an interactive table.\"\n",
              "              style=\"display:none;\">\n",
              "        \n",
              "  <svg xmlns=\"http://www.w3.org/2000/svg\" height=\"24px\"viewBox=\"0 0 24 24\"\n",
              "       width=\"24px\">\n",
              "    <path d=\"M0 0h24v24H0V0z\" fill=\"none\"/>\n",
              "    <path d=\"M18.56 5.44l.94 2.06.94-2.06 2.06-.94-2.06-.94-.94-2.06-.94 2.06-2.06.94zm-11 1L8.5 8.5l.94-2.06 2.06-.94-2.06-.94L8.5 2.5l-.94 2.06-2.06.94zm10 10l.94 2.06.94-2.06 2.06-.94-2.06-.94-.94-2.06-.94 2.06-2.06.94z\"/><path d=\"M17.41 7.96l-1.37-1.37c-.4-.4-.92-.59-1.43-.59-.52 0-1.04.2-1.43.59L10.3 9.45l-7.72 7.72c-.78.78-.78 2.05 0 2.83L4 21.41c.39.39.9.59 1.41.59.51 0 1.02-.2 1.41-.59l7.78-7.78 2.81-2.81c.8-.78.8-2.07 0-2.86zM5.41 20L4 18.59l7.72-7.72 1.47 1.35L5.41 20z\"/>\n",
              "  </svg>\n",
              "      </button>\n",
              "      \n",
              "  <style>\n",
              "    .colab-df-container {\n",
              "      display:flex;\n",
              "      flex-wrap:wrap;\n",
              "      gap: 12px;\n",
              "    }\n",
              "\n",
              "    .colab-df-convert {\n",
              "      background-color: #E8F0FE;\n",
              "      border: none;\n",
              "      border-radius: 50%;\n",
              "      cursor: pointer;\n",
              "      display: none;\n",
              "      fill: #1967D2;\n",
              "      height: 32px;\n",
              "      padding: 0 0 0 0;\n",
              "      width: 32px;\n",
              "    }\n",
              "\n",
              "    .colab-df-convert:hover {\n",
              "      background-color: #E2EBFA;\n",
              "      box-shadow: 0px 1px 2px rgba(60, 64, 67, 0.3), 0px 1px 3px 1px rgba(60, 64, 67, 0.15);\n",
              "      fill: #174EA6;\n",
              "    }\n",
              "\n",
              "    [theme=dark] .colab-df-convert {\n",
              "      background-color: #3B4455;\n",
              "      fill: #D2E3FC;\n",
              "    }\n",
              "\n",
              "    [theme=dark] .colab-df-convert:hover {\n",
              "      background-color: #434B5C;\n",
              "      box-shadow: 0px 1px 3px 1px rgba(0, 0, 0, 0.15);\n",
              "      filter: drop-shadow(0px 1px 2px rgba(0, 0, 0, 0.3));\n",
              "      fill: #FFFFFF;\n",
              "    }\n",
              "  </style>\n",
              "\n",
              "      <script>\n",
              "        const buttonEl =\n",
              "          document.querySelector('#df-743719bf-506d-417c-894b-c34fab5d1850 button.colab-df-convert');\n",
              "        buttonEl.style.display =\n",
              "          google.colab.kernel.accessAllowed ? 'block' : 'none';\n",
              "\n",
              "        async function convertToInteractive(key) {\n",
              "          const element = document.querySelector('#df-743719bf-506d-417c-894b-c34fab5d1850');\n",
              "          const dataTable =\n",
              "            await google.colab.kernel.invokeFunction('convertToInteractive',\n",
              "                                                     [key], {});\n",
              "          if (!dataTable) return;\n",
              "\n",
              "          const docLinkHtml = 'Like what you see? Visit the ' +\n",
              "            '<a target=\"_blank\" href=https://colab.research.google.com/notebooks/data_table.ipynb>data table notebook</a>'\n",
              "            + ' to learn more about interactive tables.';\n",
              "          element.innerHTML = '';\n",
              "          dataTable['output_type'] = 'display_data';\n",
              "          await google.colab.output.renderOutput(dataTable, element);\n",
              "          const docLink = document.createElement('div');\n",
              "          docLink.innerHTML = docLinkHtml;\n",
              "          element.appendChild(docLink);\n",
              "        }\n",
              "      </script>\n",
              "    </div>\n",
              "  </div>\n",
              "  "
            ]
          },
          "metadata": {}
        }
      ]
    }
  ]
}