{
  "nbformat": 4,
  "nbformat_minor": 0,
  "metadata": {
    "kernelspec": {
      "display_name": "Python 3",
      "language": "python",
      "name": "python3"
    },
    "language_info": {
      "codemirror_mode": {
        "name": "ipython",
        "version": 3
      },
      "file_extension": ".py",
      "mimetype": "text/x-python",
      "name": "python",
      "nbconvert_exporter": "python",
      "pygments_lexer": "ipython3",
      "version": "3.6.5"
    },
    "colab": {
      "name": "Copy of Project_Portfolio_Management - Template.ipynb",
      "provenance": [],
      "collapsed_sections": [
        "Aqf-EBXAAgn1"
      ],
      "toc_visible": true,
      "include_colab_link": true
    }
  },
  "cells": [
    {
      "cell_type": "markdown",
      "metadata": {
        "id": "view-in-github",
        "colab_type": "text"
      },
      "source": [
        "<a href=\"https://colab.research.google.com/github/dan-a-iancu/airm/blob/master/Project_Portfolio_Management/Project_Portfolio_Management_Template.ipynb\" target=\"_parent\"><img src=\"https://colab.research.google.com/assets/colab-badge.svg\" alt=\"Open In Colab\"/></a>"
      ]
    },
    {
      "cell_type": "markdown",
      "metadata": {
        "id": "7VtkH-sn3oBT"
      },
      "source": [
        "This notebook implements the solution to the **Project Portfolio Management** mini-case. It assumes you are familiar with the case and the model."
      ]
    },
    {
      "cell_type": "markdown",
      "metadata": {
        "id": "vb4A3Z6sy5J_"
      },
      "source": [
        "____\r\n",
        "# Basic Setup\r\n",
        "\r\n",
        "Import useful modules, read the data and store it in data frames, and set up some useful Python lists. You may want to expand this section and make sure you understand how the data is organized, and also read the last part where the Python lists are created, as these may be very useful when you build your model."
      ]
    },
    {
      "cell_type": "code",
      "metadata": {
        "colab": {
          "base_uri": "https://localhost:8080/"
        },
        "id": "WcFPypqhXbcv",
        "cellView": "form",
        "outputId": "a99183bf-e182-4790-a772-12d9f57c5624"
      },
      "source": [
        "#@markdown We first import some useful modules. \n",
        "\n",
        "# Python ≥3.5 is required\n",
        "import sys\n",
        "assert sys.version_info >= (3, 5)\n",
        "\n",
        "# import numpy\n",
        "import numpy as np\n",
        "import urllib.request  # for file downloading\n",
        "\n",
        "# Import pandas for data-frames\n",
        "import pandas as pd\n",
        "pd.options.display.max_rows = 15\n",
        "pd.options.display.float_format = \"{:,.2f}\".format\n",
        "\n",
        "from IPython.display import display\n",
        "\n",
        "# Make sure Matplotlib runs inline, for nice figures\n",
        "%matplotlib inline\n",
        "import matplotlib as mpl\n",
        "import matplotlib.pyplot as plt\n",
        "mpl.rc('axes', labelsize=14)\n",
        "mpl.rc('xtick', labelsize=12)\n",
        "mpl.rc('ytick', labelsize=12)\n",
        "import matplotlib.ticker as ticker \n",
        "\n",
        "# install Gurobi (our linear optimization solver)\n",
        "!pip install -i https://pypi.gurobi.com gurobipy\n",
        "from gurobipy import *\n",
        "\n",
        "# some modules to create local directories for CBC (to avoid issues with solving multiple models)\n",
        "import os\n",
        "def new_local_directory(name):\n",
        "    full_path = os.path.join(\".\", name)\n",
        "    os.makedirs(full_path, exist_ok=True)\n",
        "    return full_path\n",
        "\n",
        "# install the latest version of seaborn for nicer graphics\n",
        "#!pip install --prefix {sys.prefix} seaborn==0.11.0  &> /dev/null\n",
        "import seaborn as sns\n",
        "\n",
        "# Ignore useless some warnings\n",
        "import warnings\n",
        "warnings.simplefilter(action=\"ignore\")\n",
        "\n",
        "print(\"Completed successfully!\")"
      ],
      "execution_count": null,
      "outputs": [
        {
          "output_type": "stream",
          "text": [
            "Looking in indexes: https://pypi.gurobi.com\n",
            "Requirement already satisfied: gurobipy in /usr/local/lib/python3.7/dist-packages (9.1.1)\n",
            "Completed successfully!\n"
          ],
          "name": "stdout"
        }
      ]
    },
    {
      "cell_type": "markdown",
      "metadata": {
        "id": "Aqf-EBXAAgn1"
      },
      "source": [
        "## Load the case data into Pandas data frames"
      ]
    },
    {
      "cell_type": "markdown",
      "metadata": {
        "id": "17bUiOG3EYfu"
      },
      "source": [
        "We first download an Excel file with all the data from Github."
      ]
    },
    {
      "cell_type": "code",
      "metadata": {
        "colab": {
          "base_uri": "https://localhost:8080/"
        },
        "id": "oO9JJFpMEX8K",
        "outputId": "c7d7db27-ae23-439b-c256-035ea92603ab"
      },
      "source": [
        "#@markdown Download the entire data as an Excel file from Github\n",
        "\n",
        "url_Excel = 'https://github.com/dan-a-iancu/airm/blob/master/Project_Portfolio_Management/Project_Data.xlsx?raw=true'\n",
        "local_file = \"Portfolio_Project_Data.xlsx\"   # name of local file where you want to store the downloaded file\n",
        "urllib.request.urlretrieve(url_Excel, local_file)    # download from website and save it locally"
      ],
      "execution_count": null,
      "outputs": [
        {
          "output_type": "execute_result",
          "data": {
            "text/plain": [
              "('Portfolio_Project_Data.xlsx', <http.client.HTTPMessage at 0x7f8dc1b27510>)"
            ]
          },
          "metadata": {
            "tags": []
          },
          "execution_count": 2
        }
      ]
    },
    {
      "cell_type": "markdown",
      "metadata": {
        "id": "nb7NvPyuyoGh"
      },
      "source": [
        "Read in and store the data in suitable dataframes."
      ]
    },
    {
      "cell_type": "code",
      "metadata": {
        "colab": {
          "base_uri": "https://localhost:8080/",
          "height": 377
        },
        "id": "EUxSwrdEyJDs",
        "outputId": "23ab5bd3-eb3f-4e9f-da28-a74543800fb6"
      },
      "source": [
        "#@markdown Create a dataframe with the information on projects\r\n",
        "\r\n",
        "# Read in the information about the available projects\r\n",
        "projectData = pd.read_excel(\"Portfolio_Project_Data.xlsx\", sheet_name = \"Projects\", index_col = 0)\r\n",
        "\r\n",
        "# Have a look:\r\n",
        "display(projectData)\r\n"
      ],
      "execution_count": null,
      "outputs": [
        {
          "output_type": "display_data",
          "data": {
            "text/html": [
              "<div>\n",
              "<style scoped>\n",
              "    .dataframe tbody tr th:only-of-type {\n",
              "        vertical-align: middle;\n",
              "    }\n",
              "\n",
              "    .dataframe tbody tr th {\n",
              "        vertical-align: top;\n",
              "    }\n",
              "\n",
              "    .dataframe thead th {\n",
              "        text-align: right;\n",
              "    }\n",
              "</style>\n",
              "<table border=\"1\" class=\"dataframe\">\n",
              "  <thead>\n",
              "    <tr style=\"text-align: right;\">\n",
              "      <th></th>\n",
              "      <th>Capital_Required</th>\n",
              "      <th>Location</th>\n",
              "      <th>Impact</th>\n",
              "      <th>Risks</th>\n",
              "      <th>Engineers</th>\n",
              "      <th>Field_Workers</th>\n",
              "      <th>Support</th>\n",
              "    </tr>\n",
              "    <tr>\n",
              "      <th>Project</th>\n",
              "      <th></th>\n",
              "      <th></th>\n",
              "      <th></th>\n",
              "      <th></th>\n",
              "      <th></th>\n",
              "      <th></th>\n",
              "      <th></th>\n",
              "    </tr>\n",
              "  </thead>\n",
              "  <tbody>\n",
              "    <tr>\n",
              "      <th>A</th>\n",
              "      <td>4015</td>\n",
              "      <td>South America</td>\n",
              "      <td>10</td>\n",
              "      <td>10</td>\n",
              "      <td>15</td>\n",
              "      <td>80</td>\n",
              "      <td>15</td>\n",
              "    </tr>\n",
              "    <tr>\n",
              "      <th>B</th>\n",
              "      <td>3623</td>\n",
              "      <td>South America</td>\n",
              "      <td>7</td>\n",
              "      <td>10</td>\n",
              "      <td>5</td>\n",
              "      <td>35</td>\n",
              "      <td>15</td>\n",
              "    </tr>\n",
              "    <tr>\n",
              "      <th>C</th>\n",
              "      <td>3847</td>\n",
              "      <td>South America</td>\n",
              "      <td>4</td>\n",
              "      <td>7</td>\n",
              "      <td>10</td>\n",
              "      <td>30</td>\n",
              "      <td>10</td>\n",
              "    </tr>\n",
              "    <tr>\n",
              "      <th>D</th>\n",
              "      <td>4058</td>\n",
              "      <td>Asia</td>\n",
              "      <td>4</td>\n",
              "      <td>4</td>\n",
              "      <td>5</td>\n",
              "      <td>35</td>\n",
              "      <td>4</td>\n",
              "    </tr>\n",
              "    <tr>\n",
              "      <th>E</th>\n",
              "      <td>11182</td>\n",
              "      <td>Asia</td>\n",
              "      <td>10</td>\n",
              "      <td>7</td>\n",
              "      <td>10</td>\n",
              "      <td>50</td>\n",
              "      <td>5</td>\n",
              "    </tr>\n",
              "    <tr>\n",
              "      <th>F</th>\n",
              "      <td>4858</td>\n",
              "      <td>Asia</td>\n",
              "      <td>4</td>\n",
              "      <td>4</td>\n",
              "      <td>5</td>\n",
              "      <td>45</td>\n",
              "      <td>5</td>\n",
              "    </tr>\n",
              "    <tr>\n",
              "      <th>G</th>\n",
              "      <td>5379</td>\n",
              "      <td>Asia</td>\n",
              "      <td>4</td>\n",
              "      <td>4</td>\n",
              "      <td>5</td>\n",
              "      <td>40</td>\n",
              "      <td>5</td>\n",
              "    </tr>\n",
              "    <tr>\n",
              "      <th>H</th>\n",
              "      <td>16203</td>\n",
              "      <td>Africa</td>\n",
              "      <td>10</td>\n",
              "      <td>7</td>\n",
              "      <td>5</td>\n",
              "      <td>100</td>\n",
              "      <td>15</td>\n",
              "    </tr>\n",
              "    <tr>\n",
              "      <th>I</th>\n",
              "      <td>1839</td>\n",
              "      <td>Africa</td>\n",
              "      <td>1</td>\n",
              "      <td>4</td>\n",
              "      <td>2</td>\n",
              "      <td>70</td>\n",
              "      <td>10</td>\n",
              "    </tr>\n",
              "    <tr>\n",
              "      <th>J</th>\n",
              "      <td>8298</td>\n",
              "      <td>Africa</td>\n",
              "      <td>4</td>\n",
              "      <td>1</td>\n",
              "      <td>3</td>\n",
              "      <td>40</td>\n",
              "      <td>5</td>\n",
              "    </tr>\n",
              "  </tbody>\n",
              "</table>\n",
              "</div>"
            ],
            "text/plain": [
              "         Capital_Required       Location  ...  Field_Workers  Support\n",
              "Project                                   ...                        \n",
              "A                    4015  South America  ...             80       15\n",
              "B                    3623  South America  ...             35       15\n",
              "C                    3847  South America  ...             30       10\n",
              "D                    4058           Asia  ...             35        4\n",
              "E                   11182           Asia  ...             50        5\n",
              "F                    4858           Asia  ...             45        5\n",
              "G                    5379           Asia  ...             40        5\n",
              "H                   16203         Africa  ...            100       15\n",
              "I                    1839         Africa  ...             70       10\n",
              "J                    8298         Africa  ...             40        5\n",
              "\n",
              "[10 rows x 7 columns]"
            ]
          },
          "metadata": {
            "tags": []
          }
        }
      ]
    },
    {
      "cell_type": "code",
      "metadata": {
        "colab": {
          "base_uri": "https://localhost:8080/",
          "height": 137
        },
        "id": "kXWS_YKrSl05",
        "outputId": "33d9ab53-aceb-4401-9665-72c1e901a368"
      },
      "source": [
        "#@markdown Create a dataframe with the information on available resources (this is useful in **Q5**)\r\n",
        "\r\n",
        "# Read in the information about the available projects\r\n",
        "resourceData = pd.read_excel(\"Portfolio_Project_Data.xlsx\", sheet_name = \"Resources\", index_col = 0)\r\n",
        "\r\n",
        "# Have a look:\r\n",
        "display(resourceData)"
      ],
      "execution_count": null,
      "outputs": [
        {
          "output_type": "display_data",
          "data": {
            "text/html": [
              "<div>\n",
              "<style scoped>\n",
              "    .dataframe tbody tr th:only-of-type {\n",
              "        vertical-align: middle;\n",
              "    }\n",
              "\n",
              "    .dataframe tbody tr th {\n",
              "        vertical-align: top;\n",
              "    }\n",
              "\n",
              "    .dataframe thead th {\n",
              "        text-align: right;\n",
              "    }\n",
              "</style>\n",
              "<table border=\"1\" class=\"dataframe\">\n",
              "  <thead>\n",
              "    <tr style=\"text-align: right;\">\n",
              "      <th></th>\n",
              "      <th>January-March</th>\n",
              "      <th>April-June</th>\n",
              "      <th>July-September</th>\n",
              "      <th>October-December</th>\n",
              "    </tr>\n",
              "  </thead>\n",
              "  <tbody>\n",
              "    <tr>\n",
              "      <th>Engineers</th>\n",
              "      <td>20</td>\n",
              "      <td>20</td>\n",
              "      <td>12</td>\n",
              "      <td>20</td>\n",
              "    </tr>\n",
              "    <tr>\n",
              "      <th>Field_Workers</th>\n",
              "      <td>120</td>\n",
              "      <td>150</td>\n",
              "      <td>150</td>\n",
              "      <td>120</td>\n",
              "    </tr>\n",
              "    <tr>\n",
              "      <th>Support</th>\n",
              "      <td>50</td>\n",
              "      <td>40</td>\n",
              "      <td>40</td>\n",
              "      <td>50</td>\n",
              "    </tr>\n",
              "  </tbody>\n",
              "</table>\n",
              "</div>"
            ],
            "text/plain": [
              "               January-March  April-June  July-September  October-December\n",
              "Engineers                 20          20              12                20\n",
              "Field_Workers            120         150             150               120\n",
              "Support                   50          40              40                50"
            ]
          },
          "metadata": {
            "tags": []
          }
        }
      ]
    },
    {
      "cell_type": "markdown",
      "metadata": {
        "id": "XRdz0phvd9Z1"
      },
      "source": [
        "Also set up any other problem data/parameters, such as the initial capital available."
      ]
    },
    {
      "cell_type": "code",
      "metadata": {
        "id": "Tx8pnOVOd6_u"
      },
      "source": [
        "initialCapital = 25000"
      ],
      "execution_count": null,
      "outputs": []
    },
    {
      "cell_type": "markdown",
      "metadata": {
        "id": "8yhR3xIVyJ13"
      },
      "source": [
        "## Create Python lists based on the data-frames\r\n",
        "\r\n",
        "__NOTE__: Make sure you understand what the __lists__ created here are! These will be very helpful when creating the model."
      ]
    },
    {
      "cell_type": "code",
      "metadata": {
        "id": "oi5sktA8j3PF",
        "colab": {
          "base_uri": "https://localhost:8080/"
        },
        "outputId": "43aeec45-0790-4615-d477-693954f998b7"
      },
      "source": [
        "#@markdown Some useful lists for building all the models\n",
        "\n",
        "# the list with project names (A,B, ...)\n",
        "allProjects = list(projectData.index)\n",
        "print(\"This is the list of all the project names:\")\n",
        "print(allProjects)\n",
        "\n",
        "# the unique locations / continents\n",
        "allLocations = list(projectData[\"Location\"].unique())\n",
        "print(\"\\nThis is the list of unique locations:\")\n",
        "print(allLocations)"
      ],
      "execution_count": null,
      "outputs": [
        {
          "output_type": "stream",
          "text": [
            "This is the list of all the project names:\n",
            "['A', 'B', 'C', 'D', 'E', 'F', 'G', 'H', 'I', 'J']\n",
            "\n",
            "This is the list of unique locations:\n",
            "['South America', 'Asia', 'Africa']\n"
          ],
          "name": "stdout"
        }
      ]
    },
    {
      "cell_type": "code",
      "metadata": {
        "colab": {
          "base_uri": "https://localhost:8080/"
        },
        "id": "FP9z_8hAS25M",
        "outputId": "b65aa55c-131f-4bbf-dc50-cc13c672a666"
      },
      "source": [
        "#@markdown The following lists will be useful in **Q5**\r\n",
        "\r\n",
        "# the list with periods when the projects could be scheduled\r\n",
        "allPeriods = list(resourceData.columns)\r\n",
        "print(\"These are periods when the projects could be scheduled:\")\r\n",
        "print(allPeriods)\r\n",
        "\r\n",
        "# the types of resources needed\r\n",
        "allResources = list(resourceData.index)\r\n",
        "print(\"\\nThese are the unique resources needed to execute the projects:\")\r\n",
        "print(allResources)"
      ],
      "execution_count": null,
      "outputs": [
        {
          "output_type": "stream",
          "text": [
            "These are periods when the projects could be scheduled:\n",
            "['January-March', 'April-June', 'July-September', 'October-December']\n",
            "\n",
            "These are the unique resources needed to execute the projects:\n",
            "['Engineers', 'Field_Workers', 'Support']\n"
          ],
          "name": "stdout"
        }
      ]
    },
    {
      "cell_type": "markdown",
      "metadata": {
        "id": "ZZVNUzIEtYwJ"
      },
      "source": [
        "**Q1**"
      ]
    },
    {
      "cell_type": "code",
      "metadata": {
        "id": "19TAA2O5tZsi"
      },
      "source": [
        ""
      ],
      "execution_count": null,
      "outputs": []
    }
  ]
}